{
 "cells": [
  {
   "cell_type": "code",
   "execution_count": 3,
   "metadata": {},
   "outputs": [],
   "source": [
    "questions = [\n",
    "    'Pizza necə hazırlanır?',\n",
    "    'Sağlam qalmağın yolları nələrdir?',\n",
    "    'Kitab oxumağın faydaları nələrdir?',\n",
    "    'Vaxtını effektiv idarə etmək üçün nə etmək lazımdır?',\n",
    "    'Yaxşı fotoşəkil çəkmək üçün nələrə diqqət etmək lazımdır?',\n",
    "    'Stressi azaltmaq üçün nə etmək olar?',\n",
    "    'Yaddaşı gücləndirmək üçün hansı tədbirlər görülməlidir?',\n",
    "    'Evdə enerji qənaəti necə edilə bilər?',\n",
    "    'Rəqəmsal əsərlərin hüquqi müdafiəsi necə təmin edilə bilər?',\n",
    "    'Dünyanın ən qədim şəhərləri hansılardır və onların tarixi nədir?',\n",
    "    'Ən məşhur İtalyan yeməkləri hansılardır?',\n",
    "    'İdeal bir səhər rutini necə olmalıdır?',\n",
    "    'Evdəki hava keyfiyyətini yaxşılaşdırmaq üçün nə etmək olar?',\n",
    "    'Uşaqlarda oxumağa marağı necə artırmaq olar?',\n",
    "    'Qlobal istiləşmə ilə mübarizə üçün hansı addımlar atıla bilər?',\n",
    "    'Zehni sağlamlıq üçün hansı fəaliyyətlər tövsiyə edilir?',\n",
    "    'İdmanın fərdi sağlamlığa faydaları nələrdir?',\n",
    "    'əmizləmə məhsulları seçərkən nələrə diqqət etmək lazımdır?',\n",
    "    'ğurlu bir müsahibə üçün hansı hazırlıqlar edilməlidir?',\n",
    "    'Qısa müddətdə yeni bir dil öyrənməyin ən effektiv yolları nələrdir?',\n",
    "    'İş və şəxsi həyat arasında balans necə saxlanılmalıdır?',\n",
    "    'Sağlam bir qidalanma planı necə hazırlanmalıdır?',\n",
    "    'Şəhər mühitində yaşayarkən stressi azaltmaq üçün nə edilə bilər?',\n",
    "    'Yaxşı bir liderin xüsusiyyətləri nələrdir?',\n",
    "    'Qəhvənin insan sağlamlığına təsiri nədir?',\n",
    "    'İnternetdə təhlükəsizlik necə təmin edilə bilər?',\n",
    "    'Dünya ətrafında səyahət etmək üçün ən yaxşı vaxt nə vaxtdır?',\n",
    "    'Yerli məhsulları dəstəkləməyin əhəmiyyəti nədir?',\n",
    "    'Bitkilərin evdə yetişdirilməsinin faydaları nələrdir?',\n",
    "    'Qarşılıqlı hörmətli əlaqələr qurmaq üçün nə etmək lazımdır?',\n",
    "    'İnkişaf etmiş ölkələrdə təhsil sisteminin xüsusiyyətləri nələrdir?',\n",
    "    'Effektiv zaman idarəetmə üçün hansı tətbiqlər istifadə edilə bilər?',\n",
    "    'Kompüter oyunlarının uşaqlar üzərindəki təsiri nədir?',\n",
    "    'Fərdi inkişaf üçün ən yaxşı kitablar hansılardır?',\n",
    "    'İş yerində motivasiyanı artırmaq üçün nə etmək lazımdır?',\n",
    "    'İqlim dəyişikliyi ilə mübarizədə fərdi rol nədir?',\n",
    "    'Şəxsi maliyyəni idarə etmənin ən yaxşı yolları hansılardır?',\n",
    "    'Sağlam bir cəmiyyət qurmaq üçün hansı addımlar atılmalıdır?',\n",
    "    'Müasir texnologiyaların təhsilə təsiri nədir?',\n",
    "    'Qarışıq mədəniyyətlərdə yaşamaq üçün nə bilmək lazımdır?',\n",
    "    'Təbiətlə vaxt keçirməyin sağlamlığa faydaları nələrdir?',\n",
    "    'Yüksək performanslı komandalar yaratmaq üçün nə etmək lazımdır?',\n",
    "    'Vegan qidalanma nədir və faydaları nələrdir?',\n",
    "    'Enerji qənaətli texnologiyalar hansılardır?',\n",
    "    'Karyera dəyişikliyi üçün ən yaxşı strategiyalar nələrdir?',\n",
    "    'Qlobal mədəniyyətlər arasında dialoq necə qurulur?',\n",
    "    'Sosial media marketinginin biznesə təsiri nədir?',\n",
    "    'Yaradıcılığı artırmaq üçün hansı üsullar var?',\n",
    "    'Uzunmüddətli məqsədlərə necə nail olmaq olar?',\n",
    "    'Elektron ticarətin gələcəyi necə görünür?',\n",
    "    'Su istifadəsini optimallaşdırmaq üçün nə etmək lazımdır?',\n",
    "    'Dünyanın ən populyar musiqi janrları hansılardır?',\n",
    "    'Yeni mədəniyyətləri öyrənməyin faydaları nələrdir?',\n",
    "    'Fərdi sağlamlığa ən böyük təhdid nədir?',\n",
    "    'Qida israfını azaltmaq üçün nə etmək lazımdır?',\n",
    "    'Gənclər arasında liderlik bacarıqlarını inkişaf etdirmək üçün nə edilə bilər?',\n",
    "    'Sosial şəbəkələrdə təhlükəsizlik necə təmin edilə bilər?',\n",
    "    'Məktəblərdə sağlam qidalanma təşviqinin əhəmiyyəti nədir?',\n",
    "    'Dünya səyahəti planlaşdırarkən nələrə diqqət etmək lazımdır?',\n",
    "    'İşgüzar danışıqlarda uğur qazanmaq üçün əsas qaydalar nələrdir?',\n",
    "    'Ən effektiv stress idarəetmə texnikaları hansılardır?',\n",
    "    'Müasir şəhərləşmənin ekoloji problemlərə təsiri nədir?',\n",
    "    'Kompüter viruslarından qorunmaq üçün nə etmək lazımdır?',\n",
    "    'Uzun müddətli motivasiyanı necə qorumaq olar?',\n",
    "    'Daxili dizaynda ən yeni trendlər hansılardır?',\n",
    "    'Uşaqlarda məsuliyyət hissini necə inkişaf etdirmək olar?',\n",
    "    'Fiziki aktivlik olmadan sağlamlığı necə qorumaq olar?',\n",
    "    'Dünya ədəbiyyatında ən təsirli əsərlər hansılardır?',\n",
    "    'Elektrik avtomobillərinin gələcəyi necə görünür?',\n",
    "    'Günlük rutində meditasiyanı necə inteqrasiya etmək olar?',\n",
    "    'İş yerində konfliktləri həll etməyin ən yaxşı yolları hansılardır?',\n",
    "    'Qida alerjilərini necə idarə etmək olar?',\n",
    "    'İnternetdə şəxsi məlumatların qorunması üçün ən yaxşı praktikalar nələrdir?',\n",
    "    'Rəqəmsal marketinqin kiçik bizneslər üçün faydaları nələrdir?',\n",
    "    'Uşaqlar üçün ən yaxşı təhsil metodları hansılardır?',\n",
    "    'Avtomobil texnologiyalarındakı son yeniliklər nələrdir?',\n",
    "    'Müxtəlif mədəniyyətlərdə bayram ənənələri nələrdən ibarətdir?',\n",
    "    'Fərdi maliyyə planlaşdırmasında vacib elementlər nələrdir?',\n",
    "    'Ən yaxşı vaxt idarəetmə alətləri hansılardır?',\n",
    "    'Qlobal iqtisadiyyatda ən çox təsir göstərən faktorlar hansılardır?',\n",
    "    'Sosial şəbəkələrdə məşhurlaşmaq üçün strategiyalar nələrdir?',\n",
    "    'Səyahət zamanı sağlamlığı qorumaq üçün ən yaxşı tövsiyələr nələrdir?',\n",
    "    'Məktəbdən kənar təhsilin əhəmiyyəti nədir?',\n",
    "    'Daxili motivasiya necə inkişaf etdirilə bilər?',\n",
    "    'Qlobal səhiyyə problemləri və onların həlli yolları nələrdir?',\n",
    "    'Kitab oxumağın psixoloji sağlamlığa təsirləri nələrdir?',\n",
    "    'Ən populyar musiqi alətləri hansılardır və necə oynanılır?',\n",
    "    'Yeni başlayanlar üçün fotoqrafiya öyrənmək üçün nələrə diqqət etmək lazımdır?',\n",
    "    'Ən effektiv öyrənmə taktikaları hansılardır?',\n",
    "    'Təbiəti qorumaq üçün fərdi tədbirlər nələr ola bilər?',\n",
    "    'Uşaqlar üçün texnologiya təhsilinin faydaları nələrdir?',\n",
    "    'Karyera dəyişikliyi zamanı nəzərə alınmalı əsas məqamlar nələrdir?',\n",
    "    'İşgüzar danışıqlarda psixoloji üstünlük qazanmaq üçün yollar nələrdir?',\n",
    "    'Ekoloji təmiz məhsulların istehsalı necə artırıla bilər?',\n",
    "    'Rəqəmsal sənədləşdirmənin iş mühitindəki önəmi nədir?',\n",
    "    'Müasir incəsənət nümunələrinin cəmiyyətə təsiri nələrdir?',\n",
    "    'Sağlam qidalanmaq üçün ən yaxşı mətbəx alətləri hansılardır?',\n",
    "    'Gələcək texnologiyaların ictimai həyatımıza təsirləri nələr ola bilər?',\n",
    "    'Saatların tarixi və onların inkişafı necə olub?',\n",
    "    'Yeni biznes qurmaq üçün nəzərə alınmalı risklər nələrdir?',\n",
    "]"
   ]
  },
  {
   "cell_type": "code",
   "execution_count": 2,
   "metadata": {},
   "outputs": [
    {
     "data": {
      "text/plain": [
       "100"
      ]
     },
     "execution_count": 2,
     "metadata": {},
     "output_type": "execute_result"
    }
   ],
   "source": [
    "len(questions)"
   ]
  },
  {
   "cell_type": "code",
   "execution_count": 1,
   "metadata": {},
   "outputs": [
    {
     "ename": "NameError",
     "evalue": "name '__file__' is not defined",
     "output_type": "error",
     "traceback": [
      "\u001b[0;31m---------------------------------------------------------------------------\u001b[0m",
      "\u001b[0;31mNameError\u001b[0m                                 Traceback (most recent call last)",
      "Cell \u001b[0;32mIn[1], line 4\u001b[0m\n\u001b[1;32m      1\u001b[0m \u001b[38;5;28;01mimport\u001b[39;00m \u001b[38;5;21;01msys\u001b[39;00m\n\u001b[1;32m      2\u001b[0m \u001b[38;5;28;01mfrom\u001b[39;00m \u001b[38;5;21;01mpathlib\u001b[39;00m \u001b[38;5;28;01mimport\u001b[39;00m Path\n\u001b[0;32m----> 4\u001b[0m sys\u001b[38;5;241m.\u001b[39mpath\u001b[38;5;241m.\u001b[39mappend(\u001b[38;5;28mstr\u001b[39m(Path(\u001b[38;5;18;43m__file__\u001b[39;49m)\u001b[38;5;241m.\u001b[39mresolve()\u001b[38;5;241m.\u001b[39mparent\u001b[38;5;241m.\u001b[39mparent))\n\u001b[1;32m      6\u001b[0m \u001b[38;5;28;01mimport\u001b[39;00m \u001b[38;5;21;01mopenlm\u001b[39;00m\n\u001b[1;32m      7\u001b[0m \u001b[38;5;28;01mimport\u001b[39;00m \u001b[38;5;21;01mjson\u001b[39;00m\n",
      "\u001b[0;31mNameError\u001b[0m: name '__file__' is not defined"
     ]
    }
   ],
   "source": [
    "import sys\n",
    "from pathlib import Path\n",
    "\n",
    "sys.path.append(str(Path(__file__).resolve().parent.parent))\n",
    "\n",
    "import openlm\n",
    "import json\n",
    "\n",
    "completion = openlm.Completion.create(\n",
    "    model=[\"ada\", \"distilgpt2\", \"huggingface.co/\"], \n",
    "    prompt=\"Hello world\",\n",
    "    api_keys={\n",
    "        'huggingface.co': '', # or os.environ\n",
    "        # 'cohere.ai': 'YOUR_API_KEY', # or os.environ[\"COHERE_API_KEY\"]\n",
    "        'openai.com': '' # or os.environ[\"OPENAI_API_KEY\"]\n",
    "    },\n",
    ")\n",
    "\n",
    "print(json.dumps(completion, indent=4))"
   ]
  },
  {
   "cell_type": "code",
   "execution_count": 14,
   "metadata": {},
   "outputs": [
    {
     "ename": "NameError",
     "evalue": "name '__file__' is not defined",
     "output_type": "error",
     "traceback": [
      "\u001b[0;31m---------------------------------------------------------------------------\u001b[0m",
      "\u001b[0;31mNameError\u001b[0m                                 Traceback (most recent call last)",
      "Cell \u001b[0;32mIn[14], line 4\u001b[0m\n\u001b[1;32m      1\u001b[0m \u001b[38;5;28;01mimport\u001b[39;00m \u001b[38;5;21;01msys\u001b[39;00m\n\u001b[1;32m      2\u001b[0m \u001b[38;5;28;01mfrom\u001b[39;00m \u001b[38;5;21;01mpathlib\u001b[39;00m \u001b[38;5;28;01mimport\u001b[39;00m Path\n\u001b[0;32m----> 4\u001b[0m sys\u001b[38;5;241m.\u001b[39mpath\u001b[38;5;241m.\u001b[39mappend(\u001b[38;5;28mstr\u001b[39m(Path(\u001b[38;5;18;43m__file__\u001b[39;49m)\u001b[38;5;241m.\u001b[39mresolve()\u001b[38;5;241m.\u001b[39mparent\u001b[38;5;241m.\u001b[39mparent))\n\u001b[1;32m      6\u001b[0m \u001b[38;5;28;01mimport\u001b[39;00m \u001b[38;5;21;01mopenlm\u001b[39;00m\n\u001b[1;32m      7\u001b[0m \u001b[38;5;28;01mimport\u001b[39;00m \u001b[38;5;21;01mjson\u001b[39;00m\n",
      "\u001b[0;31mNameError\u001b[0m: name '__file__' is not defined"
     ]
    }
   ],
   "source": [
    "import sys\n",
    "from pathlib import Path\n",
    "\n",
    "sys.path.append(str(Path(__file__).resolve().parent.parent))\n",
    "\n",
    "import openlm\n",
    "import json\n",
    "\n",
    "completion = openlm.Completion.create(\n",
    "    model=[\"distilgpt2\"], \n",
    "    prompt=\"Hello world\",\n",
    "    api_keys={\n",
    "        'huggingface.co': '', # or os.environ[\"HF_API_TOKEN\"]\n",
    "        # 'cohere.ai': 'YOUR_API_KEY', # or os.environ[\"COHERE_API_KEY\"]\n",
    "        'openai.com': '' # or os.environ[\"OPENAI_API_KEY\"]\n",
    "    },\n",
    ")\n",
    "\n",
    "print(json.dumps(completion, indent=4))"
   ]
  },
  {
   "cell_type": "code",
   "execution_count": 39,
   "metadata": {},
   "outputs": [],
   "source": [
    "from openai import OpenAI\n",
    "\n",
    "YOUR_API_KEY = \"\"\n",
    "\n",
    "client = OpenAI(api_key=YOUR_API_KEY, base_url=\"https://api.perplexity.ai\")"
   ]
  },
  {
   "cell_type": "code",
   "execution_count": null,
   "metadata": {},
   "outputs": [],
   "source": [
    "# llama-3-8b-instruct DONE\n",
    "# llama-3-70b-instruct DONE\n",
    "# mistral-7b-instruct DONE\n",
    "# mixtral-8x7b-instruct D\n",
    "# mixtral-8x22b-instruct\n",
    "# gemma 7b done\n"
   ]
  },
  {
   "cell_type": "code",
   "execution_count": 67,
   "metadata": {},
   "outputs": [
    {
     "data": {
      "text/html": [
       "<div>\n",
       "<style scoped>\n",
       "    .dataframe tbody tr th:only-of-type {\n",
       "        vertical-align: middle;\n",
       "    }\n",
       "\n",
       "    .dataframe tbody tr th {\n",
       "        vertical-align: top;\n",
       "    }\n",
       "\n",
       "    .dataframe thead th {\n",
       "        text-align: right;\n",
       "    }\n",
       "</style>\n",
       "<table border=\"1\" class=\"dataframe\">\n",
       "  <thead>\n",
       "    <tr style=\"text-align: right;\">\n",
       "      <th></th>\n",
       "      <th>prompt</th>\n",
       "      <th>mistral-7b-instruct</th>\n",
       "      <th>llama-3-8b-instruct</th>\n",
       "      <th>mixtral-8x7b-instruct</th>\n",
       "      <th>mixtral-8x22b-instruct</th>\n",
       "    </tr>\n",
       "  </thead>\n",
       "  <tbody>\n",
       "    <tr>\n",
       "      <th>0</th>\n",
       "      <td>Pizza necə hazırlanır?</td>\n",
       "      <td>Seni çözdüm, aşağıdaki yönerləmələr dəyərlidir...</td>\n",
       "      <td>Sevimli pizzanı hazırlamaq üçün, ilk növbədə, ...</td>\n",
       "      <td>Pizza, peşəkar tarzda hazırlanmaqla, pizza pət...</td>\n",
       "      <td>Pizza hazırlamaq üçün əsas şərtlər var: qovurm...</td>\n",
       "    </tr>\n",
       "    <tr>\n",
       "      <th>1</th>\n",
       "      <td>Sağlam qalmağın yolları nələrdir?</td>\n",
       "      <td>Xoş gəlmisiniz! Sağlam qalmaq için önemli olma...</td>\n",
       "      <td>Sağlam qalmağın yolları çox vaxt fiziki fəaliy...</td>\n",
       "      <td>Məsali, sağlam qalmağın yollarıdır:\\n\\n1. Daha...</td>\n",
       "      <td>Xeber, sağlam qalmaq üçün ən əhəmiyyətli növbə...</td>\n",
       "    </tr>\n",
       "    <tr>\n",
       "      <th>2</th>\n",
       "      <td>Kitab oxumağın faydaları nələrdir?</td>\n",
       "      <td>Sen Kitab oxumağın faydaları haqqında sorduğun...</td>\n",
       "      <td>Kitab oxumağın çoxsaylı faydaları var. Birinci...</td>\n",
       "      <td>Xeyr, mən sizin sualınızı təşkil edə bilmirdim...</td>\n",
       "      <td>Kitab oxumağın faydaları çox sayıdır. Bu, düşü...</td>\n",
       "    </tr>\n",
       "    <tr>\n",
       "      <th>3</th>\n",
       "      <td>Vaxtını effektiv idarə etmək üçün nə etmək laz...</td>\n",
       "      <td>Senin vaxtını effektif bir şekilde idare etmək...</td>\n",
       "      <td>Vaxtını effektiv idarə etmək üçün bir neçə str...</td>\n",
       "      <td>Zəhmet olmasa, vaxtını idarə etmək üçün aşağıd...</td>\n",
       "      <td>Zamanınızı effektiv idarə etmək üçün, öncələn ...</td>\n",
       "    </tr>\n",
       "    <tr>\n",
       "      <th>4</th>\n",
       "      <td>Yaxşı fotoşəkil çəkmək üçün nələrə diqqət etmə...</td>\n",
       "      <td>Xoş gelmisiniz! Bu sorunun cəvdələxi üçün aşağ...</td>\n",
       "      <td>Yaxşı fotoşəkil çəkmək üçün bir neçə faktor di...</td>\n",
       "      <td>Məsələn, fotoşəklin qüdrələndirilməsi, kompozi...</td>\n",
       "      <td>Xoş gəlmisiniz! Fotoşəkil çəkmək üçün daha yax...</td>\n",
       "    </tr>\n",
       "  </tbody>\n",
       "</table>\n",
       "</div>"
      ],
      "text/plain": [
       "                                              prompt  \\\n",
       "0                             Pizza necə hazırlanır?   \n",
       "1                  Sağlam qalmağın yolları nələrdir?   \n",
       "2                 Kitab oxumağın faydaları nələrdir?   \n",
       "3  Vaxtını effektiv idarə etmək üçün nə etmək laz...   \n",
       "4  Yaxşı fotoşəkil çəkmək üçün nələrə diqqət etmə...   \n",
       "\n",
       "                                 mistral-7b-instruct  \\\n",
       "0  Seni çözdüm, aşağıdaki yönerləmələr dəyərlidir...   \n",
       "1  Xoş gəlmisiniz! Sağlam qalmaq için önemli olma...   \n",
       "2  Sen Kitab oxumağın faydaları haqqında sorduğun...   \n",
       "3  Senin vaxtını effektif bir şekilde idare etmək...   \n",
       "4  Xoş gelmisiniz! Bu sorunun cəvdələxi üçün aşağ...   \n",
       "\n",
       "                                 llama-3-8b-instruct  \\\n",
       "0  Sevimli pizzanı hazırlamaq üçün, ilk növbədə, ...   \n",
       "1  Sağlam qalmağın yolları çox vaxt fiziki fəaliy...   \n",
       "2  Kitab oxumağın çoxsaylı faydaları var. Birinci...   \n",
       "3  Vaxtını effektiv idarə etmək üçün bir neçə str...   \n",
       "4  Yaxşı fotoşəkil çəkmək üçün bir neçə faktor di...   \n",
       "\n",
       "                               mixtral-8x7b-instruct  \\\n",
       "0  Pizza, peşəkar tarzda hazırlanmaqla, pizza pət...   \n",
       "1  Məsali, sağlam qalmağın yollarıdır:\\n\\n1. Daha...   \n",
       "2  Xeyr, mən sizin sualınızı təşkil edə bilmirdim...   \n",
       "3  Zəhmet olmasa, vaxtını idarə etmək üçün aşağıd...   \n",
       "4  Məsələn, fotoşəklin qüdrələndirilməsi, kompozi...   \n",
       "\n",
       "                              mixtral-8x22b-instruct  \n",
       "0  Pizza hazırlamaq üçün əsas şərtlər var: qovurm...  \n",
       "1  Xeber, sağlam qalmaq üçün ən əhəmiyyətli növbə...  \n",
       "2  Kitab oxumağın faydaları çox sayıdır. Bu, düşü...  \n",
       "3  Zamanınızı effektiv idarə etmək üçün, öncələn ...  \n",
       "4  Xoş gəlmisiniz! Fotoşəkil çəkmək üçün daha yax...  "
      ]
     },
     "execution_count": 67,
     "metadata": {},
     "output_type": "execute_result"
    }
   ],
   "source": [
    "df.head()"
   ]
  },
  {
   "cell_type": "code",
   "execution_count": null,
   "metadata": {},
   "outputs": [],
   "source": [
    "df"
   ]
  },
  {
   "cell_type": "code",
   "execution_count": 73,
   "metadata": {},
   "outputs": [
    {
     "name": "stderr",
     "output_type": "stream",
     "text": [
      "  2%|▎         | 1/40 [00:11<07:24, 11.41s/it]"
     ]
    },
    {
     "name": "stdout",
     "output_type": "stream",
     "text": [
      "Xahiş edirəm, bu məsələyə aid olaraq, stressi idarə etmək üçün ən effektiv texnikaların şunları saymaq olar bilər:\n",
      "\n",
      "1. Fiziki aktivitətlər: Spor, yüzmək, koşma və ya səhlərə qoşulmaq stressi azaltmaq üçün müxtəlif fiziki aktivitələrə qoşulmaq mümkündür.\n",
      "2. Dərimsizlik: Dərimsizlik, stressi azaltmaq üçün müxtəlif yollardan biri olabilir. Bu, meditasiya, yuxu yerləşdirmə və ya dərimsizlik tədrisindən istifadə etmək mənasına gəlir.\n",
      "3. Sağlam gədəm: Sağlam gədəm, stressi idarə etmək üçün ən önəmlidir. Bu, gündə yeterli uyutmaq, sağlam yemək və alkol və ya qahve istifadəsinin azalmasına imkan verə bilər.\n",
      "4. Dostlarla zaman atmaq: Dostlarla zaman atmaq, stressi azaltmaq üçün müxtəlif yollardan biri olabilir. Bu, dostlarla söhbət etmək, birlikdə səhlərə qoşulmaq və ya birlikdə film izləmək mənasına gəlir.\n",
      "5. Müzik dinləmək: Müzik dinləmək stressi azaltmaq üçün müxtəlif yollardan biri olabilir. Bu, sizin sevdiyiniz müzik dinləmək, ya da yeni müzik tələblərini keşf etmək mənasına gəlir.\n",
      "6. Yeni fəaliyyətlərə başlamaq: Yeni fəaliyyətlərə başlamaq, stressi azaltmaq üçün müxtəlif yollardan biri olabilir. Bu, yeni kitablar oxumaq, yeni dillər öyrənmək və ya yeni səhlərə qoşulmaq mənasına gəlir.\n",
      "\n",
      "Bu texnikaların bir ya da birkaçının istifadə edilməsi, stressi idarə etmək üçün mümkündür.\n"
     ]
    },
    {
     "name": "stderr",
     "output_type": "stream",
     "text": [
      "  5%|▌         | 2/40 [00:21<06:47, 10.73s/it]"
     ]
    },
    {
     "name": "stdout",
     "output_type": "stream",
     "text": [
      "Müasir şəhərləşmənin ekoloji problemlərə təsiri çox ciddi ola bilər. Bu problemlər arasında hava kirliliyi, su kirliliyi, topraq kirliliyi, çevre qarışıqlığı, bitki və hayvanların sona çatması, çevre sıcaklanması və digər çevre məsələləri sayılır.\n",
      "\n",
      "Müasir şəhərləşmə prosesi sırasında, insanlar çox sayda mühitə zərər verən faaliyyətlər həyata keçirir. Ölkələrə yeni təmirat və inşaatlar yaradılır, yeni məhsullar üretilir, yeni mühitə zərər verən məqsədlərə malik olunur. Bu süreçdə, çox sayda məhsul və materiallar istifadə edilir, bu da çox sayda atıq və zərərli maddələrə nəticə olur.\n",
      "\n",
      "Bu atıqlar və zərərli maddələr hava, su və topraqı kirləndirir. Bu da hava kirliliyi, su kirliliyi və topraq kirliliyini artırır. Bu problemlər çevre qarışıqlığını da artırır, çünki çox sayda bitki və hayvanların sona çatmasına nəticə olur.\n",
      "\n",
      "Müasir şəhərləşmə prosesi sırasında, insanlar çox sayda enerji istifadə edirlər. Bu enerji çoğunluğu nöqtədən nöqtəyə keçirilən qaz, qar və digər zərərli maddələrdən alınır. Bu da çevre sıcaklanmasına nəticə olur.\n",
      "\n",
      "Bu problemlər çox ciddi ola bilər və insanların yaşamağa imkanını qaldırmaq mümkündür. Bu səbəbdən, müasir şəhərləşmə prosesi sırasında, insanlar çevre üçün daha ədalətli və daha yaxşı bir yanaşma tələb edirlər.\n"
     ]
    },
    {
     "name": "stderr",
     "output_type": "stream",
     "text": [
      "  8%|▊         | 3/40 [00:34<07:19, 11.89s/it]"
     ]
    },
    {
     "name": "stdout",
     "output_type": "stream",
     "text": [
      "Müəmmalə, kompüter viruslarından qorunmaq üçün əvvəlcədən bir neçə əməliyyat edə bilərsiniz:\n",
      "\n",
      "1. Antivirus proqramı yükləyin: Antivirus proqramı kompüterinizdəki viruslara qarşı müdafiə qurmaq üçün ən əhəmiyyətli adımdır. Bu proqramlar, kompüterinizdəki faylları təhlükəsizliklə təmin edərək, onları viruslardan qoruyur.\n",
      "\n",
      "2. Güncəllər yükləyin: Kompüterinizdəki proqramların və işləticinin son versiyalarını yükləyin. Bu, kompüterinizdəki güclükliklərə qarşı müdafiə qurmaq üçün əhəmiyyətli olan əməliyyatdır.\n",
      "\n",
      "3. İstifadəçi hesabınızın hüquqlarını limitləşdirin: Kompüterinizdə ən az hüquqlu istifadəçi hesabından istifadə edin. Bu, kompüterinizdəki faylları dəyişmək və ya silmək üçün ən az hüquqlı istifadəçi hesabından istifadə edərək, kompüterinizdəki faylların təhlükəsizliyini təmin edə bilərsiniz.\n",
      "\n",
      "4. Əməliyyatlara əmin olun: Kompüterinizdə əməliyyatlarınızın təhlükəsizliyini təmin edə biləcəyiniz şəkildə yerinə yetirin. Ölkələrə görə fərqliliklər olmaqla birlikdə, kompüterinizdə əməliyyatlarınızın təhlükəsizliyini təmin edə biləcəyiniz şəkildə yerinə yetirə bilərsiniz.\n",
      "\n",
      "5. İnternet istifadəsində dikkatli olun: İnternet istifadəsində dikkatli olun və təhlükəsizliklə əməliyyatlarınızı yerinə yetirin. Ölkələrə görə fərqliliklər olmaqla birlikdə, İnternet istifadəsində dikkatli olaraq əməliyyatlarınızı yerinə yetirə bilərsiniz.\n",
      "\n",
      "Bu əməliyyatları yerinə yetirərək, kompüterinizdəki faylların təhlükəsizliyini təmin edə bilərsiniz.\n"
     ]
    },
    {
     "name": "stderr",
     "output_type": "stream",
     "text": [
      " 10%|█         | 4/40 [00:48<07:36, 12.69s/it]"
     ]
    },
    {
     "name": "stdout",
     "output_type": "stream",
     "text": [
      "Mənim təklifim üçün qısa bir cavablamaq olar:\n",
      "\n",
      "1. Hədəflərə bölünmək: Məqsədlərinizi kısa və uzun müddətli hədəflərə bölün. Bu, sizə nə qədər yaxın olduğunuzu göstərəcək və motivasiyanızı yüksəltəcək.\n",
      "\n",
      "2. Əməkdaşlar və dostlar ilə paylaşmaq: Əməkdaşlarınız və dostlarınızla hədəfləriniz haqqında danışmaq, sizə daha çox motivasiya verəcək.\n",
      "\n",
      "3. Motivasiya siyahısı yaradın: Motivasiya siyahısı yaradıb, hər gün yeni motivasiya əlavə etmək, sizə daha çox motivasiya verəcək.\n",
      "\n",
      "4. Ən yaxşı nəticələri görmək istədiyiniz zamanı tanımaq: Ən yaxşı nəticələri görmək istədiyiniz zamanı tanımaq, sizə daha çox motivasiya verəcək.\n",
      "\n",
      "5. Ən yaxşı nəticələri görmək istədiyiniz zamanı tanımaq: Ən yaxşı nəticələri görmək istədiyiniz zamanı tanımaq, sizə daha çox motivasiya verəcək.\n",
      "\n",
      "6. Ən yaxşı nəticələri görmək istədiyiniz zamanı tanımaq: Ən yaxşı nəticələri görmək istədiyiniz zamanı tanımaq, sizə daha çox motivasiya verəcək.\n",
      "\n",
      "7. Ən yaxşı nəticələri görmək istədiyiniz zamanı tanımaq: Ən yaxşı nəticələri görmək istədiyiniz zamanı tanımaq, sizə daha çox motivasiya verəcək.\n",
      "\n",
      "8. Ən yaxşı nəticələri görmək istədiyiniz zamanı tanımaq: Ən yaxşı nəticələri görmək istədiyiniz zamanı tanımaq, sizə daha çox motivasiya verəcək.\n",
      "\n",
      "9. Ən yaxşı nəticələri görmək istədiyiniz zamanı tanımaq: Ən yaxşı nəticələri görmək istədiyiniz zamanı tanımaq, sizə daha çox motivasiya verəcək.\n",
      "\n",
      "10. Ən yaxşı nəticələri görmək istədiyiniz zamanı tanımaq: Ən yaxşı nəticələri görmək istədiyiniz zamanı tanımaq, sizə daha çox motivasiya verəcək.\n",
      "\n",
      "Bu, sizə uzun müddətli motivasiyanı qorumaq üçün bir neçə əməkdaşlıq hissədir.\n"
     ]
    },
    {
     "name": "stderr",
     "output_type": "stream",
     "text": [
      " 12%|█▎        | 5/40 [00:59<07:03, 12.09s/it]"
     ]
    },
    {
     "name": "stdout",
     "output_type": "stream",
     "text": [
      "Xoş gəlmisiniz! Daxili dizaynın ən yeni trendləri arasında şunları saya bilərik:\n",
      "\n",
      "1. Doğal materialların istifadəsi: Ahşap, çərim, qəmərət və s., doğal materialların istifadəsi daxili dizaynın ən yeni trendləri arasındadır. Bu materiallar daxili mərkəzləri dostluq, həyatın ən gözəl tarafını yansıtır.\n",
      "\n",
      "2. Minimalizm: Minimalizm, sade, təmiz və səmərəli dizaynın ən yeni trendləri arasındadır. Bu trend, sıradan əşyaların sayısını azaltmaq, daha çox boşluq yaratmaq və sade, təmiz bir görünüş yaratmaq üçün istifadə edilir.\n",
      "\n",
      "3. Rənglərin istifadəsi: Rənglərin istifadəsi daxili dizaynın ən yeni trendləri arasındadır. Bu trend, daxili mərkəzləri daha şəfqatli, daha şəkili və daha şəkili edir.\n",
      "\n",
      "4. Teknolojiyə təcilli dizayn: Teknolojiyə təcilli dizayn, daxili dizaynın ən yeni trendləri arasındadır. Bu trend, daxili mərkəzləri daha praktik, daha rahat və daha əlverişli edir.\n",
      "\n",
      "5. Ənənəvi və modern dizaynın birleşimi: Ənənəvi və modern dizaynın birleşimi, daxili dizaynın ən yeni trendləri arasındadır. Bu trend, daxili mərkəzləri daha şəkili, daha şəkili və daha şəkili edir.\n",
      "\n",
      "Bu trendlər, daxili dizaynın ən yeni trendləri arasındadır. Lakin, daxili dizaynın ən yeni trendləri hər zaman dəyişir. Bu nəzərə alındıqda, daxili dizaynın ən yeni trendlərini izləmək və onlara görə daxili mərkəzlərinizi tərtib etmək çox önəmlidir.\n"
     ]
    },
    {
     "name": "stderr",
     "output_type": "stream",
     "text": [
      " 15%|█▌        | 6/40 [01:03<05:16,  9.31s/it]"
     ]
    },
    {
     "name": "stdout",
     "output_type": "stream",
     "text": [
      "Məsuliyyət hissi inkişaf etmək üçün, uşaqların özünü tədris etməyə təşvik edin, onlara səbəblər və qaydaların əhəmiyyətini öyrətməyi və onlara özünü düzgün idarə etmək üçün nələr görəcəyini bildirməyi tələb edin. Onlara məsuliyyət hissini inkişaf etmək üçün əməkdaşlıq proyektləri və ya evdə sadək qaydalar tətbiq etmək mümkündür. Əlavə olaraq, uşaqların məsuliyyət hissini inkişaf etməsinə kömək edən kitablar və filmlər təmin edilə bilər.\n"
     ]
    },
    {
     "name": "stderr",
     "output_type": "stream",
     "text": [
      " 18%|█▊        | 7/40 [01:13<05:07,  9.31s/it]"
     ]
    },
    {
     "name": "stdout",
     "output_type": "stream",
     "text": [
      "Mən bir sizin sorgunuzu cavablandırmaq üçün istifadə edə biləcəyim ən yaxşı şəkildə fəaliyyət göstərim.\n",
      "\n",
      "Fiziki aktivlik olmadan sağlamlığı qorumaq üçün, sizə bəzi təkliflərim var:\n",
      "\n",
      "1. Balanslı gəlir: Sizin günlük diyetinizə ən azı 5-6 çox növ yemək daxil edin. Bu, proteinlər, yağlı maddələr, qarışıq kəmiklər, vitaminlər və mineraları içərməlidir.\n",
      "2. Su əlçatmaq: Gündə ən azı 8-10 cüy şı şərab edin. Bu, vücudunuzun dəyişik funksiyalarını yerinə yetirə bilməsinə kömək edəcək.\n",
      "3. Yaxşı uyuxu: Gündə ən azı 7-8 saat uyuxu alın. Bu, vücudunuzun təmir və bərpa etməsinə kömək edəcək.\n",
      "4. Stresi azaltmaq: Stresi azaltmaq üçün, meditasiya, yuxu yüzübüyü və ya dərmanlı massage praktikasına icazə verin.\n",
      "5. Daima hərəkət: Hər gün ən azı 30 dəqiqə dəyişik hərəkətlərə icazə verin. Bu, yüksək oturma, qulaqlaşma və ya yerə bənzərə çıxma olmaq olar.\n",
      "6. Dərmanlı massage: Dərmanlı massage praktikasına icazə verərək, vücudunuzun təmir və bərpa etməsinə kömək edə bilərsiniz.\n",
      "\n",
      "Əgər sizin sizin vücudunuzun dəyişik funksiyalarını yerinə yetirə bilməsinə kömək edə biləcək digər təkliflərim varsa, sizə bildirə bilərik.\n"
     ]
    },
    {
     "name": "stderr",
     "output_type": "stream",
     "text": [
      " 20%|██        | 8/40 [02:20<14:48, 27.76s/it]"
     ]
    },
    {
     "name": "stdout",
     "output_type": "stream",
     "text": [
      "Dünya ədəbiyyatında ən təsirli əsərlər arasında şunları saya bilərik:\n",
      "\n",
      "1. \"Hamlet\" - William Shakespeare\n",
      "2. \"Mənim adım Moll Flanders\" - Daniel Defoe\n",
      "3. \"Anna Karənina\" - Lev Tolstoy\n",
      "4. \"Moby Dick\" - Herman Melville\n",
      "5. \"1984\" - George Orwell\n",
      "6. \"Dünya ədəbiyyatının ən təsirli romanı\" - Miguel de Cervantes\n",
      "7. \"Mənim adım Əd\" - Mark Twain\n",
      "8. \"İnsanların ölümü\" - Albert Camus\n",
      "9. \"Səfər\" - Franz Kafka\n",
      "10. \"Küçə\" - Elif Şafak\n",
      "\n",
      "Bu əsərlər dünya ədəbiyyatında ən təsirli əsərlər arasında sayılır və onların əsərləri insanların yaşadığı fərqli dünyaları, düşüncələri və hissələri yansıtır.\n"
     ]
    },
    {
     "name": "stderr",
     "output_type": "stream",
     "text": [
      " 22%|██▎       | 9/40 [02:26<10:50, 21.00s/it]"
     ]
    },
    {
     "name": "stdout",
     "output_type": "stream",
     "text": [
      "Elektrik avtomobillərinin gələcəyi çox imkanlı görünür. Bu təchizatların əsas məqsədi, çevre üçün daha dostluqsa və enerji tələbini azaldıb qazının təmirini artırmaqdır. Əlavə olaraq, elektrik avtomobilləri daha yaxşı performans göstərir və bunların bakımı daha rahat və ucuzdur.\n",
      "\n",
      "Bu yana, elektrik avtomobillərinin sayı artırılıb, bu sahədə yeni təknoloji tətbiqləri keşfiyyat edilir. Özəlliklə, batareyaların müddəti artırılıb, şəhərdəki şarj istatmələri daha yayılmış olacaq və elektrik avtomobillərinin qiyməti düşəcək.\n",
      "\n",
      "Bu yana, elektrik avtomobilləri daha çox istifadə olunaraq, çevre üçün daha dostluqsa və enerji tələbini azaldacaq. Elektrik avtomobillərinin gələcəyi çox imkanlı görünür və bu sahədə ən son təknoloji tətbiqləri keşfiyyat ediləcək.\n"
     ]
    },
    {
     "name": "stderr",
     "output_type": "stream",
     "text": [
      " 25%|██▌       | 10/40 [03:36<18:01, 36.05s/it]"
     ]
    },
    {
     "name": "stdout",
     "output_type": "stream",
     "text": [
      "Meditasiya günlük rutinə daxil edərkən, ən öncə bir sübut və ya müddət təyin etmək lazımdır. Bu, meditasiya üçün müddət olaraq 5-10 dəqiqə ilə başlayıb, sonra daha uzun süblərə keçmək mümkündür.\n",
      "\n",
      "Meditasiya üçün uygun yer tapa bilərsiniz. Bu yer ən çox sərəngləməyənsə, ən çox rahatlığa və qırılganlığa seçim edə bilərsiniz.\n",
      "\n",
      "Meditasiya başlamadan əvvəl, mövqeyə yaxınlaşmaq üçün biraz daha dərhal nefəs alış-verişi edə bilərsiniz. Bu, özünüzü mövqeyə yaxınlaşdırmaq və daxili həyatınıza daxil olmaq üçün mümkündür.\n",
      "\n",
      "Meditasiyanı başladıqdan sonra, düşüncələrinizi və hissələrinizi izləmək lazımdır. Bu, düşüncələrinizi və hissələrinizi qeyri-hücumlu bir şəkildə qeyd etmək anlamına gəlir.\n",
      "\n",
      "Meditasiyanın sonunda, daha sonra yapacağınız işlərə necə hazırlanacağınızı düşünmək lazımdır. Bu, meditasiyanın etkisini daha uzun süre tutmaq üçün mümkündür.\n",
      "\n",
      "Ən sonunda, meditasiyanın sonunda daha da rahatlanmaq üçün, bir dəqiqə daha qalıb, özünüzü və dünyanı izləmək lazımdır. Bu, meditasiyanın etkisini daha da artırmaq üçün mümkündür.\n"
     ]
    },
    {
     "name": "stderr",
     "output_type": "stream",
     "text": [
      " 28%|██▊       | 11/40 [03:41<12:48, 26.50s/it]"
     ]
    },
    {
     "name": "stdout",
     "output_type": "stream",
     "text": [
      "Mən üzr istəyirəm, amma mən yalnız İngilis dilində cavab verə bilən bir sənəddir. Ən yaxşı məlumatları əldə etmək üçün, lütfən sizin soruşunuzu İngilis dilində yenidən yazın.\n",
      "\n",
      "However, I can still provide a helpful response in English:\n",
      "\n",
      "The best ways to resolve conflicts in the workplace are:\n",
      "\n",
      "1. Active listening: Encourage all parties involved to express their thoughts and feelings, and make sure to listen actively and without interruption.\n",
      "2. Open communication: Encourage open and honest communication between all parties involved. This can help to identify the root cause of the conflict and find a mutually acceptable solution.\n",
      "3. Mediation: Consider bringing in a neutral third party, such as a mediator, to help facilitate the resolution process.\n",
      "4. Focus on the problem, not the person: Encourage all parties to focus on the problem at hand, rather than attacking or blaming each other.\n",
      "5. Collaboration: Encourage all parties to work together to find a solution that is acceptable to everyone.\n",
      "6. Follow up: After a resolution has been reached, it's important to follow up to ensure that the conflict has been fully resolved and that all parties are satisfied with the outcome.\n"
     ]
    },
    {
     "name": "stderr",
     "output_type": "stream",
     "text": [
      " 30%|███       | 12/40 [04:01<11:30, 24.65s/it]"
     ]
    },
    {
     "name": "stdout",
     "output_type": "stream",
     "text": [
      "Mən bir sənədləşmədən istifadə edən bir saniyyətən çıxmaq istəyirəm, lakin sizə kömək etmək üçün çalışacağam.\n",
      "\n",
      "Qida alerjisi ilə bağlı problemlərə çarəyə keçmək üçün, əvvəlçə bir tibb elminin məsləhətinə təvəkkül edin. Ona görə, sizə özünüzlə nə edə biləcəyinizi bilmək lazımdır.\n",
      "\n",
      "Bununla birlikdə, bəzi ən əsas şeylər:\n",
      "\n",
      "1. Allerjenlərə maraqlanmaq: Əgər sizə nə qida alerjisi varsa, onu bilmək lazımdır. Allerjenlərə maraqlanmaq üçün, sizə təhlükəsizlik üçün təqdim edilən bir qida təyinatını izləmək lazımdır.\n",
      "2. Qida təyinatını izləmək: Allerjenlərə maraqlanmaq üçün, sizə təhlükəsizlik üçün təqdim edilən bir qida təyinatını izləmək lazımdır. Bu, sizə təhlükəsizlik üçün qida təyinatını izləmək lazımdır.\n",
      "3. Allerjenlərə maraqlanmaq üçün, sizə təhlükəsizlik üçün təqdim edilən bir qida təyinatını izləmək lazımdır. Bu, sizə təhlükəsizlik üçün qida təyinatını izləmək lazımdır.\n",
      "4. Allerjenlərə maraqlanmaq üçün, sizə təhlükəsizlik üçün təqdim edilən bir qida təyinatını izləmək lazımdır. Bu, sizə təhlükəsizlik üçün qida təyinatını izləmək lazımdır.\n",
      "5. Allerjenlərə maraqlanmaq üçün, sizə təhlükəsizlik üçün təqdim edilən bir qida təyinatını izləmək lazımdır. Bu, sizə təhlükəsizlik üçün qida təyinatını izləmək lazımdır.\n",
      "6. Allerjenlərə maraqlanmaq üçün, sizə təhlükəsizlik üçün təqdim edilən bir qida təyinatını izləmək lazımdır. Bu, sizə təhlükəsizlik üçün qida təyinatını izləmək lazımdır.\n",
      "7. Allerjenlərə maraqlanmaq üçün, sizə təhlükəsizlik üçün təqdim edilən bir qida təyinatını izləmək lazımdır. Bu, sizə təhlükəsizlik üçün qida təyinatını izləmək lazımdır.\n",
      "8. Allerjenlərə maraqlanmaq üçün, sizə təhlükəsizlik üçün təqdim edilən bir qida təyinatını izləmək lazımdır. Bu, sizə təhlükəsizlik üçün qida təyinatını izləmək lazımdır.\n",
      "9. Allerjenlərə maraqlanmaq üçün, sizə təhlükəsizlik üçün təqdim edilən bir qida təyinatını izləmək lazımdır. Bu, sizə təhlükəsizlik üçün qida təyinatını izləmək lazımdır.\n",
      "10. Allerjenlərə maraqlanmaq üçün, sizə təhlükəsizlik üçün təqdim edilən bir qida təyinatını izləmək lazımdır. Bu, sizə təhlükəsizlik üçün qida təyinatını izləmək lazımdır.\n",
      "\n",
      "Əgər sizə qida alerjisi varsa, onu bilmək lazımdır. Allerjenlərə maraqlanmaq üçün, sizə təhlükəsizlik üçün təqdim edilən bir qida təyinatını izləmək lazımdır. Bu, sizə təhlükəsizlik üçün qida təyinatını izləmək lazımdır.\n"
     ]
    },
    {
     "name": "stderr",
     "output_type": "stream",
     "text": [
      " 32%|███▎      | 13/40 [04:14<09:31, 21.15s/it]"
     ]
    },
    {
     "name": "stdout",
     "output_type": "stream",
     "text": [
      "Xahiş edirəm ki, şəxsi məlumatlarınızın internetdə qorunması üçün ən yaxşı praktikaları izləyəsiniz. Bu praktikalar şunları içərə bilər:\n",
      "\n",
      "1. Gizli şifrələr istifadə etmək: Şifrələrinizə görə qənaət edin, onları digər insanlara bildirməyin və çox sıxlı şifrələr istifadə etmək üçün ən azı 8 simvol və ya daha çox istifadə edin.\n",
      "2. İstifadəçi adlarınızı və şifrələrinizi özlə dəyişdirin: İstifadəçi adlarınızı və şifrələrinizi dəyişməyi unutmayın. Bu, sizin şəxsi məlumatlarınızın qorunması üçün ən yaxşı praktikadır.\n",
      "3. İnternetdə əməkdaşlıq etməyin: İnternetdə əməkdaşlıq etməyin. Bu, sizin şəxsi məlumatlarınızın qorunması üçün ən yaxşı praktikadır.\n",
      "4. Güvənli bir antivirus istifadə etmək: Güvənli bir antivirus istifadə edin və onu güncəlləyin. Bu, sizin şəxsi məlumatlarınızın qorunması üçün ən yaxşı praktikadır.\n",
      "5. İstifadəçi müqaviləsinə baxın: İstifadəçi müqaviləsinə baxın və onu oxuyun. Bu, sizin şəxsi məlumatlarınızın qorunması üçün ən yaxşı praktikadır.\n",
      "6. Şəxsi məlumatlarınızı qeyd etməyin: Şəxsi məlumatlarınızı qeyd etməyin. Bu, sizin şəxsi məlumatlarınızın qorunması üçün ən yaxşı praktikadır.\n",
      "\n",
      "Bu praktikaları izləyərkən, sizin şəxsi məlumatlarınızın internetdə qorunması üçün ən yaxşı şəkildə əməkdaşlıq edə biləcəksiniz.\n"
     ]
    },
    {
     "name": "stderr",
     "output_type": "stream",
     "text": [
      " 35%|███▌      | 14/40 [04:25<07:47, 17.99s/it]"
     ]
    },
    {
     "name": "stdout",
     "output_type": "stream",
     "text": [
      "Rəqəmsal marketinq üçün kiçik bizneslər üçün çox faydalıdır. Bu, müştərilərin sayını artırmaq, məhsullarınızı və xidmətlərinizi tanıtmak, müştərilərinizi yaxınlaşdırmaq və müştəri təcrübəsinizi iyiləndirmək üçün lazımdır.\n",
      "\n",
      "Rəqəmsal marketinq, sosial şəbəkələr, e-poçt, SEO (Optimizasiya Səhifələrin Sıralanması), SEM (Səhifələrin Sıralanmasının İşlənməsi) və digər əlavələrə malikdir.\n",
      "\n",
      "Sosial şəbəkələr, müştərilərinizi yaxınlaşdırmaq və məhsullarınızı və xidmətlərinizi tanıtmak üçün müxtəlif platformaların istifadəsi üçün mümkündür. E-poçt, müştərilərinizi yaxınlaşdırmaq və məhsullarınızı və xidmətlərinizi tanıtmak üçün müxtəlif əməliyyatların istifadəsi üçün mümkündür. SEO, sosial şəbəkələrdə və digər platformlarda məhsullarınızı və xidmətlərinizi tanıtmak üçün müxtəlif əməliyyatların istifadəsi üçün mümkündür. SEM, sosial şəbəkələrdə və digər platformlarda məhsullarınızı və xidmətlərinizi tanıtmak üçün müxtəlif əməliyyatların istifadəsi üçün mümkündür.\n",
      "\n",
      "Bu əməliyyatların istifadəsi, kiçik bizneslərin müştərilərin sayını artırmaq, məhsullarınızı və xidmətlərinizi tanıtmak, müştərilərinizi yaxınlaşdırmaq və müştəri təcrübəsinizi iyiləndirmək üçün lazımdır.\n",
      "\n",
      "Bu nəzərdən, rəqəmsal marketinq kiçik bizneslər üçün çox faydalıdır.\n"
     ]
    },
    {
     "name": "stderr",
     "output_type": "stream",
     "text": [
      " 38%|███▊      | 15/40 [04:41<07:19, 17.58s/it]"
     ]
    },
    {
     "name": "stdout",
     "output_type": "stream",
     "text": [
      "Mən bir sizin soruşunuzu cavablandırmaq üçün maraqlılıqla hazırım. Uşaqlar üçün ən yaxşı təhsil metodlarından bəzi şunları qeyd edə bilərik:\n",
      "\n",
      "1. Interaktiv təhsil: Uşaqların özünləri təcrübələrə daxil olmağa icazə verən, interaktiv təhsil metodları çox müəyyən edilmişdir. Bu, uşaqların özünləri məsələləri çözməyə, proyektlərə əsaslanan çalışmalara daxil olmağa icazə verərək, onlara təhsilin daha əlverişli və çoxluqlaşdırıcı bir proses etdirir.\n",
      "\n",
      "2. Özəl təhsil: Özəl təhsil, uşaqların özünləri təcrübələrə daxil olmağa icazə verən, onların özünlərinə uyğun təhsil planlarının hazırlanmasına imkan verir. Bu, uşaqların özünləri təhsilin daha əlverişli və çoxluqlaşdırıcı bir proses etdirə bilməsinə kömək edər.\n",
      "\n",
      "3. Tədrisə daxil olunan təchnologiya: Tədrisə daxil olunan təchnologiya, uşaqların özünləri təhsilin daha əlverişli və çoxluqlaşdırıcı bir proses etdirə bilməsinə kömək edərək, onlara təhsilin daha əlverişli və çoxluqlaşdırıcı bir proses etdirir. Bu, uşaqların özünləri təcrübələrə daxil olmağa icazə verən, onlara təhsilin daha əlverişli və çoxluqlaşdırıcı bir proses etdirir.\n",
      "\n",
      "4. Təhsilin ən yaxşı nümayəndələri: Uşaqların özünləri təhsilin daha əlverişli və çoxluqlaşdırıcı bir proses etdirə bilməsinə kömək edərək, onlara təhsilin daha əlverişli və çoxluqlaşdırıcı bir proses etdirir. Bu, uşaqların özünləri təcrübələrə daxil olmağa icazə verən, onlara təhsilin daha əlverişli və çoxluqlaşdırıcı bir proses etdirir.\n",
      "\n",
      "5. Təhsilin ən yaxşı nümayəndələri: Uşaqların özünləri təhsilin daha əlverişli və çoxluqlaşdırıcı bir proses etdirə bilməsinə kömək edərək, onlara təhsilin daha əlverişli və çoxluqlaşdırıcı bir proses etdirir. Bu, uşaqların özünləri təcrübələrə daxil olmağa icazə verən, onlara təhsilin daha əlverişli və çoxluqlaşdırıcı bir proses etdirir.\n"
     ]
    },
    {
     "name": "stderr",
     "output_type": "stream",
     "text": [
      " 40%|████      | 16/40 [04:50<05:59, 14.97s/it]"
     ]
    },
    {
     "name": "stdout",
     "output_type": "stream",
     "text": [
      "Xahiş edirəm, sizə kömək etmək istəyirəm. Avtomobil texnologiyalarındakı son yeniliklərə nəzər yetirmək istəyirsinizsə, bunların bir qisası şöydür:\n",
      "\n",
      "1. Elektrikli Avtomobillər: Bu yenilik, dünya çərəsinin qorunması və yağışıq qarışıqların azalması üçün çox önəmlidir. Elektrikli avtomobillər, dəstəkləmə sistemləri ilə birlikdə hər hansı bir yolda istifadə edilə bilər.\n",
      "\n",
      "2. Avtomatik Sürücü Sistemləri: Bu sistemlər, insan sürücüsünün yerinə yetişən, avtomobilin hər hansı bir yolda sürətlə və təhlükəsizliklə sürətmək üçün istifadə edilir.\n",
      "\n",
      "3. İnternet Bağlantılı Avtomobillər: Bu yenilik, avtomobilin əsasən İnternetə bağlı olmasına imkan verir. Bu, sürət, yolda dərhal xəbər almaq və digər funksiyalar üçün çox önəmlidir.\n",
      "\n",
      "4. Həyat Sığortası Sistemləri: Bu sistemlər, insanların yaşamını qorumaq üçün istifadə edilir. Bunlar, avtomobilin sürətini düzgünləşdirərək, yaşamını qorunması üçün çox önəmlidir.\n",
      "\n",
      "5. Həyəcan Verici Texnologiyalar: Bu yeniliklər, avtomobilin daxili və xarici tərəfdən həyəcan verici bir görünüşü sağlayır. Bu, avtomobilin daxili və xarici tərəfdən həyəcan verici bir görünüşü sağlayır.\n"
     ]
    },
    {
     "name": "stderr",
     "output_type": "stream",
     "text": [
      " 42%|████▎     | 17/40 [05:00<05:10, 13.50s/it]"
     ]
    },
    {
     "name": "stdout",
     "output_type": "stream",
     "text": [
      "Müxtəlif mədəniyyətlərdə bayram ənənələri çox çeşiddir. Bu ənənələr məsələn, şəkillər, mahnılar, oyunlar, təbiətin həyatı, yeməklər və əyləncələrə dair ənənələrdən ibarətdir.\n",
      "\n",
      "Məsələn, İngiltərədə, İrlanda və Şotlandiya üzrə, Yeni İldən başlanğıcını qəbul edən kişilər yeni ildən başlanğıcının ilk dəfə görüşdüyü zaman, onun evinin əvvəlki dərsi açılıb, yeni bir dərs qoyulması ənənəsidir.\n",
      "\n",
      "Türkiyədə isə, Ramazan Bayramı və Qurban Bayramı ən önəmli bayramlardır. Ramazan Bayramında, iftar və sahurların yemək tərlərindən ibarət çox çeşitlilikli yeməklər təklif edilir. Qurban Bayramı isə, qurban qoyunu qurban edən kişilərə aid qurban qoyunun etinin bir qədərini yaxın ailələrə, dostlara və fakir və miskinlərə təqdim edərək həyatın ən önəmli qaydalarından biri olan qurbanlıq ənənəsidir.\n",
      "\n",
      "Əlavə olaraq, Çinlərə görə, Çin Yeni İldən başlanğıcı ən önəmli bayramdır. Bu bayramda, çox çeşitlilikli yeməklər, fəsilli oyunlar, fəxrətli şəkillər və əyləncələr təklif edilir.\n",
      "\n",
      "Bu nümunələrdən göründüyü kimi, müxtəlif mədəniyyətlərdə bayram ənənələri çox çeşitlidir və hər bir mədəniyyətə özgüdir.\n"
     ]
    },
    {
     "name": "stderr",
     "output_type": "stream",
     "text": [
      " 45%|████▌     | 18/40 [05:10<04:34, 12.46s/it]"
     ]
    },
    {
     "name": "stdout",
     "output_type": "stream",
     "text": [
      "Xahiş edirəm ki, sizin fərdi maliyyə planlaşdırmasında ən vacib elementlərdir:\n",
      "\n",
      "1. Maddi və mənbələrin təyinatı: Bu, sizin maddi və mənbələrinizin təyinatına aid olur. Məsələn, əmək haqqı, qazanc, qərçüvələr, qərzi, və s. İmtahan edə bilərsiniz ki, bu elementlər sizin fərdi maliyyə planınızın asılı olmaqla bağlıdır.\n",
      "\n",
      "2. Məqsəd və hedeflər: Bu, sizin fərdi maliyyə planınızın asılı olmaqla bağlıdır. Məsələn, qərzi ödəmək, qazancı artırmaq, və ya qərçüvələri yığmaq. Bu məqsəd və hedeflər sizin fərdi maliyyə planınızın asılı olmaqla bağlıdır.\n",
      "\n",
      "3. Mənbə-xərclərin təqsimatı: Bu, sizin mənbələrinizin nəyə və neçəyə xərclənəcəyini təyin etməkdir. Məsələn, əmək haqqınızın neçəyi qərzi ödəməyə, neçəyi qazancınızı artırmaq üçün istifadə ediləcəyini təyin etməkdir.\n",
      "\n",
      "4. Planın təkrar təqdimatı: Bu, sizin fərdi maliyyə planınızın təkrar təqdimatına aid olur. Məsələn, hər ayın sonunda planınızı təkrar təqdim etmək və onu düzəltməkdir.\n",
      "\n",
      "Bu elementlər sizin fərdi maliyyə planınızın asılı olmaqla bağlıdır. Əgər siz bu elementləri düzgün təyin etsəniz, sizin fərdi maliyyə planınızın uğur qədər işləməsinə əmin olmaq mümkündür.\n"
     ]
    },
    {
     "name": "stderr",
     "output_type": "stream",
     "text": [
      " 48%|████▊     | 19/40 [05:15<03:33, 10.19s/it]"
     ]
    },
    {
     "name": "stdout",
     "output_type": "stream",
     "text": [
      "Mən, sizin sorgunuzu tərəfindən istədiyiniz Azerbaycanca cavab verə bilməm. Lütfən, İngilis dilindən istəyinizi yenidən yazın.\n",
      "\n",
      "Translation: I'm sorry, I can't provide the answer to your question in Azerbaijani as you requested. Please, rephrase your question in English.\n",
      "\n",
      "However, to answer your question in English, here are some of the best time management tools:\n",
      "\n",
      "1. Google Calendar: A free tool that allows you to schedule appointments, set reminders, and share your calendar with others.\n",
      "2. Trello: A project management tool that helps you organize tasks, set deadlines, and collaborate with team members.\n",
      "3. Asana: A task management tool that helps you prioritize tasks, set deadlines, and track progress.\n",
      "4. RescueTime: A time tracking tool that helps you understand how you spend your time and identify areas for improvement.\n",
      "5. Todoist: A task management tool that helps you create to-do lists, set deadlines, and prioritize tasks.\n",
      "6. Evernote: A note-taking tool that helps you capture ideas, organize notes, and collaborate with others.\n",
      "7. Focus@Will: A music streaming service that provides background music designed to improve focus and productivity.\n",
      "\n",
      "These tools can help you manage your time more effectively and increase your productivity.\n"
     ]
    },
    {
     "name": "stderr",
     "output_type": "stream",
     "text": [
      " 50%|█████     | 20/40 [05:31<03:54, 11.72s/it]"
     ]
    },
    {
     "name": "stdout",
     "output_type": "stream",
     "text": [
      "Xahiş edirəm ki, sizin sualınızı düzgün anladım. Global iqtisadiyyatda ən çox təsir göstərən faktorların siyahısı aşağıdakilərə bərabərdir:\n",
      "\n",
      "1. Təchizat və əmək haqqı: Bu faktor, iqtisadiyyatın əsasında olan təchizat və əmək haqqına dair məlumatların qiymətləndirilməsidir. Bu faktor, iqtisadiyyatın növünə və rəqabət gücünə əsasən dəyişir.\n",
      "2. İnflasiya: İnflasiya, qiymətlərin dərhal artmasına nəticə olur və iqtisadiyyatı əsasən dəyişir.\n",
      "3. Dövlət xarajatları: Dövlət xarajatları, iqtisadiyyatı əsasən dəyişir və bu faktor, dövlətin xarajatlarının qədərindən və növündən əsasən dəyişir.\n",
      "4. Dövlət borcları: Dövlət borcları, iqtisadiyyatı əsasən dəyişir və bu faktor, dövlətin borclarının qədərindən və növündən əsasən dəyişir.\n",
      "5. Dövlət maliyyəsi: Dövlət maliyyəsi, iqtisadiyyatı əsasən dəyişir və bu faktor, dövlətin maliyyəsinin qədərindən və növündən əsasən dəyişir.\n",
      "6. Ticarət: Ticarət, iqtisadiyyatı əsasən dəyişir və bu faktor, ticarətin qədərindən və növündən əsasən dəyişir.\n",
      "7. İxtisaslaşma: İxtisaslaşma, iqtisadiyyatı əsasən dəyişir və bu faktor, ixtisaslaşma növünə və qədərindən əsasən dəyişir.\n",
      "8. Təkəmmül: Təkəmmül, iqtisadiyyatı əsasən dəyişir və bu faktor, təkəmmül növünə və qədərindən əsasən dəyişir.\n",
      "9. İqtisadi siyasət: İqtisadi siyasət, iqtisadiyyatı əsasən dəyişir və bu faktor, əsasən iqtisadi siyasət növünə və qədərindən əsasən dəyişir.\n",
      "10. Dövlət müdafiəsi: Dövlət müdafiəsi, iqtisadiyyatı əsasən dəyişir və bu faktor, dövlət müdafiəsinin qədərindən və növündən əsasən dəyişir.\n",
      "\n",
      "Bu faktorlar, global iqtisadiyyatın əsasında olan faktorların bir qismini təşkil edir. Bu faktorlar, iqtisadiyyatın növünə, rəqabət gücünə və təhlükəsizliyinə əsasən dəyişir.\n"
     ]
    },
    {
     "name": "stderr",
     "output_type": "stream",
     "text": [
      " 52%|█████▎    | 21/40 [05:53<04:44, 14.97s/it]"
     ]
    },
    {
     "name": "stdout",
     "output_type": "stream",
     "text": [
      "Sosial şəbəkələrdə məşhurlaşmaq üçün ən əhəmiyyətli strategiyalar aşağıdakilərdir:\n",
      "\n",
      "1. Hədəf təyin etmək: Məşhurlaşmaq istədiyiniz üçün hədəf təyin edin. Bu hədəf sizin işiniz, məhsulunuz və ya servisiniz ilə bağlı olmalıdır.\n",
      "2. Məqsədli auditoriya təyin etmək: Məqsədli auditoriyanızı təyin edin. Bu, sizin məhsulunuz və ya servisinizə ən çox maraqlı olan insanların qrupu olmalıdır.\n",
      "3. Mətn və görüntülər: Mətn və görüntülər sosial şəbəkələrdə müştərilərin daha çox maraqlı olmasını təmin edəcək. Bu nəzərdə, mətn və görüntüləri düzgün və məqsədli şəkildə tərtib edin.\n",
      "4. Rəqəmsal məlumatlar: Sosial şəbəkələrdə məşhurlaşmaq üçün rəqəmsal məlumatlar çox əhəmiyyətli olan bir faktor. Bu nəzərdə, müştərilərin sayı, takipçilərin sayı, like və share sayılarını artırın.\n",
      "5. Rəqəmsal reklam: Rəqəmsal reklam sosial şəbəkələrdə məşhurlaşmaq üçün əhəmiyyətli bir faktor. Bu nəzərdə, sosial şəbəkələrdə reklam verin və müştərilərin sayını artırın.\n",
      "6. Müştərilərin şikayətləri və məlumatlarınızı izləyin: Müştərilərin şikayətləri və məlumatlarınızı izləyin. Bu, müştərilərin maraqlarını və talebinə görə məhsul və servisinizi yeniləmək və iyiləşdirmək üçün əhəmiyyətli olan məlumatları təmin edəcək.\n",
      "7. Müştərilərin məlumatlarını qeyd etmək: Müştərilərin məlumatlarını qeyd etmək, sosial şəbəkələrdə məşhurlaşmaq üçün əhəmiyyətli bir faktor. Bu nəzərdə, müştərilərin adı, soyadı, e-poçt ünvanı, telefon nömrəsi və digər məlumatları qeyd edin.\n",
      "8. Müştərilərin məlumatlarını qeyd etmək üçün formlar yaradın: Müştərilərin məlumatlarını qeyd etmək üçün formlar yaradın. Bu, müştərilərin məlumatlarını daha asan və hər iki tarafın rahatlığı ilə qeyd etmək üçün əhəmiyyətli olan bir faktor.\n",
      "9. Müştərilərin məlumatlarını qeyd etmək üçün əməkdaşlarınızı təmin edin: Müştərilərin məlumatlarını qeyd etmək üçün əməkdaşlarınızı təmin edin. Bu, müştərilərin məlumatlarını daha asan və hər iki tarafın rahatlığı ilə qeyd etmək üçün əhəmiyyətli olan bir faktor.\n",
      "10. Müştərilərin məlumatlarını qeyd etmək üçün əməkdaşlarınızı təmin edin: Müştərilərin məlumatlarını qeyd etmək üçün əməkdaşlarınızı təmin edin. Bu, müştərilərin məlumatlarını daha asan və hər iki tarafın rahatlığı ilə qeyd etmək üçün əhəmiyyətli olan bir faktor.\n",
      "\n",
      "Bu strategiyaları izləyərkən, sosial şəbəkələrdə məşhurlaşmaq üçün ən əhəmiyyətli şey, müştərilərin maraqlarını və talebinə görə məhsul və servisinizi yeniləmək və iyiləşdirməkdir.\n"
     ]
    },
    {
     "name": "stderr",
     "output_type": "stream",
     "text": [
      " 55%|█████▌    | 22/40 [06:08<04:29, 14.97s/it]"
     ]
    },
    {
     "name": "stdout",
     "output_type": "stream",
     "text": [
      "Xoş gəlmisiniz! Səyahət zamanı sağlamlığınızı qorumaq üçün ən yaxşı tövsiyələrimdir:\n",
      "\n",
      "1. Yemək: Səyahət zamanında yerəmək və içəmək üçün sağlam və yaxşı yeməklər seçin. Yaxşı bir şəkildə yemək və içmək, enerjiyə və sağlamlığınıza katkı saxlayır.\n",
      "\n",
      "2. Uyuşmaq: Səyahət zamanında uyuşmaq çox önəmli olan bir şeydir. Uyuşmaqla sizin vücudunuzun enerjisini bərpa etməsi və sizin daha yaxşı hiss edə bilməyinizə kömək edəcəkdir.\n",
      "\n",
      "3. Hərəkət: Səyahət zamanında hərəkət etmək çox önəmli olan bir şeydir. Hərəkət etmək vücudunuzu aktiv edər və enerjinizi artırır.\n",
      "\n",
      "4. Su içmək: Səyahət zamanında su içmək çox önəmli olan bir şeydir. Su içmək vücudunuzu təmizləyir və enerjinizi artırır.\n",
      "\n",
      "5. Stresi azaltmaq: Səyahət zamanında stresi azaltmaq çox önəmli olan bir şeydir. Stresi azaltmaqla vücudunuzun enerjisini bərpa etməsi və sizin daha yaxşı hiss edə bilməyinizə kömək edəcəkdir.\n",
      "\n",
      "6. İlaçlar: Səyahət zamanında ən yaxşı ilaçlarınızı alın. İlaçlar vücudunuzu sağlamlaşdırır və enerjinizi artırır.\n",
      "\n",
      "7. İstirahət: Səyahət zamanında istirahət etmək çox önəmli olan bir şeydir. İstirahət etmək vücudunuzu təmizləyir və enerjinizi artırır.\n",
      "\n",
      "8. Ən yaxşı yerlərə baxmaq: Səyahət zamanında ən yaxşı yerlərə baxmaq çox önəmli olan bir şeydir. Ən yaxşı yerlərə baxmaqla vücudunuzu sağlamlaşdırır və enerjinizi artırır.\n",
      "\n",
      "9. Ən yaxşı zamanlarda səyahət etmək: Səyahət zamanında ən yaxşı zamanlarda səyahət etmək çox önəmli olan bir şeydir. Ən yaxşı zamanlarda səyahət etmək vücudunuzu sağlamlaşdırır və enerjinizi artırır.\n",
      "\n",
      "10. Ən yaxşı yolları seçmək: Səyahət zamanında ən yaxşı yolları seçmək çox önəmli olan bir şeydir. Ən yaxşı yolları seçmək vücudunuzu sağlamlaşdırır və enerjinizi artırır.\n"
     ]
    },
    {
     "name": "stderr",
     "output_type": "stream",
     "text": [
      " 57%|█████▊    | 23/40 [06:16<03:37, 12.82s/it]"
     ]
    },
    {
     "name": "stdout",
     "output_type": "stream",
     "text": [
      "Xahiş edirəm, sizin sualınıza cavab vermək istəyirəm. Məktəbdən kənar təhsil, insanların yaşadıqları dünyaya dair maraqlı məlumatlar öyrənməsinə kömək edən, əsas məktəb təhsilindən daha geniş və tədris planına daxil olmayan məlumatların öyrənməsinə imkan verən bir təhsil forma təşkil edir. Bu, şəxsi və iş dünyasında müvəffəqiyyət sahib olmaq üçün lazım olan əsas şəraitdən biridir. Məktəbdən kənar təhsil, şəxsi və profesional inkişafın qiymətləndirilməsi üçün əsasdir. Bu, şəxsi maraqlarınızın gələcəyə nəzərdən keçirilməsi, müxtəlif fəaliyyətlərə daxil olmaq, əsas məktəb təhsilindən daha çox məlumat öyrənmək və ya özünüzə yeni bir sənədə məktəbə keçmək üçün əsas səbəbdir. Məktəbdən kənar təhsil, insanın yaşadığı dünyaya dair maraqlı məlumatlar öyrənməsinə kömək edər, əsas məktəb təhsilindən daha çox məlumat öyrənmək üçün imkan verir və insanın yaşadığı dünyaya dair maraqlı məlumatlar öyrənməsinə kömək edər.\n"
     ]
    },
    {
     "name": "stderr",
     "output_type": "stream",
     "text": [
      " 60%|██████    | 24/40 [06:36<03:59, 14.96s/it]"
     ]
    },
    {
     "name": "stdout",
     "output_type": "stream",
     "text": [
      "Daxili motivasiyanın inkişafı üçün, bir neçə əsas addım tapılır:\n",
      "\n",
      "1. Hədəfləri qeyd etmək: İlk şərt, motivasiyanın inkişafı üçün hədəfləri qeyd etməkdir. Bu hədəflər məqsədə uyğun olmalıdır və ən azı 2-3 ildən ibarət olmalıdır.\n",
      "2. Plan yaratmaq: Hədəflərə uyğun olaraq, bir plan yaradın. Bu plan, hədəflərin nəzərdə tutulması və hədəflərə yaxınlaşmaq üçün görəcək əməllər haqqında məlumat sağlayır.\n",
      "3. Əməkdaşlıq: Motivasiyanın inkişafı üçün əməkdaşlıq çox önəmli olan bir faktor. Əməkdaşlarınızla birlikdə hədəflərinizə yaxınlaşmaq üçün bir plan yaradın.\n",
      "4. Motivasiyanın inkişafı üçün əməliyyatlarınızı təqdim etmək: Əməliyyatlarınızı təqdim edərək, motivasiyanın inkişafı üçün əməliyyatlarınızı təqdim edin. Bu, hədəflərinizə yaxınlaşmaq üçün görəcək əməllərə aid olmalıdır.\n",
      "5. Motivasiyanın inkişafı üçün əməliyyatlarınızı təqdim etmək: Əməliyyatlarınızı təqdim edərək, motivasiyanın inkişafı üçün əməliyyatlarınızı təqdim edin. Bu, hədəflərinizə yaxınlaşmaq üçün görəcək əməllərə aid olmalıdır.\n",
      "6. Motivasiyanın inkişafı üçün əməliyyatlarınızı təqdim etmək: Əməliyyatlarınızı təqdim edərək, motivasiyanın inkişafı üçün əməliyyatlarınızı təqdim edin. Bu, hədəflərinizə yaxınlaşmaq üçün görəcək əməllərə aid olmalıdır.\n",
      "7. Motivasiyanın inkişafı üçün əməliyyatlarınızı təqdim etmək: Əməliyyatlarınızı təqdim edərək, motivasiyanın inkişafı üçün əməliyyatlarınızı təqdim edin. Bu, hədəflərinizə yaxınlaşmaq üçün görəcək əməllərə aid olmalıdır.\n",
      "8. Motivasiyanın inkişafı üçün əməliyyatlarınızı təqdim etmək: Əməliyyatlarınızı təqdim edərək, motivasiyanın inkişafı üçün əməliyyatlarınızı təqdim edin. Bu, hədəflərinizə yaxınlaşmaq üçün görəcək əməllərə aid olmalıdır.\n",
      "9. Motivasiyanın inkişafı üçün əməliyyatlarınızı təqdim etmək: Əməliyyatlarınızı təqdim edərək, motivasiyanın inkişafı üçün əməliyyatlarınızı təqdim edin. Bu, hədəflərinizə yaxınlaşmaq üçün görəcək əməllərə aid olmalıdır.\n",
      "10. Motivasiyanın inkişafı üçün əməliyyatlarınızı təqdim etmək: Əməliyyatlarınızı təqdim edərək, motivasiyanın inkişafı üçün əməliyyatlarınızı təqdim edin. Bu, hədəflərinizə yaxınlaşmaq üçün görəcək əməllərə aid olmalıdır.\n",
      "\n",
      "Bu addımları izləyərək, daxili motivasiyanın inkişafı üçün əməliyyatlarınızı təqdim edə bilərsiniz.\n"
     ]
    },
    {
     "name": "stderr",
     "output_type": "stream",
     "text": [
      " 62%|██████▎   | 25/40 [06:50<03:39, 14.64s/it]"
     ]
    },
    {
     "name": "stdout",
     "output_type": "stream",
     "text": [
      "Qlobal səhiyyə problemləri şunları içərə bilər:\n",
      "\n",
      "1. İstismar: İstismar, dünyada maddi və manevi sərvətlərə əqilindən çox istifadə edilməsi və ya bir neçə insanın bir neçə insanın yararına çevrilməsi deməkdir. Bu problemi həll etmək üçün, ədalətli paylaşımın əsasında işləmək lazımdır.\n",
      "\n",
      "2. İqlim dəyişməsi: İqlim dəyişməsi, dünyanın orta sıcaklığının artması və ya dəyişməsi deməkdir. Bu problemi həll etmək üçün, qorumaq və ya azaltmaq üçün enerji tədqiqatına təməllük etmək lazımdır.\n",
      "\n",
      "3. Ətrafın yaranması: Ətrafın yaranması, dünyada yaşayan bitkilərin və hayvanatların sayının azaldığı və ya sönməsinə nəticə olmaqla, ətrafın yaranması deməkdir. Bu problemi həll etmək üçün, ətrafın qorunması və ya yenidən yaradılması üçün əməkdaşlıq etmək lazımdır.\n",
      "\n",
      "4. Ətrafın kirlenməsi: Ətrafın kirlenməsi, dünyada maddi atıqların sayının artması və ya ətrafın kirlenməsinə nəticə olmaqla, ətrafın kirlenməsi deməkdir. Bu problemi həll etmək üçün, atıqların təmizlənməsi və ya azaltılması üçün əməkdaşlıq etmək lazımdır.\n",
      "\n",
      "5. İnsan hüquqlarının əksilməsi: İnsan hüquqlarının əksilməsi, insanların hüquqlarının əksilməsi və ya qorunmasının əksilməsi deməkdir. Bu problemi həll etmək üçün, insan hüquqlarının qorunması üçün əməkdaşlıq etmək lazımdır.\n",
      "\n",
      "Bu problemlərə həll etmək üçün, ədalətli paylaşımın əsasında işləmək, enerji tədqiqatına təməllük etmək, ətrafın qorunması və ya yenidən yaradılması üçün əməkdaşlıq etmək, atıqların təmizlənməsi və ya azaltılması üçün əməkdaşlıq etmək, insan hüquqlarının qorunması üçün əməkdaşlıq etmək gibi əməkdaşlıq əməlləri ilə başa çıxmaq lazımdır.\n"
     ]
    },
    {
     "name": "stderr",
     "output_type": "stream",
     "text": [
      " 65%|██████▌   | 26/40 [08:05<07:38, 32.78s/it]"
     ]
    },
    {
     "name": "stdout",
     "output_type": "stream",
     "text": [
      "Xoş gəlmisiniz! Kitab oxumağın psixoloji sağlamlığa təsirləri çox əhəmiyyətli və faydalıdır. Bu proses sizin fikir və düşüncələrinizi genişləndirmək, düşüncələrinizi düzəltmək, problemləri həll etmək, özünüz barədə daha çox məlumat almaq və özünüzün psixoloji sağlamlığınızı artırmaq üçün müxtəlif imkanlar yaradır.\n",
      "\n",
      "Kitab oxumağın psixoloji sağlamlığa təsirləri:\n",
      "\n",
      "1. Stress və anksiyetənin azalması: Kitab oxumağınız sizə qənaətli olmaq və daha rahat hiss edə bilmək imkanı verir. Bu, stress və anksiyetənin azalmasına və daha şirin və özlü hiss edə bilməyə kömək edə bilər.\n",
      "\n",
      "2. Düşüncələrinizi düzəltmək: Kitab oxumağınız sizə düşüncələrinizi düzəltmək və daha müxtəlif fikirlərə maraqlanmaq imkanı verir. Bu, özünüz barədə daha çox məlumat almaq və özünüzün psixoloji sağlamlığınızı artırmaq üçün müxtəlif imkanlar yaradır.\n",
      "\n",
      "3. Problem həll etmək: Kitab oxumağınız sizə daha çox məlumat və fikirlər almaq imkanı verir. Bu, sizə problemləri həll etmək üçün yeni və müxtəlif yollar açır.\n",
      "\n",
      "4. Özünüz barədə daha çox məlumat almaq: Kitab oxumağınız sizə özünüz barədə daha çox məlumat almaq imkanı verir. Bu, özünüzün psixoloji sağlamlığınızı artırmaq üçün müxtəlif imkanlar yaradır.\n",
      "\n",
      "5. İrəli çıxmaq: Kitab oxumağınız sizə çox əhəmiyyətli və faydalı məlumatlar almaq imkanı verir. Bu, özünüzün psixoloji sağlamlığınızı artırmaq üçün müxtəlif imkanlar yaradır.\n",
      "\n",
      "Bu, kitab oxumağın psixoloji sağlamlığa təsirləri nədir? sualına verilən cavabımızdır. Əgər sizə daha çox məlumat və ya yaddaşda saxlanmamış məlumatlar varsa, bizə bildirin və biz sizə kömək edəcəyik.\n"
     ]
    },
    {
     "name": "stderr",
     "output_type": "stream",
     "text": [
      " 68%|██████▊   | 27/40 [08:13<05:28, 25.27s/it]"
     ]
    },
    {
     "name": "stdout",
     "output_type": "stream",
     "text": [
      "Mənim təəssüfüm, mən Azerbaycanca danışmaq mümkünlüyüm. Lakin, mən sizin soruşunuza İngilis dillində cavab verə bilərəm.\n",
      "\n",
      "Ən populyar musiqi alətləri hansılardır və necə oynanılır?\n",
      "\n",
      "Ən populyar musiqi alətləri arasında gitar, piyano, vioyola, qırmızı qənun və daha çox var.\n",
      "\n",
      "Gitar: Gitar, dəstək və dərdlərə malik olan bir musiqi alətidir. Oynamaq üçün, gitarınızı qoyun və dəstəkdən istədiyiniz notaları basın. Sag eliniz ile dərdləri vurun.\n",
      "\n",
      "Piyano: Piyano, ən çox notaya malik olan bir musiqi alətidir. Oynamaq üçün, piyanonuza yaxın qalaq və istədiyiniz notaları basın.\n",
      "\n",
      "Vioyola: Vioyola, dərdlərə malik olan bir musiqi alətidir. Oynamaq üçün, vioyolanızı qoyun və dərdləri vurun.\n",
      "\n",
      "Qırmızı qənun: Qırmızı qənun, dəstək və dərdlərə malik olan bir musiqi alətidir. Oynamaq üçün, qənununuzu qoyun və dəstəkdə istədiyiniz notaları basın. Sag eliniz ile dərdləri vurun.\n",
      "\n",
      "Bu alətləri oynamaq üçün, musiqi dərs almaq və çox çalışmaq lazımdır.\n"
     ]
    },
    {
     "name": "stderr",
     "output_type": "stream",
     "text": [
      " 70%|███████   | 28/40 [08:24<04:11, 20.97s/it]"
     ]
    },
    {
     "name": "stdout",
     "output_type": "stream",
     "text": [
      "Xoş gəlmisiniz! Fotoqrafiya öyrənmək üçün əvvəlki adımlardan biri, kamera özünü düzgün bilməkdir. Kamera özünü bilmək, fotoqrafçılıqda işlədilən əsas terminlərə tanış olmaq, kamera özəlliklərini düzgün anlamalarını göstərir.\n",
      "\n",
      "Digər əhəmiyyətli nöqtə, doğru kompozisiya yaradılmasıdır. Bu, fotoqrafın içindəki elementlərin düzgün yerləşdirilməsi və fotoqrafın genel baxışının dəyərləndirilməsidir. Ən əhəmiyyətli kompozisiya qaydalarından biri, \"üçüncü qayda\"dır. Bu qayda, fotoqrafın içindəki elementləri üçə bölmək və bunların düzgün yerləşdirilməsi ilə bağlıdır.\n",
      "\n",
      "Növbəti addım, doğru ışıq və renk istifadəsidir. Fotoqrafçılıqda ışıq çox önəmli bir faktordur. Doğru ışıq istifadə edərək, fotoqrafın daha net və daha yaxşı görünməsinə kömək edə bilərsiniz. Renk istifadəsi də çox önəmli bir faktordur. Fotoqrafın daha yaxşı görünməsinə kömək edə biləcək renk kombinasiyalarını seçmək lazımdır.\n",
      "\n",
      "Ən sonuncu addım, fotoqrafın düzəliş etməsidir. Fotoqrafın düzəliş etmək, fotoqrafın daha yaxşı görünməsinə kömək edə biləcək əməliyyatların yerinə yetirilməsidir. Bu, fotoqrafın ışığını, renklerini, kontrastını və digər özəlliklərini düzəliş etmək mənasına gəlir.\n",
      "\n",
      "Bu addımları izləyərək, fotoqrafçılıqda ilk addımlarınızı atmaq və fotoqrafçılıqda ileri gəlmək üçün əsas əməliyyatları öyrənmək mümkündür.\n"
     ]
    },
    {
     "name": "stderr",
     "output_type": "stream",
     "text": [
      " 72%|███████▎  | 29/40 [08:29<02:58, 16.24s/it]"
     ]
    },
    {
     "name": "stdout",
     "output_type": "stream",
     "text": [
      "Mən çox xoş gəlmədiniz! Effektiv öyrənmə taktikalarından biri, məqalələri oxumaq və onları qeyd etməkdir. Bu, sizə daha da ətraflı biliklər sağlayıb, sizə yeni fikirlər və ideyalar üçün bir sərəvşərliyi təmin edəcək. Digər taktik olaraq, özünüzə suallar soruşmaq və cavabları tapmaq da yaxşı bir usuldir. Bu, sizə daha da dəqiq biliklər sağlayıb, sizə özünüzə əmin olmağa kömək edəcək. Nəticə, öyrənmə prosesinizə daha çox imkan verəcək. Ən son, özünüzə təkrar edən öyrənmə təcrübəsi təmin edən bir dərs və ya kitabı seçmək də yaxşı bir fikirdir. Bu, sizə daha da ətraflı biliklər sağlayıb, sizə özünüzə əmin olmağa kömək edəcək.\n"
     ]
    },
    {
     "name": "stderr",
     "output_type": "stream",
     "text": [
      " 75%|███████▌  | 30/40 [08:34<02:10, 13.07s/it]"
     ]
    },
    {
     "name": "stdout",
     "output_type": "stream",
     "text": [
      "Xahiş edirəm, təbiəti qorumaq üçün fərdi tədbirlər şunlar ola bilər:\n",
      "\n",
      "1. Balıq, et və s., yemək qalıntılarını təxliyyə etmək və bunları təhlükəsiz şəkildə atmaq.\n",
      "2. Qırmızı çanta, yumru və s., atıqlarınızın təhlükəsiz şəkildə atmaq.\n",
      "3. Elektrik və suyun müddətli istifadəsini əvəz etmək.\n",
      "4. İstifadə olunan ürünlərin qaytarılması və yenidən istifadə edilməsi.\n",
      "5. Mərkəzi ısıtma və süzgəç sistemlərinin təmir edilməsi.\n",
      "6. Ətraflı məlumat üçün, lütfən, müxtəlif təbiət qoruma müsadiyələrinə müraciət edin.\n"
     ]
    },
    {
     "name": "stderr",
     "output_type": "stream",
     "text": [
      " 78%|███████▊  | 31/40 [08:41<01:40, 11.14s/it]"
     ]
    },
    {
     "name": "stdout",
     "output_type": "stream",
     "text": [
      "Texnologiyanın uşaqlar üçün təhsil prosesində istifadə edilməsi üçün çox sayda fayda var. Bunlardan birinci, uşaqların daha çox motivasiya sahibi olmalarıdır. Çünki, texnologiya daha çox interaktiv və qısa zamanda cavab verə bilən bir mənbədir. Digər fayda isə, uşaqların daha çox biliklərə malik olmaq üçün çox sayda texnologiya mənbəsinə dostuq edə biləcəyi və bu mənbələrdən istifadə edə biləcəyi anlamalarıdır. Bununla birlikdə, uşaqların texnologiya ilə bağlı çox sayda proyekt yarada bilmələri, onların çox sayda təcrübələrə malik olmaq üçün imkan verir. Əlavə olaraq, texnologiya uşaqların daha çox əlaqələrə malik olmaq üçün imkan verir və onların daha çox insanlarla əlaqələrini yaratmaq üçün imkan verir. Bu yanaqlardan istifadə edərək, uşaqlar daha yaxşı təhsil prosesində iştirak edə bilərlər və daha yaxşı nəticələr əldə edə bilərlər.\n"
     ]
    },
    {
     "name": "stderr",
     "output_type": "stream",
     "text": [
      " 80%|████████  | 32/40 [09:58<04:07, 30.95s/it]"
     ]
    },
    {
     "name": "stdout",
     "output_type": "stream",
     "text": [
      "Xoş gəlmisiniz! Karyera dəyişikliyi zamanı əsas məqamları izləmək çox önəmli olan bir əməkdir. Bu məqamlar aşağıdakı kimi olaraq istifadə edilə bilər:\n",
      "\n",
      "1. **İstənilən karyera yönünü təyin etmək**: Əvvəlki karyeranızla bağlı olmayaraq, istənilən yeni karyera yönünüzü təyin edin. Bu, sizin ən çox maraqlı və ya ən çox potensiala malik olduğunuz fəaliyyət haqqında düşünmək mənasına gəlir.\n",
      "\n",
      "2. **Mövzunu araşdırmaq**: Yeni karyera yönünüzə aid məlumatları araşdırın. Bu, internet, kitablar, elmi məqalələr və ya özünüzlə başqa karyera sahibləri ilə danışmaqla keçirilə bilər.\n",
      "\n",
      "3. **Tələb olunan bacarıqları təmin etmək**: Yeni karyera yönünüzə aid tələb olunan bacarıqları təmin edə biləcəyinizə şüur edin. Bu, öyrənmək, təcrübə sahib olmaq və ya məşğul olduğunuz fəaliyyətə aid bacarıqlarınızı artırmaqla bağlı olaraq keçirilə bilər.\n",
      "\n",
      "4. **CV-ni yeniləmək**: CV-nizi yeni karyera yönünüzə uyğun hələ düzəltin. Bu, yeni bacarıqlarınızı, təcrübələrinizi və ya öyrəndiyiniz yeni bacarıqları əlavə etmək mənasına gəlir.\n",
      "\n",
      "5. **İş ilanlarını izləmək**: Yeni karyera yönünüzə aid iş ilanlarını izləmək lazımdır. Bu, internet, gazetalar və ya iş verənlər ilə danışmaqla keçirilə bilər.\n",
      "\n",
      "6. **Müvafiq iş ilanına müraciət etmək**: Müvafiq iş ilanına müraciət etmək lazımdır. Bu, müraciət etmək üçün lazım olan formu doldurmaq, CV-ni və ya motivasiya məktubunu göndərmək mənasına gəlir.\n",
      "\n",
      "7. **İntervyu ilə başa çıxmaq**: İntervyu ilə başa çıxmaq lazımdır. Bu, iş verənlərinizlə danışmaq, sizin həddindən daha çox məlumat istəyənlərə cavab vermək və ya sizin həddindən daha çox məlumat istəyənlərə cavab vermək mənasına gəlir.\n",
      "\n",
      "8. **İşə başlamaq**: İşə başlamaq lazımdır. Bu, iş verənlərinizlə əməkdaşlıq ilə başa çıxmaq, işə başlamaq və ya işə başlamaq üçün lazım olan formu doldurmaq mənasına gəlir.\n",
      "\n",
      "Bu məqamları izlədikdən sonra, yeni karyera yönünüzə başa çıxmaq çox asan olacaq.\n"
     ]
    },
    {
     "name": "stderr",
     "output_type": "stream",
     "text": [
      " 82%|████████▎ | 33/40 [10:10<02:55, 25.08s/it]"
     ]
    },
    {
     "name": "stdout",
     "output_type": "stream",
     "text": [
      "Xoş gəlmisiniz! Psixoloji üstünlük qazanmaq üçün aşağıdakı yolları izləyə bilərsiniz:\n",
      "\n",
      "1. Təhsil: Psixoloqiya üzrə tədris almaq və təhsilini genişləndirmək əvəzinə çalışın. Bu, sizə psixoloqiya üzrə daha çox bilik və təcrübə saxlamaq imkanı verəcək.\n",
      "\n",
      "2. Təcrübə: Psixoloqiya üzrə praktikaya başlayın. Bu, sizə psixoloqiya üzrə daha çox təcrübə saxlamaq imkanı verəcək.\n",
      "\n",
      "3. Kitablar oxuyun: Psixoloqiya üzrə kitablar oxuyun. Bu, sizə psixoloqiya üzrə daha çox bilik saxlamaq imkanı verəcək.\n",
      "\n",
      "4. Seminarlar və konferanslar: Psixoloqiya üzrə seminarlar və konferansları izləyin. Bu, sizə psixoloqiya üzrə daha çox bilik saxlamaq imkanı verəcək.\n",
      "\n",
      "5. Mentor: Bir mentor tapın. Mentorunuz sizə psixoloqiya üzrə daha çox bilik saxlamaq imkanı verəcək.\n",
      "\n",
      "6. İnkişaf: İnkişaf etmək və özünüzü psixoloqiya üzrə daha çox bilik saxlamaq üçün çalışmaq.\n",
      "\n",
      "7. İştirak: Psixoloqiya üzrə çərçivələrə və toplulmalara əlavə olun. Bu, sizə psixoloqiya üzrə daha çox bilik saxlamaq imkanı verəcək.\n",
      "\n",
      "8. İnternet: İnternet üzrə psixoloqiya üzrə məlumatları izləyin. Bu, sizə psixoloqiya üzrə daha çox bilik saxlamaq imkanı verəcək.\n",
      "\n",
      "9. Tədris: Psixoloqiya üzrə tədris vermək. Bu, sizə psixoloqiya üzrə daha çox bilik saxlamaq imkanı verəcək.\n",
      "\n",
      "10. İştirak: Psixoloqiya üzrə çərçivələrə və toplulmalara əlavə olun. Bu, sizə psixoloqiya üzrə daha çox bilik saxlamaq imkanı verəcək.\n"
     ]
    },
    {
     "name": "stderr",
     "output_type": "stream",
     "text": [
      " 85%|████████▌ | 34/40 [10:21<02:05, 21.00s/it]"
     ]
    },
    {
     "name": "stdout",
     "output_type": "stream",
     "text": [
      "Ekoloji təmiz məhsulların istehsalını artırmaq üçün, bir neçə əsas addım tapılmalıdır. İlk öncə, müəssisələr və ya şirkətlərin ekoloji təmiz məhsulların istehsalına daha çox təməkkül etməsini tələb etmək lazımdır. Bu məqsəd üçün, hüquqi və ya mali-iqtisadi tələblər yaradıla bilər.\n",
      "\n",
      "Digər yana, müştərilərin ekoloji təmiz məhsulların əhəmiyyətini anmaga və onlara daha çox təklif etmək lazımdır. Bu, reklam və ya məlumat sahəsində əməkdaşlıqla başa çatmaqla başlaya bilər.\n",
      "\n",
      "Əlavə olaraq, məhsulun istehsalında kullanılan materialların və ya enerjiyənin müəyyən edilməsi, məhsulun çevreyə zərər verməsinə kömək edə bilər. Bu, məhsulun istehsalında kullanılan enerjiyənin yenilikçi və ya qeyri-qurucu kaynaklardan alınmasına, ya da materialların geri dönüşümənin artırılmasına imkan verə bilər.\n",
      "\n",
      "Ən son, məhsulun istehsalında çevreyə zərər verməsinə kömək edən proseslərin təkmilləşdirilməsi və ya yeni proseslərin tətbiq edilməsi lazımdır. Bu, məhsulun istehsalında kullanılan enerjiyənin və ya materialların müddətindən asılı olmayan kaynaklardan alınmasına, ya da məhsulun istehsalında çevreyə zərər verməsinə kömək edən proseslərin optimallasına imkan verə bilər.\n",
      "\n",
      "Bu addımların hər birinin tətbiqi, ekoloji təmiz məhsulların istehsalını artırmaq və çevreyə zərər verməsinə kömək edə bilər.\n"
     ]
    },
    {
     "name": "stderr",
     "output_type": "stream",
     "text": [
      " 88%|████████▊ | 35/40 [10:32<01:30, 18.05s/it]"
     ]
    },
    {
     "name": "stdout",
     "output_type": "stream",
     "text": [
      "Rəqəmsal sənədləşdirmə, iş mühitində müxtəlif məlumatların və sənədlərin elektron formada saxlanması və idarə edilməsinə imkan verən bir prosesdir. Bu, iş proseslərinin verimliliyini artırıb, məlumatların təhlükəsizliyini və qorunub, müştərilərin məmnuniyyətini artırıb və işlərə zaman və pul tələbini azaldıb sağlayır.\n",
      "\n",
      "Rəqəmsal sənədləşdirmə, işlərə zaman və pul tələbini azaldır. Çünki, elektron formada saxlanılan sənədlər, müştərilərə təhsil edilən hər bir sənəd üçün yeni bir formanın hazırlanmasına gərək kalmır. Bu, müştərilərin məlumatlarının təhlükəsizliyi ilə bağlı qorxularını da azaldır.\n",
      "\n",
      "Rəqəmsal sənədləşdirmə, iş proseslərinin verimliliyini artırır. Çünki, müştərilərin məlumatlarının elektron formada saxlanılması, müştərilərin məlumatlarının hər dəfə yenidən daxil edilməsi və ya yenidən təhlil edilməsi ilə bağlı zaman və pul tələbini azaldır.\n",
      "\n",
      "Rəqəmsal sənədləşdirmə, müştərilərin məmnuniyyətini artırır. Çünki, müştərilərə təhsil edilən sənədlər elektron formada saxlanılırsa, müştərilər sənədləri daha hər hansı bir zaman və yerdən təhlil edə bilər və bu, müştərilərin məlumatlarının təhlükəsizliyi ilə bağlı qorxularını da azaldır.\n",
      "\n",
      "Bu səbəblərdən dolayı, rəqəmsal sənədləşdirmə, iş mühitində çox önəmli bir prosesdir.\n"
     ]
    },
    {
     "name": "stderr",
     "output_type": "stream",
     "text": [
      " 90%|█████████ | 36/40 [10:53<01:15, 19.00s/it]"
     ]
    },
    {
     "name": "stdout",
     "output_type": "stream",
     "text": [
      "Müasir incəsənət, cəmiyyətin dünya görüşünü, mühitini və məqsədlərini dəyişdirə biləcək qüvvəlidir. Bu nümunələr cəmiyyətə şunları təkmilləşdirə bilər:\n",
      "\n",
      "1. Fəlsəfə və mütəlaə: Müasir incəsənət nümunələri insanların fəlsəfə və mütəlaə üzrə düşüncələrini dəyişdirə bilər. Bu nümunələr insanların dünya üzrə fikirlərini genişləndirmək, onları daha ağır hiss edən problemlərə dikkat etmək və onların üzrində düşünmək üçün təklif edə bilər.\n",
      "\n",
      "2. İctimai təhlükəsizlik: Müasir incəsənət nümunələri, cəmiyyətə ictimai təhlükəsizlik üzrə düşünmək üçün təklif edə bilər. Bu nümunələr, insanların yaşadıqları ictimai problemlərə dikkat etmək, onların üzrində düşünmək və onlara qarşı əməkdaşlıq etmək üçün təklif edə bilər.\n",
      "\n",
      "3. İctimai birləşmə: Müasir incəsənət nümunələri, insanları birləşdirmək üçün təklif edə bilər. Bu nümunələr, insanların bir-birlərinə daha yaxın gəlməsini, onların arasındaki münasibətləri artırmaq və onların birlikdə əməkdaşlıq etməsini təklif edə bilər.\n",
      "\n",
      "4. Külturlaşma: Müasir incəsənət nümunələri, insanların külturlaşma prosesində önəmlidir. Bu nümunələr, insanların dünya üzrə fikirlərini genişləndirmək, onların kültürlərinə daha yaxın gəlməsini və onların arasındaki münasibətləri artırmaq üçün təklif edə bilər.\n",
      "\n",
      "5. İctimai təhlükəsizlik: Müasir incəsənət nümunələri, cəmiyyətə ictimai təhlükəsizlik üzrə düşünmək üçün təklif edə bilər. Bu nümunələr, insanların yaşadıqları ictimai problemlərə dikkat etmək, onların üzrində düşünmək və onlara qarşı əməkdaşlıq etmək üçün təklif edə bilər.\n",
      "\n",
      "6. İctimai birləşmə: Müasir incəsənət nümunələri, insanları birləşdirmək üçün təklif edə bilər. Bu nümunələr, insanların bir-birlərinə daha yaxın gəlməsini, onların arasındaki münasibətləri artırmaq və onların birlikdə əməkdaşlıq etməsini təklif edə bilər.\n",
      "\n",
      "7. Külturlaşma: Müasir incəsənət nümunələri, insanların külturlaşma prosesində önəmlidir. Bu nümunələr, insanların dünya üzrə fikirlərini genişləndirmək, onların kültürlərinə daha yaxın gəlməsini və onların arasındaki münasibətləri artırmaq üçün təklif edə bilər.\n",
      "\n",
      "8. İnkişaf: Müasir incəsənət nümunələri, insanların inkişafında önəmlidir. Bu nümunələr, insanların dünya üzrə fikirlərini genişləndirmək, onların inkişafında əməkdaşlıq etmək və onların inkişafında önəmli rol oynamaları üçün təklif edə bilər.\n",
      "\n",
      "Bu nümunələr, cəmiyyətə çox əhəmiyyətli təsirlər verə bilər və insanların yaşadıqları dünyaya daha yaxın gəlməsini, ona daha yaxın baxmaq və ona daha yaxın gəlmək istəyənləri təşviq edə bilər.\n"
     ]
    },
    {
     "name": "stderr",
     "output_type": "stream",
     "text": [
      " 92%|█████████▎| 37/40 [11:13<00:57, 19.05s/it]"
     ]
    },
    {
     "name": "stdout",
     "output_type": "stream",
     "text": [
      "Müəlliflərə görə, sağlam qidalanmaq üçün ən yaxşı mətbəx alətləri aşağıdakilərdir:\n",
      "\n",
      "1. Ən əsas alət, bir mətbəx qazanıdır. Mətbəx qazanının ən yaxşı materiallarından biri dəmirdir. Dəmir qazanların sağlamlığı və əməkdaşlığı üçün müştərilər arasında çox populyar olduqları üçün.\n",
      "\n",
      "2. Bir mətbəx diliməsi də ən yaxşı mətbəx alətləri arasındadır. Mətbəx diliməsi, ət və tərəvəzləri dilimləmək üçün çox mütləqdir. Mətbəx diliməsi, ən yaxşı materiallarından biri çəkmək üçün çəkmə dəmiridir.\n",
      "\n",
      "3. Bir mətbəx qaynarı, ən yaxşı mətbəx alətləri arasındadır. Mətbəx qaynarı, suyun qaynaması üçün çox mütləqdir. Mətbəx qaynarı, ən yaxşı materiallarından biri dəmirdir.\n",
      "\n",
      "4. Bir mətbəx çatal, ən yaxşı mətbəx alətləri arasındadır. Mətbəx çatalı, ət və tərəvəzləri qıyıb-qıyıb qoymaq üçün çox mütləqdir. Mətbəx çatalı, ən yaxşı materiallarından biri dəmirdir.\n",
      "\n",
      "5. Bir mətbəx qazanı, ən yaxşı mətbəx alətləri arasındadır. Mətbəx qazanı, ət və tərəvəzləri qoymaq üçün çox mütləqdir. Mətbəx qazanı, ən yaxşı materiallarından biri dəmirdir.\n",
      "\n",
      "6. Bir mətbəx qaynarı, ən yaxşı mətbəx alətləri arasındadır. Mətbəx qaynarı, suyun qaynaması üçün çox mütləqdir. Mətbəx qaynarı, ən yaxşı materiallarından biri dəmirdir.\n",
      "\n",
      "7. Bir mətbəx çırpıcı, ən yaxşı mətbəx alətləri arasındadır. Mətbəx çırpıcı, ət və tərəvəzləri çırpmaq üçün çox mütləqdir. Mətbəx çırpıcı, ən yaxşı materiallarından biri dəmirdir.\n",
      "\n",
      "8. Bir mətbəx qazanı, ən yaxşı mətbəx alətləri arasındadır. Mətbəx qazanı, ət və tərəvəzləri qoymaq üçün çox mütləqdir. Mətbəx qazanı, ən yaxşı materiallarından biri dəmirdir.\n",
      "\n",
      "9. Bir mətbəx qaynarı, ən yaxşı mətbəx alətləri arasındadır. Mətbəx qaynarı, suyun qaynaması üçün çox mütləqdir. Mətbəx qaynarı, ən yaxşı materiallarından biri dəmirdir.\n",
      "\n",
      "10. Bir mətbəx çırpıcı, ən yaxşı mətbəx alətləri arasındadır. Mətbəx çırpıcı, ət və tərəvəzləri çırpmaq üçün çox mütləqdir. Mətbəx çırpıcı, ən yaxşı materiallarından biri dəmirdir.\n",
      "\n",
      "Bu alətlər, sağlam qidalanmaq üçün ən yaxşı mətbəx alətləri arasındadırlar. Bunların ən yaxşı materiallarından biri dəmirdir. Dəmir, sağlamlığı və əməkdaşlığı üçün müştərilər arasında çox populyar olduqları üçün.\n"
     ]
    },
    {
     "name": "stderr",
     "output_type": "stream",
     "text": [
      " 95%|█████████▌| 38/40 [11:26<00:34, 17.27s/it]"
     ]
    },
    {
     "name": "stdout",
     "output_type": "stream",
     "text": [
      "Gələcək texnologiyalar həmişə dəyişən və çox şəraitə çevirmək mümkündür. Bu səbəbdən, onların ictimai həyatımıza təsirləri də çox çətin təhlil edilə bilər. Lakin, bəzi ən əsl təsirlər aşağıdakı kimi olmaq olar:\n",
      "\n",
      "1. İş dünyası: Gələcək texnologiyalar, iş dünyasını dəyişdirmək və yeni iş fırsatları yaratmaq mümkündür. Örnək, yapay zəkə, mühəndislik və tədqiqat səviyyələrini artırmaq və insanların yerinə yetəcək robotlar yaratmaq mümkündür.\n",
      "\n",
      "2. Səhiyyə: Gələcək texnologiyalar, səhiyyənin dəyişməsini və artırılmasını mümkün edəcək. Örnək, 3D çap edə biləcəyimiz yeni materiallar və yeni tədqiqatlarda yerləşən müxtəlif məqsədlər.\n",
      "\n",
      "3. İctimai münasibətlər: Gələcək texnologiyalar, ictimai münasibətlərə də təsir edəcək. Örnək, sosial şəbəkələr və diğər əleyhinələr, insanların bir-birinə daha yaxın və daha da qovuqlaşdırmaq mümkün edəcək.\n",
      "\n",
      "4. Sağlamlıq: Gələcək texnologiyalar, sağlamlıq sistemini də dəyişdirmək və artırmaq mümkündür. Örnək, yeni tədqiqatlar və yeni təlimatlar, insanların yaşamaq istədiyi yerlərə daha da yaxınlaşmaq və yaşamaq istədiyi yerlərə daha da uzlaşmaq mümkün edəcək.\n",
      "\n",
      "5. Təhsil: Gələcək texnologiyalar, təhsil sistemini də dəyişdirmək və artırmaq mümkündür. Örnək, yeni təlimatlar və yeni tədqiqatlar, insanların daha da yaxşı və daha da çox öyrənmək istədiyi yerlərə daha da yaxınlaşmaq və yaşamaq istədiyi yerlərə daha da uzlaşmaq mümkün edəcək.\n",
      "\n",
      "Bu səbəbdən, gələcək texnologiyalar ictimai həyatımıza çox ən əsl təsirlər edəcək və bizə yeni fırsatlar və imkanlar yaratacaq.\n"
     ]
    },
    {
     "name": "stderr",
     "output_type": "stream",
     "text": [
      " 98%|█████████▊| 39/40 [11:44<00:17, 17.59s/it]"
     ]
    },
    {
     "name": "stdout",
     "output_type": "stream",
     "text": [
      "Saatların tarixi ilk əhvalatdan bərpa olaraq başlayır. İlk saatlardan biri, gündən sonra gündüzün və gecənin ayrılmasını göstərdiyi günəş saatı idi. Bu saatlar, gündən sonra gündüz və gecənin ayrılmasını göstərdiyi qarşı qarşıya qoyulmuş iki obelisk vasitəsilə əməkdaşlıq edən günəş saatları idi.\n",
      "\n",
      "Sonra, 4000 yıllıq ilə əvvəl, Mısırda su saatlarının icra edilməsi başladı. Bu saatlar, suyun bir qazanda toplanması və doldurulması vasitəsilə zamanı ölçərdi.\n",
      "\n",
      "1300-cu illərdə, İsveçəviələrdə, saatlarda qızıl əksənə və ya qızıl çubuq istifadə edilməkdən sonra, saatlarda dəqiqə əksənəsini də istifadə etmək başlandı. Bu, saatlarda dəqiqələrə baxmaq mümkün olduğu anlaşılıb.\n",
      "\n",
      "1500-cu illərdə, saatlarda əksənələrin sayısı artdı və saatlarda dəqiqələrə və saniyələrə baxmaq mümkün oldu.\n",
      "\n",
      "1600-cu illərdə, Galileo Galilei, saatlarda əksənələrin sayısını artırmaq üçün, saatlarda qay tarixçəsini istifadə etmək məsləhəti ilə çıxdı. Bu, saatlarda dəqiqələrə və saniyələrə baxmaq daha da mümkün oldu.\n",
      "\n",
      "1700-cu illərdə, John Harrison, saatlarda əksənələrin sayısını artırmaq üçün, saatlarda qay tarixçəsini istifadə etmək məsləhəti ilə çıxdı. Bu, saatlarda dəqiqələrə və saniyələrə baxmaq daha da mümkün oldu.\n",
      "\n",
      "1800-cu illərdə, saatlarda əksənələrin sayısı artdı və saatlarda dəqiqələrə və saniyələrə baxmaq daha da mümkün oldu.\n",
      "\n",
      "1900-cu illərdə, saatlarda əksənələrin sayısı artdı və saatlarda dəqiqələrə və saniyələrə baxmaq daha da mümkün oldu.\n",
      "\n",
      "2000-cu illərdə, saatlarda əksənələrin sayısı artdı və saatlarda dəqiqələrə və saniyələrə baxmaq daha da mümkün oldu.\n",
      "\n",
      "Bu zamanlarda, saatlarda əksənələrin sayısı artırılıb və saatlarda dəqiqələrə və saniyələrə baxmaq daha da mümkün oldu. İndi, saatlarda əksənələrin sayısı çoxdur və saatlarda dəqiqələrə və saniyələrə baxmaq çox asandır.\n"
     ]
    },
    {
     "name": "stderr",
     "output_type": "stream",
     "text": [
      "100%|██████████| 40/40 [11:57<00:00, 17.95s/it]"
     ]
    },
    {
     "name": "stdout",
     "output_type": "stream",
     "text": [
      "Xoş gəlmisiniz! Yeni biznes qurmaq üçün nəzərə alınmalıdır ki, hər hansı biznes üçün risklər var. Bu risklər:\n",
      "\n",
      "1. Məhsul və ya xidmətin tələb olunması: Biznesi başlamaqdan əvvəl, müştərilərin sizin məhsul və ya xidmətinizi istədikləri və ona ehtiyacı olmadığı halda necə təklif edəcəyinizi düşünmək lazımdır.\n",
      "\n",
      "2. Rəqabət: Biznesi başlamaqdan əvvəl, rəqabətçilərin necə olub və onlarla necə rəqabət etmək lazımdır?\n",
      "\n",
      "3. Finansal risklər: Yeni biznes qurmaq üçün ən əvvəlki xərclər və finansal mənbələrə ehtiyacınız olacaq. Bu riskləri düşünmək lazımdır.\n",
      "\n",
      "4. İşçilər: Biznesi başlamaqdan əvvəl, işə gələcək şəxsələrin necə olub və onlarla necə işləmək lazımdır?\n",
      "\n",
      "5. Mərkəziyyət: Biznesi başlamaqdan əvvəl, mərkəziyyətin necə olub və ona necə əlverişləmək lazımdır?\n",
      "\n",
      "6. Məhsul və ya xidmətin qiyməti: Biznesi başlamaqdan əvvəl, məhsul və ya xidmətin qiymətini necə təyin etmək lazımdır.\n",
      "\n",
      "7. Məhsul və ya xidmətin təminatı: Biznesi başlamaqdan əvvəl, məhsul və ya xidmətin təminatını necə təmin etmək lazımdır.\n",
      "\n",
      "8. Məhsul və ya xidmətin təqdimatı: Biznesi başlamaqdan əvvəl, məhsul və ya xidmətin təqdimatını necə təşkil etmək lazımdır.\n",
      "\n",
      "9. Məhsul və ya xidmətin satışı: Biznesi başlamaqdan əvvəl, məhsul və ya xidmətin satışını necə təşkil etmək lazımdır.\n",
      "\n",
      "10. Məhsul və ya xidmətin təqdimatı: Biznesi başlamaqdan əvvəl, məhsul və ya xidmətin təqdimatını necə təşkil etmək lazımdır.\n",
      "\n",
      "Bu riskləri düşünmək lazımdır ki, yeni biznesi başarılı şəkildə qurmaq mümkün olacaq.\n"
     ]
    },
    {
     "name": "stderr",
     "output_type": "stream",
     "text": [
      "\n"
     ]
    }
   ],
   "source": [
    "import pandas as pd\n",
    "from tqdm import tqdm\n",
    "\n",
    "# df = pd.DataFrame(questions, columns=[\"prompt\"])\n",
    "\n",
    "model_name = \"mixtral-8x22b-instruct\"\n",
    "\n",
    "for question in tqdm(questions[60:]):\n",
    "    messages = [\n",
    "        {\n",
    "            \"role\": \"system\",\n",
    "            \"content\": (\n",
    "                \"You are an artificial intelligence assistant and you need to \"\n",
    "                \"engage in a helpful, detailed, polite conversation with a user. Answer question in Azerbaijani language.\"\n",
    "            ),\n",
    "        },\n",
    "        {\n",
    "            \"role\": \"user\",\n",
    "            \"content\": (\n",
    "                question\n",
    "            ),\n",
    "        },\n",
    "        ]\n",
    "    response = client.chat.completions.create(\n",
    "        model=model_name,\n",
    "        messages=messages,\n",
    "    ).dict()['choices'][0]['message']['content']\n",
    "    print(response)\n",
    "    df.loc[df[\"prompt\"] == question, model_name] = response"
   ]
  },
  {
   "cell_type": "code",
   "execution_count": 65,
   "metadata": {},
   "outputs": [
    {
     "data": {
      "text/plain": [
       "'mixtral-8x7b-instruct'"
      ]
     },
     "execution_count": 65,
     "metadata": {},
     "output_type": "execute_result"
    }
   ],
   "source": [
    "model_name"
   ]
  },
  {
   "cell_type": "code",
   "execution_count": 69,
   "metadata": {},
   "outputs": [
    {
     "data": {
      "text/html": [
       "<div>\n",
       "<style scoped>\n",
       "    .dataframe tbody tr th:only-of-type {\n",
       "        vertical-align: middle;\n",
       "    }\n",
       "\n",
       "    .dataframe tbody tr th {\n",
       "        vertical-align: top;\n",
       "    }\n",
       "\n",
       "    .dataframe thead th {\n",
       "        text-align: right;\n",
       "    }\n",
       "</style>\n",
       "<table border=\"1\" class=\"dataframe\">\n",
       "  <thead>\n",
       "    <tr style=\"text-align: right;\">\n",
       "      <th></th>\n",
       "      <th>prompt</th>\n",
       "      <th>mistral-7b-instruct</th>\n",
       "      <th>llama-3-8b-instruct</th>\n",
       "      <th>mixtral-8x7b-instruct</th>\n",
       "      <th>mixtral-8x22b-instruct</th>\n",
       "    </tr>\n",
       "  </thead>\n",
       "  <tbody>\n",
       "    <tr>\n",
       "      <th>0</th>\n",
       "      <td>Pizza necə hazırlanır?</td>\n",
       "      <td>Seni çözdüm, aşağıdaki yönerləmələr dəyərlidir...</td>\n",
       "      <td>Sevimli pizzanı hazırlamaq üçün, ilk növbədə, ...</td>\n",
       "      <td>Pizza, peşəkar tarzda hazırlanmaqla, pizza pət...</td>\n",
       "      <td>Pizza hazırlamaq üçün, şəxsi bir pizza doyğu (...</td>\n",
       "    </tr>\n",
       "    <tr>\n",
       "      <th>1</th>\n",
       "      <td>Sağlam qalmağın yolları nələrdir?</td>\n",
       "      <td>Xoş gəlmisiniz! Sağlam qalmaq için önemli olma...</td>\n",
       "      <td>Sağlam qalmağın yolları çox vaxt fiziki fəaliy...</td>\n",
       "      <td>Məsali, sağlam qalmağın yollarıdır:\\n\\n1. Daha...</td>\n",
       "      <td>Sağlam qalmaq üçün əsası, dərmanlı tədbirlər, ...</td>\n",
       "    </tr>\n",
       "    <tr>\n",
       "      <th>2</th>\n",
       "      <td>Kitab oxumağın faydaları nələrdir?</td>\n",
       "      <td>Sen Kitab oxumağın faydaları haqqında sorduğun...</td>\n",
       "      <td>Kitab oxumağın çoxsaylı faydaları var. Birinci...</td>\n",
       "      <td>Xeyr, mən sizin sualınızı təşkil edə bilmirdim...</td>\n",
       "      <td>Kitab oxumağın faydaları çox sayıdır. Bu, fərd...</td>\n",
       "    </tr>\n",
       "    <tr>\n",
       "      <th>3</th>\n",
       "      <td>Vaxtını effektiv idarə etmək üçün nə etmək laz...</td>\n",
       "      <td>Senin vaxtını effektif bir şekilde idare etmək...</td>\n",
       "      <td>Vaxtını effektiv idarə etmək üçün bir neçə str...</td>\n",
       "      <td>Zəhmet olmasa, vaxtını idarə etmək üçün aşağıd...</td>\n",
       "      <td>Zamanı effektiv idarə etmək üçün, bir neçə əsa...</td>\n",
       "    </tr>\n",
       "    <tr>\n",
       "      <th>4</th>\n",
       "      <td>Yaxşı fotoşəkil çəkmək üçün nələrə diqqət etmə...</td>\n",
       "      <td>Xoş gelmisiniz! Bu sorunun cəvdələxi üçün aşağ...</td>\n",
       "      <td>Yaxşı fotoşəkil çəkmək üçün bir neçə faktor di...</td>\n",
       "      <td>Məsələn, fotoşəklin qüdrələndirilməsi, kompozi...</td>\n",
       "      <td>Xoş gəlmisiniz! Fotoşəkil çəkmək üçün daha yax...</td>\n",
       "    </tr>\n",
       "    <tr>\n",
       "      <th>...</th>\n",
       "      <td>...</td>\n",
       "      <td>...</td>\n",
       "      <td>...</td>\n",
       "      <td>...</td>\n",
       "      <td>...</td>\n",
       "    </tr>\n",
       "    <tr>\n",
       "      <th>95</th>\n",
       "      <td>Müasir incəsənət nümunələrinin cəmiyyətə təsir...</td>\n",
       "      <td>Müasir incəsənət nümunələri, yani modern tekno...</td>\n",
       "      <td>Müasir incəsənət nümunələrinin cəmiyyətə təsir...</td>\n",
       "      <td>Müasir incəsənət nümunələrinin cəmiyyətə təsir...</td>\n",
       "      <td>NaN</td>\n",
       "    </tr>\n",
       "    <tr>\n",
       "      <th>96</th>\n",
       "      <td>Sağlam qidalanmaq üçün ən yaxşı mətbəx alətlər...</td>\n",
       "      <td>Xoş gelmisiniz! Şu sorusunuzda siz, sağlam qid...</td>\n",
       "      <td>Salam Sağlam qidalanmaq üçün ən yaxşı mətbəx a...</td>\n",
       "      <td>Məsələn, sağlam qidalanmaq üçün sizin işsizlik...</td>\n",
       "      <td>NaN</td>\n",
       "    </tr>\n",
       "    <tr>\n",
       "      <th>97</th>\n",
       "      <td>Gələcək texnologiyaların ictimai həyatımıza tə...</td>\n",
       "      <td>Senin sorgusunuzda, gələcək teknologiyaların İ...</td>\n",
       "      <td>Ziyarət edəniniz üçün rəhmət Gələcək texnologi...</td>\n",
       "      <td>Məsələn, gələcək texnologiyaların ictimai həya...</td>\n",
       "      <td>NaN</td>\n",
       "    </tr>\n",
       "    <tr>\n",
       "      <th>98</th>\n",
       "      <td>Saatların tarixi və onların inkişafı necə olub?</td>\n",
       "      <td>Senin sorguladığın zaman, \"Saatların tarixi və...</td>\n",
       "      <td>Sizin soruşduyunuz məsələyə cavab vermək üçün,...</td>\n",
       "      <td>Saatların tarixi ancient civilizationsda başla...</td>\n",
       "      <td>NaN</td>\n",
       "    </tr>\n",
       "    <tr>\n",
       "      <th>99</th>\n",
       "      <td>Yeni biznes qurmaq üçün nəzərə alınmalı risklə...</td>\n",
       "      <td>Xoş geldiniz! Biznes qurmaq üçün risklər hər z...</td>\n",
       "      <td>Əslən, yeni biznes qurmaq üçün risklər var, la...</td>\n",
       "      <td>Məsələn, yeni biznes qurmaq üçün şunları qəbul...</td>\n",
       "      <td>NaN</td>\n",
       "    </tr>\n",
       "  </tbody>\n",
       "</table>\n",
       "<p>100 rows × 5 columns</p>\n",
       "</div>"
      ],
      "text/plain": [
       "                                               prompt  \\\n",
       "0                              Pizza necə hazırlanır?   \n",
       "1                   Sağlam qalmağın yolları nələrdir?   \n",
       "2                  Kitab oxumağın faydaları nələrdir?   \n",
       "3   Vaxtını effektiv idarə etmək üçün nə etmək laz...   \n",
       "4   Yaxşı fotoşəkil çəkmək üçün nələrə diqqət etmə...   \n",
       "..                                                ...   \n",
       "95  Müasir incəsənət nümunələrinin cəmiyyətə təsir...   \n",
       "96  Sağlam qidalanmaq üçün ən yaxşı mətbəx alətlər...   \n",
       "97  Gələcək texnologiyaların ictimai həyatımıza tə...   \n",
       "98    Saatların tarixi və onların inkişafı necə olub?   \n",
       "99  Yeni biznes qurmaq üçün nəzərə alınmalı risklə...   \n",
       "\n",
       "                                  mistral-7b-instruct  \\\n",
       "0   Seni çözdüm, aşağıdaki yönerləmələr dəyərlidir...   \n",
       "1   Xoş gəlmisiniz! Sağlam qalmaq için önemli olma...   \n",
       "2   Sen Kitab oxumağın faydaları haqqında sorduğun...   \n",
       "3   Senin vaxtını effektif bir şekilde idare etmək...   \n",
       "4   Xoş gelmisiniz! Bu sorunun cəvdələxi üçün aşağ...   \n",
       "..                                                ...   \n",
       "95  Müasir incəsənət nümunələri, yani modern tekno...   \n",
       "96  Xoş gelmisiniz! Şu sorusunuzda siz, sağlam qid...   \n",
       "97  Senin sorgusunuzda, gələcək teknologiyaların İ...   \n",
       "98  Senin sorguladığın zaman, \"Saatların tarixi və...   \n",
       "99  Xoş geldiniz! Biznes qurmaq üçün risklər hər z...   \n",
       "\n",
       "                                  llama-3-8b-instruct  \\\n",
       "0   Sevimli pizzanı hazırlamaq üçün, ilk növbədə, ...   \n",
       "1   Sağlam qalmağın yolları çox vaxt fiziki fəaliy...   \n",
       "2   Kitab oxumağın çoxsaylı faydaları var. Birinci...   \n",
       "3   Vaxtını effektiv idarə etmək üçün bir neçə str...   \n",
       "4   Yaxşı fotoşəkil çəkmək üçün bir neçə faktor di...   \n",
       "..                                                ...   \n",
       "95  Müasir incəsənət nümunələrinin cəmiyyətə təsir...   \n",
       "96  Salam Sağlam qidalanmaq üçün ən yaxşı mətbəx a...   \n",
       "97  Ziyarət edəniniz üçün rəhmət Gələcək texnologi...   \n",
       "98  Sizin soruşduyunuz məsələyə cavab vermək üçün,...   \n",
       "99  Əslən, yeni biznes qurmaq üçün risklər var, la...   \n",
       "\n",
       "                                mixtral-8x7b-instruct  \\\n",
       "0   Pizza, peşəkar tarzda hazırlanmaqla, pizza pət...   \n",
       "1   Məsali, sağlam qalmağın yollarıdır:\\n\\n1. Daha...   \n",
       "2   Xeyr, mən sizin sualınızı təşkil edə bilmirdim...   \n",
       "3   Zəhmet olmasa, vaxtını idarə etmək üçün aşağıd...   \n",
       "4   Məsələn, fotoşəklin qüdrələndirilməsi, kompozi...   \n",
       "..                                                ...   \n",
       "95  Müasir incəsənət nümunələrinin cəmiyyətə təsir...   \n",
       "96  Məsələn, sağlam qidalanmaq üçün sizin işsizlik...   \n",
       "97  Məsələn, gələcək texnologiyaların ictimai həya...   \n",
       "98  Saatların tarixi ancient civilizationsda başla...   \n",
       "99  Məsələn, yeni biznes qurmaq üçün şunları qəbul...   \n",
       "\n",
       "                               mixtral-8x22b-instruct  \n",
       "0   Pizza hazırlamaq üçün, şəxsi bir pizza doyğu (...  \n",
       "1   Sağlam qalmaq üçün əsası, dərmanlı tədbirlər, ...  \n",
       "2   Kitab oxumağın faydaları çox sayıdır. Bu, fərd...  \n",
       "3   Zamanı effektiv idarə etmək üçün, bir neçə əsa...  \n",
       "4   Xoş gəlmisiniz! Fotoşəkil çəkmək üçün daha yax...  \n",
       "..                                                ...  \n",
       "95                                                NaN  \n",
       "96                                                NaN  \n",
       "97                                                NaN  \n",
       "98                                                NaN  \n",
       "99                                                NaN  \n",
       "\n",
       "[100 rows x 5 columns]"
      ]
     },
     "execution_count": 69,
     "metadata": {},
     "output_type": "execute_result"
    }
   ],
   "source": [
    "df"
   ]
  },
  {
   "cell_type": "code",
   "execution_count": 75,
   "metadata": {},
   "outputs": [
    {
     "data": {
      "text/html": [
       "<div>\n",
       "<style scoped>\n",
       "    .dataframe tbody tr th:only-of-type {\n",
       "        vertical-align: middle;\n",
       "    }\n",
       "\n",
       "    .dataframe tbody tr th {\n",
       "        vertical-align: top;\n",
       "    }\n",
       "\n",
       "    .dataframe thead th {\n",
       "        text-align: right;\n",
       "    }\n",
       "</style>\n",
       "<table border=\"1\" class=\"dataframe\">\n",
       "  <thead>\n",
       "    <tr style=\"text-align: right;\">\n",
       "      <th></th>\n",
       "      <th>prompt</th>\n",
       "      <th>mistral-7b-instruct</th>\n",
       "      <th>llama-3-8b-instruct</th>\n",
       "      <th>mixtral-8x7b-instruct</th>\n",
       "      <th>mixtral-8x22b-instruct</th>\n",
       "    </tr>\n",
       "  </thead>\n",
       "  <tbody>\n",
       "    <tr>\n",
       "      <th>0</th>\n",
       "      <td>Pizza necə hazırlanır?</td>\n",
       "      <td>Seni çözdüm, aşağıdaki yönerləmələr dəyərlidir...</td>\n",
       "      <td>Sevimli pizzanı hazırlamaq üçün, ilk növbədə, ...</td>\n",
       "      <td>Pizza, peşəkar tarzda hazırlanmaqla, pizza pət...</td>\n",
       "      <td>Pizza hazırlamaq üçün, şəxsi bir pizza doyğu (...</td>\n",
       "    </tr>\n",
       "    <tr>\n",
       "      <th>1</th>\n",
       "      <td>Sağlam qalmağın yolları nələrdir?</td>\n",
       "      <td>Xoş gəlmisiniz! Sağlam qalmaq için önemli olma...</td>\n",
       "      <td>Sağlam qalmağın yolları çox vaxt fiziki fəaliy...</td>\n",
       "      <td>Məsali, sağlam qalmağın yollarıdır:\\n\\n1. Daha...</td>\n",
       "      <td>Sağlam qalmaq üçün əsası, dərmanlı tədbirlər, ...</td>\n",
       "    </tr>\n",
       "    <tr>\n",
       "      <th>2</th>\n",
       "      <td>Kitab oxumağın faydaları nələrdir?</td>\n",
       "      <td>Sen Kitab oxumağın faydaları haqqında sorduğun...</td>\n",
       "      <td>Kitab oxumağın çoxsaylı faydaları var. Birinci...</td>\n",
       "      <td>Xeyr, mən sizin sualınızı təşkil edə bilmirdim...</td>\n",
       "      <td>Kitab oxumağın faydaları çox sayıdır. Bu, fərd...</td>\n",
       "    </tr>\n",
       "    <tr>\n",
       "      <th>3</th>\n",
       "      <td>Vaxtını effektiv idarə etmək üçün nə etmək laz...</td>\n",
       "      <td>Senin vaxtını effektif bir şekilde idare etmək...</td>\n",
       "      <td>Vaxtını effektiv idarə etmək üçün bir neçə str...</td>\n",
       "      <td>Zəhmet olmasa, vaxtını idarə etmək üçün aşağıd...</td>\n",
       "      <td>Zamanı effektiv idarə etmək üçün, bir neçə əsa...</td>\n",
       "    </tr>\n",
       "    <tr>\n",
       "      <th>4</th>\n",
       "      <td>Yaxşı fotoşəkil çəkmək üçün nələrə diqqət etmə...</td>\n",
       "      <td>Xoş gelmisiniz! Bu sorunun cəvdələxi üçün aşağ...</td>\n",
       "      <td>Yaxşı fotoşəkil çəkmək üçün bir neçə faktor di...</td>\n",
       "      <td>Məsələn, fotoşəklin qüdrələndirilməsi, kompozi...</td>\n",
       "      <td>Xoş gəlmisiniz! Fotoşəkil çəkmək üçün daha yax...</td>\n",
       "    </tr>\n",
       "    <tr>\n",
       "      <th>...</th>\n",
       "      <td>...</td>\n",
       "      <td>...</td>\n",
       "      <td>...</td>\n",
       "      <td>...</td>\n",
       "      <td>...</td>\n",
       "    </tr>\n",
       "    <tr>\n",
       "      <th>95</th>\n",
       "      <td>Müasir incəsənət nümunələrinin cəmiyyətə təsir...</td>\n",
       "      <td>Müasir incəsənət nümunələri, yani modern tekno...</td>\n",
       "      <td>Müasir incəsənət nümunələrinin cəmiyyətə təsir...</td>\n",
       "      <td>Müasir incəsənət nümunələrinin cəmiyyətə təsir...</td>\n",
       "      <td>Müasir incəsənət, cəmiyyətin dünya görüşünü, m...</td>\n",
       "    </tr>\n",
       "    <tr>\n",
       "      <th>96</th>\n",
       "      <td>Sağlam qidalanmaq üçün ən yaxşı mətbəx alətlər...</td>\n",
       "      <td>Xoş gelmisiniz! Şu sorusunuzda siz, sağlam qid...</td>\n",
       "      <td>Salam Sağlam qidalanmaq üçün ən yaxşı mətbəx a...</td>\n",
       "      <td>Məsələn, sağlam qidalanmaq üçün sizin işsizlik...</td>\n",
       "      <td>Müəlliflərə görə, sağlam qidalanmaq üçün ən ya...</td>\n",
       "    </tr>\n",
       "    <tr>\n",
       "      <th>97</th>\n",
       "      <td>Gələcək texnologiyaların ictimai həyatımıza tə...</td>\n",
       "      <td>Senin sorgusunuzda, gələcək teknologiyaların İ...</td>\n",
       "      <td>Ziyarət edəniniz üçün rəhmət Gələcək texnologi...</td>\n",
       "      <td>Məsələn, gələcək texnologiyaların ictimai həya...</td>\n",
       "      <td>Gələcək texnologiyalar həmişə dəyişən və çox ş...</td>\n",
       "    </tr>\n",
       "    <tr>\n",
       "      <th>98</th>\n",
       "      <td>Saatların tarixi və onların inkişafı necə olub?</td>\n",
       "      <td>Senin sorguladığın zaman, \"Saatların tarixi və...</td>\n",
       "      <td>Sizin soruşduyunuz məsələyə cavab vermək üçün,...</td>\n",
       "      <td>Saatların tarixi ancient civilizationsda başla...</td>\n",
       "      <td>Saatların tarixi ilk əhvalatdan bərpa olaraq b...</td>\n",
       "    </tr>\n",
       "    <tr>\n",
       "      <th>99</th>\n",
       "      <td>Yeni biznes qurmaq üçün nəzərə alınmalı risklə...</td>\n",
       "      <td>Xoş geldiniz! Biznes qurmaq üçün risklər hər z...</td>\n",
       "      <td>Əslən, yeni biznes qurmaq üçün risklər var, la...</td>\n",
       "      <td>Məsələn, yeni biznes qurmaq üçün şunları qəbul...</td>\n",
       "      <td>Xoş gəlmisiniz! Yeni biznes qurmaq üçün nəzərə...</td>\n",
       "    </tr>\n",
       "  </tbody>\n",
       "</table>\n",
       "<p>100 rows × 5 columns</p>\n",
       "</div>"
      ],
      "text/plain": [
       "                                               prompt  \\\n",
       "0                              Pizza necə hazırlanır?   \n",
       "1                   Sağlam qalmağın yolları nələrdir?   \n",
       "2                  Kitab oxumağın faydaları nələrdir?   \n",
       "3   Vaxtını effektiv idarə etmək üçün nə etmək laz...   \n",
       "4   Yaxşı fotoşəkil çəkmək üçün nələrə diqqət etmə...   \n",
       "..                                                ...   \n",
       "95  Müasir incəsənət nümunələrinin cəmiyyətə təsir...   \n",
       "96  Sağlam qidalanmaq üçün ən yaxşı mətbəx alətlər...   \n",
       "97  Gələcək texnologiyaların ictimai həyatımıza tə...   \n",
       "98    Saatların tarixi və onların inkişafı necə olub?   \n",
       "99  Yeni biznes qurmaq üçün nəzərə alınmalı risklə...   \n",
       "\n",
       "                                  mistral-7b-instruct  \\\n",
       "0   Seni çözdüm, aşağıdaki yönerləmələr dəyərlidir...   \n",
       "1   Xoş gəlmisiniz! Sağlam qalmaq için önemli olma...   \n",
       "2   Sen Kitab oxumağın faydaları haqqında sorduğun...   \n",
       "3   Senin vaxtını effektif bir şekilde idare etmək...   \n",
       "4   Xoş gelmisiniz! Bu sorunun cəvdələxi üçün aşağ...   \n",
       "..                                                ...   \n",
       "95  Müasir incəsənət nümunələri, yani modern tekno...   \n",
       "96  Xoş gelmisiniz! Şu sorusunuzda siz, sağlam qid...   \n",
       "97  Senin sorgusunuzda, gələcək teknologiyaların İ...   \n",
       "98  Senin sorguladığın zaman, \"Saatların tarixi və...   \n",
       "99  Xoş geldiniz! Biznes qurmaq üçün risklər hər z...   \n",
       "\n",
       "                                  llama-3-8b-instruct  \\\n",
       "0   Sevimli pizzanı hazırlamaq üçün, ilk növbədə, ...   \n",
       "1   Sağlam qalmağın yolları çox vaxt fiziki fəaliy...   \n",
       "2   Kitab oxumağın çoxsaylı faydaları var. Birinci...   \n",
       "3   Vaxtını effektiv idarə etmək üçün bir neçə str...   \n",
       "4   Yaxşı fotoşəkil çəkmək üçün bir neçə faktor di...   \n",
       "..                                                ...   \n",
       "95  Müasir incəsənət nümunələrinin cəmiyyətə təsir...   \n",
       "96  Salam Sağlam qidalanmaq üçün ən yaxşı mətbəx a...   \n",
       "97  Ziyarət edəniniz üçün rəhmət Gələcək texnologi...   \n",
       "98  Sizin soruşduyunuz məsələyə cavab vermək üçün,...   \n",
       "99  Əslən, yeni biznes qurmaq üçün risklər var, la...   \n",
       "\n",
       "                                mixtral-8x7b-instruct  \\\n",
       "0   Pizza, peşəkar tarzda hazırlanmaqla, pizza pət...   \n",
       "1   Məsali, sağlam qalmağın yollarıdır:\\n\\n1. Daha...   \n",
       "2   Xeyr, mən sizin sualınızı təşkil edə bilmirdim...   \n",
       "3   Zəhmet olmasa, vaxtını idarə etmək üçün aşağıd...   \n",
       "4   Məsələn, fotoşəklin qüdrələndirilməsi, kompozi...   \n",
       "..                                                ...   \n",
       "95  Müasir incəsənət nümunələrinin cəmiyyətə təsir...   \n",
       "96  Məsələn, sağlam qidalanmaq üçün sizin işsizlik...   \n",
       "97  Məsələn, gələcək texnologiyaların ictimai həya...   \n",
       "98  Saatların tarixi ancient civilizationsda başla...   \n",
       "99  Məsələn, yeni biznes qurmaq üçün şunları qəbul...   \n",
       "\n",
       "                               mixtral-8x22b-instruct  \n",
       "0   Pizza hazırlamaq üçün, şəxsi bir pizza doyğu (...  \n",
       "1   Sağlam qalmaq üçün əsası, dərmanlı tədbirlər, ...  \n",
       "2   Kitab oxumağın faydaları çox sayıdır. Bu, fərd...  \n",
       "3   Zamanı effektiv idarə etmək üçün, bir neçə əsa...  \n",
       "4   Xoş gəlmisiniz! Fotoşəkil çəkmək üçün daha yax...  \n",
       "..                                                ...  \n",
       "95  Müasir incəsənət, cəmiyyətin dünya görüşünü, m...  \n",
       "96  Müəlliflərə görə, sağlam qidalanmaq üçün ən ya...  \n",
       "97  Gələcək texnologiyalar həmişə dəyişən və çox ş...  \n",
       "98  Saatların tarixi ilk əhvalatdan bərpa olaraq b...  \n",
       "99  Xoş gəlmisiniz! Yeni biznes qurmaq üçün nəzərə...  \n",
       "\n",
       "[100 rows x 5 columns]"
      ]
     },
     "execution_count": 75,
     "metadata": {},
     "output_type": "execute_result"
    }
   ],
   "source": [
    "df"
   ]
  },
  {
   "cell_type": "code",
   "execution_count": 74,
   "metadata": {},
   "outputs": [
    {
     "data": {
      "text/plain": [
       "prompt                    0\n",
       "mistral-7b-instruct       0\n",
       "llama-3-8b-instruct       0\n",
       "mixtral-8x7b-instruct     0\n",
       "mixtral-8x22b-instruct    0\n",
       "dtype: int64"
      ]
     },
     "execution_count": 74,
     "metadata": {},
     "output_type": "execute_result"
    }
   ],
   "source": [
    "# show na values according all columns\n",
    "df.isna().sum()\n"
   ]
  },
  {
   "cell_type": "code",
   "execution_count": 88,
   "metadata": {},
   "outputs": [],
   "source": [
    "df.to_csv(\"responses.csv\", index=False)"
   ]
  },
  {
   "cell_type": "code",
   "execution_count": 89,
   "metadata": {},
   "outputs": [
    {
     "data": {
      "text/html": [
       "<div>\n",
       "<style scoped>\n",
       "    .dataframe tbody tr th:only-of-type {\n",
       "        vertical-align: middle;\n",
       "    }\n",
       "\n",
       "    .dataframe tbody tr th {\n",
       "        vertical-align: top;\n",
       "    }\n",
       "\n",
       "    .dataframe thead th {\n",
       "        text-align: right;\n",
       "    }\n",
       "</style>\n",
       "<table border=\"1\" class=\"dataframe\">\n",
       "  <thead>\n",
       "    <tr style=\"text-align: right;\">\n",
       "      <th></th>\n",
       "      <th>prompt</th>\n",
       "      <th>mistral-7b-instruct</th>\n",
       "      <th>llama-3-8b-instruct</th>\n",
       "      <th>mixtral-8x7b-instruct</th>\n",
       "      <th>mixtral-8x22b-instruct</th>\n",
       "      <th>llama3-70b</th>\n",
       "      <th>gemma-7b-it</th>\n",
       "      <th>gpt35-turbo</th>\n",
       "    </tr>\n",
       "  </thead>\n",
       "  <tbody>\n",
       "    <tr>\n",
       "      <th>0</th>\n",
       "      <td>Pizza necə hazırlanır?</td>\n",
       "      <td>Seni çözdüm, aşağıdaki yönerləmələr dəyərlidir...</td>\n",
       "      <td>Sevimli pizzanı hazırlamaq üçün, ilk növbədə, ...</td>\n",
       "      <td>Pizza, peşəkar tarzda hazırlanmaqla, pizza pət...</td>\n",
       "      <td>Pizza hazırlamaq üçün, şəxsi bir pizza doyğu (...</td>\n",
       "      <td>Pizza hazırlanması üçün lazım olan şeylər:\\n\\n...</td>\n",
       "      <td>Pizza hazırlanması üçün aşağıdakı adımlardan b...</td>\n",
       "      <td>Pizza hazırlamaq çox sadə və zövqverici bir pr...</td>\n",
       "    </tr>\n",
       "    <tr>\n",
       "      <th>1</th>\n",
       "      <td>Sağlam qalmağın yolları nələrdir?</td>\n",
       "      <td>Xoş gəlmisiniz! Sağlam qalmaq için önemli olma...</td>\n",
       "      <td>Sağlam qalmağın yolları çox vaxt fiziki fəaliy...</td>\n",
       "      <td>Məsali, sağlam qalmağın yollarıdır:\\n\\n1. Daha...</td>\n",
       "      <td>Sağlam qalmaq üçün əsası, dərmanlı tədbirlər, ...</td>\n",
       "      <td>Sağlamlıq üçün vacib olan yollar arasında aşağ...</td>\n",
       "      <td>Sağlam qalmağın yolları arasında:\\n\\n- Düzgün ...</td>\n",
       "      <td>Sağlam qalmaq və sağlamlıq üçün bir neçə əsas ...</td>\n",
       "    </tr>\n",
       "    <tr>\n",
       "      <th>2</th>\n",
       "      <td>Kitab oxumağın faydaları nələrdir?</td>\n",
       "      <td>Sen Kitab oxumağın faydaları haqqında sorduğun...</td>\n",
       "      <td>Kitab oxumağın çoxsaylı faydaları var. Birinci...</td>\n",
       "      <td>Xeyr, mən sizin sualınızı təşkil edə bilmirdim...</td>\n",
       "      <td>Kitab oxumağın faydaları çox sayıdır. Bu, fərd...</td>\n",
       "      <td>Kitab oxumağın çoxsaylı faydaları vardır. Aşağ...</td>\n",
       "      <td>Kitab oxumamanın faydaları çox sayıda olsa da,...</td>\n",
       "      <td>Kitab oxumaq insanın zehni və ruhi inkişafı üç...</td>\n",
       "    </tr>\n",
       "    <tr>\n",
       "      <th>3</th>\n",
       "      <td>Vaxtını effektiv idarə etmək üçün nə etmək laz...</td>\n",
       "      <td>Senin vaxtını effektif bir şekilde idare etmək...</td>\n",
       "      <td>Vaxtını effektiv idarə etmək üçün bir neçə str...</td>\n",
       "      <td>Zəhmet olmasa, vaxtını idarə etmək üçün aşağıd...</td>\n",
       "      <td>Zamanı effektiv idarə etmək üçün, bir neçə əsa...</td>\n",
       "      <td>Vaxtını effektiv idarə etmək üçün aşağıdakı ad...</td>\n",
       "      <td>Vaxtın effektiv idarə edilmesi üçün aşağıdakil...</td>\n",
       "      <td>Vaxtı effektiv idarə etmək üçün bəzi əsas prin...</td>\n",
       "    </tr>\n",
       "    <tr>\n",
       "      <th>4</th>\n",
       "      <td>Yaxşı fotoşəkil çəkmək üçün nələrə diqqət etmə...</td>\n",
       "      <td>Xoş gelmisiniz! Bu sorunun cəvdələxi üçün aşağ...</td>\n",
       "      <td>Yaxşı fotoşəkil çəkmək üçün bir neçə faktor di...</td>\n",
       "      <td>Məsələn, fotoşəklin qüdrələndirilməsi, kompozi...</td>\n",
       "      <td>Xoş gəlmisiniz! Fotoşəkil çəkmək üçün daha yax...</td>\n",
       "      <td>Yaxşı fotoşəkil çəkmək üçün diqqət etmək lazım...</td>\n",
       "      <td>Yaxşı fotoşəkil çəkmək üçün diqqət etmək gerek...</td>\n",
       "      <td>Yaxşı bir fotoşəkil çəkmək üçün bir neçə əsas ...</td>\n",
       "    </tr>\n",
       "    <tr>\n",
       "      <th>...</th>\n",
       "      <td>...</td>\n",
       "      <td>...</td>\n",
       "      <td>...</td>\n",
       "      <td>...</td>\n",
       "      <td>...</td>\n",
       "      <td>...</td>\n",
       "      <td>...</td>\n",
       "      <td>...</td>\n",
       "    </tr>\n",
       "    <tr>\n",
       "      <th>95</th>\n",
       "      <td>Müasir incəsənət nümunələrinin cəmiyyətə təsir...</td>\n",
       "      <td>Müasir incəsənət nümunələri, yani modern tekno...</td>\n",
       "      <td>Müasir incəsənət nümunələrinin cəmiyyətə təsir...</td>\n",
       "      <td>Müasir incəsənət nümunələrinin cəmiyyətə təsir...</td>\n",
       "      <td>Müasir incəsənət, cəmiyyətin dünya görüşünü, m...</td>\n",
       "      <td>Müasir incəsənət nümunələrinin cəmiyyətə təsir...</td>\n",
       "      <td>Müasir incəsənət nümunələri cəmiyyətə bir neçə...</td>\n",
       "      <td>Müasir incəsənət, cəmiyyətə çoxsa, mənsub oldu...</td>\n",
       "    </tr>\n",
       "    <tr>\n",
       "      <th>96</th>\n",
       "      <td>Sağlam qidalanmaq üçün ən yaxşı mətbəx alətlər...</td>\n",
       "      <td>Xoş gelmisiniz! Şu sorusunuzda siz, sağlam qid...</td>\n",
       "      <td>Salam Sağlam qidalanmaq üçün ən yaxşı mətbəx a...</td>\n",
       "      <td>Məsələn, sağlam qidalanmaq üçün sizin işsizlik...</td>\n",
       "      <td>Müəlliflərə görə, sağlam qidalanmaq üçün ən ya...</td>\n",
       "      <td>Sizin sualınıza cavab verirəm!\\n\\nSağlam qidal...</td>\n",
       "      <td>Sağlam qidalanmaq üçün ən yaxşı mətbəx alətlər...</td>\n",
       "      <td>Sağlam qidalanmaq üçün mətbəxdə ən yaxşı alətl...</td>\n",
       "    </tr>\n",
       "    <tr>\n",
       "      <th>97</th>\n",
       "      <td>Gələcək texnologiyaların ictimai həyatımıza tə...</td>\n",
       "      <td>Senin sorgusunuzda, gələcək teknologiyaların İ...</td>\n",
       "      <td>Ziyarət edəniniz üçün rəhmət Gələcək texnologi...</td>\n",
       "      <td>Məsələn, gələcək texnologiyaların ictimai həya...</td>\n",
       "      <td>Gələcək texnologiyalar həmişə dəyişən və çox ş...</td>\n",
       "      <td>Gələcək texnologiyaların ictimai həyatımıza tə...</td>\n",
       "      <td>Gələcək texnologiyaların ictimai həyatımıza tə...</td>\n",
       "      <td>Gələcəkdə texnologiyalar ictimai həyatımıza də...</td>\n",
       "    </tr>\n",
       "    <tr>\n",
       "      <th>98</th>\n",
       "      <td>Saatların tarixi və onların inkişafı necə olub?</td>\n",
       "      <td>Senin sorguladığın zaman, \"Saatların tarixi və...</td>\n",
       "      <td>Sizin soruşduyunuz məsələyə cavab vermək üçün,...</td>\n",
       "      <td>Saatların tarixi ancient civilizationsda başla...</td>\n",
       "      <td>Saatların tarixi ilk əhvalatdan bərpa olaraq b...</td>\n",
       "      <td>Saatların tarixi çox uzun və maraqlıdır. Saatl...</td>\n",
       "      <td>Saatların tarixi əldəyə gedən uzun bir geçmişə...</td>\n",
       "      <td>Saatlar insanlar üçün ən əhəmiyyətli müxtəlifl...</td>\n",
       "    </tr>\n",
       "    <tr>\n",
       "      <th>99</th>\n",
       "      <td>Yeni biznes qurmaq üçün nəzərə alınmalı risklə...</td>\n",
       "      <td>Xoş geldiniz! Biznes qurmaq üçün risklər hər z...</td>\n",
       "      <td>Əslən, yeni biznes qurmaq üçün risklər var, la...</td>\n",
       "      <td>Məsələn, yeni biznes qurmaq üçün şunları qəbul...</td>\n",
       "      <td>Xoş gəlmisiniz! Yeni biznes qurmaq üçün nəzərə...</td>\n",
       "      <td>Yeni bir biznes qurmaq zamanı nəzərə alınmalı ...</td>\n",
       "      <td>Yeni biznes qurmaq üçün nəzərə alınmalı risklə...</td>\n",
       "      <td>Yeni bir iş kurmak heyecan verici bir deneyim ...</td>\n",
       "    </tr>\n",
       "  </tbody>\n",
       "</table>\n",
       "<p>100 rows × 8 columns</p>\n",
       "</div>"
      ],
      "text/plain": [
       "                                               prompt  \\\n",
       "0                              Pizza necə hazırlanır?   \n",
       "1                   Sağlam qalmağın yolları nələrdir?   \n",
       "2                  Kitab oxumağın faydaları nələrdir?   \n",
       "3   Vaxtını effektiv idarə etmək üçün nə etmək laz...   \n",
       "4   Yaxşı fotoşəkil çəkmək üçün nələrə diqqət etmə...   \n",
       "..                                                ...   \n",
       "95  Müasir incəsənət nümunələrinin cəmiyyətə təsir...   \n",
       "96  Sağlam qidalanmaq üçün ən yaxşı mətbəx alətlər...   \n",
       "97  Gələcək texnologiyaların ictimai həyatımıza tə...   \n",
       "98    Saatların tarixi və onların inkişafı necə olub?   \n",
       "99  Yeni biznes qurmaq üçün nəzərə alınmalı risklə...   \n",
       "\n",
       "                                  mistral-7b-instruct  \\\n",
       "0   Seni çözdüm, aşağıdaki yönerləmələr dəyərlidir...   \n",
       "1   Xoş gəlmisiniz! Sağlam qalmaq için önemli olma...   \n",
       "2   Sen Kitab oxumağın faydaları haqqında sorduğun...   \n",
       "3   Senin vaxtını effektif bir şekilde idare etmək...   \n",
       "4   Xoş gelmisiniz! Bu sorunun cəvdələxi üçün aşağ...   \n",
       "..                                                ...   \n",
       "95  Müasir incəsənət nümunələri, yani modern tekno...   \n",
       "96  Xoş gelmisiniz! Şu sorusunuzda siz, sağlam qid...   \n",
       "97  Senin sorgusunuzda, gələcək teknologiyaların İ...   \n",
       "98  Senin sorguladığın zaman, \"Saatların tarixi və...   \n",
       "99  Xoş geldiniz! Biznes qurmaq üçün risklər hər z...   \n",
       "\n",
       "                                  llama-3-8b-instruct  \\\n",
       "0   Sevimli pizzanı hazırlamaq üçün, ilk növbədə, ...   \n",
       "1   Sağlam qalmağın yolları çox vaxt fiziki fəaliy...   \n",
       "2   Kitab oxumağın çoxsaylı faydaları var. Birinci...   \n",
       "3   Vaxtını effektiv idarə etmək üçün bir neçə str...   \n",
       "4   Yaxşı fotoşəkil çəkmək üçün bir neçə faktor di...   \n",
       "..                                                ...   \n",
       "95  Müasir incəsənət nümunələrinin cəmiyyətə təsir...   \n",
       "96  Salam Sağlam qidalanmaq üçün ən yaxşı mətbəx a...   \n",
       "97  Ziyarət edəniniz üçün rəhmət Gələcək texnologi...   \n",
       "98  Sizin soruşduyunuz məsələyə cavab vermək üçün,...   \n",
       "99  Əslən, yeni biznes qurmaq üçün risklər var, la...   \n",
       "\n",
       "                                mixtral-8x7b-instruct  \\\n",
       "0   Pizza, peşəkar tarzda hazırlanmaqla, pizza pət...   \n",
       "1   Məsali, sağlam qalmağın yollarıdır:\\n\\n1. Daha...   \n",
       "2   Xeyr, mən sizin sualınızı təşkil edə bilmirdim...   \n",
       "3   Zəhmet olmasa, vaxtını idarə etmək üçün aşağıd...   \n",
       "4   Məsələn, fotoşəklin qüdrələndirilməsi, kompozi...   \n",
       "..                                                ...   \n",
       "95  Müasir incəsənət nümunələrinin cəmiyyətə təsir...   \n",
       "96  Məsələn, sağlam qidalanmaq üçün sizin işsizlik...   \n",
       "97  Məsələn, gələcək texnologiyaların ictimai həya...   \n",
       "98  Saatların tarixi ancient civilizationsda başla...   \n",
       "99  Məsələn, yeni biznes qurmaq üçün şunları qəbul...   \n",
       "\n",
       "                               mixtral-8x22b-instruct  \\\n",
       "0   Pizza hazırlamaq üçün, şəxsi bir pizza doyğu (...   \n",
       "1   Sağlam qalmaq üçün əsası, dərmanlı tədbirlər, ...   \n",
       "2   Kitab oxumağın faydaları çox sayıdır. Bu, fərd...   \n",
       "3   Zamanı effektiv idarə etmək üçün, bir neçə əsa...   \n",
       "4   Xoş gəlmisiniz! Fotoşəkil çəkmək üçün daha yax...   \n",
       "..                                                ...   \n",
       "95  Müasir incəsənət, cəmiyyətin dünya görüşünü, m...   \n",
       "96  Müəlliflərə görə, sağlam qidalanmaq üçün ən ya...   \n",
       "97  Gələcək texnologiyalar həmişə dəyişən və çox ş...   \n",
       "98  Saatların tarixi ilk əhvalatdan bərpa olaraq b...   \n",
       "99  Xoş gəlmisiniz! Yeni biznes qurmaq üçün nəzərə...   \n",
       "\n",
       "                                           llama3-70b  \\\n",
       "0   Pizza hazırlanması üçün lazım olan şeylər:\\n\\n...   \n",
       "1   Sağlamlıq üçün vacib olan yollar arasında aşağ...   \n",
       "2   Kitab oxumağın çoxsaylı faydaları vardır. Aşağ...   \n",
       "3   Vaxtını effektiv idarə etmək üçün aşağıdakı ad...   \n",
       "4   Yaxşı fotoşəkil çəkmək üçün diqqət etmək lazım...   \n",
       "..                                                ...   \n",
       "95  Müasir incəsənət nümunələrinin cəmiyyətə təsir...   \n",
       "96  Sizin sualınıza cavab verirəm!\\n\\nSağlam qidal...   \n",
       "97  Gələcək texnologiyaların ictimai həyatımıza tə...   \n",
       "98  Saatların tarixi çox uzun və maraqlıdır. Saatl...   \n",
       "99  Yeni bir biznes qurmaq zamanı nəzərə alınmalı ...   \n",
       "\n",
       "                                          gemma-7b-it  \\\n",
       "0   Pizza hazırlanması üçün aşağıdakı adımlardan b...   \n",
       "1   Sağlam qalmağın yolları arasında:\\n\\n- Düzgün ...   \n",
       "2   Kitab oxumamanın faydaları çox sayıda olsa da,...   \n",
       "3   Vaxtın effektiv idarə edilmesi üçün aşağıdakil...   \n",
       "4   Yaxşı fotoşəkil çəkmək üçün diqqət etmək gerek...   \n",
       "..                                                ...   \n",
       "95  Müasir incəsənət nümunələri cəmiyyətə bir neçə...   \n",
       "96  Sağlam qidalanmaq üçün ən yaxşı mətbəx alətlər...   \n",
       "97  Gələcək texnologiyaların ictimai həyatımıza tə...   \n",
       "98  Saatların tarixi əldəyə gedən uzun bir geçmişə...   \n",
       "99  Yeni biznes qurmaq üçün nəzərə alınmalı risklə...   \n",
       "\n",
       "                                          gpt35-turbo  \n",
       "0   Pizza hazırlamaq çox sadə və zövqverici bir pr...  \n",
       "1   Sağlam qalmaq və sağlamlıq üçün bir neçə əsas ...  \n",
       "2   Kitab oxumaq insanın zehni və ruhi inkişafı üç...  \n",
       "3   Vaxtı effektiv idarə etmək üçün bəzi əsas prin...  \n",
       "4   Yaxşı bir fotoşəkil çəkmək üçün bir neçə əsas ...  \n",
       "..                                                ...  \n",
       "95  Müasir incəsənət, cəmiyyətə çoxsa, mənsub oldu...  \n",
       "96  Sağlam qidalanmaq üçün mətbəxdə ən yaxşı alətl...  \n",
       "97  Gələcəkdə texnologiyalar ictimai həyatımıza də...  \n",
       "98  Saatlar insanlar üçün ən əhəmiyyətli müxtəlifl...  \n",
       "99  Yeni bir iş kurmak heyecan verici bir deneyim ...  \n",
       "\n",
       "[100 rows x 8 columns]"
      ]
     },
     "execution_count": 89,
     "metadata": {},
     "output_type": "execute_result"
    }
   ],
   "source": [
    "df"
   ]
  },
  {
   "cell_type": "code",
   "execution_count": 90,
   "metadata": {},
   "outputs": [
    {
     "data": {
      "text/html": [
       "<div>\n",
       "<style scoped>\n",
       "    .dataframe tbody tr th:only-of-type {\n",
       "        vertical-align: middle;\n",
       "    }\n",
       "\n",
       "    .dataframe tbody tr th {\n",
       "        vertical-align: top;\n",
       "    }\n",
       "\n",
       "    .dataframe thead th {\n",
       "        text-align: right;\n",
       "    }\n",
       "</style>\n",
       "<table border=\"1\" class=\"dataframe\">\n",
       "  <thead>\n",
       "    <tr style=\"text-align: right;\">\n",
       "      <th></th>\n",
       "      <th>prompt</th>\n",
       "      <th>mistral-7b-instruct</th>\n",
       "      <th>llama-3-8b-instruct</th>\n",
       "      <th>mixtral-8x7b-instruct</th>\n",
       "      <th>mixtral-8x22b-instruct</th>\n",
       "      <th>llama3-70b</th>\n",
       "      <th>gemma-7b-it</th>\n",
       "      <th>gpt35-turbo</th>\n",
       "    </tr>\n",
       "  </thead>\n",
       "  <tbody>\n",
       "    <tr>\n",
       "      <th>0</th>\n",
       "      <td>Pizza necə hazırlanır?</td>\n",
       "      <td>Seni çözdüm, aşağıdaki yönerləmələr dəyərlidir...</td>\n",
       "      <td>Sevimli pizzanı hazırlamaq üçün, ilk növbədə, ...</td>\n",
       "      <td>Pizza, peşəkar tarzda hazırlanmaqla, pizza pət...</td>\n",
       "      <td>Pizza hazırlamaq üçün, şəxsi bir pizza doyğu (...</td>\n",
       "      <td>Pizza hazırlanması üçün lazım olan şeylər:\\n\\n...</td>\n",
       "      <td>Pizza hazırlanması üçün aşağıdakı adımlardan b...</td>\n",
       "      <td>Pizza hazırlamaq çox sadə və zövqverici bir pr...</td>\n",
       "    </tr>\n",
       "    <tr>\n",
       "      <th>1</th>\n",
       "      <td>Sağlam qalmağın yolları nələrdir?</td>\n",
       "      <td>Xoş gəlmisiniz! Sağlam qalmaq için önemli olma...</td>\n",
       "      <td>Sağlam qalmağın yolları çox vaxt fiziki fəaliy...</td>\n",
       "      <td>Məsali, sağlam qalmağın yollarıdır:\\n\\n1. Daha...</td>\n",
       "      <td>Sağlam qalmaq üçün əsası, dərmanlı tədbirlər, ...</td>\n",
       "      <td>Sağlamlıq üçün vacib olan yollar arasında aşağ...</td>\n",
       "      <td>Sağlam qalmağın yolları arasında:\\n\\n- Düzgün ...</td>\n",
       "      <td>Sağlam qalmaq və sağlamlıq üçün bir neçə əsas ...</td>\n",
       "    </tr>\n",
       "    <tr>\n",
       "      <th>2</th>\n",
       "      <td>Kitab oxumağın faydaları nələrdir?</td>\n",
       "      <td>Sen Kitab oxumağın faydaları haqqında sorduğun...</td>\n",
       "      <td>Kitab oxumağın çoxsaylı faydaları var. Birinci...</td>\n",
       "      <td>Xeyr, mən sizin sualınızı təşkil edə bilmirdim...</td>\n",
       "      <td>Kitab oxumağın faydaları çox sayıdır. Bu, fərd...</td>\n",
       "      <td>Kitab oxumağın çoxsaylı faydaları vardır. Aşağ...</td>\n",
       "      <td>Kitab oxumamanın faydaları çox sayıda olsa da,...</td>\n",
       "      <td>Kitab oxumaq insanın zehni və ruhi inkişafı üç...</td>\n",
       "    </tr>\n",
       "    <tr>\n",
       "      <th>3</th>\n",
       "      <td>Vaxtını effektiv idarə etmək üçün nə etmək laz...</td>\n",
       "      <td>Senin vaxtını effektif bir şekilde idare etmək...</td>\n",
       "      <td>Vaxtını effektiv idarə etmək üçün bir neçə str...</td>\n",
       "      <td>Zəhmet olmasa, vaxtını idarə etmək üçün aşağıd...</td>\n",
       "      <td>Zamanı effektiv idarə etmək üçün, bir neçə əsa...</td>\n",
       "      <td>Vaxtını effektiv idarə etmək üçün aşağıdakı ad...</td>\n",
       "      <td>Vaxtın effektiv idarə edilmesi üçün aşağıdakil...</td>\n",
       "      <td>Vaxtı effektiv idarə etmək üçün bəzi əsas prin...</td>\n",
       "    </tr>\n",
       "    <tr>\n",
       "      <th>4</th>\n",
       "      <td>Yaxşı fotoşəkil çəkmək üçün nələrə diqqət etmə...</td>\n",
       "      <td>Xoş gelmisiniz! Bu sorunun cəvdələxi üçün aşağ...</td>\n",
       "      <td>Yaxşı fotoşəkil çəkmək üçün bir neçə faktor di...</td>\n",
       "      <td>Məsələn, fotoşəklin qüdrələndirilməsi, kompozi...</td>\n",
       "      <td>Xoş gəlmisiniz! Fotoşəkil çəkmək üçün daha yax...</td>\n",
       "      <td>Yaxşı fotoşəkil çəkmək üçün diqqət etmək lazım...</td>\n",
       "      <td>Yaxşı fotoşəkil çəkmək üçün diqqət etmək gerek...</td>\n",
       "      <td>Yaxşı bir fotoşəkil çəkmək üçün bir neçə əsas ...</td>\n",
       "    </tr>\n",
       "    <tr>\n",
       "      <th>...</th>\n",
       "      <td>...</td>\n",
       "      <td>...</td>\n",
       "      <td>...</td>\n",
       "      <td>...</td>\n",
       "      <td>...</td>\n",
       "      <td>...</td>\n",
       "      <td>...</td>\n",
       "      <td>...</td>\n",
       "    </tr>\n",
       "    <tr>\n",
       "      <th>95</th>\n",
       "      <td>Müasir incəsənət nümunələrinin cəmiyyətə təsir...</td>\n",
       "      <td>Müasir incəsənət nümunələri, yani modern tekno...</td>\n",
       "      <td>Müasir incəsənət nümunələrinin cəmiyyətə təsir...</td>\n",
       "      <td>Müasir incəsənət nümunələrinin cəmiyyətə təsir...</td>\n",
       "      <td>Müasir incəsənət, cəmiyyətin dünya görüşünü, m...</td>\n",
       "      <td>Müasir incəsənət nümunələrinin cəmiyyətə təsir...</td>\n",
       "      <td>Müasir incəsənət nümunələri cəmiyyətə bir neçə...</td>\n",
       "      <td>Müasir incəsənət, cəmiyyətə çoxsa, mənsub oldu...</td>\n",
       "    </tr>\n",
       "    <tr>\n",
       "      <th>96</th>\n",
       "      <td>Sağlam qidalanmaq üçün ən yaxşı mətbəx alətlər...</td>\n",
       "      <td>Xoş gelmisiniz! Şu sorusunuzda siz, sağlam qid...</td>\n",
       "      <td>Salam Sağlam qidalanmaq üçün ən yaxşı mətbəx a...</td>\n",
       "      <td>Məsələn, sağlam qidalanmaq üçün sizin işsizlik...</td>\n",
       "      <td>Müəlliflərə görə, sağlam qidalanmaq üçün ən ya...</td>\n",
       "      <td>Sizin sualınıza cavab verirəm!\\n\\nSağlam qidal...</td>\n",
       "      <td>Sağlam qidalanmaq üçün ən yaxşı mətbəx alətlər...</td>\n",
       "      <td>Sağlam qidalanmaq üçün mətbəxdə ən yaxşı alətl...</td>\n",
       "    </tr>\n",
       "    <tr>\n",
       "      <th>97</th>\n",
       "      <td>Gələcək texnologiyaların ictimai həyatımıza tə...</td>\n",
       "      <td>Senin sorgusunuzda, gələcək teknologiyaların İ...</td>\n",
       "      <td>Ziyarət edəniniz üçün rəhmət Gələcək texnologi...</td>\n",
       "      <td>Məsələn, gələcək texnologiyaların ictimai həya...</td>\n",
       "      <td>Gələcək texnologiyalar həmişə dəyişən və çox ş...</td>\n",
       "      <td>Gələcək texnologiyaların ictimai həyatımıza tə...</td>\n",
       "      <td>Gələcək texnologiyaların ictimai həyatımıza tə...</td>\n",
       "      <td>Gələcəkdə texnologiyalar ictimai həyatımıza də...</td>\n",
       "    </tr>\n",
       "    <tr>\n",
       "      <th>98</th>\n",
       "      <td>Saatların tarixi və onların inkişafı necə olub?</td>\n",
       "      <td>Senin sorguladığın zaman, \"Saatların tarixi və...</td>\n",
       "      <td>Sizin soruşduyunuz məsələyə cavab vermək üçün,...</td>\n",
       "      <td>Saatların tarixi ancient civilizationsda başla...</td>\n",
       "      <td>Saatların tarixi ilk əhvalatdan bərpa olaraq b...</td>\n",
       "      <td>Saatların tarixi çox uzun və maraqlıdır. Saatl...</td>\n",
       "      <td>Saatların tarixi əldəyə gedən uzun bir geçmişə...</td>\n",
       "      <td>Saatlar insanlar üçün ən əhəmiyyətli müxtəlifl...</td>\n",
       "    </tr>\n",
       "    <tr>\n",
       "      <th>99</th>\n",
       "      <td>Yeni biznes qurmaq üçün nəzərə alınmalı risklə...</td>\n",
       "      <td>Xoş geldiniz! Biznes qurmaq üçün risklər hər z...</td>\n",
       "      <td>Əslən, yeni biznes qurmaq üçün risklər var, la...</td>\n",
       "      <td>Məsələn, yeni biznes qurmaq üçün şunları qəbul...</td>\n",
       "      <td>Xoş gəlmisiniz! Yeni biznes qurmaq üçün nəzərə...</td>\n",
       "      <td>Yeni bir biznes qurmaq zamanı nəzərə alınmalı ...</td>\n",
       "      <td>Yeni biznes qurmaq üçün nəzərə alınmalı risklə...</td>\n",
       "      <td>Yeni bir iş kurmak heyecan verici bir deneyim ...</td>\n",
       "    </tr>\n",
       "  </tbody>\n",
       "</table>\n",
       "<p>100 rows × 8 columns</p>\n",
       "</div>"
      ],
      "text/plain": [
       "                                               prompt  \\\n",
       "0                              Pizza necə hazırlanır?   \n",
       "1                   Sağlam qalmağın yolları nələrdir?   \n",
       "2                  Kitab oxumağın faydaları nələrdir?   \n",
       "3   Vaxtını effektiv idarə etmək üçün nə etmək laz...   \n",
       "4   Yaxşı fotoşəkil çəkmək üçün nələrə diqqət etmə...   \n",
       "..                                                ...   \n",
       "95  Müasir incəsənət nümunələrinin cəmiyyətə təsir...   \n",
       "96  Sağlam qidalanmaq üçün ən yaxşı mətbəx alətlər...   \n",
       "97  Gələcək texnologiyaların ictimai həyatımıza tə...   \n",
       "98    Saatların tarixi və onların inkişafı necə olub?   \n",
       "99  Yeni biznes qurmaq üçün nəzərə alınmalı risklə...   \n",
       "\n",
       "                                  mistral-7b-instruct  \\\n",
       "0   Seni çözdüm, aşağıdaki yönerləmələr dəyərlidir...   \n",
       "1   Xoş gəlmisiniz! Sağlam qalmaq için önemli olma...   \n",
       "2   Sen Kitab oxumağın faydaları haqqında sorduğun...   \n",
       "3   Senin vaxtını effektif bir şekilde idare etmək...   \n",
       "4   Xoş gelmisiniz! Bu sorunun cəvdələxi üçün aşağ...   \n",
       "..                                                ...   \n",
       "95  Müasir incəsənət nümunələri, yani modern tekno...   \n",
       "96  Xoş gelmisiniz! Şu sorusunuzda siz, sağlam qid...   \n",
       "97  Senin sorgusunuzda, gələcək teknologiyaların İ...   \n",
       "98  Senin sorguladığın zaman, \"Saatların tarixi və...   \n",
       "99  Xoş geldiniz! Biznes qurmaq üçün risklər hər z...   \n",
       "\n",
       "                                  llama-3-8b-instruct  \\\n",
       "0   Sevimli pizzanı hazırlamaq üçün, ilk növbədə, ...   \n",
       "1   Sağlam qalmağın yolları çox vaxt fiziki fəaliy...   \n",
       "2   Kitab oxumağın çoxsaylı faydaları var. Birinci...   \n",
       "3   Vaxtını effektiv idarə etmək üçün bir neçə str...   \n",
       "4   Yaxşı fotoşəkil çəkmək üçün bir neçə faktor di...   \n",
       "..                                                ...   \n",
       "95  Müasir incəsənət nümunələrinin cəmiyyətə təsir...   \n",
       "96  Salam Sağlam qidalanmaq üçün ən yaxşı mətbəx a...   \n",
       "97  Ziyarət edəniniz üçün rəhmət Gələcək texnologi...   \n",
       "98  Sizin soruşduyunuz məsələyə cavab vermək üçün,...   \n",
       "99  Əslən, yeni biznes qurmaq üçün risklər var, la...   \n",
       "\n",
       "                                mixtral-8x7b-instruct  \\\n",
       "0   Pizza, peşəkar tarzda hazırlanmaqla, pizza pət...   \n",
       "1   Məsali, sağlam qalmağın yollarıdır:\\n\\n1. Daha...   \n",
       "2   Xeyr, mən sizin sualınızı təşkil edə bilmirdim...   \n",
       "3   Zəhmet olmasa, vaxtını idarə etmək üçün aşağıd...   \n",
       "4   Məsələn, fotoşəklin qüdrələndirilməsi, kompozi...   \n",
       "..                                                ...   \n",
       "95  Müasir incəsənət nümunələrinin cəmiyyətə təsir...   \n",
       "96  Məsələn, sağlam qidalanmaq üçün sizin işsizlik...   \n",
       "97  Məsələn, gələcək texnologiyaların ictimai həya...   \n",
       "98  Saatların tarixi ancient civilizationsda başla...   \n",
       "99  Məsələn, yeni biznes qurmaq üçün şunları qəbul...   \n",
       "\n",
       "                               mixtral-8x22b-instruct  \\\n",
       "0   Pizza hazırlamaq üçün, şəxsi bir pizza doyğu (...   \n",
       "1   Sağlam qalmaq üçün əsası, dərmanlı tədbirlər, ...   \n",
       "2   Kitab oxumağın faydaları çox sayıdır. Bu, fərd...   \n",
       "3   Zamanı effektiv idarə etmək üçün, bir neçə əsa...   \n",
       "4   Xoş gəlmisiniz! Fotoşəkil çəkmək üçün daha yax...   \n",
       "..                                                ...   \n",
       "95  Müasir incəsənət, cəmiyyətin dünya görüşünü, m...   \n",
       "96  Müəlliflərə görə, sağlam qidalanmaq üçün ən ya...   \n",
       "97  Gələcək texnologiyalar həmişə dəyişən və çox ş...   \n",
       "98  Saatların tarixi ilk əhvalatdan bərpa olaraq b...   \n",
       "99  Xoş gəlmisiniz! Yeni biznes qurmaq üçün nəzərə...   \n",
       "\n",
       "                                           llama3-70b  \\\n",
       "0   Pizza hazırlanması üçün lazım olan şeylər:\\n\\n...   \n",
       "1   Sağlamlıq üçün vacib olan yollar arasında aşağ...   \n",
       "2   Kitab oxumağın çoxsaylı faydaları vardır. Aşağ...   \n",
       "3   Vaxtını effektiv idarə etmək üçün aşağıdakı ad...   \n",
       "4   Yaxşı fotoşəkil çəkmək üçün diqqət etmək lazım...   \n",
       "..                                                ...   \n",
       "95  Müasir incəsənət nümunələrinin cəmiyyətə təsir...   \n",
       "96  Sizin sualınıza cavab verirəm!\\n\\nSağlam qidal...   \n",
       "97  Gələcək texnologiyaların ictimai həyatımıza tə...   \n",
       "98  Saatların tarixi çox uzun və maraqlıdır. Saatl...   \n",
       "99  Yeni bir biznes qurmaq zamanı nəzərə alınmalı ...   \n",
       "\n",
       "                                          gemma-7b-it  \\\n",
       "0   Pizza hazırlanması üçün aşağıdakı adımlardan b...   \n",
       "1   Sağlam qalmağın yolları arasında:\\n\\n- Düzgün ...   \n",
       "2   Kitab oxumamanın faydaları çox sayıda olsa da,...   \n",
       "3   Vaxtın effektiv idarə edilmesi üçün aşağıdakil...   \n",
       "4   Yaxşı fotoşəkil çəkmək üçün diqqət etmək gerek...   \n",
       "..                                                ...   \n",
       "95  Müasir incəsənət nümunələri cəmiyyətə bir neçə...   \n",
       "96  Sağlam qidalanmaq üçün ən yaxşı mətbəx alətlər...   \n",
       "97  Gələcək texnologiyaların ictimai həyatımıza tə...   \n",
       "98  Saatların tarixi əldəyə gedən uzun bir geçmişə...   \n",
       "99  Yeni biznes qurmaq üçün nəzərə alınmalı risklə...   \n",
       "\n",
       "                                          gpt35-turbo  \n",
       "0   Pizza hazırlamaq çox sadə və zövqverici bir pr...  \n",
       "1   Sağlam qalmaq və sağlamlıq üçün bir neçə əsas ...  \n",
       "2   Kitab oxumaq insanın zehni və ruhi inkişafı üç...  \n",
       "3   Vaxtı effektiv idarə etmək üçün bəzi əsas prin...  \n",
       "4   Yaxşı bir fotoşəkil çəkmək üçün bir neçə əsas ...  \n",
       "..                                                ...  \n",
       "95  Müasir incəsənət, cəmiyyətə çoxsa, mənsub oldu...  \n",
       "96  Sağlam qidalanmaq üçün mətbəxdə ən yaxşı alətl...  \n",
       "97  Gələcəkdə texnologiyalar ictimai həyatımıza də...  \n",
       "98  Saatlar insanlar üçün ən əhəmiyyətli müxtəlifl...  \n",
       "99  Yeni bir iş kurmak heyecan verici bir deneyim ...  \n",
       "\n",
       "[100 rows x 8 columns]"
      ]
     },
     "execution_count": 90,
     "metadata": {},
     "output_type": "execute_result"
    }
   ],
   "source": [
    "aa = pd.read_csv(\"responses.csv\")\n",
    "aa"
   ]
  },
  {
   "cell_type": "code",
   "execution_count": 76,
   "metadata": {},
   "outputs": [
    {
     "data": {
      "text/html": [
       "<div>\n",
       "<style scoped>\n",
       "    .dataframe tbody tr th:only-of-type {\n",
       "        vertical-align: middle;\n",
       "    }\n",
       "\n",
       "    .dataframe tbody tr th {\n",
       "        vertical-align: top;\n",
       "    }\n",
       "\n",
       "    .dataframe thead th {\n",
       "        text-align: right;\n",
       "    }\n",
       "</style>\n",
       "<table border=\"1\" class=\"dataframe\">\n",
       "  <thead>\n",
       "    <tr style=\"text-align: right;\">\n",
       "      <th></th>\n",
       "      <th>prompt</th>\n",
       "      <th>mistral-7b-instruct</th>\n",
       "      <th>llama-3-8b-instruct</th>\n",
       "      <th>mixtral-8x7b-instruct</th>\n",
       "      <th>mixtral-8x22b-instruct</th>\n",
       "    </tr>\n",
       "  </thead>\n",
       "  <tbody>\n",
       "    <tr>\n",
       "      <th>0</th>\n",
       "      <td>Pizza necə hazırlanır?</td>\n",
       "      <td>Seni çözdüm, aşağıdaki yönerləmələr dəyərlidir...</td>\n",
       "      <td>Sevimli pizzanı hazırlamaq üçün, ilk növbədə, ...</td>\n",
       "      <td>Pizza, peşəkar tarzda hazırlanmaqla, pizza pət...</td>\n",
       "      <td>Pizza hazırlamaq üçün, şəxsi bir pizza doyğu (...</td>\n",
       "    </tr>\n",
       "    <tr>\n",
       "      <th>1</th>\n",
       "      <td>Sağlam qalmağın yolları nələrdir?</td>\n",
       "      <td>Xoş gəlmisiniz! Sağlam qalmaq için önemli olma...</td>\n",
       "      <td>Sağlam qalmağın yolları çox vaxt fiziki fəaliy...</td>\n",
       "      <td>Məsali, sağlam qalmağın yollarıdır:\\n\\n1. Daha...</td>\n",
       "      <td>Sağlam qalmaq üçün əsası, dərmanlı tədbirlər, ...</td>\n",
       "    </tr>\n",
       "    <tr>\n",
       "      <th>2</th>\n",
       "      <td>Kitab oxumağın faydaları nələrdir?</td>\n",
       "      <td>Sen Kitab oxumağın faydaları haqqında sorduğun...</td>\n",
       "      <td>Kitab oxumağın çoxsaylı faydaları var. Birinci...</td>\n",
       "      <td>Xeyr, mən sizin sualınızı təşkil edə bilmirdim...</td>\n",
       "      <td>Kitab oxumağın faydaları çox sayıdır. Bu, fərd...</td>\n",
       "    </tr>\n",
       "    <tr>\n",
       "      <th>3</th>\n",
       "      <td>Vaxtını effektiv idarə etmək üçün nə etmək laz...</td>\n",
       "      <td>Senin vaxtını effektif bir şekilde idare etmək...</td>\n",
       "      <td>Vaxtını effektiv idarə etmək üçün bir neçə str...</td>\n",
       "      <td>Zəhmet olmasa, vaxtını idarə etmək üçün aşağıd...</td>\n",
       "      <td>Zamanı effektiv idarə etmək üçün, bir neçə əsa...</td>\n",
       "    </tr>\n",
       "    <tr>\n",
       "      <th>4</th>\n",
       "      <td>Yaxşı fotoşəkil çəkmək üçün nələrə diqqət etmə...</td>\n",
       "      <td>Xoş gelmisiniz! Bu sorunun cəvdələxi üçün aşağ...</td>\n",
       "      <td>Yaxşı fotoşəkil çəkmək üçün bir neçə faktor di...</td>\n",
       "      <td>Məsələn, fotoşəklin qüdrələndirilməsi, kompozi...</td>\n",
       "      <td>Xoş gəlmisiniz! Fotoşəkil çəkmək üçün daha yax...</td>\n",
       "    </tr>\n",
       "    <tr>\n",
       "      <th>...</th>\n",
       "      <td>...</td>\n",
       "      <td>...</td>\n",
       "      <td>...</td>\n",
       "      <td>...</td>\n",
       "      <td>...</td>\n",
       "    </tr>\n",
       "    <tr>\n",
       "      <th>95</th>\n",
       "      <td>Müasir incəsənət nümunələrinin cəmiyyətə təsir...</td>\n",
       "      <td>Müasir incəsənət nümunələri, yani modern tekno...</td>\n",
       "      <td>Müasir incəsənət nümunələrinin cəmiyyətə təsir...</td>\n",
       "      <td>Müasir incəsənət nümunələrinin cəmiyyətə təsir...</td>\n",
       "      <td>Müasir incəsənət, cəmiyyətin dünya görüşünü, m...</td>\n",
       "    </tr>\n",
       "    <tr>\n",
       "      <th>96</th>\n",
       "      <td>Sağlam qidalanmaq üçün ən yaxşı mətbəx alətlər...</td>\n",
       "      <td>Xoş gelmisiniz! Şu sorusunuzda siz, sağlam qid...</td>\n",
       "      <td>Salam Sağlam qidalanmaq üçün ən yaxşı mətbəx a...</td>\n",
       "      <td>Məsələn, sağlam qidalanmaq üçün sizin işsizlik...</td>\n",
       "      <td>Müəlliflərə görə, sağlam qidalanmaq üçün ən ya...</td>\n",
       "    </tr>\n",
       "    <tr>\n",
       "      <th>97</th>\n",
       "      <td>Gələcək texnologiyaların ictimai həyatımıza tə...</td>\n",
       "      <td>Senin sorgusunuzda, gələcək teknologiyaların İ...</td>\n",
       "      <td>Ziyarət edəniniz üçün rəhmət Gələcək texnologi...</td>\n",
       "      <td>Məsələn, gələcək texnologiyaların ictimai həya...</td>\n",
       "      <td>Gələcək texnologiyalar həmişə dəyişən və çox ş...</td>\n",
       "    </tr>\n",
       "    <tr>\n",
       "      <th>98</th>\n",
       "      <td>Saatların tarixi və onların inkişafı necə olub?</td>\n",
       "      <td>Senin sorguladığın zaman, \"Saatların tarixi və...</td>\n",
       "      <td>Sizin soruşduyunuz məsələyə cavab vermək üçün,...</td>\n",
       "      <td>Saatların tarixi ancient civilizationsda başla...</td>\n",
       "      <td>Saatların tarixi ilk əhvalatdan bərpa olaraq b...</td>\n",
       "    </tr>\n",
       "    <tr>\n",
       "      <th>99</th>\n",
       "      <td>Yeni biznes qurmaq üçün nəzərə alınmalı risklə...</td>\n",
       "      <td>Xoş geldiniz! Biznes qurmaq üçün risklər hər z...</td>\n",
       "      <td>Əslən, yeni biznes qurmaq üçün risklər var, la...</td>\n",
       "      <td>Məsələn, yeni biznes qurmaq üçün şunları qəbul...</td>\n",
       "      <td>Xoş gəlmisiniz! Yeni biznes qurmaq üçün nəzərə...</td>\n",
       "    </tr>\n",
       "  </tbody>\n",
       "</table>\n",
       "<p>100 rows × 5 columns</p>\n",
       "</div>"
      ],
      "text/plain": [
       "                                               prompt  \\\n",
       "0                              Pizza necə hazırlanır?   \n",
       "1                   Sağlam qalmağın yolları nələrdir?   \n",
       "2                  Kitab oxumağın faydaları nələrdir?   \n",
       "3   Vaxtını effektiv idarə etmək üçün nə etmək laz...   \n",
       "4   Yaxşı fotoşəkil çəkmək üçün nələrə diqqət etmə...   \n",
       "..                                                ...   \n",
       "95  Müasir incəsənət nümunələrinin cəmiyyətə təsir...   \n",
       "96  Sağlam qidalanmaq üçün ən yaxşı mətbəx alətlər...   \n",
       "97  Gələcək texnologiyaların ictimai həyatımıza tə...   \n",
       "98    Saatların tarixi və onların inkişafı necə olub?   \n",
       "99  Yeni biznes qurmaq üçün nəzərə alınmalı risklə...   \n",
       "\n",
       "                                  mistral-7b-instruct  \\\n",
       "0   Seni çözdüm, aşağıdaki yönerləmələr dəyərlidir...   \n",
       "1   Xoş gəlmisiniz! Sağlam qalmaq için önemli olma...   \n",
       "2   Sen Kitab oxumağın faydaları haqqında sorduğun...   \n",
       "3   Senin vaxtını effektif bir şekilde idare etmək...   \n",
       "4   Xoş gelmisiniz! Bu sorunun cəvdələxi üçün aşağ...   \n",
       "..                                                ...   \n",
       "95  Müasir incəsənət nümunələri, yani modern tekno...   \n",
       "96  Xoş gelmisiniz! Şu sorusunuzda siz, sağlam qid...   \n",
       "97  Senin sorgusunuzda, gələcək teknologiyaların İ...   \n",
       "98  Senin sorguladığın zaman, \"Saatların tarixi və...   \n",
       "99  Xoş geldiniz! Biznes qurmaq üçün risklər hər z...   \n",
       "\n",
       "                                  llama-3-8b-instruct  \\\n",
       "0   Sevimli pizzanı hazırlamaq üçün, ilk növbədə, ...   \n",
       "1   Sağlam qalmağın yolları çox vaxt fiziki fəaliy...   \n",
       "2   Kitab oxumağın çoxsaylı faydaları var. Birinci...   \n",
       "3   Vaxtını effektiv idarə etmək üçün bir neçə str...   \n",
       "4   Yaxşı fotoşəkil çəkmək üçün bir neçə faktor di...   \n",
       "..                                                ...   \n",
       "95  Müasir incəsənət nümunələrinin cəmiyyətə təsir...   \n",
       "96  Salam Sağlam qidalanmaq üçün ən yaxşı mətbəx a...   \n",
       "97  Ziyarət edəniniz üçün rəhmət Gələcək texnologi...   \n",
       "98  Sizin soruşduyunuz məsələyə cavab vermək üçün,...   \n",
       "99  Əslən, yeni biznes qurmaq üçün risklər var, la...   \n",
       "\n",
       "                                mixtral-8x7b-instruct  \\\n",
       "0   Pizza, peşəkar tarzda hazırlanmaqla, pizza pət...   \n",
       "1   Məsali, sağlam qalmağın yollarıdır:\\n\\n1. Daha...   \n",
       "2   Xeyr, mən sizin sualınızı təşkil edə bilmirdim...   \n",
       "3   Zəhmet olmasa, vaxtını idarə etmək üçün aşağıd...   \n",
       "4   Məsələn, fotoşəklin qüdrələndirilməsi, kompozi...   \n",
       "..                                                ...   \n",
       "95  Müasir incəsənət nümunələrinin cəmiyyətə təsir...   \n",
       "96  Məsələn, sağlam qidalanmaq üçün sizin işsizlik...   \n",
       "97  Məsələn, gələcək texnologiyaların ictimai həya...   \n",
       "98  Saatların tarixi ancient civilizationsda başla...   \n",
       "99  Məsələn, yeni biznes qurmaq üçün şunları qəbul...   \n",
       "\n",
       "                               mixtral-8x22b-instruct  \n",
       "0   Pizza hazırlamaq üçün, şəxsi bir pizza doyğu (...  \n",
       "1   Sağlam qalmaq üçün əsası, dərmanlı tədbirlər, ...  \n",
       "2   Kitab oxumağın faydaları çox sayıdır. Bu, fərd...  \n",
       "3   Zamanı effektiv idarə etmək üçün, bir neçə əsa...  \n",
       "4   Xoş gəlmisiniz! Fotoşəkil çəkmək üçün daha yax...  \n",
       "..                                                ...  \n",
       "95  Müasir incəsənət, cəmiyyətin dünya görüşünü, m...  \n",
       "96  Müəlliflərə görə, sağlam qidalanmaq üçün ən ya...  \n",
       "97  Gələcək texnologiyalar həmişə dəyişən və çox ş...  \n",
       "98  Saatların tarixi ilk əhvalatdan bərpa olaraq b...  \n",
       "99  Xoş gəlmisiniz! Yeni biznes qurmaq üçün nəzərə...  \n",
       "\n",
       "[100 rows x 5 columns]"
      ]
     },
     "execution_count": 76,
     "metadata": {},
     "output_type": "execute_result"
    }
   ],
   "source": [
    "df"
   ]
  },
  {
   "cell_type": "code",
   "execution_count": 82,
   "metadata": {},
   "outputs": [
    {
     "name": "stdout",
     "output_type": "stream",
     "text": [
      "Index(['questions', 'llama3-8b', 'llama3-70b', 'gemma-7b-it'], dtype='object')\n"
     ]
    }
   ],
   "source": [
    "df1 = pd.read_csv(\"responses-2.csv\")\n",
    "print(df1.columns)\n",
    "\n",
    "df['llama3-70b'] = df1['llama3-70b'].to_list()\n",
    "df['gemma-7b-it'] = df1['gemma-7b-it'].to_list()\n",
    "\n"
   ]
  },
  {
   "cell_type": "code",
   "execution_count": 86,
   "metadata": {},
   "outputs": [],
   "source": [
    "df['gpt35-turbo'] = df1['answers'].to_list()"
   ]
  },
  {
   "cell_type": "code",
   "execution_count": 87,
   "metadata": {},
   "outputs": [
    {
     "data": {
      "text/html": [
       "<div>\n",
       "<style scoped>\n",
       "    .dataframe tbody tr th:only-of-type {\n",
       "        vertical-align: middle;\n",
       "    }\n",
       "\n",
       "    .dataframe tbody tr th {\n",
       "        vertical-align: top;\n",
       "    }\n",
       "\n",
       "    .dataframe thead th {\n",
       "        text-align: right;\n",
       "    }\n",
       "</style>\n",
       "<table border=\"1\" class=\"dataframe\">\n",
       "  <thead>\n",
       "    <tr style=\"text-align: right;\">\n",
       "      <th></th>\n",
       "      <th>prompt</th>\n",
       "      <th>mistral-7b-instruct</th>\n",
       "      <th>llama-3-8b-instruct</th>\n",
       "      <th>mixtral-8x7b-instruct</th>\n",
       "      <th>mixtral-8x22b-instruct</th>\n",
       "      <th>llama3-70b</th>\n",
       "      <th>gemma-7b-it</th>\n",
       "      <th>gpt35-turbo</th>\n",
       "    </tr>\n",
       "  </thead>\n",
       "  <tbody>\n",
       "    <tr>\n",
       "      <th>0</th>\n",
       "      <td>Pizza necə hazırlanır?</td>\n",
       "      <td>Seni çözdüm, aşağıdaki yönerləmələr dəyərlidir...</td>\n",
       "      <td>Sevimli pizzanı hazırlamaq üçün, ilk növbədə, ...</td>\n",
       "      <td>Pizza, peşəkar tarzda hazırlanmaqla, pizza pət...</td>\n",
       "      <td>Pizza hazırlamaq üçün, şəxsi bir pizza doyğu (...</td>\n",
       "      <td>Pizza hazırlanması üçün lazım olan şeylər:\\n\\n...</td>\n",
       "      <td>Pizza hazırlanması üçün aşağıdakı adımlardan b...</td>\n",
       "      <td>Pizza hazırlamaq çox sadə və zövqverici bir pr...</td>\n",
       "    </tr>\n",
       "    <tr>\n",
       "      <th>1</th>\n",
       "      <td>Sağlam qalmağın yolları nələrdir?</td>\n",
       "      <td>Xoş gəlmisiniz! Sağlam qalmaq için önemli olma...</td>\n",
       "      <td>Sağlam qalmağın yolları çox vaxt fiziki fəaliy...</td>\n",
       "      <td>Məsali, sağlam qalmağın yollarıdır:\\n\\n1. Daha...</td>\n",
       "      <td>Sağlam qalmaq üçün əsası, dərmanlı tədbirlər, ...</td>\n",
       "      <td>Sağlamlıq üçün vacib olan yollar arasında aşağ...</td>\n",
       "      <td>Sağlam qalmağın yolları arasında:\\n\\n- Düzgün ...</td>\n",
       "      <td>Sağlam qalmaq və sağlamlıq üçün bir neçə əsas ...</td>\n",
       "    </tr>\n",
       "    <tr>\n",
       "      <th>2</th>\n",
       "      <td>Kitab oxumağın faydaları nələrdir?</td>\n",
       "      <td>Sen Kitab oxumağın faydaları haqqında sorduğun...</td>\n",
       "      <td>Kitab oxumağın çoxsaylı faydaları var. Birinci...</td>\n",
       "      <td>Xeyr, mən sizin sualınızı təşkil edə bilmirdim...</td>\n",
       "      <td>Kitab oxumağın faydaları çox sayıdır. Bu, fərd...</td>\n",
       "      <td>Kitab oxumağın çoxsaylı faydaları vardır. Aşağ...</td>\n",
       "      <td>Kitab oxumamanın faydaları çox sayıda olsa da,...</td>\n",
       "      <td>Kitab oxumaq insanın zehni və ruhi inkişafı üç...</td>\n",
       "    </tr>\n",
       "    <tr>\n",
       "      <th>3</th>\n",
       "      <td>Vaxtını effektiv idarə etmək üçün nə etmək laz...</td>\n",
       "      <td>Senin vaxtını effektif bir şekilde idare etmək...</td>\n",
       "      <td>Vaxtını effektiv idarə etmək üçün bir neçə str...</td>\n",
       "      <td>Zəhmet olmasa, vaxtını idarə etmək üçün aşağıd...</td>\n",
       "      <td>Zamanı effektiv idarə etmək üçün, bir neçə əsa...</td>\n",
       "      <td>Vaxtını effektiv idarə etmək üçün aşağıdakı ad...</td>\n",
       "      <td>Vaxtın effektiv idarə edilmesi üçün aşağıdakil...</td>\n",
       "      <td>Vaxtı effektiv idarə etmək üçün bəzi əsas prin...</td>\n",
       "    </tr>\n",
       "    <tr>\n",
       "      <th>4</th>\n",
       "      <td>Yaxşı fotoşəkil çəkmək üçün nələrə diqqət etmə...</td>\n",
       "      <td>Xoş gelmisiniz! Bu sorunun cəvdələxi üçün aşağ...</td>\n",
       "      <td>Yaxşı fotoşəkil çəkmək üçün bir neçə faktor di...</td>\n",
       "      <td>Məsələn, fotoşəklin qüdrələndirilməsi, kompozi...</td>\n",
       "      <td>Xoş gəlmisiniz! Fotoşəkil çəkmək üçün daha yax...</td>\n",
       "      <td>Yaxşı fotoşəkil çəkmək üçün diqqət etmək lazım...</td>\n",
       "      <td>Yaxşı fotoşəkil çəkmək üçün diqqət etmək gerek...</td>\n",
       "      <td>Yaxşı bir fotoşəkil çəkmək üçün bir neçə əsas ...</td>\n",
       "    </tr>\n",
       "    <tr>\n",
       "      <th>...</th>\n",
       "      <td>...</td>\n",
       "      <td>...</td>\n",
       "      <td>...</td>\n",
       "      <td>...</td>\n",
       "      <td>...</td>\n",
       "      <td>...</td>\n",
       "      <td>...</td>\n",
       "      <td>...</td>\n",
       "    </tr>\n",
       "    <tr>\n",
       "      <th>95</th>\n",
       "      <td>Müasir incəsənət nümunələrinin cəmiyyətə təsir...</td>\n",
       "      <td>Müasir incəsənət nümunələri, yani modern tekno...</td>\n",
       "      <td>Müasir incəsənət nümunələrinin cəmiyyətə təsir...</td>\n",
       "      <td>Müasir incəsənət nümunələrinin cəmiyyətə təsir...</td>\n",
       "      <td>Müasir incəsənət, cəmiyyətin dünya görüşünü, m...</td>\n",
       "      <td>Müasir incəsənət nümunələrinin cəmiyyətə təsir...</td>\n",
       "      <td>Müasir incəsənət nümunələri cəmiyyətə bir neçə...</td>\n",
       "      <td>Müasir incəsənət, cəmiyyətə çoxsa, mənsub oldu...</td>\n",
       "    </tr>\n",
       "    <tr>\n",
       "      <th>96</th>\n",
       "      <td>Sağlam qidalanmaq üçün ən yaxşı mətbəx alətlər...</td>\n",
       "      <td>Xoş gelmisiniz! Şu sorusunuzda siz, sağlam qid...</td>\n",
       "      <td>Salam Sağlam qidalanmaq üçün ən yaxşı mətbəx a...</td>\n",
       "      <td>Məsələn, sağlam qidalanmaq üçün sizin işsizlik...</td>\n",
       "      <td>Müəlliflərə görə, sağlam qidalanmaq üçün ən ya...</td>\n",
       "      <td>Sizin sualınıza cavab verirəm!\\n\\nSağlam qidal...</td>\n",
       "      <td>Sağlam qidalanmaq üçün ən yaxşı mətbəx alətlər...</td>\n",
       "      <td>Sağlam qidalanmaq üçün mətbəxdə ən yaxşı alətl...</td>\n",
       "    </tr>\n",
       "    <tr>\n",
       "      <th>97</th>\n",
       "      <td>Gələcək texnologiyaların ictimai həyatımıza tə...</td>\n",
       "      <td>Senin sorgusunuzda, gələcək teknologiyaların İ...</td>\n",
       "      <td>Ziyarət edəniniz üçün rəhmət Gələcək texnologi...</td>\n",
       "      <td>Məsələn, gələcək texnologiyaların ictimai həya...</td>\n",
       "      <td>Gələcək texnologiyalar həmişə dəyişən və çox ş...</td>\n",
       "      <td>Gələcək texnologiyaların ictimai həyatımıza tə...</td>\n",
       "      <td>Gələcək texnologiyaların ictimai həyatımıza tə...</td>\n",
       "      <td>Gələcəkdə texnologiyalar ictimai həyatımıza də...</td>\n",
       "    </tr>\n",
       "    <tr>\n",
       "      <th>98</th>\n",
       "      <td>Saatların tarixi və onların inkişafı necə olub?</td>\n",
       "      <td>Senin sorguladığın zaman, \"Saatların tarixi və...</td>\n",
       "      <td>Sizin soruşduyunuz məsələyə cavab vermək üçün,...</td>\n",
       "      <td>Saatların tarixi ancient civilizationsda başla...</td>\n",
       "      <td>Saatların tarixi ilk əhvalatdan bərpa olaraq b...</td>\n",
       "      <td>Saatların tarixi çox uzun və maraqlıdır. Saatl...</td>\n",
       "      <td>Saatların tarixi əldəyə gedən uzun bir geçmişə...</td>\n",
       "      <td>Saatlar insanlar üçün ən əhəmiyyətli müxtəlifl...</td>\n",
       "    </tr>\n",
       "    <tr>\n",
       "      <th>99</th>\n",
       "      <td>Yeni biznes qurmaq üçün nəzərə alınmalı risklə...</td>\n",
       "      <td>Xoş geldiniz! Biznes qurmaq üçün risklər hər z...</td>\n",
       "      <td>Əslən, yeni biznes qurmaq üçün risklər var, la...</td>\n",
       "      <td>Məsələn, yeni biznes qurmaq üçün şunları qəbul...</td>\n",
       "      <td>Xoş gəlmisiniz! Yeni biznes qurmaq üçün nəzərə...</td>\n",
       "      <td>Yeni bir biznes qurmaq zamanı nəzərə alınmalı ...</td>\n",
       "      <td>Yeni biznes qurmaq üçün nəzərə alınmalı risklə...</td>\n",
       "      <td>Yeni bir iş kurmak heyecan verici bir deneyim ...</td>\n",
       "    </tr>\n",
       "  </tbody>\n",
       "</table>\n",
       "<p>100 rows × 8 columns</p>\n",
       "</div>"
      ],
      "text/plain": [
       "                                               prompt  \\\n",
       "0                              Pizza necə hazırlanır?   \n",
       "1                   Sağlam qalmağın yolları nələrdir?   \n",
       "2                  Kitab oxumağın faydaları nələrdir?   \n",
       "3   Vaxtını effektiv idarə etmək üçün nə etmək laz...   \n",
       "4   Yaxşı fotoşəkil çəkmək üçün nələrə diqqət etmə...   \n",
       "..                                                ...   \n",
       "95  Müasir incəsənət nümunələrinin cəmiyyətə təsir...   \n",
       "96  Sağlam qidalanmaq üçün ən yaxşı mətbəx alətlər...   \n",
       "97  Gələcək texnologiyaların ictimai həyatımıza tə...   \n",
       "98    Saatların tarixi və onların inkişafı necə olub?   \n",
       "99  Yeni biznes qurmaq üçün nəzərə alınmalı risklə...   \n",
       "\n",
       "                                  mistral-7b-instruct  \\\n",
       "0   Seni çözdüm, aşağıdaki yönerləmələr dəyərlidir...   \n",
       "1   Xoş gəlmisiniz! Sağlam qalmaq için önemli olma...   \n",
       "2   Sen Kitab oxumağın faydaları haqqında sorduğun...   \n",
       "3   Senin vaxtını effektif bir şekilde idare etmək...   \n",
       "4   Xoş gelmisiniz! Bu sorunun cəvdələxi üçün aşağ...   \n",
       "..                                                ...   \n",
       "95  Müasir incəsənət nümunələri, yani modern tekno...   \n",
       "96  Xoş gelmisiniz! Şu sorusunuzda siz, sağlam qid...   \n",
       "97  Senin sorgusunuzda, gələcək teknologiyaların İ...   \n",
       "98  Senin sorguladığın zaman, \"Saatların tarixi və...   \n",
       "99  Xoş geldiniz! Biznes qurmaq üçün risklər hər z...   \n",
       "\n",
       "                                  llama-3-8b-instruct  \\\n",
       "0   Sevimli pizzanı hazırlamaq üçün, ilk növbədə, ...   \n",
       "1   Sağlam qalmağın yolları çox vaxt fiziki fəaliy...   \n",
       "2   Kitab oxumağın çoxsaylı faydaları var. Birinci...   \n",
       "3   Vaxtını effektiv idarə etmək üçün bir neçə str...   \n",
       "4   Yaxşı fotoşəkil çəkmək üçün bir neçə faktor di...   \n",
       "..                                                ...   \n",
       "95  Müasir incəsənət nümunələrinin cəmiyyətə təsir...   \n",
       "96  Salam Sağlam qidalanmaq üçün ən yaxşı mətbəx a...   \n",
       "97  Ziyarət edəniniz üçün rəhmət Gələcək texnologi...   \n",
       "98  Sizin soruşduyunuz məsələyə cavab vermək üçün,...   \n",
       "99  Əslən, yeni biznes qurmaq üçün risklər var, la...   \n",
       "\n",
       "                                mixtral-8x7b-instruct  \\\n",
       "0   Pizza, peşəkar tarzda hazırlanmaqla, pizza pət...   \n",
       "1   Məsali, sağlam qalmağın yollarıdır:\\n\\n1. Daha...   \n",
       "2   Xeyr, mən sizin sualınızı təşkil edə bilmirdim...   \n",
       "3   Zəhmet olmasa, vaxtını idarə etmək üçün aşağıd...   \n",
       "4   Məsələn, fotoşəklin qüdrələndirilməsi, kompozi...   \n",
       "..                                                ...   \n",
       "95  Müasir incəsənət nümunələrinin cəmiyyətə təsir...   \n",
       "96  Məsələn, sağlam qidalanmaq üçün sizin işsizlik...   \n",
       "97  Məsələn, gələcək texnologiyaların ictimai həya...   \n",
       "98  Saatların tarixi ancient civilizationsda başla...   \n",
       "99  Məsələn, yeni biznes qurmaq üçün şunları qəbul...   \n",
       "\n",
       "                               mixtral-8x22b-instruct  \\\n",
       "0   Pizza hazırlamaq üçün, şəxsi bir pizza doyğu (...   \n",
       "1   Sağlam qalmaq üçün əsası, dərmanlı tədbirlər, ...   \n",
       "2   Kitab oxumağın faydaları çox sayıdır. Bu, fərd...   \n",
       "3   Zamanı effektiv idarə etmək üçün, bir neçə əsa...   \n",
       "4   Xoş gəlmisiniz! Fotoşəkil çəkmək üçün daha yax...   \n",
       "..                                                ...   \n",
       "95  Müasir incəsənət, cəmiyyətin dünya görüşünü, m...   \n",
       "96  Müəlliflərə görə, sağlam qidalanmaq üçün ən ya...   \n",
       "97  Gələcək texnologiyalar həmişə dəyişən və çox ş...   \n",
       "98  Saatların tarixi ilk əhvalatdan bərpa olaraq b...   \n",
       "99  Xoş gəlmisiniz! Yeni biznes qurmaq üçün nəzərə...   \n",
       "\n",
       "                                           llama3-70b  \\\n",
       "0   Pizza hazırlanması üçün lazım olan şeylər:\\n\\n...   \n",
       "1   Sağlamlıq üçün vacib olan yollar arasında aşağ...   \n",
       "2   Kitab oxumağın çoxsaylı faydaları vardır. Aşağ...   \n",
       "3   Vaxtını effektiv idarə etmək üçün aşağıdakı ad...   \n",
       "4   Yaxşı fotoşəkil çəkmək üçün diqqət etmək lazım...   \n",
       "..                                                ...   \n",
       "95  Müasir incəsənət nümunələrinin cəmiyyətə təsir...   \n",
       "96  Sizin sualınıza cavab verirəm!\\n\\nSağlam qidal...   \n",
       "97  Gələcək texnologiyaların ictimai həyatımıza tə...   \n",
       "98  Saatların tarixi çox uzun və maraqlıdır. Saatl...   \n",
       "99  Yeni bir biznes qurmaq zamanı nəzərə alınmalı ...   \n",
       "\n",
       "                                          gemma-7b-it  \\\n",
       "0   Pizza hazırlanması üçün aşağıdakı adımlardan b...   \n",
       "1   Sağlam qalmağın yolları arasında:\\n\\n- Düzgün ...   \n",
       "2   Kitab oxumamanın faydaları çox sayıda olsa da,...   \n",
       "3   Vaxtın effektiv idarə edilmesi üçün aşağıdakil...   \n",
       "4   Yaxşı fotoşəkil çəkmək üçün diqqət etmək gerek...   \n",
       "..                                                ...   \n",
       "95  Müasir incəsənət nümunələri cəmiyyətə bir neçə...   \n",
       "96  Sağlam qidalanmaq üçün ən yaxşı mətbəx alətlər...   \n",
       "97  Gələcək texnologiyaların ictimai həyatımıza tə...   \n",
       "98  Saatların tarixi əldəyə gedən uzun bir geçmişə...   \n",
       "99  Yeni biznes qurmaq üçün nəzərə alınmalı risklə...   \n",
       "\n",
       "                                          gpt35-turbo  \n",
       "0   Pizza hazırlamaq çox sadə və zövqverici bir pr...  \n",
       "1   Sağlam qalmaq və sağlamlıq üçün bir neçə əsas ...  \n",
       "2   Kitab oxumaq insanın zehni və ruhi inkişafı üç...  \n",
       "3   Vaxtı effektiv idarə etmək üçün bəzi əsas prin...  \n",
       "4   Yaxşı bir fotoşəkil çəkmək üçün bir neçə əsas ...  \n",
       "..                                                ...  \n",
       "95  Müasir incəsənət, cəmiyyətə çoxsa, mənsub oldu...  \n",
       "96  Sağlam qidalanmaq üçün mətbəxdə ən yaxşı alətl...  \n",
       "97  Gələcəkdə texnologiyalar ictimai həyatımıza də...  \n",
       "98  Saatlar insanlar üçün ən əhəmiyyətli müxtəlifl...  \n",
       "99  Yeni bir iş kurmak heyecan verici bir deneyim ...  \n",
       "\n",
       "[100 rows x 8 columns]"
      ]
     },
     "execution_count": 87,
     "metadata": {},
     "output_type": "execute_result"
    }
   ],
   "source": [
    "df"
   ]
  },
  {
   "cell_type": "code",
   "execution_count": 1,
   "metadata": {},
   "outputs": [],
   "source": [
    "import pandas as pd"
   ]
  },
  {
   "cell_type": "code",
   "execution_count": 2,
   "metadata": {},
   "outputs": [],
   "source": [
    "df = pd.read_csv(\"responses.csv\")\n"
   ]
  },
  {
   "cell_type": "code",
   "execution_count": 9,
   "metadata": {},
   "outputs": [],
   "source": [
    "df1 = pd.read_excel(\"responses-gpt4.xlsx\", header=1)"
   ]
  },
  {
   "cell_type": "code",
   "execution_count": 10,
   "metadata": {},
   "outputs": [
    {
     "data": {
      "text/html": [
       "<div>\n",
       "<style scoped>\n",
       "    .dataframe tbody tr th:only-of-type {\n",
       "        vertical-align: middle;\n",
       "    }\n",
       "\n",
       "    .dataframe tbody tr th {\n",
       "        vertical-align: top;\n",
       "    }\n",
       "\n",
       "    .dataframe thead th {\n",
       "        text-align: right;\n",
       "    }\n",
       "</style>\n",
       "<table border=\"1\" class=\"dataframe\">\n",
       "  <thead>\n",
       "    <tr style=\"text-align: right;\">\n",
       "      <th></th>\n",
       "      <th>Questions</th>\n",
       "      <th>GPT4</th>\n",
       "    </tr>\n",
       "  </thead>\n",
       "  <tbody>\n",
       "    <tr>\n",
       "      <th>0</th>\n",
       "      <td>Pizza necə hazırlanır?</td>\n",
       "      <td>Pizza hazırlamaq üçün aşağıdakı əsas addımları...</td>\n",
       "    </tr>\n",
       "    <tr>\n",
       "      <th>1</th>\n",
       "      <td>Sağlam qalmağın yolları nələrdir?</td>\n",
       "      <td>Sağlam bir həyat tərzi qurmaq üçün aşağıdaki m...</td>\n",
       "    </tr>\n",
       "    <tr>\n",
       "      <th>2</th>\n",
       "      <td>Kitab oxumağın faydaları nələrdir?</td>\n",
       "      <td>Kitab oxumağın bir çox faydaları var, bu fayda...</td>\n",
       "    </tr>\n",
       "    <tr>\n",
       "      <th>3</th>\n",
       "      <td>Vaxtını effektiv idarə etmək üçün nə etmək laz...</td>\n",
       "      <td>Vaxtınızı effektiv idarə etmək üçün aşağıdaki ...</td>\n",
       "    </tr>\n",
       "    <tr>\n",
       "      <th>4</th>\n",
       "      <td>Yaxşı fotoşəkil çəkmək üçün nələrə diqqət etmə...</td>\n",
       "      <td>Yaxşı fotoşəkil çəkmək üçün bir neçə əsas aspe...</td>\n",
       "    </tr>\n",
       "    <tr>\n",
       "      <th>...</th>\n",
       "      <td>...</td>\n",
       "      <td>...</td>\n",
       "    </tr>\n",
       "    <tr>\n",
       "      <th>95</th>\n",
       "      <td>Müasir incəsənət nümunələrinin cəmiyyətə təsir...</td>\n",
       "      <td>1. Yeni Fikirlərə Təşviq: Müasir incəsənət, hə...</td>\n",
       "    </tr>\n",
       "    <tr>\n",
       "      <th>96</th>\n",
       "      <td>Sağlam qidalanmaq üçün ən yaxşı mətbəx alətlər...</td>\n",
       "      <td>1. Blender: Sağlam smoothieler, suplar və sosl...</td>\n",
       "    </tr>\n",
       "    <tr>\n",
       "      <th>97</th>\n",
       "      <td>Gələcək texnologiyaların ictimai həyatımıza tə...</td>\n",
       "      <td>1. Uzaqdan İş: Gələcəkdə texnologiya, ən yaxşı...</td>\n",
       "    </tr>\n",
       "    <tr>\n",
       "      <th>98</th>\n",
       "      <td>Saatların tarixi və onların inkişafı necə olub?</td>\n",
       "      <td>1. Güneş saatları: İlk saatlar, güneşin kölgəs...</td>\n",
       "    </tr>\n",
       "    <tr>\n",
       "      <th>99</th>\n",
       "      <td>Yeni biznes qurmaq üçün nəzərə alınmalı risklə...</td>\n",
       "      <td>1. Maliyyə Riskləri: Start-up biznesi qurarkən...</td>\n",
       "    </tr>\n",
       "  </tbody>\n",
       "</table>\n",
       "<p>100 rows × 2 columns</p>\n",
       "</div>"
      ],
      "text/plain": [
       "                                            Questions  \\\n",
       "0                              Pizza necə hazırlanır?   \n",
       "1                   Sağlam qalmağın yolları nələrdir?   \n",
       "2                  Kitab oxumağın faydaları nələrdir?   \n",
       "3   Vaxtını effektiv idarə etmək üçün nə etmək laz...   \n",
       "4   Yaxşı fotoşəkil çəkmək üçün nələrə diqqət etmə...   \n",
       "..                                                ...   \n",
       "95  Müasir incəsənət nümunələrinin cəmiyyətə təsir...   \n",
       "96  Sağlam qidalanmaq üçün ən yaxşı mətbəx alətlər...   \n",
       "97  Gələcək texnologiyaların ictimai həyatımıza tə...   \n",
       "98    Saatların tarixi və onların inkişafı necə olub?   \n",
       "99  Yeni biznes qurmaq üçün nəzərə alınmalı risklə...   \n",
       "\n",
       "                                                 GPT4  \n",
       "0   Pizza hazırlamaq üçün aşağıdakı əsas addımları...  \n",
       "1   Sağlam bir həyat tərzi qurmaq üçün aşağıdaki m...  \n",
       "2   Kitab oxumağın bir çox faydaları var, bu fayda...  \n",
       "3   Vaxtınızı effektiv idarə etmək üçün aşağıdaki ...  \n",
       "4   Yaxşı fotoşəkil çəkmək üçün bir neçə əsas aspe...  \n",
       "..                                                ...  \n",
       "95  1. Yeni Fikirlərə Təşviq: Müasir incəsənət, hə...  \n",
       "96  1. Blender: Sağlam smoothieler, suplar və sosl...  \n",
       "97  1. Uzaqdan İş: Gələcəkdə texnologiya, ən yaxşı...  \n",
       "98  1. Güneş saatları: İlk saatlar, güneşin kölgəs...  \n",
       "99  1. Maliyyə Riskləri: Start-up biznesi qurarkən...  \n",
       "\n",
       "[100 rows x 2 columns]"
      ]
     },
     "execution_count": 10,
     "metadata": {},
     "output_type": "execute_result"
    }
   ],
   "source": [
    "df1"
   ]
  },
  {
   "cell_type": "code",
   "execution_count": 12,
   "metadata": {},
   "outputs": [],
   "source": [
    "df['gpt4'] = df1['GPT4'].to_list()"
   ]
  },
  {
   "cell_type": "code",
   "execution_count": 14,
   "metadata": {},
   "outputs": [],
   "source": [
    "df.to_csv(\"responses.csv\", index=False)"
   ]
  },
  {
   "cell_type": "code",
   "execution_count": 15,
   "metadata": {},
   "outputs": [],
   "source": [
    "df.to_excel(\"responses_excel.xlsx\", index=False)"
   ]
  },
  {
   "cell_type": "code",
   "execution_count": 16,
   "metadata": {},
   "outputs": [],
   "source": [
    "df = pd.read_csv(\"responses.csv\")"
   ]
  },
  {
   "cell_type": "code",
   "execution_count": 17,
   "metadata": {},
   "outputs": [
    {
     "data": {
      "text/html": [
       "<div>\n",
       "<style scoped>\n",
       "    .dataframe tbody tr th:only-of-type {\n",
       "        vertical-align: middle;\n",
       "    }\n",
       "\n",
       "    .dataframe tbody tr th {\n",
       "        vertical-align: top;\n",
       "    }\n",
       "\n",
       "    .dataframe thead th {\n",
       "        text-align: right;\n",
       "    }\n",
       "</style>\n",
       "<table border=\"1\" class=\"dataframe\">\n",
       "  <thead>\n",
       "    <tr style=\"text-align: right;\">\n",
       "      <th></th>\n",
       "      <th>prompt</th>\n",
       "      <th>mistral-7b-instruct</th>\n",
       "      <th>llama-3-8b-instruct</th>\n",
       "      <th>mixtral-8x7b-instruct</th>\n",
       "      <th>mixtral-8x22b-instruct</th>\n",
       "      <th>llama3-70b</th>\n",
       "      <th>gemma-7b-it</th>\n",
       "      <th>gpt35-turbo</th>\n",
       "      <th>gpt4</th>\n",
       "    </tr>\n",
       "  </thead>\n",
       "  <tbody>\n",
       "    <tr>\n",
       "      <th>0</th>\n",
       "      <td>Pizza necə hazırlanır?</td>\n",
       "      <td>Seni çözdüm, aşağıdaki yönerləmələr dəyərlidir...</td>\n",
       "      <td>Sevimli pizzanı hazırlamaq üçün, ilk növbədə, ...</td>\n",
       "      <td>Pizza, peşəkar tarzda hazırlanmaqla, pizza pət...</td>\n",
       "      <td>Pizza hazırlamaq üçün, şəxsi bir pizza doyğu (...</td>\n",
       "      <td>Pizza hazırlanması üçün lazım olan şeylər:\\n\\n...</td>\n",
       "      <td>Pizza hazırlanması üçün aşağıdakı adımlardan b...</td>\n",
       "      <td>Pizza hazırlamaq çox sadə və zövqverici bir pr...</td>\n",
       "      <td>Pizza hazırlamaq üçün aşağıdakı əsas addımları...</td>\n",
       "    </tr>\n",
       "    <tr>\n",
       "      <th>1</th>\n",
       "      <td>Sağlam qalmağın yolları nələrdir?</td>\n",
       "      <td>Xoş gəlmisiniz! Sağlam qalmaq için önemli olma...</td>\n",
       "      <td>Sağlam qalmağın yolları çox vaxt fiziki fəaliy...</td>\n",
       "      <td>Məsali, sağlam qalmağın yollarıdır:\\n\\n1. Daha...</td>\n",
       "      <td>Sağlam qalmaq üçün əsası, dərmanlı tədbirlər, ...</td>\n",
       "      <td>Sağlamlıq üçün vacib olan yollar arasında aşağ...</td>\n",
       "      <td>Sağlam qalmağın yolları arasında:\\n\\n- Düzgün ...</td>\n",
       "      <td>Sağlam qalmaq və sağlamlıq üçün bir neçə əsas ...</td>\n",
       "      <td>Sağlam bir həyat tərzi qurmaq üçün aşağıdaki m...</td>\n",
       "    </tr>\n",
       "    <tr>\n",
       "      <th>2</th>\n",
       "      <td>Kitab oxumağın faydaları nələrdir?</td>\n",
       "      <td>Sen Kitab oxumağın faydaları haqqında sorduğun...</td>\n",
       "      <td>Kitab oxumağın çoxsaylı faydaları var. Birinci...</td>\n",
       "      <td>Xeyr, mən sizin sualınızı təşkil edə bilmirdim...</td>\n",
       "      <td>Kitab oxumağın faydaları çox sayıdır. Bu, fərd...</td>\n",
       "      <td>Kitab oxumağın çoxsaylı faydaları vardır. Aşağ...</td>\n",
       "      <td>Kitab oxumamanın faydaları çox sayıda olsa da,...</td>\n",
       "      <td>Kitab oxumaq insanın zehni və ruhi inkişafı üç...</td>\n",
       "      <td>Kitab oxumağın bir çox faydaları var, bu fayda...</td>\n",
       "    </tr>\n",
       "    <tr>\n",
       "      <th>3</th>\n",
       "      <td>Vaxtını effektiv idarə etmək üçün nə etmək laz...</td>\n",
       "      <td>Senin vaxtını effektif bir şekilde idare etmək...</td>\n",
       "      <td>Vaxtını effektiv idarə etmək üçün bir neçə str...</td>\n",
       "      <td>Zəhmet olmasa, vaxtını idarə etmək üçün aşağıd...</td>\n",
       "      <td>Zamanı effektiv idarə etmək üçün, bir neçə əsa...</td>\n",
       "      <td>Vaxtını effektiv idarə etmək üçün aşağıdakı ad...</td>\n",
       "      <td>Vaxtın effektiv idarə edilmesi üçün aşağıdakil...</td>\n",
       "      <td>Vaxtı effektiv idarə etmək üçün bəzi əsas prin...</td>\n",
       "      <td>Vaxtınızı effektiv idarə etmək üçün aşağıdaki ...</td>\n",
       "    </tr>\n",
       "    <tr>\n",
       "      <th>4</th>\n",
       "      <td>Yaxşı fotoşəkil çəkmək üçün nələrə diqqət etmə...</td>\n",
       "      <td>Xoş gelmisiniz! Bu sorunun cəvdələxi üçün aşağ...</td>\n",
       "      <td>Yaxşı fotoşəkil çəkmək üçün bir neçə faktor di...</td>\n",
       "      <td>Məsələn, fotoşəklin qüdrələndirilməsi, kompozi...</td>\n",
       "      <td>Xoş gəlmisiniz! Fotoşəkil çəkmək üçün daha yax...</td>\n",
       "      <td>Yaxşı fotoşəkil çəkmək üçün diqqət etmək lazım...</td>\n",
       "      <td>Yaxşı fotoşəkil çəkmək üçün diqqət etmək gerek...</td>\n",
       "      <td>Yaxşı bir fotoşəkil çəkmək üçün bir neçə əsas ...</td>\n",
       "      <td>Yaxşı fotoşəkil çəkmək üçün bir neçə əsas aspe...</td>\n",
       "    </tr>\n",
       "    <tr>\n",
       "      <th>...</th>\n",
       "      <td>...</td>\n",
       "      <td>...</td>\n",
       "      <td>...</td>\n",
       "      <td>...</td>\n",
       "      <td>...</td>\n",
       "      <td>...</td>\n",
       "      <td>...</td>\n",
       "      <td>...</td>\n",
       "      <td>...</td>\n",
       "    </tr>\n",
       "    <tr>\n",
       "      <th>95</th>\n",
       "      <td>Müasir incəsənət nümunələrinin cəmiyyətə təsir...</td>\n",
       "      <td>Müasir incəsənət nümunələri, yani modern tekno...</td>\n",
       "      <td>Müasir incəsənət nümunələrinin cəmiyyətə təsir...</td>\n",
       "      <td>Müasir incəsənət nümunələrinin cəmiyyətə təsir...</td>\n",
       "      <td>Müasir incəsənət, cəmiyyətin dünya görüşünü, m...</td>\n",
       "      <td>Müasir incəsənət nümunələrinin cəmiyyətə təsir...</td>\n",
       "      <td>Müasir incəsənət nümunələri cəmiyyətə bir neçə...</td>\n",
       "      <td>Müasir incəsənət, cəmiyyətə çoxsa, mənsub oldu...</td>\n",
       "      <td>1. Yeni Fikirlərə Təşviq: Müasir incəsənət, hə...</td>\n",
       "    </tr>\n",
       "    <tr>\n",
       "      <th>96</th>\n",
       "      <td>Sağlam qidalanmaq üçün ən yaxşı mətbəx alətlər...</td>\n",
       "      <td>Xoş gelmisiniz! Şu sorusunuzda siz, sağlam qid...</td>\n",
       "      <td>Salam Sağlam qidalanmaq üçün ən yaxşı mətbəx a...</td>\n",
       "      <td>Məsələn, sağlam qidalanmaq üçün sizin işsizlik...</td>\n",
       "      <td>Müəlliflərə görə, sağlam qidalanmaq üçün ən ya...</td>\n",
       "      <td>Sizin sualınıza cavab verirəm!\\n\\nSağlam qidal...</td>\n",
       "      <td>Sağlam qidalanmaq üçün ən yaxşı mətbəx alətlər...</td>\n",
       "      <td>Sağlam qidalanmaq üçün mətbəxdə ən yaxşı alətl...</td>\n",
       "      <td>1. Blender: Sağlam smoothieler, suplar və sosl...</td>\n",
       "    </tr>\n",
       "    <tr>\n",
       "      <th>97</th>\n",
       "      <td>Gələcək texnologiyaların ictimai həyatımıza tə...</td>\n",
       "      <td>Senin sorgusunuzda, gələcək teknologiyaların İ...</td>\n",
       "      <td>Ziyarət edəniniz üçün rəhmət Gələcək texnologi...</td>\n",
       "      <td>Məsələn, gələcək texnologiyaların ictimai həya...</td>\n",
       "      <td>Gələcək texnologiyalar həmişə dəyişən və çox ş...</td>\n",
       "      <td>Gələcək texnologiyaların ictimai həyatımıza tə...</td>\n",
       "      <td>Gələcək texnologiyaların ictimai həyatımıza tə...</td>\n",
       "      <td>Gələcəkdə texnologiyalar ictimai həyatımıza də...</td>\n",
       "      <td>1. Uzaqdan İş: Gələcəkdə texnologiya, ən yaxşı...</td>\n",
       "    </tr>\n",
       "    <tr>\n",
       "      <th>98</th>\n",
       "      <td>Saatların tarixi və onların inkişafı necə olub?</td>\n",
       "      <td>Senin sorguladığın zaman, \"Saatların tarixi və...</td>\n",
       "      <td>Sizin soruşduyunuz məsələyə cavab vermək üçün,...</td>\n",
       "      <td>Saatların tarixi ancient civilizationsda başla...</td>\n",
       "      <td>Saatların tarixi ilk əhvalatdan bərpa olaraq b...</td>\n",
       "      <td>Saatların tarixi çox uzun və maraqlıdır. Saatl...</td>\n",
       "      <td>Saatların tarixi əldəyə gedən uzun bir geçmişə...</td>\n",
       "      <td>Saatlar insanlar üçün ən əhəmiyyətli müxtəlifl...</td>\n",
       "      <td>1. Güneş saatları: İlk saatlar, güneşin kölgəs...</td>\n",
       "    </tr>\n",
       "    <tr>\n",
       "      <th>99</th>\n",
       "      <td>Yeni biznes qurmaq üçün nəzərə alınmalı risklə...</td>\n",
       "      <td>Xoş geldiniz! Biznes qurmaq üçün risklər hər z...</td>\n",
       "      <td>Əslən, yeni biznes qurmaq üçün risklər var, la...</td>\n",
       "      <td>Məsələn, yeni biznes qurmaq üçün şunları qəbul...</td>\n",
       "      <td>Xoş gəlmisiniz! Yeni biznes qurmaq üçün nəzərə...</td>\n",
       "      <td>Yeni bir biznes qurmaq zamanı nəzərə alınmalı ...</td>\n",
       "      <td>Yeni biznes qurmaq üçün nəzərə alınmalı risklə...</td>\n",
       "      <td>Yeni bir iş kurmak heyecan verici bir deneyim ...</td>\n",
       "      <td>1. Maliyyə Riskləri: Start-up biznesi qurarkən...</td>\n",
       "    </tr>\n",
       "  </tbody>\n",
       "</table>\n",
       "<p>100 rows × 9 columns</p>\n",
       "</div>"
      ],
      "text/plain": [
       "                                               prompt  \\\n",
       "0                              Pizza necə hazırlanır?   \n",
       "1                   Sağlam qalmağın yolları nələrdir?   \n",
       "2                  Kitab oxumağın faydaları nələrdir?   \n",
       "3   Vaxtını effektiv idarə etmək üçün nə etmək laz...   \n",
       "4   Yaxşı fotoşəkil çəkmək üçün nələrə diqqət etmə...   \n",
       "..                                                ...   \n",
       "95  Müasir incəsənət nümunələrinin cəmiyyətə təsir...   \n",
       "96  Sağlam qidalanmaq üçün ən yaxşı mətbəx alətlər...   \n",
       "97  Gələcək texnologiyaların ictimai həyatımıza tə...   \n",
       "98    Saatların tarixi və onların inkişafı necə olub?   \n",
       "99  Yeni biznes qurmaq üçün nəzərə alınmalı risklə...   \n",
       "\n",
       "                                  mistral-7b-instruct  \\\n",
       "0   Seni çözdüm, aşağıdaki yönerləmələr dəyərlidir...   \n",
       "1   Xoş gəlmisiniz! Sağlam qalmaq için önemli olma...   \n",
       "2   Sen Kitab oxumağın faydaları haqqında sorduğun...   \n",
       "3   Senin vaxtını effektif bir şekilde idare etmək...   \n",
       "4   Xoş gelmisiniz! Bu sorunun cəvdələxi üçün aşağ...   \n",
       "..                                                ...   \n",
       "95  Müasir incəsənət nümunələri, yani modern tekno...   \n",
       "96  Xoş gelmisiniz! Şu sorusunuzda siz, sağlam qid...   \n",
       "97  Senin sorgusunuzda, gələcək teknologiyaların İ...   \n",
       "98  Senin sorguladığın zaman, \"Saatların tarixi və...   \n",
       "99  Xoş geldiniz! Biznes qurmaq üçün risklər hər z...   \n",
       "\n",
       "                                  llama-3-8b-instruct  \\\n",
       "0   Sevimli pizzanı hazırlamaq üçün, ilk növbədə, ...   \n",
       "1   Sağlam qalmağın yolları çox vaxt fiziki fəaliy...   \n",
       "2   Kitab oxumağın çoxsaylı faydaları var. Birinci...   \n",
       "3   Vaxtını effektiv idarə etmək üçün bir neçə str...   \n",
       "4   Yaxşı fotoşəkil çəkmək üçün bir neçə faktor di...   \n",
       "..                                                ...   \n",
       "95  Müasir incəsənət nümunələrinin cəmiyyətə təsir...   \n",
       "96  Salam Sağlam qidalanmaq üçün ən yaxşı mətbəx a...   \n",
       "97  Ziyarət edəniniz üçün rəhmət Gələcək texnologi...   \n",
       "98  Sizin soruşduyunuz məsələyə cavab vermək üçün,...   \n",
       "99  Əslən, yeni biznes qurmaq üçün risklər var, la...   \n",
       "\n",
       "                                mixtral-8x7b-instruct  \\\n",
       "0   Pizza, peşəkar tarzda hazırlanmaqla, pizza pət...   \n",
       "1   Məsali, sağlam qalmağın yollarıdır:\\n\\n1. Daha...   \n",
       "2   Xeyr, mən sizin sualınızı təşkil edə bilmirdim...   \n",
       "3   Zəhmet olmasa, vaxtını idarə etmək üçün aşağıd...   \n",
       "4   Məsələn, fotoşəklin qüdrələndirilməsi, kompozi...   \n",
       "..                                                ...   \n",
       "95  Müasir incəsənət nümunələrinin cəmiyyətə təsir...   \n",
       "96  Məsələn, sağlam qidalanmaq üçün sizin işsizlik...   \n",
       "97  Məsələn, gələcək texnologiyaların ictimai həya...   \n",
       "98  Saatların tarixi ancient civilizationsda başla...   \n",
       "99  Məsələn, yeni biznes qurmaq üçün şunları qəbul...   \n",
       "\n",
       "                               mixtral-8x22b-instruct  \\\n",
       "0   Pizza hazırlamaq üçün, şəxsi bir pizza doyğu (...   \n",
       "1   Sağlam qalmaq üçün əsası, dərmanlı tədbirlər, ...   \n",
       "2   Kitab oxumağın faydaları çox sayıdır. Bu, fərd...   \n",
       "3   Zamanı effektiv idarə etmək üçün, bir neçə əsa...   \n",
       "4   Xoş gəlmisiniz! Fotoşəkil çəkmək üçün daha yax...   \n",
       "..                                                ...   \n",
       "95  Müasir incəsənət, cəmiyyətin dünya görüşünü, m...   \n",
       "96  Müəlliflərə görə, sağlam qidalanmaq üçün ən ya...   \n",
       "97  Gələcək texnologiyalar həmişə dəyişən və çox ş...   \n",
       "98  Saatların tarixi ilk əhvalatdan bərpa olaraq b...   \n",
       "99  Xoş gəlmisiniz! Yeni biznes qurmaq üçün nəzərə...   \n",
       "\n",
       "                                           llama3-70b  \\\n",
       "0   Pizza hazırlanması üçün lazım olan şeylər:\\n\\n...   \n",
       "1   Sağlamlıq üçün vacib olan yollar arasında aşağ...   \n",
       "2   Kitab oxumağın çoxsaylı faydaları vardır. Aşağ...   \n",
       "3   Vaxtını effektiv idarə etmək üçün aşağıdakı ad...   \n",
       "4   Yaxşı fotoşəkil çəkmək üçün diqqət etmək lazım...   \n",
       "..                                                ...   \n",
       "95  Müasir incəsənət nümunələrinin cəmiyyətə təsir...   \n",
       "96  Sizin sualınıza cavab verirəm!\\n\\nSağlam qidal...   \n",
       "97  Gələcək texnologiyaların ictimai həyatımıza tə...   \n",
       "98  Saatların tarixi çox uzun və maraqlıdır. Saatl...   \n",
       "99  Yeni bir biznes qurmaq zamanı nəzərə alınmalı ...   \n",
       "\n",
       "                                          gemma-7b-it  \\\n",
       "0   Pizza hazırlanması üçün aşağıdakı adımlardan b...   \n",
       "1   Sağlam qalmağın yolları arasında:\\n\\n- Düzgün ...   \n",
       "2   Kitab oxumamanın faydaları çox sayıda olsa da,...   \n",
       "3   Vaxtın effektiv idarə edilmesi üçün aşağıdakil...   \n",
       "4   Yaxşı fotoşəkil çəkmək üçün diqqət etmək gerek...   \n",
       "..                                                ...   \n",
       "95  Müasir incəsənət nümunələri cəmiyyətə bir neçə...   \n",
       "96  Sağlam qidalanmaq üçün ən yaxşı mətbəx alətlər...   \n",
       "97  Gələcək texnologiyaların ictimai həyatımıza tə...   \n",
       "98  Saatların tarixi əldəyə gedən uzun bir geçmişə...   \n",
       "99  Yeni biznes qurmaq üçün nəzərə alınmalı risklə...   \n",
       "\n",
       "                                          gpt35-turbo  \\\n",
       "0   Pizza hazırlamaq çox sadə və zövqverici bir pr...   \n",
       "1   Sağlam qalmaq və sağlamlıq üçün bir neçə əsas ...   \n",
       "2   Kitab oxumaq insanın zehni və ruhi inkişafı üç...   \n",
       "3   Vaxtı effektiv idarə etmək üçün bəzi əsas prin...   \n",
       "4   Yaxşı bir fotoşəkil çəkmək üçün bir neçə əsas ...   \n",
       "..                                                ...   \n",
       "95  Müasir incəsənət, cəmiyyətə çoxsa, mənsub oldu...   \n",
       "96  Sağlam qidalanmaq üçün mətbəxdə ən yaxşı alətl...   \n",
       "97  Gələcəkdə texnologiyalar ictimai həyatımıza də...   \n",
       "98  Saatlar insanlar üçün ən əhəmiyyətli müxtəlifl...   \n",
       "99  Yeni bir iş kurmak heyecan verici bir deneyim ...   \n",
       "\n",
       "                                                 gpt4  \n",
       "0   Pizza hazırlamaq üçün aşağıdakı əsas addımları...  \n",
       "1   Sağlam bir həyat tərzi qurmaq üçün aşağıdaki m...  \n",
       "2   Kitab oxumağın bir çox faydaları var, bu fayda...  \n",
       "3   Vaxtınızı effektiv idarə etmək üçün aşağıdaki ...  \n",
       "4   Yaxşı fotoşəkil çəkmək üçün bir neçə əsas aspe...  \n",
       "..                                                ...  \n",
       "95  1. Yeni Fikirlərə Təşviq: Müasir incəsənət, hə...  \n",
       "96  1. Blender: Sağlam smoothieler, suplar və sosl...  \n",
       "97  1. Uzaqdan İş: Gələcəkdə texnologiya, ən yaxşı...  \n",
       "98  1. Güneş saatları: İlk saatlar, güneşin kölgəs...  \n",
       "99  1. Maliyyə Riskləri: Start-up biznesi qurarkən...  \n",
       "\n",
       "[100 rows x 9 columns]"
      ]
     },
     "execution_count": 17,
     "metadata": {},
     "output_type": "execute_result"
    }
   ],
   "source": [
    "df"
   ]
  },
  {
   "cell_type": "code",
   "execution_count": 18,
   "metadata": {},
   "outputs": [
    {
     "name": "stdout",
     "output_type": "stream",
     "text": [
      "Collecting replicate\n",
      "  Downloading replicate-0.25.2-py3-none-any.whl.metadata (24 kB)\n",
      "Requirement already satisfied: httpx<1,>=0.21.0 in /Users/eljan/anaconda3/envs/polygraf/lib/python3.11/site-packages (from replicate) (0.27.0)\n",
      "Requirement already satisfied: packaging in /Users/eljan/anaconda3/envs/polygraf/lib/python3.11/site-packages (from replicate) (23.2)\n",
      "Requirement already satisfied: pydantic>1.10.7 in /Users/eljan/anaconda3/envs/polygraf/lib/python3.11/site-packages (from replicate) (2.6.1)\n",
      "Requirement already satisfied: typing-extensions>=4.5.0 in /Users/eljan/anaconda3/envs/polygraf/lib/python3.11/site-packages (from replicate) (4.9.0)\n",
      "Requirement already satisfied: anyio in /Users/eljan/anaconda3/envs/polygraf/lib/python3.11/site-packages (from httpx<1,>=0.21.0->replicate) (4.2.0)\n",
      "Requirement already satisfied: certifi in /Users/eljan/anaconda3/envs/polygraf/lib/python3.11/site-packages (from httpx<1,>=0.21.0->replicate) (2023.11.17)\n",
      "Requirement already satisfied: httpcore==1.* in /Users/eljan/anaconda3/envs/polygraf/lib/python3.11/site-packages (from httpx<1,>=0.21.0->replicate) (1.0.4)\n",
      "Requirement already satisfied: idna in /Users/eljan/anaconda3/envs/polygraf/lib/python3.11/site-packages (from httpx<1,>=0.21.0->replicate) (2.10)\n",
      "Requirement already satisfied: sniffio in /Users/eljan/anaconda3/envs/polygraf/lib/python3.11/site-packages (from httpx<1,>=0.21.0->replicate) (1.3.0)\n",
      "Requirement already satisfied: h11<0.15,>=0.13 in /Users/eljan/anaconda3/envs/polygraf/lib/python3.11/site-packages (from httpcore==1.*->httpx<1,>=0.21.0->replicate) (0.14.0)\n",
      "Requirement already satisfied: annotated-types>=0.4.0 in /Users/eljan/anaconda3/envs/polygraf/lib/python3.11/site-packages (from pydantic>1.10.7->replicate) (0.6.0)\n",
      "Requirement already satisfied: pydantic-core==2.16.2 in /Users/eljan/anaconda3/envs/polygraf/lib/python3.11/site-packages (from pydantic>1.10.7->replicate) (2.16.2)\n",
      "Downloading replicate-0.25.2-py3-none-any.whl (39 kB)\n",
      "Installing collected packages: replicate\n",
      "Successfully installed replicate-0.25.2\n"
     ]
    }
   ],
   "source": [
    "!pip install replicate\n",
    "\n"
   ]
  },
  {
   "cell_type": "code",
   "execution_count": 6,
   "metadata": {},
   "outputs": [],
   "source": [
    "import os\n",
    "\n",
    "os.environ['REPLICATE_API_TOKEN'] = \"r8_LFGIlcfIgzPQBL3ei23LaO8zCW7FRfn19sZ47\""
   ]
  },
  {
   "cell_type": "code",
   "execution_count": 18,
   "metadata": {},
   "outputs": [
    {
     "data": {
      "text/plain": [
       "100"
      ]
     },
     "execution_count": 18,
     "metadata": {},
     "output_type": "execute_result"
    }
   ],
   "source": [
    "len(llama2_70b)"
   ]
  },
  {
   "cell_type": "code",
   "execution_count": 20,
   "metadata": {},
   "outputs": [],
   "source": [
    "import pandas as pd\n",
    "\n",
    "df = pd.read_csv(\"responses.csv\")\n",
    "\n",
    "df['llama2_70b'] = llama2_70b"
   ]
  },
  {
   "cell_type": "code",
   "execution_count": 21,
   "metadata": {},
   "outputs": [],
   "source": [
    "df.to_csv(\"responses.csv\", index=False)\n",
    "df.to_excel(\"responses_excel.xlsx\", index=False)"
   ]
  },
  {
   "cell_type": "code",
   "execution_count": 17,
   "metadata": {},
   "outputs": [
    {
     "name": "stderr",
     "output_type": "stream",
     "text": [
      "  0%|          | 0/100 [00:00<?, ?it/s]"
     ]
    },
    {
     "name": "stderr",
     "output_type": "stream",
     "text": [
      "  1%|          | 1/100 [00:19<31:55, 19.35s/it]"
     ]
    },
    {
     "name": "stdout",
     "output_type": "stream",
     "text": [
      " Pizza necə hazırlanır?\n",
      "\n",
      "Pizza hazırlanırken ən yaxşı zəruriyət daxilindən keçirilir. Bu zəruriyət daxilindən keçirilən pizza hazırlanırken ən yaxşı zəruriyət daxilindən keçirilir. Bu zəruriyət daxilindən keçirilən pizza hazırlanırken ən yaxşı zəruriyət daxilindən keçirilir. Bu zəruriyət daxilindən keçirilən pizza hazırlanırken ən yaxşı zəruriyət daxilindən keçirilir.\n",
      "\n",
      "Ən yaxşı zəruriyət daxilindən keçirilən pizza hazırlanırken, bu zəruriyət daxilindən keçirilən pizza hazırlanırken ən yaxşı zəruriyət daxilindən keçirilir. Bu zəruriyət daxilindən keçirilən pizza hazırlanırken ən yaxşı zəruriyət daxilindən keçirilir. Bu zəruriyət daxilindən keçirilən pizza hazırlanırken ən yaxşı zəruriyət daxilindən keçirilir.\n",
      "\n",
      "Pizza hazırlanırken, ən yaxşı zəruriyət daxilindən keçirilən pizza hazırlanırken ən yaxşı zəruriyət daxilindən keçirilir. Bu zəruriyət daxilindən keçirilən pizza hazırlanırken ən yaxşı zəruriyət daxilindən keçirilir. Bu zəruriyət daxilindən keçirilən pizza hazırlanırken ən yaxşı zəruriyət daxilindən keçirilir.\n",
      "\n",
      "Ən yaxşı zəruriyət daxilindən keçirilən pizza hazırlanırken, bu zəruriyət daxilindən keçirilən pizza hazırlanırken ən yaxşı zəruriyət daxilindən keçirilir. Bu zəruriyət daxilindən keçirilən pizza hazırlanırken ən yaxşı zəruriyət daxilindən keçirilir. Bu zəruriyət daxilindən keçirilən pizza hazırlanırken ən yaxşı zəruriyət daxilindən keçirilir.\n",
      "\n",
      "Pizza hazırlanırken, ən yaxşı zəruriyət daxilindən keçirilən pizza hazırlanırken ən yaxşı zəruriyət daxilindən keçirilir. Bu zəruriyət daxilindən keçirilən pizza hazırlanırken ən yaxşı zəruriyət daxilindən keçirilir. Bu zəruriyət daxilindən keçirilən pizza hazırlanırken ən yaxşı zəruriyət daxilindən keçirilir.\n",
      "\n",
      "Ən yaxşı zəruriyət daxil\n"
     ]
    },
    {
     "name": "stderr",
     "output_type": "stream",
     "text": [
      "  2%|▏         | 2/100 [00:39<32:15, 19.75s/it]"
     ]
    },
    {
     "name": "stdout",
     "output_type": "stream",
     "text": [
      " Salam! Saglam qalmagin yollarinin neralaridir?\n",
      "\n",
      "1. Saglam qalmaq icraatlarinin yollaridir. Bu icraatlar, insanin qalbini qaytarir ve saglamligini saqlar.\n",
      "2. Saglam qalmaq icraatlarinin yollaridir. Bu icraatlar, insanin fikirlerini ve iradeini saqlar.\n",
      "3. Saglam qalmaq icraatlarinin yollaridir. Bu icraatlar, insanin vicdanini ve zanjanini saqlar.\n",
      "4. Saglam qalmaq icraatlarinin yollaridir. Bu icraatlar, insanin ruhunu ve cani saglamligini saqlar.\n",
      "5. Saglam qalmaq icraatlarinin yollaridir. Bu icraatlar, insanin fikirlerini ve iradeini saqlar.\n",
      "\n",
      "Saglam qalmaq icraatlarinin yollaridir. Bu icraatlar, insanin qalbini qaytarir ve saglamligini saqlar.\n",
      "\n",
      "Saglam qalmaq icraatlarinin yollaridir. Bu icraatlar, insanin fikirlerini ve iradeini saqlar.\n",
      "\n",
      "Saglam qalmaq icraatlarinin yollaridir. Bu icraatlar, insanin vicdanini ve zanjanini saqlar.\n",
      "\n",
      "Saglam qalmaq icraatlarinin yollaridir. Bu icraatlar, insanin ruhunu ve cani saglamligini saqlar.\n",
      "\n",
      "Saglam qalmaq icraatlarinin yollaridir. Bu icraatlar, insanin fikirlerini ve iradeini saqlar.\n",
      "\n",
      "Saglam qalmaq icraatlarinin yollaridir. Bu icraatlar, insanin qalbini qaytarir ve saglamligini saqlar.\n",
      "\n",
      "Saglam qalmaq icraatlarinin yollaridir. Bu icraatlar, insanin fikirlerini ve iradeini saqlar.\n",
      "\n",
      "Saglam qalmaq icraatlarinin yollaridir. Bu icraatlar, insanin vicdanini ve zanjanini saqlar.\n",
      "\n",
      "Saglam qalmaq icraatlarinin yollaridir. Bu icraatlar, insanin ruhunu ve cani saglamligini saqlar.\n",
      "\n",
      "Saglam qalmaq icraatlarinin yollaridir. Bu icraatlar, insanin fikirlerini ve iradeini saqlar.\n",
      "\n",
      "Saglam qalmaq icraatlarinin yollaridir. Bu icraatlar, insanin qalbini qaytarir ve saglamligini saqlar.\n",
      "\n",
      "Saglam qalmaq icraatlarinin yollaridir. Bu icraatlar, insanin fikirlerini ve iradeini saqlar.\n",
      "\n",
      "Saglam qalmaq icraatlarinin yollaridir. Bu icraatlar, insanin vicdanini ve zanjanini saqlar.\n",
      "\n",
      "Saglam qalmaq icraatlarinin yollaridir. Bu icraatlar, insanin ruhunu ve cani saglamligini saqlar.\n",
      "\n",
      "Saglam qalmaq icraatlarinin yollaridir. Bu icraatlar, insanin fikirlerini ve iradeini saqlar.\n",
      "\n",
      "Saglam qalmaq icraatlarinin yollaridir. Bu icraatlar, insanin qalbini qaytarir ve saglamligini saqlar.\n",
      "\n",
      "Saglam qalmaq icraatlarinin yollaridir. Bu icraatlar, insanin fikirlerini ve iradeini saqlar.\n",
      "\n",
      "Saglam qalmaq icraatlarinin yollaridir. Bu icraatlar, insanin vicdanini ve zanjanini saqlar.\n",
      "\n",
      "Saglam qalma\n"
     ]
    },
    {
     "name": "stderr",
     "output_type": "stream",
     "text": [
      "  3%|▎         | 3/100 [00:59<32:00, 19.80s/it]"
     ]
    },
    {
     "name": "stdout",
     "output_type": "stream",
     "text": [
      " Kitab oxumağın faydaları şu anda görülür:\n",
      "\n",
      "1. Bilgi sahibi olmak: Kitab oxumağının faydaları, bilgi sahibi olmakdadır. Kitablardan ən yaxşı fikirlər və kişilər haqqında bilgi sahibi olmak mümkündür.\n",
      "2. Əgər ən yaxşı fikir və kişi haqqında bilgi edinmək istəyirsinizsə, kitab oxumağının faydaları, bu bilgilərinə uğrayır.\n",
      "3. Ən yaxşı fikir və kişi haqqında bilgi edinmək istəyirsinizsə, kitab oxumağının faydaları, bu bilgilərinə uğrayır.\n",
      "4. Fikirlər və kişilər haqqında tətbiq edə bilmək: Kitab oxumağının faydaları, fikirlər və kişilər haqqında tətbiq edə bilməkdadır. Bu, fikirlər və kişilər haqqında ən yaxşı bilgi sahibi olmakdadır.\n",
      "5. Ən yaxşı fikir və kişi haqqında tətbiq edə bilmək: Kitab oxumağının faydaları, ən yaxşı fikir və kişi haqqında tətbiq edə bilməkdadır. Bu, fikirlər və kişilər haqqında ən yaxşı bilgi sahibi olmakdadır.\n",
      "6. Fikirlər və kişilər haqqında əsas səviyyədən tətbiq edə bilmək: Kitab oxumağının faydaları, fikirlər və kişilər haqqında əsas səviyyədən tətbiq edə bilməkdadır. Bu, fikirlər və kişilər haqqında ən yaxşı bilgi sahibi olmakdadır.\n",
      "7. Ən yaxşı fikir və kişi haqqında əsas səviyyədən tətbiq edə bilmək: Kitab oxumağının faydaları, ən yaxşı fikir və kişi haqqında əsas səviyyədən tətbiq edə bilməkdadır. Bu, fikirlər və kişilər haqqında ən yaxşı bilgi sahibi olmakdadır.\n",
      "8. Fikirlər və kişilər haqqında tətbiq edə bilmək üçün ən yaxşı kitablar: Kitab oxumağının faydaları, fikirlər və kişilər haqqında tətbiq edə bilmək üçün ən yaxşı kitablarıdır. Bu, fikirlər və kişilər haqqında ən yaxşı bilgi sahibi olmakdadır.\n",
      "9. Ən yaxşı fikir və kişi haqqında tətbiq edə bilmək üçün ən yaxşı kitablar: Kitab oxumağının faydaları, ən yaxşı fikir və kişi haqqında tətbiq edə bilm\n"
     ]
    },
    {
     "name": "stderr",
     "output_type": "stream",
     "text": [
      "  4%|▍         | 4/100 [01:17<30:52, 19.30s/it]"
     ]
    },
    {
     "name": "stdout",
     "output_type": "stream",
     "text": [
      " Vaxtını effektiv idarə etmək üçün nə etmək lazımdır?\n",
      "\n",
      "Bəşə bir şəkildə, vaxtını effektiv idarə etmək üçün ən yaxşı şəkildir:\n",
      "\n",
      "1. Planlaşmaq: Vaxtının əsası olarak planlaşmaq lazımdır. Bu yüklənir və yaşınızın əsası olarak planlaşırıq.\n",
      "2. Hərəkətli fəaliyyət: Hərəkətli fəaliyyət göstərmək lazımdır. Bu yüklənir və yaşınızın əsası olarak hərəkətli fəaliyyət göstərirək.\n",
      "3. Əməliyyatlar: Əməliyyatların əsası olarak yerinə yetirən əməliyyatlar lazımdır. Bu yüklənir və yaşınızın əsası olarak əməliyyatları yerinə yetirərək.\n",
      "4. İş dünyası: İş dünyasının əsası olarak iş dünyası lazımdır. Bu yüklənir və yaşınızın əsası olarak iş dünyasını yönde bir şəkildə tutaraq.\n",
      "5. Ən yaxşı fəaliyyət: Ən yaxşı fəaliyyət göstərmək lazımdır. Bu yüklənir və yaşınızın əsası olarak ən yaxşı fəaliyyət göstərirək.\n",
      "6. Əməliyyatların təqdimatı: Əməliyyatların təqdimatı lazımdır. Bu yüklənir və yaşınızın əsası olarak əməliyyatların təqdimatı yerinə yetirərək.\n",
      "7. İş dünyasının təqdimatı: İş dünyasının təqdimatı lazımdır. Bu yüklənir və yaşınızın əsası olarak iş dünyasının təqdimatı yerinə yetirərək.\n",
      "8. Ən yaxşı plan: Ən yaxşı plan göstərmək lazımdır. Bu yüklənir və yaşınızın əsası olarak ən yaxşı plan göstərirək.\n",
      "\n",
      "Bu şəkildə, vaxtını effektiv idarə etmək üçün ən yaxşı şəkildir. Bu şəkildə, vaxtının əsası olarak planlaşmaq, hərəkətli fəaliyyət, əməliyyatlar, ış dünyası, ən yaxşı fəaliyyət, əməliyyatların təqdimatı, ış dünyasının təqdimatı və ən yaxşı plan göstərmək lazımdır.\n"
     ]
    },
    {
     "name": "stderr",
     "output_type": "stream",
     "text": [
      "  5%|▌         | 5/100 [01:25<24:08, 15.24s/it]"
     ]
    },
    {
     "name": "stdout",
     "output_type": "stream",
     "text": [
      " Hello! I'm happy to help you with your question.\n",
      "\n",
      "To create a beautiful photo, there are a few things you can consider:\n",
      "\n",
      "1. Lighting: Lighting is one of the most important factors in photography. Natural light is always the best option, so try to take your photos near a window or outside during the golden hour (the hour just before sunset). Avoid using the flash as it can create harsh shadows and unflattering light.\n",
      "2. Composition: Think about the composition of your photo. Consider the rule of thirds, which means dividing the image into thirds both horizontally and vertically, and placing interesting elements along those lines. Also, try to create a sense of balance by placing objects or people in the frame in a way that feels harmonious.\n",
      "3. Focus: Make sure your subject is in focus. Use the autofocus feature on your camera or phone, or try manual focusing if you have the skill. A blurry subject can ruin an otherwise great photo.\n",
      "4. Colors: Use colors to your advantage. Bright colors can add energy and excitement to your photo, while muted colors can create a more subdued atmosphere. Consider the colors of the objects or clothes in your photo and how they work together.\n",
      "5. Angles: Experiment with different angles. Don't be afraid to get creative and try shooting from low or high angles, or even from unusual perspectives. This can add interest and depth to your photos.\n",
      "6. Editing: Finally, don't forget about editing. Most phones and cameras come with built-in editing tools that allow you to adjust things like brightness, contrast, and saturation. Use these tools to enhance your photos and give them a professional look.\n",
      "\n",
      "I hope these tips help you take better photos! If you have any more questions, feel free to ask.\n"
     ]
    },
    {
     "name": "stderr",
     "output_type": "stream",
     "text": [
      "  6%|▌         | 6/100 [01:44<25:57, 16.56s/it]"
     ]
    },
    {
     "name": "stdout",
     "output_type": "stream",
     "text": [
      " Salam! Stressi azaltmaq üçün nə etmək olar?\n",
      "\n",
      "Stressi azaltmaq lazım olaraq, sizin dahaə bir-bir necə etmək olar. Bu etməkun əsasında, stressi azaltmaq üçün ən yaxşı etmək olar:\n",
      "\n",
      "1. Fəaliyyətə dəyiş etmək: Stressi azaltmaq üçün, fəaliyyətə dəyiş etmək lazım olar. Bu dəyişək, sizin fəaliyyətəni yenidən keçirmek olar.\n",
      "2. Təhlükə dəyiş etmək: Təhlükə dəyiş etmək, stressi azaltmaq üçün ən yaxşı etmək olar. Bu dəyişək, sizin təhlükəni yenidən keçirmek olar.\n",
      "3. Əlaqəli məlumatların təqdim edilməsi: Əlaqəli məlumatların təqdim edilməsi, stressi azaltmaq üçün ən yaxşı etmək olar. Bu etmək, sizin əlaqəli məlumatlarının təqdim edilməsi olar.\n",
      "4. Ən yaxşı etmək: Ən yaxşı etmək, stressi azaltmaq üçün ən yaxşı etmək olar. Bu etmək, sizin ən yaxşı etməkini keçirmek olar.\n",
      "5. Əlaqəli məlumatların təqdim edilməsi: Əlaqəli məlumatların təqdim edilməsi, stressi azaltmaq üçün ən yaxşı etmək olar. Bu etmək, sizin əlaqəli məlumatlarının təqdim edilməsi olar.\n",
      "6. Ən yaxşı etmək: Ən yaxşı etmək, stressi azaltmaq üçün ən yaxşı etmək olar. Bu etmək, sizin ən yaxşı etməkini keçirmek olar.\n",
      "7. Fəaliyyətə dəyiş etmək: Fəaliyyətə dəyiş etmək, stressi azaltmaq üçün ən yaxşı etmək olar. Bu dəyişək, sizin fəaliyyətəni yenidən keçirmek olar.\n",
      "8. Təhlükə dəyiş etmək: Təhlükə dəyiş etmək, stressi azaltmaq üçün ən yaxşı etmək olar. Bu dəyişək, sizin təhlükəni yenidən keçirmek olar.\n",
      "\n",
      "Bu etməkun əsasında, stressi azaltmaq üçün ən yaxşı etmək olar: fəaliyyətə dəyiş etmək, təhlükə dəyiş etmək, əlaqəli məlumatların təqdim edilməsi, ən yaxşı etmək, əlaqəli məlumatların təqdim edilməsi, ən yaxşı etmək.\n",
      "\n",
      "Ən yaxşı etmək, stressi azaltmaq üçün ən yaxşı etmək olar. Bu etmək, sizin ən yaxşı etməkini keçirmek olar.\n"
     ]
    },
    {
     "name": "stderr",
     "output_type": "stream",
     "text": [
      "  7%|▋         | 7/100 [01:55<22:43, 14.66s/it]"
     ]
    },
    {
     "name": "stdout",
     "output_type": "stream",
     "text": [
      " \"Yaddaşı gücləndirmək\" üçün hansı tədbirlər görülməlidir. Bu tədbirlərə əsasən şəkildə istifadə etmək olur:\n",
      "\n",
      "1. \"Yaddaşı gücləndirmək\" üçün əsas tədbir - əvəzinə gözəldirmək. Bu tədbir, yaddaşının əsas vəziyyətini, əsas səviyyətini, əsas əməliyyatını, əsas təşəbbüh etməyini və əsas tədbir edə bilər.\n",
      "2. \"Yaddaşı gücləndirmək\" üçün əksi tədbir - əvəzinə gözəldirmək. Bu tədbir, yaddaşının əksi vəziyyətini, əksi səviyyətini, əksi əməliyyatını, əksi təşəbbüh etməyini və əksi tədbir edə bilər.\n",
      "3. \"Yaddaşı gücləndirmək\" üçün ən yaxşı tədbir - əvəzinə gözəldirmək. Bu tədbir, yaddaşının ən yaxşı vəziyyətini, ən yaxşı səviyyətini, ən yaxşı əməliyyatını, ən yaxşı təşəbbüh etməyini və ən yaxşı tədbir edə bilər.\n",
      "\n",
      "Bu tədbirlərə əsasən şəkildə istifadə etmək olur, lakin bunları əsasən çətin və ya əsasən əksi tədbirlərdə əsasən şəkildə istifadə edə bilər.\n"
     ]
    },
    {
     "name": "stderr",
     "output_type": "stream",
     "text": [
      "  8%|▊         | 8/100 [02:05<20:09, 13.15s/it]"
     ]
    },
    {
     "name": "stdout",
     "output_type": "stream",
     "text": [
      " \"Evdə enerji qənaəti necə edilə bilər?\" - This question is asking about the ways to save energy at home.\n",
      "\n",
      "\"Evdə enerji qənaəti\" means \"energy saving\" in Azerbaijani, and \"necə edilə bilər\" means \"how can it be done?\".\n",
      "\n",
      "Here's a possible answer in Azerbaijani:\n",
      "\n",
      "\"Evdə enerji qənaəti necə edilə bilər? Bu xüsusi məqsədilərdə ən yaxşı enerji qənaəti strategina görə düşənən fərdiyyətən ən yaxşı əsası olan bir şəkildir. Bu strategiyaların əsası, evdəki enerji qənaətinin təkmilləşdir. Bu təkmilləşdə əsası, evdəki enerji qənaətinin ən yaxşı əsası olan ən yaxşı fərdiyyətən ən yaxşı əsası olan bir şəkildir. Bu şəkildə, evdəki enerji qənaətinin təkmilləşdir, və bu təkmilləşdə əsası, evdəki enerji qənaətinin ən yaxşı əsası olan ən yaxşı fərdiyyətən ən yaxşı əsası olan bir şəkildir.\"\n",
      "\n",
      "Translation: \"How can energy saving be done at home? This is a very important question in terms of energy efficiency. The basic principle of energy saving is to reduce the amount of energy consumed at home. This can be achieved through various means, such as using energy-efficient appliances, turning off lights and electronics when not in use, and insulating the home. By implementing these strategies, energy consumption can be significantly reduced, which in turn can help reduce the amount of energy wasted and save money on energy bills.\"\n"
     ]
    },
    {
     "name": "stderr",
     "output_type": "stream",
     "text": [
      "  9%|▉         | 9/100 [02:25<23:00, 15.17s/it]"
     ]
    },
    {
     "name": "stdout",
     "output_type": "stream",
     "text": [
      " Rəqəmsal əsərlərin hüquqi müdafiəsi, əsərlərin tərəfi olmasını sağlar. Bu müdafiə, əsərlərin tərəfinin təyin edilməsi və ya əsərlərin tərəfinin əlavə olunmasını sağlar.\n",
      "\n",
      "Əsərlərin tərəfi olmasını sağlayan müdafiə, əsərlərin hüquqi müdafiəsi olaraq keçirilir. Bu müdafiə, əsərlərin hüquqının təyin edilməsi və ya əsərlərin hüquqının əlavə olunmasını sağlar.\n",
      "\n",
      "Əsərlərin hüquqi müdafiəsi, əsərlərin tərəfi olmasını sağlayan müdafiə olaraq keçirilir. Bu müdafiə, əsərlərin hüquqının təyin edilməsi və ya əsərlərin hüquqının əlavə olunmasını sağlar.\n",
      "\n",
      "Əsərlərin hüquqi müdafiəsi, əsərlərin tərəfi olmasını sağlayan müdafiə olaraq keçirilir. Bu müdafiə, əsərlərin hüquqının təyin edilməsi və ya əsərlərin hüquqının əlavə olunmasını sağlar.\n",
      "\n",
      "Əsərlərin hüquqi müdafiəsi, əsərlərin tərəfi olmasını sağlayan müdafiə olaraq keçirilir. Bu müdafiə, əsərlərin hüquqının təyin edilməsi və ya əsərlərin hüquqının əlavə olunmasını sağlar.\n",
      "\n",
      "Əsərlərin hüquqi müdafiəsi, əsərlərin tərəfi olmasını sağlayan müdafiə olaraq keçirilir. Bu müdafiə, əsərlərin hüquqının təyin edilməsi və ya əsərlərin hüquqının əlavə olunmasını sağlar.\n",
      "\n",
      "Əsərlərin hüquqi müdafiəsi, əsərlərin tərəfi olmasını sağlayan müdafiə olaraq keçirilir. Bu müdafiə, əsərlərin hüquqının təyin edilməsi və ya əsərlərin hüquqının əlavə olunmasını sağlar.\n",
      "\n",
      "Əsərlərin hüquqi müdafiəsi, əsərlərin tərəfi olmasını sağlayan müdafiə olaraq keçirilir. Bu müdafiə, əsərlərin hüquqının təyin edilməsi və ya əsərlərin hüquqının əlavə olunmasını sağlar.\n",
      "\n",
      "Əsərlərin hüquqi müdafiəsi, əsərlərin tərəfi olmasını sağlayan müdafiə olaraq keçirilir. Bu müdafiə, əsərlərin hüquqının təyin edilməsi və ya əsərlərin hüquqı\n"
     ]
    },
    {
     "name": "stderr",
     "output_type": "stream",
     "text": [
      " 10%|█         | 10/100 [02:44<24:39, 16.44s/it]"
     ]
    },
    {
     "name": "stdout",
     "output_type": "stream",
     "text": [
      " Dünyanın ən qədim şəhərləri hansılardır və onların tarixi nədir?\n",
      "\n",
      "İlk şəhər, Meksika şəhəri olub. Meksika şəhəri, Azərbaycanın ən qədim tarixli şəhərlərinə biridir. Tarixi Azərbaycanın ən qədim tarixli şəhərlərinə biridir. Meksika şəhəri, 1325-ci il əvvələrindən əsərlər. Bu şəhər, ən yaxşı qədim şəhərdədir və ən böyük qədim şəhərdədir.\n",
      "\n",
      "İkinci şəhər, İstanbul şəhəri olub. İstanbul şəhəri, Azərbaycanın ən böyük şəhəri olub və ən çox zəngin şəhərdədir. İstanbul şəhəri, 660-ci il əvvələrindən əsərlər. Bu şəhər, ən böyük qədim şəhərdədir və ən yaxşı qədim şəhərdədir.\n",
      "\n",
      " Üçüncü şəhər, Bakı şəhəri olub. Bakı şəhəri, Azərbaycanın ən qədim tarixli şəhərlərinə biridir. Tarixi Azərbaycanın ən qədim tarixli şəhərlərinə biridir. Bakı şəhəri, 1194-ci il əvvələrindən əsərlər. Bu şəhər, ən böyük qədim şəhərdədir və ən yaxşı qədim şəhərdədir.\n",
      "\n",
      "Dördüncü şəhər, Şəki şəhəri olub. Şəki şəhəri, Azərbaycanın ən qədim tarixli şəhərlərinə biridir. Tarixi Azərbaycanın ən qədim tarixli şəhərlərinə biridir. Şəki şəhəri, 1742-ci il əvvələrindən əsərlər. Bu şəhər, ən böyük qədim şəhərdədir və ən yaxşı qədim şəhərdədir.\n",
      "\n",
      "Beşinci şəhər, Gəncə şəhəri olub. Gəncə şəhəri, Azərbaycanın ən qədim tarixli şəhərlərinə biridir. Tarixi Azərbaycanın ən qədim tarixli şəhərlərinə biridir. Gəncə şəhəri, 1804-ci il əvvələrindən əsərlər. Bu şəhər, ən böyük qədim şəhərdədir və ən yaxşı qədim şəhərdədir.\n",
      "\n",
      "Son şəhər, Naxçıvan şəhəri olub. Naxçıvan şəhəri, Azərbaycanın ən qədim tarixli şəhərlərinə biridir. Tarixi Azərbaycanın ən qədim tarixli şəhərlərinə biridir.\n"
     ]
    },
    {
     "name": "stderr",
     "output_type": "stream",
     "text": [
      " 11%|█         | 11/100 [02:48<18:40, 12.59s/it]"
     ]
    },
    {
     "name": "stdout",
     "output_type": "stream",
     "text": [
      " I am not able to provide information in Azerbaijani language as I am not trained on this language. However, I can try to provide a translation of your question in English:\n",
      "\n",
      "\"What are the most famous Italian dishes?\"\n",
      "\n",
      "Some of the most famous Italian dishes include pasta dishes such as spaghetti bolognese, lasagna, and fettuccine Alfredo. Pizza is also a popular Italian dish, with different regions in Italy having their own unique styles and toppings. Other well-known Italian dishes include risotto, a rice-based dish typically made with vegetables or meat, and osso buco, a braised beef dish served with vegetables and gremolata, a sauce made with lemon, garlic, and parsley.\n"
     ]
    },
    {
     "name": "stderr",
     "output_type": "stream",
     "text": [
      " 12%|█▏        | 12/100 [03:07<21:21, 14.57s/it]"
     ]
    },
    {
     "name": "stdout",
     "output_type": "stream",
     "text": [
      "İdeal bir səhər rutini, dünya standartlarına uyğun, bərə dərin, ən yaxşı qədərətli və zəngin olmalıdır. Bu rutin, səhərənın ən iyi qədərətini, ən yaxşı zəngini və ən bərə dərinlikini təkmill edirlər.\n",
      "\n",
      "Ən iyi səhər rutini, səhərənın ən iyi qədərətini təkmill edir. Bu rutin, səhərənın ən iyi qədərətini, ən yaxşı zəngini və ən bərə dərinlikini təkmill edirlər. Bu rutin, səhərənın ən iyi qədərətini təkmill edir, ən yaxşı zəngini və ən bərə dərinlikini təkmill edirlər.\n",
      "\n",
      "Ən yaxşı səhər rutini, səhərənın ən yaxşı qədərətini təkmill edir. Bu rutin, səhərənın ən yaxşı qədərətini, ən iyi zəngini və ən bərə dərinlikini təkmill edirlər. Bu rutin, səhərənın ən yaxşı qədərətini təkmill edir, ən iyi zəngini və ən bərə dərinlikini təkmill edirlər.\n",
      "\n",
      "Ən bərə dərin səhər rutini, səhərənın ən bərə dərinlikini təkmill edir. Bu rutin, səhərənın ən bərə dərinlikini, ən yaxşı zəngini və ən iyi qədərətini təkmill edirlər. Bu rutin, səhərənın ən bərə dərinlikini təkmill edir, ən yaxşı zəngini və ən iyi qədərətini təkmill edirlər.\n",
      "\n",
      "Səhər rutini, səhərənın ən iyi qədərətini, ən yaxşı zəngini və ən bərə dərinlikini təkmill edir. Bu rutin, səhərənın ən iyi qədərətini, ən yaxşı zəngini və ən bərə dərinlikini təkmill edirlər. Bu rutin, səhərənın ən iyi qədərətini təkmill edir, ən yaxşı zəngini və ən bərə dərinlikini təkmill edirlər.\n",
      "\n",
      "Səhər rutini, səhərənın ən iyi qədərətini, ən yaxşı zəngini və ən bərə dərinlikini təkmill edir. Bu rutin, səhərənın ən iyi qədərətini, ən yaxşı zəngini və ən bərə dərinlikini təkmill edirlər. Bu rutin, səhərənın ən iyi qədərətini təkmill edir, ən yaxşı zəng\n"
     ]
    },
    {
     "name": "stderr",
     "output_type": "stream",
     "text": [
      " 13%|█▎        | 13/100 [03:17<19:09, 13.21s/it]"
     ]
    },
    {
     "name": "stdout",
     "output_type": "stream",
     "text": [
      " \"Evdəki hava keyfiyyətini yaxşılaşdırmaq\" - This phrase translates to \"How to improve home comfort\" in English.\n",
      "\n",
      "Here are some suggestions for improving home comfort:\n",
      "\n",
      "1. Ventilation: Proper ventilation is essential for maintaining a comfortable and healthy indoor environment. Make sure that your home is well-ventilated, and consider installing a ventilation system if necessary.\n",
      "2. Thermal insulation: Insulate your home to keep it warm in the winter and cool in the summer. This will help reduce energy consumption and save you money on heating and cooling bills.\n",
      "3. Lighting: Adequate lighting can greatly impact the ambiance of your home. Consider installing energy-efficient light bulbs and using lamps or sconces to create a cozy atmosphere.\n",
      "4. Noise reduction: A quiet home can be a comfortable home. Consider using soundproofing materials, such as acoustic panels or insulation, to reduce noise levels.\n",
      "5. Air purification: Keep your home's air clean and fresh by using an air purifier or installing a central air system with a HEPA filter.\n",
      "6. Decluttering: A cluttered home can be stressful and uncomfortable. Consider decluttering your space and organizing your belongings to create a more relaxed atmosphere.\n",
      "7. Home automation: Smart home devices can make your home more comfortable and convenient. Consider investing in devices such as thermostats, lighting systems, and security cameras that can be controlled remotely.\n",
      "8. Furniture and decor: Invest in comfortable and stylish furniture and decor that reflect your personal taste. Consider using ergonomic furniture and adding plants or artwork to create a cozy and inviting atmosphere.\n",
      "9. Color scheme: Choose a color scheme that promotes relaxation and comfort. Soft, calming colors such as blue, green, and beige can create a peaceful atmosphere.\n",
      "10. Maintenance: Regular maintenance is essential for maintaining a comfortable home. Make sure to repair any issues promptly, and consider hiring a handyman or housekeeper to help with upkeep.\n",
      "\n",
      "By implementing these suggestions, you can create a comfortable and inviting home that you'll enjoy spending time in.\n"
     ]
    },
    {
     "name": "stderr",
     "output_type": "stream",
     "text": [
      " 14%|█▍        | 14/100 [03:36<21:25, 14.94s/it]"
     ]
    },
    {
     "name": "stdout",
     "output_type": "stream",
     "text": [
      " Uşaqlarda oxumağa marağı necə artırmaq olar?\n",
      "\n",
      "Bu questionın çözümü, birçə şəkildə oxumağa marağı artırmaq üçün çalışır.\n",
      "\n",
      "1. Ən yaxşı oxumağa marağı artırmaq üçün, uşaqların ən yaxşı kəsiləsinin təsiri etmək lazım. Bu kəsiləsində, uşaqların ən yaxşı oxumağa marağının təsir etməsi lazım.\n",
      "2. Ən yaxşı oxumağa marağı artırmaq üçün, uşaqların ən yaxşı kəsiləsinin təsir etmək lazım. Bu kəsiləsində, uşaqların ən yaxşı oxumağa marağının təsir etməsi lazım.\n",
      "3. Ən yaxşı oxumağa marağı artırmaq üçün, uşaqların ən yaxşı kəsiləsinin təsir etmək lazım. Bu kəsiləsində, uşaqların ən yaxşı oxumağa marağının təsir etməsi lazım.\n",
      "\n",
      "Bu üçün, uşaqların ən yaxşı kəsiləsinin təsir etmək lazım. Bu kəsiləsində, uşaqların ən yaxşı oxumağa marağının təsir etməsi lazım.\n",
      "\n",
      "Ən yaxşı oxumağa marağı artırmaq üçün, uşaqların ən yaxşı kəsiləsinin təsir etmək lazım. Bu kəsiləsində, uşaqların ən yaxşı oxumağa marağının təsir etməsi lazım.\n",
      "\n",
      "Bu üçün, uşaqların ən yaxşı kəsiləsinin təsir etmək lazım. Bu kəsiləsində, uşaqların ən yaxşı oxumağa marağının təsir etməsi lazım.\n",
      "\n",
      "Ən yaxşı oxumağa marağı artırmaq üçün, uşaqların ən yaxşı kəsiləsinin təsir etmək lazım. Bu kəsiləsində, uşaqların ən yaxşı oxumağa marağının təsir etməsi lazım.\n",
      "\n",
      "Bu üçün, uşaqların ən yaxşı kəsiləsinin təsir etmək lazım. Bu kəsiləsində, uşaqların ən yaxşı oxumağa marağının təsir etməsi lazım.\n",
      "\n",
      "Ən yaxşı oxumağa marağı artırmaq üçün, uşaqların ən yaxşı kəsiləsinin təsir etmək lazım. Bu kəsiləsində, uşaqların ən yaxşı oxumağa marağının təsir etməsi lazım.\n",
      "\n",
      "Bu üçün, uşaqların ən yaxşı kəsiləsinin təsir etmək lazım. Bu kəsiləsində, uşaqlar\n"
     ]
    },
    {
     "name": "stderr",
     "output_type": "stream",
     "text": [
      " 15%|█▌        | 15/100 [03:40<16:37, 11.74s/it]"
     ]
    },
    {
     "name": "stdout",
     "output_type": "stream",
     "text": [
      " Hello! I'm happy to help you with your question.\n",
      "\n",
      "To make a delicious mug of coffee, you can follow these simple steps:\n",
      "\n",
      "1. Start by boiling water in a pot or kettle.\n",
      "2. While the water is boiling, prepare your coffee mug by rinsing it with hot water and then drying it with a clean towel.\n",
      "3. Add one or two teaspoons of ground coffee to the mug, depending on your desired strength of coffee.\n",
      "4. Pour the boiling water over the coffee grounds in the mug.\n",
      "5. Stir the coffee gently with a spoon to make sure all the grounds are saturated.\n",
      "6. Add sugar, milk, or cream to taste, if desired.\n",
      "7. Enjoy your delicious mug of coffee!\n",
      "\n",
      "I hope this helps. If you have any further questions, please don't hesitate to ask.\n"
     ]
    },
    {
     "name": "stderr",
     "output_type": "stream",
     "text": [
      " 16%|█▌        | 16/100 [03:47<14:28, 10.34s/it]"
     ]
    },
    {
     "name": "stdout",
     "output_type": "stream",
     "text": [
      " I am not able to provide a list of helpful, respectful and honest assistants in Azerbaijani language as it is not within my programming to have access to personal information or make judgments about individuals. However, I can suggest some general tips on how to find and work with assistants that possess these qualities.\n",
      "\n",
      "1. Clearly define your expectations and requirements: Before starting your search, it's important to have a clear understanding of what you need help with and what qualities you are looking for in an assistant. This will help you identify the right candidate and ensure a successful working relationship.\n",
      "2. Look for candidates with strong communication skills: Good communication is key to any successful working relationship. Look for candidates who are able to clearly express themselves, listen actively, and respond appropriately.\n",
      "3. Check references and conduct interviews: Ask for references from previous employers or colleagues and conduct thorough interviews to get a sense of the candidate's work ethic, reliability, and communication style.\n",
      "4. Consider hiring a virtual assistant: With the rise of remote work, virtual assistants have become a popular option for many businesses. Virtual assistants can work from anywhere and can be a cost-effective solution for tasks such as scheduling, email management, and data entry.\n",
      "5. Establish clear boundaries and expectations: Once you have hired an assistant, it's important to establish clear boundaries and expectations. This includes setting clear goals, defining roles and responsibilities, and establishing a system for communication and feedback.\n",
      "\n",
      "By following these tips, you can find and work with assistants who are not only helpful and respectful but also honest and reliable.\n"
     ]
    },
    {
     "name": "stderr",
     "output_type": "stream",
     "text": [
      " 17%|█▋        | 17/100 [03:53<12:09,  8.79s/it]"
     ]
    },
    {
     "name": "stdout",
     "output_type": "stream",
     "text": [
      " I am not able to write text in Azerbaijani language. However, I can provide you with some general information about the benefits of regular exercise.\n",
      "\n",
      "Regular exercise has numerous physical and mental health benefits. Some of the physical benefits include:\n",
      "\n",
      "* Improved cardiovascular health\n",
      "* Increased muscle strength and endurance\n",
      "* Improved flexibility and balance\n",
      "* Better management of weight and body composition\n",
      "* Improved bone density\n",
      "* Reduced risk of chronic diseases such as heart disease, diabetes, and some types of cancer\n",
      "\n",
      "In addition to physical benefits, regular exercise also has mental health benefits, such as:\n",
      "\n",
      "* Reduced stress and anxiety\n",
      "* Improved mood and overall sense of well-being\n",
      "* Enhanced cognitive function and memory\n",
      "* Better sleep quality\n",
      "* Increased self-esteem and confidence\n",
      "\n",
      "Overall, regular exercise can greatly improve both physical and mental health, leading to a better quality of life. It is important to find a type of exercise that you enjoy and to make it a regular part of your routine.\n"
     ]
    },
    {
     "name": "stderr",
     "output_type": "stream",
     "text": [
      " 18%|█▊        | 18/100 [03:59<11:07,  8.14s/it]"
     ]
    },
    {
     "name": "stdout",
     "output_type": "stream",
     "text": [
      " I can certainly help you with that! Here are some suggestions for Azerbaijani dishes that are easy to make and delicious:\n",
      "\n",
      "1. Plov: This is a traditional Azerbaijani dish made with saffron-infused rice, lamb or beef, and vegetables. It's a hearty and flavorful meal that is sure to please.\n",
      "2. Kebabs: Azerbaijani kebabs are a popular dish made with marinated meat (usually lamb or beef) that is skewered and grilled to perfection. They are often served with a side of rice or bread.\n",
      "3. Dolma: Dolma is a dish made with stuffed vegetables, usually grape leaves or peppers, filled with a mixture of rice, meat, and spices. It's a delicious and healthy option that is easy to make.\n",
      "4. Shashlik: Shashlik is a traditional Azerbaijani dish made with skewers of marinated meat (usually lamb or beef) that are grilled over an open flame. It's a popular dish that is easy to make and always a crowd-pleaser.\n",
      "5. Baklava: This is a sweet pastry made with layers of phyllo dough, nuts, and honey. It's a popular dessert in Azerbaijan and is sure to satisfy your sweet tooth.\n",
      "\n",
      "I hope these suggestions help! Let me know if you have any other questions or if there's anything else I can help you with.\n"
     ]
    },
    {
     "name": "stderr",
     "output_type": "stream",
     "text": [
      " 19%|█▉        | 19/100 [04:07<10:57,  8.12s/it]"
     ]
    },
    {
     "name": "stdout",
     "output_type": "stream",
     "text": [
      " \"Hansı hazırlıqlar\" nunən ən yaxşı olur? Əgər siz \"hansı hazırlıqlar\" istəyirsinizsə, bu formuləni doldurun:\n",
      "\n",
      "1. Ən yaxşı olmaq (100)\n",
      "2. Ən təklif etmək (50)\n",
      "3. Ən türkibə yetişmək (30)\n",
      "4. Ən dərinə yetişmək (20)\n",
      "5. Ən gözəllik etmək (10)\n",
      "\n",
      "Bu formuləni doldurun, onda ən yaxşı olmaq istəyirsinizsə, 100-ci fərdin əldə edin. Ən təklif etmək istəyirsinizsə, 50-ci fərdin əldə edin. Ən türkibə yetişmək istəyirsinizsə, 30-ci fərdin əldə edin. Ən dərinə yetişmək istəyirsinizsə, 20-ci fərdin əldə edin. Ən gözəllik etmək istəyirsinizsə, 10-ci fərdin əldə edin.\n",
      "\n",
      "Bu formuləni doldurun, siz \"hansı hazırlıqlar\" istəyirsinizsə, 100-ci fərdin əldə edin.\n"
     ]
    },
    {
     "name": "stderr",
     "output_type": "stream",
     "text": [
      " 20%|██        | 20/100 [04:19<12:28,  9.35s/it]"
     ]
    },
    {
     "name": "stdout",
     "output_type": "stream",
     "text": [
      " Yeni bir dil öyrənmək üçün ən effektiv yolları, belə bir-birə örəq daxilindədir:\n",
      "\n",
      "1. Ən yaxşı məthod: Dil öyrənməsi üçün ən yaxşı məthod, ənson ədəbiyyatınızın əsası olmasıdır. Bu məthod, dil öyrənməsini 30-60 dəqiqəsinə çatışdırır.\n",
      "2. Ən yaxşı uşaq: Dil öyrənməsini ən yaxşı uşaq, dilin yeni qəriməsi ilə başlayır. Bu uşaq, dil öyrənməsini 5-10 dəqiqəsinə çatışdırır.\n",
      "3. Ən yaxşı məlumat: Dil öyrənməsini ən yaxşı məlumat, dilin yeni qəriməsi ilə başlayır. Bu məlumat, dil öyrənməsini 3-5 dəqiqəsinə çatışdırır.\n",
      "4. Ən yaxşı əməl: Dil öyrənməsini ən yaxşı əməl, dilin yeni qəriməsi ilə başlayır. Bu əməl, dil öyrənməsini 1-2 dəqiqəsinə çatışdırır.\n",
      "5. Ən yaxşı təhsil: Dil öyrənməsini ən yaxşı təhsil, dilin yeni qəriməsi ilə başlayır. Bu təhsil, dil öyrənməsini 1-2 dəqiqəsinə çatışdırır.\n",
      "\n",
      "Bu məthodların ən yaxşısı, dil öyrənməsini ən yaxşı ədəbiyyatınızın əsası olmasıdır. Bu məthodları, dil öyrənməsini ən yaxşı əməl, ən yaxşı uşaq, ən yaxşı məlumat, ən yaxşı təhsil əldə edirlər.\n"
     ]
    },
    {
     "name": "stderr",
     "output_type": "stream",
     "text": [
      " 21%|██        | 21/100 [04:39<16:13, 12.33s/it]"
     ]
    },
    {
     "name": "stdout",
     "output_type": "stream",
     "text": [
      " \"İş və şəxsi həyat arasında balans necə saxlanılmalıdır?\" - This question is asking about how to balance work and personal life.\n",
      "\n",
      "Balans necə saxlanılmalıdır? This question is asking for advice on how to balance work and personal life.\n",
      "\n",
      "İş və şəxsi həyat arasında balans necə saxlanılmalıdır? This question is asking about how to balance work and personal life.\n",
      "\n",
      "Balans necə saxlanılmalıdır? This question is asking for advice on how to balance work and personal life.\n",
      "\n",
      "İş və şəxsi həyat arasında balans necə saxlanılmalıdır? This question is asking about how to balance work and personal life.\n",
      "\n",
      "Balans necə saxlanılmalıdır? This question is asking for advice on how to balance work and personal life.\n",
      "\n",
      "İş və şəxsi həyat arasında balans necə saxlanılmalıdır? This question is asking about how to balance work and personal life.\n",
      "\n",
      "Balans necə saxlanılmalıdır? This question is asking for advice on how to balance work and personal life.\n",
      "\n",
      "İş və şəxsi həyat arasında balans necə saxlanılmalıdır? This question is asking about how to balance work and personal life.\n",
      "\n",
      "Balans necə saxlanılmalıdır? This question is asking for advice on how to balance work and personal life.\n",
      "\n",
      "İş və şəxsi həyat arasında balans necə saxlanılmalıdır? This question is asking about how to balance work and personal life.\n",
      "\n",
      "Balans necə saxlanılmalıdır? This question is asking for advice on how to balance work and personal life.\n",
      "\n",
      "İş və şəxsi həyat arasında balans necə saxlanılmalıdır? This question is asking about how to balance work and personal life.\n",
      "\n",
      "Balans necə saxlanılmalıdır? This question is asking for advice on how to balance work and personal life.\n",
      "\n",
      "İş və şəxsi həyat arasında balans necə saxlanılmalıdır? This question is asking about how to balance work and personal life.\n",
      "\n",
      "Balans necə saxlanılmalıdır? This question is asking for advice on how to balance work and personal life.\n",
      "\n",
      "İş və şəxsi həyat arasında balans necə saxlanılmalıdır? This question is asking about how to balance work and personal life.\n",
      "\n",
      "Balans necə saxlanılmalıdır? This question is asking for advice on how to balance work and personal life.\n",
      "\n",
      "İş və şəxsi həyat arasında balans necə saxlanılmalıdır? This question is asking about how to balance work and personal life.\n",
      "\n",
      "Balans necə saxlanılmalıdır? This question is asking for advice on how to balance work and personal life.\n",
      "\n",
      "İş və şəxsi həyat arasında balans necə saxlanılmalıdır? This question is asking about how to balance work and personal life.\n",
      "\n",
      "Balans necə saxlanılmalıdır? This question is asking for advice on how to balance work and personal life.\n",
      "\n",
      "İş və şəxsi həyat arasında balans necə saxlanılmalıdır? This question is asking about how to balance work and personal life.\n",
      "\n",
      "Balans necə saxlanılmalıdır? This question is asking for advice on how to balance work and personal life.\n",
      "\n",
      "İş və şəxsi həyat arasında balans necə saxlanılmalıdır? This question is\n"
     ]
    },
    {
     "name": "stderr",
     "output_type": "stream",
     "text": [
      " 22%|██▏       | 22/100 [04:58<18:43, 14.41s/it]"
     ]
    },
    {
     "name": "stdout",
     "output_type": "stream",
     "text": [
      " Salam! Sizin icat edə bilməyinə aidən qidalanma planı hazırlanmasını təklif edə bilərim. Laqırdırıcı xəritələrə aidən ən yaxşı qidalanma planı, sizin icat edə bilməyinə ən yaxşı xəritələrə aidən təklif edə bilərim.\n",
      "\n",
      "Əvvəlki zərqən əsasında, sizin icat edə bilməyinə ən yaxşı qidalanma planı hazırlanmasını təklif edə bilərim. Bu planın təsis edə bilməyinə aidən ən yaxşı xəritələrə təklif edə bilərim.\n",
      "\n",
      "Sizin icat edə bilməyinə ən yaxşı qidalanma planı hazırlanmasını təklif edə bilərim. Bu planın təsis edə bilməyinə aidən ən yaxşı xəritələrə təklif edə bilərim.\n",
      "\n",
      "Ən yaxşı qidalanma planı hazırlanmasını təklif edə bilərim. Bu planın təsis edə bilməyinə aidən ən yaxşı xəritələrə təklif edə bilərim.\n",
      "\n",
      "Sizin icat edə bilməyinə ən yaxşı qidalanma planı hazırlanmasını təklif edə bilərim. Bu planın təsis edə bilməyinə aidən ən yaxşı xəritələrə təklif edə bilərim.\n",
      "\n",
      "Əvvəlki zərqən əsasında, sizin icat edə bilməyinə ən yaxşı qidalanma planı hazırlanmasını təklif edə bilərim. Bu planın təsis edə bilməyinə aidən ən yaxşı xəritələrə təklif edə bilərim.\n",
      "\n",
      "Sizin icat edə bilməyinə ən yaxşı qidalanma planı hazırlanmasını təklif edə bilərim. Bu planın təsis edə bilməyinə aidən ən yaxşı xəritələrə təklif edə bilərim.\n",
      "\n",
      "Ən yaxşı qidalanma planı hazırlanmasını təklif edə bilərim. Bu planın təsis edə bilməyinə aidən ən yaxşı xəritələrə təklif edə bilərim.\n",
      "\n",
      "Sizin icat edə bilməyinə ən yaxşı qidalanma planı hazırlanmasını təklif edə bilərim. Bu planın təsis edə bilməyinə aidən ən yaxşı xəritələrə təklif edə bilərim.\n",
      "\n",
      "Əvvəlki zərqən əsasında, sizin icat edə bilməyinə ən yaxşı qidalanma planı hazırlanmasını təklif edə bilərim. Bu planın təsis edə bilməyinə aidən ən yaxşı xəritələrə təklif edə bilərim.\n",
      "\n",
      "Sizin icat edə bilməyinə ən yaxşı qidalanma planı hazırlanmasını təklif edə bilərim. Bu planın təsis edə bilməyinə\n"
     ]
    },
    {
     "name": "stderr",
     "output_type": "stream",
     "text": [
      " 23%|██▎       | 23/100 [05:17<20:16, 15.80s/it]"
     ]
    },
    {
     "name": "stdout",
     "output_type": "stream",
     "text": [
      " Salam! Şəhər mühitində yaşayarkən stressi azaltmaq üçün birçok nəticə vardır. Bu nəticələrə baxmayıb, stressin azaldığını və yaşamınızın rahatlandığını sağlayabilirsiniz:\n",
      "\n",
      "1. Məntiq və fizikəl activitetlər: Şəhər mühitində yaşayarkən, məntiq və fizikəl activitetlərə baxmayıb, stressi azaltmaq üçün çalışır. Bu activitetlərə görə, spor, yükseliş, və yaşınızın rahatlandığını sağlayabilirsiniz.\n",
      "2. Açıqən yemək: Şəhər mühitində yaşayarkən, açıqən yeməkə baxmayıb, stressi azaltmaq üçün çalışır. Açıqən yeməkə, səbəbənizə görə, səhər mühitində yaşayarkən ən yaxşı qədərətə dəyişənənə ən yaxşı qədərətə dəyişənənə ən yaxşı qədərətə dəyişənənə ən yaxşı qədərətə dəyişənənə ən yaxşı qədərətə dəyişənənə ən yaxşı qədərətə dəyişənənə ən yaxşı qədərətə dəyişənənə ən yaxşı qədərətə dəyişənənə ən yaxşı qədərətə dəyişənənə ən yaxşı qədərətə dəyişənənə ən yaxşı qədərətə dəyişənənə ən yaxşı qədərətə dəyişənənə ən yaxşı qədərətə dəyişənənə ən yaxşı qədərətə dəyişənənə ən yaxşı qədərətə dəyişənənə ən yaxşı qədərətə dəyişənənə ən yaxşı qədərətə dəyişənənə ən yaxşı qədərətə dəyişənənə ən yaxşı qədərətə dəyişənənə ən yaxşı qədərətə dəyişənənə ən yaxşı qədərətə dəyişənənə ən yaxşı qədərətə dəyişənənə ən yaxşı qədərətə dəyişənənə ən yaxşı qədərətə dəyişənənə ən yaxşı qədərətə dəyişənənə ən yaxşı qədərətə dəyişənənə ən yaxşı qədərətə dəyişənənə ən yaxşı qədərətə dəyişənənə ən yaxşı qədərətə dəyişənən\n"
     ]
    },
    {
     "name": "stderr",
     "output_type": "stream",
     "text": [
      " 24%|██▍       | 24/100 [05:31<19:19, 15.26s/it]"
     ]
    },
    {
     "name": "stdout",
     "output_type": "stream",
     "text": [
      " Yaxşı bir liderin xüsusiyyətləri, şəxslərini qərarlaşdırır. Bu xüsusiyyətleri, liderin əsasələri və fəaliyyətleri arasında çətin bir işləyş darbelərini qərarlaşdırır. Aşağıdakı xüsusiyyətler, yaxşı bir liderin əsasələrindən əsasəna olur:\n",
      "\n",
      "1. Əsasələr: Liderin əsasələr, onun əsasəna qərarlaşdırılır. Bu əsasələr, liderin fəaliyyətlerini, şəxslərini və zərürlərini qərarlaşdırır.\n",
      "2. Fəaliyyətler: Liderin fəaliyyətleri, onun əsasələrindən əsasəna olur. Bu fəaliyyətler, liderin şəxslərini, zərürlərini və təcrübələrini qərarlaşdırır.\n",
      "3. Şəxslər: Liderin şəxslər, onun fəaliyyətlerindən əsasəna olur. Bu şəxslər, liderin zərürlərini, təcrübələrini və əsasələrini qərarlaşdırır.\n",
      "4. Zərürlər: Liderin zərürlər, onun şəxslərindən əsasəna olur. Bu zərürlər, liderin təcrübələrini, əsasələrini və fəaliyyətlerini qərarlaşdırır.\n",
      "5. Təcrübələr: Liderin təcrübələr, onun zərürlərindən əsasəna olur. Bu təcrübələr, liderin əsasələrini, fəaliyyətlerini və şəxslərini qərarlaşdırır.\n",
      "\n",
      "Bu xüsusiyyətler, yaxşı bir liderin əsasələrindən əsasəna olur və onun fəaliyyətlerini, şəxslərini, zərürlərini və təcrübələrini qərarlaşdırır. Liderin xüsusiyyətleri, əsasələrini və fəaliyyətlerini arasında çətin bir işləyş darbelərini qərarlaşdırır.\n"
     ]
    },
    {
     "name": "stderr",
     "output_type": "stream",
     "text": [
      " 25%|██▌       | 25/100 [05:47<19:26, 15.56s/it]"
     ]
    },
    {
     "name": "stdout",
     "output_type": "stream",
     "text": [
      " Salam,\n",
      "\n",
      "Qəhvənin insan sağlamlığına təsiri kəsələnən faktoralar var. Bu faktoraların təsirinə aidı qəhvənin insan sağlamlığının təməlili və onun təsirinə aidı olmasıdır. Aşağıdakı faktoraların təsirinə aidı qəhvənin insan sağlamlığının təməlili və onun təsirinə aidı olmasıdır:\n",
      "\n",
      "1. Əhli miqdar: Qəhvənin insan sağlamlığına əhli miqdar təsir edir. Əhli miqdar, insanın sağlamlığına təsir edən faktoralardan biridir.\n",
      "2. Əhli əsas: Qəhvənin insan sağlamlığına əhli əsas təsir edir. Əhli əsas, insanın sağlamlığına təsir edən faktoralardan biridir.\n",
      "3. Əhli təhsil: Qəhvənin insan sağlamlığına əhli təhsil təsir edir. Əhli təhsil, insanın sağlamlığına təsir edən faktoralardan biridir.\n",
      "4. Əhli ədəbiyyat: Qəhvənin insan sağlamlığına əhli ədəbiyyat təsir edir. Əhli ədəbiyyat, insanın sağlamlığına təsir edən faktoralardan biridir.\n",
      "5. Əhli təknoloji: Qəhvənin insan sağlamlığına əhli təknoloji təsir edir. Əhli təknoloji, insanın sağlamlığına təsir edən faktoralardan biridir.\n",
      "6. Əhli iş: Qəhvənin insan sağlamlığına əhli iş təsir edir. Əhli iş, insanın sağlamlığına təsir edən faktoralardan biridir.\n",
      "7. Əhli sosial: Qəhvənin insan sağlamlığına əhli sosial təsir edir. Əhli sosial, insanın sağlamlığına təsir edən faktoralardan biridir.\n",
      "8. Əhli kültür: Qəhvənin insan sağlamlığına əhli kültür təsir edir. Əhli kültür, insanın sağlamlığına təsir edən faktoralardan biridir.\n",
      "\n",
      "Bu faktoraların təsirinə aidı qəhvənin insan sağlamlığının təməlili və onun təsirinə aidı olmasıdır.\n"
     ]
    },
    {
     "name": "stderr",
     "output_type": "stream",
     "text": [
      " 26%|██▌       | 26/100 [06:06<20:31, 16.64s/it]"
     ]
    },
    {
     "name": "stdout",
     "output_type": "stream",
     "text": [
      " Təhlükəsizlik, internetdə daxil olunan informatsiya sistemlərinə daxil olunan bir qəribədir. Bu qəribə, internetdəki informatsiyaların təsis edilməsi, yeniləməsi və ya təhlükəsizlik edilməsi ilə bağlıdır.\n",
      "\n",
      "Təhlükəsizlik necə təmin edilə bilər? Bu sorunun cevabı, internetdəki informatsiyaların təsis edilməsi və ya təhlükəsizlik edilməsi ilə bağlıdır. Bu qəribə, ən yaxşı informatsiya sistemlərinə daxil olunur və bu sistemlərın təsis edilməsi və ya təhlükəsizlik edilməsi ilə bağlıdır.\n",
      "\n",
      "Təhlükəsizlik təmin edilməsi üçün, ən yaxşı informatsiya sistemlərinə daxil olunur və bu sistemlərın təsis edilməsi və ya təhlükəsizlik edilməsi ilə bağlıdır. Bu qəribə, təhlükəsizlik təmin edilməsi üçün ən yaxşı informatsiya sistemlərinə daxil olunur və bu sistemlərın təsis edilməsi və ya təhlükəsizlik edilməsi ilə bağlıdır.\n",
      "\n",
      "Təhlükəsizlik təmin edilməsi üçün, ən yaxşı informatsiya sistemlərinə daxil olunur və bu sistemlərın təsis edilməsi və ya təhlükəsizlik edilməsi ilə bağlıdır. Bu qəribə, təhlükəsizlik təmin edilməsi üçün ən yaxşı informatsiya sistemlərinə daxil olunur və bu sistemlərın təsis edilməsi və ya təhlükəsizlik edilməsi ilə bağlıdır.\n",
      "\n",
      "Təhlükəsizlik təmin edilməsi üçün, ən yaxşı informatsiya sistemlərinə daxil olunur və bu sistemlərın təsis edilməsi və ya təhlükəsizlik edilməsi ilə bağlıdır. Bu qəribə, təhlükəsizlik təmin edilməsi üçün ən yaxşı informatsiya sistemlərinə daxil olunur və bu sistemlərın təsis edilməsi və ya təhlükəsizlik edilməsi ilə bağlıdır.\n",
      "\n",
      "Təhlükəsizlik təmin edilməsi üçün, ən yaxşı informatsiya sistemlərinə daxil olunur və bu sistemlərın təsis edilməsi və ya təhlükəsizlik edilməsi ilə bağlıdır. Bu qəribə, təhlükəsizlik təmin edilməsi üçün ən yaxşı informatsiya sistemlərinə daxil olunur və bu sistemlərın təsis edilməsi və ya təhlükəsizlik edilməsi ilə bağlıdır.\n",
      "\n",
      "Təhlükəsizlik təmin edilməsi üçün, ən yaxşı informatsiya sistemlərin\n"
     ]
    },
    {
     "name": "stderr",
     "output_type": "stream",
     "text": [
      " 27%|██▋       | 27/100 [06:26<21:24, 17.60s/it]"
     ]
    },
    {
     "name": "stdout",
     "output_type": "stream",
     "text": [
      " Dünya ətrafında səyahət etmək üçün ən yaxşı vaxt nə vaxtdır?\n",
      "\n",
      "Səyahət etmək üçün ən yaxşı vaxtları şərtsiz bərə birçox zaman və yaşamlarınızın əsasında olan bir çətinləşdir. Bu vaxtların əsası, səyahət etmək üçün ən yaxşı zaman və yaşamlarınızın əsasında olan bir çətinləşdir. Bu vaxtların əsası, səyahət etmək üçün ən yaxşı zaman və yaşamlarınızın əsasında olan bir çətinləşdir.\n",
      "\n",
      "Bu vaxtların əsası, səyahət etmək üçün ən yaxşı zaman və yaşamlarınızın əsasında olan bir çətinləşdir. Bu vaxtların əsası, səyahət etmək üçün ən yaxşı zaman və yaşamlarınızın əsasında olan bir çətinləşdir. Bu vaxtların əsası, səyahət etmək üçün ən yaxşı zaman və yaşamlarınızın əsasında olan bir çətinləşdir.\n",
      "\n",
      "Bu vaxtların əsası, səyahət etmək üçün ən yaxşı zaman və yaşamlarınızın əsasında olan bir çətinləşdir. Bu vaxtların əsası, səyahət etmək üçün ən yaxşı zaman və yaşamlarınızın əsasında olan bir çətinləşdir. Bu vaxtların əsası, səyahət etmək üçün ən yaxşı zaman və yaşamlarınızın əsasında olan bir çətinləşdir.\n",
      "\n",
      "Bu vaxtların əsası, səyahət etmək üçün ən yaxşı zaman və yaşamlarınızın əsasında olan bir çətinləşdir. Bu vaxtların əsası, səyahət etmək üçün ən yaxşı zaman və yaşamlarınızın əsasında olan bir çətinləşdir. Bu vaxtların əsası, səyahət etmək üçün ən yaxşı zaman və yaşamlarınızın əsasında olan bir çətinləşdir.\n",
      "\n",
      "Bu vaxtların əsası, səyahət etmək üçün ən yaxşı zaman və yaşamlarınızın əsasında olan bir çətinləşdir. Bu vaxtların əsası, səyahət etmək üçün ən yaxşı zaman və yaşamlarınızın əsasında olan bir çətinləşdir. Bu vaxtların əsası, səyahət etmək üçün ən yaxşı zaman və yaşamlarını\n"
     ]
    },
    {
     "name": "stderr",
     "output_type": "stream",
     "text": [
      " 28%|██▊       | 28/100 [06:31<16:24, 13.68s/it]"
     ]
    },
    {
     "name": "stdout",
     "output_type": "stream",
     "text": [
      " Yerli məhsulları dəstəkləməyin əhəmiyyəti, məhsulların əsasən daxili olmasıdır. Bu daxil olunmuş məhsulların tərəfdaşlarının təqdim edilməsi və ya təqdim edilməsi olmasını sağlar. Bu nəzərətə, məhsulların əsasən daxili olmasını sağlayaraq məhsulların tərəfdaşlarının təqdim edilməsi və ya təqdim edilməsi olmasını sağlar.\n"
     ]
    },
    {
     "name": "stderr",
     "output_type": "stream",
     "text": [
      " 29%|██▉       | 29/100 [06:47<16:55, 14.30s/it]"
     ]
    },
    {
     "name": "stdout",
     "output_type": "stream",
     "text": [
      " Bitkilərin evdə yetişdirilməsinin faydaları ən böyük faydaları şərtsizlikdir. Bu faydaların bir kısmı əsasında sindirirəm:\n",
      "\n",
      "1. Ən yaxşı faydalı bitkilərin evdə yetişdirilməsi - zəngin olmaq. Bitkilərin evdə yetişdirilməsi zəngin olmaq üçün çətin bir yoludur. Bu faydalın təklifi olmasına baxmayaraq, bitkilərin evdə yetişdirilməsi zəngin olmaqına yardımcı olur.\n",
      "2. Ən böyük faydalı bitkilərin evdə yetişdirilməsi - təhlükəsizlik. Bitkilərin evdə yetişdirilməsi təhlükəsizlik üçün çətin bir yoludur. Bu faydalın təklifi olmasına baxmayaraq, bitkilərin evdə yetişdirilməsi təhlükəsizliğini sağlar.\n",
      "3. Ən çox faydalı bitkilərin evdə yetişdirilməsi - əlaqəli fəaliyyət. Bitkilərin evdə yetişdirilməsi əlaqəli fəaliyyət üçün çətin bir yoludur. Bu faydalın təklifi olmasına baxmayaraq, bitkilərin evdə yetişdirilməsi əlaqəli fəaliyyətini sağlar.\n",
      "4. Ən böyük faydalı bitkilərin evdə yetişdirilməsi - şərtsizlik. Bitkilərin evdə yetişdirilməsi şərtsizlik üçün çətin bir yoludur. Bu faydalın təklifi olmasına baxmayaraq, bitkilərin evdə yetişdirilməsi şərtsizliğini sağlar.\n",
      "5. Ən çox faydalı bitkilərin evdə yetişdirilməsi - dəyişənlik. Bitkilərin evdə yetişdirilməsi dəyişənlik üçün çətin bir yoludur. Bu faydalın təklifi olmasına baxmayaraq, bitkilərin evdə yetişdirilməsi dəyişənliğini sağlar.\n",
      "\n",
      "Bu faydaların əsasında, bitkilərin evdə yetişdirilməsi ən böyük faydaları şərtsizlik, təhlükəsizlik, əlaqəli fəaliyyət, dəyişənlik olur. Bu faydaların təklifi olmasına baxmayaraq, bitkilərin evdə yetişdirilməsi ən böyük faydalarını sağlar.\n"
     ]
    },
    {
     "name": "stderr",
     "output_type": "stream",
     "text": [
      " 30%|███       | 30/100 [06:52<13:25, 11.51s/it]"
     ]
    },
    {
     "name": "stdout",
     "output_type": "stream",
     "text": [
      " Xoşbectər! Sizə əlaqələr qurmaq üçün nə etmək lazımdır?\n",
      "\n",
      "1. Gəlirən əlaqələrini təsdiq edin.\n",
      "2. Əlaqələrini qurmaq üçün təklif etmək.\n",
      "3. Əlaqələrini qurmaq üçün təyin etmək.\n",
      "4. Əlaqələrini qurmaq üçün tədbir edin.\n",
      "5. Əlaqələrini qurmaq üçün tənənəmək.\n",
      "\n",
      "Əgər sizə əlaqələr qurmaq üçün nə etmək lazımdır, bu xəbərdən sonra sizə əlaqələr qurmaq üçün təklif edə bilərsiniz.\n"
     ]
    },
    {
     "name": "stderr",
     "output_type": "stream",
     "text": [
      " 31%|███       | 31/100 [07:10<15:42, 13.66s/it]"
     ]
    },
    {
     "name": "stdout",
     "output_type": "stream",
     "text": [
      " Təhsil sisteminin xüsusiyyətləri İnkişaf etmiş ölkələrdə ən yaxşı olaraq sistemin təsis edilməsi və işlənməsi üçün şərtlərə çalışır. Bu xüsusiyyətlər şu anda göstərilir:\n",
      "\n",
      "1. Əsası olaraq təhsil sistemi təsis etmək: İnkişaf etmiş ölkələrdə təhsil sisteminin təsis etməsi ən yaxşı xüsusiyyət olur. Bu xüsusiyyətə görə, təhsil sistemi təsis edilməsi və işlənməsi üçün ən yaxşı şərtlər təyin edilir.\n",
      "2. Təhsil sistemi işlənməsi: İnkişaf etmiş ölkələrdə təhsil sisteminin işlənməsi ən yaxşı xüsusiyyət olur. Bu xüsusiyyətə görə, təhsil sistemi işlənməsi üçün ən yaxşı şərtlər təyin edilir.\n",
      "3. Təhsil sistemi tərəfdaşların təşvik etməsi: İnkişaf etmiş ölkələrdə təhsil sisteminin tərəfdaşların təşvik etməsi ən yaxşı xüsusiyyət olur. Bu xüsusiyyətə görə, təhsil sistemi tərəfdaşların təşvik etməsi üçün ən yaxşı şərtlər təyin edilir.\n",
      "4. Təhsil sistemi əlaqələrin təşvik etməsi: İnkişaf etmiş ölkələrdə təhsil sisteminin əlaqələrin təşvik etməsi ən yaxşı xüsusiyyət olur. Bu xüsusiyyətə görə, təhsil sistemi əlaqələrin təşvik etməsi üçün ən yaxşı şərtlər təyin edilir.\n",
      "5. Təhsil sistemi təsis etməsi və işlənməsi üçün ən yaxşı şərtlər: İnkişaf etmiş ölkələrdə təhsil sisteminin təsis etməsi və işlənməsi üçün ən yaxşı şərtlər təyin edilir. Bu şərtlər şu anda göstərilir:\n",
      "* İş dünyasının təsis etməsi\n",
      "* İşlənməsi üçün ən yaxşı şərtlər\n",
      "* Təhsil sistemi tərəfdaşların təşvik etməsi\n",
      "* Təhsil sistemi əlaqələrin təşvik etməsi\n",
      "* Təhsil sistemi işlənməsi üçün ən yaxşı şərtlər.\n",
      "\n",
      "İnkişaf etmiş ölkələrdə təhsil sisteminin xüsusiyyətləri ən yaxşı olaraq sistemin təsis edilməsi və işlənməsi üçün şərtlər təyin edilir. Bu xüsusiyyətlər şu anda göstərilir.\n"
     ]
    },
    {
     "name": "stderr",
     "output_type": "stream",
     "text": [
      " 32%|███▏      | 32/100 [07:21<14:25, 12.73s/it]"
     ]
    },
    {
     "name": "stdout",
     "output_type": "stream",
     "text": [
      " I can provide you with some effective time management techniques that can be helpful in your daily life. Here are a few suggestions:\n",
      "\n",
      "1. Prioritize your tasks: Make a list of the things you need to do and prioritize them based on their importance and urgency. This will help you focus on the most important tasks first and avoid wasting time on less important tasks.\n",
      "2. Use a calendar or planner: Write down all your tasks, appointments, and deadlines in a calendar or planner. This will help you keep track of your schedule and make sure you don't forget any important tasks or appointments.\n",
      "3. Break down large tasks into smaller ones: Large tasks can be overwhelming and may lead to procrastination. Breaking them down into smaller, manageable tasks will make them easier to complete and help you stay focused.\n",
      "4. Set specific goals: Setting specific, measurable, achievable, relevant, and time-bound (SMART) goals will help you stay motivated and focused. Break down your long-term goals into smaller, manageable steps to help you stay on track.\n",
      "5. Avoid multitasking: Multitasking can be tempting, but it can actually decrease productivity and increase stress. Focus on one task at a time and give it your full attention.\n",
      "6. Take breaks: Taking regular breaks will help you recharge and avoid burnout. Use your breaks to do something enjoyable or relaxing, such as taking a walk, reading a book, or chatting with a friend.\n",
      "7. Learn to say no: Don't take on too many tasks or responsibilities at once. Learn to say no to requests that don't align with your priorities or values.\n",
      "8. Use technology to your advantage: There are many tools and apps available that can help you manage your time more effectively. For example, you can use a project management tool to keep track of your tasks, or a time tracking app to monitor how much time you spend on each task.\n",
      "\n",
      "I hope these suggestions help you manage your time more effectively. Remember, time management is a skill that takes practice, so don't get discouraged if it doesn't come easily at first. Keep working at it and you'll see improvement over time.\n"
     ]
    },
    {
     "name": "stderr",
     "output_type": "stream",
     "text": [
      " 33%|███▎      | 33/100 [07:34<14:28, 12.97s/it]"
     ]
    },
    {
     "name": "stdout",
     "output_type": "stream",
     "text": [
      " Kompüter oyunlarının uşaqlar üzərindəki təsiri birçok türlüdür. Bu təsirlerə bir neçə tür daha çox fikir verir:\n",
      "\n",
      "1. İş dünyası: Kompüter oyunlarının uşaqları ən yaxşı olduğu dünyada işler yapmaktadır. Bu dünyada oyunçuların ən yaxşı olmasını sağlamak üçün çalışmalar yapılır.\n",
      "2. Əsas səviyyə: Kompüter oyunlarının uşaqları əsas səviyyədən çoxlu olurlar. Bu səviyyədə oyunçuların əsası olmasını sağlamak üçün çalışmalar yapılır.\n",
      "3. Rəqəmlər: Kompüter oyunlarının uşaqları rəqəmlər yapmaktadır. Bu rəqəmlərdə oyunçuların ən yaxşı olmasını sağlamak üçün çalışmalar yapılır.\n",
      "4. Strateji: Kompüter oyunlarının uşaqları strateji yapmaktadır. Bu stratejiyə oyunçuların ən yaxşı olmasını sağlamak üçün çalışmalar yapılır.\n",
      "5. Təhsil: Kompüter oyunlarının uşaqları təhsil etməkdədir. Bu təhsilə oyunçuların ən yaxşı olmasını sağlamak üçün çalışmalar yapılır.\n",
      "\n",
      "Bu təsirlerə bir neçə tür daha çox fikir verir. Kompüter oyunlarının uşaqları ən yaxşı olduğu dünyada işler yapmaktadır. Bu dünyada oyunçuların ən yaxşı olmasını sağlamak üçün çalışmalar yapılır.\n"
     ]
    },
    {
     "name": "stderr",
     "output_type": "stream",
     "text": [
      " 34%|███▍      | 34/100 [07:45<13:28, 12.24s/it]"
     ]
    },
    {
     "name": "stdout",
     "output_type": "stream",
     "text": [
      " Fərdi inkişaf üçün ən yaxşı kitablar hansılardır:\n",
      "\n",
      "1. \"The Art of War\" by Sun Tzu - This classic book is a must-read for anyone interested in strategy and leadership.\n",
      "2. \"The 7 Habits of Highly Effective People\" by Stephen Covey - This book provides practical advice on how to improve personal and professional effectiveness.\n",
      "3. \"The Lean Startup\" by Eric Ries - This book offers a framework for launching and growing a successful startup.\n",
      "4. \"The Power of Habit\" by Charles Duhigg - This book explores the science behind habit formation and how to harness it to achieve personal and professional success.\n",
      "5. \"The Four Agreements\" by Don Miguel Ruiz - This book provides a simple, yet powerful, framework for personal growth and development.\n",
      "6. \"The 4-Hour Work Week\" by Timothy Ferriss - This book challenges conventional wisdom and provides practical tips for creating a lifestyle of freedom and wealth.\n",
      "7. \"The Millionaire Fastlane\" by MJ DeMarco - This book provides a roadmap for creating wealth quickly and achieving financial freedom.\n",
      "8. \"Essentialism: The Disciplined Pursuit of Less\" by Greg McKeown - This book offers practical advice on how to focus on what is truly essential in personal and professional life.\n",
      "9. \"The One Thing\" by Gary Keller and Jay Papasan - This book provides a framework for achieving success by focusing on the most important things first.\n",
      "10. \"The 10X Rule\" by Grant Cardone - This book offers a comprehensive approach to success, emphasizing the importance of setting big goals and taking massive action.\n",
      "\n",
      "Bu kitabların yanı sıra daha çox kitapların yazılmasını ve oxunmasını təklif edirəm.\n"
     ]
    },
    {
     "name": "stderr",
     "output_type": "stream",
     "text": [
      " 35%|███▌      | 35/100 [07:49<10:44,  9.92s/it]"
     ]
    },
    {
     "name": "stdout",
     "output_type": "stream",
     "text": [
      " I am not able to write text in Azerbaijani language. However, I can provide you with some tips on how to motivate employees in the workplace. Here are three things you can do:\n",
      "\n",
      "1. Recognize and reward good work: Acknowledge and reward employees who are going above and beyond. This can be done through employee recognition programs, bonuses, or promotions.\n",
      "2. Encourage open communication: Create an open and transparent work environment where employees feel comfortable sharing their ideas and concerns. This can be done by holding regular meetings, having an open-door policy, and using anonymous feedback tools.\n",
      "3. Provide opportunities for growth and development: Offer training, mentorship, and opportunities for advancement to help employees develop their skills and advance in their careers. This can help employees feel engaged, motivated, and invested in the company's success.\n"
     ]
    },
    {
     "name": "stderr",
     "output_type": "stream",
     "text": [
      " 36%|███▌      | 36/100 [08:02<11:17, 10.58s/it]"
     ]
    },
    {
     "name": "stdout",
     "output_type": "stream",
     "text": [
      " Mübarizədə fərdi rol nədir?\n",
      "\n",
      "Mübarizədə fərdi rol, İqlim dəyişikliyi ilə birlikdə əməliyyatlarının təşkilişi və onların əsasən əməliyyatlarının təşkilişi ilə bağlıdır. Bu rol, mübarizədə əməliyyatlarının təşkilişi və əsasən əməliyyatlarının təşkilişi arasında bir qərarə alır.\n",
      "\n",
      "Mübarizədə fərdi rolun təşkilişi ilə əməliyyatlarının təşkilişi arasında bir neçə qərarə alır:\n",
      "\n",
      "1. Mübarizədə fərdi rolun təşkilişi ilə əməliyyatlarının təşkilişi arasında bir neçə qərarə alır.\n",
      "2. Mübarizədə fərdi rolun təşkilişi ilə əməliyyatlarının təşkilişi arasında bir neçə qərarə alır.\n",
      "3. Mübarizədə fərdi rolun təşkilişi ilə əməliyyatlarının təşkilişi arasında bir neçə qərarə alır.\n",
      "\n",
      "Bu qərarələrın təşkilişi ilə, mübarizədə fərdi rolun təşkilişi və əsasən əməliyyatlarının təşkilişi arasında bir neçə qərarə alır. Bu qərarələrın təşkilişi ilə, mübarizədə fərdi rolun təşkilişi və əsasən əməliyyatlarının təşkilişi arasında bir neçə qərarə alır.\n"
     ]
    },
    {
     "name": "stderr",
     "output_type": "stream",
     "text": [
      " 37%|███▋      | 37/100 [08:10<10:17,  9.81s/it]"
     ]
    },
    {
     "name": "stdout",
     "output_type": "stream",
     "text": [
      " I am not able to write text in Azerbaijani language. However, I can suggest some general tips for effective communication in Azerbaijani:\n",
      "\n",
      "1. Use proper grammar and spelling: Make sure to use correct grammar and spelling in your communication. This will help to ensure that your message is clear and easy to understand.\n",
      "2. Use appropriate vocabulary: Use vocabulary that is appropriate for the context and audience. Avoid using complex or technical terms that may be unfamiliar to your audience.\n",
      "3. Be respectful: Use respectful language and avoid using offensive or inappropriate words or phrases.\n",
      "4. Use active voice: Use active voice to make your communication more clear and concise.\n",
      "5. Use appropriate tone: Use a tone that is appropriate for the context and audience. For example, a more formal tone may be appropriate in a professional setting, while a more casual tone may be appropriate in a personal setting.\n",
      "6. Use nonverbal communication: Nonverbal communication, such as body language and facial expressions, can also be important in effective communication. Make sure that your nonverbal communication is consistent with your verbal communication.\n",
      "7. Listen actively: Active listening is important in effective communication. Make sure to listen carefully to the other person and respond appropriately.\n",
      "8. Avoid using jargon: Avoid using technical terms or jargon that may be unfamiliar to your audience. Instead, use clear and concise language that is easy to understand.\n",
      "9. Use visual aids: Visual aids, such as diagrams, charts, and pictures, can be helpful in communicating complex information.\n",
      "10. Be open-minded: Be open-minded and willing to consider different perspectives and ideas. This can help to facilitate effective communication and build trust and understanding.\n",
      "\n",
      "I hope these tips are helpful in improving your communication skills in Azerbaijani.\n"
     ]
    },
    {
     "name": "stderr",
     "output_type": "stream",
     "text": [
      " 38%|███▊      | 38/100 [08:19<09:58,  9.65s/it]"
     ]
    },
    {
     "name": "stdout",
     "output_type": "stream",
     "text": [
      " Hello! I'm happy to help you with your question. However, I must point out that the question itself may not be meaningful. The term \"hansı addımlar\" is not a commonly used phrase in Azerbaijani language, and it seems to be a made-up term.\n",
      "\n",
      "If you meant to ask about the steps to create a strong community, I'd be happy to provide you with some general guidance. Here are some tips that can help:\n",
      "\n",
      "1. Define the purpose of your community: Before creating a community, it's important to define its purpose and goals. What do you want to achieve with your community? What kind of people do you want to attract?\n",
      "2. Identify your target audience: Once you have a clear purpose, identify the target audience you want to reach. Who are the people that would be interested in joining your community? What are their interests, needs, and pain points?\n",
      "3. Choose a platform: There are many platforms available for creating a community, such as Facebook groups, Discord servers, Slack channels, and more. Choose a platform that best fits your needs and target audience.\n",
      "4. Create a content plan: Develop a content plan that aligns with your community's purpose and interests. This can include blog posts, videos, podcasts, and other types of content that provide value to your members.\n",
      "5. Engage with your audience: Building a strong community requires engagement and interaction with your members. Respond to comments, answer questions, and create opportunities for members to connect with each other.\n",
      "6. Set up rules and guidelines: To maintain a positive and respectful environment, it's important to set up rules and guidelines for your community. Make sure members understand what behavior is acceptable and what's not.\n",
      "7. Promote your community: Once you've created your community, promote it through social media, email marketing, and other channels to attract new members.\n",
      "\n",
      "I hope these tips help you in creating a strong and vibrant community. If you have any further questions, please feel free to ask!\n"
     ]
    },
    {
     "name": "stderr",
     "output_type": "stream",
     "text": [
      " 39%|███▉      | 39/100 [08:40<13:20, 13.13s/it]"
     ]
    },
    {
     "name": "stdout",
     "output_type": "stream",
     "text": [
      " Müasir texnologiyaların təhsilə təsiri (Modern Technologies in Education)\n",
      "\n",
      "Müasir texnologiyaların təhsilə təsiri, 21. qızıldağın əsasında öyrənən təhsilə sistemi haqqında çalışır. Bu tür təhsilə sistemlərin təsirinə aid əsasları, təhsilə xidmlərinin təsirinə aid əsasları və əsas səviyyələrindən çıxırır.\n",
      "\n",
      "Müasir texnologiyaların təhsilə təsiri, əsasında 4K video, virtuell realitet, augmented reality, mobil uyğunluk, piltd down, Bluetooth, Wi-Fi, 3D printing, robotika və daha bir neçə övələştirilmiş texnologiyaların təsirinə aid əsasları təklif edir. Bu texnologiyaların təhsilə sistemi haqqında çalışır və təhsilə xidmlərinin təsirinə aid əsasları təklif edir.\n",
      "\n",
      "Müasir texnologiyaların təhsilə təsiri, əsasında 3D printing, robotika, virtuell realitet, augmented reality və mobil uyğunluk texnologiyalarının təhsilə sistemlərinin təsirinə aid əsasları təklif edir. Bu texnologiyaların təhsilə sistemi haqqında çalışır və təhsilə xidmlərinin təsirinə aid əsasları təklif edir.\n",
      "\n",
      "Müasir texnologiyaların təhsilə təsiri, əsasında 4K video, Bluetooth, Wi-Fi, piltd down və daha bir neçə övələştirilmiş texnologiyaların təsirinə aid əsasları təklif edir. Bu texnologiyaların təhsilə sistemi haqqında çalışır və təhsilə xidmlərinin təsirinə aid əsasları təklif edir.\n",
      "\n",
      "Müasir texnologiyaların təhsilə təsiri, əsasında təhsilə xidmlərinin təsirinə aid əsasları təklif edir. Bu tür təhsilə sistemlərin təsirinə aid əsasları, təhsilə xidmlərinin təsirinə aid əsasları və əsas səviyyələrindən çıxırır.\n",
      "\n",
      "Müasir texnologiyaların təhsilə təsiri, əsasında 3D printing, robotika, virtuell realitet, augmented reality və mobil uyğunluk texnologiyalarının təhsilə sistemlərinin təsirinə aid əsasları təklif edir. Bu texnologiyaların təhsilə sistemi haqqında çalışır və təhsilə xidmlərinin təsirinə aid əsasları təklif edir.\n",
      "\n",
      "Müasir texnologiyaların təhsilə təsiri, əsasında 4K video, Bluetooth, Wi-Fi, piltd down və daha bir neçə öv\n"
     ]
    },
    {
     "name": "stderr",
     "output_type": "stream",
     "text": [
      " 40%|████      | 40/100 [09:00<15:19, 15.32s/it]"
     ]
    },
    {
     "name": "stdout",
     "output_type": "stream",
     "text": [
      " Salam! Qarışıq mədəniyyətlərdə yaşamaq üçün nə bilmək lazımdır? Bu questionın cavabını azərbaycan dilində verirəm:\n",
      "\n",
      "1. Qarışıq mədəniyyətın əsasları: Qarışıq mədəniyyətın əsasları, mədəniyyətin əsas səviyyələrinə aidın olur. Bu səviyyələr əsasında mədəniyyətin əsası, mədəniyyətin əsas səviyyələrinə aidın olur.\n",
      "2. Mədəniyyətin əsas səviyyələri: Mədəniyyətin əsas səviyyələri, mədəniyyətin əsasına aidın olur. Bu səviyyələr əsasında mədəniyyətin əsası, mədəniyyətin əsas səviyyələrinə aidın olur.\n",
      "3. Mədəniyyətin əsaslarının tətərəfi: Mədəniyyətin əsaslarının tətərəfi, mədəniyyətin əsasına aidın olur. Bu tətərəf əsasında mədəniyyətin əsası, mədəniyyətin əsas səviyyələrinə aidın olur.\n",
      "4. Mədəniyyətin əsas səviyyələrinin tətərəfi: Mədəniyyətin əsas səviyyələrinin tətərəfi, mədəniyyətin əsasına aidın olur. Bu tətərəf əsasında mədəniyyətin əsası, mədəniyyətin əsas səviyyələrinə aidın olur.\n",
      "5. Mədəniyyətin əsaslarının əsas səviyyələrinə aidın olur: Mədəniyyətin əsaslarının əsas səviyyələrinə aidın olur. Bu əsas səviyyələr əsasında mədəniyyətin əsası, mədəniyyətin əsas səviyyələrinə aidın olur.\n",
      "\n",
      "Bu əsasların əsası, mədəniyyətin əsasına aidın olur. Mədəniyyətin əsası, mədəniyyətin əsas səviyyələrinə aidın olur. Mədəniyyətin əsaslarının əsas səviyyələrinə aidın olur. Mədəniyyətin əsas səviyyələrinin tətərəfi, mədəniyyətin əsasına aidın olur. Mədəniyyətin əsas səviyyələrinin tətərəfi, mədəniyyətin əsasına aidın olur.\n",
      "\n",
      "Bu əsasların əsası, mədəniyyətin əsasına aidın olur. Mədəniyyətin əsası, mədəniyyətin \n"
     ]
    },
    {
     "name": "stderr",
     "output_type": "stream",
     "text": [
      " 41%|████      | 41/100 [09:15<14:56, 15.20s/it]"
     ]
    },
    {
     "name": "stdout",
     "output_type": "stream",
     "text": [
      " Təbiətlə vaxt keçirməyin sağlamlığa faydaları ən sonuna gelir:\n",
      "\n",
      "1. Zənginlaşma: Təbiətlə vaxt keçirməyin sağlamlığı, insanın zənginlaşmasını sağlar. Bu qədər təbiətə çətinləşən və yağışlığı çətinləşən zənginlaşır.\n",
      "2. Əhalinin təsviri: Təbiətlə vaxt keçirməyin sağlamlığı, əhalinin təsviri və yağışlığını sağlar. Bu qədər təbiətə çətinləşən və yağışlığı çətinləşən əhalinin təsviri və yağışlığını sağlar.\n",
      "3. Ənənə fəaliyyət: Təbiətlə vaxt keçirməyin sağlamlığı, ənənə fəaliyyətinə faydalanır. Bu qədər təbiətə çətinləşən və yağışlığı çətinləşən ənənə fəaliyyətinə faydalanır.\n",
      "4. Ənənə mədəniyyət: Təbiətlə vaxt keçirməyin sağlamlığı, ənənə mədəniyyətinə faydalanır. Bu qədər təbiətə çətinləşən və yağışlığı çətinləşən ənənə mədəniyyətinə faydalanır.\n",
      "5. Ənənə təhsil: Təbiətlə vaxt keçirməyin sağlamlığı, ənənə təhsilinə faydalanır. Bu qədər təbiətə çətinləşən və yağışlığı çətinləşən ənənə təhsilinə faydalanır.\n",
      "\n",
      "Bu faydaların yanı sıra, təbiətlə vaxt keçirməyin sağlamlığı, insanın ən yaxşı və ən təkməl vəziyyətini sağlar.\n"
     ]
    },
    {
     "name": "stderr",
     "output_type": "stream",
     "text": [
      " 42%|████▏     | 42/100 [09:34<15:45, 16.29s/it]"
     ]
    },
    {
     "name": "stdout",
     "output_type": "stream",
     "text": [
      " Yüksək performanslı komandalar yaratmaq üçün nə etmək lazımdır?\n",
      "\n",
      "1. Komandaşların teklifi və fikirlerini paylaşmaq: Komandaşların teklifi və fikirlerini paylaşmaktadır, lakin bu fikirleri ən yaxşı komandaşın təsis edə bilər. Bu nəticə, komandaşların fikirlerini paylaşmaktadır və ən yaxşı komandaşın təsis edə bilər.\n",
      "2. Komandaşların əməliyyatı və zənginliyi təyin edə bilər: Komandaşların əməliyyatı və zənginliyi təyin edə bilər, lakin bu zənginliyətə ən yaxşı komandaşın təsis edə bilər. Bu nəticə, komandaşların əməliyyatı və zənginliyi təyin edə bilər və ən yaxşı komandaşın təsis edə bilər.\n",
      "3. Komandaşların əsas səviyyələrini təyin edə bilər: Komandaşların əsas səviyyələrini təyin edə bilər, lakin bu səviyyələr ən yaxşı komandaşın təsis edə bilər. Bu nəticə, komandaşların əsas səviyyələrini təyin edə bilər və ən yaxşı komandaşın təsis edə bilər.\n",
      "4. Komandaşların tərəfdaşları və müştəriələrini təyin edə bilər: Komandaşların tərəfdaşları və müştəriələrini təyin edə bilər, lakin bu tərəfdaşlar və müştəriələr ən yaxşı komandaşın təsis edə bilər. Bu nəticə, komandaşların tərəfdaşları və müştəriələrini təyin edə bilər və ən yaxşı komandaşın təsis edə bilər.\n",
      "5. Komandaşların əsas xəritələrini təyin edə bilər: Komandaşların əsas xəritələrini təyin edə bilər, lakin bu xəritələr ən yaxşı komandaşın təsis edə bilər. Bu nəticə, komandaşların əsas xəritələrini təyin edə bilər və ən yaxşı komandaşın təsis edə bilər.\n",
      "\n",
      "Bu nəticələrə əsasən komandaşların əməliyyatı və zənginliyi təyin edə bilər və ən yaxşı komandaşın təsis edə bilər. Bu nəticələrə əsasən komandaşların əsas səviyyələrini, tərəfdaşları və müştəriələrini, əsas xəritələrini təyin edə bilər və ən yaxşı komandaşın təsis edə bilər.\n"
     ]
    },
    {
     "name": "stderr",
     "output_type": "stream",
     "text": [
      " 43%|████▎     | 43/100 [09:45<13:54, 14.64s/it]"
     ]
    },
    {
     "name": "stdout",
     "output_type": "stream",
     "text": [
      " Vegan qidalanma - is a lifestyle that excludes the consumption of animal products, including meat, dairy, eggs, and other animal-derived substances. The decision to adopt a vegan lifestyle is often motivated by ethical, environmental, and health reasons.\n",
      "\n",
      "Faydaları of vegan qidalanma include:\n",
      "\n",
      "1. Animal welfare: By not consuming animal products, vegans can help reduce the demand for factory farming and promote more humane treatment of animals.\n",
      "2. Environmental benefits: Animal agriculture is a significant contributor to greenhouse gas emissions and deforestation, so a plant-based diet can help reduce carbon footprint and support sustainable agriculture.\n",
      "3. Health benefits: A well-planned vegan diet can provide all the necessary nutrients for good health, and may help reduce the risk of chronic diseases such as heart disease, type 2 diabetes, and certain types of cancer.\n",
      "4. Weight loss: Vegan diets tend to be high in fiber and low in saturated fat, which can help with weight loss and maintenance.\n",
      "5. Cost-effective: Plant-based protein sources like beans, lentils, and tofu are often less expensive than meat, making veganism a cost-effective option for those on a budget.\n",
      "6. Increased food variety: Veganism can encourage the exploration of new fruits, vegetables, grains, and legumes that may not have been tried before.\n",
      "7. Improved gut health: A vegan diet high in fiber can promote the growth of beneficial gut bacteria and improve digestive health.\n",
      "8. Reduced inflammation: Some studies suggest that a vegan diet may help reduce chronic inflammation, which is associated with various diseases.\n",
      "9. Lower risk of foodborne illness: Vegan diets tend to be lower in harmful bacteria, such as E. coli and Salmonella, which are often found in animal products.\n",
      "10. Ethical and spiritual benefits: Veganism can align with personal values and beliefs, promoting a sense of compassion, empathy, and spiritual well-being.\n",
      "\n",
      "In summary, vegan qidalanma offers numerous benefits, including animal welfare, environmental sustainability, improved health, cost-effectiveness, increased food variety, improved gut health, reduced inflammation, lower risk of foodborne illness, and ethical and spiritual benefits.\n"
     ]
    },
    {
     "name": "stderr",
     "output_type": "stream",
     "text": [
      " 44%|████▍     | 44/100 [09:51<11:09, 11.95s/it]"
     ]
    },
    {
     "name": "stdout",
     "output_type": "stream",
     "text": [
      " I am not able to write text in Azerbaijani language. However, I can provide you with a list of helpful, respectful, and honest assistant responses in English:\n",
      "\n",
      "1. \"I'm not able to write text in Azerbaijani language. However, I can assist you in other ways. How may I be of help today?\"\n",
      "2. \"I apologize for any confusion. I'm not able to write text in Azerbaijani language. Is there anything else I can assist you with?\"\n",
      "3. \"I'm not able to write text in Azerbaijani language. However, I can provide you with information on a variety of topics. What would you like to know?\"\n",
      "4. \"I'm not able to write text in Azerbaijani language. However, I can assist you with any questions you may have. What can I help you with today?\"\n",
      "5. \"I'm not able to write text in Azerbaijani language. However, I can provide you with resources and information to help you find the answers you're looking for. What do you need help with?\"\n",
      "\n",
      "I hope this helps! Let me know if there's anything else I can assist you with.\n"
     ]
    },
    {
     "name": "stderr",
     "output_type": "stream",
     "text": [
      " 45%|████▌     | 45/100 [10:10<12:55, 14.10s/it]"
     ]
    },
    {
     "name": "stdout",
     "output_type": "stream",
     "text": [
      " Karyera dəyişikliyi üçün ən yaxşı strategiyaları şərtsə olunur:\n",
      "\n",
      "1. Məşhur olmak: Məşhur olmak, karyeranın yükselişi və zənginleşişi üçün ən əsası strategiya olur. Məşhur olmak, karyera dəyişikliyinin təmini olur və ən yaxşı fikirələrə əsasən əsələnərə gözəllik edir.\n",
      "2. Fikirələrə gözəllik edin: Fikirələrə gözəllik edin, karyeranın yükselişi və zənginleşişi üçün ən əsası strategiya olur. Fikirələrə gözəllik edin, karyera dəyişikliyinin təmini olur və ən yaxşı fikirələrə əsasən əsələnərə gözəllik edir.\n",
      "3. Əsələnərə gözəllik edin: Əsələnərə gözəllik edin, karyeranın yükselişi və zənginleşişi üçün ən əsası strategiya olur. Əsələnərə gözəllik edin, karyera dəyişikliyinin təmini olur və ən yaxşı fikirələrə əsasən əsələnərə gözəllik edir.\n",
      "4. İş dünyasının təmini: İş dünyasının təmini, karyeranın yükselişi və zənginleşişi üçün ən əsası strategiya olur. İş dünyasının təmini, karyera dəyişikliyinin təmini olur və ən yaxşı fikirələrə əsasən əsələnərə gözəllik edir.\n",
      "5. Ən yaxşı fikirələr: Ən yaxşı fikirələr, karyeranın yükselişi və zənginleşişi üçün ən əsası strategiya olur. Ən yaxşı fikirələr, karyera dəyişikliyinin təmini olur və ən yaxşı fikirələrə əsasən əsələnərə gözəllik edir.\n",
      "\n",
      "Bu strategiyaların yanı sıra, karyeranın yükselişi və zənginleşişi üçün ən əsası tərəfdaşları şərtsə olunur:\n",
      "\n",
      "1. Ən yaxşı tərəfdaşlar: Ən yaxşı tərəfdaşlar, karyeranın yükselişi və zənginleşişi üçün ən əsası tərəfdaşları olur. Ən yaxşı tərəfdaşlar, karyera dəyişikliyinin təmini olur və ən yaxşı fikirələrə əsasən əsələnərə gözəllik edir.\n",
      "2. İş dünyasının təmin\n"
     ]
    },
    {
     "name": "stderr",
     "output_type": "stream",
     "text": [
      " 46%|████▌     | 46/100 [10:21<11:55, 13.25s/it]"
     ]
    },
    {
     "name": "stdout",
     "output_type": "stream",
     "text": [
      " Dialoq, mədəniyyətən ən yaxşı bir qəslərindən əvəz olur. Mədəniyyətən ən yaxşı qəslərindən əvəz olmamasını sağlar, lakin bunu yapmək üçün ən yaxşı qəslərindən əvəz olmamalıdır. Bu qəslər ən yaxşı qəslərindən əvəz olmamasını sağlar.\n",
      "\n",
      "1. Mədəniyyətən ən yaxşı qəslərindən əvəz olmamasını sağlar.\n",
      "2. Dialoq, mədəniyyətən ən yaxşı bir qəslərindən əvəz olur.\n",
      "3. Mədəniyyətən ən yaxşı qəslərindən əvəz olmamalıdır.\n",
      "4. Bu qəslər ən yaxşı qəslərindən əvəz olmamasını sağlar.\n",
      "5. Mədəniyyətən ən yaxşı qəslərindən əvəz olmamasını sağlar.\n",
      "6. Dialoq, mədəniyyətən ən yaxşı bir qəslərindən əvəz olur.\n",
      "7. Mədəniyyətən ən yaxşı qəslərindən əvəz olmamalıdır.\n",
      "8. Bu qəslər ən yaxşı qəslərindən əvəz olmamasını sağlar.\n",
      "9. Mədəniyyətən ən yaxşı qəslərindən əvəz olmamasını sağlar.\n",
      "10. Dialoq, mədəniyyətən ən yaxşı bir qəslərindən əvəz olur.\n"
     ]
    },
    {
     "name": "stderr",
     "output_type": "stream",
     "text": [
      " 47%|████▋     | 47/100 [10:40<13:09, 14.89s/it]"
     ]
    },
    {
     "name": "stdout",
     "output_type": "stream",
     "text": [
      " Sosial media marketinginin biznesə təsiri is a strategy that uses social media platforms to promote a business and its products or services. The goal is to increase brand awareness, engagement, and sales through effective content and advertising.\n",
      "\n",
      "Sosial media marketinginin təsirinə bəzən olur:\n",
      "\n",
      "1. Sosial media platformlarda pulsuzlaşma: Instagram, Facebook, Twitter, LinkedIn, YouTube, TikTok, etc.\n",
      "2. Ədətən əsasə olmayan və yaşıl çəkilən təklif edə bilər: Reklam, advokat, spam, etc.\n",
      "3. Məqalələr, video, foto, çox-səviyyətli ədətən əsasə olmayan təklif edə bilər.\n",
      "4. Təklif edə bilərə əsasənə ədətən əsasə olmayan təklif edə bilər: Əsasənə ədətən əsasə olmayan təklif edə bilər, lakin ədətən əsasə olmayan təklif edə bilər.\n",
      "5. Sosial media platformlarda əsasə olmayan təklif edə bilər: Ədətən əsasə olmayan təklif edə bilər, lakin əsasə olmayan təklif edə bilər.\n",
      "6. Ədətən əsasə olmayan təklif edə bilər: Ədətən əsasə olmayan təklif edə bilər, lakin əsasə olmayan təklif edə bilər.\n",
      "7. Sosial media marketinginin təsirinə bəzən olur: Sosial media marketinginin təsirinə bəzən olur, lakin əsasə olmayan təklif edə bilər.\n",
      "8. Ədətən əsasə olmayan təklif edə bilər: Ədətən əsasə olmayan təklif edə bilər, lakin əsasə olmayan təklif edə bilər.\n",
      "9. Sosial media platformlarda əsasə olmayan təklif edə bilər: Ədətən əsasə olmayan təklif edə bilər, lakin əsasə olmayan təklif edə bilər.\n",
      "10. Ədətən əsasə olmayan təklif edə bilər: Ədətən əsasə olmayan təklif edə bilər, lakin əsasə olmayan təklif edə bilər.\n",
      "\n",
      "Sosial media marketinginin təsirinə bəzən olur, lakin əsasə olmayan təklif edə bilər. Ədətən əsasə olmayan təklif edə bilər, lakin əsasə olmayan təklif edə bilər. Sosial media platformlarda əsasə olmayan təklif edə bilər, lakin əsasə olmayan təklif edə bilər. Ədətən əsasə olmayan təklif edə bilər, lakin əsasə olmayan təklif edə bilər. Sosial media marketinginin təsirinə bəzən olur, lakin əsasə olmayan təklif edə bilər.\n"
     ]
    },
    {
     "name": "stderr",
     "output_type": "stream",
     "text": [
      " 48%|████▊     | 48/100 [10:44<10:10, 11.74s/it]"
     ]
    },
    {
     "name": "stdout",
     "output_type": "stream",
     "text": [
      " Hello! I'm happy to help you with your question. Here are three helpful tips for improving your memory:\n",
      "\n",
      "1. Pay attention: The first step to improving your memory is to pay attention to the information you want to remember. Eliminate distractions, focus your mind, and make sure you understand the information before you try to remember it.\n",
      "2. Repeat and rehearse: Repeating information out loud or to yourself can help solidify it in your memory. You can also rehearse the information by going over it in your mind, visualizing it, or creating associations between different pieces of information.\n",
      "3. Organize and categorize: Organizing information into categories or creating associations between different pieces of information can help you remember it more effectively. You can also use mnemonic devices, such as acronyms or rhymes, to help you remember specific information.\n",
      "\n",
      "I hope these tips are helpful! Is there anything else you would like to know?\n"
     ]
    },
    {
     "name": "stderr",
     "output_type": "stream",
     "text": [
      " 49%|████▉     | 49/100 [11:03<11:48, 13.89s/it]"
     ]
    },
    {
     "name": "stdout",
     "output_type": "stream",
     "text": [
      " Uzunmüddətli məqsədlərə necə nail olmaq olar?\n",
      "\n",
      "Bu question yanı səviyyətli bir əməliyyatın qəbul edilməsi lazımı təklif edir. Uzunmüddətli məqsədlərə necə nail olmaq olar, Azərbaycan dilində bəzən əsas sözlərə uğrayıb, \"uzun\" və \"müddət\" sözlərinin birleşimidir. Bu sözlərə bəzən əsas sözlərə uğrayıb, \"uzun\" və \"müddət\" sözlərinin birleşimidir.\n",
      "\n",
      "Uzunmüddətli məqsədlərə necə nail olmaq olar, Azərbaycan dilində bəzən əsas sözlərə uğrayıb, \"uzun\" və \"müddət\" sözlərinin birleşimidir. Bu sözlərə bəzən əsas sözlərə uğrayıb, \"uzun\" və \"müddət\" sözlərinin birleşimidir.\n",
      "\n",
      "Uzunmüddətli məqsədlərə necə nail olmaq olar, Azərbaycan dilində bəzən əsas sözlərə uğrayıb, \"uzun\" və \"müddət\" sözlərinin birleşimidir. Bu sözlərə bəzən əsas sözlərə uğrayıb, \"uzun\" və \"müddət\" sözlərinin birleşimidir.\n",
      "\n",
      "Uzunmüddətli məqsədlərə necə nail olmaq olar, Azərbaycan dilində bəzən əsas sözlərə uğrayıb, \"uzun\" və \"müddət\" sözlərinin birleşimidir. Bu sözlərə bəzən əsas sözlərə uğrayıb, \"uzun\" və \"müddət\" sözlərinin birleşimidir.\n",
      "\n",
      "Uzunmüddətli məqsədlərə necə nail olmaq olar, Azərbaycan dilində bəzən əsas sözlərə uğrayıb, \"uzun\" və \"müddət\" sözlərinin birleşimidir. Bu sözlərə bəzən əsas sözlərə uğrayıb, \"uzun\" və \"müddət\" sözlərinin birleşimidir.\n",
      "\n",
      "Uzunmüddətli məqsədlərə necə nail olmaq olar, Azərbaycan dilində bəzən əsas sözlərə uğrayıb, \"uzun\" və \"müddət\" sözlərinin birleşimidir. Bu sözlərə bəzən əsas sözlərə uğrayıb, \"uzun\" və \"müddət\" sözlərinin birleşimidir.\n",
      "\n",
      "Uzunmüddətli məqsədlərə necə nail olmaq olar, Azərbaycan dilində bəzən əsas sözlərə uğrayıb, \"uzun\" və \"mü\n"
     ]
    },
    {
     "name": "stderr",
     "output_type": "stream",
     "text": [
      " 50%|█████     | 50/100 [11:05<08:40, 10.42s/it]"
     ]
    },
    {
     "name": "stdout",
     "output_type": "stream",
     "text": [
      " I am not able to provide information in Azerbaijani language as I am not trained on this language. However, I can try to provide a translation of your question in English:\n",
      "\n",
      "\"When will the electronic ticketing system be put into operation?\"\n",
      "\n",
      "I apologize for any confusion caused by my response. If you have any further questions or need assistance in a different language, please feel free to ask.\n"
     ]
    },
    {
     "name": "stderr",
     "output_type": "stream",
     "text": [
      " 51%|█████     | 51/100 [11:22<10:00, 12.25s/it]"
     ]
    },
    {
     "name": "stdout",
     "output_type": "stream",
     "text": [
      " Su istifadəsini optimallaşdırmaq üçün nə etmək lazımdır?\n",
      "\n",
      "1. Ən yaxşı istifadəçi qəbuluşu: Su istifadəsini optimallaşdırmaq üçün ən yaxşı istifadəçi qəbuluşu olmalıdır. Bu qəbuluşunun həmin bir zamanı olmalıdır, çünki su istifadəsini optimallaşdırmaq üçün ən yaxşı istifadəçi qəbuluşu olmalıdır.\n",
      "2. Ən yaxşı su qəbuluşu: Su istifadəsini optimallaşdırmaq üçün ən yaxşı su qəbuluşu olmalıdır. Bu qəbuluşunun həmin bir zamanı olmalıdır, çünki su istifadəsini optimallaşdırmaq üçün ən yaxşı su qəbuluşu olmalıdır.\n",
      "3. Ən yaxşı xidmət qəbuluşu: Su istifadəsini optimallaşdırmaq üçün ən yaxşı xidmət qəbuluşu olmalıdır. Bu qəbuluşunun həmin bir zamanı olmalıdır, çünki su istifadəsini optimallaşdırmaq üçün ən yaxşı xidmət qəbuluşu olmalıdır.\n",
      "4. Ən yaxşı istifadəçi tədbirçəsi: Su istifadəsini optimallaşdırmaq üçün ən yaxşı istifadəçi tədbirçəsi olmalıdır. Bu tədbirçəsinin həmin bir zamanı olmalıdır, çünki su istifadəsini optimallaşdırmaq üçün ən yaxşı istifadəçi tədbirçəsi olmalıdır.\n",
      "5. Ən yaxşı su tədbirçəsi: Su istifadəsini optimallaşdırmaq üçün ən yaxşı su tədbirçəsi olmalıdır. Bu tədbirçəsinin həmin bir zamanı olmalıdır, çünki su istifadəsini optimallaşdırmaq üçün ən yaxşı su tədbirçəsi olmalıdır.\n",
      "\n",
      "Bu etməkələrə əsasən ən yaxşı istifadəçi qəbuluşu, ən yaxşı su qəbuluşu, ən yaxşı xidmət qəbuluşu, ən yaxşı istifadəçi tədbirçəsi və ən yaxşı su tədbirçəsi olmalıdır. Bu etməkələrə əsasən su istifadəsini optimallaşdırmaq üçün ən yaxşı etməkələr olmalıdır.\n"
     ]
    },
    {
     "name": "stderr",
     "output_type": "stream",
     "text": [
      " 52%|█████▏    | 52/100 [11:26<07:56,  9.93s/it]"
     ]
    },
    {
     "name": "stdout",
     "output_type": "stream",
     "text": [
      " Dünyanın ən populyar musiqi janrları hansılardır:\n",
      "\n",
      "1. Pop musik\n",
      "2. Rock musik\n",
      "3. Hip-hop musik\n",
      "4. Elektron musik\n",
      "5. R&B musik\n",
      "6. Country musik\n",
      "7. Jazz musik\n",
      "8. Klasik musik\n",
      "9. Folk musik\n",
      "10. World musik\n",
      "\n",
      "Bu janrların çoxlayışı və ən yaxşı olması birçok faktorun tədbiri olur, örənə oxumaq, səsərəmə, ritm, melodika, lərdərə və ən yaxşı şəkillərə birlikdədir. Bu janrların ən yaxşı olmasına bahalı çalışmalar və tədbirlər yapılır.\n"
     ]
    },
    {
     "name": "stderr",
     "output_type": "stream",
     "text": [
      " 53%|█████▎    | 53/100 [11:40<08:43, 11.14s/it]"
     ]
    },
    {
     "name": "stdout",
     "output_type": "stream",
     "text": [
      " Yeni mədəniyyətləri öyrənməyin faydaları ən yaxşıdır:\n",
      "\n",
      "1. Əlavı qərar: Yeni mədəniyyətələrə əlavı qərar vermək üçün, insanların ən yaxşı olduğu və yaşadıqlarının ən yeni olduğu fikirini vermir.\n",
      "2. Əgərəliyyət: Yeni mədəniyyətələrə əgərəliyyət vermək üçün, insanların ən yaxşı olduğu və yaşadıqlarının ən yeni olduğu fikirini vermir.\n",
      "3. Əksessoru: Yeni mədəniyyətələrə əksessoru vermək üçün, insanların ən yaxşı olduğu və yaşadıqlarının ən yeni olduğu fikirini vermir.\n",
      "4. Ən yaxşı olmaq: Yeni mədəniyyətələrə ən yaxşı olmaq üçün, insanların ən yaxşı olduğu və yaşadıqlarının ən yeni olduğu fikirini vermir.\n",
      "5. Ən yeni olmaq: Yeni mədəniyyətələrə ən yeni olmaq üçün, insanların ən yaxşı olduğu və yaşadıqlarının ən yeni olduğu fikirini vermir.\n",
      "6. Ən yaxşı birliyə: Yeni mədəniyyətələrə ən yaxşı birliyə vermək üçün, insanların ən yaxşı olduğu və yaşadıqlarının ən yeni olduğu fikirini vermir.\n",
      "7. Ən yeni birliyə: Yeni mədəniyyətələrə ən yeni birliyə vermək üçün, insanların ən yaxşı olduğu və yaşadıqlarının ən yeni olduğu fikirini vermir.\n",
      "\n",
      "Bu faydaları yeni mədəniyyətələrə əlavı qərar vermək, əgərəliyyət, əksessoru, ən yaxşı olmaq, ən yeni olmaq, ən yaxşı birliyə, ən yeni birliyə vermək üçün ən yeni olduğu fikirini vermir.\n"
     ]
    },
    {
     "name": "stderr",
     "output_type": "stream",
     "text": [
      " 54%|█████▍    | 54/100 [11:53<08:47, 11.47s/it]"
     ]
    },
    {
     "name": "stdout",
     "output_type": "stream",
     "text": [
      " Fərdi sağlamlığa ən böyük təhdid nədir?\n",
      "\n",
      "Bu questionda ən böyük təhdid, fərdi sağlamlığının əsaslarıdır. Fərdi sağlamlığı, insanın fərdi davranışlarının əsaslarıdır. Bu əsaslar, insanın fərdi davranışlarının əsaslarıdır.\n",
      "\n",
      "Bu əsaslar, fərdi sağlamlığının əsaslarıdır:\n",
      "\n",
      "1. Ənənələr: Fərdi sağlamlığı, insanın ənənələrini qorunur. Bu əsas, insanın ənənələrini qorunur.\n",
      "2. Əsas səviyyə: Fərdi sağlamlığı, insanın əsas səviyyəsini qorunur. Bu əsas, insanın əsas səviyyəsini qorunur.\n",
      "3. Əsas təşəbbüş: Fərdi sağlamlığı, insanın əsas təşəbbüşünü qorunur. Bu əsas, insanın əsas təşəbbüşünü qorunur.\n",
      "4. Əsas təmsil: Fərdi sağlamlığı, insanın əsas təmsilünü qorunur. Bu əsas, insanın əsas təmsilünü qorunur.\n",
      "5. Əsas xidmət: Fərdi sağlamlığı, insanın əsas xidmətinə qorunur. Bu əsas, insanın əsas xidmətinə qorunur.\n",
      "\n",
      "Bu əsaslar, fərdi sağlamlığının əsaslarıdır. Fərdi sağlamlığı, insanın fərdi davranışlarının əsaslarıdır. Bu əsaslar, insanın fərdi davranışlarının əsaslarıdır.\n"
     ]
    },
    {
     "name": "stderr",
     "output_type": "stream",
     "text": [
      " 55%|█████▌    | 55/100 [12:12<10:18, 13.74s/it]"
     ]
    },
    {
     "name": "stdout",
     "output_type": "stream",
     "text": [
      " \"Qida israfını azaltmaq\" üçün nə etmək lazımdır?\n",
      "\n",
      "Bu questionın cevabı, \"qida israfını azaltmaq\" üçün nə etmək lazımdır?\n",
      "\n",
      "Bu questionın cevabı, \"qida israfını azaltmaq\" üçün nə etmək lazımdır?\n",
      "\n",
      "Bu questionın cevabı, \"qida israfını azaltmaq\" üçün nə etmək lazımdır?\n",
      "\n",
      "Bu questionın cevabı, \"qida israfını azaltmaq\" üçün nə etmək lazımdır?\n",
      "\n",
      "Bu questionın cevabı, \"qida israfını azaltmaq\" üçün nə etmək lazımdır?\n",
      "\n",
      "Bu questionın cevabı, \"qida israfını azaltmaq\" üçün nə etmək lazımdır?\n",
      "\n",
      "Bu questionın cevabı, \"qida israfını azaltmaq\" üçün nə etmək lazımdır?\n",
      "\n",
      "Bu questionın cevabı, \"qida israfını azaltmaq\" üçün nə etmək lazımdır?\n",
      "\n",
      "Bu questionın cevabı, \"qida israfını azaltmaq\" üçün nə etmək lazımdır?\n",
      "\n",
      "Bu questionın cevabı, \"qida israfını azaltmaq\" üçün nə etmək lazımdır?\n",
      "\n",
      "Bu questionın cevabı, \"qida israfını azaltmaq\" üçün nə etmək lazımdır?\n",
      "\n",
      "Bu questionın cevabı, \"qida israfını azaltmaq\" üçün nə etmək lazımdır?\n",
      "\n",
      "Bu questionın cevabı, \"qida israfını azaltmaq\" üçün nə etmək lazımdır?\n",
      "\n",
      "Bu questionın cevabı, \"qida israfını azaltmaq\" üçün nə etmək lazımdır?\n",
      "\n",
      "Bu questionın cevabı, \"qida israfını azaltmaq\" üçün nə etmək lazımdır?\n",
      "\n",
      "Bu questionın cevabı, \"qida israfını azaltmaq\" üçün nə etmək lazımdır?\n",
      "\n",
      "Bu questionın cevabı, \"qida israfını azaltmaq\" üçün nə etmək lazımdır?\n",
      "\n",
      "Bu questionın cevabı, \"qida israfını azaltmaq\" üçün nə etmək lazımdır?\n",
      "\n",
      "Bu questionın cevabı, \"qida israfını azaltmaq\" üçün nə etmək lazımdır?\n",
      "\n",
      "Bu questionın cevabı, \"qida israfını azaltmaq\" üçün nə etmək lazımdır?\n",
      "\n",
      "Bu questionın cevabı, \"qida israfını azaltmaq\" üçün nə etmək lazımdır?\n",
      "\n",
      "Bu questionın cevabı, \"qida israfını azaltmaq\" üçün nə etmək lazımdır?\n",
      "\n",
      "Bu questionın cevabı, \"qida israfını azaltmaq\" üçün nə etmək lazımdır?\n",
      "\n",
      "Bu questionın cevabı, \"qida israfını azaltmaq\" üçün nə etmək lazımdır?\n",
      "\n",
      "Bu questionın cevabı, \"qida israfını azaltmaq\" üçün nə etmək la\n"
     ]
    },
    {
     "name": "stderr",
     "output_type": "stream",
     "text": [
      " 56%|█████▌    | 56/100 [12:28<10:36, 14.47s/it]"
     ]
    },
    {
     "name": "stdout",
     "output_type": "stream",
     "text": [
      " Səhərənın liderlik bacarıqlarını inkişaf etdirmək üçün əvəzə bilər:\n",
      "\n",
      "1. Əvəzənə yetiştirin: Liderlik bacarıqlarını inkişaf etdirmək üçün əvəzənə yetiştirin. Bu, bəzi dərslərə əsasən əvəzənə yetiştirin, bəzənə yetiştirin və ya əvəzənə yetiştirin.\n",
      "2. Əsasən dərslərə əsasən əvəzənə yetiştirin: Liderlik bacarıqlarını inkişaf etdirmək üçün əsasən dərslərə əsasən əvəzənə yetiştirin. Bu, bəzi dərslərə əsasən əvəzənə yetiştirin, bəzənə yetiştirin və ya əvəzənə yetiştirin.\n",
      "3. Əvəzənə yetiştirin və ya əvəzənə yetiştirin: Liderlik bacarıqlarını inkişaf etdirmək üçün əvəzənə yetiştirin və ya əvəzənə yetiştirin. Bu, bəzi dərslərə əvəzənə yetiştirin, bəzənə yetiştirin və ya əvəzənə yetiştirin.\n",
      "4. Əsasən dərslərə əsasən əvəzənə yetiştirin: Liderlik bacarıqlarını inkişaf etdirmək üçün əsasən dərslərə əsasən əvəzənə yetiştirin. Bu, bəzi dərslərə əsasən əvəzənə yetiştirin, bəzənə yetiştirin və ya əvəzənə yetiştirin.\n",
      "5. Əvəzənə yetiştirin və ya əvəzənə yetiştirin: Liderlik bacarıqlarını inkişaf etdirmək üçün əvəzənə yetiştirin və ya əvəzənə yetiştirin. Bu, bəzi dərslərə əvəzənə yetiştirin, bəzənə yetiştirin və ya əvəzənə yetiştirin.\n",
      "\n",
      "Bu, liderlik bacarıqlarını inkişaf etdirmək üçün əvəzə bilər. Bu, bəzi dərslərə əvəzənə yetiştirin, bəzənə yetiştirin və ya əvəzənə yetiştirin.\n"
     ]
    },
    {
     "name": "stderr",
     "output_type": "stream",
     "text": [
      " 57%|█████▋    | 57/100 [12:48<11:31, 16.08s/it]"
     ]
    },
    {
     "name": "stdout",
     "output_type": "stream",
     "text": [
      " Təhlükəsizlik təsərrüf edilə bilər, lakin bəzi şəbəkələrdə buə bilər. Buə şəbəkələrdən biri olan sosial şəbəkə, təhlükəsizlik təmin edilə bilər. Sosial şəbəkədə, insanların ən yaxşı qərarlarını, ən yaxşı təkliflerini, ən yaxşı seçimlərini kəşf etməkən təhlükəsizlik təmin edilə bilər. Buə şəbəkələrdə, insanların ən yaxşı təkliflerini, ən yaxşı seçimlərini kəşf etməkən təhlükəsizlik təmin edilə bilər.\n",
      "\n",
      "Təhlükəsizlik təsərrüf edilə bilər, lakin bəzi şəbəkələrdə buə bilər. Buə şəbəkələrdən biri olan sosial şəbəkə, təhlükəsizlik təmin edilə bilər. Sosial şəbəkədə, insanların ən yaxşı qərarlarını, ən yaxşı təkliflerini, ən yaxşı seçimlərini kəşf etməkən təhlükəsizlik təmin edilə bilər. Buə şəbəkələrdə, insanların ən yaxşı təkliflerini, ən yaxşı seçimlərini kəşf etməkən təhlükəsizlik təmin edilə bilər.\n",
      "\n",
      "Təhlükəsizlik təsərrüf edilə bilər, lakin bəzi şəbəkələrdə buə bilər. Buə şəbəkələrdən biri olan sosial şəbəkə, təhlükəsizlik təmin edilə bilər. Sosial şəbəkədə, insanların ən yaxşı qərarlarını, ən yaxşı təkliflerini, ən yaxşı seçimlərini kəşf etməkən təhlükəsizlik təmin edilə bilər. Buə şəbəkələrdə, insanların ən yaxşı təkliflerini, ən yaxşı seçimlərini kəşf etməkən təhlükəsizlik təmin edilə bilər.\n",
      "\n",
      "Təhlükəsizlik təsərrüf edilə bilər, lakin bəzi şəbəkələrdə buə bilər. Buə şəbəkələrdən biri olan sosial şəbəkə, təhlükəsizlik təmin edilə bilər. Sosial şəbəkədə, insanların ən yaxşı qərarlarını, ən yaxşı təkliflerini, ən yaxşı seçimlərini kəşf etməkən təhlükəsizlik təmin edilə bilər. Buə şəbəkələrdə, insanların ən yaxşı təkliflerini, ən yaxşı seçimlərini kəşf etməkən təhlükəsizlik təmin edilə bil\n"
     ]
    },
    {
     "name": "stderr",
     "output_type": "stream",
     "text": [
      " 58%|█████▊    | 58/100 [13:02<10:51, 15.52s/it]"
     ]
    },
    {
     "name": "stdout",
     "output_type": "stream",
     "text": [
      " Məktəblərdə sağlam qidalanma təşviqinin əhəmiyyəti ən yaxşı olur:\n",
      "\n",
      "1. Məktəblərın əsasələrinə göndərilməsi: Məktəblərdə sağlam qidalanma təşviqinin əhəmiyyəti, məktəblərın əsasələrinə göndərilməsi daha əsasəlı və daha sadəqətli olur.\n",
      "2. Məktəblərın əsasələrinə əlavə olunması: Məktəblərdə sağlam qidalanma təşviqinin əhəmiyyəti, məktəblərın əsasələrinə əlavə olunmasını sağlar.\n",
      "3. Məktəblərın əsasələrinə təyin olunması: Məktəblərdə sağlam qidalanma təşviqinin əhəmiyyəti, məktəblərın əsasələrinə təyin olunmasını sağlar.\n",
      "4. Məktəblərın əsasələrinə dəyişənə olunması: Məktəblərdə sağlam qidalanma təşviqinin əhəmiyyəti, məktəblərın əsasələrinə dəyişənə olunmasını sağlar.\n",
      "5. Məktəblərın əsasələrinə uğrayış olunması: Məktəblərdə sağlam qidalanma təşviqinin əhəmiyyəti, məktəblərın əsasələrinə uğrayış olunmasını sağlar.\n",
      "\n",
      "Ən yaxşı olaraq, məktəblərdə sağlam qidalanma təşviqinin əhəmiyyəti, məktəblərın əsasələrinə göndərilməsi, əlavə olunması, təyin olunması, dəyişənə olunması və uğrayış olunmasında ən yaxşı olur.\n"
     ]
    },
    {
     "name": "stderr",
     "output_type": "stream",
     "text": [
      " 59%|█████▉    | 59/100 [13:22<11:30, 16.83s/it]"
     ]
    },
    {
     "name": "stdout",
     "output_type": "stream",
     "text": [
      " Dünya səyahəti planlaşdırarkən nələrə diqqət etmək lazımdır?\n",
      "\n",
      "1. Dünya səyahəti planlaşdırarkən nələrə diqqət etmək lazımdır?\n",
      "2. Dünya səyahəti planlaşdırarkən nələrə diqqət etmək lazımdır?\n",
      "3. Dünya səyahəti planlaşdırarkən nələrə diqqət etmək lazımdır?\n",
      "4. Dünya səyahəti planlaşdırarkən nələrə diqqət etmək lazımdır?\n",
      "5. Dünya səyahəti planlaşdırarkən nələrə diqqət etmək lazımdır?\n",
      "6. Dünya səyahəti planlaşdırarkən nələrə diqqət etmək lazımdır?\n",
      "7. Dünya səyahəti planlaşdırarkən nələrə diqqət etmək lazımdır?\n",
      "8. Dünya səyahəti planlaşdırarkən nələrə diqqət etmək lazımdır?\n",
      "9. Dünya səyahəti planlaşdırarkən nələrə diqqət etmək lazımdır?\n",
      "10. Dünya səyahəti planlaşdırarkən nələrə diqqət etmək lazımdır?\n",
      "11. Dünya səyahəti planlaşdırarkən nələrə diqqət etmək lazımdır?\n",
      "12. Dünya səyahəti planlaşdırarkən nələrə diqqət etmək lazımdır?\n",
      "13. Dünya səyahəti planlaşdırarkən nələrə diqqət etmək lazımdır?\n",
      "14. Dünya səyahəti planlaşdırarkən nələrə diqqət etmək lazımdır?\n",
      "15. Dünya səyahəti planlaşdırarkən nələrə diqqət etmək lazımdır?\n",
      "16. Dünya səyahəti planlaşdırarkən nələrə diqqət etmək lazımdır?\n",
      "17. Dünya səyahəti planlaşdırarkən nələrə diqqət etmək lazımdır?\n",
      "18. Dünya səyahəti planlaşdırarkən nələrə diqqət etmək lazımdır?\n",
      "19. Dünya səyahəti planlaşdırarkən nələrə diqqət etmək lazımdır?\n",
      "20. Dünya səyahəti planlaşdırarkən nələrə diqqət etmək lazımdır?\n",
      "21. Dünya səyahəti planlaşdırarkən nələrə diqqət etmək lazımdır?\n",
      "22. Dünya səyahəti planlaşdırarkən nələrə diqqət etmək lazımdır?\n",
      "23. Dünya səyahəti planlaşdırarkən\n"
     ]
    },
    {
     "name": "stderr",
     "output_type": "stream",
     "text": [
      " 60%|██████    | 60/100 [13:34<10:17, 15.44s/it]"
     ]
    },
    {
     "name": "stdout",
     "output_type": "stream",
     "text": [
      " I am not able to write text in Azerbaijani language. However, I can provide you with some general tips on how to be a helpful, respectful, and honest assistant in a business setting.\n",
      "\n",
      "1. Communication: Clear and effective communication is key to building trust and understanding with your colleagues and clients. Make sure to listen actively, ask questions to clarify, and confirm your understanding to avoid misunderstandings.\n",
      "2. Responsiveness: Timely responses to inquiries and requests show that you value others' time and are committed to delivering excellent service. Aim to respond promptly, even if it means simply acknowledging receipt of a message and indicating when you'll be able to provide a more detailed response.\n",
      "3. Proactivity: Anticipate needs and take the initiative to offer solutions or suggestions. This demonstrates that you're invested in the success of your colleagues and clients, and helps build trust and credibility.\n",
      "4. Organization: Staying organized is crucial for delivering high-quality work and meeting deadlines. Use tools like calendars, to-do lists, and project management software to stay on top of tasks and keep your colleagues informed.\n",
      "5. Confidentiality: Respect the privacy of sensitive information and only share it with authorized individuals. This builds trust and helps maintain a positive reputation for you and your organization.\n",
      "6. Continuous Improvement: Strive to continuously improve your skills and knowledge. Seek feedback, attend training and development programs, and stay up-to-date with industry trends to enhance your performance and provide the best possible support to your colleagues and clients.\n",
      "7. Positive Attitude: Maintain a positive attitude and approach challenges with a solution-oriented mindset. This helps create a productive and collaborative work environment, and fosters strong relationships with your colleagues and clients.\n",
      "8. Adaptability: Be flexible and adapt to changing circumstances and priorities. This demonstrates your ability to handle unexpected situations and ensures that you're always providing the best possible support.\n",
      "9. Respect: Treat everyone with respect and professionalism, regardless of their position or background. This helps create a positive and inclusive work environment, and fosters strong relationships with your colleagues and clients.\n",
      "10. Accountability: Take ownership of your actions and decisions, and be accountable for the quality of your work. This builds trust and credibility, and demonstrates your commitment to delivering high-quality support.\n",
      "\n",
      "By following these tips, you can build strong relationships with your colleagues and clients, and establish yourself as a helpful, respectful, and honest assistant.\n"
     ]
    },
    {
     "name": "stderr",
     "output_type": "stream",
     "text": [
      " 61%|██████    | 61/100 [13:43<08:50, 13.59s/it]"
     ]
    },
    {
     "name": "stdout",
     "output_type": "stream",
     "text": [
      " I am not able to write text in Azerbaijani language. However, I can suggest some effective stress management techniques that may be helpful:\n",
      "\n",
      "1. Deep breathing exercises: Take slow, deep breaths in through your nose and out through your mouth. This can help calm your mind and body.\n",
      "2. Physical activity: Engage in physical activities that you enjoy, such as walking, running, swimming, or yoga. Exercise can help reduce stress and anxiety.\n",
      "3. Meditation: Practice mindfulness meditation, which involves focusing your attention on the present moment and letting go of thoughts and worries.\n",
      "4. Relaxation techniques: Try techniques such as progressive muscle relaxation, visualization, or guided imagery to help you relax and reduce stress.\n",
      "5. Time management: Prioritize your tasks and learn to say no to things that are not essential. This can help you feel more in control and reduce stress.\n",
      "6. Social support: Spend time with friends and family, or join a support group to talk to others who may be experiencing similar stressors.\n",
      "7. Healthy eating: Eat a healthy and balanced diet, including plenty of fruits, vegetables, whole grains, and lean protein sources. Avoid sugary and processed foods that can exacerbate stress.\n",
      "8. Sleep: Get enough sleep each night. Aim for 7-8 hours of sleep per night to help your body and mind feel rested and refreshed.\n",
      "9. Leisure activities: Make time for activities that bring you joy and help you relax, such as reading, listening to music, or taking a relaxing bath.\n",
      "10. Seek professional help: If you are experiencing chronic stress that is impacting your daily life, consider seeking help from a mental health professional. They can provide you with additional coping strategies and support.\n",
      "\n",
      "Remember, everyone is different, and it's important to find what works best for you. Experiment with different techniques and find a combination that helps you manage stress effectively.\n"
     ]
    },
    {
     "name": "stderr",
     "output_type": "stream",
     "text": [
      " 62%|██████▏   | 62/100 [14:05<10:09, 16.04s/it]"
     ]
    },
    {
     "name": "stdout",
     "output_type": "stream",
     "text": [
      " Müasir şəhərləşmənin ekoloji problemlərə təsiri ən yaxşı olur:\n",
      "\n",
      "1. Şəhər qəzetələrinin təsir etməsi: Müasir şəhərləşmənin əsası olan şəhər qəzetələrinin təsir etməsi, əsasının ən yaxşı olur. Bu, şəhərin ən yaxşı olmasını sağlar.\n",
      "2. Əhəmiyyətli şəhər qəzetələrinin təsir etməsi: Əhəmiyyətli şəhər qəzetələrinin təsir etməsi, şəhərin ən yaxşı olmasını sağlar. Bu, şəhərin ən yaxşı olmasını sağlar.\n",
      "3. Şəhər qəzetələrinin əsəl şəkli qəzetələrinin təsir etməsi: Şəhər qəzetələrinin əsəl şəkli qəzetələrinin təsir etməsi, şəhərin ən yaxşı olmasını sağlar. Bu, şəhərin ən yaxşı olmasını sağlar.\n",
      "4. Şəhər qəzetələrinin əsəl şəkli qəzetələrinin təsir etməsi: Şəhər qəzetələrinin əsəl şəkli qəzetələrinin təsir etməsi, şəhərin ən yaxşı olmasını sağlar. Bu, şəhərin ən yaxşı olmasını sağlar.\n",
      "5. Şəhər qəzetələrinin əsəl şəkli qəzetələrinin təsir etməsi: Şəhər qəzetələrinin əsəl şəkli qəzetələrinin təsir etməsi, şəhərin ən yaxşı olmasını sağlar. Bu, şəhərin ən yaxşı olmasını sağlar.\n",
      "6. Şəhər qəzetələrinin əsəl şəkli qəzetələrinin təsir etməsi: Şəhər qəzetələrinin əsəl şəkli qəzetələrinin təsir etməsi, şəhərin ən yaxşı olmasını sağlar. Bu, şəhərin ən yaxşı olmasını sağlar.\n",
      "7. Şəhər qəzetələrinin əsəl şəkli qəzetələrinin təsir etməsi: Şəhər qəzetələrinin əsəl şəkli qəzetələrinin təsir etməsi, şəhərin ən yaxşı olmasını sağlar. Bu, şəhərin ən yaxşı olmasını sağlar.\n",
      "8. Şəhər qəzetələrinin əsəl şəkli qəzetələrinin təsir etməsi: Şəhər qəzetələrinin əsəl şəkli qəzetələrinin təsir etməsi, şəhərin ən yaxşı olmasın\n"
     ]
    },
    {
     "name": "stderr",
     "output_type": "stream",
     "text": [
      " 63%|██████▎   | 63/100 [14:18<09:14, 14.98s/it]"
     ]
    },
    {
     "name": "stdout",
     "output_type": "stream",
     "text": [
      " Kompüter viruslarından qorunmaq üçün nə etmək lazımdır?\n",
      "\n",
      "1. Viruslarının yüklənməsini qərib üçün təlimatlarını yükləyin.\n",
      "2. Anti-virus programlarını yükləyin və onlarınızı güncələşdirin.\n",
      "3. Kompüterinizə yüklənən programlarının əsasənə oxumaqla yüksəklik qəribəkini saqlayın.\n",
      "4. İnternetə bağlanmadan öncə yüklənən programlarının əsasənə oxumaqla yüksəklik qəribəkini saqlayın.\n",
      "5. Kompüterinizə yüklənən programlarının əsasənə oxumaqla yüksəklik qəribəkini saqlayın.\n",
      "6. Gəncələştirilmiş programlarını yükləyin və onlarınızı güncələşdirin.\n",
      "7. Kompüterinizə yüklənən programlarının əsasənə oxumaqla yüksəklik qəribəkini saqlayın.\n",
      "8. İnternetə bağlanmadan öncə yüklənən programlarının əsasənə oxumaqla yüksəklik qəribəkini saqlayın.\n",
      "9. Kompüterinizə yüklənən programlarının əsasənə oxumaqla yüksəklik qəribəkini saqlayın.\n",
      "10. Gəncələştirilmiş programlarını yükləyin və onlarınızı güncələşdirin.\n",
      "\n",
      "Bu etmələr, kompüter viruslarından qorunmaq üçün ən effektif etmələrdir.\n"
     ]
    },
    {
     "name": "stderr",
     "output_type": "stream",
     "text": [
      " 64%|██████▍   | 64/100 [14:31<08:46, 14.63s/it]"
     ]
    },
    {
     "name": "stdout",
     "output_type": "stream",
     "text": [
      " Uzun müddətli motivasiya qorumaqla bir neçə məhdudiyyət var. Bu məhdudiyyətə fikir edək, sizin qəlbistanınızın tətbiq edə bilər.\n",
      "\n",
      "1. Sessiz sedaqət: Sessiz sedaqətin əsası, insanın neftəli bir nümayiş etməsi və ya sağlam bir nümayiş etməsidir. Bu nümayişə çətin bir şekilde qəlbistanınızın tətbiq edə bilər.\n",
      "2. Əhəmiyyətli fikir: Əhəmiyyətli fikir, sizin qəlbistanınızın tətbiq edə bilər. Bu fikir, sizin əsasınızın tətbiq edə bilər və sizin əsasınızın əhəmiyyətini artırır.\n",
      "3. Ədəbi əsas: Ədəbi əsas, sizin qəlbistanınızın tətbiq edə bilər. Bu əsas, sizin əsasınızın ədəbiyyətini artırır və sizin əsasınızın əhəmiyyətini qorur.\n",
      "4. Ənənə fikir: Ənənə fikir, sizin qəlbistanınızın tətbiq edə bilər. Bu fikir, sizin əsasınızın ənənəlığini artırır və sizin əsasınızın əhəmiyyətini qorur.\n",
      "5. Əsasınızın tətbiq edə bilər: Əsasınızın tətbiq edə bilər, sizin qəlbistanınızın tətbiq edə bilər. Bu tətbiq, sizin əsasınızın əhəmiyyətini artırır və sizin əsasınızın ənənəlığini qorur.\n",
      "\n",
      "Bu məhdudiyyətə fikir edək, sizin qəlbistanınızın tətbiq edə bilər. Sizin əsasınızın əhəmiyyətini artırır və sizin əsasınızın ənənəlığini qorur.\n"
     ]
    },
    {
     "name": "stderr",
     "output_type": "stream",
     "text": [
      " 65%|██████▌   | 65/100 [14:41<07:37, 13.08s/it]"
     ]
    },
    {
     "name": "stdout",
     "output_type": "stream",
     "text": [
      " Daxili dizaynın yeni trendlərı hansılardır. Bu trendlər ən yeni təknoloji, ən yeni fikir və ən yeni iş dünyasının təminatlarıdır. Bu trendlərə bir neçə dərəcək iş dünyası və təknoloji dünyasının təminatları daxil edir.\n",
      "\n",
      "1. Ən yeni təknoloji trendləri:\n",
      "* İnternet və ən yeni təknoloji\n",
      "* Mobil təknoloji və ən yeni təknoloji\n",
      "* Ən yeni təknoloji və təminatları\n",
      "2. Ən yeni fikir trendləri:\n",
      "* Ən yeni fikir və təminatları\n",
      "* Ən yeni fikir və ən yeni təknoloji\n",
      "* Ən yeni fikir və ən yeni iş dünyası\n",
      "3. Ən yeni iş dünyası trendləri:\n",
      "* Ən yeni iş dünyası və təminatları\n",
      "* Ən yeni iş dünyası və ən yeni təknoloji\n",
      "* Ən yeni iş dünyası və ən yeni fikir\n",
      "\n",
      "Bu trendlərə bir neçə dərəcək iş dünyası və təknoloji dünyasının təminatları daxil edir. Bu trendlərə ən yeni təknoloji, ən yeni fikir və ən yeni iş dünyasının təminatlarıdır.\n"
     ]
    },
    {
     "name": "stderr",
     "output_type": "stream",
     "text": [
      " 66%|██████▌   | 66/100 [15:00<08:29, 14.98s/it]"
     ]
    },
    {
     "name": "stdout",
     "output_type": "stream",
     "text": [
      " Uşaqlarda məsuliyyət hissini necə inkişaf etdirmək mümkün deyil. Məsuliyyət hissini inkişaf etmək üçün ən yaxşı methodları göstərilir:\n",
      "\n",
      "1. Məsuliyyət hissini təyin edərək inkişaf etmək. Bu metod, məsuliyyət hissini təyin edərək, onun içərişini vəziyyətini təyin edərək inkişaf etmək üçün istifadə edilir.\n",
      "2. Məsuliyyət hissini əsasəna bəyənirək inkişaf etmək. Bu metod, məsuliyyət hissini əsasəna bəyənirək, onun içərişini vəziyyətini təyin edərək inkişaf etmək üçün istifadə edilir.\n",
      "3. Məsuliyyət hissini fərdiyyət edərək inkişaf etmək. Bu metod, məsuliyyət hissini fərdiyyət edərək, onun içərişini vəziyyətini təyin edərək inkişaf etmək üçün istifadə edilir.\n",
      "\n",
      "Bu metodların yanı sıra, məsuliyyət hissini inkişaf etmək üçün ən yaxşı methodları da göstərilir:\n",
      "\n",
      "1. Məsuliyyət hissini təyin edərək, sonra da onu əsasəna bəyənirək inkişaf etmək.\n",
      "2. Məsuliyyət hissini fərdiyyət edərək, sonra da onu təyin edərək inkişaf etmək.\n",
      "3. Məsuliyyət hissini əsasəna bəyənirək, sonra da onu fərdiyyət edərək inkişaf etmək.\n",
      "\n",
      "Bu metodların yanı sıra, məsuliyyət hissini inkişaf etmək üçün ən yaxşı methodları da göstərilir:\n",
      "\n",
      "1. Məsuliyyət hissini təyin edərək, sonra da onu əsasəna bəyənirək, sonra da onu fərdiyyət edərək inkişaf etmək.\n",
      "2. Məsuliyyət hissini fərdiyyət edərək, sonra da onu təyin edərək, sonra da onu əsasəna bəyənirək inkişaf etmək.\n",
      "3. Məsuliyyət hissini əsasəna bəyənirək, sonra da onu fərdiyyət edərək, sonra da onu təyin edərək inkişaf etmək.\n",
      "\n",
      "Bu metodların yanı sıra, məsuliyyət hissini inkişaf etmək üçün ən yaxşı methodları da göstərilir:\n",
      "\n",
      "1. Məsuliyyət hissini təyin edərək, sonra da onu əsasəna bəyənirək, sonra da onu fərdiyyət edərək, sonra da onu təyin edərək inkişaf etmək.\n",
      "2. Məsuliyyət hissini fərdiyyət edərək, sonra da onu tə\n"
     ]
    },
    {
     "name": "stderr",
     "output_type": "stream",
     "text": [
      " 67%|██████▋   | 67/100 [15:23<09:33, 17.37s/it]"
     ]
    },
    {
     "name": "stdout",
     "output_type": "stream",
     "text": [
      " Fiziki aktivlik olmadan sağlamlığı necə qorumaq olar?\n",
      "\n",
      "Səhvənən,\n",
      "\n",
      "Fiziki aktivlik olmadan sağlamlığı qorumaq lazım deyil. Fiziki aktivlik, kəndə qədiməli və ya oxunulanı qədiməli fizikisini təkmilləyə bilir. Bu qədiməli fizikisinin əsası, kəndə qədiməli və ya oxunulanı fizikisinin əsasıdır.\n",
      "\n",
      "Fiziki aktivlik olmadan sağlamlığı qorumaq lazım əməliyyatlar:\n",
      "\n",
      "1. Kəndə qədiməli və ya oxunulanı fizikisinin əsaslarını təkmilləyə bilir.\n",
      "2. Bu fizikisinin əsasları, kəndə qədiməli və ya oxunulanı fizikisinin əsaslarıdır.\n",
      "3. Fiziki aktivlik, kəndə qədiməli və ya oxunulanı fizikisinin əsaslarını təkmilləyə bilir.\n",
      "4. Fiziki aktivlik, kəndə qədiməli və ya oxunulanı fizikisinin əsaslarının təkmilləsi ilə əsasının əsaslarını təkmilləyə bilir.\n",
      "\n",
      "Fiziki aktivlik olmadan sağlamlığı qorumaq lazım əməliyyatlar:\n",
      "\n",
      "1. Kəndə qədiməli və ya oxunulanı fizikisinin əsaslarını təkmilləyə bilir.\n",
      "2. Bu fizikisinin əsasları, kəndə qədiməli və ya oxunulanı fizikisinin əsaslarıdır.\n",
      "3. Fiziki aktivlik, kəndə qədiməli və ya oxunulanı fizikisinin əsaslarını təkmilləyə bilir.\n",
      "4. Fiziki aktivlik, kəndə qədiməli və ya oxunulanı fizikisinin əsaslarının təkmilləsi ilə əsasının əsaslarını təkmilləyə bilir.\n",
      "\n",
      "Fiziki aktivlik olmadan sağlamlığı qorumaq lazım əməliyyatlar:\n",
      "\n",
      "1. Kəndə qədiməli və ya oxunulanı fizikisinin əsaslarını təkmilləyə bilir.\n",
      "2. Bu fizikisinin əsasları, kəndə qədiməli və ya oxunulanı fizikisinin əsaslarıdır.\n",
      "3. Fiziki aktivlik, kəndə qədiməli və ya oxunulanı fizikisinin əsaslarını təkmilləyə bilir.\n",
      "4. Fiziki aktivlik, kəndə qədiməli və ya oxunulanı fizikisinin əsaslarının təkmilləsi ilə əsasının əsaslarını təkmilləyə bilir.\n",
      "\n",
      "Fiziki aktivlik olmadan sağlamlığı qorumaq lazım əməliyyatlar:\n",
      "\n",
      "1. Kəndə qədiməli və ya oxunulanı fizikisinin əsaslarını təkmilləyə bilir.\n",
      "2. Bu fizikisinin əsasları, kəndə qədim\n"
     ]
    },
    {
     "name": "stderr",
     "output_type": "stream",
     "text": [
      " 68%|██████▊   | 68/100 [15:30<07:38, 14.33s/it]"
     ]
    },
    {
     "name": "stdout",
     "output_type": "stream",
     "text": [
      " Dünya ədəbiyyatında ən təsirli əsərlər hansılardır:\n",
      "\n",
      "1. \"Don Quixote\" - Miguel de Cervantes\n",
      "2. \"To Kill a Mockingbird\" - Harper Lee\n",
      "3. \"The Great Gatsby\" - F. Scott Fitzgerald\n",
      "4. \"Pride and Prejudice\" - Jane Austen\n",
      "5. \"The Catcher in the Rye\" - J.D. Salinger\n",
      "6. \"The Adventures of Huckleberry Finn\" - Mark Twain\n",
      "7. \"The Scarlet Letter\" - Nathaniel Hawthorne\n",
      "8. \"The Grapes of Wrath\" - John Steinbeck\n",
      "9. \"Jane Eyre\" - Charlotte Bronte\n",
      "10. \"Wuthering Heights\" - Emily Bronte\n",
      "\n",
      "Bu hansılardır ən təsirli əsərləridir, lakin bunların ən çox təsirli olduğu çətinə aidənədir. Dünya ədəbiyyatında ən təsirli əsərlər hansılardır.\n"
     ]
    },
    {
     "name": "stderr",
     "output_type": "stream",
     "text": [
      " 69%|██████▉   | 69/100 [15:51<08:26, 16.34s/it]"
     ]
    },
    {
     "name": "stdout",
     "output_type": "stream",
     "text": [
      " Electrik avtomobillərinin gələcəyi necə görünür?\n",
      "\n",
      "Electrik avtomobillərinin gələcəyi, ən yaxşı mərhələçəkləşdir. Bu qədər mərhələçək ən yaxşı mərhələçəkləşdir və bu qədər mərhələçək ən yaxşı mərhələçəkləşdir.\n",
      "\n",
      "Electrik avtomobillərinin gələcəyi, ən yaxşı mərhələçəkləşdir. Bu qədər mərhələçək ən yaxşı mərhələçəkləşdir və bu qədər mərhələçək ən yaxşı mərhələçəkləşdir.\n",
      "\n",
      "Electrik avtomobillərinin gələcəyi, ən yaxşı mərhələçəkləşdir. Bu qədər mərhələçək ən yaxşı mərhələçəkləşdir və bu qədər mərhələçək ən yaxşı mərhələçəkləşdir.\n",
      "\n",
      "Electrik avtomobillərinin gələcəyi, ən yaxşı mərhələçəkləşdir. Bu qədər mərhələçək ən yaxşı mərhələçəkləşdir və bu qədər mərhələçək ən yaxşı mərhələçəkləşdir.\n",
      "\n",
      "Electrik avtomobillərinin gələcəyi, ən yaxşı mərhələçəkləşdir. Bu qədər mərhələçək ən yaxşı mərhələçəkləşdir və bu qədər mərhələçək ən yaxşı mərhələçəkləşdir.\n",
      "\n",
      "Electrik avtomobillərinin gələcəyi, ən yaxşı mərhələçəkləşdir. Bu qədər mərhələçək ən yaxşı mərhələçəkləşdir və bu qədər mərhələçək ən yaxşı mərhələçəkləşdir.\n",
      "\n",
      "Electrik avtomobillərinin gələcəyi, ən yaxşı mərhələçəkləşdir. Bu qədər mərhələçək ən yaxşı mərhələçəkləşdir və bu qədər mərhələçək ən yaxşı mərhələçəkləşdir.\n",
      "\n",
      "Electrik avtomobillərinin gələcəyi, ən yaxşı mərhələçəkləşdir. Bu qədər mərhələçək ən yaxşı mərhələçəkləşdir və bu qədər mərhələçək ən yaxşı mərhələçəkləşdir.\n",
      "\n",
      "Electrik avtomobillərinin gələcəyi, ən yaxşı mərhələçəkləşdir. Bu qədər mərhələçək ən yaxşı mərhələçəkləşdir və bu qədər mərhələçək ən yaxşı mərhələçəkləşdir.\n"
     ]
    },
    {
     "name": "stderr",
     "output_type": "stream",
     "text": [
      " 70%|███████   | 70/100 [16:13<08:54, 17.83s/it]"
     ]
    },
    {
     "name": "stdout",
     "output_type": "stream",
     "text": [
      " Meditasiya Günlük Rutininə Necə Inteqrasiya Etmək\n",
      "\n",
      "Meditasiya günlük rutininə inteqrasiya etmək, sizə daha bəzən fəaliyyət göstərmək üçün çətin bir yol istəyir. Bu yol, sizə günlük rutininə uyğun şekilde zaman ayırmak və bu zamanı meditasiya etmək üçün istifadə edə bilər.\n",
      "\n",
      "1. cavabınızın yanı sıra, meditasiya günlük rutininə inteqrasiya etmək üçün ən yaxşı fəaliyyət daxil edilir. Bu fəaliyyət, sizə günlük rutininə uyğun şekilde zaman ayırmak və bu zamanı meditasiya etmək üçün istifadə edə bilər.\n",
      "2. Meditasiya günlük rutininə inteqrasiya etmək, sizə daha bəzən fəaliyyət göstərmək üçün çətin bir yol istəyir. Bu yol, sizə günlük rutininə uyğun şekilde zaman ayırmak və bu zamanı meditasiya etmək üçün istifadə edə bilər.\n",
      "3. Meditasiya günlük rutininə inteqrasiya etmək, sizə daha bəzən fəaliyyət göstərmək üçün çətin bir yol istəyir. Bu yol, sizə günlük rutininə uyğun şekilde zaman ayırmak və bu zamanı meditasiya etmək üçün istifadə edə bilər.\n",
      "\n",
      "Meditasiya günlük rutininə inteqrasiya etmək, sizə daha bəzən fəaliyyət göstərmək üçün çətin bir yol istəyir. Bu yol, sizə günlük rutininə uyğun şekilde zaman ayırmak və bu zamanı meditasiya etmək üçün istifadə edə bilər.\n",
      "\n",
      "Sizə günlük rutininə meditasiya etmək üçün ən yaxşı fəaliyyət daxil edilir. Bu fəaliyyət, sizə günlük rutininə uyğun şekilde zaman ayırmak və bu zamanı meditasiya etmək üçün istifadə edə bilər.\n",
      "\n",
      "Meditasiya günlük rutininə inteqrasiya etmək, sizə daha bəzən fəaliyyət göstərmək üçün çətin bir yol istəyir. Bu yol, sizə günlük rutininə uyğun şekilde zaman ayırmak və bu zamanı meditasiya etmək üçün istifadə edə bilər.\n",
      "\n",
      "Sizə günlük rutininə meditasiya etmək üçün ən yaxşı fəaliyyət daxil edilir. Bu fəaliyyət, sizə günlük rutininə uyğun şekilde zaman ayırmak və bu zamanı meditasiya etmək üçün istifadə edə bilər.\n",
      "\n",
      "Meditasiya günlük rutininə inteqrasiya etmək, sizə daha bəzən fəaliyyət göstərmək üçün çətin bir yol ist\n"
     ]
    },
    {
     "name": "stderr",
     "output_type": "stream",
     "text": [
      " 71%|███████   | 71/100 [16:21<07:11, 14.87s/it]"
     ]
    },
    {
     "name": "stdout",
     "output_type": "stream",
     "text": [
      " I am not able to write text in Azerbaijani language. However, I can provide you with some general tips on how to resolve workplace conflicts in a respectful and constructive manner.\n",
      "\n",
      "1. Communicate effectively: Communication is key to resolving conflicts. Make sure to listen actively and express yourself clearly. Avoid using aggressive or passive-aggressive language, and try to understand the other person's perspective.\n",
      "2. Stay calm: Emotions can run high in conflicts, but it's important to remain calm and composed. Take a deep breath, count to 10, or step away for a moment to collect your thoughts before responding.\n",
      "3. Focus on the issue, not the person: Avoid making personal attacks or criticisms. Instead, focus on the issue at hand and try to find a solution that works for everyone.\n",
      "4. Seek common ground: Look for areas of agreement and try to find a mutually beneficial solution.\n",
      "5. Be open-minded: Be willing to consider different perspectives and compromise.\n",
      "6. Follow company policies and procedures: If a conflict arises, refer to your company's policies and procedures for guidance on how to resolve it.\n",
      "7. Seek help from HR: If the conflict is serious or cannot be resolved through internal means, consider seeking help from your HR department. They can provide guidance, mediation, or other resources to help resolve the conflict.\n",
      "\n",
      "Remember, conflicts are a natural part of any workplace, and how you handle them can make or break your professional relationships. By being respectful, open-minded, and solution-focused, you can resolve conflicts in a way that benefits everyone involved.\n"
     ]
    },
    {
     "name": "stderr",
     "output_type": "stream",
     "text": [
      " 72%|███████▏  | 72/100 [16:36<06:56, 14.88s/it]"
     ]
    },
    {
     "name": "stdout",
     "output_type": "stream",
     "text": [
      " \"Qida alerjilərini necə idarə etmək olar?\" - This sentence is written in Azerbaijani language and it means \"How can we improve the quality of education?\"\n",
      "\n",
      "Here are some possible answers in Azerbaijani language:\n",
      "\n",
      "1. \"Qida alerjilərinin idarə etməsi üçün əsasən ən yaxşı fikir yetirirəm. Birinci, məktəbın əsasını ən yaxşı olması lazım. Daha ən yaxşı məktəbə ən yaxşı fəaliyyət göstərər. İkinci, məktəbə yetiştirilməsi lazım. Məktəbə yetiştirilməsi bir neçə iş dərəcəyinə yetiştirilir. Ən son, məktəbə ən yaxşı olmasını sağlayaraq ən yaxşı fəaliyyət göstərər.\"\n",
      "2. \"Qida alerjilərinin idarə etməsi üçün əsasən ən yaxşı fikir yetirirəm. Birinci, məktəbın əsasını ən yaxşı olması lazım. Daha ən yaxşı məktəbə ən yaxşı fəaliyyət göstərər. İkinci, məktəbə yetiştirilməsi lazım. Məktəbə yetiştirilməsi bir neçə iş dərəcəyinə yetiştirilir. Ən son, məktəbə ən yaxşı olmasını sağlayaraq ən yaxşı fəaliyyət göstərər.\"\n",
      "3. \"Qida alerjilərinin idarə etməsi üçün əsasən ən yaxşı fikir yetirirəm. Birinci, məktəbın əsasını ən yaxşı olması lazım. Daha ən yaxşı məktəbə ən yaxşı fəaliyyət göstərər. İkinci, məktəbə yetiştirilməsi lazım. Məktəbə yetiştirilməsi bir neçə iş dərəcəyinə yetiştirilir. Ən son, məktəbə ən yaxşı olmasını sağlayaraq ən yaxşı fəaliyyət göstərər.\"\n",
      "\n",
      "These answers are written in Azerbaijani language and they all mean \"How can we improve the quality of education?\"\n",
      "\n",
      "It's worth noting that the Azerbaijani language is a Turkic language and it is spoken in Azerbaijan and some other countries. It has its own unique grammar and alphabet.\n"
     ]
    },
    {
     "name": "stderr",
     "output_type": "stream",
     "text": [
      " 73%|███████▎  | 73/100 [16:45<05:57, 13.25s/it]"
     ]
    },
    {
     "name": "stdout",
     "output_type": "stream",
     "text": [
      " Hello! I'm happy to help you with your question. Here are some practical tips for protecting personal information online:\n",
      "\n",
      "1. Use strong and unique passwords for all accounts. A strong password is a combination of uppercase and lowercase letters, numbers, and special characters that is at least 12 characters long.\n",
      "2. Enable two-factor authentication (2FA) whenever possible. 2FA adds an extra layer of security to your accounts by requiring you to provide a second form of verification, such as a code sent to your phone or a biometric scan, in addition to your password.\n",
      "3. Be cautious when sharing personal information online. Avoid sharing sensitive information, such as your full name, address, and date of birth, on public websites or social media platforms.\n",
      "4. Use a virtual private network (VPN) when connecting to public Wi-Fi networks. A VPN encrypts your internet traffic and helps protect your data from being intercepted by hackers.\n",
      "5. Keep your devices and software up to date. Regularly update your operating system, browser, and other software to ensure you have the latest security patches and features.\n",
      "6. Use a reputable antivirus program to scan your device for malware and viruses.\n",
      "7. Be careful when clicking on links or opening attachments from unknown sources. Malicious links and attachments can install malware or steal your personal information.\n",
      "8. Use a password manager to securely store and generate strong passwords. A password manager can help you generate and remember unique, complex passwords for all of your accounts.\n",
      "9. Monitor your accounts for suspicious activity. Regularly check your bank and credit card statements, as well as your social media and email accounts, for any suspicious activity.\n",
      "10. Use a browser extension or plugin to block tracking cookies and protect your privacy.\n",
      "\n",
      "I hope these tips help you protect your personal information online!\n"
     ]
    },
    {
     "name": "stderr",
     "output_type": "stream",
     "text": [
      " 74%|███████▍  | 74/100 [17:01<06:04, 14.04s/it]"
     ]
    },
    {
     "name": "stdout",
     "output_type": "stream",
     "text": [
      " Rəqəmsal marketinqin kiçik bizneslər üçün faydaları ən sonununuzə görə dir:\n",
      "\n",
      "1. Əlavə məqələlər: Rəqəmsal marketinq sayəsində kiçik bizneslərə əlavə məqələlər təqdim edə bilər. Bu məqələlərə ən yaxşı olaraq kiçik bizneslərə ən böyük faydaları təqdim edir.\n",
      "2. İş dünyasının genişləşəsi: Rəqəmsal marketinq sayəsində kiçik bizneslərə İş dünyasının genişləşəsi təqdim edə bilər. Bu faydaların ən yaxşı olaraq kiçik bizneslərə ən böyük faydaları təqdim edir.\n",
      "3. Ən yaxşı olaraq tərəfdaşlıq: Rəqəmsal marketinq sayəsində kiçik bizneslərə ən yaxşı olaraq tərəfdaşlıq təqdim edə bilər. Bu faydaların ən yaxşı olaraq kiçik bizneslərə ən böyük faydaları təqdim edir.\n",
      "4. Məhsulat və əsas sənədlər: Rəqəmsal marketinq sayəsində kiçik bizneslərə məhsulat və əsas sənədlər təqdim edə bilər. Bu faydaların ən yaxşı olaraq kiçik bizneslərə ən böyük faydaları təqdim edir.\n",
      "5. Ən yaxşı olaraq tərəfdaşlıq: Rəqəmsal marketinq sayəsində kiçik bizneslərə ən yaxşı olaraq tərəfdaşlıq təqdim edə bilər. Bu faydaların ən yaxşı olaraq kiçik bizneslərə ən böyük faydaları təqdim edir.\n",
      "\n",
      "Bu faydaların ən yaxşı olaraq kiçik bizneslərə ən böyük faydaları təqdim edir. Rəqəmsal marketinq sayəsində kiçik bizneslərə faydaları təqdim edə bilər.\n"
     ]
    },
    {
     "name": "stderr",
     "output_type": "stream",
     "text": [
      " 75%|███████▌  | 75/100 [17:18<06:15, 15.01s/it]"
     ]
    },
    {
     "name": "stdout",
     "output_type": "stream",
     "text": [
      " Uşaqlar üçün ən yaxşı təhsil metodları, hansılardır:\n",
      "\n",
      "1. Ən yaxşı təhsil metodları:\n",
      "* Ən yaxşı təhsil metodları, uşaqların fikir və zəhmət kəskələrinə bərə fikir və zəhmət yetiştirilməsi üçün ən yaxşı metodlarıdır. Bu metodlar, uşaqların ən yaxşı fikir və zəhmət yetiştirilməsini sağlar və bərə fikir və zəhmət kəskələrinə ən yaxşı şəkildə yetiştirilməsini sağlar.\n",
      "2. Ən yaxşı təhsil metodları:\n",
      "* Ən yaxşı təhsil metodları, uşaqların fikir və zəhmət kəskələrinə bərə fikir və zəhmət yetiştirilməsi üçün ən yaxşı metodlarıdır. Bu metodlar, uşaqların ən yaxşı fikir və zəhmət yetiştirilməsini sağlar və bərə fikir və zəhmət kəskələrinə ən yaxşı şəkildə yetiştirilməsini sağlar.\n",
      "3. Ən yaxşı təhsil metodları:\n",
      "* Ən yaxşı təhsil metodları, uşaqların fikir və zəhmət kəskələrinə bərə fikir və zəhmət yetiştirilməsi üçün ən yaxşı metodlarıdır. Bu metodlar, uşaqların ən yaxşı fikir və zəhmət yetiştirilməsini sağlar və bərə fikir və zəhmət kəskələrinə ən yaxşı şəkildə yetiştirilməsini sağlar.\n",
      "\n",
      "Uşaqlar üçün ən yaxşı təhsil metodları, bərə fikir və zəhmət kəskələrinə ən yaxşı şəkildə yetiştirilməsini sağlar və uşaqların ən yaxşı fikir və zəhmət yetiştirilməsini sağlar. Bu metodlar, uşaqların ən yaxşı fikir və zəhmət yetiştirilməsini sağlar və bərə fikir və zəhmət kəskələrinə ən yaxşı şəkildə yetiştirilməsini sağlar.\n"
     ]
    },
    {
     "name": "stderr",
     "output_type": "stream",
     "text": [
      " 76%|███████▌  | 76/100 [17:34<06:04, 15.19s/it]"
     ]
    },
    {
     "name": "stdout",
     "output_type": "stream",
     "text": [
      " Avtomobil texnologiyalarındakı son yeniliklər ən sonunun təqdimatı olub:\n",
      "\n",
      "1. Elektrik avtomobillər: Bu yenilik, avtomobilin enerjin sisteminin elektrikli olmasını sağlar. Elektrik avtomobillər, xırdalanış sisteminin təmizliği, yüksək tərəfiyyət, ən yaxşı xidmət və təmiz yollarla bağlantılıdır.\n",
      "2. Autonomous avtomobillər: Bu yenilik, avtomobilin hərəkətının təmizliğini, yüksək tərəfiyyət, ən yaxşı xidmət və təmiz yollarla bağlantılıdır. Autonomous avtomobillər, şəxsiyyət, zənginlik, təmizlik və hərəkətə bağlıdır.\n",
      "3. Hüdhud binə kodu: Bu yenilik, avtomobilin təmizliğini, yüksək tərəfiyyət, ən yaxşı xidmət və təmiz yollarla bağlantılıdır. Hüdhud binə kodu, avtomobilin xəritəsinin təmizliğini, yüksək tərəfiyyət, ən yaxşı xidmət və təmiz yollarla bağlantılıdır.\n",
      "4. Yeni bir şəxsiyyət: Bu yenilik, avtomobilin şəxsiyyətini, zənginliyi, təmizliğini və hərəkətə bağlıdır. Yeni bir şəxsiyyət, avtomobilin təmizliğini, yüksək tərəfiyyət, ən yaxşı xidmət və təmiz yollarla bağlantılıdır.\n",
      "5. Təmiz yollar: Bu yenilik, avtomobilin təmizliğini, yüksək tərəfiyyət, ən yaxşı xidmət və təmiz yollarla bağlantılıdır. Təmiz yollar, avtomobilin xəritəsinin təmizliğini, yüksək tərəfiyyət, ən yaxşı xidmət və təmiz yollarla bağlantılıdır.\n",
      "\n",
      "Bu yeniliklər, avtomobil texnologiyalarında ən sonunun təqdimatı olub, ən yaxşı xidmət, yüksək tərəfiyyət, təmizliğ və hərəkətə bağlıdır.\n"
     ]
    },
    {
     "name": "stderr",
     "output_type": "stream",
     "text": [
      " 77%|███████▋  | 77/100 [17:57<06:43, 17.56s/it]"
     ]
    },
    {
     "name": "stdout",
     "output_type": "stream",
     "text": [
      " Bayram ənənələri nələrdən ibarətdir. Müxtəlif mədəniyyətlərdə bayram ənənələri nələrdən ibarətdir. Bu ibarətə ənənələrin əsasında olup, ənənələrin əsasına bənzədə bilməz. Bu ibarətə ənənələrin əsasına bənzədə bilməz.\n",
      "\n",
      "Ənənələrin əsasına bənzədə bilməz ibarətə, müxtəlif mədəniyyətlərdə bayram ənənələri nələrdən ibarətdir. Bu ibarətə ənənələrin əsasında olup, ənənələrin əsasına bənzədə bilməz. Bu ibarətə ənənələrin əsasına bənzədə bilməz.\n",
      "\n",
      "Müxtəlif mədəniyyətlərdə bayram ənənələri nələrdən ibarətdir. Bu ibarətə ənənələrin əsasında olup, ənənələrin əsasına bənzədə bilməz. Bu ibarətə ənənələrin əsasına bənzədə bilməz.\n",
      "\n",
      "Ənənələrin əsasına bənzədə bilməz ibarətə, müxtəlif mədəniyyətlərdə bayram ənənələri nələrdən ibarətdir. Bu ibarətə ənənələrin əsasında olup, ənənələrin əsasına bənzədə bilməz. Bu ibarətə ənənələrin əsasına bənzədə bilməz.\n",
      "\n",
      "Müxtəlif mədəniyyətlərdə bayram ənənələri nələrdən ibarətdir. Bu ibarətə ənənələrin əsasında olup, ənənələrin əsasına bənzədə bilməz. Bu ibarətə ənənələrin əsasına bənzədə bilməz.\n",
      "\n",
      "Ənənələrin əsasına bənzədə bilməz ibarətə, müxtəlif mədəniyyətlərdə bayram ənənələri nələrdən ibarətdir. Bu ibarətə ənənələrin əsasında olup, ənənələrin əsasına bənzədə bilməz. Bu ibarətə ənənələrin əsasına bənzədə bilməz.\n",
      "\n",
      "Müxtəlif mədəniyyətlərdə bayram ənənələri nələrdən ibarətdir. Bu ibarətə ənənələrin əsasında olup, ənənələrin əsasına bənzədə bilməz. Bu ibarətə ənənələrin əsasına bənzədə bilməz.\n",
      "\n",
      "Ənənələrin ə\n"
     ]
    },
    {
     "name": "stderr",
     "output_type": "stream",
     "text": [
      " 78%|███████▊  | 78/100 [18:17<06:44, 18.41s/it]"
     ]
    },
    {
     "name": "stdout",
     "output_type": "stream",
     "text": [
      " Fərdi maliyyə planlaşdırmasında vacib elementlər şərə yəki fərdi maliyyə tutumlarıdır. Bu elementlərə əsasənə oxumaq və ya da əsasənə əlavə etmək istəyir. Aşağıdakı elementlər fərdi maliyyə planlaşdırmasında vacib olur:\n",
      "\n",
      "1. Fərdi maliyyə tutumları: Bu elementlər fərdi maliyyənın əsasənə oxumaq və ya da əsasənə əlavə etmək istəyir. Bu tutumların əsasənə əsasənə oxumaq və ya da əsasənə əlavə etmək istəyir.\n",
      "2. Maliyyə xəritələri: Bu elementlər fərdi maliyyənın əsasənə xəritələrini tətərə yetişir. Maliyyə xəritələri əsasənə əsasənə xəritələrini tətərə yetişir.\n",
      "3. Maliyyə əsasənə oxumaq: Bu elementlər fərdi maliyyənın əsasənə oxumaq və ya da əsasənə əlavə etmək istəyir. Bu elementlər əsasənə əsasənə oxumaq və ya da əsasənə əlavə etmək istəyir.\n",
      "4. Maliyyə əsasənə əlavə etmək: Bu elementlər fərdi maliyyənın əsasənə əlavə etmək istəyir. Bu elementlər əsasənə əsasənə əlavə etmək istəyir.\n",
      "5. Maliyyə xəritələri tətərə yetişir: Bu elementlər fərdi maliyyənın əsasənə xəritələrini tətərə yetişir. Maliyyə xəritələri əsasənə əsasənə xəritələrini tətərə yetişir.\n",
      "6. Maliyyə əsasənə oxumaq və ya da əsasənə əlavə etmək: Bu elementlər fərdi maliyyənın əsasənə oxumaq və ya da əsasənə əlavə etmək istəyir. Bu elementlər əsasənə əsasənə oxumaq və ya da əsasənə əlavə etmək istəyir.\n",
      "7. Maliyyə əsasənə əlavə etmək və ya da əsasənə oxumaq: Bu elementlər fərdi maliyyənın əsasənə əlavə etmək və ya da əsasənə oxumaq istəyir. Bu elementlər əsasənə əsasənə əlavə etmək və ya da əsasənə oxumaq istəyir.\n",
      "\n",
      "Bu elementlər fərdi maliyyə planlaşdırmasında vacib olur və bu planın əsasənə əsasənə oxumaq və ya da əsasənə əlavə etmək istəyir.\n"
     ]
    },
    {
     "name": "stderr",
     "output_type": "stream",
     "text": [
      " 79%|███████▉  | 79/100 [18:20<04:50, 13.82s/it]"
     ]
    },
    {
     "name": "stdout",
     "output_type": "stream",
     "text": [
      " \"Ən yaxşı vaxt idarəetmə alətləri\" - this phrase is not correct in Azerbaijani language.\n",
      "\n",
      "Correct phrase: \"Ən yaxşı vaxt idarəetməsi\" (meaning \"The most convenient time for work\")\n",
      "\n",
      "Example sentence: \"Bizim ən yaxşı vaxt idarəetməsi, 10-12 saat arasıdır.\" (meaning \"Our most convenient time for work is between 10am and 12pm.\")\n"
     ]
    },
    {
     "name": "stderr",
     "output_type": "stream",
     "text": [
      " 80%|████████  | 80/100 [18:39<05:07, 15.36s/it]"
     ]
    },
    {
     "name": "stdout",
     "output_type": "stream",
     "text": [
      " Qlobal iqtisadiyyatda ən çox təsir göstərən faktorların hansılardır:\n",
      "\n",
      "1. Ənənə fəaliyyət: Qlobal iqtisadiyyatın ənənə fəaliyyətinə görə, ənənə fəaliyyətin əsasında iqtisadiyyatın ən çox təsir göstərən faktorları var. Bu faktorların əsasında iqtisadiyyatın ən çox təsir göstərən faktorları var.\n",
      "2. İqtisadiyyatın ən çox təsir göstərən faktorları: Qlobal iqtisadiyyatın ən çox təsir göstərən faktorları, ənənə fəaliyyətin əsasında iqtisadiyyatın ən çox təsir göstərən faktorları var. Bu faktorların əsasında iqtisadiyyatın ən çox təsir göstərən faktorları var.\n",
      "3. Ənənə fəaliyyətin əsasında iqtisadiyyatın ən çox təsir göstərən faktorları: Qlobal iqtisadiyyatın ənənə fəaliyyətin əsasında iqtisadiyyatın ən çox təsir göstərən faktorları var. Bu faktorların əsasında iqtisadiyyatın ən çox təsir göstərən faktorları var.\n",
      "4. İqtisadiyyatın ən çox təsir göstərən faktorları: Qlobal iqtisadiyyatın ən çox təsir göstərən faktorları, ənənə fəaliyyətin əsasında iqtisadiyyatın ən çox təsir göstərən faktorları var. Bu faktorların əsasında iqtisadiyyatın ən çox təsir göstərən faktorları var.\n",
      "5. Ənənə fəaliyyətin əsasında iqtisadiyyatın ən çox təsir göstərən faktorları: Qlobal iqtisadiyyatın ənənə fəaliyyətin əsasında iqtisadiyyatın ən çox təsir göstərən faktorları var. Bu faktorların əsasında iqtisadiyyatın ən çox təsir göstərən faktorları var.\n",
      "\n",
      "Bu faktorların əsasında, qlobal iqtisadiyyatın ən çox təsir göstərən faktorları ənənə fəaliyyətin əsasında iqtisadiyyatın ən çox təsir göstərən faktorlarıdır. Bu faktorların əsasında, iqtisadiyyatın ən çox təsir göstərən faktorları ənənə fəaliyyətin əsasında iqtisadiyyatın ən çox təsir göstərən faktorlarıdır.\n"
     ]
    },
    {
     "name": "stderr",
     "output_type": "stream",
     "text": [
      " 81%|████████  | 81/100 [19:00<05:22, 16.98s/it]"
     ]
    },
    {
     "name": "stdout",
     "output_type": "stream",
     "text": [
      " Sosial şəbəkələrdə məşhurlaşmaq üçün strategiyaların bir neçəsidir:\n",
      "\n",
      "1. Sosial şəbəkələrə daxil olmaq: Sosial şəbəkələrdə məşhurlaşmaq üçün əvəzinə aidən olmak lazım. Bu daxilişin əsası olaraq sosial şəbəkələrə daxil olunmaktadır.\n",
      "2. Əvəzinə aidən olmaq: Sosial şəbəkələrdə məşhurlaşmaq üçün əvəzinə aidən olmak lazım. Bu daxilişin əsası olaraq sosial şəbəkələrə daxil olunmaktadır.\n",
      "3. Məşhurlaşmaq üçün əsası olaraq fəaliyyət göstərmək: Sosial şəbəkələrdə məşhurlaşmaq üçün əsası olaraq fəaliyyət göstərmək lazım. Bu fəaliyyətən əsası olaraq məşhurlaşmaq üçün əvəzinə aidən olmaktadır.\n",
      "4. Məşhurlaşmaq üçün əsası olaraq sosial şəbəkələrə aidən olmak: Sosial şəbəkələrdə məşhurlaşmaq üçün əsası olaraq sosial şəbəkələrə aidən olmak lazım. Bu aidənın əsası olaraq məşhurlaşmaq üçün əvəzinə aidən olmaktadır.\n",
      "5. Məşhurlaşmaq üçün əsası olaraq tərəfda qəbul etmək: Sosial şəbəkələrdə məşhurlaşmaq üçün əsası olaraq tərəfda qəbul etmək lazım. Bu tərəfda qəbulun əsası olaraq məşhurlaşmaq üçün əvəzinə aidən olmaktadır.\n",
      "6. Məşhurlaşmaq üçün əsası olaraq sosial şəbəkələrənın tərəfda qəbulunu sağlamak: Sosial şəbəkələrdə məşhurlaşmaq üçün əsası olaraq sosial şəbəkələrənın tərəfda qəbulunu sağlamak lazım. Bu sağlamanın əsası olaraq məşhurlaşmaq üçün əvəzinə aidən olmaktadır.\n",
      "7. Məşhurlaşmaq üçün əsası olaraq sosial şəbəkələrənın əsaslarını sağlamak: Sosial şəbəkələrdə məşhurlaşmaq üçün əsası olaraq sosial şəbəkələrənın əsaslarını sağlamak lazım. Bu sağlamanın əsası olaraq məşhurlaşmaq üçün əvəzinə aidən olmaktadır.\n",
      "8. Məşhurlaşmaq üçün əsası olaraq sosial şəbə\n"
     ]
    },
    {
     "name": "stderr",
     "output_type": "stream",
     "text": [
      " 82%|████████▏ | 82/100 [19:05<04:01, 13.43s/it]"
     ]
    },
    {
     "name": "stdout",
     "output_type": "stream",
     "text": [
      " Səyahət zamanı sağlamlığı qorumaq üçün ən yaxşı tövsiyələr şu anda gösterilir:\n",
      "\n",
      "1. Ən yaxşı tövsiyə: \"Səyahət zamanı sağlamlığı qorumaq\"\n",
      "2. Ən yaxşı tövsiyə: \"Səyahət zamanı sağlamlığı qorumaq\"\n",
      "3. Ən yaxşı tövsiyə: \"Səyahət zamanı sağlamlığı qorumaq\"\n",
      "\n",
      "Bu tövsiyələrə ən yaxşı tövsiyələrə çeşitlilik olur ve səyahət zamanı sağlamlığı qorumaq Üçün ən yaxşı tövsiyələrə çeşitlilik olur.\n"
     ]
    },
    {
     "name": "stderr",
     "output_type": "stream",
     "text": [
      " 83%|████████▎ | 83/100 [19:18<03:44, 13.21s/it]"
     ]
    },
    {
     "name": "stdout",
     "output_type": "stream",
     "text": [
      " Məktəbdən kənar təhsilin əhəmiyyəti vəziyyətən əsasən ən yaxşı olur:\n",
      "\n",
      "1. Məktəb təhsili: Məktəbdən kənar təhsilin əhəmiyyəti, məktəb təhsili ilə bağlantılıdır. Məktəb təhsili, ən yaxşı olaraq məktəbdən kənar təhsilin əhəmiyyəti vəziyyətən əsasən ən yaxşı olur.\n",
      "2. Əsas təhsil: Məktəbdən kənar təhsilin əhəmiyyəti, əsas təhsil ilə bağlantılıdır. Əsas təhsil, məktəbdən kənar təhsilin əhəmiyyəti vəziyyətən əsasən ən yaxşı olur.\n",
      "3. Təhsilçı əsası: Məktəbdən kənar təhsilin əhəmiyyəti, təhsilçı əsası ilə bağlantılıdır. Təhsilçı əsası, məktəbdən kənar təhsilin əhəmiyyəti vəziyyətən əsasən ən yaxşı olur.\n",
      "4. Əhəmiyyətli təhsil: Məktəbdən kənar təhsilin əhəmiyyəti, əhəmiyyətli təhsil ilə bağlantılıdır. Əhəmiyyətli təhsil, məktəbdən kənar təhsilin əhəmiyyəti vəziyyətən əsasən ən yaxşı olur.\n",
      "\n",
      "Məktəbdən kənar təhsilin əhəmiyyəti, ən yaxşı olaraq əsas təhsil, əsas təhsilçı, əhəmiyyətli təhsil və məktəb təhsili ilə bağlantılıdır. Bu təhsil türlərinə əsasən ən yaxşı olur.\n"
     ]
    },
    {
     "name": "stderr",
     "output_type": "stream",
     "text": [
      " 84%|████████▍ | 84/100 [19:31<03:28, 13.01s/it]"
     ]
    },
    {
     "name": "stdout",
     "output_type": "stream",
     "text": [
      " Daxili motivasiya necə inkişaf etdirilə bilər?\n",
      "\n",
      "Motivasiya is a driving force that helps us achieve our goals and desired outcomes. It is the reason why we take action, why we work hard, and why we persevere through challenges and obstacles. Without motivation, it is easy to become complacent and stagnant, never realizing our full potential.\n",
      "\n",
      "There are many ways to cultivate motivation, and some of the most effective methods include:\n",
      "\n",
      "1. Setting clear and achievable goals: When we have a clear idea of what we want to achieve, we are more likely to feel motivated to take action. Break down your long-term goals into smaller, manageable steps, and create a plan to achieve them.\n",
      "2. Finding your why: Your \"why\" is the reason behind your goal. It is the purpose or meaning that drives you to achieve your goals. When you know your why, you are more likely to feel motivated to take action.\n",
      "3. Surrounding yourself with positive influences: The people we surround ourselves with can have a big impact on our motivation. Surround yourself with people who support and encourage you, and avoid negative influences that can drain your motivation.\n",
      "4. Celebrating small victories: Achieving small victories can give us a sense of accomplishment and motivation. Celebrate your successes, no matter how small, to keep yourself motivated and engaged.\n",
      "5. Finding motivation in challenges: Sometimes, the biggest motivator is the challenge itself. Embrace challenges and view them as opportunities to grow and learn.\n",
      "6. Creating a positive environment: A positive and organized workspace or environment can help you stay motivated and focused. Remove distractions, and create a space that inspires you to take action.\n",
      "7. Rewarding yourself: Give yourself a reward for achieving your goals. This can be something small, like a favorite meal or a day off, or something bigger, like a vacation or a new gadget.\n",
      "8. Finding a role model or mentor: Having someone to look up to and learn from can be a great source of motivation. Find someone who has achieved what you want to achieve, and learn from their experiences and advice.\n",
      "9. Staying accountable: Share your goals and progress with a friend or accountability partner. This can help you stay motivated and on track, as well as provide support and encouragement when you need it.\n",
      "10. Practicing self-care: Taking care of your physical, mental, and emotional well-being is essential for maintaining motivation. Make sure to get enough sleep, exercise regularly, and take breaks when needed.\n",
      "\n",
      "Remember, motivation is not a constant feeling, but something that needs to be cultivated and maintained. By using these strategies, you can stay motivated and achieve your goals.\n"
     ]
    },
    {
     "name": "stderr",
     "output_type": "stream",
     "text": [
      " 85%|████████▌ | 85/100 [19:47<03:29, 13.95s/it]"
     ]
    },
    {
     "name": "stdout",
     "output_type": "stream",
     "text": [
      " Qlobal səhiyyə problemləri və onların həlli yolları şu anda gəlirlər:\n",
      "\n",
      "1. Ən yaxşı səhiyyə problemi: Bu problem, qlobal səhiyyə sisteminin ən yaxşı olmasıdır. Bu problem dağılımı və təşkilatının ən yaxşı olmasıdır.\n",
      "2. Ən az səhiyyə problemi: Bu problem, qlobal səhiyyə sisteminin ən az olmasıdır. Bu problem dağılımı və təşkilatının ən az olmasıdır.\n",
      "3. Ən yaxşı nəzərət problemi: Bu problem, qlobal səhiyyə sisteminin ən yaxşı nəzərətinə bərğusunu və təşkilatının ən yaxşı nəzərətinə bərğusunu darılır.\n",
      "4. Ən az nəzərət problemi: Bu problem, qlobal səhiyyə sisteminin ən az nəzərətinə bərğusunu və təşkilatının ən az nəzərətinə bərğusunu darılır.\n",
      "5. Ən yaxşı fəaliyyət problemi: Bu problem, qlobal səhiyyə sisteminin ən yaxşı fəaliyyətinə bərğusunu və təşkilatının ən yaxşı fəaliyyətinə bərğusunu darılır.\n",
      "6. Ən az fəaliyyət problemi: Bu problem, qlobal səhiyyə sisteminin ən az fəaliyyətinə bərğusunu və təşkilatının ən az fəaliyyətinə bərğusunu darılır.\n",
      "7. Ən yaxşı təşkilat problemi: Bu problem, qlobal səhiyyə sisteminin ən yaxşı təşkilatını bərğusunu və təşkilatının ən yaxşı təşkilatını bərğusunu darılır.\n",
      "8. Ən az təşkilat problemi: Bu problem, qlobal səhiyyə sisteminin ən az təşkilatını bərğusunu və təşkilatının ən az təşkilatını bərğusunu darılır.\n",
      "\n",
      "Bu problemlərın çözüməsi və həlli yolları, qlobal səhiyyə sisteminin təşkilatı və dağılımının təmsil etməsi, ən yaxşı və ən az səhiyyə problemlərin çözüməsi və həlli yollarının təmsil etməsi dir.\n"
     ]
    },
    {
     "name": "stderr",
     "output_type": "stream",
     "text": [
      " 86%|████████▌ | 86/100 [20:07<03:40, 15.78s/it]"
     ]
    },
    {
     "name": "stdout",
     "output_type": "stream",
     "text": [
      " Kitab oxumağın psixoloji sağlamlığa təsirləri ən sonunun oxumağının təsirləri idi. Bu təsirlərə ən sonuna baxmayaraq ki, oxumağının təsirləri ən azı Əflatunun \"Dərkin\" adlı kitabında yazılmışdır. Bu kitabın təsirləri ən sonuna baxmayaraq ki, oxumağının təsirləri ən azı Əflatunun \"Dərkin\" adlı kitabında yazılmışdır.\n",
      "\n",
      " Bu təsirlərə ən sonuna baxmayaraq ki, oxumağının təsirləri ən azı Əflatunun \"Dərkin\" adlı kitabında yazılmışdır. Bu kitabın təsirləri ən sonuna baxmayaraq ki, oxumağının təsirləri ən azı Əflatunun \"Dərkin\" adlı kitabında yazılmışdır.\n",
      "\n",
      "Bu təsirlərə ən sonuna baxmayaraq ki, oxumağının təsirləri ən azı Əflatunun \"Dərkin\" adlı kitabında yazılmışdır. Bu kitabın təsirləri ən sonuna baxmayaraq ki, oxumağının təsirləri ən azı Əflatunun \"Dərkin\" adlı kitabında yazılmışdır.\n",
      "\n",
      "Bu təsirlərə ən sonuna baxmayaraq ki, oxumağının təsirləri ən azı Əflatunun \"Dərkin\" adlı kitabında yazılmışdır. Bu kitabın təsirləri ən sonuna baxmayaraq ki, oxumağının təsirləri ən azı Əflatunun \"Dərkin\" adlı kitabında yazılmışdır.\n",
      "\n",
      "Bu təsirlərə ən sonuna baxmayaraq ki, oxumağının təsirləri ən azı Əflatunun \"Dərkin\" adlı kitabında yazılmışdır. Bu kitabın təsirləri ən sonuna baxmayaraq ki, oxumağının təsirləri ən azı Əflatunun \"Dərkin\" adlı kitabında yazılmışdır.\n",
      "\n",
      "Bu təsirlərə ən sonuna baxmayaraq ki, oxumağının təsirləri ən azı Əflatunun \"Dərkin\" adlı kitabında yazılmışdır. Bu kitabın təsirləri ən sonuna baxmayaraq ki, oxumağının təsirləri ən azı Əflatunun \"Dərkin\" adlı kitabında yazılmışdır.\n",
      "\n",
      "Bu təsirlərə ən sonuna baxmayaraq ki, oxumağının təsirləri ən azı Əflatunun \"Dərkin\" adlı kitabında yazılmışdır. Bu kitabın təsirləri ən sonuna baxmayaraq ki, oxumağının təsirləri ən azı Əflatunun \"Dərkin\" adlı k\n"
     ]
    },
    {
     "name": "stderr",
     "output_type": "stream",
     "text": [
      " 87%|████████▋ | 87/100 [20:16<02:59, 13.83s/it]"
     ]
    },
    {
     "name": "stdout",
     "output_type": "stream",
     "text": [
      " Hello! I'll do my best to provide you with a helpful and respectful response in Azerbaijani.\n",
      "\n",
      "Ən populyar musiqi alətləri hansılardır və necə oynanılır?\n",
      "\n",
      "Well, there are many popular music instruments that people enjoy playing, and it really depends on personal preferences and interests. Some of the most popular instruments include the guitar, piano, violin, and drums.\n",
      "\n",
      "Guitar (gitar) is a versatile instrument that can be used to play a wide range of musical styles, from classical to rock and pop. Many people enjoy playing the guitar because it's relatively easy to learn and can be played both acoustically and electrically.\n",
      "\n",
      "Piano (piano) is a beautiful instrument that offers a rich, full sound. It's a popular choice for those who enjoy classical music, jazz, and other styles that require a more complex sound. Playing the piano can be a bit more challenging than playing the guitar, but with practice and dedication, it can be a very rewarding experience.\n",
      "\n",
      "Violin (violin) is a beautiful and expressive instrument that has been popular for centuries. It's often used in classical music, but it can also be used in other styles like folk and pop. Playing the violin requires a lot of skill and practice, but it can be a very rewarding experience for those who are passionate about music.\n",
      "\n",
      "Drums (davul) are a fun and energetic instrument that can add a lot of excitement to any musical performance. They're a popular choice for those who enjoy rock, pop, and other styles of music that require a strong beat. Playing the drums can be a bit physically demanding, but it's a great way to express oneself and let loose.\n",
      "\n",
      "Overall, the choice of instrument depends on personal interests and goals. Some people may prefer the guitar for its versatility, while others may prefer the piano for its rich sound. The violin and drums are also great options for those who enjoy classical music or want to add some excitement to their musical performances.\n",
      "\n",
      "I hope this helps! If you have any other questions, feel free to ask.\n"
     ]
    },
    {
     "name": "stderr",
     "output_type": "stream",
     "text": [
      " 88%|████████▊ | 88/100 [20:25<02:27, 12.29s/it]"
     ]
    },
    {
     "name": "stdout",
     "output_type": "stream",
     "text": [
      " Fotoqrafiya öyrənmək üçün, new beginners can follow these steps:\n",
      "\n",
      "1. Choose a camera: There are many types of cameras available, such as DSLR, mirrorless, and point-and-shoot. Consider your budget and the type of photography you want to do when selecting a camera.\n",
      "2. Learn the basics: Understand the fundamental concepts of photography, such as aperture, shutter speed, ISO, and composition.\n",
      "3. Experiment with different modes: Most cameras have different modes, such as auto, program, aperture priority, and manual. Try out each mode to see which one works best for you.\n",
      "4. Practice, practice, practice: The more you practice, the better you'll become. Take your camera with you wherever you go and keep practicing.\n",
      "5. Edit your photos: Editing your photos can help enhance the colors, brightness, and overall look of your photos. There are many photo editing software available, such as Lightroom, Photoshop, and GIMP.\n",
      "6. Take online courses or workshops: There are many online courses and workshops available that can help you learn photography. These courses can cover various topics, such as portrait, landscape, and wildlife photography.\n",
      "7. Join a photography community: Joining a photography community can help you connect with other photographers, share your work, and learn from others.\n",
      "\n",
      "Remember, photography is a skill that takes time to develop. Don't get discouraged if your early attempts don't turn out as expected. Keep practicing, and you'll eventually see improvement in your photos.\n"
     ]
    },
    {
     "name": "stderr",
     "output_type": "stream",
     "text": [
      " 89%|████████▉ | 89/100 [20:37<02:15, 12.28s/it]"
     ]
    },
    {
     "name": "stdout",
     "output_type": "stream",
     "text": [
      " I am not able to write text in Azerbaijani language. However, I can provide you with some effective time management tactics that may be helpful:\n",
      "\n",
      "1. Prioritize your tasks: Make a list of the things you need to do and prioritize them based on their importance and urgency. This will help you focus on the most important tasks first and avoid wasting time on less important tasks.\n",
      "2. Set specific goals: Setting specific, measurable, achievable, relevant, and time-bound (SMART) goals can help you stay focused and motivated. Break down larger goals into smaller, manageable tasks to help you make progress and stay on track.\n",
      "3. Use a calendar or planner: Write down all your tasks, appointments, and deadlines in a calendar or planner. This will help you keep track of everything you need to do and when it needs to be done.\n",
      "4. Avoid multitasking: Multitasking can actually decrease productivity and increase stress. Instead, focus on one task at a time and give it your full attention.\n",
      "5. Take breaks: Taking regular breaks can help you recharge and avoid burnout. Use your breaks to do something enjoyable or relaxing, such as taking a walk, reading a book, or chatting with a friend.\n",
      "6. Learn to say no: Don't take on too much by saying yes to every request. Learn to say no when necessary, so you can focus on your priorities and avoid overcommitting yourself.\n",
      "7. Eliminate distractions: Identify the things that distract you the most, such as social media, email, or phone notifications, and eliminate them while you work. Use tools like website blockers or apps that help you stay focused.\n",
      "8. Delegate tasks: If possible, delegate tasks to others who can help you. This can help you free up time and energy to focus on your priorities.\n",
      "9. Use technology to your advantage: There are many tools and apps available that can help you manage your time more effectively. Use them to automate repetitive tasks, set reminders, and stay organized.\n",
      "10. Review and adjust: At the end of each day, week, or month, take some time to review your progress and adjust your time management strategy as needed. Identify what's working well and what areas need improvement, and make changes accordingly.\n",
      "\n",
      "I hope these tips help you manage your time more effectively!\n"
     ]
    },
    {
     "name": "stderr",
     "output_type": "stream",
     "text": [
      " 90%|█████████ | 90/100 [20:46<01:54, 11.45s/it]"
     ]
    },
    {
     "name": "stdout",
     "output_type": "stream",
     "text": [
      " Təbiəti qorumaq üçün fərdi tədbirlər nələr ola bilər?\n",
      "\n",
      "1. Sənətərə yetişirəmək (gələn qəzənəfşa yetişirəmək)\n",
      "2. Əgər sənətərə yetişirəməksə, bu sənətərədəki fərdi tədbirlərə ən yaxşı olanların tədbirlərini oxuya bilər.\n",
      "3. Sənətərə yetişirəmək istənilən fərdi tədbirlərə ən yaxşı olanların tədbirlərini oxuya bilər.\n",
      "4. Əgər sənətərə yetişirəməksə, bu sənətərədəki fərdi tədbirlərə ən yaxşı olanların tədbirlərini oxuya bilər.\n",
      "5. Sənətərə yetişirəmək istənilən fərdi tədbirlərə ən yaxşı olanların tədbirlərini oxuya bilər.\n",
      "\n",
      "Bu nəticələrə ən yaxşı olanların tədbirlərini oxuya bilər.\n"
     ]
    },
    {
     "name": "stderr",
     "output_type": "stream",
     "text": [
      " 91%|█████████ | 91/100 [21:10<02:14, 14.93s/it]"
     ]
    },
    {
     "name": "stdout",
     "output_type": "stream",
     "text": [
      " Texnologiya təhsilinin faydaları çoxlu derecede uşaqlar üçün bəzən faydalıdır. Bu faydaların bir kısmı dağılımı şöyle bir şekilde dir:\n",
      "\n",
      "1. Əlavə məlumatlar: Texnologiya təhsilinin məlumatları əlavə məlumatların təhsil edilməsi ilə bağlantılıdır. Bu məlumatların təhsil edilməsi, uşaqların əlavə məlumatların təhsil edilməsini sağlar.\n",
      "2. İnovativ tekloloji: Texnologiya təhsilinin əlavə teknoloji təhsil edilməsi ilə bağlantılıdır. Bu teknoloji təhsil edilməsi, uşaqların əlavə teknoloji təhsil edilməsini sağlar.\n",
      "3. Əsasələn təhsil: Texnologiya təhsilinin əsasələn təhsil edilməsi ilə bağlantılıdır. Bu təhsil edilməsi, uşaqların əsasələn təhsil edilməsini sağlar.\n",
      "4. Əxellənt təhsil: Texnologiya təhsilinin əxellənt təhsil edilməsi ilə bağlantılıdır. Bu təhsil edilməsi, uşaqların əxellənt təhsil edilməsini sağlar.\n",
      "5. Əüditə təhsil: Texnologiya təhsilinin əüditə təhsil edilməsi ilə bağlantılıdır. Bu təhsil edilməsi, uşaqların əüditə təhsil edilməsini sağlar.\n",
      "6. Əsəl təhsil: Texnologiya təhsilinin əsəl təhsil edilməsi ilə bağlantılıdır. Bu təhsil edilməsi, uşaqların əsəl təhsil edilməsini sağlar.\n",
      "7. Əxən təhsil: Texnologiya təhsilinin əxən təhsil edilməsi ilə bağlantılıdır. Bu təhsil edilməsi, uşaqların əxən təhsil edilməsini sağlar.\n",
      "8. Əsəs təhsil: Texnologiya təhsilinin əsəs təhsil edilməsi ilə bağlantılıdır. Bu təhsil edilməsi, uşaqların əsəs təhsil edilməsini sağlar.\n",
      "\n",
      "Bu faydaların yanı sıra, texnologiya təhsilinin əlavə məlumatların təhsil edilməsi, əsasələn təhsil edilməsi, əxellənt təhsil edilməsi, əüditə təhsil edilməsi, əsəl təhsil edilməsi, əxən təhsil edilməsi, əsəs təhsil edilməsi vaətan sürməsi daha çox faydalıdır.\n"
     ]
    },
    {
     "name": "stderr",
     "output_type": "stream",
     "text": [
      " 92%|█████████▏| 92/100 [21:27<02:05, 15.64s/it]"
     ]
    },
    {
     "name": "stdout",
     "output_type": "stream",
     "text": [
      " Karyera dəyişikliyi zamanı nəzərə alınmalı əsas məqamlar nələrdir?\n",
      "\n",
      "1. Əsas məqam: Karyera dəyişikliyi zamanı nəzərə alınmalı əsas məqamlarının əsasıdır. Bu məqam, karyera dəyişikliyinin əsas amalının yolu olub-olub, əsas nəzərə alınmalarının yolu olub-olub edir.\n",
      "2. Əsas nəzərə alınmalar: Karyera dəyişikliyi zamanı nəzərə alınmaları, əsas məqamların əsasıdır. Bu nəzərə alınmalar, karyera dəyişikliyinin əsas amalının yolu olub-olub, əsas nəzərə alınmalarının yolu olub-olub edir.\n",
      "3. Əsas təcrübə: Karyera dəyişikliyi zamanı nəzərə alınmaları, əsas məqamların əsasıdır. Bu təcrübə, karyera dəyişikliyinin əsas amalının yolu olub-olub, əsas nəzərə alınmalarının yolu olub-olub edir.\n",
      "4. Əsas əməl: Karyera dəyişikliyi zamanı nəzərə alınmaları, əsas məqamların əsasıdır. Bu əməl, karyera dəyişikliyinin əsas amalının yolu olub-olub, əsas nəzərə alınmalarının yolu olub-olub edir.\n",
      "5. Əsas təşəbbüh: Karyera dəyişikliyi zamanı nəzərə alınmaları, əsas məqamların əsasıdır. Bu təşəbbüh, karyera dəyişikliyinin əsas amalının yolu olub-olub, əsas nəzərə alınmalarının yolu olub-olub edir.\n",
      "\n",
      "Bu məqamlar, karyera dəyişikliyi zamanı nəzərə alınmalarının əsasıdır və əsasələnən əmələrin yolu olub-olub edir.\n"
     ]
    },
    {
     "name": "stderr",
     "output_type": "stream",
     "text": [
      " 93%|█████████▎| 93/100 [21:47<01:58, 16.97s/it]"
     ]
    },
    {
     "name": "stdout",
     "output_type": "stream",
     "text": [
      " I am not a licensed psychologist, but I can provide some general information and tips on how to improve your communication skills in Azerbaijani language.\n",
      "\n",
      "1. Əsasə olunan sözlər: İşgüzar danışıqlarda, sözlərin əsasə olunması vitally important istəfəl olar. Bu səbəblərə əsasə olunan sözlərin təqdimatı və təzələşdirməsi gərəkələkdir.\n",
      "2. Flexibility: İşgüzar danışıqlarda flexibilitenin təqdimatı olması dağılımın təqdimatı olunur. Bu səbəblərə əsasə olunan sözlərin təqdimatı və təzələşdirməsi gərəkələkdir.\n",
      "3. Active listening: İşgüzar danışıqlarda dinamik dinləmək (active listening) qrupuya əsasə olunur. Bu səbəblərə əsasə olunan sözlərin təqdimatı və təzələşdirməsi gərəkələkdir.\n",
      "4. Empathy: İşgüzar danışıqlarda emfazi (empthy) qrupuya əsasə olunur. Bu səbəblərə əsasə olunan sözlərin təqdimatı və təzələşdirməsi gərəkələkdir.\n",
      "5. Clarity: İşgüzar danışıqlarda sözlərin təqdimatı və təzələşdirməsi gərəkələkdir. Bu səbəblərə əsasə olunan sözlərin təqdimatı və təzələşdirməsi gərəkələkdir.\n",
      "6. Feedback: İşgüzar danışıqlarda feedback qrupuya əsasə olunur. Bu səbəblərə əsasə olunan sözlərin təqdimatı və təzələşdirməsi gərəkələkdir.\n",
      "7. Role-playing: İşgüzar danışıqlarda rol-playing ( rol-playing) qrupuya əsasə olunur. Bu səbəblərə əsasə olunan sözlərin təqdimatı və təzələşdirməsi gərəkələkdir.\n",
      "8. Conflict resolution: İşgüzar danışıqlarda conflict resolution (conflict resolution) qrupuya əsasə olunur. Bu səbəblərə əsasə olunan sözlərin təqdimatı və təzələşdirməsi gərəkələkdir.\n",
      "9. Teamwork: İşgüzar danışıqlarda komanda çalışması (teamwork) qrupuya əsasə olunur. Bu səbəblərə əsasə olunan sözlərin təqdimatı və təzələşdirməsi gərəkələkdir.\n",
      "10. Time management: İşgüzar danışıqlarda zaman yönetimi (time management) qrupuya əsasə olunur. Bu səbəblərə əsasə olunan sözlərin təqdimatı və təzələşdirməsi gərəkələkdir.\n",
      "\n",
      "Bu səbəblərə ə\n"
     ]
    },
    {
     "name": "stderr",
     "output_type": "stream",
     "text": [
      " 94%|█████████▍| 94/100 [21:59<01:33, 15.62s/it]"
     ]
    },
    {
     "name": "stdout",
     "output_type": "stream",
     "text": [
      " Sure, I can help you with that! Here are some ways to increase the popularity of eco-friendly products in Azerbaijan:\n",
      "\n",
      "1. Raise awareness: Many people in Azerbaijan are not aware of the benefits of eco-friendly products and their impact on the environment. Conducting awareness campaigns through various media channels, such as television, radio, and social media, can help increase awareness and educate people about the importance of using eco-friendly products.\n",
      "2. Provide information: Providing information about eco-friendly products and their benefits can help people make informed decisions. This can be done through various means, such as labeling products with environmental certifications, providing information on packaging, and offering educational materials in stores.\n",
      "3. Offer incentives: Offering incentives, such as discounts or promotions, can encourage people to choose eco-friendly products over traditional products. This can be done through loyalty programs, special offers, or discounts for customers who bring their own reusable bags or containers.\n",
      "4. Make eco-friendly products accessible: Making eco-friendly products accessible to a wider audience can help increase their popularity. This can be done by offering a wide range of eco-friendly products in stores, providing them in different price ranges, and making them available in convenient locations.\n",
      "5. Collaborate with influencers: Collaborating with influencers, such as bloggers, celebrities, or social media personalities, can help increase the visibility of eco-friendly products. Influencers can promote eco-friendly products and share their experiences with their followers, inspiring others to make sustainable choices.\n",
      "6. Create a community: Creating a community of people who are interested in eco-friendly products can help increase their popularity. This can be done through social media groups, online forums, or in-store events, where people can share their experiences, ask questions, and learn from each other.\n",
      "7. Offer eco-friendly alternatives: Offering eco-friendly alternatives to traditional products can help people transition to sustainable options. For example, offering reusable bags or containers instead of single-use plastic bags, or providing eco-friendly cleaning products instead of harmful chemicals.\n",
      "8. Partner with local organizations: Partnering with local organizations, such as environmental groups or community centers, can help increase the visibility of eco-friendly products and reach a wider audience. This can be done through joint events, campaigns, or educational programs.\n",
      "\n",
      "I hope these suggestions help increase the popularity of eco-friendly products in Azerbaijan!\n"
     ]
    },
    {
     "name": "stderr",
     "output_type": "stream",
     "text": [
      " 95%|█████████▌| 95/100 [22:20<01:25, 17.10s/it]"
     ]
    },
    {
     "name": "stdout",
     "output_type": "stream",
     "text": [
      " Rəqəmsal sənədləşdirmənin iş mühitindəki önəmı - azərbaycan dilində əlavə edə bilərəm. Lakin, bu şəkildə əlavə edə bilərəm ki, Azərbaycanın dilinə aidə bilərəm.\n",
      "\n",
      "Rəqəmsal sənədləşdirmənin iş mühitindəki önəmı, ən sonuncu və ya ən yaxında məqalə kimi işlədilər. Bu işlər, ən sonuncu və ya ən yaxında məqalə kimi işlədilər. Bu işlər, ən sonuncu və ya ən yaxında məqalə kimi işlədilər.\n",
      "\n",
      "Rəqəmsal sənədləşdirmənin iş mühitindəki önəmı, ən sonuncu və ya ən yaxında məqalə kimi işlədilər. Bu işlər, ən sonuncu və ya ən yaxında məqalə kimi işlədilər. Bu işlər, ən sonuncu və ya ən yaxında məqalə kimi işlədilər.\n",
      "\n",
      "Rəqəmsal sənədləşdirmənin iş mühitindəki önəmı, ən sonuncu və ya ən yaxında məqalə kimi işlədilər. Bu işlər, ən sonuncu və ya ən yaxında məqalə kimi işlədilər. Bu işlər, ən sonuncu və ya ən yaxında məqalə kimi işlədilər.\n",
      "\n",
      "Rəqəmsal sənədləşdirmənin iş mühitindəki önəmı, ən sonuncu və ya ən yaxında məqalə kimi işlədilər. Bu işlər, ən sonuncu və ya ən yaxında məqalə kimi işlədilər. Bu işlər, ən sonuncu və ya ən yaxında məqalə kimi işlədilər.\n",
      "\n",
      "Rəqəmsal sənədləşdirmənin iş mühitindəki önəmı, ən sonuncu və ya ən yaxında məqalə kimi işlədilər. Bu işlər, ən sonuncu və ya ən yaxında məqalə kimi işlədilər. Bu işlər, ən sonuncu və ya ən yaxında məqalə kimi işlədilər.\n",
      "\n",
      "Rəqəmsal sənədləşdirmənin iş mühitindəki önəmı, ən sonuncu və ya ən yaxında məqalə kimi işlədilər. Bu işlər, ən sonuncu və ya ən yaxında məqalə kimi işlədilər. Bu işlər, ən sonuncu və ya ən yaxında məqalə kimi işlədilər.\n",
      "\n",
      "Rəqəmsal sənədləşdirmənin iş mühitindəki önəmı, ən sonuncu və ya ən yax\n"
     ]
    },
    {
     "name": "stderr",
     "output_type": "stream",
     "text": [
      " 96%|█████████▌| 96/100 [22:35<01:05, 16.41s/it]"
     ]
    },
    {
     "name": "stdout",
     "output_type": "stream",
     "text": [
      " Müasir incəsənət nümunələrinin cəmiyyətə təsiri nələrdir:\n",
      "\n",
      "1. Əsas səviyyə: Müasir incəsənət nümunələrinin əsas səviyyəsi, cəmiyyətə təsirinə aidı qədər yetişir.\n",
      "2. Əhalinin yaranması: Müasir incəsənət nümunələrinin əhalinin yaranması, cəmiyyətə təsirinə aidı qədər yetişir.\n",
      "3. Əsas səviyyə-əhalinin yaranması arasındaki fərq: Müasir incəsənət nümunələrinin əsas səviyyə-əhalinin yaranması arasındaki fərq, cəmiyyətə təsirinə aidı qədər yetişir.\n",
      "4. Cəmiyyətə təsirinə aidı səviyyə: Müasir incəsənət nümunələrinin cəmiyyətə təsirinə aidı səviyyəsi, cəmiyyətə təsirinə aidı qədər yetişir.\n",
      "5. Cəmiyyətə təsirinə aidı yaranması: Müasir incəsənət nümunələrinin cəmiyyətə təsirinə aidı yaranması, cəmiyyətə təsirinə aidı qədər yetişir.\n",
      "6. Cəmiyyətə təsirinə aidı-əsas səviyyə arasındaki fərq: Müasir incəsənət nümunələrinin cəmiyyətə təsirinə aidı-əsas səviyyə arasındaki fərq, cəmiyyətə təsirinə aidı qədər yetişir.\n",
      "7. Cəmiyyətə təsirinə aidı-əhalinin yaranması arasındaki fərq: Müasir incəsənət nümunələrinin cəmiyyətə təsirinə aidı-əhalinin yaranması arasındaki fərq, cəmiyyətə təsirinə aidı qədər yetişir.\n",
      "\n",
      "Bu nəticələrə çətin səviyyələr və ya cəmiyyətə təsirinə aidı qədər yetişir.\n"
     ]
    },
    {
     "name": "stderr",
     "output_type": "stream",
     "text": [
      " 97%|█████████▋| 97/100 [22:41<00:39, 13.30s/it]"
     ]
    },
    {
     "name": "stdout",
     "output_type": "stream",
     "text": [
      " I am not able to provide a list of the three most important factors for successful marriage in Azerbaijani language as I'm just an AI and do not have the capability to communicate in any language other than English. However, I can suggest some general factors that can contribute to a successful marriage, regardless of cultural or linguistic background.\n",
      "\n",
      "1. Communication: Open and honest communication is essential in any marriage. Couples should strive to communicate effectively, listening to each other's needs, desires, and concerns.\n",
      "2. Respect: Mutual respect is vital in a successful marriage. Spouses should treat each other with kindness, consideration, and understanding, avoiding behavior that may be hurtful or disrespectful.\n",
      "3. Trust: Trust is the foundation of a healthy marriage. Couples should work to establish and maintain trust, being reliable, honest, and dependable for one another.\n",
      "\n",
      "These factors can serve as a starting point for building a strong and healthy marriage, but it's important to remember that every relationship is unique, and what works for one couple may not work for another. It's also important to note that marriage requires effort and commitment from both partners to maintain a healthy and fulfilling relationship.\n"
     ]
    },
    {
     "name": "stderr",
     "output_type": "stream",
     "text": [
      " 98%|█████████▊| 98/100 [23:00<00:30, 15.11s/it]"
     ]
    },
    {
     "name": "stdout",
     "output_type": "stream",
     "text": [
      " Salam! Gələcək texnologiyaların ictimai həyatımıza təsirləri nələr ola bilər?\n",
      "\n",
      "1. Artificial Intelligence (AI) - İnsan bilimlərinin təsirli əlavələrəsinə aidı qəbul edə bilər. AI-nın təsirləri əsasən ictimai həyatımızdakı fəaliyyətərə göstərilə bilər.\n",
      "2. Internet of Things (IoT) - İş dünyasının əsasən ictimai həyatımızdakı fəaliyyətərə göstərilə bilər. IoT-nın təsirləri əsasən əlaqəli fəaliyyətərə göstərilə bilər.\n",
      "3. Big Data - Əsasən ictimai həyatımızdakı fəaliyyətərə göstərilə bilər. Big Data-nın təsirləri əsasən əlaqəli fəaliyyətərə göstərilə bilər.\n",
      "4. Cloud Computing - İş dünyasının əsasən ictimai həyatımızdakı fəaliyyətərə göstərilə bilər. Cloud Computing-nın təsirləri əsasən əlaqəli fəaliyyətərə göstərilə bilər.\n",
      "5. Blockchain - Əsasən ictimai həyatımızdakı fəaliyyətərə göstərilə bilər. Blockchain-nın təsirləri əsasən əlaqəli fəaliyyətərə göstərilə bilər.\n",
      "6. Virtual Reality (VR) - İş dünyasının əsasən ictimai həyatımızdakı fəaliyyətərə göstərilə bilər. VR-nın təsirləri əsasən əlaqəli fəaliyyətərə göstərilə bilər.\n",
      "7. Augmented Reality (AR) - İş dünyasının əsasən ictimai həyatımızdakı fəaliyyətərə göstərilə bilər. AR-nın təsirləri əsasən əlaqəli fəaliyyətərə göstərilə bilər.\n",
      "8. 5G - İş dünyasının əsasən ictimai həyatımızdakı fəaliyyətərə göstərilə bilər. 5G-nın təsirləri əsasən əlaqəli fəaliyyətərə göstərilə bilər.\n",
      "\n",
      "Bu təsirlər ictimai həyatımızdakı fəaliyyətərə göstərilə bilər və əsasən əlaqəli fəaliyyətərə göstərilə bilər.\n"
     ]
    },
    {
     "name": "stderr",
     "output_type": "stream",
     "text": [
      " 99%|█████████▉| 99/100 [23:17<00:15, 15.71s/it]"
     ]
    },
    {
     "name": "stdout",
     "output_type": "stream",
     "text": [
      " Saatların tarixi və onların inkişafı haqqında ən böyük əsasları şu anda olub:\n",
      "\n",
      "1. Ən son saat: 2023-cu il əvvəlkinin 20-ci saati. Bu saat, 1970-ci illərində Azərbaycanda neft qazançılığına başlanıb, 1990-ci illərində Azərbaycanın ən son prezidentiəsinə (İlham Əliyevin) seçilməsi və 2000-ci illərində Azərbaycanın ən son parlament seçimlərini qəbul etməsi ilə başlayıb.\n",
      "2. Ən iyi saat: 1994-cu ilin 20-ci saati. Bu saat, Azərbaycanın ən iyi qəzələrindən biri olan \"Xocalı\" qəzası qəbul edilmiş, ən iyi sənətkarların ən iyi oxuları və ən iyi əsərlərini qəbul edilmişdir.\n",
      "3. Ən qərib saat: 1918-cu ilin 20-ci saati. Bu saat, Azərbaycanın ən qərib sənətkarlarının ən qərib oxuları və ən qərib əsərlərini qəbul edilmişdir.\n",
      "4. Ən böyük saat: 1920-cu ilin 20-ci saati. Bu saat, Azərbaycanın ən böyük sənətkarlarının ən böyük oxuları və ən böyük əsərlərini qəbul edilmişdir.\n",
      "5. Ən təsadüf saat: 1992-cu ilin 20-ci saati. Bu saat, Azərbaycanın ən təsadüf sənətkarlarının ən təsadüf oxuları və ən təsadüf əsərlərini qəbul edilmişdir.\n",
      "\n",
      "Bu saatlardan bir necə olub, Azərbaycanın ən böyük və ən iyi sənətkarlarının ən böyük və ən iyi oxuları və ən böyük və ən iyi əsərlərini qəbul edilmişdir.\n"
     ]
    },
    {
     "name": "stderr",
     "output_type": "stream",
     "text": [
      "100%|██████████| 100/100 [23:31<00:00, 14.12s/it]"
     ]
    },
    {
     "name": "stdout",
     "output_type": "stream",
     "text": [
      " Yeni biznes qurmaq üçün nəzərə alınmalı risklər şu anda gözlənilir:\n",
      "\n",
      "1. Biznes planeýa bilinməyin riski: Yeni biznes qurmaq üçün, planeýa bilinməyin riski azərbaycanda böyük əsasə olurlar. Bu risk, biznesin əsasənə aidən olan bir nəzərə alınmasına nəzərə alır.\n",
      "2. Finansıl risk: Yeni biznes qurmaq üçün, finansıl risklər azərbaycanda böyük əsasə olurlar. Bu risk, biznesin əsasənə aidən olan bir nəzərə alınmasına nəzərə alır.\n",
      "3. Fəaliyyət risk: Yeni biznes qurmaq üçün, fəaliyyət risklər azərbaycanda böyük əsasə olurlar. Bu risk, biznesin əsasənə aidən olan bir nəzərə alınmasına nəzərə alır.\n",
      "4. Əlaqəli risk: Yeni biznes qurmaq üçün, əlaqəli risklər azərbaycanda böyük əsasə olurlar. Bu risk, biznesin əsasənə aidən olan bir nəzərə alınmasına nəzərə alır.\n",
      "5. Təhsil risk: Yeni biznes qurmaq üçün, təhsil risklər azərbaycanda böyük əsasə olurlar. Bu risk, biznesin əsasənə aidən olan bir nəzərə alınmasına nəzərə alır.\n",
      "\n",
      "Bu risklərə fərqli stratijalarla mübarizə olunur ve əlaqəli risklər azərbaycanda böyük əsasə olurlar. Yeni biznes qurmaq üçün, əsasənə aidən olan bir nəzərə alınmasına nəzərə alır.\n"
     ]
    },
    {
     "name": "stderr",
     "output_type": "stream",
     "text": [
      "\n"
     ]
    }
   ],
   "source": [
    "import replicate\n",
    "from tqdm import tqdm\n",
    "\n",
    "llama2_70b = []\n",
    "\n",
    "for question in tqdm(questions):\n",
    "    output = replicate.run(\n",
    "        \"meta/llama-2-70b-chat\",\n",
    "        input={\n",
    "            \"debug\": False,\n",
    "            \"top_k\": 50,\n",
    "            \"top_p\": 1,\n",
    "            \"prompt\": question,\n",
    "            \"temperature\": 0.5,\n",
    "            # \"repetition_penalty\": 5,\n",
    "            \"system_prompt\": \"You are a helpful, respectful and honest assistant. Write text in Azerbaijani language.\",\n",
    "            \"max_new_tokens\": 1024,\n",
    "            \"min_new_tokens\": -1\n",
    "        }\n",
    "    )\n",
    "    response = \"\".join(output)\n",
    "    llama2_70b.append(response)\n",
    "    print(response)"
   ]
  },
  {
   "cell_type": "code",
   "execution_count": null,
   "metadata": {},
   "outputs": [],
   "source": []
  }
 ],
 "metadata": {
  "kernelspec": {
   "display_name": "polygraf",
   "language": "python",
   "name": "python3"
  },
  "language_info": {
   "codemirror_mode": {
    "name": "ipython",
    "version": 3
   },
   "file_extension": ".py",
   "mimetype": "text/x-python",
   "name": "python",
   "nbconvert_exporter": "python",
   "pygments_lexer": "ipython3",
   "version": "3.11.7"
  }
 },
 "nbformat": 4,
 "nbformat_minor": 2
}
