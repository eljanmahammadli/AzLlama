{
 "cells": [
  {
   "cell_type": "code",
   "execution_count": 1,
   "metadata": {},
   "outputs": [],
   "source": [
    "from datasets import load_dataset"
   ]
  },
  {
   "cell_type": "code",
   "execution_count": 2,
   "metadata": {},
   "outputs": [],
   "source": [
    "df = load_dataset(\"allmalab/azwiki\")['train'].to_pandas()"
   ]
  },
  {
   "cell_type": "code",
   "execution_count": 3,
   "metadata": {},
   "outputs": [
    {
     "data": {
      "text/html": [
       "<div>\n",
       "<style scoped>\n",
       "    .dataframe tbody tr th:only-of-type {\n",
       "        vertical-align: middle;\n",
       "    }\n",
       "\n",
       "    .dataframe tbody tr th {\n",
       "        vertical-align: top;\n",
       "    }\n",
       "\n",
       "    .dataframe thead th {\n",
       "        text-align: right;\n",
       "    }\n",
       "</style>\n",
       "<table border=\"1\" class=\"dataframe\">\n",
       "  <thead>\n",
       "    <tr style=\"text-align: right;\">\n",
       "      <th></th>\n",
       "      <th>id</th>\n",
       "      <th>text</th>\n",
       "      <th>title</th>\n",
       "    </tr>\n",
       "  </thead>\n",
       "  <tbody>\n",
       "    <tr>\n",
       "      <th>0</th>\n",
       "      <td>548635</td>\n",
       "      <td>Svyatoslav İvanoviç Vakarçuk ukraynalı müğənni...</td>\n",
       "      <td>Svyatoslav Vakarçuk</td>\n",
       "    </tr>\n",
       "    <tr>\n",
       "      <th>1</th>\n",
       "      <td>460526</td>\n",
       "      <td>Bruselyoz zoonoz infeksion-allergik xəstəlikdi...</td>\n",
       "      <td>Bruselyoz</td>\n",
       "    </tr>\n",
       "    <tr>\n",
       "      <th>2</th>\n",
       "      <td>712395</td>\n",
       "      <td>ArgentinaTürkiyə münasibətləri Argentina ilə T...</td>\n",
       "      <td>Argentina–Türkiyə münasibətləri</td>\n",
       "    </tr>\n",
       "    <tr>\n",
       "      <th>3</th>\n",
       "      <td>592162</td>\n",
       "      <td>Kim Jin-Son Cənubi Koreyanı təmsil edən həndbo...</td>\n",
       "      <td>Kim Jin-Son</td>\n",
       "    </tr>\n",
       "    <tr>\n",
       "      <th>4</th>\n",
       "      <td>421162</td>\n",
       "      <td>Likiyalılar - Qədim dövrdə Anadolunun Likiya b...</td>\n",
       "      <td>Likiyalılar</td>\n",
       "    </tr>\n",
       "    <tr>\n",
       "      <th>...</th>\n",
       "      <td>...</td>\n",
       "      <td>...</td>\n",
       "      <td>...</td>\n",
       "    </tr>\n",
       "    <tr>\n",
       "      <th>129428</th>\n",
       "      <td>687457</td>\n",
       "      <td>Nərman Fəzaim oğlu Rəsulov Azərbaycan Silahlı ...</td>\n",
       "      <td>Nərman Rəsulov</td>\n",
       "    </tr>\n",
       "    <tr>\n",
       "      <th>129429</th>\n",
       "      <td>131143</td>\n",
       "      <td>Atabəylər Memarlıq Kompleksi Naxçıvan şəhərind...</td>\n",
       "      <td>Atabəylər Memarlıq Kompleksi</td>\n",
       "    </tr>\n",
       "    <tr>\n",
       "      <th>129430</th>\n",
       "      <td>819800</td>\n",
       "      <td>Spotify Wrapped isveçli media yayım xidməti Sp...</td>\n",
       "      <td>Spotify Wrapped</td>\n",
       "    </tr>\n",
       "    <tr>\n",
       "      <th>129431</th>\n",
       "      <td>712797</td>\n",
       "      <td>Gömeç qülləsi Cənubi Türkiyədə, tarixi Kilikiy...</td>\n",
       "      <td>Gömeç qülləsi</td>\n",
       "    </tr>\n",
       "    <tr>\n",
       "      <th>129432</th>\n",
       "      <td>405917</td>\n",
       "      <td>Rusiyada təbii qaz - Sovet İttifaqının dağılma...</td>\n",
       "      <td>Rusiyada təbii qaz</td>\n",
       "    </tr>\n",
       "  </tbody>\n",
       "</table>\n",
       "<p>129433 rows × 3 columns</p>\n",
       "</div>"
      ],
      "text/plain": [
       "            id                                               text  \\\n",
       "0       548635  Svyatoslav İvanoviç Vakarçuk ukraynalı müğənni...   \n",
       "1       460526  Bruselyoz zoonoz infeksion-allergik xəstəlikdi...   \n",
       "2       712395  ArgentinaTürkiyə münasibətləri Argentina ilə T...   \n",
       "3       592162  Kim Jin-Son Cənubi Koreyanı təmsil edən həndbo...   \n",
       "4       421162  Likiyalılar - Qədim dövrdə Anadolunun Likiya b...   \n",
       "...        ...                                                ...   \n",
       "129428  687457  Nərman Fəzaim oğlu Rəsulov Azərbaycan Silahlı ...   \n",
       "129429  131143  Atabəylər Memarlıq Kompleksi Naxçıvan şəhərind...   \n",
       "129430  819800  Spotify Wrapped isveçli media yayım xidməti Sp...   \n",
       "129431  712797  Gömeç qülləsi Cənubi Türkiyədə, tarixi Kilikiy...   \n",
       "129432  405917  Rusiyada təbii qaz - Sovet İttifaqının dağılma...   \n",
       "\n",
       "                                  title  \n",
       "0                   Svyatoslav Vakarçuk  \n",
       "1                             Bruselyoz  \n",
       "2       Argentina–Türkiyə münasibətləri  \n",
       "3                           Kim Jin-Son  \n",
       "4                           Likiyalılar  \n",
       "...                                 ...  \n",
       "129428                   Nərman Rəsulov  \n",
       "129429     Atabəylər Memarlıq Kompleksi  \n",
       "129430                  Spotify Wrapped  \n",
       "129431                    Gömeç qülləsi  \n",
       "129432               Rusiyada təbii qaz  \n",
       "\n",
       "[129433 rows x 3 columns]"
      ]
     },
     "execution_count": 3,
     "metadata": {},
     "output_type": "execute_result"
    }
   ],
   "source": [
    "df"
   ]
  },
  {
   "cell_type": "code",
   "execution_count": 17,
   "metadata": {},
   "outputs": [
    {
     "name": "stdout",
     "output_type": "stream",
     "text": [
      "Gey prayd cəmiyyətdə LGBT mövcudluğunun nümayişi, LGBT-dən olan şəxslərə qarşı tolerant münasibətlərin dəstəklənməsi, insan hüquqlarının qorunması, vətəndaş hüquq bərabərliyi və gender identikliyinin cinsi oriyentasiyasından asılı olmayaraq bütün insanlar üçün bərabər olduğunu bildirmək üçün keçirilən aksiyadır. Onun məqsədi həmçinin şəxsi ləyaqət hissinin qeyd olunması, şəxsiyyət azadlığının təntənəsi, eləcə də LGBT-ictimaiyyətinin birlik və müxtəlifliyinin təzahürüdür. Aksiya ənənəvi olaraq yayda , Stounvoll iğtişaşlarının xatirəsi kimi keçirilir - məhz o zaman minlərlə gey polis repressiyalarına qarşı müqavimət göstərmiş və bu seksual azlıqların vətəndaş hüquqları uğrunda apardıqları mübarizənin rəmzinə çevrilmişdir. Amma bəzən o, başqa günlərə də həsr olunur, məsələn, Moskva şəhərində keçirilən gey-prayd zamanı, Rusiyada homoseksuallara tətbiq olunan cinayətin ləğvi ildönümünü qeyd olunur. Gey-praydlar müxtəlif formalarda həyata keçirilir, məsələn - parad, mitinq, yürüş, festival, yarmarka, piknik və sairə. Konkret vəziyyətdən asılı olaraq gey-prayd bayram- karnavalı və ya hüquq müdafiəsi nümayişi xarakteri daşıya bilər. Əslində gey parad və prayd parad , gey praydın bir hissəsi və ya formalarından biri hesab olunur və tez-tez onun mərkəzi elementinə çevrilir. \n",
      " Bu gün müxtəlif ölkələrdə gey-praydların adlandırılması bir-birindən fərqlənir: Avstriyada onu Əlvan parad Matti Bunzl, Die Regenbogenparade als kulturelles Phnomen, in: Wolfgang Förster, Tobias G. Natter, Ines Rieder : Der andere Blick. Lesbischwules Leben in Österreich. Eine Kulturgeschichte. Wien, 2001 adlandırırlar, Hollandiyada o Çəhrayı Şənbə adını daşıyır, Almaniya və İsveçrədə Kristofer-strit günü , Latviyada isə Dostluq Günləri keçirilir, bundan başqa Avstraliyada keçirilən Mardi-Qra karnaval şənlikləri ilə gey prayd adətən birgə qeyd olunur. Rusiya KİV-ləri gey praydları, bir qayda olaraq, gey parad adlandırırlar, lakin Rusiyada keçirilən LGBT aksiyaların təşkilatçıları özlərini gey prayd nümayəndələri deməyi üstünlük verirlər. Bununla onlar demək istəyirlər ki, onların məqsədi yalnız hüquqların qorunmasına yönəlmiş bir yürüş təşkil etməkdir və bunun Qərbi Avropa ölkələrində keçirilən karnavallarla az əlaqəsi var , -: - . . . -. . , -, . . . , -, . , : - .GayRussia.ru, 12 2010. \n",
      " Homofil hərəkatının demonstrasiyası Gey-prayd Nyu-Yorkda 1960-ci illərdə amerikalı gey və lezbiyanlar qanuni şəklə salınmış repressiya şəraitində yaşayırdılar. O zaman ABŞ-nin bütün ərazisində həddi-buluğa çatmış insanlar arasında hətta qarşılıqlı razılıq ilə və şəxsi evlərdə baş verən homoseksual əlaqələr cinayət hadisəsi sayılırdı. Müxtəlif ştatlarda cəza pul cəriməsindən iyirmi il həbs cəzasına və yaxud məcburi müalicə qədər dəyişə bilərdi. Tez-tez polis qəflətən gizli gey-klublara basqın edirdi, daha sonra isə, onlar məhbusların şəkillərini səhər qəzetlərinə yerləşdirirdilər, bu da onların təhsil, mənzil və işini itirmək riski ilə bağlı idiCarter, David . Stonewall: The Riots that Sparked the Gay Revolution, St. Martins Press. ISBN 0-312-34269-1Katz, Jonathan . Gay American History: Lesbians and Gay Men in the U.S.A. Thomas Y. Crowell Company. ISBN 0-690-01165-2Adam, Barry . The Rise of a Gay and Lesbian Movement, G. K. Hall Co. ISBN 0-8057-9714-9. 1969-cu ilin 27-28 iyun tarixində, yəni cümə günündən şənbə gününə keçən gecə, Nyu-York polisi Qrinviç-Villic adlı gey məhəllənin Kristofer strit küçəsində yerləşən Stounvoll-inn adlı gey barda növbəti reyd keçirmişdi. Həbslər başlanılır. Lakin barın ətrafında toplaşmış kütlə gözlənilmədən müqavimət göstərməyə başlayır və polislərə daş və şüşə atırlar. Xüsusi dəstə və etirazçılar arasında başlanılan toqquşmalar səhərə qədər davam etmişdi. Polislə toqquşmalar yenidən ikinci gecə elə həmin miqyasda təkrarlanmış və həftə ərzində daha kiçik sayda etirazçı ilə davam etmişdi. Bu hadisələr Stounvoll üsyanı adını qazanmışdı. Bu üsyan gey və lezbiyanlar arasında mülki hüquqlar uğrunda hərəkatın başlanğıcı sayılır, çünki o, çoxsaylı LGBT-təşkilat və təşəbbüslərin inkişafına təkan verdi. Tarixçi Devid Karterin sözlərinə görə, bu necə ki Bastiliyanın alınması Böyük Fransa inqilabının başlanğıcı üçün, eləcə də Stounvoll gey-hərəkat üçün eyni böyük tərənnüm idi. 2 noyabr 1969-cu ildə Kreyq Rodvel, onun partnyoru Fred Sargent, Ellen Broidi və Linda Rodes ilk praydın Homofil Təşkilatların Şərqi Regional Konfransının Filadelfiya toplanrısının qətnaməsi ilə Nyu York şəhərində keçirilməsini təklif etmişdiCarter, p. 230Marotta, pp. 164165Teal, pp. 322323Duberman, pp. 255, 262, 270280. Bu ideya homofil konservativ hərəkatına müxalif idi, onlar nümayiş keçirərkən açıq-saçıq geyimlərdən imtina etmişdilər, əllərində saxladıqları plakatlarda isə gey sözü yox idi. Bu hüquqların müdafiəsi cərəyanların nümayəndələri hesab edirdilər ki, belə taktika onlara etibar verir və cəmiyyətdə daha çox anlayış doğurur. Lakin o, elə də ciddi nəticə verməmişdi. Və faktiki olaraq Kreyqin ideyaları, yeni radikal və gey-azadlıq hərəkatının yaranmasına, eləcə də daha açıq və birbaşa mübarizə metodlarının istifadəsinə təkan vermişdiDuberman, Martin . Stonewall New York, Dutton. ISBN 0-452-27206-8Marotta, Toby . The Politics of Homosexuality. Boston, Houghton Mifflin Company. ISBN 0-395-31338-4. 1970-ci ildə Stounvoll üsyanının ildönümündə bir neçə yüz nümayişçi Kristofer-strit küçəsinə çıxmışdı. Bu aksiya ilk gey-prayd sayılır. İştirakçılar məşğulluq və yaşayış sahələrində geylər arasında ayrı-seçkiliyə yol verən cinayət təqibinə, antihomoseksual hərəkət və qanunlara qarşı etiraz aksiyaları keçirmiş və homoseksualların açıq olmasına dair çağırışlar etmişdilər. Nümayişçilər əllərində plakatlar tutaraq müxtəlif şüarlar qışqırırdılar: Gizli olmaqdansa aşkar olmaq daha yaxşıdır!, Biz nə istəyirik? Geylərə azadlıq! Nə vaxt biz bunu istəyirik?! İndi!, Ucadan de: Mavi qürurludur, Şkafdan çölə! və s.. Geylərin Azadlıq Cəbhəsinin yaradıcılarından birinin sözlərinə görə, Marş bizim yeni qürurumuzun təsdiq və bəyannaməsi idi . Bu nümayiş gələn il də təkrarlandı və daha sonra o, Nyu-York şəhərində hər il keçirilən müntəzəm gey- prayda çevridi. 1970-ci ilin yayında oxşar çıxışlar, məsələn, Atlanta, Los- Anceles, San-Fransisko, Çikaqo, Toronto və digər şəhərlərdə də keçirilmişdi. Tədricən, lezbiyanların geylərlə birlikdə mülki hüquqlar uğrunda apardıqları hərəkatlar vüsət alaraq, Stounvoll ildönümünün ABŞ və Kanadanın bütün ərazisində qeyd olunması ilə nəticələnmişdi. İlk gey-praydlar sayca çox az idi, mühafizəkarlar etirazlar doğurur, hakimiyyət isə onların keçirilməsinə maneçilik törədirdilər. Lakin ümumi kontekstdə vətəndaş bərabərliyinin və LGBT-hüquqlarının tədricən cəmiyyət tərəfindən tanınması, mövcud ziddiyətli xarakterin itirilməsinə gətirib çıxartdı. 1978-ci ildə San-Fransiskoda keçirilən səkkizinci gey-prayd üçün rəssam Gilbert Beyker tərəfindən rəngbərəng bayraq yaradılmışdı, bu, bir müddət sonra LGBT-hərəkatının ən çox tanınan və məşhur simvoluna çevrilir. Əvvəlcə amerikalı gey-praydlar Azadlıq Günü və ya Geylərin Azad Olunması Günü adını daşıyır və radikal hüquq-mühafizə ideyalarına söykənirdi. Lakin təxminən 1980-ci illərdə onlar müvafiq olaraq gey prayd və gey-parad ifadələri ilə əvəz olunmuşdu. Bu, gey-biznesin getdikcə hüquq-mühafizə üzərində daha da güclənən təsirinin nəticəsi idi. Belə təsir başlanğıcda kommersiya və aktivist təşkilatları arasında münaqişələrə gətirib çıxardırdı, lakin sonda hər iki tərəf arasında kompromis əldə olunmuşdu. Bir qədər sonra gey prayd keçirmək ənənəsi Avropaya gəldi. Belə ki, ilk nümayiş 1970-ci ildə LondondaWalton, Tony , Out of the Shadows, Bona Street Press, ISBN 978-0-9566091-0-6, 1971-ci ildə Parisdə, 1979-cu ildə Berlində, 1983-cü ildə isə Dublində keçirilmişdi. Zaman keçdikcə gey praydlar demək olar ki, Şimali və Cənubi Amerikanın bütün ölkələrində, Avropa, Avstraliya və Yeni Zelandiya, CAR, həmçinin Asiyanın bir sıra ölkələrində keçirilməyə başladı. Bununla belə, keçmiş Sosialist düşərgəsi ölkələrinin bir çox şəhərlərində hal-hazırda praydların keçirilməsi, Qərbi Avropa ölkələrindən fərqli olaraq daha gec keçirilməyə başladığından hələ də bir çox çətinliklərlə üzləşir. Belə ki, 2001-ci ildə Belqrad şəhərində keçirilən gey prayd zamanı, iştirakçılar radikalların hücumuna məruz qalmışdı, 2009-cu ildə isə futbol fanatları və ultrasağçılar kütləvi dağıntılar təşkil edərək Serbiya paytaxtında 1 milyon avro məbləğində ziyan vermişdilər. Oxşar hücumlar Bratislava, Buxarest, Budapeşt və Riqada qeydə alınmışdı. Buna baxmayaraq, vaxt keçdikcə, münaqişələr öz gərginliyi azaldır: Belə ki, 2011-ci ildə Zaqrebdəki gey prayd nisbətən sakit keçmişdi. 2005-ci ildə Varşavada keçirilməsi nəzərdə tutulan gey praydı şəhərin vaxtkı meri Lex Kaçinski tərəfindən qadağan edilmişdi, lakin bir neçə min nəfər bütün bunlara baxmayaraq Polşa paytaxtında marş keçirmişdilər. Hakimiyyətin qərarı Avropa İnsan Haqları Məhkəməsinə şikayət edilmişdir və 2007-ci ildə qərara almışdır ki, bütün bu qadağalar qanunsuzdur və özündə ayrı-seçkilik prinsiplərini güdür. 2008-ci ildən Varşavadakı gey praydlar hakimiyyətin maneə olmaması şərti ilə keçirilir. Analoji vəziyyət Moskvada baş vermişdi: 2005-ci ildə gey prayd mer Yuri Lujkov tərəfindən qadağan edilmişdi idi, icazəsiz aksiya iştirakçıları isə polis və neonasistlərin hücumlarına məruz qalmışdı. Bu vəziyyət hər növbəti il təkrar olunurdu. AİHM-ın 2010-cü ildə gey praydın Moskvada qanunsuz qadağası barədə qərar çıxarmasına baxmayaraq, Rusiya hakimiyyəti 2011-ci ildə onun keçirilməsinə yenidən qadağa qoydu. \n",
      " Gey praydın məqsədləri müxtəlifdir. Qərb ölkələrində LGBT-ictimaiyyətin müxtəlifliyi və birliyi, şəxsi ləyaqət hissinin ifadəsi, həmçinin önun mədəni inkişafının və şəxsiyyət azadlığının təntənəsi kütləvi şəkildə önə çıxır. Gey parad LGBT-şəxslərin açıq olmalarını nümayiş etdirməyə, cəmiyyətdə vizual olaraq onların mövcudluğunu təsdiq etməyə, onlara qarşı daha tolerant münasibətin aşılanmasına, eləcə də insan hüquqları, vətəndaş hüquq bərabərliyi və gender identikliyinin cinsi oriyentasiyasından asılı olmayaraq bütün insanlar üçün eyni şəkildə qorunduğuna çağırır. Ən əsası gey prayd - dinc toplaşmaq, söz azadlığı və özünüifadə hüquqlarını həyata keçirilməsi deməkdir. O, LGBT-şəxslərin probleminə diqqəti cəlb etmək vasitəsi kimi istifadə olunur. Bir çox gey praydlarda qarşıdurma, ayrı-seçkilik, homofobiya, QİÇS epidemiyasının yayılması problemi, eynicinsli nigahların tanınması məsələsi, cinayət təqibi problemi və üçüncü dünya ölkələrində gey və lezbiyanların edamı kimi müxtəlif sosial və siyasi məsələlər tez-tez qaldırılır. \n",
      " Yürüş gey prayd şüarı altında keçirilir, ingilis dilindən tərcümədə bu, gey-qürur və yaxud geyin şəxsi ləyaqət hissi kimi tərcümə olunur. Bu göstərir ki, homoseksual, biseksual və transgender insanlarda şəxsi ləyaqət hissi olmalıdır, onlar öz cinsi oriyentasiyası və gender mənsubiyyəti ilə fəxr etməli və kim olduğunu dərk edərək özünü qəbul etməyi bacarmalıdırlar. Fəlsəfə professoru Tomas Lourens qeyd edir ki, ilk baxışdan cinsi oriyentasiya ilə fəxr etmə səmanın mavi olması ilə fəxr etmə kimi mənasız görünür, lakin gey-şərəfi konsepsiyası 1960-cı illərdə ABŞ-da irqi ayrı-seçkiliyə qarşı səsləndirilən və qara dərili olmağın utanc səbəbi olmadığını vurğulayan Mən qara dəriliyəm və bununla fəxr edirəm! şüarı kimi məna daşıyır. LGBT-aktivist Maşa Gessen aydınlaşdırır: . Filoloq Aleksandr Xots bu anlayışı belə müəyyənləşdirir: . Sosioloq İqor Kon bu termini belə izah edir: Həmçinin gey praydlarda homoseksualların açıqlıq ideyası böyük əhəmiyyət kəsb edir. Mərasim təşkilatçıları geylərə ətrafındakı insanlardan öz şəhvani meyllərini gizlətməməyi çağırır və LGBT-nümayəndələri ilə dostluq edən şəxslərdə homofobiya hissinin daha az olduğunu bildirirlər. Gey praydlarda iştirak, kütləvi şəkildə gizlim vəziyyətdən çıxış yollarından biridir və cəmiyyətdə tolerant münasibətlərin inkişafına kömək edir. \n",
      " Gey praydın keçirilmə forması əhəmiyyətli dərəcədə bir-birindən fərqlənir. Ümumilikdə onlar bir-birini praktikada tamamlayan iki ifrat mövqeyə ayrılır. Tərəfdarları ilk növbədə, gey praydları hüquq-mühafizə və siyasi aksiya hesab edirlər. Onlar göstərirlər ki, tarixən prayd-paradlar homoseksuallar tərəfindən diskriminasiyaya qarşı, insan haqları uğrunda aparılan mübarizədən yaranıb. Onlar LGBT-icmasının indiyə qədər hər yerdə böyük problemlərlə toqquşduğunu dəlil gətirərək, gey paradın bayram hərəkatına çevrilməsini tənqid edirlər. Belə mövqe daha çox seksual azlıqların üzləşdiyi ciddi hüquq pozuntulu ölkələr üçün səciyyəvidir; bunun üçün bir nümunə Moskva gey praydı ola bilər. Tel-Əvivdə 2010-cu ildə keçirilən gey prayd zamanı, gey-fəalların bəziləri homofob terrorçu tərəfindən güllələnmiş yeniyetmələrin xatirəsini yad etmək istədiklərinə görə, gey praydın təşkilat komitəsi bələdiyyə tərəfindən bağladılmışdı. ABŞ-da bəzən aksiyanın məqsədinin diqqətdən yönəltmək üçün, yürüş gey prayd deyil, daha çox məsələn, bərabərlik üçün marş və ya qürur marşı adlandırılır. Bu cür nümayişlərdə əsas tələb, LGBT-şəxslərə qarşı insan hüquqlarının gözlənilməsi, ayrıseçkilikdən müdafiə edən qanunların qəbul edilməsi irəli sürülür, eynicinsli nigahların tanınması, homofobiya zorakılığa etiraz ifadə olunur, həmçinin QİÇS epidemiyası ilə mübarizə və ya eynicinsli ailələrə verilən uşaqların sosial müdafiəsi problemləri və s. bu kimi sosial məsələlər qaldırılır. Əsasən qərb dünyası ölkələrində yayılan ikinci mövqe tərəfdarları hesab edirlər ki, bərabərlik və əsas məqsədlər uğrunda aparılan mübarizə öz nəticəsini əldə edib və indi LGBT-şəxslərinə tolerant münasibətin qorunmasını saxlanılması üçün mədəni dialoq və bayram karnavalları aparılmalı, kütləvi kaminq-aut təbliğ edilməlidir. Bu cür praydlar tez-tez bir neçə gün davam edən festivalların tərkib hissəsi kimi, kinoforumlar, yarmarkalar, konsertlər, ədəbiyyat yarışmaları, foto sərgilər, idman yarışları və piknikləri də əhatə edir. Bu cür festivalların kuliminasiyasını isə kostyumlu iştirakçılar, mini- teatr səhnələşdirmələri, bodi-art, Braziliya karnavalı və Berlin Sevgi Paradı kimi mətnaltı erotik məzmunlu performanslarla zəngin gey-prayd keçidi təşkil edir. Yürüşlərdə müxtəlif qruplar iştirak edir: Siyasi dostluq partiyaları, müxtəlif cəmiyyətlərin, eləcə də sosial institut və şirkətlərin nümayəndələri , sosial qrupların üzvləri, lezbiyan və geylərin valideynləri, gey-müsəlmanlar, gey-polislər, tibb işçiləri, yanğınsöndürənlər və katoliklər, gey-əlillər, müxtəlif submədəniyyət nümayəndələri və sairə. Geniş tanınmış Amsterdam gey praydı şəhərin su kanalları üzrə üzən gəmi-platformaların silsiləsi şəklində keçirilir, onun keçirilməsi şəhər hakimiyyəti tərəfindən dəstəklənir və Niderland paytaxtının ən məşhur turizm yerlərindən biri sayılır. Lakin, praktikada bu iki mövqe adətən birləşir. Hətta ən təntənəli paradlarda belə, adətən homofob zorakılıq və QİÇS qurbanlarının xatirəsinə seminarlar təşkil olunur və bir dəqiqəlik sükutla anılır. Siyasi partiyalar və ictimai təşkilatlar öz iştirakı və şüarları ilə yürüşə mülki xarakter verir, üçüncü dünya ölkələrindən gələn nümayəndə heyəti isə, onların ölkələrində yaşayan LGBT-insanların vəziyyəti barədə fərqli məsələləri qaldırırlar: edamlar, hakimiyyətin zorakılığa icazə verməsi, cinayət təqibi və s. Sonsuz mərhəmət ordeninin din nümayəndələrinə ünvanlanan kəskin sosial parodiyaları qızğın mübahisələr doğurur. Digər tərəfdən, bu cür siyasiləşdirilmiş gey praydlarda əlvan atributika və müxtəlif etiraz performansları olur. Gey paradlar dünyanın müxtəlif şəhərlərində minlərlə iştirakçı və tamaşaçı toplayır. San-Paulo gey paradı və Avropraydlarda isə milyonlarla insan iştirak edir. Bəzən paradları böyük marşallar başçılıq edir. Bu, öz şəxsi nümunəsi və vətəndaş fəallığı ilə LGBT-yə daha tolerant münasibətin güclənməsinə səbəbkar olan fəxri qonaqlardır. Onlar içərisində, məsələn, Olimpiya Çempionu Metyu Mitçem Sidneydə, aktyor Yen Makkellen Mançesterdə, fiqurlu konkisürən Conni Veyr Los- Ancelesdə, müğənni Sindi Loper San-Fransiskoda, gey-fəal Nikolay Alekseyev isə Vankuver şəhərində seçilmişdi. jpgİstanbul paradı, 2013 jpgYerusəlim paradı, 2002 \n",
      " LGBT- hərəkatın içində gey-praydlar zamanı təşkil olunan əyləncəli karnavallara münasibətdə fərqli mövqelər vardır, belə ki, bəzi hüquq müdafiəçiləri və siyasətçilər bu cür karnavalların gey-praydların ilkin məqsədi olan insan hüquqları uğrunda mübarizə məsələsini ikinci plana salaraq, praydları depolitikləşdirilmiş və əsasən kommersiya maraqlarına cavab verən tədbirlər halına salır. Ayrıca tənqidə gey praydlara qatılan transgender ictimaiyyətin nümayəndələri məruz qalır. Buna səbəb həmin seksual mədəniyyətdən olan şəxslərin yarımçılpaq küçəyə çıxmaları, erotik hərəkətlər etmələridir, bu isə da bir çox mütəxəssislərin fikrincə yürüşün təhrif olunmasına, cəmiyyətdə LGBT-şəxslərinə homofob yanaşmaya səbəb olur, tolerantlıq və insan hüquqlarının qorunması ideyasının ümumilikdə nüfuzdan salınması kimi dəyərləndirilir. Bəzi fəallar, ənənəvi gey praydlarda ağ kişi estetikasının və onların maraqlarının ön plana qoyulmasını qınayırlar, buna görə də ABŞ-nin bir sıra şəhərlərində qadın dayk marşları və afroamerikalıların praydları keçirilir. Bəzən prayd çərçivəsində digər münaqişəli sosial məsələlər qaldırılır. Belə ki, Toronto meriyası gey prayd təşkilatçılarının İsrail aparteidinin əleyhinə yürüşdə iştirak etdiyi təqdirdə, onlara maliyyələşdirilməni dayandıracaqlarını bildirmişdilər, Madrid gey praydında isə, İsrail tərəfindən humanitar karvana edilən hücum ittihamları üzündən, həmin gey prayd nümayəndə heyətinin iştirakına qadağa qoyulmuşdu. Bir sıra ölkələrdə bu cür aksiyalar keçirilməsi birmənalı rəy yarada bilər. Qərb dünyasında gey prayd aksiyaları daha adi və adətən ziddiyətli xarakter daşımır, lakin bununla belə, o, bir sıra konservativ mühafizəkar və sosial qrupların və ya ayrı-ayrı şəxslərin tənqid predmetinə çevrilə bilər. Məsələn, jurnalist Pilar Urbano, guya, İspaniya kraliçası Sofiyanın sözlərinə istinad edərək, belə bir bəyanətı öz kitabına yerləşdirmişdi: . jpgMadrid paradı, 2013 jpgAyova paradı, 2008 jpgParis paradı, 2014 JPGŞtuttqart paradı, 2014 Bu nəşr Kral evinin və ictimaiyyətinin hiddətinə səbəb olmuşdur, onlar müəllifi kobud yanlışlıqlarda ittiham etmiş, kraliçanın özü isə, hər kəsdən üzr istəmişdi. Bu cür fikirlər müxtəlif ölkələrdə keçirilən paradların əleyhinə olan şəxslərin gətirdiyi arqumentlərin bariz nümunəsidir. Onlar bir çox insanın son zamanlarda öz seksual oriyentasiyasını ictimai nümayişə qoymalarını anlaşılmaz və mənəviyyatdan uzaq bir hal olaraq qiymətləndirirlər. Belə ki, Qərb ölkələrində gey paradların keçirilməsinə tolerant münasibətin olmasına baxmayaraq, mənfi presedentlər bəzən orada da baş verir. Məsələn, Kaliforniya ştatındakı San-Dieqo yanğınsöndürmə departamentinin işçilərinin gey parad üçün onların razılığı olmadan iştirakı qeydə alınmışdı. Bəzi yanğınsöndürənlər həmin gey paradda rəhbərliyin əmri ilə iştirak etməyi özlərinə təhqir hesab edərək şəhər administrasiyasını məhkəməyə vermişdilər. Xüsusilə, onlar bildirdilər ki, parad zamanı bəzi yürüş iştirakçıları onlara qarşı qeyri- sağlam seksual maraq göstərirdilər. Kaliforniya ştatının Ali məhkəməsi yanğınsöndürənlərin məcburi şəkildə paradda iştirakını qanunsuz olduğunu bildirərək, bələdiyyə hakimiyyətinin onlara mənəvi ziyana görə təzminat ödəməsini məcbur etdi. Yanğından mühafizə rəisinin daha sonra bildirdiyinə görə, bundan sonra gey paradlarda iştirak könüllü olacaqdır. Digər ölkələrdə, LGBT aksiyalarının keçirilməsi ənənəsi daha azdır və burada daha kəskin mübahisələrin yaranması mümkündür. Bir çox tənqidçilər tərəfindən isə, ümumiyyətlə yürüşlərin məqsədəuyğunluğu və seksual azlıqların hüquqlarının müdafiəsi şübhə altına qoyulur. Bir çox opponent öz münasibətini ən geniş yayılmış arqumentlərdən biri - yəni seksual azlıqlara cinayət təqibinin olmaması ilə əsaslandırırlar. Bu tezisə əlavə olaraq, həmçinin dövlətin müvafiq hüquq korpusunda LGBT hüququnu məhdudlaşdıran qanunvericilik normalarının olmaması barədə bəyanatlar səslənir. Paradın tərəfdarları buna etiraz edərək, bu cür normaların olmaması, hələ ayrı-seçkiliyin tam olaraq aradan qaldırılmaq anlamına gəlmədiyini bildirirlər. Bir sıra LGBT praydların əleyhdarları insan hüquqlarının pozulmasını inkar edir və ya hətta onlara aid hüquqları tanımaqdan imtina edirlər, bəziləri isə LGBT hüquqlarının pozulmasını doğru hesab edirlər. Bəziləri bir sıra ölkələrdən olan cəmiyyət üzvlərinin, gey praydları qəbul etməyə hələ hazır olmadığını deyir, başqaları LGBT təşkilatçılarını yad dəyərlərin zorla qəbul etdirməkdə, hətta ölkənin dağıdılmasına yönəldilmiş qərb təsirinin keçirilməsində ittiham edir. Həmin hadisələrə daha az adət edən ölkələrdə də guya gey praydların cəmiyyət əxlaqını pozan təsirə malik olması barədə tez-tez əndişəli bəyanatlar səslənir. Bu arqumentin dəstəklənməsi üçün son vaxtlar homoseksualizmin təbliği termini cəmiyyətin süuruna yeridilmişdir. Bu nöqteyi-nəzərə görə, onların məqsədi, ictimai LGBT aksiyalarda homoseksual həyat tərzinin nüfuzluluğunu təqdim etmək, cəmiyyətdə seksual üstünlük üçün təsir göstərə bilmək və bunun nəticəsi kimi, orada homoseksualların sayının artmasına gətirib çıxartmaqdır. Sonuncu arqument həmçinin müasir demoqrafik böhranla da əlaqələndirilir, bu mövqeyin bir çox tərəfdarlarının fikrincə, bu cür paradların keçirilməsi vəziyyətin daha da gərginləşməsinə səbəb ola bilər. Gey paradların tənqidində xüsusi yeri təbii ki, dini dəlillər tutur. Ortodoksal cərəyanların nümayəndələri, dini təlimlər baxımından homoseksual əlaqələrin haram və günahla dolu olduğunu bildirərək, onlara dözümlü münasibətin yolverilməzliyi barədə tez-tez deyirlər. Belə aksiyalar, onların fikrincə dindar insanların dini hisslərini təhqir edir, dini mühafizəkarlar isə, adətən paradın əleyhinə nümayişlərin keçirilməsində əhəmiyyətli rol oynayırlar. Tənqidi fikirləri müvafiq konfessiyaların rəsmi ierarxlarının dilindən tez-tez səslənir, lakin bu problemə bütün dini təşkilatların vahid mövqesinin olmaması əslində, homoseksuallıq və dinin arasındakı münasibətləri xeyli çətinləşdirir. Xristian kilsələrinin rəsmiləri gey prayd iştirakçılarına qarşı zorakılığın əleyhinə çıxış etməsinə baxmayaraq, bəzi keşişlər onların dağıdılmasına dair çağırış və bəyanatlar verirlər. İslamın bəzi nümayəndələri isə əksinə, zorakılıq çağırışları ilə çıxış edirlər. 2005-ci ildə Qüdsdə keçirilən gey prayd zamanı ortodoksal yəhudi yürüş iştirakçılarına bıçaqla hücum edərək üç nəfəri yaralamışdı. 2011-ci ildə yəhudi etirazçıları polislərin üzərinə hücum edərək, onları daşa basmışdılar, etirazçıların birində isə bomba aşkar edilmişdi. Lakin bəzi ortodoksal ravvinlər homoseksualların hüquqlarının tanınmasına dair çağırışlar etmişdilər. Heç də bütün gey prayd əleyhdarları, bu və ya digər məntiqdən irəli gələn sübutlara istinad edir. Əleyhdarlarının bir hissəsi birbaşa təcavüzün təzahürlərinə doğru meyllidir və zorakılığın yol verilən hal hesab edir. Çox vaxt nümayişçilərin üzərinə fəal ultrasağçılar və digər radikal hərəkatlardan olan gənclər hücum edirlər. 2010-cu ildə Helsinki gey praydına hücum təşkil olunmuşdu və bu, prezident və hökumət tərəfindən pislənilmişdi. Yeri gəlmişkən, bu faktları etiraf edən bəzi tənqidçilər hesab edir ki, gey prayd iştirakçılar çox vaxt özü neonasistləri provokasiya edərək, onlara hücum etməsinə bir növ imkan yaradırlar. Bir sıra gey prayd əleyhdarlarının fikrincə, təhlükəsizlik mülahizələri paradların keçirilməsinə ciddi maneə ola bilər. Belə ki, 2009 və 2011-ci ildə Serbiya hakimiyyəti gey praydları qadağan etdi və bunu parad iştirakçılarının qorumaq iqtidarında olmaması ilə əsas gətirdi. jpgRusdilli Quarteera LGBT təşkilatının üzvü Berlin gey praydında. Futbol maykasının üzərindəki yazı: Mənə baxmayın! Rusiya qanunu deyir ki, bu sizi gey edə bilər. jpgBir qrup ekstremistin Serbiyanın paytaxtı Belqradda keçirilməsi nəzərdə tutulan gey prayda qarşı aksiyası jpg2010 Moskva paradı zaman şüar: Ailə sevgi olan yerdir! \n",
      " \n",
      " Türkiyənin ən böyük şəhəri İstanbulda hər il keçirilən LGBT Şərəf Yürüşü , ilk dəfə 2003-cü ildə təxminən 30 nəfər tərəfindən təşkil olunnmuşdu. 2010-cu ildə 5.000 nəfərə çatan yürüyüş, 2011-ci ildə artıq 10.000 nəfərə qədər artır və Cənub-Şərqi Avropada və Türkiyədə keçirilən ən böyük gey prayda çevrilir. Yürüş 2013-cü ildə, Taksim Gəzi parkı etirazlarının təsiri ilə 100.000 nəfərin iştirakı ilə yenidən həyata keçirilmişdi. \n",
      " Çəhrayı Şənbə , Amsterdamda avqust ayının ilk həftəsi təşkil olunan gey festivalıdır. İlk olaraq 1996-cı ildə təşkil olunan festivala, hər il bir neçə yüz min ziyarətçi gəlir və Hollandiyanın ən böyük halqa açıq illik hadisələrindən biri hesab olunur. Amsterdam şəhərinin kanal və çaylarında avqust ayının ilk şənbə günü gəmilərin də yer aldığı böyük bir parad keçirilir. Festival müddətində parti və konsertlərin də olduğu bir çox maraqlı tədbir keçirilir. \n",
      " 1991-ci ildən başlayaraq, Avropa Qürur Təşkilatçıları Dərnəyi və Avropa CSD Birliyi-nin dəstəyi ilə Avropanın müxtəlif şəhərlərində hər il Avroprayd keçirilir. CSD sadəcə olaraq proqramların yaradılmasına maliyyə vəsaiti verən tərəf deyil; o, LGBT- şəxslərin problemlərinə dair beynəlxalq diqqətin ayrılması uğrunda çox böyük təşkilati işlər görür. Avroprayd üçün aşağıdakı şəhərlər ev sahibliyi edib: Keçirilmə sayı Keçirilmə ili Yer Mövzu Tarixlər İştirakçı sayı 1-ci 1992 . . . . . . . . . . . . . . . 2-ci 1993 Berlin . . . . . . . . . . . . . . . 3-cü 1994 Amsterdam . . . . . . . . . . approx. 67.000 - 1995 . . . . . təşkil olunmayıb . . . . . . . . . . 4-cü 1996 Kopenhagen . . . . . . . . . . . . . . . 5-ci 1997 Paris . . . . . . . . . . . . . . . 6-cı 1998 Stokholm . . . . . . . . . . . . . . . - 1999 . . . . . təşkil olunmayıb . . . . . . . . . . 7-ci 2000 Roma Qürura biz güvənirik 1 iyul - 8 iyul approx. 500.000 8-ci 2001 Vyana . . . . . . . . . . . . . . . 9-cu 2002 Köln Köln müxtəlifliyi qeyd edir 15. iyun - 7. iyul approx. 1.200.000 10-cu 2003 . . . . . . . . . . . . . . . 11-ci 2004 Hamburq Sevgi maneələri sındırır 0413 iyun approx. 500.000 12-cü 2005 Oslo . . . . . 1827 iyun 70-100,000 13-cü 2006 . . . . . . . . . . . . . . . 14-cü 2007 Madrid İndi Avropada bərabərlik mümjündür 22 iyun-2 iyul approx 2.500.000 15-ci 2008 Stokholm İsveç günahı sərhədləri aşır 25 iyul-3 avqust approx 80.000 16-cı 2009 Sürix Fəxrlə praydın 40 illiyi qeyd edirik 2 may7 iyun approx 100.000 17-ci 2010 Varşava Azadlıq, bərabərlik, tolerantlıq! 7 iyul - 17 iyul approx 8.000 - 15.000 18-ci 2011 Roma Öz qürurunu qur! 2 iyun - 12 iyun approx. 1.000.000 19-cu 2012 . . . . . 23 iyun 8 iyul . . . . . 20-ci 2013 Marsel Avropa hüquq bərabərliyi uğrunda hərəkatdadır , 10 iyul - 20 iyul . . . . . 21-ci 2014 Oslo . . . . . 20 iyun - 29 iyun . . . . . 22-ci 2015 Riqa . . . . . 15 iyun - 21 iyun . . . . . 23-cü 2016 Amsterdam . . . . . 26 iyul - 7 avqust . . . . . 24-cü 2017 Madrid . . . . . . . . . . . . . . . \n",
      " Alwood, Edward . Straight News: Gays, Lesbians, and the News Media Columbia University Press, New York. ISBN 0-231-08436-6. Carter, David . Stonewall: The Riots That Sparked The Gay Revolution. St. Martins Press. ISBN 0-312-34269-1. Duberman, Martin . Stonewall Dutton, New York. ISBN 0-452-27206-8. Loughery, John . The Other Side of Silence Mens Lives and Gay Identities: A Twentieth-Century History. New York, Henry Holt and Company. ISBN 0-8050-3896-5. Marotta, Toby . The Politics of Homosexuality. Boston, Houghton Mifflin Company. ISBN 0-395-31338-4. Teal, Donn . The Gay Militants. New York, Stein and Day. ISBN 0-8128-1373-1. \n",
      "--------------------------------------------------\n",
      "Ərznamə və ya Ərzi Ləşkər atası Uzun Həsənin adından əyaləti idarə edən Sultan Xəlil bəyin 1476cı ildə Farsda, Bəndi Mirdə həyata keçirdiyi hərbi baxış haqqında təsvirdir.. : -, . 845. . . . . - . . , . . . II . , , , , , , , , . .. . : , 1972, 616 . Cəlaləddin Dəvani tərəfindən farsca qələmə alınmışdır. Əsər Fars əyalətində mülki və hərbi rəsmilərin siyahısı ilə yanaşı, həm də mühüm statistik məlumatları ehtiva edir. \n"
     ]
    }
   ],
   "source": [
    "idxs = [\n",
    "    \"402532\", \"394493\"\n",
    "    ]\n",
    "print(df[df['id'] ==  idxs[0]]['text'].values[0])\n",
    "print(\"-\"*50)\n",
    "print(df[df['id'] ==  idxs[1]]['text'].values[0])"
   ]
  },
  {
   "cell_type": "code",
   "execution_count": null,
   "metadata": {},
   "outputs": [],
   "source": [
    "750288\t32379\t4\n",
    "442887\t32379\t4\n",
    "354631\t632956\t4\n",
    "402532\t394493\t4\n",
    "767993\t28533\t4\n",
    "767993\t281249\t4\n",
    "748525\t767993\t4\n",
    "474073\t459267\t4\n",
    "474073\t710645\t4\n",
    "474073\t776617\t4\n",
    "335717\t459267\t4\n",
    "335717\t710645\t4\n",
    "335717\t776617\t4\n",
    "33113\t168670\t4\n",
    "335717\t488378\t4\n",
    "488378\t35029\t4\n",
    "547483\t731593\t4\n",
    "32803\t731593\t4\n",
    "344497\t35029\t4\n",
    "344836\t280011\t4\n",
    "276076\t32512\t4\n",
    "600799\t791861\t4\n",
    "600798\t791861\t4\n",
    "634547\t600799\t4"
   ]
  },
  {
   "cell_type": "code",
   "execution_count": null,
   "metadata": {},
   "outputs": [],
   "source": []
  },
  {
   "cell_type": "code",
   "execution_count": 1,
   "metadata": {},
   "outputs": [],
   "source": [
    "import pandas as pd"
   ]
  },
  {
   "cell_type": "code",
   "execution_count": 2,
   "metadata": {},
   "outputs": [],
   "source": [
    "df = pd.read_csv(\"/Users/eljan/Documents/azGPT/bigscience-dataprep/preprocessing/training/01b_oscar_cleaning_and_filtering/deduplicate/outputs/en/text.csv\")"
   ]
  },
  {
   "cell_type": "code",
   "execution_count": 3,
   "metadata": {},
   "outputs": [
    {
     "data": {
      "text/html": [
       "<div>\n",
       "<style scoped>\n",
       "    .dataframe tbody tr th:only-of-type {\n",
       "        vertical-align: middle;\n",
       "    }\n",
       "\n",
       "    .dataframe tbody tr th {\n",
       "        vertical-align: top;\n",
       "    }\n",
       "\n",
       "    .dataframe thead th {\n",
       "        text-align: right;\n",
       "    }\n",
       "</style>\n",
       "<table border=\"1\" class=\"dataframe\">\n",
       "  <thead>\n",
       "    <tr style=\"text-align: right;\">\n",
       "      <th></th>\n",
       "      <th>Svyatoslav İvanoviç Vakarçuk ukraynalı müğənni, Ukrayna Respublikasının Əməkdar Artistidir .   1994-cü ildə yaratdığı Okean Elzı qrupunun solistidir. Atası tanınmış fizik İvan Vakarçukdur. 2007-ci ildə Lala Fonareva ilə ailə həyatı qurmuşdur. 20132016-cı illərdə Holos Krainy mahnı müsabiqəsində münsif kimi iştirak etmişdir.</th>\n",
       "    </tr>\n",
       "  </thead>\n",
       "  <tbody>\n",
       "    <tr>\n",
       "      <th>0</th>\n",
       "      <td>Bruselyoz zoonoz infeksion-allergik xəstəlikdi...</td>\n",
       "    </tr>\n",
       "    <tr>\n",
       "      <th>1</th>\n",
       "      <td>ArgentinaTürkiyə münasibətləri Argentina ilə T...</td>\n",
       "    </tr>\n",
       "    <tr>\n",
       "      <th>2</th>\n",
       "      <td>Kim Jin-Son Cənubi Koreyanı təmsil edən həndbo...</td>\n",
       "    </tr>\n",
       "    <tr>\n",
       "      <th>3</th>\n",
       "      <td>Likiyalılar - Qədim dövrdə Anadolunun Likiya b...</td>\n",
       "    </tr>\n",
       "    <tr>\n",
       "      <th>4</th>\n",
       "      <td>Mikayıl Gözəlov Şuşa Rayon İcra Hakimiyyətinin...</td>\n",
       "    </tr>\n",
       "    <tr>\n",
       "      <th>...</th>\n",
       "      <td>...</td>\n",
       "    </tr>\n",
       "    <tr>\n",
       "      <th>129427</th>\n",
       "      <td>Nərman Fəzaim oğlu Rəsulov Azərbaycan Silahlı ...</td>\n",
       "    </tr>\n",
       "    <tr>\n",
       "      <th>129428</th>\n",
       "      <td>Atabəylər Memarlıq Kompleksi Naxçıvan şəhərind...</td>\n",
       "    </tr>\n",
       "    <tr>\n",
       "      <th>129429</th>\n",
       "      <td>Spotify Wrapped isveçli media yayım xidməti Sp...</td>\n",
       "    </tr>\n",
       "    <tr>\n",
       "      <th>129430</th>\n",
       "      <td>Gömeç qülləsi Cənubi Türkiyədə, tarixi Kilikiy...</td>\n",
       "    </tr>\n",
       "    <tr>\n",
       "      <th>129431</th>\n",
       "      <td>Rusiyada təbii qaz - Sovet İttifaqının dağılma...</td>\n",
       "    </tr>\n",
       "  </tbody>\n",
       "</table>\n",
       "<p>129432 rows × 1 columns</p>\n",
       "</div>"
      ],
      "text/plain": [
       "       Svyatoslav İvanoviç Vakarçuk ukraynalı müğənni, Ukrayna Respublikasının Əməkdar Artistidir .   1994-cü ildə yaratdığı Okean Elzı qrupunun solistidir. Atası tanınmış fizik İvan Vakarçukdur. 2007-ci ildə Lala Fonareva ilə ailə həyatı qurmuşdur. 20132016-cı illərdə Holos Krainy mahnı müsabiqəsində münsif kimi iştirak etmişdir. \n",
       "0       Bruselyoz zoonoz infeksion-allergik xəstəlikdi...                                                                                                                                                                                                                                                                                    \n",
       "1       ArgentinaTürkiyə münasibətləri Argentina ilə T...                                                                                                                                                                                                                                                                                    \n",
       "2       Kim Jin-Son Cənubi Koreyanı təmsil edən həndbo...                                                                                                                                                                                                                                                                                    \n",
       "3       Likiyalılar - Qədim dövrdə Anadolunun Likiya b...                                                                                                                                                                                                                                                                                    \n",
       "4       Mikayıl Gözəlov Şuşa Rayon İcra Hakimiyyətinin...                                                                                                                                                                                                                                                                                    \n",
       "...                                                   ...                                                                                                                                                                                                                                                                                    \n",
       "129427  Nərman Fəzaim oğlu Rəsulov Azərbaycan Silahlı ...                                                                                                                                                                                                                                                                                    \n",
       "129428  Atabəylər Memarlıq Kompleksi Naxçıvan şəhərind...                                                                                                                                                                                                                                                                                    \n",
       "129429  Spotify Wrapped isveçli media yayım xidməti Sp...                                                                                                                                                                                                                                                                                    \n",
       "129430  Gömeç qülləsi Cənubi Türkiyədə, tarixi Kilikiy...                                                                                                                                                                                                                                                                                    \n",
       "129431  Rusiyada təbii qaz - Sovet İttifaqının dağılma...                                                                                                                                                                                                                                                                                    \n",
       "\n",
       "[129432 rows x 1 columns]"
      ]
     },
     "execution_count": 3,
     "metadata": {},
     "output_type": "execute_result"
    }
   ],
   "source": [
    "df"
   ]
  },
  {
   "cell_type": "code",
   "execution_count": 4,
   "metadata": {},
   "outputs": [
    {
     "data": {
      "text/plain": [
       "Index(['Svyatoslav İvanoviç Vakarçuk ukraynalı müğənni, Ukrayna Respublikasının Əməkdar Artistidir .   1994-cü ildə yaratdığı Okean Elzı qrupunun solistidir. Atası tanınmış fizik İvan Vakarçukdur. 2007-ci ildə Lala Fonareva ilə ailə həyatı qurmuşdur. 20132016-cı illərdə Holos Krainy mahnı müsabiqəsində münsif kimi iştirak etmişdir. '], dtype='object')"
      ]
     },
     "execution_count": 4,
     "metadata": {},
     "output_type": "execute_result"
    }
   ],
   "source": [
    "df.columns"
   ]
  },
  {
   "cell_type": "code",
   "execution_count": 24,
   "metadata": {},
   "outputs": [],
   "source": [
    "df1 = pd.read_parquet(\"/Users/eljan/Documents/azGPT/data/azcorpus-raw/chunks.parquet\")"
   ]
  },
  {
   "cell_type": "code",
   "execution_count": 35,
   "metadata": {},
   "outputs": [
    {
     "data": {
      "text/html": [
       "<div>\n",
       "<style scoped>\n",
       "    .dataframe tbody tr th:only-of-type {\n",
       "        vertical-align: middle;\n",
       "    }\n",
       "\n",
       "    .dataframe tbody tr th {\n",
       "        vertical-align: top;\n",
       "    }\n",
       "\n",
       "    .dataframe thead th {\n",
       "        text-align: right;\n",
       "    }\n",
       "</style>\n",
       "<table border=\"1\" class=\"dataframe\">\n",
       "  <thead>\n",
       "    <tr style=\"text-align: right;\">\n",
       "      <th></th>\n",
       "      <th>text</th>\n",
       "      <th>source</th>\n",
       "    </tr>\n",
       "  </thead>\n",
       "  <tbody>\n",
       "    <tr>\n",
       "      <th>0</th>\n",
       "      <td>Orta ixtisas təhsili müəssisələrinin tələbələr...</td>\n",
       "      <td>psixologiya</td>\n",
       "    </tr>\n",
       "    <tr>\n",
       "      <th>1</th>\n",
       "      <td>Xoşbəxtlik və həyatın mənası IV Fəsil. Peşə et...</td>\n",
       "      <td>psixologiya</td>\n",
       "    </tr>\n",
       "    <tr>\n",
       "      <th>2</th>\n",
       "      <td>Bu hal əsrədək davam etdi. Dünyanın mahiyyətin...</td>\n",
       "      <td>psixologiya</td>\n",
       "    </tr>\n",
       "    <tr>\n",
       "      <th>3</th>\n",
       "      <td>Etika \" insanın sirlərinə, onun digər insanlar...</td>\n",
       "      <td>psixologiya</td>\n",
       "    </tr>\n",
       "    <tr>\n",
       "      <th>4</th>\n",
       "      <td>O, \" ethosu \" \" insanların adət etdikləri yaşa...</td>\n",
       "      <td>psixologiya</td>\n",
       "    </tr>\n",
       "    <tr>\n",
       "      <th>...</th>\n",
       "      <td>...</td>\n",
       "      <td>...</td>\n",
       "    </tr>\n",
       "    <tr>\n",
       "      <th>317539</th>\n",
       "      <td>Rus klassisizmi ayrı-ayrı layihələrdə lakin gü...</td>\n",
       "      <td>arxitektura</td>\n",
       "    </tr>\n",
       "    <tr>\n",
       "      <th>317540</th>\n",
       "      <td>Bir Onlar eynilə Edel, Qoslavski, Ploşko, Zivə...</td>\n",
       "      <td>arxitektura</td>\n",
       "    </tr>\n",
       "    <tr>\n",
       "      <th>317541</th>\n",
       "      <td>Azərbaycan memarlığında müxtəlif obyektlərində...</td>\n",
       "      <td>arxitektura</td>\n",
       "    </tr>\n",
       "    <tr>\n",
       "      <th>317542</th>\n",
       "      <td>Əgər İsmailiyyədə obraz möhtəşəmliyi müşahidə ...</td>\n",
       "      <td>arxitektura</td>\n",
       "    </tr>\n",
       "    <tr>\n",
       "      <th>317543</th>\n",
       "      <td>Lakin sənaye tikintisi, Azərbaycan iqtisadiyya...</td>\n",
       "      <td>arxitektura</td>\n",
       "    </tr>\n",
       "  </tbody>\n",
       "</table>\n",
       "<p>317544 rows × 2 columns</p>\n",
       "</div>"
      ],
      "text/plain": [
       "                                                     text       source\n",
       "0       Orta ixtisas təhsili müəssisələrinin tələbələr...  psixologiya\n",
       "1       Xoşbəxtlik və həyatın mənası IV Fəsil. Peşə et...  psixologiya\n",
       "2       Bu hal əsrədək davam etdi. Dünyanın mahiyyətin...  psixologiya\n",
       "3       Etika \" insanın sirlərinə, onun digər insanlar...  psixologiya\n",
       "4       O, \" ethosu \" \" insanların adət etdikləri yaşa...  psixologiya\n",
       "...                                                   ...          ...\n",
       "317539  Rus klassisizmi ayrı-ayrı layihələrdə lakin gü...  arxitektura\n",
       "317540  Bir Onlar eynilə Edel, Qoslavski, Ploşko, Zivə...  arxitektura\n",
       "317541  Azərbaycan memarlığında müxtəlif obyektlərində...  arxitektura\n",
       "317542  Əgər İsmailiyyədə obraz möhtəşəmliyi müşahidə ...  arxitektura\n",
       "317543  Lakin sənaye tikintisi, Azərbaycan iqtisadiyya...  arxitektura\n",
       "\n",
       "[317544 rows x 2 columns]"
      ]
     },
     "execution_count": 35,
     "metadata": {},
     "output_type": "execute_result"
    }
   ],
   "source": [
    "df1"
   ]
  },
  {
   "cell_type": "code",
   "execution_count": 22,
   "metadata": {},
   "outputs": [],
   "source": [
    "\n",
    "from datasets import Dataset, DatasetDict# convert pandas into datasets and push to the hub\n",
    "df = pd.read_parquet(\"books.parquet\")"
   ]
  },
  {
   "cell_type": "code",
   "execution_count": 34,
   "metadata": {},
   "outputs": [
    {
     "data": {
      "text/html": [
       "<div>\n",
       "<style scoped>\n",
       "    .dataframe tbody tr th:only-of-type {\n",
       "        vertical-align: middle;\n",
       "    }\n",
       "\n",
       "    .dataframe tbody tr th {\n",
       "        vertical-align: top;\n",
       "    }\n",
       "\n",
       "    .dataframe thead th {\n",
       "        text-align: right;\n",
       "    }\n",
       "</style>\n",
       "<table border=\"1\" class=\"dataframe\">\n",
       "  <thead>\n",
       "    <tr style=\"text-align: right;\">\n",
       "      <th></th>\n",
       "      <th>text</th>\n",
       "    </tr>\n",
       "  </thead>\n",
       "  <tbody>\n",
       "    <tr>\n",
       "      <th>0</th>\n",
       "      <td>Dekretdə deyilirdi: “1) Mülkədarların torpaq m...</td>\n",
       "    </tr>\n",
       "    <tr>\n",
       "      <th>1</th>\n",
       "      <td>Məhz buna görə də Azərbaycanda torpaq məsələsi...</td>\n",
       "    </tr>\n",
       "    <tr>\n",
       "      <th>2</th>\n",
       "      <td>Azərbaycanın bir hissəsini təşkil edən Naxçıva...</td>\n",
       "    </tr>\n",
       "    <tr>\n",
       "      <th>3</th>\n",
       "      <td>Onlar əsas etibarı ilə ən yoxsul kəndliləri mu...</td>\n",
       "    </tr>\n",
       "    <tr>\n",
       "      <th>4</th>\n",
       "      <td>Məsələn, Azərbaycanda istehsal edilən pambıq y...</td>\n",
       "    </tr>\n",
       "    <tr>\n",
       "      <th>...</th>\n",
       "      <td>...</td>\n",
       "    </tr>\n",
       "    <tr>\n",
       "      <th>350894</th>\n",
       "      <td>Respublika Elmi xibiisi ilə kənd kitabxanaları...</td>\n",
       "    </tr>\n",
       "    <tr>\n",
       "      <th>350895</th>\n",
       "      <td>Bu vəzifələrin yerinə yetirilməsində 1953-ciı ...</td>\n",
       "    </tr>\n",
       "    <tr>\n",
       "      <th>350896</th>\n",
       "      <td>keyfiyyətcə yeni, mürəkkəb problemlər həll dil...</td>\n",
       "    </tr>\n",
       "    <tr>\n",
       "      <th>350897</th>\n",
       "      <td>Kitabxana işi sahəsində əhaliyə olar. Xüsusi s...</td>\n",
       "    </tr>\n",
       "    <tr>\n",
       "      <th>350898</th>\n",
       "      <td>hüquqi, demokratik, dünyəvi dövlətin yaran­ ic...</td>\n",
       "    </tr>\n",
       "  </tbody>\n",
       "</table>\n",
       "<p>350899 rows × 1 columns</p>\n",
       "</div>"
      ],
      "text/plain": [
       "                                                     text\n",
       "0       Dekretdə deyilirdi: “1) Mülkədarların torpaq m...\n",
       "1       Məhz buna görə də Azərbaycanda torpaq məsələsi...\n",
       "2       Azərbaycanın bir hissəsini təşkil edən Naxçıva...\n",
       "3       Onlar əsas etibarı ilə ən yoxsul kəndliləri mu...\n",
       "4       Məsələn, Azərbaycanda istehsal edilən pambıq y...\n",
       "...                                                   ...\n",
       "350894  Respublika Elmi xibiisi ilə kənd kitabxanaları...\n",
       "350895  Bu vəzifələrin yerinə yetirilməsində 1953-ciı ...\n",
       "350896  keyfiyyətcə yeni, mürəkkəb problemlər həll dil...\n",
       "350897  Kitabxana işi sahəsində əhaliyə olar. Xüsusi s...\n",
       "350898  hüquqi, demokratik, dünyəvi dövlətin yaran­ ic...\n",
       "\n",
       "[350899 rows x 1 columns]"
      ]
     },
     "execution_count": 34,
     "metadata": {},
     "output_type": "execute_result"
    }
   ],
   "source": [
    "df"
   ]
  },
  {
   "cell_type": "code",
   "execution_count": 36,
   "metadata": {},
   "outputs": [
    {
     "data": {
      "application/vnd.jupyter.widget-view+json": {
       "model_id": "a14338b005cd473ab11836ff447225c6",
       "version_major": 2,
       "version_minor": 0
      },
      "text/plain": [
       "Uploading the dataset shards:   0%|          | 0/3 [00:00<?, ?it/s]"
      ]
     },
     "metadata": {},
     "output_type": "display_data"
    },
    {
     "data": {
      "application/vnd.jupyter.widget-view+json": {
       "model_id": "bb2e6498b2fb42058401fbc8bf35925b",
       "version_major": 2,
       "version_minor": 0
      },
      "text/plain": [
       "Creating parquet from Arrow format:   0%|          | 0/117 [00:00<?, ?ba/s]"
      ]
     },
     "metadata": {},
     "output_type": "display_data"
    },
    {
     "data": {
      "application/vnd.jupyter.widget-view+json": {
       "model_id": "b50bca163c0249a4b5697bda11cb3d86",
       "version_major": 2,
       "version_minor": 0
      },
      "text/plain": [
       "Creating parquet from Arrow format:   0%|          | 0/117 [00:00<?, ?ba/s]"
      ]
     },
     "metadata": {},
     "output_type": "display_data"
    },
    {
     "data": {
      "application/vnd.jupyter.widget-view+json": {
       "model_id": "3e75fe493d34451f8118ce0bb058d9f9",
       "version_major": 2,
       "version_minor": 0
      },
      "text/plain": [
       "Creating parquet from Arrow format:   0%|          | 0/117 [00:00<?, ?ba/s]"
      ]
     },
     "metadata": {},
     "output_type": "display_data"
    },
    {
     "data": {
      "text/plain": [
       "CommitInfo(commit_url='https://huggingface.co/datasets/eljanmahammadli/book-chunks-512/commit/abb1be1e96ec0c98f553809acfb20b38c6c7a16f', commit_message='Upload dataset', commit_description='', oid='abb1be1e96ec0c98f553809acfb20b38c6c7a16f', pr_url=None, pr_revision=None, pr_num=None)"
      ]
     },
     "execution_count": 36,
     "metadata": {},
     "output_type": "execute_result"
    }
   ],
   "source": [
    "\n",
    "dataset = Dataset.from_pandas(df)\n",
    "dataset = DatasetDict({\"train\": dataset})\n",
    "dataset.push_to_hub(\"eljanmahammadli/book-chunks-512\", private=True)"
   ]
  },
  {
   "cell_type": "code",
   "execution_count": 1,
   "metadata": {},
   "outputs": [],
   "source": [
    "# Load model directly\n",
    "from transformers import AutoTokenizer\n",
    "tokenizer = AutoTokenizer.from_pretrained(\"eljanmahammadli/azGPT-perplexity\")"
   ]
  },
  {
   "cell_type": "code",
   "execution_count": 7,
   "metadata": {},
   "outputs": [
    {
     "name": "stdout",
     "output_type": "stream",
     "text": [
      "360\n",
      "522\n"
     ]
    }
   ],
   "source": [
    "a = input()\n",
    "print(len(a.split()))\n",
    "\n",
    "print(len(tokenizer.tokenize(a)))"
   ]
  },
  {
   "cell_type": "code",
   "execution_count": 37,
   "metadata": {},
   "outputs": [],
   "source": [
    "from datasets import concatenate_datasets"
   ]
  },
  {
   "cell_type": "code",
   "execution_count": 38,
   "metadata": {},
   "outputs": [],
   "source": [
    "dataset1 = Dataset.from_dict({\"text\": [\"foo\", \"bar\"]})\n",
    "dataset2 = Dataset.from_dict({\"text\": [\"baz\", \"qux\"]})\n",
    "dataset = concatenate_datasets([dataset1, dataset2])"
   ]
  },
  {
   "cell_type": "code",
   "execution_count": 39,
   "metadata": {},
   "outputs": [
    {
     "data": {
      "text/plain": [
       "Dataset({\n",
       "    features: ['text'],\n",
       "    num_rows: 4\n",
       "})"
      ]
     },
     "execution_count": 39,
     "metadata": {},
     "output_type": "execute_result"
    }
   ],
   "source": [
    "dataset"
   ]
  },
  {
   "cell_type": "code",
   "execution_count": null,
   "metadata": {},
   "outputs": [],
   "source": []
  }
 ],
 "metadata": {
  "kernelspec": {
   "display_name": "polygraf",
   "language": "python",
   "name": "python3"
  },
  "language_info": {
   "codemirror_mode": {
    "name": "ipython",
    "version": 3
   },
   "file_extension": ".py",
   "mimetype": "text/x-python",
   "name": "python",
   "nbconvert_exporter": "python",
   "pygments_lexer": "ipython3",
   "version": "3.11.7"
  }
 },
 "nbformat": 4,
 "nbformat_minor": 2
}
