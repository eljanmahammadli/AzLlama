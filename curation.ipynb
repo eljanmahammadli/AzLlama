{
 "cells": [
  {
   "cell_type": "markdown",
   "metadata": {},
   "source": [
    "python litgpt/scripts/prepare_starcoder.py \\\n",
    "  --input_dir data/azcorpus-raw \\\n",
    "  --output_dir data/azcorpus \\\n",
    "  --tokenizer_path azGPT-LLaMA-tokenizer\n",
    "\n",
    "\n",
    "  /Users/eljan/Documents/azGPT/litgpt/scripts/prepare_starcoder.py"
   ]
  }
 ],
 "metadata": {
  "language_info": {
   "name": "python"
  }
 },
 "nbformat": 4,
 "nbformat_minor": 2
}
