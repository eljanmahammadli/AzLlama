{
 "cells": [
  {
   "cell_type": "code",
   "execution_count": 210,
   "metadata": {},
   "outputs": [],
   "source": [
    "import re\n",
    "from tqdm import tqdm # progress bar\n",
    "import numpy as np\n",
    "import pandas as pd\n",
    "import matplotlib.pyplot as plt\n",
    "from datasets import load_dataset\n",
    "import pycld2 as cld2  # language detector\n",
    "from unidecode import unidecode\n",
    "import tldextract # domain extractor"
   ]
  },
  {
   "cell_type": "code",
   "execution_count": 211,
   "metadata": {},
   "outputs": [],
   "source": [
    "pd.set_option('display.max_colwidth', 500)\n",
    "pd.set_option('display.max_rows', None)"
   ]
  },
  {
   "cell_type": "markdown",
   "metadata": {},
   "source": [
    "## load the dataset"
   ]
  },
  {
   "cell_type": "code",
   "execution_count": 59,
   "metadata": {},
   "outputs": [
    {
     "data": {
      "text/plain": [
       "source\n",
       "mC4           4306983\n",
       "OSCAR-2019     290336\n",
       "OSCAR-2109     212313\n",
       "OSCAR-2301     177332\n",
       "OSCAR-2201      97541\n",
       "Name: count, dtype: int64"
      ]
     },
     "execution_count": 59,
     "metadata": {},
     "output_type": "execute_result"
    }
   ],
   "source": [
    "wiki = load_dataset(\"wikimedia/wikipedia\", \"20231101.az\")[\"train\"].to_pandas()\n",
    "cultrax_df = load_dataset(\"uonlp/CulturaX\", \"az\")['train'].to_pandas()\n",
    "print(wiki.shape)\n",
    "print(cultrax_df.shape)\n",
    "cultrax_df['source'].value_counts()"
   ]
  },
  {
   "cell_type": "markdown",
   "metadata": {},
   "source": [
    "## concat cultrax and wikipedia"
   ]
  },
  {
   "cell_type": "code",
   "execution_count": 66,
   "metadata": {},
   "outputs": [
    {
     "data": {
      "text/plain": [
       "(5208062, 3)"
      ]
     },
     "execution_count": 66,
     "metadata": {},
     "output_type": "execute_result"
    }
   ],
   "source": [
    "# drop wikipedia data to add from the wikipedia itself\n",
    "cultrax_df = cultrax_df[~cultrax_df['url'].str.contains(\"wikipedia\")]\n",
    "cultrax_df.drop(columns=['timestamp'], axis=1, inplace=True)\n",
    "wiki.drop(columns=['id', 'title'], axis=1, inplace=True)\n",
    "wiki['source'] = 'wiki'\n",
    "cultrax = pd.concat(objs=[cultrax_df, wiki], axis=0)\n",
    "print(cultrax.shape)"
   ]
  },
  {
   "cell_type": "code",
   "execution_count": 65,
   "metadata": {},
   "outputs": [
    {
     "data": {
      "text/plain": [
       "source\n",
       "mC4           4254852\n",
       "OSCAR-2019     290336\n",
       "OSCAR-2109     199080\n",
       "wiki           196158\n",
       "OSCAR-2301     172705\n",
       "OSCAR-2201      94931\n",
       "Name: count, dtype: int64"
      ]
     },
     "execution_count": 65,
     "metadata": {},
     "output_type": "execute_result"
    }
   ],
   "source": [
    "cultrax['source'].value_counts()"
   ]
  },
  {
   "cell_type": "markdown",
   "metadata": {},
   "source": [
    "## extract the domains from the urls"
   ]
  },
  {
   "cell_type": "code",
   "execution_count": 72,
   "metadata": {},
   "outputs": [
    {
     "name": "stderr",
     "output_type": "stream",
     "text": [
      "Processing URLs:   1%|          | 61950/5208062 [00:00<00:16, 314322.52it/s]"
     ]
    },
    {
     "name": "stderr",
     "output_type": "stream",
     "text": [
      "Processing URLs: 100%|██████████| 5208062/5208062 [00:15<00:00, 347004.22it/s]\n"
     ]
    }
   ],
   "source": [
    "tqdm.pandas(desc=\"Processing URLs\")\n",
    "cultrax['domain'] = cultrax['url'].progress_apply(lambda x: tldextract.extract(x).domain)"
   ]
  },
  {
   "cell_type": "code",
   "execution_count": 82,
   "metadata": {},
   "outputs": [
    {
     "data": {
      "text/plain": [
       "Index(['', 'wikipedia', 'azadliq', 'trend', 'report', 'azertag', 'publika',\n",
       "       'amerikaninsesi', 'yenicag', 'sputnik',\n",
       "       ...\n",
       "       'fastube', 'al-majalis', 'careersuccess', 'spyaisle',\n",
       "       'allsportslivestream', 'documentfoundation', 'skygolf', 'hanuur',\n",
       "       'brasilalemanha', 'linkthe'],\n",
       "      dtype='object', name='domain', length=29123)"
      ]
     },
     "execution_count": 82,
     "metadata": {},
     "output_type": "execute_result"
    }
   ],
   "source": [
    "cultrax['domain'].value_counts().index"
   ]
  },
  {
   "cell_type": "markdown",
   "metadata": {},
   "source": [
    "## language detection"
   ]
  },
  {
   "cell_type": "code",
   "execution_count": 150,
   "metadata": {},
   "outputs": [],
   "source": [
    "def detect_language(text):\n",
    "    try:\n",
    "        det = cld2.detect(text)\n",
    "        is_reliable = det[0]\n",
    "        lang = det[2][0][1]\n",
    "        perc = det[2][0][2]\n",
    "        return is_reliable, lang, perc\n",
    "    except Exception as e:\n",
    "        return \"pycld2_error\", \"pycld2_error\", \"pycld2_error\""
   ]
  },
  {
   "cell_type": "code",
   "execution_count": 112,
   "metadata": {},
   "outputs": [
    {
     "name": "stderr",
     "output_type": "stream",
     "text": [
      "Detecting languages: 100%|██████████| 5208062/5208062 [13:06<00:00, 6618.86it/s] \n"
     ]
    }
   ],
   "source": [
    "tqdm.pandas(desc=\"Detecting languages\")\n",
    "cultrax[['is_reliable', 'lang', 'perc']] = cultrax['text'].progress_apply(detect_language).apply(pd.Series)"
   ]
  },
  {
   "cell_type": "code",
   "execution_count": 204,
   "metadata": {},
   "outputs": [],
   "source": [
    "def remove_invalid_utf8(text):\n",
    "    pattern = re.compile(r'(?![ƏəİIıÖöÜüĞğÇçŞş])([^\\x00-\\x7F]+)')\n",
    "    cleaned_text = pattern.sub('', text)\n",
    "    return cleaned_text"
   ]
  },
  {
   "cell_type": "code",
   "execution_count": null,
   "metadata": {},
   "outputs": [],
   "source": [
    "utf_errors = cultrax[cultrax['lang'] == 'pycld2_error']\n",
    "cultrax = cultrax[cultrax['lang'] != 'pycld2_error']\n",
    "utf_errors['text'] = utf_errors['text'].apply(remove_invalid_utf8)                          \n",
    "utf_errors.drop(columns=['is_reliable', 'lang', 'perc'], axis=1, inplace=True)\n",
    "utf_errors[['is_reliable', 'lang', 'perc']] = utf_errors['text'].apply(detect_language).apply(pd.Series)\n",
    "cultrax = pd.concat(objs=[cultrax, utf_errors], axis=0)"
   ]
  },
  {
   "cell_type": "code",
   "execution_count": 212,
   "metadata": {},
   "outputs": [
    {
     "data": {
      "text/plain": [
       "lang\n",
       "az              5204194\n",
       "un                 1249\n",
       "en                 1184\n",
       "ru                  470\n",
       "pycld2_error        253\n",
       "tr                  226\n",
       "de                   81\n",
       "bs                   63\n",
       "fr                   48\n",
       "la                   40\n",
       "da                   26\n",
       "es                   21\n",
       "tt                   16\n",
       "uk                   16\n",
       "it                   16\n",
       "hu                   12\n",
       "pt                   11\n",
       "ar                   10\n",
       "sv                    7\n",
       "pl                    7\n",
       "bg                    6\n",
       "el                    6\n",
       "uz                    6\n",
       "ka                    4\n",
       "vo                    4\n",
       "ro                    4\n",
       "ja                    4\n",
       "tk                    3\n",
       "th                    3\n",
       "war                   3\n",
       "aa                    3\n",
       "hy                    3\n",
       "sr                    3\n",
       "id                    3\n",
       "et                    3\n",
       "cs                    3\n",
       "fa                    3\n",
       "lg                    2\n",
       "hi                    2\n",
       "ha                    2\n",
       "ca                    2\n",
       "is                    2\n",
       "gl                    2\n",
       "sn                    2\n",
       "nn                    2\n",
       "ms                    2\n",
       "sk                    2\n",
       "ceb                   2\n",
       "nl                    2\n",
       "qu                    2\n",
       "sa                    2\n",
       "mfe                   1\n",
       "tlh                   1\n",
       "ss                    1\n",
       "ga                    1\n",
       "ia                    1\n",
       "sq                    1\n",
       "sm                    1\n",
       "sg                    1\n",
       "lb                    1\n",
       "ne                    1\n",
       "kk                    1\n",
       "fo                    1\n",
       "hr                    1\n",
       "ny                    1\n",
       "ky                    1\n",
       "so                    1\n",
       "rn                    1\n",
       "mg                    1\n",
       "haw                   1\n",
       "lt                    1\n",
       "Name: count, dtype: int64"
      ]
     },
     "execution_count": 212,
     "metadata": {},
     "output_type": "execute_result"
    }
   ],
   "source": [
    "cultrax['lang'].value_counts()"
   ]
  },
  {
   "cell_type": "code",
   "execution_count": 214,
   "metadata": {},
   "outputs": [
    {
     "data": {
      "text/plain": [
       "is_reliable\n",
       "True            5197024\n",
       "False             10785\n",
       "pycld2_error        253\n",
       "Name: count, dtype: int64"
      ]
     },
     "execution_count": 214,
     "metadata": {},
     "output_type": "execute_result"
    }
   ],
   "source": [
    "cultrax['is_reliable'].value_counts()"
   ]
  },
  {
   "cell_type": "code",
   "execution_count": 230,
   "metadata": {},
   "outputs": [
    {
     "data": {
      "text/plain": [
       "'Fəqət bu türk dövlətləri tam bir \"islam dövləti\" də deyildir. Aradakı fərq\\x1flər təməldə və özdə olduğu üçün mühümdür. Türk-islam dövlətinin islam. Gənc qvardiya\\nXx əsr Azərbaycan poeziyasının tanınmış nümayəndəsi, xalq şairi, filologiya elmləri doktoru, professor Xəlil Rza Ulutürkün (Xəlil Rza oğlu Xəlilovun) anadan olmasının 80 ILI tamam olur. Gənc qvardiya\\nSentyabrın iyirmi doqquzunda məşhur rus yazıçısı Nikolay Ostrovskinin anadan olmasının əlli ILI. Gənc qvardiya'"
      ]
     },
     "execution_count": 230,
     "metadata": {},
     "output_type": "execute_result"
    }
   ],
   "source": [
    "a = cultrax[cultrax['lang'] == \"pycld2_error\"].sample(1)['text'].values[0]\n",
    "a"
   ]
  },
  {
   "cell_type": "code",
   "execution_count": 237,
   "metadata": {},
   "outputs": [
    {
     "ename": "error",
     "evalue": "input contains invalid UTF-8 around byte 86 (of 533)",
     "output_type": "error",
     "traceback": [
      "\u001b[0;31m---------------------------------------------------------------------------\u001b[0m",
      "\u001b[0;31merror\u001b[0m                                     Traceback (most recent call last)",
      "Cell \u001b[0;32mIn[237], line 2\u001b[0m\n\u001b[1;32m      1\u001b[0m b \u001b[38;5;241m=\u001b[39m \u001b[38;5;124m\"\"\"\u001b[39m\u001b[38;5;124m'\u001b[39m\u001b[38;5;124mFəqət bu türk dövlətləri tam bir \u001b[39m\u001b[38;5;124m\"\u001b[39m\u001b[38;5;124mislam dövləti\u001b[39m\u001b[38;5;124m\"\u001b[39m\u001b[38;5;124m də deyildir. Aradakı fərq\u001b[39m\u001b[38;5;130;01m\\x1f\u001b[39;00m\u001b[38;5;124mlər təməldə və özdə olduğu üçün mühümdür. Türk-islam dövlətinin islam. Gənc qvardiya\u001b[39m\u001b[38;5;130;01m\\n\u001b[39;00m\u001b[38;5;124mXx əsr Azərbaycan poeziyasının tanınmış nümayəndəsi, xalq şairi, filologiya elmləri doktoru, professor Xəlil Rza Ulutürkün (Xəlil Rza oğlu Xəlilovun) anadan olmasının 80 ILI tamam olur. Gənc qvardiya\u001b[39m\u001b[38;5;130;01m\\n\u001b[39;00m\u001b[38;5;124mSentyabrın iyirmi doqquzunda məşhur rus yazıçısı Nikolay Ostrovskinin anadan olmasının əlli ILI. Gənc qvardiya\u001b[39m\u001b[38;5;124m'\u001b[39m\u001b[38;5;124m\"\"\"\u001b[39m\n\u001b[0;32m----> 2\u001b[0m \u001b[43mcld2\u001b[49m\u001b[38;5;241;43m.\u001b[39;49m\u001b[43mdetect\u001b[49m\u001b[43m(\u001b[49m\u001b[43mb\u001b[49m\u001b[43m)\u001b[49m\n",
      "\u001b[0;31merror\u001b[0m: input contains invalid UTF-8 around byte 86 (of 533)"
     ]
    }
   ],
   "source": [
    "b = \"\"\"'Fəqət bu türk dövlətləri tam bir \"islam dövləti\" də deyildir. Aradakı fərq\\x1flər təməldə və özdə olduğu üçün mühümdür. Türk-islam dövlətinin islam. Gənc qvardiya\\nXx əsr Azərbaycan poeziyasının tanınmış nümayəndəsi, xalq şairi, filologiya elmləri doktoru, professor Xəlil Rza Ulutürkün (Xəlil Rza oğlu Xəlilovun) anadan olmasının 80 ILI tamam olur. Gənc qvardiya\\nSentyabrın iyirmi doqquzunda məşhur rus yazıçısı Nikolay Ostrovskinin anadan olmasının əlli ILI. Gənc qvardiya'\"\"\"\n",
    "cld2.detect(b)"
   ]
  },
  {
   "cell_type": "code",
   "execution_count": 232,
   "metadata": {},
   "outputs": [
    {
     "data": {
      "text/plain": [
       "'Fəqət bu türk dövlətləri tam bir \"islam dövləti\" də deyildir. Aradakı fərq\\x1flər təməldə və özdə olduğu üçün mühümdür. Türk-islam dövlətinin islam. Gənc qvardiya\\nXx əsr Azərbaycan poeziyasının tanınmış nümayəndəsi, xalq şairi, filologiya elmləri doktoru, professor Xəlil Rza Ulutürkün (Xəlil Rza oğlu Xəlilovun) anadan olmasının 80 ILI tamam olur. Gənc qvardiya\\nSentyabrın iyirmi doqquzunda məşhur rus yazıçısı Nikolay Ostrovskinin anadan olmasının əlli ILI. Gənc qvardiya'"
      ]
     },
     "execution_count": 232,
     "metadata": {},
     "output_type": "execute_result"
    }
   ],
   "source": [
    "remove_invalid_utf8(a)"
   ]
  },
  {
   "cell_type": "code",
   "execution_count": 238,
   "metadata": {},
   "outputs": [
    {
     "data": {
      "text/plain": [
       "True"
      ]
     },
     "execution_count": 238,
     "metadata": {},
     "output_type": "execute_result"
    }
   ],
   "source": [
    "\"\\x1f\" in b"
   ]
  },
  {
   "cell_type": "code",
   "execution_count": 241,
   "metadata": {},
   "outputs": [],
   "source": [
    "c = cultrax[(cultrax['lang'] == \"pycld2_error\") & ~(cultrax['text'].str.contains(\"\\x1f\"))]"
   ]
  },
  {
   "cell_type": "code",
   "execution_count": 244,
   "metadata": {},
   "outputs": [
    {
     "data": {
      "text/plain": [
       "'Şəki rayonunda balıqçılığın inkişafına diqqət ildən-ilə artır. Hazırda rayonun Aydınbulaq, Aşağı Küngüt, Qırxbulaq və digər kəndlərinin ərazilərində 7 özəl balıqçılıq təsərrüfatı fəaliyyət göstərir. Şəhər icra hakimiyyətinin aqrar məsəl\\x06 ...'"
      ]
     },
     "execution_count": 244,
     "metadata": {},
     "output_type": "execute_result"
    }
   ],
   "source": [
    "c.sample(1)['text'].values[0]"
   ]
  },
  {
   "cell_type": "code",
   "execution_count": 246,
   "metadata": {},
   "outputs": [
    {
     "name": "stdout",
     "output_type": "stream",
     "text": [
      "Şəki rayonunda balıqçılığın inkişafına diqqət ildən-ilə artır. Hazırda rayonun Aydınbulaq, Aşağı Küngüt, Qırxbulaq və digər kəndlərinin ərazilərində 7 özəl balıqçılıq təsərrüfatı fəaliyyət göstərir. Şəhər icra hakimiyyətinin aqrar məsəl\u0006 ...\n"
     ]
    }
   ],
   "source": [
    "def remove_pattern(text):\n",
    "    pattern = r'\\\\x[0-9a-fA-F]{2}'\n",
    "    return re.sub(pattern, '', text)\n",
    "\n",
    "text = 'Şəki rayonunda balıqçılığın inkişafına diqqət ildən-ilə artır. Hazırda rayonun Aydınbulaq, Aşağı Küngüt, Qırxbulaq və digər kəndlərinin ərazilərində 7 özəl balıqçılıq təsərrüfatı fəaliyyət göstərir. Şəhər icra hakimiyyətinin aqrar məsəl\\x06 ...'\n",
    "cleaned_text = remove_pattern(text)\n",
    "print(cleaned_text)"
   ]
  },
  {
   "cell_type": "code",
   "execution_count": null,
   "metadata": {},
   "outputs": [],
   "source": []
  }
 ],
 "metadata": {
  "kernelspec": {
   "display_name": "llm",
   "language": "python",
   "name": "python3"
  },
  "language_info": {
   "codemirror_mode": {
    "name": "ipython",
    "version": 3
   },
   "file_extension": ".py",
   "mimetype": "text/x-python",
   "name": "python",
   "nbconvert_exporter": "python",
   "pygments_lexer": "ipython3",
   "version": "3.11.5"
  }
 },
 "nbformat": 4,
 "nbformat_minor": 2
}
