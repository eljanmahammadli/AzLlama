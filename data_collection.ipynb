{
 "cells": [
  {
   "cell_type": "code",
   "execution_count": 1,
   "metadata": {},
   "outputs": [],
   "source": [
    "from datasets import load_dataset"
   ]
  },
  {
   "cell_type": "code",
   "execution_count": 2,
   "metadata": {},
   "outputs": [
    {
     "data": {
      "application/vnd.jupyter.widget-view+json": {
       "model_id": "a57cc40624774da3843ea96837e89d53",
       "version_major": 2,
       "version_minor": 0
      },
      "text/plain": [
       "Downloading readme:   0%|          | 0.00/131k [00:00<?, ?B/s]"
      ]
     },
     "metadata": {},
     "output_type": "display_data"
    },
    {
     "data": {
      "application/vnd.jupyter.widget-view+json": {
       "model_id": "873c5593f58d41e6b910178d9ef7b46d",
       "version_major": 2,
       "version_minor": 0
      },
      "text/plain": [
       "Resolving data files:   0%|          | 0/20 [00:00<?, ?it/s]"
      ]
     },
     "metadata": {},
     "output_type": "display_data"
    },
    {
     "data": {
      "application/vnd.jupyter.widget-view+json": {
       "model_id": "a667f7f125f445f581aed23681aa4511",
       "version_major": 2,
       "version_minor": 0
      },
      "text/plain": [
       "Resolving data files:   0%|          | 0/41 [00:00<?, ?it/s]"
      ]
     },
     "metadata": {},
     "output_type": "display_data"
    },
    {
     "data": {
      "application/vnd.jupyter.widget-view+json": {
       "model_id": "a941756071704a638a818ed292ef7811",
       "version_major": 2,
       "version_minor": 0
      },
      "text/plain": [
       "Resolving data files:   0%|          | 0/17 [00:00<?, ?it/s]"
      ]
     },
     "metadata": {},
     "output_type": "display_data"
    },
    {
     "data": {
      "application/vnd.jupyter.widget-view+json": {
       "model_id": "3ee4baf383ac499caf07ed3c44e8a702",
       "version_major": 2,
       "version_minor": 0
      },
      "text/plain": [
       "Resolving data files:   0%|          | 0/21 [00:00<?, ?it/s]"
      ]
     },
     "metadata": {},
     "output_type": "display_data"
    },
    {
     "data": {
      "application/vnd.jupyter.widget-view+json": {
       "model_id": "446f5d2ab42c4ef79876aab50349e10c",
       "version_major": 2,
       "version_minor": 0
      },
      "text/plain": [
       "Downloading data files:   0%|          | 0/1 [00:00<?, ?it/s]"
      ]
     },
     "metadata": {},
     "output_type": "display_data"
    },
    {
     "data": {
      "application/vnd.jupyter.widget-view+json": {
       "model_id": "44ec437db1ca4fe68669a4dba549c57b",
       "version_major": 2,
       "version_minor": 0
      },
      "text/plain": [
       "Downloading data:   0%|          | 0.00/230M [00:00<?, ?B/s]"
      ]
     },
     "metadata": {},
     "output_type": "display_data"
    },
    {
     "data": {
      "application/vnd.jupyter.widget-view+json": {
       "model_id": "274e1aca506a4f9fa4237c73f94f4574",
       "version_major": 2,
       "version_minor": 0
      },
      "text/plain": [
       "Extracting data files:   0%|          | 0/1 [00:00<?, ?it/s]"
      ]
     },
     "metadata": {},
     "output_type": "display_data"
    },
    {
     "data": {
      "application/vnd.jupyter.widget-view+json": {
       "model_id": "3ccaa6b577464e3495ef2b8e214b109d",
       "version_major": 2,
       "version_minor": 0
      },
      "text/plain": [
       "Generating train split:   0%|          | 0/196158 [00:00<?, ? examples/s]"
      ]
     },
     "metadata": {},
     "output_type": "display_data"
    }
   ],
   "source": [
    "ds = load_dataset(\"wikimedia/wikipedia\", \"20231101.az\")"
   ]
  },
  {
   "cell_type": "code",
   "execution_count": 5,
   "metadata": {},
   "outputs": [],
   "source": [
    "df = ds[\"train\"].to_pandas()"
   ]
  },
  {
   "cell_type": "code",
   "execution_count": 9,
   "metadata": {},
   "outputs": [
    {
     "data": {
      "text/html": [
       "<div>\n",
       "<style scoped>\n",
       "    .dataframe tbody tr th:only-of-type {\n",
       "        vertical-align: middle;\n",
       "    }\n",
       "\n",
       "    .dataframe tbody tr th {\n",
       "        vertical-align: top;\n",
       "    }\n",
       "\n",
       "    .dataframe thead th {\n",
       "        text-align: right;\n",
       "    }\n",
       "</style>\n",
       "<table border=\"1\" class=\"dataframe\">\n",
       "  <thead>\n",
       "    <tr style=\"text-align: right;\">\n",
       "      <th></th>\n",
       "      <th>id</th>\n",
       "      <th>url</th>\n",
       "      <th>title</th>\n",
       "      <th>text</th>\n",
       "    </tr>\n",
       "  </thead>\n",
       "  <tbody>\n",
       "    <tr>\n",
       "      <th>0</th>\n",
       "      <td>1</td>\n",
       "      <td>https://az.wikipedia.org/wiki/Ana%20s%C9%99hif...</td>\n",
       "      <td>Ana səhifə</td>\n",
       "      <td>\\n\\nHəftənin seçilmiş məqaləsi\\n\\nHəftənin yax...</td>\n",
       "    </tr>\n",
       "    <tr>\n",
       "      <th>1</th>\n",
       "      <td>604</td>\n",
       "      <td>https://az.wikipedia.org/wiki/%C4%B0nternet</td>\n",
       "      <td>İnternet</td>\n",
       "      <td>İnternet ( — daxili və  — arasında;  — şəbəkə)...</td>\n",
       "    </tr>\n",
       "    <tr>\n",
       "      <th>2</th>\n",
       "      <td>610</td>\n",
       "      <td>https://az.wikipedia.org/wiki/Tarix</td>\n",
       "      <td>Tarix</td>\n",
       "      <td>Tarix (q.yun. ἱστορία, historia — \"sorğu; araş...</td>\n",
       "    </tr>\n",
       "    <tr>\n",
       "      <th>3</th>\n",
       "      <td>611</td>\n",
       "      <td>https://az.wikipedia.org/wiki/Da%C4%9Fl%C4%B1q...</td>\n",
       "      <td>Dağlıq Qarabağ</td>\n",
       "      <td>Dağlıq Qarabağ — Azərbaycan Respublikasının qə...</td>\n",
       "    </tr>\n",
       "    <tr>\n",
       "      <th>4</th>\n",
       "      <td>613</td>\n",
       "      <td>https://az.wikipedia.org/wiki/H%C3%BCquq</td>\n",
       "      <td>Hüquq</td>\n",
       "      <td>Hüquq — davranışı tənzimləmək üçün sosial və y...</td>\n",
       "    </tr>\n",
       "  </tbody>\n",
       "</table>\n",
       "</div>"
      ],
      "text/plain": [
       "    id                                                url           title  \\\n",
       "0    1  https://az.wikipedia.org/wiki/Ana%20s%C9%99hif...      Ana səhifə   \n",
       "1  604        https://az.wikipedia.org/wiki/%C4%B0nternet        İnternet   \n",
       "2  610                https://az.wikipedia.org/wiki/Tarix           Tarix   \n",
       "3  611  https://az.wikipedia.org/wiki/Da%C4%9Fl%C4%B1q...  Dağlıq Qarabağ   \n",
       "4  613           https://az.wikipedia.org/wiki/H%C3%BCquq           Hüquq   \n",
       "\n",
       "                                                text  \n",
       "0  \\n\\nHəftənin seçilmiş məqaləsi\\n\\nHəftənin yax...  \n",
       "1  İnternet ( — daxili və  — arasında;  — şəbəkə)...  \n",
       "2  Tarix (q.yun. ἱστορία, historia — \"sorğu; araş...  \n",
       "3  Dağlıq Qarabağ — Azərbaycan Respublikasının qə...  \n",
       "4  Hüquq — davranışı tənzimləmək üçün sosial və y...  "
      ]
     },
     "execution_count": 9,
     "metadata": {},
     "output_type": "execute_result"
    }
   ],
   "source": [
    "df.head()"
   ]
  },
  {
   "cell_type": "code",
   "execution_count": 10,
   "metadata": {},
   "outputs": [
    {
     "data": {
      "text/html": [
       "<div>\n",
       "<style scoped>\n",
       "    .dataframe tbody tr th:only-of-type {\n",
       "        vertical-align: middle;\n",
       "    }\n",
       "\n",
       "    .dataframe tbody tr th {\n",
       "        vertical-align: top;\n",
       "    }\n",
       "\n",
       "    .dataframe thead th {\n",
       "        text-align: right;\n",
       "    }\n",
       "</style>\n",
       "<table border=\"1\" class=\"dataframe\">\n",
       "  <thead>\n",
       "    <tr style=\"text-align: right;\">\n",
       "      <th></th>\n",
       "      <th>id</th>\n",
       "      <th>url</th>\n",
       "      <th>title</th>\n",
       "      <th>text</th>\n",
       "    </tr>\n",
       "  </thead>\n",
       "  <tbody>\n",
       "  </tbody>\n",
       "</table>\n",
       "</div>"
      ],
      "text/plain": [
       "Empty DataFrame\n",
       "Columns: [id, url, title, text]\n",
       "Index: []"
      ]
     },
     "execution_count": 10,
     "metadata": {},
     "output_type": "execute_result"
    }
   ],
   "source": [
    "df[df.url == \"https://az.wikipedia.org/wiki/Azizbek_Abduqofurov\"]"
   ]
  },
  {
   "cell_type": "code",
   "execution_count": 16,
   "metadata": {},
   "outputs": [
    {
     "name": "stdout",
     "output_type": "stream",
     "text": [
      "Azizbek Abdumuxtar Abduqofurov () — özbək peşəkar bokusçusu. Orta və ikinci orta çəki kateqoriyasında çıxış edir. 2010-cu ilin əvvələrində Özbəkistan yığma komandasında çıxış etmişdir. Kazanda keçirilən 2013 Yay Universiada Oyunlarının bürünc mükafatçısı, müxtəlif beynəlxalq əhəmiyyətli yarışların qalibi və mükafatçısı. Almatıda keçirilən dünya çempionatının iştirakçısı. Peşəkar boksda  WBC Silver versiyası üzrə 2018-ci ildə dünya çempionu (2-ci orta çəki kateqoriyasında).\n",
      "\n",
      "Bioqrafiyası \n",
      "Azizbek Abduqofurov 6 mart 1992-ci ildə Özbəkistanın Əndican vilayətinin Kurqantepa şəhərində anadan olmuşdur.\n",
      "\n",
      "Həvəskar karyerası \n",
      "2010-cu il mövsümündə beynəlxalq arenada debüt etdi. Bakıda keçirilən Gənclər Dünya Çempionatında çıxış etdi. Azərbaycanda keçirilən \"Böyük İpək Yolu\" gənclər beynəlxalq turnirində bürünc medal qazandı.\n",
      "\n",
      "2013-cü ildə orta çəki dərəcəsində Özbəkistan boks çempionatında gümüş medal qazandı, final matçında Xurshidbek Normatova məğlub oldu və eyni zamanda Özbəkistan kubokunu qazandı.\n",
      "\n",
      "Özbəkistanı Almatıda keçirilən dünya çempionatında təmsil etdi. 75 kq çəki dərəcəsində turnirin  ilk üç mərhələsini uğurla keçdi. Dörddəbir final görüşündə rusiyalı Artem Çebotaryova məğlub oldu.\n",
      "\n",
      "AtIrauda keçirilən Askar Kulibayevin mükafatI uğrunda keçirilən beynəlxalq turnirdə dörddəbir finalda rus boksçu Vladislav Fedyurinə məğlub oldu .\n",
      "\n",
      "Peşəkar karyerası \n",
      "Özbəkistan milli komandasını tərk edərək, 2016-cı ilin may ayında Abduqofurov peşəkar səviyyədə debüt etdi. Əsasən Malayziya və Sinqapurda bir çox döyüşlər keçirdi və bir neçə güclü rəqibinə qalib gələ bildi. Xüsusən də Taylandlı bir çox kateqoriya üzrə dünya çempionu Sirimongkol Singvançanı məğlub edə bildi (94-2). Bu dövrdə Azizbek  Asiya Boks Şurasının (ABCO) orta çəki çempionu titulunu qazandı və onu yenidən müdafiə edə bildi.\n",
      "\n",
      "Sonradan ikinci orta çəkiyə yüksəldi və 2018-ci ilin may ayında məşhur Rusiya boksçusu Dmitri Çudinovu (21-2-2) məğlub edərək Dünya Boks Şurası (WBC) tərəfindən boş qalan gümüş çempion adını qazandı.\n",
      "\n",
      "İstinadlar\n"
     ]
    }
   ],
   "source": [
    "print(df[df.url.str.contains(\"Azizbek\")][\"text\"].values[0])"
   ]
  },
  {
   "cell_type": "code",
   "execution_count": 18,
   "metadata": {},
   "outputs": [
    {
     "name": "stdout",
     "output_type": "stream",
     "text": [
      "Azizbek Abduqofurov — Vikipediya Azizbek Abduqofurov 6 mart 1992(1992-03-06) (28 yaş) Ķürgontepa[d], Əndican vilayəti, Özbəkistan Azizbek Abdumuxtar Abduqofurov (doğ. 6 mart 1992, Kurqantepe, Əndican vilayəti) — özbək peşəkar bokusçusu. Orta və ikinci orta çəki kateqoriyasında çıxış edir. 2010-cu ilin əvvələrində Özbəkistan yığma komandasında çıxış etmişdir. Kazanda keçirilən 2013 Yay Universiada Oyunlarının bürünc mükafatçısı, müxtəlif beynəlxalq əhəmiyyətli yarışların qalibi və mükafatçısı. Almatıda keçirilən dünya çempionatının iştirakçısı. Peşəkar boksda WBC Silver versiyası üzrə 2018-ci ildə dünya çempionu (2-ci orta çəki kateqoriyasında). 2 Həvəskar karyerası Azizbek Abduqofurov 6 mart 1992-ci ildə Özbəkistanın Əndican vilayətinin Kurqantepa şəhərində anadan olmuşdur. Həvəskar karyerası[redaktə | əsas redaktə] 2010-cu il mövsümündə beynəlxalq arenada debüt etdi. Bakıda keçirilən Gənclər Dünya Çempionatında çıxış etdi. Azərbaycanda keçirilən \"Böyük İpək Yolu\" gənclər beynəlxalq turnirində bürünc medal qazandı. 2013-cü ildə orta çəki dərəcəsində Özbəkistan boks çempionatında gümüş medal qazandı, final matçında Xurshidbek Normatova məğlub oldu və eyni zamanda Özbəkistan kubokunu qazandı. Özbəkistanı Almatıda keçirilən dünya çempionatında təmsil etdi. 75 kq çəki dərəcəsində turnirin ilk üç mərhələsini uğurla keçdi. Dörddəbir final görüşündə rusiyalı Artem Çebotaryova məğlub oldu. AtIrauda keçirilən Askar Kulibayevin mükafatI uğrunda keçirilən beynəlxalq turnirdə dörddəbir finalda rus boksçu Vladislav Fedyurinə məğlub oldu .[1] Özbəkistan milli komandasını tərk edərək, 2016-cı ilin may ayında Abduqofurov peşəkar səviyyədə debüt etdi. Əsasən Malayziya və Sinqapurda bir çox döyüşlər keçirdi və bir neçə güclü rəqibinə qalib gələ bildi. Xüsusən də Taylandlı bir çox kateqoriya üzrə dünya çempionu Sirimongkol Singvançanı məğlub edə bildi (94-2). Bu dövrdə Azizbek Asiya Boks Şurasının (ABCO) orta çəki çempionu titulunu qazandı və onu yenidən müdafiə edə bildi.[2] Sonradan ikinci orta çəkiyə yüksəldi və 2018-ci ilin may ayında məşhur Rusiya boksçusu Dmitri Çudinovu (21-2-2) məğlub edərək Dünya Boks Şurası (WBC) tərəfindən boş qalan gümüş çempion adını qazandı.[3] ↑ Anson Wainwright (2017-02-11). \"Azizbek Abdugofurov still unbeaten following Singwancha test\" (ingilis). The Ring. İstifadə tarixi: 2018-11-08. ↑ Кирилл Иванов (2018-05-06). \"Азизбек Абдугофуров поставил точку в карьере Дмитрия Чудинова\". mmaboxing.ru. İstifadə tarixi: 2018-11-08.\n"
     ]
    }
   ],
   "source": [
    "print(\n",
    "    'Azizbek Abduqofurov — Vikipediya Azizbek Abduqofurov 6 mart 1992(1992-03-06) (28 yaş) Ķürgontepa[d], Əndican vilayəti, Özbəkistan Azizbek Abdumuxtar Abduqofurov (doğ. 6 mart 1992, Kurqantepe, Əndican vilayəti) — özbək peşəkar bokusçusu. Orta və ikinci orta çəki kateqoriyasında çıxış edir. 2010-cu ilin əvvələrində Özbəkistan yığma komandasında çıxış etmişdir. Kazanda keçirilən 2013 Yay Universiada Oyunlarının bürünc mükafatçısı, müxtəlif beynəlxalq əhəmiyyətli yarışların qalibi və mükafatçısı. Almatıda keçirilən dünya çempionatının iştirakçısı. Peşəkar boksda WBC Silver versiyası üzrə 2018-ci ildə dünya çempionu (2-ci orta çəki kateqoriyasında). 2 Həvəskar karyerası Azizbek Abduqofurov 6 mart 1992-ci ildə Özbəkistanın Əndican vilayətinin Kurqantepa şəhərində anadan olmuşdur. Həvəskar karyerası[redaktə | əsas redaktə] 2010-cu il mövsümündə beynəlxalq arenada debüt etdi. Bakıda keçirilən Gənclər Dünya Çempionatında çıxış etdi. Azərbaycanda keçirilən \"Böyük İpək Yolu\" gənclər beynəlxalq turnirində bürünc medal qazandı. 2013-cü ildə orta çəki dərəcəsində Özbəkistan boks çempionatında gümüş medal qazandı, final matçında Xurshidbek Normatova məğlub oldu və eyni zamanda Özbəkistan kubokunu qazandı. Özbəkistanı Almatıda keçirilən dünya çempionatında təmsil etdi. 75 kq çəki dərəcəsində turnirin ilk üç mərhələsini uğurla keçdi. Dörddəbir final görüşündə rusiyalı Artem Çebotaryova məğlub oldu. AtIrauda keçirilən Askar Kulibayevin mükafatI uğrunda keçirilən beynəlxalq turnirdə dörddəbir finalda rus boksçu Vladislav Fedyurinə məğlub oldu .[1] Özbəkistan milli komandasını tərk edərək, 2016-cı ilin may ayında Abduqofurov peşəkar səviyyədə debüt etdi. Əsasən Malayziya və Sinqapurda bir çox döyüşlər keçirdi və bir neçə güclü rəqibinə qalib gələ bildi. Xüsusən də Taylandlı bir çox kateqoriya üzrə dünya çempionu Sirimongkol Singvançanı məğlub edə bildi (94-2). Bu dövrdə Azizbek Asiya Boks Şurasının (ABCO) orta çəki çempionu titulunu qazandı və onu yenidən müdafiə edə bildi.[2] Sonradan ikinci orta çəkiyə yüksəldi və 2018-ci ilin may ayında məşhur Rusiya boksçusu Dmitri Çudinovu (21-2-2) məğlub edərək Dünya Boks Şurası (WBC) tərəfindən boş qalan gümüş çempion adını qazandı.[3] ↑ Anson Wainwright (2017-02-11). \"Azizbek Abdugofurov still unbeaten following Singwancha test\" (ingilis). The Ring. İstifadə tarixi: 2018-11-08. ↑ Кирилл Иванов (2018-05-06). \"Азизбек Абдугофуров поставил точку в карьере Дмитрия Чудинова\". mmaboxing.ru. İstifadə tarixi: 2018-11-08.'\n",
    ")"
   ]
  },
  {
   "cell_type": "code",
   "execution_count": null,
   "metadata": {},
   "outputs": [],
   "source": []
  }
 ],
 "metadata": {
  "kernelspec": {
   "display_name": "llm",
   "language": "python",
   "name": "python3"
  },
  "language_info": {
   "codemirror_mode": {
    "name": "ipython",
    "version": 3
   },
   "file_extension": ".py",
   "mimetype": "text/x-python",
   "name": "python",
   "nbconvert_exporter": "python",
   "pygments_lexer": "ipython3",
   "version": "3.11.5"
  }
 },
 "nbformat": 4,
 "nbformat_minor": 2
}
