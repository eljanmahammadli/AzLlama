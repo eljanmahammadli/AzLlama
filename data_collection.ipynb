{
 "cells": [
  {
   "cell_type": "code",
   "execution_count": 3,
   "metadata": {},
   "outputs": [],
   "source": [
    "import re\n",
    "from tqdm import tqdm # progress bar\n",
    "import numpy as np\n",
    "import pandas as pd\n",
    "import matplotlib.pyplot as plt\n",
    "from datasets import load_dataset\n",
    "import pycld2 as cld2  # language detector\n",
    "from unidecode import unidecode\n",
    "import tldextract # domain extractor"
   ]
  },
  {
   "cell_type": "code",
   "execution_count": 211,
   "metadata": {},
   "outputs": [],
   "source": [
    "pd.set_option('display.max_colwidth', 500)\n",
    "pd.set_option('display.max_rows', None)"
   ]
  },
  {
   "cell_type": "markdown",
   "metadata": {},
   "source": [
    "## load the dataset"
   ]
  },
  {
   "cell_type": "code",
   "execution_count": 4,
   "metadata": {},
   "outputs": [
    {
     "data": {
      "application/vnd.jupyter.widget-view+json": {
       "model_id": "23d4046d5c674d5d980232b0ef1fbd91",
       "version_major": 2,
       "version_minor": 0
      },
      "text/plain": [
       "Loading dataset shards:   0%|          | 0/33 [00:00<?, ?it/s]"
      ]
     },
     "metadata": {},
     "output_type": "display_data"
    },
    {
     "name": "stdout",
     "output_type": "stream",
     "text": [
      "(196158, 4)\n",
      "(5084505, 4)\n"
     ]
    },
    {
     "data": {
      "text/plain": [
       "source\n",
       "mC4           4306983\n",
       "OSCAR-2019     290336\n",
       "OSCAR-2109     212313\n",
       "OSCAR-2301     177332\n",
       "OSCAR-2201      97541\n",
       "Name: count, dtype: int64"
      ]
     },
     "execution_count": 4,
     "metadata": {},
     "output_type": "execute_result"
    }
   ],
   "source": [
    "wiki = load_dataset(\"wikimedia/wikipedia\", \"20231101.az\")[\"train\"].to_pandas()\n",
    "cultrax_df = load_dataset(\"uonlp/CulturaX\", \"az\")['train'].to_pandas()\n",
    "print(wiki.shape)\n",
    "print(cultrax_df.shape)\n",
    "cultrax_df['source'].value_counts()"
   ]
  },
  {
   "cell_type": "markdown",
   "metadata": {},
   "source": [
    "## concat cultrax and wikipedia"
   ]
  },
  {
   "cell_type": "code",
   "execution_count": 5,
   "metadata": {},
   "outputs": [
    {
     "name": "stdout",
     "output_type": "stream",
     "text": [
      "(5208062, 3)\n"
     ]
    }
   ],
   "source": [
    "# drop wikipedia data to add from the wikipedia itself\n",
    "cultrax_df = cultrax_df[~cultrax_df['url'].str.contains(\"wikipedia\")]\n",
    "cultrax_df.drop(columns=['timestamp'], axis=1, inplace=True)\n",
    "wiki.drop(columns=['id', 'title'], axis=1, inplace=True)\n",
    "wiki['source'] = 'wiki'\n",
    "cultrax = pd.concat(objs=[cultrax_df, wiki], axis=0)\n",
    "print(cultrax.shape)"
   ]
  },
  {
   "cell_type": "code",
   "execution_count": 6,
   "metadata": {},
   "outputs": [
    {
     "data": {
      "text/plain": [
       "source\n",
       "mC4           4254852\n",
       "OSCAR-2019     290336\n",
       "OSCAR-2109     199080\n",
       "wiki           196158\n",
       "OSCAR-2301     172705\n",
       "OSCAR-2201      94931\n",
       "Name: count, dtype: int64"
      ]
     },
     "execution_count": 6,
     "metadata": {},
     "output_type": "execute_result"
    }
   ],
   "source": [
    "cultrax['source'].value_counts()"
   ]
  },
  {
   "cell_type": "markdown",
   "metadata": {},
   "source": [
    "## extract the domains from the urls"
   ]
  },
  {
   "cell_type": "code",
   "execution_count": 7,
   "metadata": {},
   "outputs": [
    {
     "name": "stderr",
     "output_type": "stream",
     "text": [
      "Processing URLs: 100%|██████████| 5208062/5208062 [00:15<00:00, 340445.35it/s]\n"
     ]
    }
   ],
   "source": [
    "tqdm.pandas(desc=\"Processing URLs\")\n",
    "cultrax['domain'] = cultrax['url'].progress_apply(lambda x: tldextract.extract(x).domain)"
   ]
  },
  {
   "cell_type": "code",
   "execution_count": 8,
   "metadata": {},
   "outputs": [
    {
     "data": {
      "text/plain": [
       "domain\n",
       "                      290336\n",
       "wikipedia             196158\n",
       "azadliq               179510\n",
       "trend                  99718\n",
       "report                 67497\n",
       "                       ...  \n",
       "documentfoundation         1\n",
       "skygolf                    1\n",
       "hanuur                     1\n",
       "brasilalemanha             1\n",
       "linkthe                    1\n",
       "Name: count, Length: 29123, dtype: int64"
      ]
     },
     "execution_count": 8,
     "metadata": {},
     "output_type": "execute_result"
    }
   ],
   "source": [
    "cultrax['domain'].value_counts()"
   ]
  },
  {
   "cell_type": "code",
   "execution_count": 9,
   "metadata": {},
   "outputs": [
    {
     "name": "stdout",
     "output_type": "stream",
     "text": [
      "DİN-in mətbuat xidmətindən \"Report\"a verilən məlumata görə, mayın 2-də saat 19 radələrində Goranboy rayonunun Xanqərvənd kəndi ərazisində kənd sakini Əli Süleymanovun idarə etdiyi “VAZ-2121” və Ağdam rayon sakini Füzuli Quliyevin idarə etdiyi “Toyota” markalı avtomobillər toqquşub. Nəticədə Ə.Süleymanov hadisə yerində ölüb, 2 sərnişini, habelə F.Quliyev və sərnişinləri - arvadı Cəmilə və azyaşlı nəvəsi xəstəxanaya yerləşdiriliblər. F.Quliyev və Cəmilə orada ölüblər.\n"
     ]
    }
   ],
   "source": [
    "print(cultrax[cultrax['domain'] == \"\"].iloc[1000]['text'])"
   ]
  },
  {
   "cell_type": "markdown",
   "metadata": {},
   "source": [
    "## language detection"
   ]
  },
  {
   "cell_type": "code",
   "execution_count": 10,
   "metadata": {},
   "outputs": [
    {
     "name": "stderr",
     "output_type": "stream",
     "text": [
      "Detecting languages: 100%|██████████| 5208062/5208062 [12:59<00:00, 6681.97it/s] \n"
     ]
    }
   ],
   "source": [
    "def detect_language(text):\n",
    "    try:\n",
    "        det = cld2.detect(text)\n",
    "        is_reliable = det[0]\n",
    "        lang = det[2][0][1]\n",
    "        perc = det[2][0][2]\n",
    "        return is_reliable, lang, perc\n",
    "    except Exception as e:\n",
    "        return \"pycld2_error\", \"pycld2_error\", \"pycld2_error\"\n",
    "\n",
    "tqdm.pandas(desc=\"Detecting languages\")\n",
    "cultrax[['is_reliable', 'lang', 'perc']] = cultrax['text'].progress_apply(detect_language).apply(pd.Series)"
   ]
  },
  {
   "cell_type": "code",
   "execution_count": 11,
   "metadata": {},
   "outputs": [],
   "source": [
    "def remove_invalid_utf8(text):\n",
    "    pattern = re.compile(r'(?![ƏəİIıÖöÜüĞğÇçŞş])([^\\x00-\\x7F]+)')\n",
    "    cleaned_text = pattern.sub('', text)\n",
    "    return cleaned_text\n",
    "\n",
    "utf_errors = cultrax[cultrax['lang'] == 'pycld2_error']\n",
    "cultrax = cultrax[cultrax['lang'] != 'pycld2_error']\n",
    "utf_errors['text'] = utf_errors['text'].apply(remove_invalid_utf8)                          \n",
    "utf_errors.drop(columns=['is_reliable', 'lang', 'perc'], axis=1, inplace=True)\n",
    "utf_errors[['is_reliable', 'lang', 'perc']] = utf_errors['text'].apply(detect_language).apply(pd.Series)\n",
    "cultrax = pd.concat(objs=[cultrax, utf_errors], axis=0)\n",
    "cultrax = cultrax[cultrax['lang'] == \"az\"]"
   ]
  },
  {
   "cell_type": "code",
   "execution_count": 14,
   "metadata": {},
   "outputs": [
    {
     "data": {
      "text/html": [
       "<div>\n",
       "<style scoped>\n",
       "    .dataframe tbody tr th:only-of-type {\n",
       "        vertical-align: middle;\n",
       "    }\n",
       "\n",
       "    .dataframe tbody tr th {\n",
       "        vertical-align: top;\n",
       "    }\n",
       "\n",
       "    .dataframe thead th {\n",
       "        text-align: right;\n",
       "    }\n",
       "</style>\n",
       "<table border=\"1\" class=\"dataframe\">\n",
       "  <thead>\n",
       "    <tr style=\"text-align: right;\">\n",
       "      <th></th>\n",
       "      <th>text</th>\n",
       "      <th>url</th>\n",
       "      <th>source</th>\n",
       "      <th>domain</th>\n",
       "      <th>is_reliable</th>\n",
       "      <th>lang</th>\n",
       "      <th>perc</th>\n",
       "    </tr>\n",
       "  </thead>\n",
       "  <tbody>\n",
       "    <tr>\n",
       "      <th>0</th>\n",
       "      <td>Mühacirət mövzusunun öyrənilməsi ictimai-siyas...</td>\n",
       "      <td>https://azertag.az/xeber/Muhaciret_movzusunun_...</td>\n",
       "      <td>mC4</td>\n",
       "      <td>azertag</td>\n",
       "      <td>True</td>\n",
       "      <td>az</td>\n",
       "      <td>99</td>\n",
       "    </tr>\n",
       "    <tr>\n",
       "      <th>1</th>\n",
       "      <td>Raylar Antaliyada Falez Qovşağına Çıxdı Üçüncü...</td>\n",
       "      <td>https://az.rayhaber.com/2020/10/antalya-3-etap...</td>\n",
       "      <td>mC4</td>\n",
       "      <td>rayhaber</td>\n",
       "      <td>True</td>\n",
       "      <td>az</td>\n",
       "      <td>99</td>\n",
       "    </tr>\n",
       "    <tr>\n",
       "      <th>2</th>\n",
       "      <td>Avropaya qaz ixracı birgə tranzit sazişlərinin...</td>\n",
       "      <td>https://az.trend.az/business/energy/1334192.html</td>\n",
       "      <td>mC4</td>\n",
       "      <td>trend</td>\n",
       "      <td>True</td>\n",
       "      <td>az</td>\n",
       "      <td>99</td>\n",
       "    </tr>\n",
       "    <tr>\n",
       "      <th>3</th>\n",
       "      <td>Palitra qəzetiSərnişin avtobuslarını çirkləndi...</td>\n",
       "      <td>http://www.palitranews.az/news.php?id=65577</td>\n",
       "      <td>mC4</td>\n",
       "      <td>palitranews</td>\n",
       "      <td>True</td>\n",
       "      <td>az</td>\n",
       "      <td>99</td>\n",
       "    </tr>\n",
       "    <tr>\n",
       "      <th>4</th>\n",
       "      <td>Oxunub: 912 10:37 19 İyun 2021\\nMərkəzdən Ordu...</td>\n",
       "      <td>https://ordu.az/ru/news/192570/respondentlerin...</td>\n",
       "      <td>mC4</td>\n",
       "      <td>ordu</td>\n",
       "      <td>True</td>\n",
       "      <td>az</td>\n",
       "      <td>99</td>\n",
       "    </tr>\n",
       "    <tr>\n",
       "      <th>...</th>\n",
       "      <td>...</td>\n",
       "      <td>...</td>\n",
       "      <td>...</td>\n",
       "      <td>...</td>\n",
       "      <td>...</td>\n",
       "      <td>...</td>\n",
       "      <td>...</td>\n",
       "    </tr>\n",
       "    <tr>\n",
       "      <th>132689</th>\n",
       "      <td>Azərbaycanın kosmik proqramı  Azərbaycan hökum...</td>\n",
       "      <td>https://az.wikipedia.org/wiki/Az%C9%99rbaycan%...</td>\n",
       "      <td>wiki</td>\n",
       "      <td>wikipedia</td>\n",
       "      <td>True</td>\n",
       "      <td>az</td>\n",
       "      <td>99</td>\n",
       "    </tr>\n",
       "    <tr>\n",
       "      <th>134613</th>\n",
       "      <td>Alber Mari Lebur (; ) fransız rəssam-peyzajist...</td>\n",
       "      <td>https://az.wikipedia.org/wiki/Alber%20Mari%20L...</td>\n",
       "      <td>wiki</td>\n",
       "      <td>wikipedia</td>\n",
       "      <td>True</td>\n",
       "      <td>az</td>\n",
       "      <td>99</td>\n",
       "    </tr>\n",
       "    <tr>\n",
       "      <th>161691</th>\n",
       "      <td>Şəki Xalq Tətbiqi Sənəti Muzeyi Şəki Xalq Tətb...</td>\n",
       "      <td>https://az.wikipedia.org/wiki/%C5%9E%C9%99ki%2...</td>\n",
       "      <td>wiki</td>\n",
       "      <td>wikipedia</td>\n",
       "      <td>True</td>\n",
       "      <td>az</td>\n",
       "      <td>99</td>\n",
       "    </tr>\n",
       "    <tr>\n",
       "      <th>171555</th>\n",
       "      <td>Balta-Limanı ticarət konvensiyası  Osmanlı imp...</td>\n",
       "      <td>https://az.wikipedia.org/wiki/Balta-Liman%20ko...</td>\n",
       "      <td>wiki</td>\n",
       "      <td>wikipedia</td>\n",
       "      <td>True</td>\n",
       "      <td>az</td>\n",
       "      <td>82</td>\n",
       "    </tr>\n",
       "    <tr>\n",
       "      <th>177178</th>\n",
       "      <td>Marquşavan əməliyyatı və ya Marağa əməliyyatı ...</td>\n",
       "      <td>https://az.wikipedia.org/wiki/Marqu%C5%9Favan%...</td>\n",
       "      <td>wiki</td>\n",
       "      <td>wikipedia</td>\n",
       "      <td>True</td>\n",
       "      <td>az</td>\n",
       "      <td>99</td>\n",
       "    </tr>\n",
       "  </tbody>\n",
       "</table>\n",
       "<p>5204194 rows × 7 columns</p>\n",
       "</div>"
      ],
      "text/plain": [
       "                                                     text  \\\n",
       "0       Mühacirət mövzusunun öyrənilməsi ictimai-siyas...   \n",
       "1       Raylar Antaliyada Falez Qovşağına Çıxdı Üçüncü...   \n",
       "2       Avropaya qaz ixracı birgə tranzit sazişlərinin...   \n",
       "3       Palitra qəzetiSərnişin avtobuslarını çirkləndi...   \n",
       "4       Oxunub: 912 10:37 19 İyun 2021\\nMərkəzdən Ordu...   \n",
       "...                                                   ...   \n",
       "132689  Azərbaycanın kosmik proqramı  Azərbaycan hökum...   \n",
       "134613  Alber Mari Lebur (; ) fransız rəssam-peyzajist...   \n",
       "161691  Şəki Xalq Tətbiqi Sənəti Muzeyi Şəki Xalq Tətb...   \n",
       "171555  Balta-Limanı ticarət konvensiyası  Osmanlı imp...   \n",
       "177178  Marquşavan əməliyyatı və ya Marağa əməliyyatı ...   \n",
       "\n",
       "                                                      url source       domain  \\\n",
       "0       https://azertag.az/xeber/Muhaciret_movzusunun_...    mC4      azertag   \n",
       "1       https://az.rayhaber.com/2020/10/antalya-3-etap...    mC4     rayhaber   \n",
       "2        https://az.trend.az/business/energy/1334192.html    mC4        trend   \n",
       "3             http://www.palitranews.az/news.php?id=65577    mC4  palitranews   \n",
       "4       https://ordu.az/ru/news/192570/respondentlerin...    mC4         ordu   \n",
       "...                                                   ...    ...          ...   \n",
       "132689  https://az.wikipedia.org/wiki/Az%C9%99rbaycan%...   wiki    wikipedia   \n",
       "134613  https://az.wikipedia.org/wiki/Alber%20Mari%20L...   wiki    wikipedia   \n",
       "161691  https://az.wikipedia.org/wiki/%C5%9E%C9%99ki%2...   wiki    wikipedia   \n",
       "171555  https://az.wikipedia.org/wiki/Balta-Liman%20ko...   wiki    wikipedia   \n",
       "177178  https://az.wikipedia.org/wiki/Marqu%C5%9Favan%...   wiki    wikipedia   \n",
       "\n",
       "       is_reliable lang perc  \n",
       "0             True   az   99  \n",
       "1             True   az   99  \n",
       "2             True   az   99  \n",
       "3             True   az   99  \n",
       "4             True   az   99  \n",
       "...            ...  ...  ...  \n",
       "132689        True   az   99  \n",
       "134613        True   az   99  \n",
       "161691        True   az   99  \n",
       "171555        True   az   82  \n",
       "177178        True   az   99  \n",
       "\n",
       "[5204194 rows x 7 columns]"
      ]
     },
     "execution_count": 14,
     "metadata": {},
     "output_type": "execute_result"
    }
   ],
   "source": [
    "cultrax"
   ]
  },
  {
   "cell_type": "code",
   "execution_count": 30,
   "metadata": {},
   "outputs": [
    {
     "name": "stdout",
     "output_type": "stream",
     "text": [
      "BakuTime.com – Porsche 911 fandomunda “qızardılmış yumurta” (fried-egg) fənərləri, ümumiyyətlə qeyri-adi görünüşü və Porsche üçün ilk olaraq su ilə soyudulmuş düz-6 (water-cooled flat-6) mühərriki ilə 996-dan daha qütbləşən nəsil yoxdur. O, digər nəsillərin etdiyi sevgini tez-tez almır, lakin Porsche-nin ən son birdəfəlik yaradıcılığını nümayiş etdirməsi ilə bu, dəyişə bilər.\n",
      "Porsche bu həftə avtomobil istehsalçısının Porsche Club of America üçün hazırlanmış tək konsept olan 911 Classic Club Coupe-ni təqdim etdi. Donor avtomobili 1998-ci ildə yığılıb və Virciniya ştatındakı dilerlərin birində sönük vəziyyətdə aşkar edilib. Avtomobil Almaniyaya qaytarıldı, burada tamamilə fərqli bir şeyə çevrilmək üçün ilk addımda tamamilə söküldü.\n",
      "BəyənilmişPostlar\n",
      "Renault Megane 27 ildən sonra istehsalını dayandırdı\n",
      "Avtomobil almaq istəyənlərin NƏZƏRİNƏ: Zəncir, yoxsa qayış mühərrikli maşın yaxşı yol yoldaşıdır? – FOTO\n",
      "Xiaomi elektrik avtomobili barədə nə bilirsiz?\n",
      "996-nın gövdəsi ilk dəfə 996-cı nəsildə satışa çıxarılan sərt GT3 variantından ilhamlanaraq həm yeni, həm də orijinal avadanlıq hissələrindən istifadə etməklə gücləndirilib. Mühərrik təxminən 375 at gücü hasil edən 996.2 GT3-dən 3,6 litrlik flat-6 ilə əvəz olundu. Əyləclər və mexaniki transmissiya da GT3 ilə dəyişdirildi.\n",
      "Classic Club Coupe-nin estetikası böyük ölçüdə 997-ci nəsil Sport Classic ilə bağlıdır. İki yarış zolağı öndən arxaya, Sport Grey Metallic boyanın üzərində uzanır və mərkəzi əyləc işığı olan vintage tipli ördək quyruğu spoylerinin arxasında bitir. Unikal “ikiqat qabarcıqlı” dam hündür sürücülərə dəbilqə taxaraq içəri yerləşdirməyə imkan verir və 911 puristlərin gözlədiyi kimi, kuzov parlaq qara rəngə boyanmış 18 düymlük Fuchs təkərləri dəstində yuvarlanır.\n",
      "911 Classic Club Coupe-nin kuzov inkişafının bəlkə də ən maraqlı tərəfi onun ikinci avtomobili tələb etməsidir. Porsche-nin müəssisələrində yüksək sürətli sarsıntı testlərini həyata keçirmək üçün avtomobil istehsalçısı son məhsulun yerində dayanan sınaq avtomobili düzəltdi. Sınaq başa çatdıqdan sonra Porsche ikinci avtomobili məhv etdi və yalnız birinin mövcud olacağına əmin oldu.\n",
      "Classic Club Coupe-nin daxili hissələrini tamamilə dəyişdirərək avtomobilin idman oturacaqlarını təzə dəri ilə örtüb. Hətta hər oturacağın ortasındakı houndstooth naxışı iki fərqli dəri növünün bir-birinə toxunmasından hazırlanır. Texnika da tək qalmadı; indi məlumat-əyləncə displeyi avtomobil istehsalçısının Apple CarPlay və Android Auto daxil olmaqla PCM məlumat-əyləncə sistemini idarə edir.\n",
      "Bu, Porsche Classic departamentinin bu qədər təsir edici bir şeylə çıxış etməsi ilk dəfə deyil. 2018-ci ildə avtomobil istehsalçısı 993-cü nəsil 911-dən orijinal qabığı götürən və onu tamamilə canlandıran, mahiyyətcə yeni 993 Turbo yaradan Project Gold-u təqdim etdi.\n",
      "BəyənilmişPostlar\n",
      "Maşın\n",
      "Renault Megane 27 ildən sonra istehsalını dayandırdı\n",
      "İyul 21, 2022\n",
      "Maşın\n",
      "Avtomobil almaq istəyənlərin NƏZƏRİNƏ: Zəncir, yoxsa qayış mühərrikli maşın yaxşı yol yoldaşıdır? – FOTO\n",
      "Avqust 1, 2022\n",
      "Maşın\n",
      "Xiaomi elektrik avtomobili barədə nə bilirsiz?\n",
      "İyul 10, 2022\n",
      "Maşın\n",
      "“Hennessey” surerelektomobili barədə yeni təfərrüatlar məlum olub\n",
      "İyul 6, 2022\n",
      "Next Post\n",
      "Ən yaxşı PS5 Oyunları - Ən Yaxşı PlayStation 5 Oyunlarının icmalı\n",
      "Please login to join discussion\n",
      "Alış-veriş bələdçisiyüksək məlumat\n",
      "Huawei Watch GT3\n",
      "Harmonik əməliyyat sistemi, misilsiz batareya ömrü, yaxşı qurulmuş korpus və çoxsaylı\n",
      "Samsung Q80A QLED 4K TV\n",
      "Samsung Q80A TV panel keyfiyyətinə görə OLED televizorları ilə rəqabət aparmağa\n",
      "Sony X90J 4K TV\n",
      "Apple M1-in 13 düymlük MacBook Pro\n",
      "MSI Katana GF66 11UE\n",
      "Samsung Galaxy A22 4G\n",
      "Baku Time nədir?\n",
      "Texnologiya, İnformatika, Müasirlik və Enerji üzrə tədqiqat saytı\n",
      "Baku Time\" Texnologiya, alış-veriş bələdçisi, araşdırma və icmal. “DI” kolleksiyasının lisenziyası əsasında\n"
     ]
    }
   ],
   "source": [
    "print(cultrax.sample(1).iloc[0]['text'])"
   ]
  },
  {
   "cell_type": "code",
   "execution_count": null,
   "metadata": {},
   "outputs": [],
   "source": []
  }
 ],
 "metadata": {
  "kernelspec": {
   "display_name": "llm",
   "language": "python",
   "name": "python3"
  },
  "language_info": {
   "codemirror_mode": {
    "name": "ipython",
    "version": 3
   },
   "file_extension": ".py",
   "mimetype": "text/x-python",
   "name": "python",
   "nbconvert_exporter": "python",
   "pygments_lexer": "ipython3",
   "version": "3.11.5"
  }
 },
 "nbformat": 4,
 "nbformat_minor": 2
}
