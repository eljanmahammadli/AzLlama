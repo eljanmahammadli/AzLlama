{
 "cells": [
  {
   "cell_type": "code",
   "execution_count": 1,
   "id": "18a58bdb",
   "metadata": {},
   "outputs": [
    {
     "name": "stderr",
     "output_type": "stream",
     "text": [
      "/Users/elcan/anaconda3/envs/llm/lib/python3.11/site-packages/tqdm/auto.py:21: TqdmWarning: IProgress not found. Please update jupyter and ipywidgets. See https://ipywidgets.readthedocs.io/en/stable/user_install.html\n",
      "  from .autonotebook import tqdm as notebook_tqdm\n"
     ]
    }
   ],
   "source": [
    "import re\n",
    "import tqdm\n",
    "from datasets import load_dataset"
   ]
  },
  {
   "cell_type": "markdown",
   "id": "821047fa",
   "metadata": {},
   "source": [
    "### oscar corpus for azerbaijan language"
   ]
  },
  {
   "cell_type": "code",
   "execution_count": 6,
   "id": "f65b41ee",
   "metadata": {},
   "outputs": [
    {
     "name": "stderr",
     "output_type": "stream",
     "text": [
      "/Users/elcan/anaconda3/envs/llmenv/lib/python3.11/site-packages/datasets/load.py:2089: FutureWarning: 'use_auth_token' was deprecated in favor of 'token' in version 2.14.0 and will be removed in 3.0.0.\n",
      "You can remove this warning by passing 'token=True' instead.\n",
      "  warnings.warn(\n"
     ]
    }
   ],
   "source": [
    "dataset = load_dataset(\n",
    "    \"oscar-corpus/OSCAR-2201\",\n",
    "    use_auth_token=True,  # required\n",
    "    language=\"az\",\n",
    "    streaming=True,  # optional\n",
    "    split=\"train\",\n",
    ")  # optional, but the dataset only has a train split"
   ]
  },
  {
   "cell_type": "code",
   "execution_count": 7,
   "id": "92847694",
   "metadata": {},
   "outputs": [
    {
     "name": "stderr",
     "output_type": "stream",
     "text": [
      "491847it [05:57, 1375.03it/s]\n"
     ]
    }
   ],
   "source": [
    "num_doc = 0\n",
    "\n",
    "with open(\"azoscar.txt\", \"w\", encoding=\"utf-8\") as f:\n",
    "    for doc in tqdm.tqdm(dataset):\n",
    "        f.write(doc[\"text\"] + \"\\n\")\n",
    "        num_doc += 1"
   ]
  },
  {
   "cell_type": "code",
   "execution_count": 3,
   "id": "1292d74f",
   "metadata": {},
   "outputs": [],
   "source": [
    "with open(\"azoscar.txt\", \"r\", encoding=\"utf-8\") as file:\n",
    "    azoscar = file.read()"
   ]
  },
  {
   "cell_type": "code",
   "execution_count": 4,
   "id": "2b335986",
   "metadata": {},
   "outputs": [
    {
     "name": "stdout",
     "output_type": "stream",
     "text": [
      "Total Documents: 491847\n",
      "Total Characters: 2370422238\n",
      "Total Words: 311553615\n",
      "Total Unique Words: 6050224\n"
     ]
    }
   ],
   "source": [
    "# total number of characters\n",
    "num_chars = len(azoscar)\n",
    "# total number of words\n",
    "words = azoscar.split()\n",
    "num_words = len(words)\n",
    "# total number of unique words\n",
    "num_unique_words = len(set(words))\n",
    "# total number of sentences\n",
    "# sentences = [s.strip() for s in re.split('[.!?]', azoscar) if s]\n",
    "# num_sentences = len(sentences)\n",
    "# average word length\n",
    "# avg_word_length = sum(len(word) for word in words) / num_words\n",
    "# average sentence length\n",
    "# avg_sentence_length = sum(len(sentence.split()) for sentence in sentences) / num_sentences\n",
    "\n",
    "print(f\"Total Characters: {num_chars}\")\n",
    "print(f\"Total Words: {num_words}\")\n",
    "print(f\"Total Unique Words: {num_unique_words}\")\n",
    "# print(f\"Total Sentences: {num_sentences}\")\n",
    "# print(f\"Average Word Length: {avg_word_length:.2f}\")\n",
    "# print(f\"Average Sentence Length (in words): {avg_sentence_length:.2f}\")"
   ]
  },
  {
   "cell_type": "markdown",
   "id": "e77d0ef6",
   "metadata": {},
   "source": [
    "### azwiki corpsu"
   ]
  },
  {
   "cell_type": "code",
   "execution_count": 2,
   "id": "ddc30db1",
   "metadata": {},
   "outputs": [],
   "source": [
    "with open(\"azwiki.txt\", \"r\", encoding=\"utf-8\") as file:\n",
    "    azwiki = file.read()"
   ]
  },
  {
   "cell_type": "code",
   "execution_count": 3,
   "id": "2b61b99b",
   "metadata": {},
   "outputs": [
    {
     "name": "stdout",
     "output_type": "stream",
     "text": [
      "Total Characters: 349000338\n",
      "Total Words: 41895346\n",
      "Total Unique Words: 3137358\n",
      "Total Sentences: 4441029\n",
      "Average Word Length: 7.31\n",
      "Average Sentence Length (in words): 9.72\n"
     ]
    }
   ],
   "source": [
    "# total number of characters\n",
    "num_chars = len(azwiki)\n",
    "# total number of words\n",
    "words = azwiki.split()\n",
    "num_words = len(words)\n",
    "# total number of unique words\n",
    "num_unique_words = len(set(words))\n",
    "# total number of sentences\n",
    "sentences = [s.strip() for s in re.split(\"[.!?]\", azwiki) if s]\n",
    "num_sentences = len(sentences)\n",
    "# average word length\n",
    "avg_word_length = sum(len(word) for word in words) / num_words\n",
    "# average sentence length\n",
    "avg_sentence_length = sum(len(sentence.split()) for sentence in sentences) / num_sentences\n",
    "\n",
    "print(f\"Total Characters: {num_chars}\")\n",
    "print(f\"Total Words: {num_words}\")\n",
    "print(f\"Total Unique Words: {num_unique_words}\")\n",
    "print(f\"Total Sentences: {num_sentences}\")\n",
    "print(f\"Average Word Length: {avg_word_length:.2f}\")\n",
    "print(f\"Average Sentence Length (in words): {avg_sentence_length:.2f}\")"
   ]
  },
  {
   "cell_type": "code",
   "execution_count": 4,
   "id": "b6c7d571",
   "metadata": {},
   "outputs": [
    {
     "name": "stdout",
     "output_type": "stream",
     "text": [
      "Total Documents: 264337\n"
     ]
    }
   ],
   "source": [
    "num_doc = len(azwiki.split(\"https://az.wikipedia.org\"))\n",
    "print(f\"Total Documents: {num_doc}\")"
   ]
  },
  {
   "cell_type": "markdown",
   "id": "c71321f9",
   "metadata": {},
   "source": [
    "### azcorpus"
   ]
  },
  {
   "cell_type": "code",
   "execution_count": 3,
   "id": "eafb5cc7",
   "metadata": {},
   "outputs": [
    {
     "name": "stderr",
     "output_type": "stream",
     "text": [
      "Resolving data files: 100%|██████████████████████████████████████████████████████████████████| 150/150 [00:06<00:00, 23.27it/s]"
     ]
    },
    {
     "name": "stdout",
     "output_type": "stream",
     "text": [
      "dict_keys(['train'])\n"
     ]
    },
    {
     "name": "stderr",
     "output_type": "stream",
     "text": [
      "\n"
     ]
    }
   ],
   "source": [
    "from datasets import load_dataset\n",
    "\n",
    "# If the dataset is gated/private, make sure you have run huggingface-cli login\n",
    "dataset = load_dataset(\"azcorpus/azcorpus_v0\")\n",
    "print(dataset.keys())\n",
    "# dataset.save_to_disk()"
   ]
  },
  {
   "cell_type": "code",
   "execution_count": 9,
   "id": "9a1cb795-1b2a-42af-b470-3d3e9763f386",
   "metadata": {},
   "outputs": [
    {
     "data": {
      "text/plain": [
       "269992"
      ]
     },
     "execution_count": 9,
     "metadata": {},
     "output_type": "execute_result"
    }
   ],
   "source": [
    "len(dataset[\"train\"])"
   ]
  },
  {
   "cell_type": "code",
   "execution_count": 10,
   "id": "44f1fbc7",
   "metadata": {},
   "outputs": [
    {
     "data": {
      "text/plain": [
       "{'license': 'Public Domain',\n",
       " 'reliability': 4,\n",
       " 'text': None,\n",
       " 'id': '77e924a2-dc1d-40e1-ad36-f6452dc40964',\n",
       " 'source': 'az_wiki'}"
      ]
     },
     "execution_count": 10,
     "metadata": {},
     "output_type": "execute_result"
    }
   ],
   "source": [
    "a = dataset[\"train\"][0]\n",
    "a[\"text\"] = None\n",
    "a"
   ]
  },
  {
   "cell_type": "code",
   "execution_count": 20,
   "id": "cd643fdd-b139-46d3-ade9-0016c815956a",
   "metadata": {},
   "outputs": [
    {
     "name": "stdout",
     "output_type": "stream",
     "text": [
      "İş elanısaytlarında yerləşdirilən vakansiyalarda da bu açıqydıngörünməkdədir.-ın əməkdaşının apardığı araşdırma zamanı məlum olub ki,\"nbc bank\" işə xüsusi idman dərəcəsi olan işçilər götürməkistəyir.şirkətin iş elanı belədir:1. gecikmədə olan kredit dosyelərinin təhlil olunması – gecikməsəbəblərinin araşdırılması və problemin aradan qaldırılması üçüntədbirlərin görülməsi;2. gecikmədə olan problemli müştərilərlə bilavasitə ünsiyyətinyaradılması, iş aparılması, kompleks tədbirlərin həyatakeçirilməsi;3. gecikmədə olan müştərilərin ödənişlərinin nizamlanması iləbağlı kredit komitəsinə müraciətlərin hazırlanması;4. problemlərin həll olunması vəziyyətindən asılı olaraqdosyelərin müvafiq struktur bölmələrə təqdim edilməsi.bankın namizədlərə olan tələbləri:1. ali təhsil.2. bank sektorunda problemli kreditlərlə bağlı ən azı 1 illik iştəcrübəsi.3. i̇nsanlarla ünsiyyət qurma bacarığı.4. hesabatların hazırlanması, dəqiqlik və vəzifə öhdəliklərinəməsuliyyətli yanaşma.5. analitik qabiliyyət.6. azərbaycan və rus dillərində səlis danışıq bacarığı.7. msoffice proqramında işləmək bacarığı.8. sürücülük vəsiqəsi.9. i̇dman dərəcəsi.yuxarıda sadalananlar bank sektorunda vacib amillərdən olsa da,sonda qeyd olunan \"i̇dman dərəcəsi\"nin vacib komponent kimigöstərilməsi müəyyən şübhələrə yol açır.bu məsələni bir qədər də araşdırdıqdan sonra daha dəhşətlifaktlarla qarşılaşdıq.adının çəkilməsini istəməyən bank işçisi bu namizədlərinproblemli kreditlər şöbələrinə bilavasitə krediti gecikdirənlərətəzyiq göstərmək, onlardan yeri gələndə zor tətbiq etməklə pulualmaq üçün işə götürüldüyünü bildirdi. onun sözlərinə görə, işəqəbul olunarkən əsas göstərici ali təhsil yox, şəxsin idmangöstəriciləridir.mövzunu gündəmdə saxlayacağıq.\n",
      "--------------------\n",
      "Bu barədə  nazirlər kabinetindən məlumat verilib.bildirilib ki, baş nazir, ardnf-in müşahidə şurasının sədri əli əsədovun sədrliyi ilə keçirilən iclasın gündəliyində dövlət neft fondunun 2021-ci ildə fəaliyyəti haqqında illik hesabatı, maliyyə fəaliyyətinin auditinin nəticələri, fondun 2021-ci il büdcəsinin icrası və digər məsələlər müzakirə edilib.ardnf-in 2021-ci ildə fəaliyyəti haqqında illik hesabatın, auditin nəticələrinin və 2021-ci il üçün büdcəsinin icrasının azərbaycan respublikası prezidentinə təqdim olunması barədə müvafiq qərarlar qəbul olunub.\n",
      "--------------------\n",
      "Bu barədə prezidentin rəsmi saytıməlumat yayıb.sərəncamda qeyd olunur ki, kənd təsərrüfatı məhsullarıistehsalçılarının taxılyığan kombaynlara əlavə ehtiyacını təminetmək məqsədi ilə azərbaycan respublikasının 2014-cü il dövlətbüdcəsində nəzərdə tutulan azərbaycan prezidentinin ehtiyatfondundan \"aqrolizinq\" açıq səhmdar cəmiyyətinə 15 milyon manatayrılsın.maliyyə nazirliyinə bu sərəncamda nəzərdə tutulan məbləğdəmaliyyələşməni müəyyən olunmuş qaydada təmin etmək tapşırılıb.\n",
      "--------------------\n",
      "Qsc-dən  verilən məlumata görə, bununla əlaqədar \"ulduz\" stansiyasında sərnişinlər düşürülüb.qatar depoya göndərilib, əvəzinə qatar verilib. nəticədə, iki qatar arasında intervaldan əlavə 2 dəqiqə fərq yaranıb. ehtiyat qatar xəttə verildiyindən bu fərq qısa müddətdə aradan qaldırılacaq.\n",
      "--------------------\n",
      " Türkiyəli rejissor səhv diaqnozun qurbanı oldu Uşaqlarına yerli kanalları qadağan edən valideynlər Azərbaycan Yazıçılar Birliyinin qurultayının keçirilmə tarixi avqust ayında məlum olacaq Ə Əsgəroğlu onu da əlavə edib ki AYB nin nizamnaməsinə uyğun olaraq Yazıçılar Birliyinin hər bir üzvü sədrliyə namizədliyini irəli sürə bilər Bu hər bir üzvün hüququdur Mən inanıram ki Anar müəllim namizədliyini verəcək və biz də onu dəstəkləyəcəyik Əgər Anar müəllim namizədliyini verməsə kimə zəmanət versə biz də onu dəstəkləyəcəyik Yox əgər bunların heç biri olmasa biz Yazıçılar Birliyinin rəhbərlərindən birini sədr seçəcəyik Bu sözləri APA ya AYB nin mətbuat xidmətinin rəhbəri Ədalət Əsgəroğlu deyib O bildirib ki qurultayın bu ilin sonu üçün keçirilməsi nəzərdə tutulur və qurultayın vaxtının təyin olunması həm də müəyyən əlaqəli təşkilatlardan asılıdır Qurultayda dövlət rəsmiləri də iştirak edə bilər qurultaya nümayəndələr seçilməlidir müəyyən nəşrlər çap olunmalıdır Bütün bunlar da kifayət qədər vaxt tələb edir və bu vaxta uyğun da hərəkət etməliyik Hər halda bu ilin sonunda noyabr dekabr aylarında qurultay baş tutacaq AYB nin sədrliyinə adları hallanan namizədlərə gəlincə Ə Əsgəroğlu bildirib ki sədrliyə namizədlərin adlarının mətbuatda hallanması bu gün oyundan başqa bir şey deyil Əgər Anar müəllim namizəd olub olmayacağını qurultay ərəfəsində açıqlaya bilər Bu gün müəyyən namizədlərin adının hallanması ictimaiyyəti çaşdırmaq funksiyasını daşıyır Həmin namizədlər qurultay vaxtı öz namizədliklərini geri götürəcəkləri və yaxud da Anar müəllim sədr olarsa öz namizədliklərini verməyəcəklərini bildirirlər Bunun özündə də bir riyakarlıq saxtakarlıq var Əgər namizəd olan adam özü qabağa dayanıb deməlidir ki sədrliyə namizədliyini vermək istəyir ya yox Deyirlər ki Anar müəllim sədrliyə namizədliyini verməsə o zaman biz namizədliyimizi verəcəyik Bu açıqlamanın özü də qeyri ciddi xarakter daşıyır  Avatar yenidən kassada Titanik i qabaqladı\n",
      "--------------------\n",
      "Report istinadən  bunu türkiyənin xarici işlər naziri mövlud çavuşoğlu abş-dakı türk icması və fəalları ilə görüşündə deyib.“20 illik siyasi həyatımda ölkəmə, millətimə xidmət etmək mənim üçün bir şərəfdir”, - türkiyənin xarici siyasət idarəsinin rəhbəri vurğulayıb.mövlud çavuşoğlu axısxa türklərinin hələ keçmiş ssri̇ dövründə, o cümlədən imperiyanın sabiq rəhbəri i̇osif stalinin hakimiyyətdə olduğu illərdə doğma yurdlarından didərgin salındıqlarını xatırladıb. türkiyənin xarici işlər naziri qeyd edib ki, axısxa türkləri azərbaycan və digər türkdilli ölkələrdə məskunlaşıblar.\n",
      "--------------------\n",
      "-ın məlumatına görə, hadisə şiştəpə kəndində qeydə alınıb.belə ki, şəmkir rayon sakini 1976-cı il təvəllüdlü i̇ntizam hüseynov şəxsi münasibətlər zəminində həyat yoldaşı, 1990-cı il təvəllüdlü mahizər hüseynovanı və qayınanası, 1963-cü il təvəllüdlü sədaqət i̇badullayevanı bıçaqlayıb.nəticədə qayınanası xəstəxanaya aparılarkən yolda dünyasını dəyişib, həyat yoldaşı isə ağır vəziyyətdə xəstəxanaya yerləşdirilib.qeyd edilir ki, m.hüseynova i̇ntizam hüseynovun ikinci həyat yoldaşıdır. bundan öncə də ailədaxili münaqişələr yaşanıb.faktla bağlı araşdırma aparılır.\n",
      "--------------------\n",
      "Dünya tibb elminin gec tez xərçəng xəstəliyinə çarə tapacağına hər kəs inanır Hüceyrə ilə bağlı araşdırmalar genetika ilə bağlı əldə olunan uğurlar buna əsas yaradır  mərhələdə isə inkişaf etmiş dövlətlərdə və cəmiyyətlərdə səhiyyə sistemində əsas diqqət bu xəstəliyi önləməyə yaranmasının qarşısını almağa istiqamətlənib Birinci tövsiyə odur ki insanlar il ərzində ən azı   dəfə müayinədən keçməlidirlər  mərhələdə tətbiq edilən müalicə formaları nəticəsində xəstəlikdən qurtulmaq şansı yüksəkdir Orta və ağırlaşmış mərhələdə isə bu şans minimuma enir Lakin hansısa formada qidalanma yolu ilə bu xəstəliyin qarşısının alınmasının məsələsində birmənalı qənaət yoxdur Məsələn son zamanlar genetika sahəsində böyük uğura imza atan DNT nın şifrələrini çözən Nobel mükafatı laureatı bioloq Ceyms Vatsonun antioksidanlarla bağlı araşdırması buna ən yaxşı misaldır Araşdırmasının nəticələrinə əsaslanan Vatson bəyan edib ki tərkibində antioksidan olan meyvə tərəvəzlərin xərçəngin qarşısını aldığı barədə fikirlər yanlışdır hətta belə meyvə tərəvəzdən çox istifadə edilərsə bunun özü də xərçəngə yol açır Azərbaycanda da vəziyyət fərqli deyil  ci ilin statistikası barədə rəsmi məlumat açıqlanmayıb Ancaq  ci ildən  ci ilə qədərki statistikaya nəzər salmaq da yetərlidir Əgər  ci ildə ölkədə  min  nəfər onkoloji xəstə olubsa  ci ildə  min  belə xəstə olub Yaxud  cu ildə ilk dəfə qoyulmuş diaqnozla  min  belə xəstə qeydiyyata alınıbsa  ci ildə bu göstərici  min  nəfərə çatıb Yəni  il ərzində  faizdən artıq artım müşahidə olunub Xərçəng qadınla kişiyə də fərq qoymur  ci ildə xərçəngə mübtəla olanların  min  nəfəri kişi  min  nəfəri qadın olub Mənzərənin daha aydın olması üçün onu da deyək ki hər  milyon qadından  ü hər bir milyon kişidən  ü xərçəngdən əziyyət çəkib Azərbaycan reallığı  Fevralın Xərçəngə Qarşı Mübarizə günüdür Xərçəng xəstəliyi başqa sözlə bədxassəli şiş bu gün dünyanın ən qorxulu bəlaları sırasındadır Varlı kasıb tanımır Hətta Apple kimi dünyanın ən varlı şirkətinin rəhbəri Stiv Cobsun da yaşam mücadiləsi nəticəsiz oldu Proqnozlar da qorxuludur Ümumdünya Səhiyyə Təşkilatı  ci ildə onkoloji xəstəliklərdən əziyyət çəkənlərin sayının  milyona yüksələcəyini bu xəstəlikdən ölənlərin sayının isə  milyona çatacağını proqnozlaşdırır Çarəsi  Üstəlik dərman şirkətlərinin rəhbərlərinin də yaxın qohumları ailə üzvləri xərçəngdən sığorta olunmayıb Dünya tibb elmi bir zamanlar C vitaminin də xərçəngin qarşısının alınması və müalicəsində ciddi rol oynayacağına inam olub lakin bu ümid özünü doğrultmayıb Məsələn kimyəvi müalicə zamanı xəstəyə C vitamini verilən zaman bu müalicənin təsirinin azaldığı üzə çıxıb Yaxud bir dönəm həkimlər yüksək dozada A vitaminin insanları ağciyər xərçəngin qoruduğuna inanılıb lakin xərçəng xəstələrinə yüksək dozada A vitamini verilən zaman onların bir çoxunun səhhəti ağırlaşıb Xərçəng xəstəliyindən əziyyət çəkənlərin yaş bölgüsü də diqqət çəkir  ci ildə Azərbaycanda   yaşlı insanlar arasında  min  nəfərə  yaşdan yuxarı insanlar arasında  min  nəfərə belə diaqnoz qoyulub Həkimlərin hazırda ümumi fikri budur ki ekoloji cəhətdən təmiz mühitdə yaşamaq və ekoloji cəhətdən təmiz qidadan istifadə etmək bu xəstəlikdən qorunmağa yardımçı olur Tərəvəzin yetişdirilməsində kimyəvi gübrələrin geniş istifadə edildiyi cənub rayonlarımızda o cümlədən ekoloji durumun ürəkaçan olmadığı paytaxt Bakıda xərçəng xəstələrinə daha çox rast gəlinməsi də ekoloji təmiz mühit və qidanın nə dərəcədə mühüm olduğunu göstərir Ancaq Vatsonun yuxarıda qeyd etdiyimiz araşdırmalarını da unutmamalı ekoloji təmiz hər hansı qida növündən də həddən artıq istifadə etməyin xərçəng kimi təhlükəli xəstəliyə zəmin yaratdığını da nəzərə almalıyıq Azərbaycanda qadınlar və kişilər arasında yayılan xərçəng xəstəliyinin növləri də dünya statistikasından ciddi surətdə fərqlənmir Dünya üzrə orta statistik göstəricilərə görə süd vəzisi xərçəngi üzrə hər  xəstənin  i qadındır   si kişidir Mədə xərçəngi   nisbətindədir Yəni  xəstə kişiyə  xəstə qadın düşür Ağciyər xərçəngi üzrə hər  xəstənin  ı kişidir  u qadındır Bu göstəriciləri Azərbaycana da aid etmək olar Bu gün bir çox dünya ölkələrində olduğu kimi elə Azərbaycanın özündə də əhali arasında belə söz söhbət gəzir ki əslində xərçəng xəstəliyinin çarəsi tapılıb lakin xərçəng xəstəliyindən milyardlar qazanan tibb dərman şirkətləri şəbəkəsi gəlirlərini itirməmək üçün bunu açıqlamır Lakin həkimlər bunu inandırıcı saymırlar Məsələn Türk Tibbi Onkoloji Dərnəyinin sədri professor Pınar Saip bildirir ki öncə xərçəngin tək bir xəstəlik olmadığını nəzərə almaq lazımdır yaranması xarakteri müalicəsi çox fərqli olan xəstəliyə verilən bir addır Ona görə də tək bir dərmanla bütün xərçəng xəstəliklərinin müalicəsi mümkün ola bilməz Hətta qadınlarda tez tez rast gəlinən süd vəzi xərçənginin belə beş növü var Digər tərəfdən əgər xərçəngi tam müalicə edən bir dərman kəşf olunubsa bunu kəşf etmiş dərman şirkəti nə üçün dərhal bunun satışına başlayıb milyardlar əldə etməsin dünya dərman bazarında şəriksiz liderə çevrilməsin Üçüncüsü dünyanın bugünkü inkişaf səviyyəsində belə məlumatları gizli saxlamaq imkansızdır Dördüncüsü müasir dövrdə dərman kəşfi ilə bağlı araşdırmalar aparmaq çox çətindir ən azı  milyard dollar vəsait tələb edir Nəhayət xərçəngin müalicəsi ilə məşğul olan professorlar və məşhur dərman şirkətlərinin rəhbərlərinin də bu xəstəliyin qurbanı olduğu hallara az rast gəlinməyib Deməli xərçəngin çarəsi tapılsaydı o insanlar ölməzdilər Önləmək yolları \n",
      "--------------------\n",
      "Mütəxəssislər aprelin 16-na kimi dünyaproletariatının liderinin məzarında profilaktik işlər aparacaq.\"fevralın 16-dan aprelin 16-na kimi profilaktik işlər aparıldığıüçün lenin mavzoleyi ziyarətçilər üçün bağlı olacaq\", - rusiyafederal mühafizə xidmətindən məlumat verilib.qeyd edək ki, mavzoley hər iki ildən bir təmirə dayandırılır.aparılan işlər zamanı hətta leninin əynindəki kostyum dadəyişdirilir.\n",
      "--------------------\n",
      "Yanğın hadisəsi olmayıb Partlayış nəticəsində mənzillərin qapı və pəncərələri çərçivədən çıxıb arakəsmə divarları uçub Hadisə zamanı  nəfər yüngül yanıq xəsarəti alıb Hadisə ilə əlaqədar müvafiq qurumlar tərəfindən təhqiqat aparılır Lent az ın Fövqəladə Hallar Nazirliyinin FHN saytına istinadən verdiyi xəbərə görə Bakı şəhəri Nəsimi rayonunda birmərtəbəli çoxmənzilli kommunal tipli yaşayış binasında məişət qazının sızması nəticəsində partlayış hadisəsi baş verib  Fövqəladə Hallar Nazirliyi FHN Bakıda baş verən partlayışla bağlı məlumat yayıb \n",
      "--------------------\n",
      "\"\"  bu açıqlama ilə abş konqresininnümayəndələr palatasının üzvü adam şiff çıxış edib.o, qarabağın \"müstəqilliyi\" ilə bağlı qəbul olunmuş layihənimüsbət qiymətləndirib:\"mən uzun müddətdir \"dağlıq qarabağ xalqı\"nın öz müqəddəratınıhəll etmək haqqını müdafiə edir və reqlament məsələləri üzrəkomitənin müstəqilliklə bağlı qəbul etdiyi qərarı tamdəstəkləyirəm. mən azərbaycanın təsiri olmadan \"qarabağ xalqı\"na öztaleyini həll etmək üçün göstərilən yardımı alqışlayıram vəassambleyanı müstəqillik haqqında qərarı təsdiqləməyəçağırıram\".qeyd edək ki, mayın beşində kaliforniya ştatının reqlamentməsələləri üzrə komitəsində qarabağın müstəqilliyini tanıyan sənədqəbul olunmuşdu. sənədi ermənipərəst deputat mayk qattohazırlamışdı. bu vaxta qədər isə mayk qatto \"erməni soyqırımı\"nınkaliforniya məktəblərində keçirilməsi ilə bağlı hazırlanmışlayihəni ştat parlamentinə təqdim etmişdi.onu da xatırladaq ki, bu vaxta qədər qarabağın \"müstəqilliyi\"nidörd ştat tanıyıb. bunlar rodylend, men, masaçusest və luizianaştatlarıdır.\n",
      "--------------------\n"
     ]
    }
   ],
   "source": [
    "num = 0\n",
    "for doc in dataset[\"train\"]:\n",
    "    if num > 10:\n",
    "        break\n",
    "    if doc[\"source\"] == \"az_news\":\n",
    "        text = doc[\"text\"]\n",
    "        print(text)\n",
    "        print(\"-\" * 20)\n",
    "        num += 1"
   ]
  },
  {
   "cell_type": "code",
   "execution_count": null,
   "id": "0672dda4-c77d-4361-8a20-6f4e49e5ac4a",
   "metadata": {},
   "outputs": [],
   "source": []
  }
 ],
 "metadata": {
  "kernelspec": {
   "display_name": "Python 3 (ipykernel)",
   "language": "python",
   "name": "python3"
  },
  "language_info": {
   "codemirror_mode": {
    "name": "ipython",
    "version": 3
   },
   "file_extension": ".py",
   "mimetype": "text/x-python",
   "name": "python",
   "nbconvert_exporter": "python",
   "pygments_lexer": "ipython3",
   "version": "3.11.5"
  }
 },
 "nbformat": 4,
 "nbformat_minor": 5
}
