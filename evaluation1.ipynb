{
 "cells": [
  {
   "cell_type": "code",
   "execution_count": 13,
   "metadata": {},
   "outputs": [],
   "source": [
    "questions = [\n",
    "    'Pizza necə hazırlanır?',\n",
    "    'Sağlam qalmağın yolları nələrdir?',\n",
    "    'Kitab oxumağın faydaları nələrdir?',\n",
    "    'Vaxtını effektiv idarə etmək üçün nə etmək lazımdır?',\n",
    "    'Yaxşı fotoşəkil çəkmək üçün nələrə diqqət etmək lazımdır?',\n",
    "    'Stressi azaltmaq üçün nə etmək olar?',\n",
    "    'Yaddaşı gücləndirmək üçün hansı tədbirlər görülməlidir?',\n",
    "    'Evdə enerji qənaəti necə edilə bilər?',\n",
    "    'Rəqəmsal əsərlərin hüquqi müdafiəsi necə təmin edilə bilər?',\n",
    "    'Dünyanın ən qədim şəhərləri hansılardır və onların tarixi nədir?',\n",
    "    'Ən məşhur İtalyan yeməkləri hansılardır?',\n",
    "    'İdeal bir səhər rutini necə olmalıdır?',\n",
    "    'Evdəki hava keyfiyyətini yaxşılaşdırmaq üçün nə etmək olar?',\n",
    "    'Uşaqlarda oxumağa marağı necə artırmaq olar?',\n",
    "    'Qlobal istiləşmə ilə mübarizə üçün hansı addımlar atıla bilər?',\n",
    "    'Zehni sağlamlıq üçün hansı fəaliyyətlər tövsiyə edilir?',\n",
    "    'İdmanın fərdi sağlamlığa faydaları nələrdir?',\n",
    "    'əmizləmə məhsulları seçərkən nələrə diqqət etmək lazımdır?',\n",
    "    'ğurlu bir müsahibə üçün hansı hazırlıqlar edilməlidir?',\n",
    "    'Qısa müddətdə yeni bir dil öyrənməyin ən effektiv yolları nələrdir?',\n",
    "    'İş və şəxsi həyat arasında balans necə saxlanılmalıdır?',\n",
    "    'Sağlam bir qidalanma planı necə hazırlanmalıdır?',\n",
    "    'Şəhər mühitində yaşayarkən stressi azaltmaq üçün nə edilə bilər?',\n",
    "    'Yaxşı bir liderin xüsusiyyətləri nələrdir?',\n",
    "    'Qəhvənin insan sağlamlığına təsiri nədir?',\n",
    "    'İnternetdə təhlükəsizlik necə təmin edilə bilər?',\n",
    "    'Dünya ətrafında səyahət etmək üçün ən yaxşı vaxt nə vaxtdır?',\n",
    "    'Yerli məhsulları dəstəkləməyin əhəmiyyəti nədir?',\n",
    "    'Bitkilərin evdə yetişdirilməsinin faydaları nələrdir?',\n",
    "    'Qarşılıqlı hörmətli əlaqələr qurmaq üçün nə etmək lazımdır?',\n",
    "    'İnkişaf etmiş ölkələrdə təhsil sisteminin xüsusiyyətləri nələrdir?',\n",
    "    'Effektiv zaman idarəetmə üçün hansı tətbiqlər istifadə edilə bilər?',\n",
    "    'Kompüter oyunlarının uşaqlar üzərindəki təsiri nədir?',\n",
    "    'Fərdi inkişaf üçün ən yaxşı kitablar hansılardır?',\n",
    "    'İş yerində motivasiyanı artırmaq üçün nə etmək lazımdır?',\n",
    "    'İqlim dəyişikliyi ilə mübarizədə fərdi rol nədir?',\n",
    "    'Şəxsi maliyyəni idarə etmənin ən yaxşı yolları hansılardır?',\n",
    "    'Sağlam bir cəmiyyət qurmaq üçün hansı addımlar atılmalıdır?',\n",
    "    'Müasir texnologiyaların təhsilə təsiri nədir?',\n",
    "    'Qarışıq mədəniyyətlərdə yaşamaq üçün nə bilmək lazımdır?',\n",
    "    'Təbiətlə vaxt keçirməyin sağlamlığa faydaları nələrdir?',\n",
    "    'Yüksək performanslı komandalar yaratmaq üçün nə etmək lazımdır?',\n",
    "    'Vegan qidalanma nədir və faydaları nələrdir?',\n",
    "    'Enerji qənaətli texnologiyalar hansılardır?',\n",
    "    'Karyera dəyişikliyi üçün ən yaxşı strategiyalar nələrdir?',\n",
    "    'Qlobal mədəniyyətlər arasında dialoq necə qurulur?',\n",
    "    'Sosial media marketinginin biznesə təsiri nədir?',\n",
    "    'Yaradıcılığı artırmaq üçün hansı üsullar var?',\n",
    "    'Uzunmüddətli məqsədlərə necə nail olmaq olar?',\n",
    "    'Elektron ticarətin gələcəyi necə görünür?',\n",
    "    'Su istifadəsini optimallaşdırmaq üçün nə etmək lazımdır?',\n",
    "    'Dünyanın ən populyar musiqi janrları hansılardır?',\n",
    "    'Yeni mədəniyyətləri öyrənməyin faydaları nələrdir?',\n",
    "    'Fərdi sağlamlığa ən böyük təhdid nədir?',\n",
    "    'Qida israfını azaltmaq üçün nə etmək lazımdır?',\n",
    "    'Gənclər arasında liderlik bacarıqlarını inkişaf etdirmək üçün nə edilə bilər?',\n",
    "    'Sosial şəbəkələrdə təhlükəsizlik necə təmin edilə bilər?',\n",
    "    'Məktəblərdə sağlam qidalanma təşviqinin əhəmiyyəti nədir?',\n",
    "    'Dünya səyahəti planlaşdırarkən nələrə diqqət etmək lazımdır?',\n",
    "    'İşgüzar danışıqlarda uğur qazanmaq üçün əsas qaydalar nələrdir?',\n",
    "    'Ən effektiv stress idarəetmə texnikaları hansılardır?',\n",
    "    'Müasir şəhərləşmənin ekoloji problemlərə təsiri nədir?',\n",
    "    'Kompüter viruslarından qorunmaq üçün nə etmək lazımdır?',\n",
    "    'Uzun müddətli motivasiyanı necə qorumaq olar?',\n",
    "    'Daxili dizaynda ən yeni trendlər hansılardır?',\n",
    "    'Uşaqlarda məsuliyyət hissini necə inkişaf etdirmək olar?',\n",
    "    'Fiziki aktivlik olmadan sağlamlığı necə qorumaq olar?',\n",
    "    'Dünya ədəbiyyatında ən təsirli əsərlər hansılardır?',\n",
    "    'Elektrik avtomobillərinin gələcəyi necə görünür?',\n",
    "    'Günlük rutində meditasiyanı necə inteqrasiya etmək olar?',\n",
    "    'İş yerində konfliktləri həll etməyin ən yaxşı yolları hansılardır?',\n",
    "    'Qida alerjilərini necə idarə etmək olar?',\n",
    "    'İnternetdə şəxsi məlumatların qorunması üçün ən yaxşı praktikalar nələrdir?',\n",
    "    'Rəqəmsal marketinqin kiçik bizneslər üçün faydaları nələrdir?',\n",
    "    'Uşaqlar üçün ən yaxşı təhsil metodları hansılardır?',\n",
    "    'Avtomobil texnologiyalarındakı son yeniliklər nələrdir?',\n",
    "    'Müxtəlif mədəniyyətlərdə bayram ənənələri nələrdən ibarətdir?',\n",
    "    'Fərdi maliyyə planlaşdırmasında vacib elementlər nələrdir?',\n",
    "    'Ən yaxşı vaxt idarəetmə alətləri hansılardır?',\n",
    "    'Qlobal iqtisadiyyatda ən çox təsir göstərən faktorlar hansılardır?',\n",
    "    'Sosial şəbəkələrdə məşhurlaşmaq üçün strategiyalar nələrdir?',\n",
    "    'Səyahət zamanı sağlamlığı qorumaq üçün ən yaxşı tövsiyələr nələrdir?',\n",
    "    'Məktəbdən kənar təhsilin əhəmiyyəti nədir?',\n",
    "    'Daxili motivasiya necə inkişaf etdirilə bilər?',\n",
    "    'Qlobal səhiyyə problemləri və onların həlli yolları nələrdir?',\n",
    "    'Kitab oxumağın psixoloji sağlamlığa təsirləri nələrdir?',\n",
    "    'Ən populyar musiqi alətləri hansılardır və necə oynanılır?',\n",
    "    'Yeni başlayanlar üçün fotoqrafiya öyrənmək üçün nələrə diqqət etmək lazımdır?',\n",
    "    'Ən effektiv öyrənmə taktikaları hansılardır?',\n",
    "    'Təbiəti qorumaq üçün fərdi tədbirlər nələr ola bilər?',\n",
    "    'Uşaqlar üçün texnologiya təhsilinin faydaları nələrdir?',\n",
    "    'Karyera dəyişikliyi zamanı nəzərə alınmalı əsas məqamlar nələrdir?',\n",
    "    'İşgüzar danışıqlarda psixoloji üstünlük qazanmaq üçün yollar nələrdir?',\n",
    "    'Ekoloji təmiz məhsulların istehsalı necə artırıla bilər?',\n",
    "    'Rəqəmsal sənədləşdirmənin iş mühitindəki önəmi nədir?',\n",
    "    'Müasir incəsənət nümunələrinin cəmiyyətə təsiri nələrdir?',\n",
    "    'Sağlam qidalanmaq üçün ən yaxşı mətbəx alətləri hansılardır?',\n",
    "    'Gələcək texnologiyaların ictimai həyatımıza təsirləri nələr ola bilər?',\n",
    "    'Saatların tarixi və onların inkişafı necə olub?',\n",
    "    'Yeni biznes qurmaq üçün nəzərə alınmalı risklər nələrdir?',\n",
    "]"
   ]
  },
  {
   "cell_type": "code",
   "execution_count": 13,
   "metadata": {},
   "outputs": [],
   "source": [
    "import os"
   ]
  },
  {
   "cell_type": "code",
   "execution_count": 14,
   "metadata": {},
   "outputs": [],
   "source": [
    "os.environ['OPENAI_API_KEY'] = \"sk-proj-nwMf3oLuNZwxHtDSfR0xT3BlbkFJIEU8LXwRLStpbYvwdA2h\""
   ]
  },
  {
   "cell_type": "code",
   "execution_count": 40,
   "metadata": {},
   "outputs": [
    {
     "data": {
      "text/plain": [
       "60"
      ]
     },
     "execution_count": 40,
     "metadata": {},
     "output_type": "execute_result"
    }
   ],
   "source": [
    "len(answers)"
   ]
  },
  {
   "cell_type": "code",
   "execution_count": 4,
   "metadata": {},
   "outputs": [],
   "source": [
    "import pandas as pd\n",
    "\n",
    "\n",
    "df = pd.DataFrame({'answers': answers})\n",
    "df.to_csv('responses-gpt4.csv', index=False)"
   ]
  },
  {
   "cell_type": "code",
   "execution_count": 2,
   "metadata": {},
   "outputs": [],
   "source": [
    "import pandas as pd\n",
    "df = pd.read_csv('responses-gpt4.csv')\n"
   ]
  },
  {
   "cell_type": "code",
   "execution_count": null,
   "metadata": {},
   "outputs": [],
   "source": [
    "ans"
   ]
  },
  {
   "cell_type": "code",
   "execution_count": 15,
   "metadata": {},
   "outputs": [
    {
     "name": "stderr",
     "output_type": "stream",
     "text": [
      "  0%|          | 0/40 [00:00<?, ?it/s]"
     ]
    },
    {
     "name": "stderr",
     "output_type": "stream",
     "text": [
      "100%|██████████| 40/40 [10:02<00:00, 15.06s/it]\n"
     ]
    }
   ],
   "source": [
    "from openai import OpenAI\n",
    "from tqdm import tqdm\n",
    "\n",
    "# answers = []\n",
    "client = OpenAI()\n",
    "\n",
    "for question in tqdm(questions[60:]):\n",
    "  response = client.chat.completions.create(\n",
    "    model=\"gpt-3.5-turbo\",\n",
    "    messages=[\n",
    "      {\"role\": \"system\", \"content\": \"You are a helpful assistant. Answer the question in Azerbaijani language. Answer should not be more than 350 words.\"},\n",
    "      {\"role\": \"user\", \"content\": question}\n",
    "    ],\n",
    "    max_tokens=1024,\n",
    "  ).dict()['choices'][0]['message']['content']\n",
    "\n",
    "  # print(response)\n",
    "  answers.append(response)\n",
    "\n",
    "import pandas as pd\n",
    "\n",
    "df = pd.DataFrame({'questions': questions, 'answers': answers})\n",
    "df.to_csv('responses-gpt4.csv', index=False)"
   ]
  },
  {
   "cell_type": "code",
   "execution_count": 18,
   "metadata": {},
   "outputs": [
    {
     "data": {
      "text/plain": [
       "100"
      ]
     },
     "execution_count": 18,
     "metadata": {},
     "output_type": "execute_result"
    }
   ],
   "source": [
    "len(answers)"
   ]
  },
  {
   "cell_type": "code",
   "execution_count": 47,
   "metadata": {},
   "outputs": [],
   "source": [
    "import pickle\n",
    "\n",
    "with open('responses-gpt4.pkl', 'wb') as f:\n",
    "    pickle.dump(answers, f)"
   ]
  },
  {
   "cell_type": "code",
   "execution_count": 9,
   "metadata": {},
   "outputs": [],
   "source": [
    "import pickle\n",
    "\n",
    "with open('responses-gpt4.pkl', 'rb') as f:\n",
    "    answers = pickle.load(f)"
   ]
  },
  {
   "cell_type": "code",
   "execution_count": 10,
   "metadata": {},
   "outputs": [
    {
     "data": {
      "text/plain": [
       "60"
      ]
     },
     "execution_count": 10,
     "metadata": {},
     "output_type": "execute_result"
    }
   ],
   "source": [
    "len(answers)"
   ]
  },
  {
   "cell_type": "code",
   "execution_count": 20,
   "metadata": {},
   "outputs": [],
   "source": [
    "df = pd.DataFrame({'questions': questions, 'answers': answers})\n",
    "df.to_csv('responses-gpt35.csv', index=False)"
   ]
  },
  {
   "cell_type": "code",
   "execution_count": 2,
   "metadata": {},
   "outputs": [],
   "source": [
    "import os\n",
    "\n",
    "os.environ['ANTHROPIC_API_KEY'] = ''"
   ]
  },
  {
   "cell_type": "code",
   "execution_count": null,
   "metadata": {},
   "outputs": [],
   "source": [
    "import anthropic\n",
    "\n",
    "client = anthropic.Anthropic(\n",
    "    # defaults to os.environ.get(\"ANTHROPIC_API_KEY\")\n",
    "    api_key=\"\",\n",
    ")"
   ]
  },
  {
   "cell_type": "code",
   "execution_count": 19,
   "metadata": {},
   "outputs": [
    {
     "name": "stderr",
     "output_type": "stream",
     "text": [
      "  0%|          | 0/100 [00:00<?, ?it/s]"
     ]
    },
    {
     "name": "stdout",
     "output_type": "stream",
     "text": [
      "Pizza hazırlamaq üçün bir çox müxtəlif ingredientlər və üsullar istifadə oluna bilər, lakin ənənəvi pizza hazırlama prosesi aşağıdakı kimi ola bilər:\n",
      "\n",
      "İlk növbədə, pizza xəmirini hazırlamaq lazımdır. Bunun üçün un, maya, su, duz və zeytun yağı qarışdırılır və yoğrulur. Xəmiri bir neçə saat isidilmiş yerdə qalxmağa qoyulur.\n",
      "\n",
      "Xəmirin qalxmasından sonra, onu düzbucaqlı və ya dairəvi şəklə salırlar. Sonra pizzanın əsasını hazırlamaq üçün pomidor sousu və ya tomat paste yayılır. Üzərinə arzuolunan mallar - kəsilmiş pomidor, soğan, göyərti, göbələk, kolbasa və s. əlavə edilir.\n",
      "\n",
      "Son olaraq, pizza üzərinə yağlı pendir (adətən mocarella) yayılır. Bəzi insanlar əlavə olaraq başqa növ pendirdən də istifadə edirlər.\n",
      "\n",
      "Pizzanı bir neçə dəqiqə ürək-ürəyə qızdırılmış sobada bişirirlər. Bişməsindən sonra, kənar hissələri qızarıb, üzəri qızıl-qonur rəngə çevrilir. Onu kəsib, dilim-dilim şəklində süfrəyə təqdim edilir.\n",
      "\n",
      "Yuxarıda təsvir edilən proses pizza hazırlamağın ənənəvi üsuludur. Lakin, istənilən pizza tərkibi və hazırlanma üsulu istifadə oluna bilər, əsas məqsəd dadlı və iştahaaçan pizza hazırlamaqdır.\n"
     ]
    },
    {
     "name": "stderr",
     "output_type": "stream",
     "text": [
      "  1%|          | 1/100 [00:18<30:16, 18.35s/it]"
     ]
    },
    {
     "name": "stdout",
     "output_type": "stream",
     "text": [
      "Sağlam qalmağın yolları bir neçə əsas elementi özündə ehtiva edir:\n",
      "\n",
      "1. Düzgün qidalanma: Sağlam qidalanma həyat tərzinin ayrılmaz hissəsidir. Bol meyvə, tərəvəz, tam dənəli qida məhsulları, yağsız ət və süd məhsullarının istifadəsi böyrəklər, qaraciyər və qan dövranı sistemini sağlam saxlayır.\n",
      "\n",
      "2. Fiziki aktivlik: Hər gün ən azı 30 dəqiqə fiziki aktivlik göstərmək, məsələn: gəzmək, velosiped sürmək, üzmək və ya sərbəst gymnastika etmək, orqanizmin sağlamlığına müsbət təsir göstərir.\n",
      "\n",
      "3. Yuxu rejimi: Yetərli və keyfiyyətli yuxu vərdişlərinin olması immun sistemini gücləndirir, bədənin bərpası və sağlamlığı üçün vacibdir.\n",
      "\n",
      "4. Stresslə mübarizə: Həyatdakı stresslərə yaxşı reaksiya vermək, narahatçılıq yaradan amilləri aradan qaldırmaq və emosional sağlamlığı qorumaq vacibdir.\n",
      "\n",
      "5. Zərərli vərdişlərdən uzaqlaşmaq: Siqaret çəkmək, artıq içki qəbul etmək kimi zərərli vərdişlərdən qaçınmaq lazımdır, çünki onlar bədənin və orqanların sağlamlığına mənfi təsir göstərir.\n",
      "\n",
      "6. Mütəmadi tibbi müayinələr: Mütəmadi olaraq həkim müayinələrindən keçmək, bədənin və orqanların sağlam olduğunu yoxlamaq vacibdir. Bu, erkən diaqnoz və müalicə üçün önəmlidir.\n",
      "\n",
      "Yuxarıda qeyd olunan elementlərə riayət etmək həm fiziki, həm də psixoloji sağlamlığı təmin etməyə kömək edər. Sağlam həyat tərzinin ardıcıl şəkildə davam etdirilməsi isə uzunömürlülüyün təməl şərtlərindən biridir.\n"
     ]
    },
    {
     "name": "stderr",
     "output_type": "stream",
     "text": [
      "  2%|▏         | 2/100 [00:35<29:02, 17.78s/it]"
     ]
    },
    {
     "name": "stdout",
     "output_type": "stream",
     "text": [
      "Kitab oxumağın çoxsaylı faydalı təsirləri var. Əsas olaraq aşağıdakıları qeyd etmək olar:\n",
      "\n",
      "1. Biliyimizi artırır: Kitab oxumaq bizə yeni məlumatlar, ideyalar və bilik əldə etməyə imkan verir. Müxtəlif mövzulara dair kitablar oxuduqca dünyagörüşümüz genişlənir və yeni nəzəri və praktik bacarıqlar qazanırıq.\n",
      "\n",
      "2. Diqqəti və fokuslaşmanı gücləndirir: Uzun müddət kitab oxumaq diqqət və fokuslaşma qabiliyyətimizi artırır. Bu isə həyatımızda çox vacib rol oynayır - iş, tədris və digər fəaliyyətlərdə daha məhsuldar olmağımıza kömək edir. \n",
      "\n",
      "3. Təxəyyülünü inkişaf etdirir: Xüsusilə bədii ədəbiyyat oxuduqca beynimiz yeni obrazlar, səhnələr və hissləri təsəvvür etməyə məcbur olur. Bu isə təxəyyülümüzü və yaradıcılıq qabiliyyətlərimizi artırır.\n",
      "\n",
      "4. Emosional sağlamlığa müsbət təsir edir: Kitab oxumaq insanlarda stresslə mübarizə etmək, emosional sağlamlığı yaxşılaşdırmaq, həyata daha müsbət yanaşmaq kimi faydalar yaradır.\n",
      "\n",
      "5. Oxuma, yazma və dilin inkişafına kömək edir: Kitab oxumaq lüğət ehtiyatımızın genişlənməsinə, dilimizin daha təmiz və dəqiq istifadəsinə, yazı bacarıqlarımızın inkişafına töhfə verir.\n",
      "\n",
      "Yuxarıda sadalanan faydalara əlavə olaraq, kitab oxumaq bizi həyatı daha dərin anlamağa, özümüzü və ətrafımızdakıları daha yaxşı dərk etməyə də kömək edir. Bütövlükdə, kitab oxumaq həyatımıza rəngarənglik, məna və keyfiyyət qatır.\n"
     ]
    },
    {
     "name": "stderr",
     "output_type": "stream",
     "text": [
      "  3%|▎         | 3/100 [00:54<29:14, 18.08s/it]"
     ]
    },
    {
     "name": "stdout",
     "output_type": "stream",
     "text": [
      "Vaxtın effektiv idarə edilməsi həyatımızın bütün sahələrində mühüm rol oynayır. Aşağıdakı tövsiyələr vaxtınızı daha səmərəli idarə etməyə kömək edə bilər:\n",
      "\n",
      "1. Prioritetləri müəyyənləşdirmək. İşlərinizi prioritetlərə görə sıralayın və ən vacib olanları ilk növbədə yerinə yetirin. Bununla da vaxtınızı ən önəmli işlərə sərf edəcəksiniz.\n",
      "\n",
      "2. Zaman planlaması. Gün, həftə və ay üçün planlar tərtib edin. Hansı işlərə və nə qədər vaxt ayıracağınızı qabaqcadan müəyyənləşdirin. Bu, vaxtınızın səmərəli istifadəsinə kömək edəcək.\n",
      "\n",
      "3. Vaxt itkisi yaradan amillərə diqqət yetirmək. Sosial media, e-poçt yoxlama və ya TV izləmək kimi vaxt itkisinə səbəb olan fəaliyyətləri məhdudlaşdırın.\n",
      "\n",
      "4. Gündəlik rutinlər qurmaq. Müəyyən məşğuliyyətlərə (yemək, idman, istirahət və s.) həmişə eyni saatlarda vaxt ayırmaq düzgün rejim saxlamağa kömək edər.\n",
      "\n",
      "5. Həvalə etmək və delegasiya etmək. Bəzi işləri başqalarına həvalə etməklə vaxtınızı daha məhsuldar işlərə sərf edə bilərsiniz.\n",
      "\n",
      "6. Fasilələr vermək. Uzun müddət eyni işlə məşğul olmaq məhsuldarlığınızı azalda bilər. Fasilə vermək beyin fəaliyyətinin bərpasına kömək edər.\n",
      "\n",
      "7. Özünüzə vaxt ayırmaq. İş və şəxsi həyat arasında tarazlıq saxlamaq vacibdir. İstirahət, hobbilərlə məşğul olmaq və özünüzə vaxt ayırmaq sağlamlığınız və məhsuldarlığınız üçün əhəmiyyətlidir.\n",
      "\n",
      "Bu tövsiyələri tətbiq etməklə vaxtınızı daha səmərəli idarə edə bilərsiniz.\n"
     ]
    },
    {
     "name": "stderr",
     "output_type": "stream",
     "text": [
      "  4%|▍         | 4/100 [01:13<29:25, 18.39s/it]"
     ]
    },
    {
     "name": "stdout",
     "output_type": "stream",
     "text": [
      "Yaxşı fotoşəkil çəkmək üçün diqqət olunması lazım olan bəzi əsas məqamlar aşağıdakılardır:\n",
      "\n",
      "1. İşığa diqqət - Foto çəkən zaman işığın düzgün istifadə olunması çox vacibdir. Həm təbii, həm də süni işıqdan düzgün istifadə etməyiniz şəklin keyfiyyətini xeyli artıracaq. Günəş işığı, tutqun hava şəraiti və ya otaq işığı kimi mühitdən asılı olaraq işığın düzgün tənzimlənməsi önəmlidir.\n",
      "\n",
      "2. Kompozisiya - Çəkilən fotoşəklin kompozisiyası da əhəmiyyətli məqamdır. Obyektin yerləşdirilməsi, fon, ölçü və digər elementlər kompozisiyanın bütövlüyünü müəyyənləşdirir. Kompozisiya ilə maraqlı və gözəalaçan şəklər çəkmək olar.\n",
      "\n",
      "3. Kamera ayarları - Kameranın parametrlərini düzgün tənzimləmək də vacibdir. Bunlara diaframa, sürati, ISO dəyərini və digər ayarları aid etmək olar. Məqsədə uyğun olaraq bu ayarların optimallaşdırılması şəklin keyfiyyətini yüksəldir.\n",
      "\n",
      "4. Perspektiv və bucaq - Fotoçəkilişlərin bucağı və perspektiv görüntüsü də şəklin estetik görünüşünü əhəmiyyətli dərəcədə müəyyənləşdirir. Obyektin düzgün bucaq altında, perspektivin düzgün tənzimlənməsi ilə yaxşı şəklər çəkmək olar.\n",
      "\n",
      "5. Fotonun redaktəsi - Çəkilmiş şəkli redaktə etmək, rəngləri, kontrastı və digər parametrləri yaxşılaşdırmaq da şəklin keyfiyyətinin artırılmasında mühüm rol oynayır.\n",
      "\n",
      "Yuxarıda qeyd olunan məqamlara diqqət yetirmək, fotoçəkilişə həvəslə yanaşmaq və təcrübə toplamaq sayəsində yaxşı fotoşəkillər çəkmək mümkündür.\n"
     ]
    },
    {
     "name": "stderr",
     "output_type": "stream",
     "text": [
      "  5%|▌         | 5/100 [01:30<28:50, 18.22s/it]"
     ]
    },
    {
     "name": "stdout",
     "output_type": "stream",
     "text": [
      "Stressi azaltmaq üçün bir neçə müsbət addımlar atmaq mümkündür:\n",
      "\n",
      "1. Nəfəs alma və məditasiya. Gün ərzində bir neçə dəfə dərin, sakit nəfəslər almaq, yaxud qısa müddətli məditasiya etmək stressin azalmasına kömək edə bilər. Bu, beyni sakitləşdirir və diqqəti gündəlik problemlərdən uzaqlaşdırır.\n",
      "\n",
      "2. Fiziki aktivlik. Gün ərzində müntəzəm olaraq idman etmək, yürümək, rəqs etmək və ya digər bədən hərəkətləri etmək stres səviyyəsini azalda bilər. Fiziki aktivlik endorfin səviyyəsini artırır və əhval-ruhiyyəni yaxşılaşdırır.\n",
      "\n",
      "3. Yuxu rejiminin qaydasına salınması. Yaxşı və ardıcıl yuxu rejimi olmadan stress artmağa meyllənir. Ən azı 7-8 saat yatmağa çalışmaq və yuxu rejimini nizamlamaq lazımdır.\n",
      "\n",
      "4. Sosial əlaqələrin qorunması. Ailə üzvləri və yaxın dostlarla vaxt keçirmək, onlarla ünsiyyətdə olmaq stressi azaltmağa kömək edə bilər. Sosial əlaqələr emosional dəstək mənbəyi ola bilər.\n",
      "\n",
      "5. Hobbi və maraqlar. Gün ərzində yeni bacarıqlar öyrənmək, maraqlı hobbilərlə məşğul olmaq və ya sevdiyiniz işləri etmək stresi azalda bilər. Bu, insana həzz və zövq verir.\n",
      "\n",
      "6. Özünə qayğı göstərmək. Özünə zaman ayırmaq, sevdiyin işlərlə məşğul olmaq, özünü rahat hiss etdiyin şeylər etmək stresi azaltmağa yardım edə bilər.\n",
      "\n",
      "İnsan streslə mübarizədə bu üsullardan istifadə etməklə, həyatını tam təcrübə etmək, daha rahat və məmnun yaşamaq üçün şərait yarada bilər.\n"
     ]
    },
    {
     "name": "stderr",
     "output_type": "stream",
     "text": [
      "  6%|▌         | 6/100 [01:48<28:08, 17.96s/it]"
     ]
    },
    {
     "name": "stdout",
     "output_type": "stream",
     "text": [
      "Yaddaşı gücləndirmək üçün aşağıdakı tədbirləri həyata keçirmək tövsiyə olunur:\n",
      "\n",
      "1. Beynin fiziki aktivliyi: Müntəzəm olaraq idman etmək, piyada gəzmək, yoga və digər fiziki aktivliklər beyni fəallaşdırır və yaddaşı gücləndirir.\n",
      "\n",
      "2. Diqqətin təmərküzləşdirilməsi: Müxtəlif uzunmüddətli diqqət tələb edən fəaliyyətlərə (oxumaq, dinləmək, mərkəzləşmək) vaxt ayırmaq yaddaş qabiliyyətini artırır.\n",
      "\n",
      "3. Yeni şeylər öyrənmək: Yeni bacarıqlar, dillər və s. əldə etmək beynin fəallığını artırır və yaddaşı gücləndirir.\n",
      "\n",
      "4. Yaddaşla bağlı oyunlar oynamaq: Krossvorddlar, sudoku, şahmat və digər intellektual oyunlar beyni aktivləşdirir və yaddaşı möhkəmləndirir.\n",
      "\n",
      "5. Stress və depressiyadan uzaq olmaq: Stress və depressiya yaddaşı mənfi təsir edir, ona görə də bu halların qarşısının alınması vacibdir.\n",
      "\n",
      "6. Emosional sağlamlıq: Həyatda pozitiv emosiyalar yaşamaq yaddaşı gücləndirir, çünki beyində müsbət neyrokimyəvi reaksiyalar yaradır.\n",
      "\n",
      "7. Yuxu, qidalanma və hidrasiya: Kifayət qədər yuxu, sağlam qidalanma və su içmək beyni və yaddaşı sağlam saxlayır.\n",
      "\n",
      "8. Beyni çalışdıran texnologiyalardan istifadə: Kompyüter oyunları, təhsil proqramları, virtual və arttırılmış reallıq texnologiyaları yaddaşı gücləndirə bilər.\n",
      "\n",
      "Yuxarıda sadalanan tədbirləri ardıcıl və sistemli şəkildə həyata keçirmək yaddaşı möhkəmləndirir və onun uzunömürlü olmasına kömək edir.\n"
     ]
    },
    {
     "name": "stderr",
     "output_type": "stream",
     "text": [
      "  7%|▋         | 7/100 [02:05<27:36, 17.81s/it]"
     ]
    },
    {
     "name": "stdout",
     "output_type": "stream",
     "text": [
      "Evdə enerji qənaətini təmin etmək üçün aşağıdakı tədbirləri həyata keçirmək olar:\n",
      "\n",
      "1. İşıqlandırma: Otaqlarda tələb olunan ən az işıq səviyyəsindən istifadə edin. Təbii işıq mənbələrindən, məsələn, pəncərələrdən maksimum istifadə edin. LED və digər enerji səmərəli işıq mənbələrindən istifadə edin.\n",
      "\n",
      "2. Qızdırma və soyutma: Qızdırma və soyutma üçün enerji səmərəli cihazlardan istifadə edin. Ən müasir enerji effektiv qızdırıcılardan və kondisionerlər tətbiq edin. Qızdırma və soyutma funksiyalarını tələb olunan minimuma endirin.\n",
      "\n",
      "3. Məişət texnikası: Enerji səmərəli soyuducu, paltaryuyan maşın, traş maşını, mikrodolğa sobası və s. kimi məişət texnikasından istifadə edin. Bu cihazların enerji sərfiyyatını nəzarətdə saxlayın və optimal istifadəsini təmin edin.\n",
      "\n",
      "4. Pəncərələr və izolyasiya: Pəncərələri və divarları yaxşı izolyasiya edin. Qış aylarında istilik itkisini, yay aylarında isə isti havanın daxil olmasını məhdudlaşdırın.\n",
      "\n",
      "5. Elektrik avadanlıqları: Kompüter, televizor, mətbəx cihazları kimi elektrik avadanlıqlarını işlətmədikdə söndürün. Enerji qənaətli rejimlərdən istifadə edin.\n",
      "\n",
      "6. Suyu qənaətlə istifadə edin: Duş qəbul etdikdə, kranları bağlamağı unutmayın. Enerji səmərəli su nasoslarından və kranlarından istifadə edin.\n",
      "\n",
      "7. Günəş enerji panelləri və enerji yığıcılarından istifadə: Uyğun şəraitdə ev üçün günəş enerji panellərindən və enerji yığıcılarından istifadə etmək mümkündür.\n",
      "\n",
      "Qeyd olunan tədbirlərin həyata keçirilməsi evdə enerji sərfiyyatını əhəmiyyətli dərəcədə azalda bilər.\n"
     ]
    },
    {
     "name": "stderr",
     "output_type": "stream",
     "text": [
      "  8%|▊         | 8/100 [02:24<27:27, 17.91s/it]"
     ]
    },
    {
     "name": "stdout",
     "output_type": "stream",
     "text": [
      "Rəqəmsal əsərlərin hüquqi müdafiəsi aşağıdakı yollarla təmin edilə bilər:\n",
      "\n",
      "1. Müəlliflik hüquqlarının qorunması: Rəqəmsal əsərlər də ənənəvi əsərlər kimi müəlliflik hüququ ilə qorunur. Müəllifin adı, əsərin yaradıldığı tarix və əsərin orijinallığı kimi məlumatların saxlanması və əsərin istifadəsinə nəzarət edilməsi mühümdür.\n",
      "\n",
      "2. Texniki müdafiə tədbirlərinin tətbiqi: Rəqəmsal əsərlərin şifrlənməsi, digital hüquq idarəetmə sistemlərinin tətbiqi, sürətçıxarmanın məhdudlaşdırılması kimi texniki müdafiə tədbirləri rəqəmsal əsərlərin qorunmasında vacibdir.\n",
      "\n",
      "3. Hüquqi çərçivənin təkmilləşdirilməsi: Rəqəmsal əsərlərin hüquqi müdafiəsi məqsədilə qanunvericilik bazasının müvafiq formalarda yenilənməsi zəruridir. Məsələn, \"Müəlliflik hüququ və əlaqədar hüquqlar haqqında\" Qanunda rəqəmsal əsərlərin müdafiəsi ilə bağlı müddəaların daxil edilməsi.\n",
      "\n",
      "4. Həddindən artıq istifadənin qarşısının alınması: Rəqəmsal əsərlərin qeyri-qanuni yolla surətçıxarılması və yayılmasının qarşısı alınmalıdır. Bu məqsədlə həm hüquqi, həm də texniki tədbirlərin görülməsi zəruri sayılır.\n",
      "\n",
      "5. İnformasiya təhlükəsizliyinin təmin edilməsi: Rəqəmsal məzmunun mühafizəsi və təhlükəsizliyinin təmin edilməsi üçün müvafiq infrastrukturun qurulması, məlumatların şifrələnməsi və yedəklənməsi kimi tədbirlərin görülməsi vacibdir.\n",
      "\n",
      "6. İstifadəçi məlumatlılığının artırılması: Rəqəmsal əsərlərin müəlliflik hüquqları, onlardan qanuni istifadə qaydaları barədə istifadəçilərin məlumatlılığının artırılması əhəmiyyətlidir.\n"
     ]
    },
    {
     "name": "stderr",
     "output_type": "stream",
     "text": [
      "  9%|▉         | 9/100 [02:41<26:51, 17.71s/it]"
     ]
    },
    {
     "name": "stdout",
     "output_type": "stream",
     "text": [
      "Dünyanın ən qədim şəhərləri arasında ən məşhurları aşağıdakılardır:\n",
      "\n",
      "1. Damaşq (Suriya): Damaşq şəhəri güman ki, dünyanın ən qədim dayanıqlı yaşayış məskənidir. Şəhər ən azı 11 mindən çox il əvvəl mövcud olmuşdur və hazırda Yer kürəsinin ən köhnə, davamlı şəhərlərindən biri sayılır. Damaşq qədim Yaxın Şərq sivilizasiyalarının mərkəzlərindən biri olmuşdur.\n",
      "\n",
      "2. Babil (İraq): Babil qədim Mesopotamiya sivilizasiyasının mərkəzi olmuşdur. Şəhər təxminən e.ə. 2300-cü ildə yaranmışdır və e.ə. 6-cı əsrdə öz zirvəsində olmuşdur. Babil Yer kürəsinin ən qədim inşa edilmiş böyük şəhərlərindən biri sayılır.\n",
      "\n",
      "3. Afinа (Yunanıstan): Afinа Qədim Yunanıstanın ən tanınmış şəhərlərindən biri olmuşdur. Şəhər təxminən e.ə. 3000-ci ildə yaranıb və e.ə. 5-ci əsrdə öz çiçəklənmə dövrünü yaşamışdır. Afinа Qədim Yunanıstanın siyasi, iqtisadi və mədəni mərkəzi idi.\n",
      "\n",
      "4. Roma (İtaliya): Roma Qədim Romanın paytaxtı və bir zamanlar dünyanın ən güclü imperiyasının mərkəzi olmuşdur. Şəhər təxminən e.ə. 8-ci əsrdə yaranmış və əsrlər boyu öz mövcudluğunu davam etdirmişdir.\n",
      "\n",
      "5. Çin (Çin): Çin şəhərləri, o cümlədən Xian və Pekin, dünyanın ən qədim şəhərləri sırasında yer alır. Bu şəhərlər e.ə. 3-cü minillikdə meydana gəlmişlər və Çinin qədim sivilizasiyasının mərkəzləri olmuşlar.\n",
      "\n",
      "Dünyanın ən qədim şəhərləri onların uzun tarixi, qədim mədəni irs və tarixin əhəmiyyətli hadisələrinin şahidi olmaları ilə fərqlənir.\n"
     ]
    },
    {
     "name": "stderr",
     "output_type": "stream",
     "text": [
      " 10%|█         | 10/100 [02:59<26:35, 17.73s/it]"
     ]
    },
    {
     "name": "stdout",
     "output_type": "stream",
     "text": [
      "İtaliyanın ən məşhur yeməkləri arasında aşağıdakılar daha çox populyardır:\n",
      "\n",
      "1. Pizza - İtaliyanın ən məşhur yeməyi hesab olunur. Müxtəlif növ tərkiblərlə hazırlanan pizza həm adi yeməklərdə, həm də təntənəli mərasimlərdə xüsusi yer tutur.\n",
      "\n",
      "2. Makaron (pasta) - İtaliyanın ənənəvi yeməklərindən biri olan makaron, müxtəlif növləri və hazırlanma üsulları ilə diqqəti cəlb edir. Bolonyalı, karbonara, amatricianalı, arrabbiata və digər makaron növləri çox məşhurdur.\n",
      "\n",
      "3. Lazan - Tərəvəzlər, ət və ya dəniz məhsulları ilə hazırlanan lazan da İtaliyanın ən populyar yeməkləri sırasındadır.\n",
      "\n",
      "4. Cannolli - Siciliya kənd təsərrüfatı məhsulları ilə hazırlanan bu ləzzətli şirniyyat İtaliyanın qədim ənənələrindən biridir.\n",
      "\n",
      "5. Kappuçino - İtaliyanın ən məşhur içkilərindən biri olan kappuçino gün ərzində bir neçə dəfə içilir.\n",
      "\n",
      "6. İtalyan dondurması (Gelato) - Təbii məhsullardan hazırlanan İtalyan dondurması bütün dünyada məhşurdur.\n",
      "\n",
      "7. Bruşetta - xəmir üzərinə pomidor, sarımsaq, bazilik və başqa tərkiblərlə hazırlanan bu tartaletka çox dadlıdır.\n",
      "\n",
      "8. Tiramisu - Süd məhsulları, yumurta, şəkər və kofe ilə hazırlanan bu desertin adı \"məni yuxarı çək\" mənasını verir.\n",
      "\n",
      "9. Risotto - Düyü əsasında hazırlanan ənənəvi İtalyan yeməyi olan risotto müxtəlif tərkiblərlə bişirilir.\n",
      "\n",
      "10. Pesto - Köknaşar, soyuducu və başqa tərkiblərin əzilməsi yolu ilə hazırlanan pesto sous makaron və digər yeməklərin tərkibinə daxil edilir.\n"
     ]
    },
    {
     "name": "stderr",
     "output_type": "stream",
     "text": [
      " 11%|█         | 11/100 [03:16<26:21, 17.77s/it]"
     ]
    },
    {
     "name": "stdout",
     "output_type": "stream",
     "text": [
      "İdeal bir səhər rutini aşağıdakı kimi ola bilər:\n",
      "\n",
      "1. Erkən oyanmaq: Gün doğmadan əvvəl oyanmaq və günün ilk saatlarından istifadə etmək çox faydalıdır. Bu, sizi səhərin sakitliyində və təmizliyində özünüzə daha çox vaxt ayırmanıza imkan verir.\n",
      "\n",
      "2. Fiziki aktivlik: Günün ilk saatlarında bir qədər yüngül idman etmək, yoga və ya məditasiya etmək, bədəni və ruhu yeniləyir. Bu, gün ərzində daha yüksək enerji və motivasiya səviyyəsi ilə işə başlamağınıza kömək edə bilər.\n",
      "\n",
      "3. Sağlıqlı qida: Yeni gün üçün sağlıqlı bir səhər yeməyi hazırlamaq vacibdir. Bu, qan şəkərini tənzimləyir və gün ərzində daha yüksək enerji səviyyəsi ilə işləməyə kömək edir.\n",
      "\n",
      "4. Özünə vaxt ayırmaq: Stressli və sürətli həyat tərzi səbəbindən çox vaxt özümüzə və öz ehtiyaclarımıza diqqət yetirmirik. Səhər rutininiz ərzində özünüzə bir qədər vaxt ayırın, müəyyən bir məqsədə nail olmağa çalışın, yoxsa sadəcə dünyadan kənarda olun.\n",
      "\n",
      "5. Gün ərzində prioritetləri müəyyən etmək: Səhər rutininiz zamanı gün ərzində nə etməli olduğunuzu planlaşdırmaq vacibdir. Bu, məqsədə yönəlməyinizə və günün daha məhsuldar keçməsinə kömək edə bilər.\n",
      "\n",
      "6. Sakitlik və mərkəzləşmə: Səhər rutininiz ərzində özünüzü təbii olaraq daha sakit, mərkəzləşmiş və hazır hiss etməyə çalışın. Bu, sizi gün ərzində daha səmərəli və məhsuldar olmağa yönəldə bilər.\n",
      "\n",
      "İdeal səhər rutini tam olaraq hər kəs üçün fərqli ola bilər, lakin yuxarıda qeyd edilənlər əksər insanlar üçün faydalı ola bilər.\n"
     ]
    },
    {
     "name": "stderr",
     "output_type": "stream",
     "text": [
      " 12%|█▏        | 12/100 [03:35<26:13, 17.89s/it]"
     ]
    },
    {
     "name": "stdout",
     "output_type": "stream",
     "text": [
      "Evdəki hava keyfiyyətini yaxşılaşdırmaq üçün bir neçə önəmli addım atmaq olar:\n",
      "\n",
      "1. Havalandırma sisteminin düzgün işləməsini təmin etmək. Pəncərələri və qapıları tez-tez açmaq, evdə təbii havalandırma yaratmaq lazımdır. Bu həm təzə hava daxil etməyə, həm də köhnə havanı çıxarmağa kömək edir.\n",
      "\n",
      "2. Ev təmizliyinə diqqət yetirmək. Toz və digər çirklər hava keyfiyyətinə mənfi təsir göstərə bilər. Buna görə də, mütəmadi olaraq evdə süpürmə, silmə və təmizlik işləri aparmaq vacibdir.\n",
      "\n",
      "3. Ev bitkisindən istifadə etmək. Bəzi ev bitkiləri havadakı zərərli maddələri təmizləyə və oksigen yarada bilər. Bu, ev havasının təmizlənməsinə kömək edir.\n",
      "\n",
      "4. Kimyəvi təmizləyicilərdən və həvəskar ətirlərdən istifadə etməkdən imtina etmək. Bu cür məhsullar hava keyfiyyətini aşağı sala bilər. Onların əvəzinə daha təbii və ekoloji təmizləyicilər seçmək daha yaxşıdır.\n",
      "\n",
      "5. Evdə quraşdırılan cihazlar və avadanlıqlar üçün təmiz hava filtr sistemindən istifadə etmək. Bu, havadakı hissəciklərin, toz və digər çirklənmələrin azaldılmasına kömək edər.\n",
      "\n",
      "6. Evdə tütün çəkilməsini qadağan etmək. Tütün tüstüsü hava keyfiyyətinə mənfi təsir göstərə bilər.\n",
      "\n",
      "7. Ev ətrafında təbii bitkilər və ağaclar əkməklə hava təmizlənməsinə kömək etmək.\n",
      "\n",
      "Bu addımların hamısı evdəki hava keyfiyyətini yaxşılaşdırmağa xidmət edə bilər. Sağlam və təmiz hava yaratmaq üçün bu tövsiyələrə əməl etmək vacibdir.\n"
     ]
    },
    {
     "name": "stderr",
     "output_type": "stream",
     "text": [
      " 13%|█▎        | 13/100 [03:53<26:04, 17.98s/it]"
     ]
    },
    {
     "name": "stdout",
     "output_type": "stream",
     "text": [
      "Uşaqlarda oxumağa marağı artırmaq üçün bir neçə tövsiyə verə bilərəm:\n",
      "\n",
      "1. Uşağınızla birgə oxumaq. Hər gün müəyyən vaxt ayırıb uşağınızla birlikdə kitab oxumaq onu oxumağa həvəsləndirər. Bu zaman uşağınıza kitabın mövzusu, qəhrəmanları, hadisələri haqqında suallar verərək onun diqqətini cəlb edə, oxuduqlarını anlamasına kömək edə bilərsiniz.\n",
      "\n",
      "2. Uşağa uyğun kitablar seçmək. Uşağın yaşına, maraqlarına uyğun kitablar tapmaq vacibdir. Uşağı maraqlı edən mövzularda və üslubda yazılmış kitablar onun oxumağa həvəsini artıracaq.\n",
      "\n",
      "3. Oxu mühiti yaratmaq. Evdə uşağın rahat və sevdiyi yerdə oxuması üçün münasib mühit hazırlamaq önəmlidir. Rahat oturmaq üçün yumşaq kreslo, kitablar üçün rəf və s. yer ayrılmalıdır.\n",
      "\n",
      "4. Oxunan kitablar haqqında danışmaq. Uşağınızın oxuduqları kitablar haqqında onunla danışmaq, fikir və təəssüratlarını öyrənmək, onu təşviq etmək vacibdir. Bu, uşağın oxumağa marağını artıracaq.\n",
      "\n",
      "5. Uşağa oxuma materialları hədiyyə etmək. Doğum günü, bayram və s. münasibətlərlə uşağa kitab, dəftər, qələm kimi oxumağa kömək edən hədiyyələr vermək onu oxumağa həvəsləndirər.\n",
      "\n",
      "6. Uşağı kitabxanaya aparmaq. Kitabxanaya getmək, orada müxtəlif kitablar seçmək uşağın oxumağa marağını artıracaq.\n",
      "\n",
      "Bu tövsiyələrin tətbiqi ilə uşaqlarda oxumağa maraq təmin edilə bilər.\n"
     ]
    },
    {
     "name": "stderr",
     "output_type": "stream",
     "text": [
      " 14%|█▍        | 14/100 [04:10<25:34, 17.84s/it]"
     ]
    },
    {
     "name": "stdout",
     "output_type": "stream",
     "text": [
      "Qlobal istiləşmə ilə mübarizə üçün aşağıdakı addımlar atıla bilər:\n",
      "\n",
      "1. Enerjinin səmərəli istifadəsi: Evlər, ofislər və sənaye müəssisələrində enerji səmərəliliyini artırmaq üçün texnologiyalardan istifadə etmək. Bu, enerji tələbatını azaltmağa və enerjiyə olan tələbatı daha təmiz və bərpa olunan mənbələrə yönəltməyə kömək edə bilər.\n",
      "\n",
      "2. Bərpa olunan enerji mənbələrindən istifadə: Günəş, külək, hidroenerji və digər bərpa olunan enerji mənbələrindən daha geniş istifadə etmək. Bu, karbon qazının atmosferə buraxılmasını azaltmağa kömək edə bilər.\n",
      "\n",
      "3. Nəqliyyat sektorunda dəyişikliklər: Daha səmərəli və ekoloji cəhətdən təmiz nəqliyyat növlərinə keçid etmək, məsələn, elektrik və hibrid avtomobillər, toplu nəqliyyat və velosiped.\n",
      "\n",
      "4. Meşələrin qorunması və yenidən bərpası: Meşələrin qorunması və yeni meşələrin salınması, bu, karbon qazını udmağa və atmosferdən kənarlaşdırmağa kömək edə bilər.\n",
      "\n",
      "5. Tullantıların azaldılması və emal edilməsi: Məişət və sənaye tullantılarının azaldılması, təkrar istifadə və emalı. Bu, qlobal istiləşməyə töhfə verən metan və digər qazların azaldılmasına kömək edə bilər.\n",
      "\n",
      "6. Fərdi səviyyədə dəyişikliklər: İstehlak vərdişlərini dəyişmək, enerji sərfiyyatını azaltmaq, daha az tullantı yaratmaq və daha davamlı seçimlər etmək. Hər bir fərdin səyləri qlobal istiləşmənin azaldılmasında mühüm rol oynaya bilər.\n",
      "\n",
      "Bu addımların hamısı bir-biri ilə bağlı olub, qlobal istiləşmənin azaldılmasına və ətraf mühitin mühafizəsinə təsir göstərə bilər. Dövlət, özəl sektor və fərdlər arasında əməkdaşlıq həyati vacibdir.\n"
     ]
    },
    {
     "name": "stderr",
     "output_type": "stream",
     "text": [
      " 15%|█▌        | 15/100 [04:28<25:08, 17.75s/it]"
     ]
    },
    {
     "name": "stdout",
     "output_type": "stream",
     "text": [
      "Zehni sağlamlıq üçün aşağıdakı fəaliyyətlər tövsiyə edilir:\n",
      "\n",
      "1. Fiziki aktivlik və idman: Düzgün fiziki aktivlik və idman beyni stimullaşdırır, stresslə mübarizə aparmağa və diqqət qabiliyyətini artırmağa kömək edir. Həftədə ən azı 150 dəqiqə orta intensivlikli fiziki aktivlik edilməsi tövsiyə edilir.\n",
      "\n",
      "2. Dincəlmə və stressə nəzarət: Yoqa, meditasiya, təfəkkür kimi üsullar stresslə mübarizə aparmağa və əhval-ruhiyyəni yaxşılaşdırmağa kömək edir. Həmçinin, yuxu rejiminin düzgün qorunması da çox vacibdir.\n",
      "\n",
      "3. Təhsil və öyrənmə: Yeni bacarıqlar əldə etmək, öyrənmə və intellektual fəaliyyətlər beynin inkişafını stimullaşdırır. Bu, həm də əhval-ruhiyyəyə müsbət təsir göstərir.\n",
      "\n",
      "4. Sosial əlaqələr: Ətrafdakı insanlarla aktiv ünsiyyət qurmaq və sosial həyatda iştirak etmək zehni sağlamlığa müsbət təsir edir. Bu, həm də təklik hissini azaldır.\n",
      "\n",
      "5. Sağlam qidalanma: Mütəvazı və balanslaşdırılmış qidalanma beynin funksiyasına və əhval-ruhiyyəyə müsbət təsir edir. Omega-3 və qara şokolad kimi qidalar xüsusilə faydalı ola bilər.\n",
      "\n",
      "6. Əqli aktivlik: Mürəkkəb tapşırıqlar, bulmacalar, oyunlar kimi fəaliyyətlər beyin fəaliyyətini stimullaşdırır və diqqət qabiliyyətini artırır.\n",
      "\n",
      "Yuxarıdakı fəaliyyətlərin daimi və sistemli şəkildə həyata keçirilməsi zehni sağlamlığın qorunmasına və yaxşılaşdırılmasına kömək edə bilər.\n"
     ]
    },
    {
     "name": "stderr",
     "output_type": "stream",
     "text": [
      " 16%|█▌        | 16/100 [04:45<24:30, 17.51s/it]"
     ]
    },
    {
     "name": "stdout",
     "output_type": "stream",
     "text": [
      "İdman və fiziki aktivlik insan sağlamlığına bir çox cəhətdən fayda verir. Aşağıda idmanın fərdi sağlamlığa faydaları haqqında qısa məlumat verilib:\n",
      "\n",
      "1. Ürək-damar sisteminin möhkəmlənməsi. İdman ürək əzələsini və qan dövranını gücləndirərək ürək-damar xəstəliklərinin qarşısını alır.\n",
      "\n",
      "2. Əzələ gücünün artması və bədənin formalaşması. Düzgün və sistemli idman hərəkətləri əzələləri möhkəmləndirir, bədənin fiziki görünüşünü yaxşılaşdırır.\n",
      "\n",
      "3. Çəki idarəetmə və piylənmənin qarşısının alınması. İdman enerji sərfiyyatını artırır və yağ həcmini azaldır. Bu isə bədən çəkisinin idarə edilməsinə kömək edir.\n",
      "\n",
      "4. Sümük sağlamlığının və möhkəmliyinin artırılması. Müntəzəm olaraq ağırlıq qaldırma və yerə tullanma kimi hərəkətlər sümük sağlamlığını yaxşılaşdırır.\n",
      "\n",
      "5. Xroniki xəstəliklərin qarşısının alınması. İdman diabet, ürək-damar xəstəlikləri, bəzi xərçəng növləri və Alzheymerin profilaktikasında mühüm rol oynayır.\n",
      "\n",
      "6. Əhval-ruhiyyənin yaxşılaşdırılması. Fiziki aktivlik stressin, depresiya və qorxunun azalmasına, endorfin ifrazının artmasına səbəb olur.\n",
      "\n",
      "7. Yuxu keyfiyyətinin yaxşılaşdırılması. Gündəlik idman prosesi yuxu rejimini tənzimləyir və yuxu keyfiyyətini artırır.\n",
      "\n",
      "Nəticə olaraq, məntiqli və sistemli şəkildə həyata keçirilən idman fərdi sağlamlığa böyük fayda verir. Hər bir insan öz fiziki imkanlarına uyğun olaraq idmanla məşğul olmalıdır.\n"
     ]
    },
    {
     "name": "stderr",
     "output_type": "stream",
     "text": [
      " 17%|█▋        | 17/100 [05:02<24:09, 17.47s/it]"
     ]
    },
    {
     "name": "stdout",
     "output_type": "stream",
     "text": [
      "Əmizləmə məhsullarını seçərkən diqqət edilməsi vacib olan bəzi əsas məqamlar aşağıdakılardır:\n",
      "\n",
      "1. Bəbəyinizin yaşı və inkişaf səviyyəsi: Bəbəyinizin yaş və əmizləmə mərhələsinə uyğun məhsul seçmək lazımdır. Yenidoğulmuş körpələr üçün xüsusi hazırlanmış, yüngül və sindirimi asan məhsullar seçilməlidir. Böyümə mərhələsində olan körpələr üçün isə daha zəngin tərkibli məhsullar seçmək daha faydalıdır.\n",
      "\n",
      "2. Tərkibin tərkibi və keyfiyyəti: Məhsulun tərkibində olan maddələrin təbiiliyi, sağlamlığa uyğunluğu və keyfiyyəti vacib faktordur. Bəbəyinizə zərərli ola biləcək kimyəvi maddələrin olmamasına diqqət etmək lazımdır.\n",
      "\n",
      "3. Brendin etibarlılığı: İstehsalçının nüfuzu və məhsulların istehsal prosesləri, əmizləmə məhsullarını seçərkən nəzərə alınmalıdır. Etibarlı və tanınmış brendləri seçmək daha güvənli olacaq.\n",
      "\n",
      "4. Allerji ehtimalı: Bəbəyinizin əvvəllər allerji reaksiyası verdiyi maddələrin olmamasına diqqət etmək lazımdır. Əgər əvvəllər hansısa problema rast gəlinibsə, həmin maddələri tərkibində ehtiva etməyən məhsulları seçmək vacibdir.\n",
      "\n",
      "5. Mümkün xərclər: Əmizləmə məhsullarının qiymətləri də nəzərə alınmalıdır. Ailəyə və bütün məsrəflərə uyğun, keyfiyyətli və faydalı məhsullar seçmək lazımdır.\n",
      "\n",
      "Bu kimi məqamların nəzərə alınması ilə bəbəyinizin sağlamlığını qoruya və onun normal inkişafına dəstək verə biləcəksiniz.\n"
     ]
    },
    {
     "name": "stderr",
     "output_type": "stream",
     "text": [
      " 18%|█▊        | 18/100 [05:19<23:43, 17.35s/it]"
     ]
    },
    {
     "name": "stdout",
     "output_type": "stream",
     "text": [
      "Uğurlu bir müsahibə üçün aşağıdakı hazırlıqlar edilməlidir:\n",
      "\n",
      "1. Özünüzü tanıyın: Özünüzü yaxşı tanıyın, güclü və zəif cəhətlərinizi, maraqlarınızı və peşə hədəflərinizi aydınlaşdırın. Bu, müsahibə zamanı özünüzü daha yaxşı təqdim etməyə kömək edəcək.\n",
      "\n",
      "2. İş elanını diqqətlə oxuyun: Müsahibə veracəyiniz işə dair bütün tələbləri, vəzifələri və şirkətin təşkilati mədəniyyətini öyrənin. Bu, müsahibə zamanı müvafiq cavablar verməyə kömək edəcək.\n",
      "\n",
      "3. Şirkət və rəhbərlik haqqında məlumat toplayın: Şirkətin fəaliyyəti, tarixi, məhsulları və ya xidmətləri, rəhbərlik və idarəetmə strukturu barədə məlumat toplayın. Bu, müsahibə zamanı daha inamlı və uyğun cavablar verməyə kömək edəcək.\n",
      "\n",
      "4. Müsahibənin strukturu və sualları barədə məlumat alın: Müsahibə strukturu və ehtimal olunan suallar barədə məlumat alın. Bu, sualları daha yaxşı başa düşüb hazırlaşmağa kömək edəcək.\n",
      "\n",
      "5. Müsahibəyə psixoloji hazırlıq: Özünüzə inanın, stressi idarə etməyi və müxtəlif situasiyalara adekvat reaksiya vermək qabiliyyətini inkişaf etdirin. Bu, müsahibə zamanı daha sakit və inamlı görünməyə kömək edəcək.\n",
      "\n",
      "6. Müsahibə üçün hazırlıq: Öz CV-nizi, tövsiyə məktublarını, sertifikatları və digər sənədlərinizi yoxlayın və müsahibəyə hazır gəlin. Həmçinin müsahibəyə gecikməməyə və yaxşı görünməyə diqqət yetirin.\n",
      "\n",
      "Yuxarıda qeyd olunan hazırlıqlar müsahibədə uğur qazanmağınıza kömək edə bilər. Bundan başqa, arxayınlıq, özünəinam və müsahibə zamanı aktiv dinləmə də çox vacibdir.\n"
     ]
    },
    {
     "name": "stderr",
     "output_type": "stream",
     "text": [
      " 19%|█▉        | 19/100 [05:37<23:34, 17.46s/it]"
     ]
    },
    {
     "name": "stdout",
     "output_type": "stream",
     "text": [
      "Yeni bir dili qısa müddətdə öyrənmək üçün aşağıdakı effektiv yolları tətbiq etmək olar:\n",
      "\n",
      "1. Məqsəd müəyyənləşdirmək: Dili nə üçün öyrəndiyinizi müəyyənləşdirmək və buna uyğun taktika seçmək önəmlidir. Məsələn, işiniz üçün dili öyrənməlisinizsə, iş ilə bağlı sözləri və ifadələri əvvəlcə öyrənmək olar.\n",
      "\n",
      "2. İmmersiya: Dili öyrəndikcə onu həyatınızın bir hissəsi haline gətirməyə çalışın. Televizor, radio, musiqi, kitab və sosial media vasitəsilə dili daim istifadə edin.\n",
      "\n",
      "3. Qrammatikanı yox, ünsiyyətə üstünlük verin: Dili öyrənərkən əvvəlcə qrammatika qaydalarına deyil, ünsiyyət bacarıqlarına fokuslanın. Bu, dili daha tez mənimsəməyə kömək edə bilər.\n",
      "\n",
      "4. Təkrar və təkrar: Yeni öyrəndiyiniz sözləri və ifadələri tez-tez təkrar etmək, onları yadda saxlamağınıza kömək edəcək.\n",
      "\n",
      "5. Diakoqlar və rollu oyunlar: Dili öyrənən dostlarınızla diakoqlara və rollu oyunlara qatılın. Bu, dili praktik tətbiq etmək və ünsiyyət bacarıqlarınızı inkişaf etdirmək üçün əla fürsətdir.\n",
      "\n",
      "6. Mobil tətbiqlərə və onlayn resurslardan istifadə edin: Müasir texnologiya bu prosesin asanlaşdırılmasına kömək edə bilər. Dil öyrənmək üçün yaradılmış mobil tətbiqlər və onlayn kurslar dərsləri maraqlı və interaktiv edə bilər.\n",
      "\n",
      "7. Səbr və məqsədyönlülük: Yeni bir dil öyrənmək uzun və çətin bir proses ola bilər. Lakin səbir və məqsədyönlülüklə yanaşsanız, qısa müddətdə arzuladığınız nəticəyə nail ola bilərsiniz.\n"
     ]
    },
    {
     "name": "stderr",
     "output_type": "stream",
     "text": [
      " 20%|██        | 20/100 [05:55<23:42, 17.78s/it]"
     ]
    },
    {
     "name": "stdout",
     "output_type": "stream",
     "text": [
      "İş və şəxsi həyat arasında balansı saxlamaq müasir həyatın ən böyük çağırışlarından biridir. Təcrübəli mütəxəssislər bildirirlər ki, bu balansı tapmaq həm iş performansını, həm də şəxsi rifah halını yaxşılaşdırır. Buna nail olmaq üçün aşağıdakı yanaşmalar faydalı ola bilər:\n",
      "\n",
      "Əvvəla, iş və şəxsi vaxtın düzgün bölünməsi vacibdir. Gündəlik iş rutinindən kənar vaxtın ayrılması zəruridir ki, şəxsi məsələlərə, ailə və dostlara ayrılacaq zaman olsun. Həmçinin iş gününün sonunda günü yekunlaşdırmaq və məşğuliyyətləri planlaşdırmaq tövsiyə edilir.\n",
      "\n",
      "İkinci olaraq, özünü yormadan və yorulmadan işləmək lazımdır. İş saatları çox uzun olmamalı, tənəffüslər və istirahət müntəzəm şəkildə həyata keçirilməlidir. Bununla yanaşı, fiziki və emosional sağlamlığa da diqqət yetirmək vacibdir.\n",
      "\n",
      "Üçüncüsü, iş-şəxsi həyat arasındakı sərhədləri müəyyənləşdirmək önəmlidir. İş məsələlərini əhəmiyyətli dərəcədə şəxsi həyata daxil etməmək, telefon və e-poçtdan iş xaricində imtina etmək tövsiyə olunur.\n",
      "\n",
      "Nəhayət, sosial həyat və hobbilərlə məşğul olmaq da bu balansın qorunmasına yardımçı ola bilər. İş həyatından kənarda vaxt keçirmək, ailə və dostlarla ünsiyyət qurmaq, idmanla məşğul olmaq və ya mədəniyyət, incəsənət və s. maraqlara zaman ayırmaq həm fiziki, həm də mənəvi sağlamlıq üçün vacibdir.\n",
      "\n",
      "İş və şəxsi həyat arasında sağlam balansı tapmaq heç də asan məsələ deyil, lakin bu, uzunmüddətli perspektivdə insanın həm iş, həm də şəxsi həyatı üçün çox önəmlidir.\n"
     ]
    },
    {
     "name": "stderr",
     "output_type": "stream",
     "text": [
      " 21%|██        | 21/100 [06:14<23:33, 17.89s/it]"
     ]
    },
    {
     "name": "stdout",
     "output_type": "stream",
     "text": [
      "Sağlam bir qidalanma planının hazırlanması üçün aşağıdakı addımları nəzərə almaq vacibdir:\n",
      "\n",
      "1. Fərdi ehtiyacları müəyyənləşdirin: Hər kəsin fərdi qidalanma ehtiyacları fərqli ola bilər. Yaş, cinsiyyət, fiziki fəaliyyət səviyyəsi, sağlamlıq vəziyyəti və ya digər xüsusiyyətlər nəzərə alınmalıdır.\n",
      "\n",
      "2. Makroqidalanma elementləri üzrə tarazlığı təmin edin: Planınızda karbohidratlar, zülallar və yağlar arasında düzgün nisbət saxlanılmalıdır. Hər bir makroqidalanma elementi müxtəlif enerji və sağlamlıq faydaları təmin edir.\n",
      "\n",
      "3. Mikroqidalanma elementlərini daxil edin: Vitaminlər, minerallar və digər faydalı maddələr də planınızda yer almalıdır. Bu maddələr immuniteti möhkəmləndirir, orqanizmin normal fəaliyyətini təmin edir.\n",
      "\n",
      "4. Bol tərəvəz və meyvə istehlakını təşviq edin: Tərəvəz və meyvələr qida liflərindən, vitaminlərdən və minerallardan zəngindir. Onların gündəlik istehlakı sağlamlığın qorunmasında mühüm rol oynayır.\n",
      "\n",
      "5. Hidrasiya və fiziki aktivliyə diqqət yetirin: Kifayət qədər su içmək və müntəzəm fiziki aktivlik sağlam həyat tərzinin vacib tərkib hissələridir.\n",
      "\n",
      "6. Təbii və bütöv qidalar seçin: İşlənmiş və ya suni qatqıları az olan qidalar sağlamlığa daha faydalı ola bilər.\n",
      "\n",
      "7. Fərdi zövq və məhdudiyyətləri nəzərə alın: Sağlam qidalanma planı sizə ləzzətli və davamlı görünməlidir. Sevdiyiniz və ya diabet, allergiya kimi məhdudiyyətlər olan qidalar planlaşdırılmalıdır.\n",
      "\n",
      "İdeal sağlam qidalanma planı fərdi ehtiyacları və tərcihləri əks etdirərək, təbii və tarazlaşdırılmış qidaların istifadəsini təmin etməlidir.\n"
     ]
    },
    {
     "name": "stderr",
     "output_type": "stream",
     "text": [
      " 22%|██▏       | 22/100 [06:32<23:23, 17.99s/it]"
     ]
    },
    {
     "name": "stdout",
     "output_type": "stream",
     "text": [
      "Şəhər mühitində yaşayarkən stresin azaldılması üçün bir sıra tədbirlər görülə bilər:\n",
      "\n",
      "1. Təbiətlə ünsiyyət qurmaq: Şəhər mühitində tez-tez təbiətin insanın ruhuna təsir edən müsbət təsirindən kənar qalınır. Bunun üçün park, bağça və meşəlik kimi yaşıllıq zonaları ilə ünsiyyət qurmaq və orada dincəlmək stressi azaltmağa kömək edə bilər.\n",
      "\n",
      "2. Fiziki aktivliyə üstünlük vermək: Şəhər həyatı əksər hallarda fiziki aktivlikdən məhrumdur. Gündəlik gəzintilər, piyada gəzməklər, idman məşğələləri stresi azaltmağa yardımçı olur.\n",
      "\n",
      "3. Rahatlama və meditatsiyanı təcrübə etmək: Məsələn, yoqa və ya tay-çi kimi rahatlayıcı təcrübələr stresi azaltmaq üçün faydalıdır. Bu həmçinin nəfəs alma texnikalarını da əhatə edir.\n",
      "\n",
      "4. Sosial həyatı zənginləşdirmək: İnsanlar arasında sağlam münasibətlər qurmaq və dostluq əlaqələrini inkişaf etdirmək stresdən azad olmağa kömək edir.\n",
      "\n",
      "5. Özünüifadə vasitələrindən istifadə etmək: Rəsm, musiqi, yazı kimi yaradıcı fəaliyyətlər də stresi azaltmağa yardımçı ola bilər.\n",
      "\n",
      "6. Diqqəti paylaşdırmaq: Şəhər mühitindən kənarlara - təbiətə, evdən iş yerinə və ya əksinə yönəlmək diqqəti paylaşdırır və stresin azalmasına səbəb olur.\n",
      "\n",
      "7. Özünəqayğı və rahatlıq təcrübələri: Kafi yuxu, sağlam qidalanma və müntəzəm sanitar-gigiyena kimi özünəqayğı təcrübələri stresin azaldılmasında önəmli rol oynayır.\n",
      "\n",
      "Şəhər mühitindəki stress düzgün idarə edilmədikdə ciddi sağlamlıq problemlərinə səbəb ola bilər. Buna görə də bu istiqamətdə fərdi səviyyədə məqsədyönlü tədbirlərin həyata keçirilməsi vacibdir.\n"
     ]
    },
    {
     "name": "stderr",
     "output_type": "stream",
     "text": [
      " 23%|██▎       | 23/100 [06:50<23:07, 18.01s/it]"
     ]
    },
    {
     "name": "stdout",
     "output_type": "stream",
     "text": [
      "Yaxşı bir liderin xüsusiyyətləri aşağıdakılar olmalıdır:\n",
      "\n",
      "1. Vizyona sahib olması: Yaxşı bir lider öz komandası üçün açıq və aydın bir vizyon yaradır. O, gələcəyə dair uzaqgörən olmaqla bərabər, təşkilatın məqsədlərini və istiqamətini müəyyənləşdirir.\n",
      "\n",
      "2. İnsanlara örnək olmaq: Lider öz davranışları və hərəkətləri ilə digər insanlara örnək olmalıdır. O, məsuliyyətli, etik və prinsipli olmalı, öz sözünə sadiq qalmalıdır.\n",
      "\n",
      "3. Yüksək kommunikasiya bacarıqları: Yaxşı bir lider effektiv kommunikasiya bacarıqlarına sahib olur. O, öz fikirlərini aydın şəkildə ifadə edə, dinləmə və başa düşmə qabiliyyətinə malik olur.\n",
      "\n",
      "4. Kollektiv ruh yaratmaq: Lider komandası arasında güclü bir kollektiv ruh və əməkdaşlıq mühiti yaradır. O, komandanı bir-birinə bağlayaraq, onların birgə səylərini nəticəyə çevirə bilir.\n",
      "\n",
      "5. Risk alma və yaradıcılıq: Yaxşı bir lider riskləri idarə etməyi və yeni ideyalar irəli sürməyi bacarır. O, təşəbbüskardır və dəyişiklikləri həyata keçirmək üçün lazımi addımları atır.\n",
      "\n",
      "6. Ədalətli və obyektiv olmaq: Lider qərarlarında ədalətli və obyektiv olmalıdır. O, bütün işçilərə bərabər şəkildə münasibət göstərməli və bir-birindən fərqli davranmamalıdır.\n",
      "\n",
      "7. Özünü inkişaf etdirmə: Yaxşı bir lider həm peşəkar, həm də şəxsi inkişafına diqqət yetirməlidir. O, yeni bacarıqlar əldə etməyə, öyrənməyə və təcrübə toplamağa çalışır.\n",
      "\n",
      "Bu xüsusiyyətlər yaxşı bir liderin formalaşmasında mühüm rol oynayır və onun təşkilatı uğura aparmağına kömək edir.\n"
     ]
    },
    {
     "name": "stderr",
     "output_type": "stream",
     "text": [
      " 24%|██▍       | 24/100 [07:08<22:41, 17.91s/it]"
     ]
    },
    {
     "name": "stdout",
     "output_type": "stream",
     "text": [
      "Qəhvənin insan sağlamlığına təsiri aşağıdakı kimi ola bilər:\n",
      "\n",
      "Müsbət Təsirlər:\n",
      "1. Diqqət və konssentrasiya artırır. Qəhvə tərkibindəki kafein beyni stimullaşdıraraq diqqət və mərkəzləşmə qabiliyyətini yüksəldir.\n",
      "2. Fiziki aktivliyi artırır. Qəhvə həm beynə, həm də bədənə müsbət təsir edərək fiziki aktivliyi artırır.\n",
      "3. Ürək-damar sistemini sağlamlaşdırır. Tərkibindəki polifenollar ürək-damar xəstəliklərinin riskini azaldır.\n",
      "4. Şəkər xəstəliyinin qarşısını ala bilər. Qəhvənin tərkibindəki bəzi maddələr qanda şəkər səviyyəsini tənzimləyir.\n",
      "5. Depressiya və Parkinson xəstəliyinin riski azalır. Qəhvə dopamin və serotonin ifrazını artırır ki, bu da müəyyən sinir xəstəliklərinin qarşısının alınmasına kömək edir.\n",
      "\n",
      "Mənfi Təsirlər:\n",
      "1. Yuxusuzluq. Qəhvənin tərkibindəki kafein yuxuya mənfi təsir edə bilər.\n",
      "2. Qastrit və mədə-bağırsaq problemləri. Qəhvə mədə turşusunu artıraraq qastrit və mədə xorası kimi problemlərə səbəb ola bilər.\n",
      "3. Artıq həyəcanlılıq. Qəhvə həddindən artıq qəbul edilərsə, həyəcanlanma, tremor və stress hallarına yol aça bilər.\n",
      "4. Hamiləlik dövründə risk. Hamilələrdə qəhvə istifadəsi hamiləlik və doğuş komplikasiyalarına səbəb ola bilər.\n",
      "5. Bəzi xəstəliklərə təsir. Qəhvə bəzi ürək-damar, böyrək və qaraciyər xəstəliklərinin riskini artıra bilər.\n",
      "\n",
      "Qəhvənin sağlamlığa təsiri çox mürəkkəb olduğundan, hər insan üçün individual yanaşma vacibdir. Məqsədəuyğun və düzgün istehlak şəkildə qəhvədən istifadə edilməsi sağlamlıq baxımından faydalı ola bilər.\n"
     ]
    },
    {
     "name": "stderr",
     "output_type": "stream",
     "text": [
      " 25%|██▌       | 25/100 [07:26<22:33, 18.04s/it]"
     ]
    },
    {
     "name": "stdout",
     "output_type": "stream",
     "text": [
      "İnternetdə təhlükəsizliyi təmin etmək üçün aşağıdakı tədbirləri həyata keçirmək vacibdir:\n",
      "\n",
      "1. Güclü parollar istifadə etmək: İnternetdə istifadə olunan bütün hesablarda, xüsusilə də məxfi məlumatların saxlandığı hesablarda, mürəkkəb və uzun parollar istifadə edilməlidir. Parollar kifayət qədər güclü olmalı, şəxsi məlumatları və ya asan təxmin edilən sözləri əks etdirməməlidir.\n",
      "\n",
      "2. İki addımlı autentifikasiya tətbiq etmək: İnternetdə həssas hesablara daxil olarkən iki addımlı autentifikasiya tətbiq edilməsi təhlükəsizliyi artırır. Bu, parol ilə yanaşı, əlavə bir doğrulama kodu və ya biometrik göstərici tələb edir.\n",
      "\n",
      "3. Antivirüs və antimalware proqramlarından istifadə etmək: Kompüter və mobil cihazlarda etibarlı antivirüs və antiməlumatlı proqramlar quraşdırılmalıdır. Bu proqramlar sistemi zərərli proqramlardan qoruyur və internetdən gələn təhdidləri aşkarlayır.\n",
      "\n",
      "4. VPN istifadə etmək: VPN (Virtual Private Network) istifadəsi internet trafikinin şifrələnməsinə və anonimləşdirilməsinə kömək edir. Bu, istifadəçinin onlayn fəaliyyətini gizlədir və həssas məlumatların oğurlanmasının qarşısını alır.\n",
      "\n",
      "5. Sosial mühəndislik hücumlarından qaçınmaq: İstifadəçilər sosial mühəndislik hücumlarından, məsələn, aldadıcı e-poçtlardan və ya saxta vebsaytlardan qaçınmalıdır. Bu cür hücumlar məxfi məlumatların oğurlanmasına və ya zərərli proqramların yüklənməsinə səbəb ola bilər.\n",
      "\n",
      "6. Regulyar ehtiyat surətləri yaratmaq: İstifadəçilər maraqlı olduqları həssas və vacib məlumatların ehtiyat surətlərini müntəzəm olaraq yaratmalıdırlar. Bu, məlumatların itməsi və ya oğurlanması halında bərpa edilməsinə imkan verir.\n",
      "\n",
      "Bu tədbirləri nəzərə alaraq, istifadəçilər internetdə təhlükəsizliklərini əhəmiyyətli dərəcədə artıra bilərlər.\n"
     ]
    },
    {
     "name": "stderr",
     "output_type": "stream",
     "text": [
      " 26%|██▌       | 26/100 [07:45<22:34, 18.31s/it]"
     ]
    },
    {
     "name": "stdout",
     "output_type": "stream",
     "text": [
      "Dünya ətrafında səyahət etmək üçün ən yaxşı vaxt təxminən ildə bir dəfə, ən yaxşı halda isə iki dəfə ola bilər. Səyahət etmək üçün ən yaxşı dövrləri aşağıdakı kimi təsnif etmək olar:\n",
      "\n",
      "1. Yazda (mart-may) - Bu dövr çox əlverişlidir, çünki hava əksər bölgələrdə sakit və xoşagələndir. Turist sıxlığı da nisbətən aşağı olur. Bəzi ölkələrdə də bu dövr bayram və festivallarla zəngindir.\n",
      "\n",
      "2. Yayda (iyun-avqust) - Yay ayları səyahət etməyin ən populyar dövrlərindən biridir. Hava adətən isti və günəşli olur, insanlar da daha rahat səyahət etmək üçün vaxt tapar. Bununla belə, bəzi bölgələrdə istilik çox yüksək ola bilər ki, bu da rahatlığa mane ola bilər.\n",
      "\n",
      "3. Payızda (sentyabr-noyabr) - Payız mövsümü də yaxşı seçimdir, çünki əksər turist mərkəzləri daha az sıx olur, hava daha sərin və mülayim olur. Bəzi ölkələr də bu dövrdə yenilənmiş xidmətlər və daha əlçatan qiymətlərlə turistləri cəlb edir.\n",
      "\n",
      "4. Qışda (dekabr-fevral) - Qış mövsümü də bəzi insanlar üçün cazbedici ola bilər. Məsələn, qarlı dağlara səyahət etmək, hava limanlarının daha az sıx olması, qiymətlərin aşağı olması və s.\n",
      "\n",
      "Ümumiyyətlə, səyahət vaxtının seçilməsi çox fərdi olsa da, ən yaxşı dövr yazın və payızın ortaları hesab edilir. Bu zaman hava daha ılıq və sakit olur, turist axını da nisbətən aşağı olur.\n"
     ]
    },
    {
     "name": "stderr",
     "output_type": "stream",
     "text": [
      " 27%|██▋       | 27/100 [08:02<21:47, 17.91s/it]"
     ]
    },
    {
     "name": "stdout",
     "output_type": "stream",
     "text": [
      "Yerli məhsulları dəstəkləməyin əhəmiyyəti böyükdür. Bu, ölkə iqtisadiyyatına, iş yerlərinin yaradılmasına, ekoloji dayanıqlılığa və sosial firavanlığa müsbət təsir göstərə bilər.\n",
      "\n",
      "Əvvəla, yerli məhsulların dəstəklənməsi ölkə iqtisadiyyatını möhkəmləndirə və işsizliyi azalda bilər. Yerli istehsalçılar və fermerlər stimullaşdırılarsa, onlar daha çox investisiya və texnologiya cəlb edə, istehsal həcmlərini artıra və yeni iş yerlərini yarada bilərlər. Bu da ölkə iqtisadiyyatının güclənməsinə, valyuta ehtiyatlarının artmasına və xarici asılılığın azalmasına gətirib çıxara bilər.\n",
      "\n",
      "İkincisi, yerli məhsulların dəstəklənməsi ətraf mühitin qorunmasına xidmət edə bilər. Yerli istehsalçıların məhsulları əksər hallarda ekoloji cəhətdən daha təmiz və dayanıqlıdır, çünki onlar uzaq məsafədən gətirilən məhsullara nisbətən daha az karbon izinə malikdirlər. Bununla yanaşı, yerli kənd təsərrüfatı və sənaye müəssisələrinin inkişafı yeni yaşıl texnologiyaların tətbiqinə də təkan verə bilər.\n",
      "\n",
      "Nəhayət, yerli məhsulların dəstəklənməsi vətəndaşların sosial rifahına müsbət təsir göstərə bilər. Yerli istehsalçıların dəstəklənməsi onların gəlirlərinin artmasına, qiymətlərin sabitləşməsinə və istehlakçıların keyfiyyətli məhsullara çıxışının yaxşılaşmasına səbəb ola bilər. Bu da yerli icmaların həyat səviyyəsinin yüksəlməsinə töhfə verə bilər.\n",
      "\n",
      "Beləliklə, yerli məhsulları dəstəkləmək ölkənin iqtisadi, ekoloji və sosial inkişafına mühüm təsir edə bilər. Bu, həm istehsalçılar, həm də istehlakçılar üçün faydalı ola bilər.\n"
     ]
    },
    {
     "name": "stderr",
     "output_type": "stream",
     "text": [
      " 28%|██▊       | 28/100 [08:19<21:09, 17.64s/it]"
     ]
    },
    {
     "name": "stdout",
     "output_type": "stream",
     "text": [
      "Bitkilərin evdə yetişdirilməsinin bir çox faydaları var. Bunlardan bəziləri aşağıdakılardır:\n",
      "\n",
      "1. Tətbiq Edilməsi Asandır: Bitkilər evdə yetişdirilə bilər və xüsusi bağçanız və ya böyük torpaq sahəniz olmazsa belə, bu, mümkündür. Saksılar, qutular və ya digər alətlərdən istifadə edə bilərsiniz.\n",
      "\n",
      "2. Hava Keyfiyyətinin Yaxşılaşdırılması: Bitkilər havadakı karbon dioksidi sorur və oksigen buraxır. Bu, evdə daha təmiz və daha sağlam hava yaratmağa kömək edir.\n",
      "\n",
      "3. Stressi Azaltmaq: Bitkilərin baxımı və onlarla məşğul olmaq insanların stresini azaltmağa kömək edir. Bu, insanların özlərini daha yaxşı hiss etmələrinə və daha sakitləşmələrinə imkan verir.\n",
      "\n",
      "4. Ərzaq İstehsalı: Bəzi bitkilər, məsələn, pomidorlar, bibərlər, otlar və ya hətta bəzi meyvələr də evdə yetişdirilə bilər. Bu, təzə və sağlam ərzaq istehsal etməyə imkan verir.\n",
      "\n",
      "5. Estetik Görünüş: Evdə bitkilər yaşayış sahəsini daha cəlbedici və yaşıl görünüşə malik edir. Bu, yaşadığınız mühiti daha rahat və daha xoşagələn edə bilər.\n",
      "\n",
      "6. Öyrənmə və İnkişaf: Bitkilərin baxımı ilə məşğul olmaq insanlara yeni bacarıqlar və bilik qazandırmağa kömək edir. Bu, həm fiziki, həm də emosional inkişaf üçün faydalıdır.\n",
      "\n",
      "Beləliklə, bitkilərin evdə yetişdirilməsinin əhəmiyyəti böyükdür. Bu, insanların sağlamlığına, əhval-ruhiyyəsinə və həyat tərzinə müsbət təsir göstərə bilər.\n"
     ]
    },
    {
     "name": "stderr",
     "output_type": "stream",
     "text": [
      " 29%|██▉       | 29/100 [08:36<20:43, 17.52s/it]"
     ]
    },
    {
     "name": "stdout",
     "output_type": "stream",
     "text": [
      "Qarşılıqlı hörmətli əlaqələr qurmaq üçün aşağıdakı mühüm məsələlərə diqqət yetirmək vacibdir:\n",
      "\n",
      "1. Dinləmək və anlamağa çalışmaq. Digər insanın fikirlərinə, hislərinə və tələblərinə diqqət yetirmək, onları dərin nəzərdən keçirmək və başa düşməyə çalışmaq lazımdır. Aktiv dinləmə bacarıqlarını inkişaf etdirmək əhəmiyyətli roldur.\n",
      "\n",
      "2. Empatiya nümayiş etdirmək. Özümüzü başqasının yerində təsəvvür etmək, onun duyğularını və perspektivlərini anlamağa çalışmaq vacibdir. Bu, digər insanla daha yaxın əlaqə yaratmağa kömək edə bilər.\n",
      "\n",
      "3. Açıq və səmimi olmaq. Münasibətlərdə həm özümüz, həm də başqaları ilə səmimi və açıq olmaq zəruridir. Göstərilən etibar və şəffaflıq qarşılıqlı hörmət və anlayışın inkişafına təkan verə bilər.\n",
      "\n",
      "4. Kompromis və tolerantlıq nümayiş etdirmək. Bəzən fərqli fikirləri və mənafelər olsa da, müzakirə etmək və ortaq mənafeyə nail olmaq üçün kompromislər tapmaq lazımdır. Tolerantlıq göstərmək və qarşılıqlı anlaşma yaratmaq mühüm əhəmiyyət daşıyır.\n",
      "\n",
      "5. Dəyər vermək və qədir-qiymət göstərmək. Digər insanların şəxsiyyətinə və fikirlərinin dəyərinə hörmət etmək vacibdir. Onların töhfələrini və səylərini qədir-qiymət etmək qarşılıqlı hörmət mühitinə töhfə verə bilər.\n",
      "\n",
      "Yuxarıda qeyd olunan bütün bu amillər qarşılıqlı hörmətli və sağlam əlaqələr qurmaq üçün əhəmiyyətli rol oynayır. Bu yolla insanlar arasında güvən, anlaşma və əməkdaşlıq yaratmaq mümkün olur.\n"
     ]
    },
    {
     "name": "stderr",
     "output_type": "stream",
     "text": [
      " 30%|███       | 30/100 [08:54<20:41, 17.73s/it]"
     ]
    },
    {
     "name": "stdout",
     "output_type": "stream",
     "text": [
      "İnkişaf etmiş ölkələrdə təhsil sisteminin aşağıdakı xüsusiyyətləri vardır:\n",
      "\n",
      "1. Yüksək keyfiyyətli təhsil: Bu ölkələrdə təhsil standartları çox yüksəkdir və tədris metodologiyası, infrastruktur və resurslar daha keyfiyyətlidir. Müəllimlərin hazırlığı və peşəkarlığı da yüksəkdir.\n",
      "\n",
      "2. Universitetlərə yüksək prioritet: İnkişaf etmiş ölkələr ali təhsilə böyük önəm verirlər. Onlar universitet infrastrukturuna və tədqiqata xüsusi investisiya qoyurlar. Ali təhsil yüksək keyfiyyətli və rəqabətli olur.\n",
      "\n",
      "3. Şəxsi inkişafa fokuslanma: Təhsil sistemi tələbələrin şəxsi bacarıqlarının, liderlik qabiliyyətlərinin və yaradıcılığının inkişafına yönəlir. Praktiki və təcrübi vərdişlərə üstünlük verilir.\n",
      "\n",
      "4. Texnologiya və innovasiya: Bu ölkələrdə təhsil texnologiya və innovasiyalara əsaslanır. Sinif otaqlarında yüksək texnoloji avadanlıqlar, e-təhsil platformaları və təcrübi innovativ layihələr tətbiq olunur.\n",
      "\n",
      "5. Beynəlxalq əməkdaşlıq: İnkişaf etmiş ölkələr tələbələrin xarici ölkələrə təhsil almağa göndərilməsinə və beynəlxalq mübadiləyə böyük önəm verirlər. Bu isə tələbələrin üfüqlərinin genişlənməsi və yeni biliklər qazanması üçün əlverişli imkanlar yaradır.\n",
      "\n",
      "6. Davamlı inkişaf: Təhsil sistemi davamlı inkişaf prinsiplərinə əsaslanır. Tələbələr davamlı inkişaf, ətraf mühitin qorunması və sosial cavabdehlik kimi mövzularda təlim alırlar.\n",
      "\n",
      "Ümumilikdə, inkişaf etmiş ölkələrin təhsil sistemləri yüksək keyfiyyət, texnoloji innovasiya, beynəlxalq əməkdaşlıq və şəxsi inkişaf kimi xüsusiyyətləri ilə seçilirlər.\n"
     ]
    },
    {
     "name": "stderr",
     "output_type": "stream",
     "text": [
      " 31%|███       | 31/100 [09:12<20:18, 17.66s/it]"
     ]
    },
    {
     "name": "stdout",
     "output_type": "stream",
     "text": [
      "Effektiv zaman idarəetmə üçün bir neçə tətbiq istifadə edilə bilər:\n",
      "\n",
      "1. \"To-Do List\" tətbirləri: Bu tətbiqlər vasitəsilə işlərinizi siyahıya alıb prioritet sıralaması edə, həmçinin işlənmiş və gələcək işləri izləyə bilərsiniz. Belə tətbiqlər arasında \"Microsoft To-Do\", \"Google Tasks\", \"Todoist\" və s. aid etmək olar.\n",
      "\n",
      "2. Vaxt izləmə tətbirləri: Bu tətbiqlər vasitəsilə istifadəçilər öz fəaliyyətlərini izləyə, hansı işlərlə daha çox vaxt sərf etdiklərini görə və buna əsasən daha yaxşı zaman idarəetməsi edə bilərlər. \"Toggl\", \"Time Doctor\", \"RescueTime\" kimi tətbiqlər buna nümunə ola bilər.\n",
      "\n",
      "3. Pomodoro texnikası tətbirləri: Bu metodologiya əsasında işləri 25 dəqiqəlik hissələrə bölür və fasilələr verir. Beləliklə, uzun müddətli konsentrirləşmə və işə diqqət etmə imkanı yaradır. \"Focus Keeper\", \"Pomodoro Technique Timer\" kimi tətbiqlər bu metodologiyanı təqdim edir.\n",
      "\n",
      "4. Təqvim tətbirləri: Təqvimlər vaxt planlaşdırılması üçün əhəmiyyətli alətlərdir. \"Google Calendar\", \"Microsoft Outlook\" kimi tətbiqlər istifadəçilərə öz işlərini, görüşlərini, toplantılarını planlaşdırmağa və idarə etməyə imkan verir.\n",
      "\n",
      "5. Distraksiyaları azaltmaq üçün tətbiqlər: Bu tətbiqlər istifadəçiləri distraksiya mənbələrindən (sosial media, e-poçt, bəzi veb saytlar və s.) ayırır və daha məhsuldar olmalarına kömək edir. \"Freedom\", \"Forest\", \"AppBlock\" bu kateqoriyaya aid tətbiqlərdir.\n",
      "\n",
      "Yuxarıda qeyd olunan tətbiqlər istifadəçilərə öz vaxtlarını daha yaxşı planlaşdırmaq və idarə etmək üçün vasitələr təqdim edir. İstifadəçilər öz tələbatlarına və üstünlük verdikləri metodlara uyğun tətbiqləri seçə bilərlər.\n"
     ]
    },
    {
     "name": "stderr",
     "output_type": "stream",
     "text": [
      " 32%|███▏      | 32/100 [09:31<20:22, 17.98s/it]"
     ]
    },
    {
     "name": "stdout",
     "output_type": "stream",
     "text": [
      "Kompüter oyunlarının uşaqlar üzərində müəyyən təsirləri vardır. Bu təsirlərin həm müsbət, həm də mənfi aspektləri mövcuddur:\n",
      "\n",
      "Müsbət aspektləri:\n",
      "- Motor və koordinasiya bacarıqlarının inkişafına kömək edir. Bəzi oyunlar məkan təsəvvürü, reaksiya vaxtı və strateji düşüncə kimi vərdişlərin inkişafına töhfə verir.\n",
      "- Diqqət və konseptual anlayışa müsbət təsir edir. Bəzi oyunlar uşaqların diqqətini uzun müddət cəlb edə bilir və abstrakt düşüncə qabiliyyətini artırır.\n",
      "- Sosial interaksiya və komanda ruhunu gücləndirir. Çoxoyunçulu oyunlar uşaqların bir-biriləri ilə əməkdaşlıq etməyə və strateji düşüncə tərzi formalaşdırmağa kömək edir.\n",
      "- Yaradıcılıq və problem həll etmə bacarıqlarını inkişaf etdirir. Bəzi oyunlar uşaqları fərqli yollarla düşünməyə və yaradıcı həllər tapmağa sövq edir.\n",
      "\n",
      "Mənfi aspektləri:\n",
      "- Həddindən artıq uzun müddət oynamaq fiziki və psixi sağlamlığa mənfi təsir göstərə bilər. Bu, görmə, bədən çəkisi, yuxu və diqqət kimi problemlərə səbəb ola bilər.\n",
      "- Həddindən artıq oyun oynamaq asılılığa gətirib çıxara bilər və uşaqların həyatının digər aspektlərinə, məsələn, dərs və sosial əlaqələrə mənfi təsir göstərə bilər.\n",
      "- Bəzi oyunlar mənfi və şiddətli davranışları təşviq edə bilər ki, bu da uşaqların sosial və emosional inkişafına təsir edə bilər.\n",
      "\n",
      "Beləliklə, kompüter oyunlarının uşaqlar üçün müsbət və mənfi təsirləri var. Ata-analar uşaqlarının oyunlarını nəzarətdə saxlamalı və sağlam bir tarazlıq tapmalıdırlar.\n"
     ]
    },
    {
     "name": "stderr",
     "output_type": "stream",
     "text": [
      " 33%|███▎      | 33/100 [09:48<19:49, 17.75s/it]"
     ]
    },
    {
     "name": "stdout",
     "output_type": "stream",
     "text": [
      "Fərdi inkişaf üçün ən yaxşı kitablar seçmək çox subyektiv bir məsələdir, çünki hər kəsin fərqli tələb və maraqları olur. Buna baxmayaraq, təcrübələrdən və tövsiyələrdən çıxarılan ümumi bəzi kitablar var ki, onlar insanlara öz potensiallarını aşkar etməyə, həqiqətən özləri olmağa və həyatın həqiqəti ilə barışmağa kömək edir.\n",
      "\n",
      "Məsələn, \"Adi İnsanın Olağanüstü Həyatı\" (Viktor Frankl), \"Dərin İşı Daxilən Tapma\" (Eckhart Tolle), \"Təmiz Beyni Tənzimlə\" (Daniil Kahneman) və \"Yaxşı Həyat Üçün Qanunlar\" (Jordan Peterson) kimi kitablar çox məşhurdur və insanlara fərdi, mənəvi və emosional inkişaf sahələrində yardım edir.\n",
      "\n",
      "Bu kitablar insanların özlərini daha yaxşı tanımalarına, hisslərinə nəzarət etmək bacarıqlarının inkişaf etdirilməsinə, mənfi emosiyalarla mübarizə aparmağa və həyatlarına məna və məqsəd qatmağa kömək edir. Həmçinin, oxucu özünü tanıma, səmimi özünüqiymətləndirmə və həyat məqsədləri ilə bağlı dərindən düşünməyə təşviq edilir.\n",
      "\n",
      "Bütün bunlarla yanaşı, fərdi inkişaf üçün ən uyğun kitabların seçimi hər kəsin fərdi tələbatları və maraqlarına əsaslanır. Bəzi insanlar daha çox ruhani və fəlsəfi mövzulara maraq göstərirsə, digərləri psixoloji və motivasiyadakı kitablara daha çox üstünlük verə bilərlər. Buna görə də, fərdi inkişaf üçün ən uyğun kitabları müəyyənləşdirmək üçün hər kəsin öz tələbatlarını və maraqlarını nəzərə alması vacibdir.\n"
     ]
    },
    {
     "name": "stderr",
     "output_type": "stream",
     "text": [
      " 34%|███▍      | 34/100 [10:06<19:34, 17.80s/it]"
     ]
    },
    {
     "name": "stdout",
     "output_type": "stream",
     "text": [
      "İş yerində işçilərin motivasiyasını artırmaq üçün aşağıdakı tədbirləri həyata keçirmək olar:\n",
      "\n",
      "1. Açıq ünsiyyət və geri dönüş: İşçilərlə açıq ünsiyyət qurmaq və onların görüşlərini, təkliflərini və narahatlıqlarını dinləmək vacibdir. Həmçinin, işçilərin fəaliyyətləri barədə davamlı geri dönüş vermək motivasiyanı artıracaq.\n",
      "\n",
      "2. Dəyər verilmə və tanınma: İşçilərin səyləri və nailiyyətləri layiqincə qədir-qiymət verilməli və tanınmalıdır. Bu, onların özünə inamını və işə bağlılığını artıracaq.\n",
      "\n",
      "3. Mükafatlandırma sisteminin tətbiqi: Əməyə uyğun ədalətli və rəqabətli maaş və güzəştlər təklif etmək, habelə fərdi və kollektiv bonus sistemlərini tətbiq etmək vacibdir.\n",
      "\n",
      "4. Peşəkar inkişaf imkanları: İşçilərə yeni bacarıqlar əldə etmək və şəxsi inkişaflarını davam etdirmək üçün təlimlər və təhsil imkanları təklif etmək motivasiyanı artıracaq.\n",
      "\n",
      "5. İş məhdudiyyətlərinin azaldılması: İşçilərin işlərini daha səmərəli şəkildə yerinə yetirmələri üçün iş yükü və məhdudiyyətlər azaldılmalıdır.\n",
      "\n",
      "6. Əlverişli iş mühiti: Rahat və əlverişli iş mühiti yaratmaq, əməkdaşlıq və komandalıq ruhunu təşviq etmək, işçilərin rifahını artıracaq.\n",
      "\n",
      "7. İnnovasiya və yaradıcı düşüncəyə yer vermək: İşçilərin yenilikçi və yaradıcı fikirlərini dəstəkləmək və onlara geniş imkanlar vermək motivasiyanı artıracaq.\n",
      "\n",
      "Bu tədbirlərin həyata keçirilməsi ilə işçilərin məmnunluğu, bağlılığı və işə marağı artacaq, nəticədə isə təşkilatın rəqabətqabiliyyətliliyi və səmərəliliyi yüksələcək.\n"
     ]
    },
    {
     "name": "stderr",
     "output_type": "stream",
     "text": [
      " 35%|███▌      | 35/100 [10:25<19:39, 18.15s/it]"
     ]
    },
    {
     "name": "stdout",
     "output_type": "stream",
     "text": [
      "İqlim dəyişikliyi ilə mübarizədə hər bir fərdin mühüm rolu vardır. Biz hamımız yer kürəsinin sakinləri, planetimizin gələcəyi üçün məsuliyyət daşıyırıq. Fərdi olaraq aşağıdakı tədbirləri həyata keçirməklə iqlim dəyişikliyi ilə mübarizədə yaxından iştirak edə bilərik:\n",
      "\n",
      "1. Enerjiyə qənaət etmək - Evdə və iş yerində enerji səmərəli cihazlardan istifadə etmək, işıq və elektrik cihazlarını istifadə etmədikdə söndürmək, enerji istehlakını azaltmaq.\n",
      "\n",
      "2. Nəqliyyatdan istifadəni azaltmaq - Mümkün qədər ictimai nəqliyyatdan, velosipeddən və ya piyada getməkdən istifadə etmək, avtomobillərdən istifadəni minimuma endirmək.\n",
      "\n",
      "3. Təbii qaynaqları qorumaq - Su, kağız, plastik və digər materiallardan qənaətlə istifadə etmək, yenidən emal prosesini dəstəkləmək.\n",
      "\n",
      "4. Dayanıqlı istehlak etmək - Ekoloji cəhətdən təmiz məhsulları seçmək, qida tullantılarını azaltmaq, dayanıqlı geyim və məişət əşyaları almaq.\n",
      "\n",
      "5. Məlumatlanma və təbliğat aparmaq - İqlim dəyişikliyi ilə bağlı məlumatları öyrənmək, ailə və yaxınlarının bu istiqamətdə maarifləndirilməsini təmin etmək.\n",
      "\n",
      "6. Siyasi və ictimai proseslərə qoşulmaq - İqlim dəyişikliyi ilə mübarizə üzrə siyasi və ictimai təşəbbüsləri dəstəkləmək, fəal vətəndaş mövqeyi nümayiş etdirmək.\n",
      "\n",
      "Hər birimiz bu tədbirləri həyata keçirərək, iqlim dəyişikliyi ilə mübarizədə fərdi məsuliyyətimizi yerinə yetirə bilərik. Birgə səylər nəticəsində, gələcək nəsillərin sağlam yaşam tərzi üçün mühüm addımlar atılacaq.\n"
     ]
    },
    {
     "name": "stderr",
     "output_type": "stream",
     "text": [
      " 36%|███▌      | 36/100 [10:43<19:19, 18.12s/it]"
     ]
    },
    {
     "name": "stdout",
     "output_type": "stream",
     "text": [
      "Şəxsi maliyyəni idarə etmənin ən yaxşı yolları aşağıdakılar ola bilər:\n",
      "\n",
      "1. Büdcə tərtib etmək: Aylıq gəlir və xərclərinizi dəqiq bilmək üçün bir büdcə hazırlamaq vacibdir. Bu, yüksək xərcləri azaltmağa, qənaət etməyə və maliyyə hədəflərini reallaşdırmağa kömək edəcək.\n",
      "\n",
      "2. Xərcləri izləmək: Xərclərinizi davamlı izləmək və onlar üzərində nəzarət saxlamaq çox vacibdir. Bu, sizi ifrat xərclərdən uzaq saxlayacaq və qənaət etməyə kömək edəcək.\n",
      "\n",
      "3. Qənaət etmək: Hər ay müəyyən məbləğdə pulu qənaət etmək həyat boyu maliyyə təhlükəsizliyinizə yardım edəcək. Bunun üçün uzunmüddətli məqsədlər müəyyən etmək və həmin məqsədlərə çatmaq üçün plan hazırlamaq vacibdir.\n",
      "\n",
      "4. Borcları idarə etmək: Borcları idarə etmək şəxsi maliyyəni uğurlu şəkildə idarə etmək üçün əhəmiyyətli amildir. Borcların ödənilməsi üçün plan hazırlamaq və onları vaxtında ödəmək vacibdir.\n",
      "\n",
      "5. Sığorta etdirmək: Sağlamlıq, həyat və mülkiyyət sığortalarını etdirmək gözlənilməz hadisələrdən qorunmaq üçün vacibdir. Bu, sizin və ailə üzvlərinizin maliyyə təhlükəsizliyini təmin edəcək.\n",
      "\n",
      "6. Uzunmüddətli investisiyalara yönəlmək: Uzunmüddətli investisiyaların edilməsi gələcəkdə maliyyə təhlükəsizliyinizi artıracaq. Bu, pensiya yığımları və fərdi investisiyalar vasitəsilə reallaşa bilər.\n",
      "\n",
      "7. Maliyyə savadlılığını artırmaq: Maliyyə sahəsində biliklərini artırmaq və maliyyə qərarları vermək üçün daha çox məlumatlı olmaq vacibdir. Bu, maliyyə riski və təhlükəsizliyinizin idarə edilməsinə yardım edəcək.\n"
     ]
    },
    {
     "name": "stderr",
     "output_type": "stream",
     "text": [
      " 37%|███▋      | 37/100 [11:00<18:54, 18.02s/it]"
     ]
    },
    {
     "name": "stdout",
     "output_type": "stream",
     "text": [
      "Sağlam bir cəmiyyət qurmaq üçün aşağıdakı addımların atılması mühüm əhəmiyyət kəsb edir:\n",
      "\n",
      "1. Təhsil sisteminin yaxşılaşdırılması: Keyfiyyətli təhsil insanların dünyagörüşünün formalaşmasında və vətəndaş məsuliyyətinin artırılmasında mühüm rol oynayır. Təhsil sisteminin müasirləşdirilməsi, müəllimlərin peşəkarlığının yüksəldilməsi və təhsil infrastrukturunun inkişaf etdirilməsi zəruridir.\n",
      "\n",
      "2. Səhiyyə xidmətlərinin yaxşılaşdırılması: Vətəndaşların sağlamlığının qorunması üçün yüksək keyfiyyətli tibbi xidmətlər təmin edilməlidir. Müasir tibbi avadanlıqlarla təchiz edilmiş xəstəxanalar, tibb bacılarının və həkimlərin hazırlıq səviyyəsinin artırılması, dərman təminatının yaxşılaşdırılması və sağlam həyat tərzinə yönəlmiş proqramların həyata keçirilməsi vacibdir.\n",
      "\n",
      "3. İqtisadi inkişafın təmin edilməsi: Cəmiyyətin sağlamlığı üçün dayanıqlı iqtisadi inkişaf, iş yerlərinin yaradılması və vətəndaşların maddi rifahının yaxşılaşdırılması əsas amillərdəndir. Sahibkarlığın stimullaşdırılması, investisiya mühitinin yaxşılaşdırılması və sosial müdafiə sisteminin gücləndirilməsi gərəklidir.\n",
      "\n",
      "4. Mədəni-mənəvi dəyərlərin qorunması: Milli-mənəvi dəyərlərin, dini-etnik müxtəlifliyə hörmət və tolerantlığın təbliği cəmiyyətin sağlamlığının mühüm şərtidir. Mədəni-intellektual fəaliyyətin, incəsənətin və elm sahələrinin inkişafı üçün sistemli dəstək verilməsi vacibdir.\n",
      "\n",
      "5. Vətəndaş cəmiyyətinin gücləndirilməsi: Qanunun aliliyinə hörmət, vətəndaş məsuliyyəti və yüksək vətəndaşlıq təfəkkürünün formalaşdırılması üçün ictimai təşkilatların, kütləvi informasiya vasitələrinin, vətəndaş həmrəyliyinin və fəallığının artırılması mühüm şərtdir.\n",
      "\n",
      "Bu addımların kompleks şəkildə həyata keçirilməsi sağlam və dayanıqlı cəmiyyət modelinin formalaşdırılmasına xidmət edə bilər.\n"
     ]
    },
    {
     "name": "stderr",
     "output_type": "stream",
     "text": [
      " 38%|███▊      | 38/100 [11:19<18:43, 18.11s/it]"
     ]
    },
    {
     "name": "stdout",
     "output_type": "stream",
     "text": [
      "Müasir texnologiyaların təhsilə təsiri böyük və əhəmiyyətlidir. Texnologiya təhsil prosesini daha interaktiv, effektiv və cəlbedici edə bilir.\n",
      "\n",
      "Texnologiyanın təhsilə təsirləri aşağıdakılar kimi sadalana bilər:\n",
      "\n",
      "1. Tədris metodlarının dəyişməsi: Müasir texnologiyalar (interaktiv lövhələr, proyektorlar, virtual və artırılmış reallıq) tədris metodlarının dəyişməsinə səbəb olur. Dərs prosesi daha maraqlı və fəal iştirakçılıq tələb edən formata keçir.\n",
      "\n",
      "2. Təlim-tədris resurslarına çıxışın yaxşılaşması: Texnologiya sayəsində şagirdlər və tələbələr daha çox tədris məzmunu və resurslarına çıxış əldə edirlər. Onlayn kitabxanalar, mətn, videolar, audiolər və s. daha çox istifadə olunur.\n",
      "\n",
      "3. Distant və onlayn təhsilin inkişafı: COVID-19 pandemiyası ilə distant və onlayn təhsil daha geniş yayılmışdır. İnternet və digər telekommunikasiya texnologiyaları sayəsində müəllimlər və şagirdlər/tələbələr məsafədən əməkdaşlıq edə bilirlər.\n",
      "\n",
      "4. Fərdiləşdirilmiş təhsil: Müasir texnologiyalar şagird və tələbələrin fərdi tələbatlarına daha yaxşı cavab verməyə imkan verir. Adaptiv öyrənmə sistemləri, AI-əsaslı təlimat və digər həllər təhsili daha fərdi formata çevirə bilir.\n",
      "\n",
      "5. Şagirdlərin və tələbələrin motivasiyasının artması: Texnologiya ilə zəngin təhsil mühiti şagirdlərin və tələbələrin marağını, motivasiyasını və iştirakçılığını artırır.\n",
      "\n",
      "Nəticədə, müasir texnologiyaların təhsil sahəsində tətbiqi təhsilin keyfiyyətini, effektivliyini və cəlbediciliyini artırır. Ancaq həm müəllimlər, həm də şagirdlər/tələbələr bu texnologiyaların düzgün istifadəsini öyrənməlidirlər.\n"
     ]
    },
    {
     "name": "stderr",
     "output_type": "stream",
     "text": [
      " 39%|███▉      | 39/100 [11:36<18:15, 17.95s/it]"
     ]
    },
    {
     "name": "stdout",
     "output_type": "stream",
     "text": [
      "Müxtəlif mədəniyyətlərdə yaşamaq üçün bilinməsi vacib olan bəzi məsələlər aşağıdakılardır:\n",
      "\n",
      "Öz mədəniyyətinizi dərindən bilmək və başqalarının mədəniyyətinə hörmət etmək. Başqa mədəniyyətlərin adət-ənənələrini, inanc və dəyərlərini anlamağa çalışmaq vacibdir. Bu, birgəyaşayışın kökünü təşkil edən qarşılıqlı anlaşmanı gücləndirir.\n",
      "\n",
      "Səbir və tolerantlıq. Müxtəlif mədəniyyətlərin bir-birindən fərqliliklərini qəbul etmək, onları öyrənmək və hörmət etmək lazımdır. Başqalarının sizi anlamasını gözləmədən, siz də onları anlamağa çalışmalısınız.\n",
      "\n",
      "Fərqli dil və ünsiyyət bacarıqlarını öyrənmək. Bir-biri ilə ünsiyyət qurmaq üçün dil öyrənmək və ünsiyyət yollarını öyrənmək çox vacibdir.\n",
      "\n",
      "Mədəni stereotiplərdən uzaq durmaq. İnsanları yalnız mədəni mənsubiyyətlərinə görə yox, fərdi xüsusiyyətlərinə görə qiymətləndirmək lazımdır.\n",
      "\n",
      "Ümumi dəyərləri və maraqları tapmaq. Bütün insanlar üçün ümumi olan dəyər və maraqların axtarılması birgəyaşayışı asanlaşdırır.\n",
      "\n",
      "Açıq və empatik olmaq. Başqalarının mədəniyyətlərini öyrənmək, onlara diqqət yetirmək və onları anlamağa çalışmaq vacibdir.\n",
      "\n",
      "Nəticə olaray, müxtəlif mədəniyyətlərdə yaşamaq üçün başqalarını anlamaq, hörmət etmək, ünsiyyət qurma bacarıqlarını inkişaf etdirmək və stereotiplərdən uzaq durmaq çox vacibdir.\n"
     ]
    },
    {
     "name": "stderr",
     "output_type": "stream",
     "text": [
      " 40%|████      | 40/100 [11:54<17:50, 17.85s/it]"
     ]
    },
    {
     "name": "stdout",
     "output_type": "stream",
     "text": [
      "Təbiətlə vaxt keçirməyin sağlamlığa bir çox faydaları vardır:\n",
      "\n",
      "1. Stress və gərginliyin azalması. Təbiətdə olmaq, sakit və streslərə az məruz qalan bir mühit yaratdığı üçün beyni rahatladır. Bu da stres və gərginliyin azalmasına kömək edir.\n",
      "\n",
      "2. Bədən sağlamlığının yaxşılaşması. Təbiətdə gəzintilər və fiziki fəaliyyətlər insanın fiziki sağlamlığını artırır. Piyada gəzişmək, velosiped sürmək və başqa fiziki aktivliklər qaraciyər, ürək və öd kisəsi funksiyalarını yaxşılaşdırır.\n",
      "\n",
      "3. Müsbət emosiyaların artması. Təbiətdə olmaq insanın ruh halını yüksəldir, gülümsəməsini artırır və ümumi emosional rifahını yaxşılaşdırır. Bu da sağlamlıq üçün vacibdir.\n",
      "\n",
      "4. Diqqət və konsentriizasiya qabiliyyətinin artması. Təbiətdə olan insanlar daha yaxşı diqqət və konsentrizasiya nümayiş etdirirlər. Bu da onların həyatda daha effektiv olmasına kömək edir.\n",
      "\n",
      "5. Bağışlama və sosial əlaqələrin yaxşılaşması. Təbiətdə vaxt keçirmək insanları daha yaradıcı və empatik edir. Bu da onların başqalarını daha yaxşı başa düşməsinə və bağışlamasına kömək edir.\n",
      "\n",
      "Beləliklə, təbiətlə vaxt keçirmək insanın həm fiziki, həm də ruhi sağlamlığını yaxşılaşdırır. Bu isə onun həyat keyfiyyətini əhəmiyyətli dərəcədə artırır.\n"
     ]
    },
    {
     "name": "stderr",
     "output_type": "stream",
     "text": [
      " 41%|████      | 41/100 [12:10<17:02, 17.33s/it]"
     ]
    },
    {
     "name": "stdout",
     "output_type": "stream",
     "text": [
      "Yüksək performanslı komandalar yaratmaq üçün aşağıdakı addımları atmaq vacibdir:\n",
      "\n",
      "1. Uyğun insanları seçmək: Komanda üzvlərini seçərkən, işin tələblərinə uyğun bacarıqlara, təcrübəyə və motivasiyaya sahib olan insanlar seçilməlidir. Komandadakı hər bir üzvün öz rolunu və məsuliyyətini dərk etməsi və buna uyğun davranması çox vacibdir.\n",
      "\n",
      "2. Ümumi məqsəd və vəzifələr müəyyənləşdirmək: Komanda üzvlərinin ümumi məqsəd və vəzifələri aydın başa düşməsi və bunlara sadiq qalması vacibdir. Bu, komandanın işini istiqamətləndirərək, hər bir üzvün səylərinin bir-birinə uyğun gəlməsinə kömək edir.\n",
      "\n",
      "3. Uyğun kommunikasiya və əməkdaşlıq mühitini yaratmaq: Komanda üzvləri arasında açıq, qarşılıqlı hörmət və etimad əsaslı bir kommunikasiya mühiti olmalıdır. Həmçinin, qrup daxili əməkdaşlığı və bir-birinə dəstək olma ruhunu gücləndirmək üçün tədbirlər görülməlidir.\n",
      "\n",
      "4. Liderlik və koordinasiya: Güclü, inamcı və təşkilatçı liderlik komanda üzvlərinin səylərini koordinasiya edərək, onları ümumi məqsədə doğru yönəldir. Digər tərəfdən, hər bir üzvün öz işini effektiv şəkildə yerinə yetirməsi də vacibdir.\n",
      "\n",
      "5. Davamlı öyrənmə və inkişaf: Yüksək performanslı komandalar daim özlərini yeniləyir, təcrübələrindən dərs çıxarır və yeni bacarıqlar qazanırlar. Komanda üzvlərinin peşəkar və şəxsi inkişafı üçün müntəzəm olaraq təlim və inkişaf imkanları təmin olunmalıdır.\n",
      "\n",
      "Beləliklə, yüksək performanslı komandalar qurmaq üçün uyğun insanları seçmək, ümumi məqsəd və vəzifələr müəyyənləşdirmək, səmərəli kommunikasiya və əməkdaşlıq mühiti yaratmaq, güclü liderlik və koordinasiya təmin etmək, eləcə də davamlı öyrənmə və inkişafa nail olmaq vacibdir.\n"
     ]
    },
    {
     "name": "stderr",
     "output_type": "stream",
     "text": [
      " 42%|████▏     | 42/100 [12:28<16:56, 17.53s/it]"
     ]
    },
    {
     "name": "stdout",
     "output_type": "stream",
     "text": [
      "Vegan qidalanma – heç bir heyvan mənşəli məhsulların istifadə edilmədən bütün qidaların bitki mənşəli olduğu qidalanma üsuludur. Bu yanaşma həm etik, həm də ekoloji və səhiyyə baxımından bir sıra üstünlüklər təqdim edir.\n",
      "\n",
      "Vegan qidalanmanın əsas faydaları aşağıdakılardır:\n",
      "\n",
      "1. Heyvan hüquqlarının müdafiəsi - Vegan qidalanma heyvanların istismarına və onlara qarşı zorakılığa etiraz etməyə kömək edir.\n",
      "\n",
      "2. Ətraf mühitin qorunması - Heyvan təsərrüfatları ətraf mühitə mənfi təsir göstərir. Vegan qidalanma bu təsirləri azaldır və təbii ekosistemlərə daha az ziyan vurur.\n",
      "\n",
      "3. Sağlamlığın yaxşılaşdırılması - Bitki mənşəli qidalar, xüsusilə də meyvə, tərəvəz, tam dənli məhsullar, olduqca faydalı maddələrlə (vitaminlər, minerallar, antioksidantlar və s.) zəngindir. Bu da insan sağlamlığına müsbət təsir göstərir.\n",
      "\n",
      "4. Çəki idarəetməsi - Vegan qidalanma çəki idarəetməsi və piylənməni azaltmağa kömək edir.\n",
      "\n",
      "5. Xəstəliklərin qarşısının alınması - Vegan qidalanma bəzi xroniki xəstəliklər (ürək-damar xəstəlikləri, bəzi xərçəng növləri, diabeti və s.) riskini azalda bilir.\n",
      "\n",
      "6. Uzunömürlülüyün artması - Vegan qidalanma üsulunun uzunömürlülüyü artırdığı müşahidə olunur.\n",
      "\n",
      "Beləliklə, vegan qidalanma həm etik, həm də sağlamlıq və ekologiya baxımından vacib üstünlüklərə malikdir. Bu yanaşma sağlam həyat tərzinin formalaşması üçün əhəmiyyətli ola bilər.\n"
     ]
    },
    {
     "name": "stderr",
     "output_type": "stream",
     "text": [
      " 43%|████▎     | 43/100 [12:46<16:47, 17.68s/it]"
     ]
    },
    {
     "name": "stdout",
     "output_type": "stream",
     "text": [
      "Enerji qənaətli texnologiyalar müxtəlif sahələrdə tətbiq olunan və enerji istehlakını azaldan innovativ həllərdir. Bunlara aşağıdakıları aid etmək olar:\n",
      "\n",
      "1. LED işıqlandırma: LED texnologiyası klassik lampalarla müqayisədə 50-70% daha az enerji istehlak edir və uzun müddət xidmət müddətinə malikdir.\n",
      "\n",
      "2. Enerji səmərəli elektrik mühərrikləri: Yüksək enerji səmərəliliyinə malik elektrik mühərrikləri ənənəvi mühərriklərə nisbətən daha az elektrik enerjisi sərf edirlər.\n",
      "\n",
      "3. İstilik nasosları: Bu sistemlər ətraf mühitdən və ya binadan alınan istilik enerji mənbəyindən istifadə edərək binalara isti su və isitmə təmin edirlər. Bu, ənənəvi yanaşmalara nisbətən 2-3 dəfə daha səmərəli ola bilər.\n",
      "\n",
      "4. Günəş enerjisi texnologiyaları: Günəş panelləri və digər günəş enerjisi sistemləri bərpa olunan, ekoloji cəhətdən təmiz və dayanıqlı enerji mənbəyi təmin edirlər.\n",
      "\n",
      "5. Enerji səmərəli pəncərələr və divarlar: Yüksək izolyasiya qabiliyyətinə malik müasir pəncərələr və divarlar binaların enerji istehlakını əhəmiyyətli dərəcədə azalda bilər.\n",
      "\n",
      "6. Enerji idarəetmə sistemləri: Binalarda və obyektlərdə enerji istehlakını monitorinq edən və optimallaşdıran ağıllı idarəetmə sistemləri tətbiq olunur.\n",
      "\n",
      "7. Enerji səmərəli nəqliyyat texnologiyaları: Elektrikli və ya hibrid avtomobillər, enerji səmərəli dəmir yolu və aviasiya texnologiyaları enerji istehlakını azaldan nümunələrdir.\n",
      "\n",
      "Bu kimi enerji qənaətli texnologiyalar insan fəaliyyətinin müxtəlif sahələrində tətbiq edilərək, enerji istehlakını azaltmağa, ekoloji təmiz və dayanıqlı enerji mənbələrindən istifadəni təşviq etməyə imkan verir.\n"
     ]
    },
    {
     "name": "stderr",
     "output_type": "stream",
     "text": [
      " 44%|████▍     | 44/100 [13:04<16:39, 17.84s/it]"
     ]
    },
    {
     "name": "stdout",
     "output_type": "stream",
     "text": [
      "Karyera dəyişikliyi üçün ən yaxşı strategiyalar aşağıdakılar ola bilər:\n",
      "\n",
      "1. Özünüzü tanımaq və maraq dairənizi müəyyənləşdirmək: Güclü və zəif tərəflərinizi, iş sahələrinizə münasibətinizi dərindən təhlil etmək vacibdir. Bu, sizə yeni karyera istiqamətlərini müəyyənləşdirməkdə kömək edəcək.\n",
      "\n",
      "2. Hədəf karyera istiqamətlərini araşdırmaq: Maraq duyduğunuz sahələri dərindən araşdırın, o sektorlarda mövcud olan iş imkanlarını öyrənin. Hansı bacarıqlara və təcrübəyə ehtiyac duyulduğunu müəyyənləşdirin.\n",
      "\n",
      "3. Lazımi bacarıqları və təcrübəni əldə etmək: Hədəf iş sahələrinizə uyğun bacarıqları və səriştəni əldə etmək üçün təhsil, mütəxəssislik kursu və ya staj proqramlarına qoşulun. Könüllülük də faydalı ola bilər.\n",
      "\n",
      "4. Şəbəkələşmə və əlaqə qurmaq: Yeni iş sahəsində tanış və əlaqələr qurmağa çalışın. Bu, sizə müvafiq iş imkanlarından xəbərdar olmağa və yeni çıxış yolları tapmağa kömək edə bilər.\n",
      "\n",
      "5. İşaxtaran strategiyasını hazırlamaq: CV-nizi, müsahibə bacarıqlarınızı və digər təqdimat materiallarınızı yeni karyera hədəflərinizə uyğunlaşdırın. İş axtarışınızı fasiləsiz davam etdirin.\n",
      "\n",
      "6. Maliyyə planlaşdırması aparmaq: Karyera dəyişikliyi ilə əlaqədar xərcləri əvvəlcədən hesablayın. Yeni işinə başlayana qədər maliyyə perspektivinizi təmin etməyiniz vacibdir.\n",
      "\n",
      "7. Dəstək və motivasiya əldə etmək: Bu prosesdə ailə, dostlar və peşəkar məsləhətçilərdən dəstək almaq önəmlidir. Özünüzü motivasiya edərək, hədəflərinizə doğru inamla irəliləyin.\n",
      "\n",
      "Karyera dəyişikliyinin uğurla başa çatması üçün planlaşdırma, tədqiqat, hazırlıq və persistentlik vacibdir. Ən yaxşı seçim etmək üçün bütün variantları diqqətlə nəzərdən keçirin.\n"
     ]
    },
    {
     "name": "stderr",
     "output_type": "stream",
     "text": [
      " 45%|████▌     | 45/100 [13:23<16:33, 18.06s/it]"
     ]
    },
    {
     "name": "stdout",
     "output_type": "stream",
     "text": [
      "Qlobal mədəniyyətlər arasında dialoq qurmaq mühüm və vacib prosesdir. Bu dialoq mədəni müxtəlifliyi və qarşılıqlı anlaşmanı təşviq etməyə, stereotipləri və ziddiyyətləri aradan qaldırmağa, həmçinin mədəniyyətlərarası əməkdaşlığı və qarşılıqlı hörmət ruhunu gücləndiməyə xidmət edir.\n",
      "\n",
      "Qlobal mədəniyyətlər arasında dialoq aşağıdakı əsas prinsiplər əsasında qurulur:\n",
      "\n",
      "1. Qarşılıqlı hörmət və anlaşma: Digər mədəniyyətlərin dəyər və ənənələrinə hörmət etmək, onları anlamağa çalışmaq və fərqlilikləri qəbul etmək.\n",
      "\n",
      "2. Açıqlıq və şəffaflıq: İnsanlar və mədəniyyətlər arasında açıq və sərbəst kommunikasiya məkan yaratmaq, əməkdaşlığa maneələri aradan qaldırmaq.\n",
      "\n",
      "3. Mədəni müxtəlifliyin qorunması: Fərqli mədəniyyətlərin özünəməxsusluğunu qorumaq və dəstəkləmək.\n",
      "\n",
      "4. Qarşılıqlı öyrənmə və inkişaf: Mədəniyyətlər arasında qarşılıqlı təsir və öyrənmə prosesini təşviq etmək.\n",
      "\n",
      "5. Ayrı-seçkiliyin və streotiplərin aradan qaldırılması: Mədəni, irqi, dini və digər stereotipləri və ayrı-seçkiliyi rədd etmək.\n",
      "\n",
      "6. Sülh və əməkdaşlığın təşviqi: Mədəniyyətlər arasında dialoq və qarşılıqlı anlaşmanı genişləndirməklə, sülh və dayanıqlı inkişafı təmin etmək.\n",
      "\n",
      "Bütün bunlarla yanaşı, qlobal mədəniyyətlər arasında dialoq prosesində dövlət qurumları, beynəlxalq təşkilatlar, ictimai təşkilatlar, vətəndaş cəmiyyəti və digər maraqlı tərəflər fəal iştirak etməlidir. Bu dialoq mədəniyyətlər arasında qarşılıqlı anlaşma və əməkdaşlığın gücləndirilməsinə, eləcə də sülhün və davamlı inkişafın təmin olunmasına xidmət edir.\n"
     ]
    },
    {
     "name": "stderr",
     "output_type": "stream",
     "text": [
      " 46%|████▌     | 46/100 [13:41<16:09, 17.96s/it]"
     ]
    },
    {
     "name": "stdout",
     "output_type": "stream",
     "text": [
      "Sosial media marketinqi biznesə bir sıra müsbət təsirlər göstərə bilər:\n",
      "\n",
      "1. Məhsul və xidmətlərin tanıtımı. Sosial media platformaları şirkətlər üçün müştərilərə məhsul və xidmətlərini təqdim etmək üçün əlverişli bir vasitədir. Müxtəlif sosial media kanallarında paylaşılan məzmun, reklam və təşviq kampaniyaları məhsul haqqında məlumat yayır və potensial müştəriləri cəlb edir.\n",
      "\n",
      "2. Məşhurluq və nüfuzun artması. Sosial media şirkətlərə öz markalarını tanıtmaq və auditoriya ilə qarşılıqlı əlaqə qurmaq imkanı verir. Yüksək keyfiyyətli məzmun paylaşmaq və aktiv şəkildə iştirak etmək şirkətin nüfuzunu artırır.\n",
      "\n",
      "3. Müştəri münasibətlərinin gücləndirilməsi. Sosial media müştərilər və şirkətlər arasında açıq və kommunikativ əlaqələrin yaradılmasına kömək edir. Müştərilər ilə birbaşa ünsiyyət qurmaq, geri əlaqə almaq və onların ehtiyaclarını daha yaxşı anlamaq mümkündür.\n",
      "\n",
      "4. Rəqabət üstünlüyünün əldə olunması. Sosial media marketinqi düzgün tətbiq edilərsə, şirkətlər rəqibləri ilə müqayisədə üstünlük əldə edə bilər. Təkliflərinin və işlərinin daha geniş tanıtımını, məhsul və xidmətlər haqqında ətraflı məlumatların paylaşılmasını təmin edə bilər.\n",
      "\n",
      "5. Daha çox müştəri cəlb edilməsi. Sosial media kampaniyaları yeni müştərilərin cəlb edilməsinə kömək edə bilər. Aktiv şəkildə iştirak və yüksək keyfiyyətli məzmun paylaşmaq potensial müştərilərin diqqətini cəlb edə və onları konversiyaya aparıb çevirmək olar.\n",
      "\n",
      "Bütövlükdə, sosial media marketinqi biznesə əhəmiyyətli faydalar gətirə bilər və uğurlu müəssisələrin inkişafında mühüm rol oynaya bilər.\n"
     ]
    },
    {
     "name": "stderr",
     "output_type": "stream",
     "text": [
      " 47%|████▋     | 47/100 [13:58<15:45, 17.84s/it]"
     ]
    },
    {
     "name": "stdout",
     "output_type": "stream",
     "text": [
      "Yaradıcılığı artırmaq üçün bir neçə üsul var:\n",
      "\n",
      "1. Yeni nəsnələr kəşf etmək və təcrübələr aparmaq. Yaradıcı şəxslər adətən adi şeyləri fərqli şəkildə görürlər və onları yeni, maraqlı formada təqdim etməyə çalışırlar. Məsələn, bir heykəltəraş adi bir parça metalla fərqli bir heyvan heykəli yarada bilər.\n",
      "\n",
      "2. Təbii mühitdə vaxt keçirmək. Təbiətdə gəzinti, idman etmək və dincəlmək insanın düşüncələrini təzələyir və yeni fikirlər yaradır. Təbiət insana ilham verə bilir.\n",
      "\n",
      "3. Başqalarından öyrənmək. Başqalarının yaradıcı işlərini izləmək, onların üsullarını öyrənmək insana öz yaradıcı potensialını açmağa kömək edir. Müxtəlif mədəniyyətlərə, incəsənət formalarına baxmaq da yaradıcılığı artırır.\n",
      "\n",
      "4. Beynin istirahət etməsinə imkan vermək. Uzanmaq, meditasiya etmək, yaxud da yuxlamaq beyni yeniləyir və onu yeni fikirlər üçün hazırlayır. Yaradıcılıq üçün fiziki və psixoloji istirahət vacibdir.  \n",
      "\n",
      "5. Problemlər və maneələrə yaradıcı yanaşmaq. Çətinliklərlə üzləşdikdə ənənəvi həllərdən kənara çıxmaq və yeni yollar tapmaq yaradıcılıq potensialını artırır. Çətinliklər insanı daha yaradıcı düşünməyə sövq edə bilir.\n",
      "\n",
      "Ümumiyyətlə, yaradıcılığın artması üçün fərqli təcrübələr etmək, yeni informasiyalar əldə etmək, beynə istirahət vermək və maneələrə yaradıcı yanaşmaq vacibdir.\n"
     ]
    },
    {
     "name": "stderr",
     "output_type": "stream",
     "text": [
      " 48%|████▊     | 48/100 [14:15<15:08, 17.47s/it]"
     ]
    },
    {
     "name": "stdout",
     "output_type": "stream",
     "text": [
      "Uzunmüddətli məqsədlərə nail olmaq üçün aşağıdakı tövsiyələri nəzərə almaq vacibdir:\n",
      "\n",
      "1. Aydın və realistik məqsədlər müəyyənləşdirin. Qarşıya qoyduğunuz hədəflərin real və ölçülə bilən olduğuna əmin olun. Bu, onlara nail olmağa kömək edəcək.\n",
      "\n",
      "2. Məqsədlərə çatmaq üçün ətraflı plan hazırlayın. Bu planı, mərhələli addımlar, vaxt çərçivəsi və lazımi resurslar kimi elementləri əhatə etməlidir.\n",
      "\n",
      "3. Təşəbbüskarlıq və müntəzəm səy göstərin. Uzunmüddətli məqsədlərə nail olmaq üçün davamlı şəkildə çalışmaq və əzmlə irəliləmək vacibdir.\n",
      "\n",
      "4. Özünüzə rəğbət və həvəs yaradın. Əldə etdiyiniz kiçik uğurları qeyd edin və özünüzü təşviq edin. Bu, motivasiyanızı artırmağa kömək edəcək.\n",
      "\n",
      "5. Çətinliklərə hazır olun və onlarla baş etmək üçün strategiyalar hazırlayın. Qarşılaşdığınız maneələri və əngəlləri aşmaq üçün alternativ yollar axtarın.\n",
      "\n",
      "6. Öz inkişafınızı və irəliləyişinizi izləyin və qiymətləndirin. Tərəqqi etdiyiniz və ya yolunuzdan yayındığınız məqamları müəyyənləşdirin.\n",
      "\n",
      "7. Sosial dəstək qurun. Ailə üzvləri, dostlar və ya həmkarlarınızla münasibətlər quraraq onlardan dəstək alın.\n",
      "\n",
      "Bu tövsiyələri rəhbər tutaraq, uzunmüddətli məqsədlərinizə çatmaq üçün sistemli və məqsədyönlü şəkildə çalışa bilərsiniz. Hər addımı diqqətlə planlaşdıraraq və öz inkişafınızı izləyərək, uzun müddətli hədəflərinizə çata biləcəksiniz.\n"
     ]
    },
    {
     "name": "stderr",
     "output_type": "stream",
     "text": [
      " 49%|████▉     | 49/100 [14:33<15:00, 17.66s/it]"
     ]
    },
    {
     "name": "stdout",
     "output_type": "stream",
     "text": [
      "Elektron ticarətin gələcəyi çox vəd edicidir. Müasir texnologiyaların sürətli inkişafı və insanların alış-veriş alışqanlıqlarının dəyişməsi bu sahəyə yeni imkanlar açır.\n",
      "\n",
      "Əvvəlcə, e-ticarət artıq ənənəvi ticarətin əvəzinə gəlmir, əksinə, onu tamamlayır. Mobil tətbiqlər və sosial mediada ticarət artıq adi hal alıb. İnsanlar məhsulları seçib, onlar haqqında məlumat alıb, hətta ödəniş edə bilərlər, hətta heç fiziki mağazaya getmədən.\n",
      "\n",
      "İkincisi, süni intellekt və \"big data\" e-ticarəti daha personallıq və fərdiləşdirilmiş təkliflər verməyə imkan verir. Alıcılara daha uyğun məhsullar və xidmətlər təklif ediləcək.\n",
      "\n",
      "Üçüncüsü, elektron ticarət logistikanı və çatdırılmanı daha effektiv edir. İnsan və robot əməkdaşlığı, dronlar, avtomobil-özüidarəetmə texnologiyaları çatdırılma müddətlərini qısaldacaq.\n",
      "\n",
      "Nəhayət, blokçeyn və rəqəmsal valyutalar e-ticarətin təhlükəsizliyini və şəffaflığını artıracaq. Alıcılar və satıcılar arasındakı əməliyyatlar daha etibarlı olacaq.\n",
      "\n",
      "Beləliklə, texnoloji tərəqqi, istehlakçı davranışlarındakı dəyişikliklər və yeni biznes modelləri elektron ticarətin gələcəyini parlaq göstərir. E-ticarət bütün ənənəvi ticarət kanallarını əhatə edərək, onları daha effektiv, şəxsiləşdirilmiş və təhlükəsiz edəcək.\n"
     ]
    },
    {
     "name": "stderr",
     "output_type": "stream",
     "text": [
      " 50%|█████     | 50/100 [14:50<14:35, 17.52s/it]"
     ]
    },
    {
     "name": "stdout",
     "output_type": "stream",
     "text": [
      "Su istifadəsini optimallaşdırmaq üçün aşağıdakı addımları atmaq lazımdır:\n",
      "\n",
      "1. Suyun israfına yol verməmək. Qapağı açıq qalmış kranları bağlamaq, duş qəbul edərkən suyun dayanmadan axmasının qarşısını almaq, ləkləri yumaq üçün suyun lazımi qədər istifadə olunması və s. kimi davranışlar suyun israfına yol verməməyə kömək edir.\n",
      "\n",
      "2. Su qənaətli texnologiyalardan istifadə etmək. Yeni alınan elektrik cihazlarının, məsələn, qabyuyan maşınların, paltaryuyan maşınların, duş kranlarının su qənaətçi olmasına diqqət etmək vacibdir. Bu cür cihazların istifadəsi suyun səmərəli şəkildə istifadə olunmasını təmin edir.\n",
      "\n",
      "3. Damcılayan kranları təmir etdirmək. Damcılayan kranlar su israfına səbəb ola bilər və lazımi təmirlə bu problemin qarşısı alına bilər.\n",
      "\n",
      "4. Yağış suyu toplama sistemlərindən istifadə etmək. Yaşayış yerlərinə quraşdırılan yağış suyu toplama sistemləri həm suyun səmərəli istifadəsinə, həm də içməli suyun qənaətlə istifadə edilməsinə kömək edir.\n",
      "\n",
      "5. Su itkisinin qarşısını almaq. Boru kəmərlərindəki sızıntılar və digər təsirlər su itkisinə səbəb ola bilər. Təmir və baxışların vaxtında aparılması bu problemi həll etməyə kömək edir.\n",
      "\n",
      "6. Su qənaətçi həyat tərzi təbliğ etmək. Ailə üzvləri və digər insanlar arasında suyun qənaətlə istifadə olunmasına dair təşviqat aparmaq, su qənaətçi həyat tərzi təbliğ etmək də lazımdır.\n",
      "\n",
      "İnsan fəaliyyətləri nəticəsində səbəb olunan su itkisinin qarşısı bu addımların atılması ilə alına bilər və suyun səmərəli istifadəsi təmin edilə bilər.\n"
     ]
    },
    {
     "name": "stderr",
     "output_type": "stream",
     "text": [
      " 51%|█████     | 51/100 [15:08<14:28, 17.72s/it]"
     ]
    },
    {
     "name": "stdout",
     "output_type": "stream",
     "text": [
      "Dünyanın ən populyar musiqi janrları aşağıdakılardır:\n",
      "\n",
      "1. Pop musiqisi: Pop musiqisi, geniş kütlələr tərəfindən sevilən və yayılan ən populyar musiqi janrıdır. Bu janr, yüngül melodiyalar, ritmik akkordlar və dəyişən templərlə xarakterizə olunur. Pop musiqisi, dünyanın bir çox ölkəsində ən çox dinlənilən və satılan janrdır.\n",
      "\n",
      "2. Rock musiqisi: Rock musiqisi, həm klassik, həm də müasir formalarıyla populyarlıq qazanmış janrdır. Bu janr, güclü ritm, elektrifikə olunmuş gitaralar və vokal stilləri ilə diqqəti cəlb edir. Rock musiqisi, həm gənclər, həm də yaşlılar arasında geniş yayılmışdır.\n",
      "\n",
      "3. Hip-hop və rap: Hip-hop və rap, son illər xüsusilə populyarlıq qazanmış musiqi janrlarıdır. Bu janr, ritmik və ədəbi sözlər, sərt və güclü ritm ilə xarakterizə olunur. Hip-hop və rap, gənclər arasında xüsusilə sevilir.\n",
      "\n",
      "4. Country musiqisi: Country musiqisi, əsasən Şimal Amerikada populyar olan musiqi janrıdır. Bu janr, akustik gitara, banjo və vokal üslubları ilə xarakterizə olunur. Country musiqisi, həm kənd, həm də şəhər əhalisinə malikdir.\n",
      "\n",
      "5. Elektronik/Rəqs musiqisi: Elektronik/Rəqs musiqisi, sürətlə inkişaf edən və populyarlıq qazanan janrdır. Bu janr, sintezatorlar, ritm maşınları və yüksək tempdən istifadə edir. Elektronik/Rəqs musiqisi, xüsusilə gənc nəsil arasında sevilir.\n",
      "\n",
      "Beləliklə, bu janrlar dünyanın ən populyar musiqi növləri hesab edilir və geniş auditoriya tərəfindən dinlənilir.\n"
     ]
    },
    {
     "name": "stderr",
     "output_type": "stream",
     "text": [
      " 52%|█████▏    | 52/100 [15:25<13:53, 17.37s/it]"
     ]
    },
    {
     "name": "stdout",
     "output_type": "stream",
     "text": [
      "Yeni mədəniyyətləri öyrənməyin bir çox faydaları var. Bunlardan bəzilərini aşağıdakı kimi sıralamaq olar:\n",
      "\n",
      "1. Ünsiyyət bacarıqlarının inkişafı: Fərqli mədəniyyətlərin nümayəndələri ilə ünsiyyət qurmaq və onları anlamaq, insanın ünsiyyət bacarıqlarını gücləndirir. Bu, insanın başqaları ilə daha yaxşı əlaqə qurmağına və onların perspektivlərini daha yaxşı anlamasına kömək edir.\n",
      "\n",
      "2. Dünyagörüşünün genişlənməsi: Yeni mədəniyyətləri öyrənmək, insana dünyanın müxtəlif guşələrindəki həyat tərzləri, dəyərlər və inanclar haqqında daha dərindən məlumat verir. Bu, insanın dünyagörüşünün genişlənməsinə və daha tolerant və açıq fikirli olmasına təkan verir.\n",
      "\n",
      "3. Empatiyanın və mədəni həssaslığın artması: Fərqli mədəniyyətləri öyrənmək, insana başqalarının perspektivlərini daha yaxşı anlamağa kömək edir. Bu, empatiyanın və mədəni həssaslığın artmasına səbəb olur, insanların müxtəlif mədəniyyətlərin nümayəndələri ilə daha effektiv ünsiyyət qurmalarına imkan verir.\n",
      "\n",
      "4. Kreativliyin və problemlərin həllinin təşviqi: Yeni mədəniyyətlərin öyrənilməsi, insanlara təcrübələrin və fikirlərinin genişlənməsinə kömək edir. Bu, onların kreativ təfəkkürünün inkişafına və problemlərin daha effektiv həllinə töhfə verir.\n",
      "\n",
      "5. Karyera və peşə inkişafı: Mədəniyyətlərarası biliklər və bacarıqlar, müxtəlif tərəfdaşlar və bazarlarla effektiv işləməyə imkan verir. Bu, insanın karyera və peşə inkişafına müsbət təsir göstərir.\n",
      "\n",
      "Beləliklə, yeni mədəniyyətləri öyrənmək, insanın ünsiyyət, dünyagörüşü, empati, kreativlik və karyera inkişafı üçün vacib faydalar yaradır.\n"
     ]
    },
    {
     "name": "stderr",
     "output_type": "stream",
     "text": [
      " 53%|█████▎    | 53/100 [15:42<13:36, 17.37s/it]"
     ]
    },
    {
     "name": "stdout",
     "output_type": "stream",
     "text": [
      "Fərdi sağlamlığa ən böyük təhdid çox müxtəlif faktorlardan ibarətdir, ancaq ən əsas təhdidlər aşağıdakılardan ibarətdir:\n",
      "\n",
      "1. Sağlamsız həyat tərzi: Fiziki aktivliyin azlığı, yanlış qidalanma, stres, pis yuxu və siqaret, alkohol istifadəsi kimi zərərli vərdişlər fərdin sağlamlığına ciddi təhdid yaradır.\n",
      "\n",
      "2. Təhlükəli mühit: Hava, su və torpaq çirklənməsi, kimyəvi maddələr və digər ekoloji təhlükələr insan sağlamlığını riskə ata bilər.\n",
      "\n",
      "3. Yoluxucu xəstəliklər: COVID-19 pandemiyası kimi yoluxucu xəstəliklər bir çox insanın həyatına ciddi təhdid ola bilər.\n",
      "\n",
      "4. Qeyri-yoluxucu xəstəliklər: Ürək-damar, diabet, onkologiya və digər qeyri-yoluxucu xəstəliklər də fərdi sağlamlığa böyük təhlükə yaradır.\n",
      "\n",
      "5. Psixi pozuntular: Depressiya, stress, tərəddüd, yuxusuzluq və digər psixi pozuntular da insan sağlamlığına mənfi təsir göstərə bilər.\n",
      "\n",
      "6. Tibbi xidmətlərin çatışmazlığı: Bəzi bölgələrdə tibbi xidmətlərə çıxış imkanlarının məhdud olması fərdi sağlamlığı riskə ata bilər.\n",
      "\n",
      "Beləliklə, sağlamlığa ən böyük təhdidlər həm fiziki, həm də psixi sağlamlıq təhdidlərini özündə birləşdirir. Bu təhdidlərlə mübarizə üçün fərdi, ictimai və dövlət səviyyəsində kompleks tədbirlər görülməli və səmərəli preventiv yanaşmalar həyata keçirilməlidir.\n"
     ]
    },
    {
     "name": "stderr",
     "output_type": "stream",
     "text": [
      " 54%|█████▍    | 54/100 [16:00<13:17, 17.34s/it]"
     ]
    },
    {
     "name": "stdout",
     "output_type": "stream",
     "text": [
      "Qida israfını azaltmaq üçün aşağıdakı tədbirləri həyata keçirmək lazımdır:\n",
      "\n",
      "1. Planlaşdırma və alış-veriş siyahısı tərtib etmək. Bu, yalnız ehtiyac duyulan qidaları almağa kömək edir və aylıq xərcləri azaldır.\n",
      "\n",
      "2. Mətbəxdə israfın qarşısını almaq. Yeməklər üçün yalnız lazım olan miqdarda ərzaq hazırlamaq, qalıqları sonradan istifadə etmək və dondurucudan yararlanmaq vacibdir.\n",
      "\n",
      "3. Qida məhsullarının səmərəli saxlanılması. Məhsulların keyfiyyətini qorumaq üçün onları düzgün şərtlərdə saxlamaq lazımdır. Məsələn, meyvə və tərəvəzləri zibil torbalarında deyil, açıq qablarda saxlamaq daha yaxşıdır.\n",
      "\n",
      "4. Porsiya ölçülərini nəzərə almaq. Həddindən artıq böyük porsiyalar hazırlamaq qida israfına gətirib çıxara bilər. Buna görə də, porsiyanın ölçüsünü tənzimləmək vacibdir.\n",
      "\n",
      "5. Qida müəssisələri və restoranlarda yemək sifarişi zamanı diqqətli olmaq. Yalnız yeyə biləcəyiniz miqdarda sifariş vermək lazımdır.\n",
      "\n",
      "6. Qida tullantılarının ayrılması və emalı. Qida tullantılarının kompost kimi istifadəsi və ya heyvan yemi kimi realizə olunması qida israfını azaldır.\n",
      "\n",
      "7. İctimaiyyətin maarifləndirilməsi. Qida israfının təsirləri haqqında məlumatların paylaşılması, insanları daha məsuliyyətli davranmağa sövq edir.\n",
      "\n",
      "Qida israfını azaltmaq üçün fərdi və ictimai səylər vacibdir. Bu, həm iqtisadi, həm də ekoloji baxımdan əhəmiyyətli nəticələr verir.\n"
     ]
    },
    {
     "name": "stderr",
     "output_type": "stream",
     "text": [
      " 55%|█████▌    | 55/100 [16:17<12:59, 17.32s/it]"
     ]
    },
    {
     "name": "stdout",
     "output_type": "stream",
     "text": [
      "Gənclər arasında liderlik bacarıqlarının inkişaf etdirilməsi üçün bir sıra tədbirlər görülə bilər:\n",
      "\n",
      "1. Təhsil müəssisələrində liderlik proqramlarının təşkil edilməsi. Bu proqramlarda gənclərə komanda işi, qərar qəbuletmə, kommunikasiya və təşkilatçılıq bacarıqlarının aşılanması mühüm rol oynaya bilər.\n",
      "\n",
      "2. Gənclər üçün təcrübə proqramlarının təşkil edilməsi. Bu proqramlar vasitəsilə gənclər müxtəlif sahələrdə özlərini sınaya, öz potensiallarını üzə çıxara, liderlik keyfiyyətlərini inkişaf etdirə bilərlər.\n",
      "\n",
      "3. Gənclərin ictimai fəaliyyətə cəlb edilməsi. Yerli və regional idarəçiliyə, könüllü təşkilatlara, gənclər təşkilatlarına qoşulma gənclərə liderlik bacarıqlarını formalaşdırmağa kömək edə bilər.\n",
      "\n",
      "4. Rolmodel liderlərlə görüşlərin, təlimllərin təşkil edilməsi. Uğurlu liderlər gənclər üçün əsl örnək ola, onların liderlik keyfiyyətlərinin inkişafına kömək edə bilərlər.\n",
      "\n",
      "5. Gənclərə mənalı layihələr təklif etmək. Bu layihələr onlara ünsiyyət, koordinasiya, qərar qəbuletmə bacarıqlarını aşılaya və liderlik keyfiyyətlərini inkişaf etdirə bilər.\n",
      "\n",
      "6. Gənclərin özfəaliyyət, özünüidarəetmə bacarıqlarının gücləndirilməsi. Bu, onlarda liderlik ruhunun və keyfiyyətlərinin formalaşmasına kömək edə bilər.\n",
      "\n",
      "Yuxarıda sadalanan tədbirlər gənclər arasında liderlik bacarıqlarının inkişaf etdirilməsində əhəmiyyətli rol oynaya bilər. Gənclər müasir cəmiyyətin aparıcı qüvvəsidir, onların liderlik keyfiyyətlərinin gücləndirilməsi isə gələcəyin uğurlu liderləri yetişdirməyə xidmət edə bilər.\n"
     ]
    },
    {
     "name": "stderr",
     "output_type": "stream",
     "text": [
      " 56%|█████▌    | 56/100 [16:34<12:40, 17.28s/it]"
     ]
    },
    {
     "name": "stdout",
     "output_type": "stream",
     "text": [
      "Sosial şəbəkələrdə təhlükəsizliyi təmin etməyin bir neçə əsas yolu var:\n",
      "\n",
      "1. Şəxsi məlumatların qorunması. İstifadəçilər şəxsi məlumatlarını, o cümlədən ad-soyadını, ünvanını, telefon nömrəsini və s. paylaşarkən diqqətli olmalıdırlar. Bu məlumatlar yalnız etibar edilən insanlarla bölüşülməlidir.\n",
      "\n",
      "2. Güclü şifrələrin yaradılması. Sosial şəbəkə hesablarına daxil olmaq üçün rəqəmlərdən, hərflərdən və xüsusi simvollardan ibarət uzun və mürəkkəb şifrələr istifadə edilməlidir. Şifrələr nizamlı olaraq dəyişdirilməlidir.\n",
      "\n",
      "3. İki mərhələli doğrulama. Bu funksiya hesabın daha təhlükəsiz olmasını təmin edir. Hər daxil olmada əlavə bir kod istənilir ki, bu kod istifadəçinin mobil telefonuna göndərilir.\n",
      "\n",
      "4. Şəxsi məzmunun paylaşılmasında diqqətli olmaq. İstifadəçilər şəxsi və həssas məlumatları, o cümlədən fotoşəkilləri, videolar və ya mətnləri yalnız etibar edilən insanlarla paylaşmalıdırlar.\n",
      "\n",
      "5. Anonimliyin qorunması. İstifadəçilər şəxsi məlumatlarını heç vaxt paylaşmamalıdırlar və anonim qalmağa çalışmalıdırlar.\n",
      "\n",
      "6. Sosial mühəndislik hücumlarından qaçmaq. İstifadəçilər naməlum şəxslərdən gələn şübhəli mesajlara və keçidlərə fikir verməlidirlər.\n",
      "\n",
      "7. Antivirus və təhlükəsizlik proqramlarının quraşdırılması. Bu proqramlar istifadəçinin kompüterini və mobil cihazlarını zərərli proqramlardan qoruyur.\n",
      "\n",
      "Nəticə olaraq, sosial şəbəkələrdə təhlükəsizliyi təmin etmək üçün istifadəçilər şəxsi məlumatlarını qorumalı, etibarlı şifrələr istifadə etməli, iki mərhələli doğrulamanı aktiv etməli və şübhəli fəaliyyətlərdən uzaq durmalıdırlar.\n"
     ]
    },
    {
     "name": "stderr",
     "output_type": "stream",
     "text": [
      " 57%|█████▋    | 57/100 [16:53<12:44, 17.79s/it]"
     ]
    },
    {
     "name": "stdout",
     "output_type": "stream",
     "text": [
      "Məktəblərdə sağlam qidalanma təşviqinin əhəmiyyəti böyükdür. Bu, uşaqların sağlam böyüyüb inkişaf etməsi üçün çox vacibdir.\n",
      "\n",
      "Əvvəla, sağlam qidalanma uşaqların fiziki və psixoloji inkişafına müsbət təsir göstərir. Düzgün və tam dəyərli qidalar uşaqların böyümə və inkişafını sürətləndirir, onların sağlamlığını yaxşılaşdırır. Bu da uşaqların təhsil prosesində daha yaxşı nəticələr əldə etmələrinə kömək edir.\n",
      "\n",
      "İkincisi, məktəblərdə aparılan sağlam qidalanma təşviqi uşaqlarda sağlam həyat tərzinin formalaşmasına səbəb olur. Burada yalnız qidalanma deyil, həm də fiziki aktivlik, su içmə və s. kimi sağlam vərdişlər aşılanır. Bu, uşaqların məktəb dövründə və gələcəkdə də sağlam həyat tərzini qoruyub saxlamasına kömək edir.\n",
      "\n",
      "Üçüncüsü, sağlam qidalanma təşviqi valideynlərin də diqqətini bu məsələyə cəlb edir. Valideynlər uşaqların sağlam qida seçiminə və sağlam həyat tərzinə daha çox önəm verməyə başlayırlar. Bu, ailədə sağlam mühitin yaradılmasına töhfə verir.\n",
      "\n",
      "Nəticə olaraq, məktəblərdə sağlam qidalanma təşviqinin əhəmiyyəti böyükdür. Bu, uşaqların sağlam böyüyüb inkişaf etməsinə, sağlam həyat tərzinin formalaşmasına və ailədə sağlam mühitin yaradılmasına töhfə verir.\n"
     ]
    },
    {
     "name": "stderr",
     "output_type": "stream",
     "text": [
      " 58%|█████▊    | 58/100 [17:10<12:12, 17.44s/it]"
     ]
    },
    {
     "name": "stdout",
     "output_type": "stream",
     "text": [
      "Dünya səyahəti planlaşdırarkən aşağıdakı nəzərə alınması vacib olan məsələlərə diqqət etmək lazımdır:\n",
      "\n",
      "1. Maliyyə planlaşdırması: Səyahətin xərclərini, o cümlədən aviabiletlər, mehmanxana qalışları, nəqliyyat, yemək və digər xərcləri düzgün hesablamaq vacibdir. Gözlənilməz xərcləri də nəzərə almaq lazımdır.\n",
      "\n",
      "2. Viza və sənədləşmə: Ziyarət ediləcək ölkələrdə viza tələbləri, pasport, sığorta və digər sənədlərin tələblərini əvvəlcədən yoxlamaq lazımdır.\n",
      "\n",
      "3. Marşrut planlaşdırması: Hansı ölkələrə səyahət ediləcəyini, nə qədər vaxt ayrılacağını, hava limanları və nəqliyyat növlərini düşünmək lazımdır. Marşrutu mümkün qədər efektiv planlaşdırmaq vacibdir.\n",
      "\n",
      "4. Təhlükəsizlik məsələləri: Səyahət ediləcək ölkələrdəki təhlükəsizlik vəziyyəti, xəstəlik riskiləri və digər təhlükələr barədə məlumat toplamaq lazımdır. Təcili yardım və təhlükəsizlik tədbirləri ilə bağlı planlar hazırlamaq vacibdir.\n",
      "\n",
      "5. Yerləşdirmə: Mehmanxana və digər yerləşdirmə variantlarını araşdırmaq, qiymətləri və şəraiti müqayisə etmək lazımdır.\n",
      "\n",
      "6. Gəzinti və tədbirlərin planlaşdırılması: Ziyarət ediləcək ölkələrdəki əsas turist cəlbedici məkanları, festivallar, mədəni tədbirlər və s. araşdırıb planlaşdırmaq vacibdir.\n",
      "\n",
      "7. Kommunikasiya və rəqəmsal hazırlıq: Səyahət zamanı kommunikasiya, internet və digər texnoloji vasitələrdən istifadə imkanlarını yoxlamaq lazımdır.\n",
      "\n",
      "Dünya səyahətini planlaşdırarkən bu məsələlərə diqqət etmək uğurlu və təhlükəsiz səyahətin təmin olunmasında mühüm rol oynayır.\n"
     ]
    },
    {
     "name": "stderr",
     "output_type": "stream",
     "text": [
      " 59%|█████▉    | 59/100 [17:27<11:55, 17.45s/it]"
     ]
    },
    {
     "name": "stdout",
     "output_type": "stream",
     "text": [
      "İşgüzar danışıqlarda uğur qazanmaq üçün aşağıdakı əsas qaydalar nəzərə alınmalıdır:\n",
      "\n",
      "1. Hazırlıq: Danışıqlara daxil olmamışdan əvvəl, məsələ ilə bağlı bütün məlumatları ətraflı öyrənin. Müzakirə ediləcək mövzulara dair dərin biliyə sahib olun. Müxtəlif ssenariləri nəzərdən keçirin və mümkün cavablara hazır olun.\n",
      "\n",
      "2. Dinləmə bacarığı: Təqdim olunan fikirləri diqqətlə dinləyin. Danışıq tərəfinizin məqsədlərini, maraqlarını və motivlərini anlamağa çalışın. Onların nöqteyi-nəzərini başa düşün, fikir və təkliflərini qiymətləndirin.\n",
      "\n",
      "3. Empatiya: Müzakirə etdiyiniz tərəfin mövqeyini və perspektivini başa düşməyə çalışın. Onun görüşünü qəbul etməsəniz də, onu anlayın və hörməti əks etdirən dil və davranış nümayiş etdirin.\n",
      "\n",
      "4. Anlaşılan kommunikasiya: Sadə, aydın və səmimi bir dil istifadə edin. Mürəkkəb terminologiya və jargondan çəkinin. Tərəfinizin başa düşdüyü dildə danışın.\n",
      "\n",
      "5. Kompromis və əməkdaşlıq: Hər iki tərəfin maraqlarını nəzərə alın. Win-win həllər tapmağa çalışın. Müzakirələr zamanı qarşılıqlı güzəştlərə hazır olun.\n",
      "\n",
      "6. Sabitlik və uyğunlaşma: Emosional nəzarətini itirməyin. Məqsədə çatmaq üçün çevik və adaptiv olun. Qərarlarınızı dəyişməkdən çəkinməyin.\n",
      "\n",
      "7. Vaxtın idarə edilməsi: Danışıqların vaxtını diqqətlə planlaşdırın və idarə edin. Hər mərhələ üçün müəyyən edilmiş vaxt çərçivələrinə riayət edin.\n",
      "\n",
      "Bu prinsiplər işgüzar danışıqlarda uğurlu nəticələr əldə etmək üçün vacibdir. Təcrübə və özünəinam ilə yanaşı, qeyd edilən qaydaların tətbiqi sizə böyük üstünlük verəcək.\n"
     ]
    },
    {
     "name": "stderr",
     "output_type": "stream",
     "text": [
      " 60%|██████    | 60/100 [17:46<11:55, 17.88s/it]"
     ]
    },
    {
     "name": "stdout",
     "output_type": "stream",
     "text": [
      "Stress idarə etmək üçün ən effektiv texnikalar aşağıdakılardan ibarətdir:\n",
      "\n",
      "1. Fiziki aktivlik. Günlük fiziki aktivlik, məsələn, gəzmək, idman etmək və ya yoga məşqləri etmək stress səviyyəsini azalda bilər. Bu, bədəndə endorfin istehsalını artırır və qana daha çox oksigen daxil olmasına kömək edir.\n",
      "\n",
      "2. Nəfəs alma təmrinləri. Dərin, yavaş nəfəs almaq sinir sistemini sakitləşdirir və stress səviyyəsini azaldır. Məsələn, üç saniyə ərzində dərin nəfəs almaq, beş saniyə saxlamaq və yeddi saniyədə buraxmaq təsirli ola bilər.\n",
      "\n",
      "3. Məditasiya və yoqa. Bu praktikalar diqqəti daxili əməllərə və bədənin hisslərinə yönəldir, beyin fəallığını azaldır və sakitləşməyə kömək edir.\n",
      "\n",
      "4. Vaxt idarəetməsi. İşləri planlaşdırın, prioritetləri müəyyənləşdirin və işləri vaxtında təslim edin. Bu, stress səviyyəsini azalda bilər.\n",
      "\n",
      "5. Sosial əlaqələr. Ailə və dostlarla vaxt keçirmək, sağlam münasibətlər qurmaq stress azaldıcı təsirə malik ola bilər.\n",
      "\n",
      "6. Hobbilərlə məşğul olmaq. Yaradıcılıq fəaliyyətləri, məsələn, rəsm, musiqili və ya bağçılıq kimi hobbilərlə məşğul olmaq stresdən azad ola bilər.\n",
      "\n",
      "7. Yuxu və istirahət. Kifayət qədər yuxu və istirahət almaq, stresin azaldılmasında mühüm rol oynaya bilər.\n",
      "\n",
      "Bu texnikalar arasından hər kəs özünə ən uyğun olanı seçərək tətbiq etməlidir. Stress səviyyəsini aşağı salmaq üçün bu üsullardan birini və ya bir neçəsini sistemli şəkildə istifadə etmək mühüm əhəmiyyət kəsb edir.\n"
     ]
    },
    {
     "name": "stderr",
     "output_type": "stream",
     "text": [
      " 61%|██████    | 61/100 [18:04<11:42, 18.01s/it]"
     ]
    },
    {
     "name": "stdout",
     "output_type": "stream",
     "text": [
      "Müasir şəhərləşmənin ekoloji problemlərə təsiri ciddi problemlərdir və bunlar aşağıdakılardan ibarətdir:\n",
      "\n",
      "1. Hava çirklənməsi: Şəhərlərdə artan sənaye, nəqliyyat və urbanizasiya səbəbindən hava çirklənməsi çox böyük problemə çevrilir. Bu, insanların sağlamlığına və ətraf mühitə mənfi təsir göstərir.\n",
      "\n",
      "2. Su çirklənməsi: Sənaye və məişət tullantılarının sularımıza atılması, ərazilərə lazımi təmizləmə sistemlərinin olmaması, kənd təsərrüfatından axan pestisidlər su çirklənməsinə səbəb olur.\n",
      "\n",
      "3. Torpaq çirklənməsi: Şəhərlərdə artan tikinti, qeyri-düzgün zibil atma, sənaye tullantılarının torpağa axıdılması torpaq eroziyasına və qeyri-münbit şəraitə gətirib çıxarır.\n",
      "\n",
      "4. Tullantı problemi: Şəhərəhalisinin artması və istehlak həcminin yüksəlməsi nəticəsində tullantı problemi kəskinləşir. Tullantıların düzgün idarə olunmaması ekoloji məsələləri daha da ağırlaşdırır.\n",
      "\n",
      "5. Enerji tükənməsi: Şəhərlərin artan enerji tələbatı qlobal enerji böhranına gətirib çıxarır. Bu, müxtəlif davamlı enerji mənbələrindən istifadə edilməsini vacib edir.\n",
      "\n",
      "6. İqlim dəyişikliyi: Şəhərləşmə və sənayenin inkişafı, qlobal istilənmə və iqlim dəyişikliklərini sürətləndirir. Bu, fəlakətli nəticələrə gətirib çıxarır.\n",
      "\n",
      "Beləliklə, müasir şəhərləşmə prinsiplərinə əməl edilməməsi və uzunmüddətli ətraf mühit planlamasına diqqət yetirilməməsi ekoloji böhrana gətirib çıxarır. Şəhərlərin dayanıqlı inkişaf etdirilməsi və ətraf mühitin qorunması vacibdir.\n"
     ]
    },
    {
     "name": "stderr",
     "output_type": "stream",
     "text": [
      " 62%|██████▏   | 62/100 [18:22<11:19, 17.88s/it]"
     ]
    },
    {
     "name": "stdout",
     "output_type": "stream",
     "text": [
      "Kompüter viruslarından qorunmaq üçün aşağıdakı tədbirləri həyata keçirmək tövsiyə olunur:\n",
      "\n",
      "1. Antivirus proqramlarından istifadə etmək: Etibarlı və yaxşı nüfuz qazanmış antivirus proqramlarını yükləmək və proaktiv şəkildə istifadə etmək kompüter viruslarından qorunmaq üçün ən effektiv yollardan biridir. Bu proqramlar kompüterdəki faylları daimi olaraq yoxlayaraq virusları aşkarlayır və onları təmizləyir.\n",
      "\n",
      "2. Proqramları və əməliyyat sistemini aktual saxlamaq: Əməliyyat sistemini və digər proqramları daima ən son versiyaya yeniləmək vacibdir. Bu, yeni çıxan təhlükəsizlik yeniləmələrini almağa və potensial zəiflikləri aradan qaldırmağa imkan verir.\n",
      "\n",
      "3. E-poçt və internet istifadəsində ehtiyatlı olmaq: Tanımadığınız şəxslərdən gələn bağlantıları və e-poçtları açmamaq, şübhəli saytlara daxil olmamaq və yüklənən faylları diqqətlə yoxlamaq lazımdır. Bu, virusların kompüterə daxil olmasının qarşısını ala bilər.\n",
      "\n",
      "4. Məlumatları ehtiyatla saxlamaq: Mühüm məlumatlar daima ehtiyat nüsxələrinin saxlanması vacibdir. Bu, zərərli proqramlar tərəfindən məlumatların silinməsi və ya zərər verilməsi hallarında bərpa edilməsinə imkan verir.\n",
      "\n",
      "5. Sosial mühəndislik hücumlarından ehtiyatlı olmaq: Sosial mühəndislik hücumları insanları manipulyasiya etməklə məlumatları oğurlamaq və ya zərərli proqramları yükləmək üçün istifadə olunur. Belə hücumların qarşısını almaq üçün diqqətli olmaq və şübhəli sorğulara cavab verməmək vacibdir.\n",
      "\n",
      "Kompüter viruslarından qorunmaq üçün bu tədbirlərə əməl etmək, insan və texnologiya tərəfindən edilən hücumların qarşısını almağa kömək edəcəkdir.\n"
     ]
    },
    {
     "name": "stderr",
     "output_type": "stream",
     "text": [
      " 63%|██████▎   | 63/100 [18:40<11:03, 17.93s/it]"
     ]
    },
    {
     "name": "stdout",
     "output_type": "stream",
     "text": [
      "Uzun müddətli motivasiyanı qorumaq üçün bir neçə vasitə mövcuddur:\n",
      "\n",
      "1. Hədəfləri dəqiq müəyyənləşdirmək: Realist və ölçüləbilən hədəflər müəyyənləşdirmək motivasiyanın saxlanılmasına kömək edir. Bu, sizə hər addımda növbəti mərhələni göstərəcək və irəliləməyinizə kömək edəcək.\n",
      "\n",
      "2. Kiçik addımlarla hərəkət etmək: Böyük hədəflərə çatmaq üçün kiçik və davamlı addımlar atmaq motivasiyanın qorunması üçün daha təsirli ola bilər. Böyük hədəflər tez-tez yorulmağa və məyus olmağa səbəb ola bilər.\n",
      "\n",
      "3. Həvəsləndirmələrdən istifadə etmək: Məqsədə çatdıqda özünüzü müəyyən müddət ərzində mükafatlandırın. Bu, sonrakı mərhələlərə keçmək üçün daha güclü motivasiya yaradacaq.\n",
      "\n",
      "4. İçəridən gələn motivasiyanı inkişaf etdirmək: Xarici mükafatlar və həvəsləndirmələr motivasiyaya təsir edə bilər, lakin daxili və uzunmüddətli motivasiya daha dayanıqlı ola bilər. Özünüzü məqsədlərinizə nail olmağa həqiqətən inanmağa və həmin məqsədləri həyata keçirməyi həqiqətən istəməyə sövq etməkdə çalışın.\n",
      "\n",
      "5. Maneələri həll etmək üçün planlar hazırlamaq: İrəliləməyə mane ola biləcək maneələri öncədən müəyyənləşdirmək və onları həll etməyin yollarını tapmaq motivasiyanı qorumağa kömək edər.\n",
      "\n",
      "6. Özünüzə və hədəflərinizə sadiq qalmaq: Uzun müddət ərzində motivasiyamızın qorunmasının açarı, bütün çətinliklərin üstündən gələrək, özümüzə və hədəflərimizə sadiq qalmaqdır.\n"
     ]
    },
    {
     "name": "stderr",
     "output_type": "stream",
     "text": [
      " 64%|██████▍   | 64/100 [18:57<10:38, 17.73s/it]"
     ]
    },
    {
     "name": "stdout",
     "output_type": "stream",
     "text": [
      "Daxili dizaynda ən yeni trendlər aşağıdakılardan ibarətdir:\n",
      "\n",
      "1. Davamlılıq və ekoloji-doğma dizayn: İnsanlar artıq daha təbii və davamlı materiallardan istifadə etməyə üstünlük verirlər. Bu baxımdan, taxta, daş və kərpic kimi materiallar daha populyar olur. Həmçinin, bərpa olunan və təkrar emal edilə bilən materialların istifadəsi də artır.\n",
      "\n",
      "2. Açıq, işıqlı və minimal dizayn: Geniş pəncərələr, yüksək tavanlar və açıq plan dizaynlar daha çox tələb olunur. Bu yanaşma daxili məkanları daha işıqlı və geniş göstərir. Eyni zamanda, cüzi və daha minimalist bir üslub da populyarlaşır.\n",
      "\n",
      "3. Çoxfunksiyalı və çevik məkanlar: İnsanlar artıq həm iş, həm də istirahət üçün universal məkanlar istəyirlər. Bu baxımdan, çoxfunksiyalı mebel və rahat köşələr daha çox tələb olunur.\n",
      "\n",
      "4. Texnologiya və ağıllı ev sistemləri: Smart home sistemləri, yüksək texnologiyalı məişət texnikası və rəqəmsal məkan idarəetməsi daxili dizaynda getdikcə daha çox yer alır.\n",
      "\n",
      "5. Təbii rənglər və bitkilər: Bitki kompozisiyaları, ağac və taxta elementləri daxili məkanlara daha çox daxil edilir. Bu yanaşma ilə daxili məkanlar daha sağlam və rahat görsənir.\n",
      "\n",
      "6. Fərdi və həyat tərzini əks etdirən dizaynlar: İnsanlar özlərini daha yaxşı ifadə edə biləcəkləri, fərdi və unikal dizayn həllərinə üstünlük verirlər. Bu, daxili məkanların daha özəl və əyləncəli görünməsini təmin edir.\n",
      "\n",
      "Ümumiyyətlə, daxili dizayndakı ən yeni trendlər daha davamlı, texnoloji, açıq və fərdi bir yanaşmanı nəzərdə tutur. Bu trendlər evləri və ofisləri daha rahatlıq, ekoloji və müasir göstərməyə yönəlir.\n"
     ]
    },
    {
     "name": "stderr",
     "output_type": "stream",
     "text": [
      " 65%|██████▌   | 65/100 [19:16<10:29, 17.97s/it]"
     ]
    },
    {
     "name": "stdout",
     "output_type": "stream",
     "text": [
      "Uşaqlarda məsuliyyət hissini inkişaf etdirmək üçün aşağıdakı təklifləri nəzərə almaq olar:\n",
      "\n",
      "1. Nümunə göstərmək. Valideynlər və digər böyüklər uşaqlar üçün yaxşı nümunə olmalıdır. Onlar məsuliyyətli davranışlar nümayiş etdirməli, öhdəliklərini yerinə yetirməli və öz fəaliyyətlərinə cavab verməlidirlər.\n",
      "\n",
      "2. Öhdəliklər və vəzifələr vermək. Uşaqlara uyğun yaş və inkişaf səviyyələrinə uyğun olaraq onlara ev işləri, öz təmirinə aid məsuliyyətlər və s. kimi öhdəliklər və vəzifələr vermək onların məsuliyyət hissini inkişaf etdirər.\n",
      "\n",
      "3. Nəticələr və müsbət təqdirlər. Uşaqların məsuliyyətli davranışları qiymətləndirilməli və onlar təriflərlə və müsbət münasibətlərlə mükafatlandırılmalıdırlar. Bu, onların davranışlarını möhkəmləndirər.\n",
      "\n",
      "4. Seçim azadlığı vermək. Uşaqlara müəyyən məsələlər və fəaliyyətlər barədə seçim etmək azadlığı verməklə onların məsuliyyət hisslərini inkişaf etdirmək olar. Bu, onların müstəqillik, özünəinam və məsuliyyət hisslərini artırar.\n",
      "\n",
      "5. Həyatı bacarıqlar öyrətmək. Məsuliyyətli insan olmağın vacib həyat bacarıqlarını, məsələn, vaxt idarəetmə, pul idarəetmə, özünüidarəetmə kimi bacarıqları uşaqlara öyrətmək onların məsuliyyət hissinin inkişafına kömək edər.\n",
      "\n",
      "Məsuliyyət hissini inkişaf etdirmək davamlı prosesdir və uşaqların yaş və inkişaf səviyyəsinə uyğun yanaşma tələb edir. Valideynlərin və böyüklərin nümunəsi, dəstəyi və təlimi bu inkişafda mühüm rol oynayır.\n"
     ]
    },
    {
     "name": "stderr",
     "output_type": "stream",
     "text": [
      " 66%|██████▌   | 66/100 [19:33<10:03, 17.76s/it]"
     ]
    },
    {
     "name": "stdout",
     "output_type": "stream",
     "text": [
      "Fiziki aktivlik olmadan sağlamlığı qorumaq üçün aşağıdakı tövsiyələri nəzərə almaq vacibdir:\n",
      "\n",
      "1. Düzgün qidalanma: Sağlam və tarazlı bir diyet saxlamaq ən vacib amillərdən biridir. Bütün qida qruplarından (meyvə, tərəvəz, zülal, karbohidrat və yağlar) yetərli miqdarda qəbul etmək lazımdır. Qəbul edilən kalorilər yandırılan kalorilərə uyğun olmalıdır. \n",
      "\n",
      "2. Stressə nəzarət: Stress sağlamlığa mənfi təsir göstərə bilər. Bunun üçün yuxu rejimini, məşğulluq və istirahət balansını düzgün qurmaq, meditatiya, yoqa və s. kimi praktikalardan istifadə etmək faydalıdır.\n",
      "\n",
      "3. Gigiyena və sanitariya: Gündəlik gigiyena, qarışıqlıqlardan uzaq olmaq, çirklənmədən qaçınmaq, ətraf mühiti təmiz saxlamaq vacibdir.\n",
      "\n",
      "4. Sağlam məişət: Zərərli vərdişlərdən (siqaret, alkoqol və s.) uzaq olmaq, adekvat su içmək, hərəkətli həyat tərzi qurmaq sağlamlıq üçün önəmlidir.\n",
      "\n",
      "5. Mütəmadi tibbi müayinələr: Profilaktik müayinələrdən keçmək, xəstəliklərin erkən aşkar edilməsi və vaxtında müalicə edilməsi vacibdir.\n",
      "\n",
      "6. Sosial həyat: Sosial əlaqələr saxlamaq, aktivliyini qorumaq psixi sağlamlığı yaxşılaşdırır.\n",
      "\n",
      "Qeyd edilən faktorlar fiziki aktivlikdən uzaq olan insanların sağlamlığını mühafizə etməyə kömək edə bilər. Lakin fiziki aktivlik sağlamlığın qorunmasında əvəzsizdir və mümkün olduqca fiziki aktivlik etmək tövsiyə olunur.\n"
     ]
    },
    {
     "name": "stderr",
     "output_type": "stream",
     "text": [
      " 67%|██████▋   | 67/100 [19:50<09:42, 17.65s/it]"
     ]
    },
    {
     "name": "stdout",
     "output_type": "stream",
     "text": [
      "Dünya ədəbiyyatında ən təsirli əsərlər çox çeşidli və müxtəlif janrlarda olsa da, bir neçə əsər xüsusilə diqqəti cəlb edir:\n",
      "\n",
      "1. \"Don Kixot\" (Miguel de Cervantes) - Bu roman, çağdaş dünya ədəbiyyatının ən təsirli əsərlərindən biri hesab olunur. Cervantes burada idealizm və realizm, xəyal və gerçəklik arasındakı münasibətləri təsvir edir. Əsər insanın daxili aləmini, arzularını və məhdudiyyətlərini dərin şəkildə əks etdirir.\n",
      "\n",
      "2. \"Hamlet\" (Vilyam Şekspir) - Şekspirin ən məşhur əsərlərindən olan \"Hamlet\" faciəsi insan psixologiyasının mürəkkəb aspektlərini, varlığın məna və məqsədini araşdırır. Hamlet obrazının ikircikli xarakteri və ölüm-həyat sualına verdiyi cavablar əsəri dünya ədəbiyyatının ən təsirli əsərlərindən biri edir.\n",
      "\n",
      "3. \"Savaş və sülh\" (Lev Tolstoy) - Tolstoyun bu nəhəng romanı XIX əsr Rusiya cəmiyyətinin təsvirini, fərdlərin daxili aləmini və böyük tarixi hadisələrə təsirini əhatə edir. Müəllif burada insanın mübarizəsini, arzularını və məyusluqlarını bədii şəkildə təqdim edir.\n",
      "\n",
      "4. \"Müqəddəs iblisin yedi günü\" (Fyodor Dostoyevski) - Dostoyevskinin bu romanı insanın mənəvi böhranını, günahı və günahkarlığı, xeyir və şər arasındakı mübarizəni əks etdirir. Romanın əsas qəhrəmanı İvan Karamazovun özünü və bəşəriyyəti təhqiq etməsi ədəbiyyat tarixi üçün əhəmiyyətlidir.\n",
      "\n",
      "5. \"Yüz illik yalnızlıq\" (Qabriela Markes) - Latın Amerikası ədəbiyyatının klassik nümunəsi olan bu romanda Markes qeyri-adi hadisələr və reallıqlar arasında mükəmməl bir tarazlıq yaradır. Əsər cəmiyyətin və fərdin mürəkkəb münasibətlərini, sürəkli dəyişiklikləri və məhvedici qüvvələri təsvir edir.\n",
      "\n",
      "Bu əsərlər öz dərin fəlsəfi məzmunu və bədii təsiri ilə dünya ədəbiyyatının ən təsiredici nümunələri hesab olunur.\n"
     ]
    },
    {
     "name": "stderr",
     "output_type": "stream",
     "text": [
      " 68%|██████▊   | 68/100 [20:10<09:40, 18.15s/it]"
     ]
    },
    {
     "name": "stdout",
     "output_type": "stream",
     "text": [
      "Elektrik avtomobillərinin gələcəyi çox perspektivli görünür. Son illər bu sahədə böyük tərəqqilər müşahidə olunur və bu tendensiya davam edəcək.\n",
      "\n",
      "Əsas üstünlükləri arasında ətraf mühitə zərərli təsirlərin azalması, yanacaq xərclərinin olmaması, sürüş sükutu və rahatlaşdırıcı təcrübə, texnoloji yeniliklərin sürətli tətbiqi kimi faktlar göstərilə bilər.\n",
      "\n",
      "Texnologiya sürətlə inkişaf edir və baterilər daha uzun məsafə qət etmə, daha sürətli enerji doldurma və daha ucuz xərclər kimi xüsusiyyətlər əldə edir. Bu da elektrik avtomobillərinin daha rəqabətqabiliyyətli olmasına və kütləvi istifadəyə yol açır.\n",
      "\n",
      "Hökumətlərin vergi güzəştləri, enerji infrastrukturunun gücləndirilməsi və investisiyaların dəstəklənməsi kimi tədbirləri də elektrik avtomobilləri bazarının inkişafına təkan verir.\n",
      "\n",
      "Beləliklə, gələcəkdə elektrik avtomobillərinin ənənəvi yanacaqlı avtomobilləri sıxışdırıb çıxarmaq ehtimalı böyükdür. İqlim dəyişikliyi və ətraf mühitin qorunması məsələləri də bu tendensiya üçün əlavə stimul rolunu oynayacaq.\n"
     ]
    },
    {
     "name": "stderr",
     "output_type": "stream",
     "text": [
      " 69%|██████▉   | 69/100 [20:25<08:56, 17.30s/it]"
     ]
    },
    {
     "name": "stdout",
     "output_type": "stream",
     "text": [
      "Məzəl nədir? Meditasiya insanın həyatına necə inteqrasiya oluna bilər?\n",
      "\n",
      "Meditasiya qədim praktikadır və müxtəlif mədəniyyətlərdə fərqli formalarla tətbiq olunur. Meditasiyanın ən vacib faydalarından biri stress və narahatlığın azaldılmasıdır. Günlük həyatımızda baş verən çoxsaylı tələblər və öhdəliklər stres səviyyəmizi artırır. Meditasiya isə bizi bu proseslərdən kənarda saxlayaraq, özümüzə fokuslanmağa kömək edir.\n",
      "\n",
      "Meditasiyanı günlük rutinə inteqrasiya etmək üçün bəzi yollar var:\n",
      "\n",
      "1. Səhər oyandıqdan sonra 10-15 dəqiqə meditasiya etmək. Bu, günün başlanğıcını daha sakit və məqsədyönlü etməyə kömək edər.\n",
      "\n",
      "2. İş günü ərzində 5-10 dəqiqə fasilə vermək və meditasiya etmək. Bu, diqqətimizi toplamağa və stresslə daha yaxşı mübarizə aparmağa kömək edər.\n",
      "\n",
      "3. Yatmazdan əvvəl 15-20 dəqiqə meditasiya etmək. Bu, yuxunun daha rahat və dərin olmasına kömək edər.\n",
      "\n",
      "4. Gündəlik işləri yerinə yetirərkən diqqətinizi nəfəs alıb-vermənizə yönəltmək. Bu, sizi indiki anda saxlayacaq.\n",
      "\n",
      "Meditasiya həyatımızda sağlam rutinlərin formalaşmasında mühüm rol oynayır. Gün ərzində müntəzəm olaraq həyata keçirilən meditasiya sessiyaları diqqətimizi və özümüzə olan mərkəzləşməni artırır, stressə daha yaxşı davam gətirməyə kömək edir.\n"
     ]
    },
    {
     "name": "stderr",
     "output_type": "stream",
     "text": [
      " 70%|███████   | 70/100 [20:42<08:33, 17.12s/it]"
     ]
    },
    {
     "name": "stdout",
     "output_type": "stream",
     "text": [
      "İş yerində konfliktləri həll etmək üçün ən yaxşı yollar aşağıdakılar ola bilər:\n",
      "\n",
      "1. Açıq və şəffaf kommunikasiya. Tərəflər arasında açıq və şəffaf kommunikasiya qurmaq çox vacibdir. Hər iki tərəf öz fikirlərini, hissləri və narahatlıqlarını sərbəst şəkildə ifadə etməli və dinləməyi bacarmalıdır.\n",
      "\n",
      "2. Empatiya və anlayış. Tərəflərin bir-birlərinin mövqelərini, duyğularını və problemlərini anlamağa çalışması çox önəmlidir. Bu, konfliktlərin həllində əhəmiyyətli rol oynayır.\n",
      "\n",
      "3. Dinləmə bacarıqları. Səmərəli dialoq üçün hər iki tərəf yaxşı dinləmə bacarıqlarına malik olmalıdır. Bu, tərəflərin bir-birini daha yaxşı başa düşməsinə kömək edər.\n",
      "\n",
      "4. Problemləri birgə həll etmək. Tərəflər birlikdə problemi müəyyən etməli və həllini birgə axtarmalıdırlar. Bu, qarşı tərəfin perspektivini daha yaxşı anlamağa kömək edər.\n",
      "\n",
      "5. Kompromis və uzlaşma. Tərəflər bir-birinə qarşılıqlı güzəştlər etməyə hazır olmalıdırlar. Bu, razılığa gəlmək və effektiv həll yolları tapmaq üçün vacibdir.\n",
      "\n",
      "6. Peşəkar yanaşma. Rəhbərlik konfliktləri peşəkar, ədalətli və obyektiv şəkildə idarə etməlidir. Bu, tərəflərin məsələni daha sakit və konstruktiv müzakirə etmələrinə kömək edər.\n",
      "\n",
      "7. Arabuluculuq və məsləhətləşmə. Mürəkkəb konfliktlərdə peşəkar arabulucu və ya məsləhətçidən istifadə etmək faydalı ola bilər. Onlar tərəflər arasında effektiv əlaqə qurmağa və həll yolları tapmağa kömək edə bilərlər.\n",
      "\n",
      "Beləliklə, iş yerində konfliktləri həll etmək üçün açıq ünsiyyət, empatiya, dinləmə bacarıqları, birgə problemlərin həlli, uzlaşma və peşəkar yanaşma kimi yollardan istifadə etmək ən yaxşı seçimdir.\n"
     ]
    },
    {
     "name": "stderr",
     "output_type": "stream",
     "text": [
      " 71%|███████   | 71/100 [21:00<08:25, 17.44s/it]"
     ]
    },
    {
     "name": "stdout",
     "output_type": "stream",
     "text": [
      "Qida alerjilərini idarə etmək üçün aşağıdakı tədbirləri həyata keçirmək məsləhətdir:\n",
      "\n",
      "1. Qida alergeninin müəyyən edilməsi: İlk addım olaraq, hansı qidanın alerji reaksiyasına səbəb olduğunu müəyyən etmək vacibdir. Bu məqsədlə, həkim tərəfindən testlər edilməli və ən çox hansı qidaya reaksiya verildiyi müəyyən olunmalıdır.\n",
      "\n",
      "2. Qida alergeninin tamamilə aradan qaldırılması: Alerji törədən qidanın tamamilə dietsdan çıxarılması və ondan qaçınılması vacibdir. Bu, alerji əlamətlərinin azalmasına və tamamilə yox olmasına kömək edə bilər.\n",
      "\n",
      "3. Qida etiketlərinin diqqətlə öyrənilməsi: Qida məhsullarının tərkibini yoxlamaq və alerji törədə biləcək maddələri tapmaq çox vacibdir. Alerji törədən maddənin istənilən izinə rast gəlinərsə, həmin məhsulu istifadə etmək olmaz.\n",
      "\n",
      "4. Yedikləri qidaların hazırlanmasına nəzarət etmək: Evdə hazırlanan yeməklərin tərkibini yoxlamaq və alerjenli maddələrin yemək tərkibinə daxil olmamasına diqqət etmək lazımdır. Restoranda və ya başqa yerlərdə yemək yərkən də həmin diqqəti göstərmək vacibdir.\n",
      "\n",
      "5. Təcili tibbi yardım üçün hazır olmaq: Alerji reaksiyası baş verdiyi halda, tez tibbi yardım almaq üçün həmişə hazır olmaq lazımdır. Bunun üçün, həkim tərəfindən təyin edilən müalicə vasitələrini daim yanınızda saxlamaq məsləhətdir.\n",
      "\n",
      "6. Həkimin məsləhətlərinə əməl etmək: Alerji ilə bağlı hər hansı bir dəyişiklik baş verdikdə, dərhal həkimin məsləhətini almaq və onun tövsiyələrinə riayət etmək vacibdir.\n",
      "\n",
      "Yuxarıda sadalanan tədbirlər qida alerjilərini effektiv şəkildə idarə etməyə kömək edə bilər.\n"
     ]
    },
    {
     "name": "stderr",
     "output_type": "stream",
     "text": [
      " 72%|███████▏  | 72/100 [21:17<08:09, 17.48s/it]"
     ]
    },
    {
     "name": "stdout",
     "output_type": "stream",
     "text": [
      "İnternetdə şəxsi məlumatların qorunması üçün ən yaxşı praktikalar aşağıdakılardır:\n",
      "\n",
      "1. Güclü şifrələrdən istifadə etmək. Şifrələrinizi mürəkkəb və unikal şəkildə yaradın, həmçinin iki addımlı təsdiq prosesindən istifadə edin.\n",
      "\n",
      "2. İşləmədiyiniz veb saytlarda və ya tətbiqlərdə giriş məlumatlarından istifadə etməmək. Həmçinin, sosial media hesablarınızın parolları fərqli olsun.\n",
      "\n",
      "3. Şəxsi və konfidensiallıq ayarlarınızı tənzimləmək. Veb saytların və tətbiqlərin konfidensiallıq siyasətlərini oxuyun və şəxsi məlumatlarınızı kimlə bölüşdürdüyünüzü nəzarətdə saxlayın.\n",
      "\n",
      "4. Şəxsi məlumatlarınızı sosial mediyada paylaşarkən diqqətli olun. Təhlükəli məlumatların paylaşılmamasına diqqət yetirin.\n",
      "\n",
      "5. Proqram təminatınızı və cihazlarınızı həmişə yenilənmiş vəziyyətdə saxlayın. Təhlükəsizlik yeniləmələrinin avtomatik olaraq yüklənməsini təmin edin.\n",
      "\n",
      "6. Virtual şəxsi şəbəkədən (VPN) istifadə edin. Bu, internet üzərindən hərəkətlərinizin gizlədilməsində kömək edir.\n",
      "\n",
      "7. İnternetdə nəşr olunan məlumatların tarixçəsini silmək. Bəzən köhnə məlumatlar yenidən üzə çıxa bilər və şəxsi məlumatlarınızın əlçatan olmasına səbəb ola bilər.\n",
      "\n",
      "8. Şəxsi məlumatlarınızı mobil cihazlarınızda və ya buludda gizli saxlamaq. Məlumatlarınızı şifrələnmiş haldakı xüsusi saxlama xidmətlərindən istifadə edin.\n",
      "\n",
      "Yuxarıda sadalanan praktikalar şəxsi məlumatlarınızın qorunmasına kömək edə bilər. İnternetdə təhlükəsizliyinizi daim nəzarətdə saxlayın.\n"
     ]
    },
    {
     "name": "stderr",
     "output_type": "stream",
     "text": [
      " 73%|███████▎  | 73/100 [21:35<07:54, 17.56s/it]"
     ]
    },
    {
     "name": "stdout",
     "output_type": "stream",
     "text": [
      "Rəqəmsal marketinq, kiçik bizneslər üçün bir sıra əhəmiyyətli üstünlüklər təqdim edir:\n",
      "\n",
      "1. Daha geniş auditoriya: Rəqəmsal platformalar vasitəsi ilə, kiçik bizneslər öz məhsul və xidmətlərini daha böyük regional və bəzən beynəlxalq bazarlara təqdim edə bilər. Bu, onların potensial müştəri dairəsini əhəmiyyətli dərəcədə artırır.\n",
      "\n",
      "2. Daha aşağı xərclər: Ənənəvi marketinq üsullarına nisbətən, rəqəmsal marketinq daha az xərclə həyata keçirilir. Məsələn, sosial media reklamları, e-poçt kampaniyaları və sayt optimallaşdırması kiçik bizneslərin daha səmərəli marketinq strategiyaları qura bilmələrinə imkan verir.\n",
      "\n",
      "3. Daha efektiv hədəfləndirmə: Rəqəmsal marketinq alətləri, potensial müştərilər haqqında geniş məlumatların toplanmasına və təhlil edilməsinə imkan verir. Bu isə, məhsul və xidmətlərin daha dəqiq hədəf auditoriyaya çatdırılmasını təmin edir.\n",
      "\n",
      "4. Daha yaxşı əlaqə və qarşılıqlı əlaqə: Rəqəmsal platformalar, kiçik bizneslərə müştəriləri ilə daha yaxından əlaqə qurmağa və onların rəylərini, təkliflərini və şikayətlərini asanlıqla toplamağa imkan verir. Bu, müştəri məmnuniyyətinin artmasına və məhsul/xidmət təkmilləşdirilməsinə yardım edir.\n",
      "\n",
      "5. Ölçülə bilən nəticələr: Rəqəmsal marketinq kampaniyalarının nəticələri, ətraflı analitik məlumatlar vasitəsi ilə ölçülə bilir. Bu, kiçik bizneslərə öz marketinq strategiyalarını daha da təkmilləşdirmək və optimallaşdırmaq üçün vacib geriback təmin edir.\n",
      "\n",
      "Ümumilikdə, rəqəmsal marketinq kiçik bizneslərə daha geniş auditoriyaya çıxmaq, xərcləri azaltmaq, daha effektiv hədəfləndirmə aparmaq, müştəri ilə daha yaxşı əlaqə qurmaq və nəticələri izləmək imkanları təqdim edir.\n"
     ]
    },
    {
     "name": "stderr",
     "output_type": "stream",
     "text": [
      " 74%|███████▍  | 74/100 [21:53<07:40, 17.72s/it]"
     ]
    },
    {
     "name": "stdout",
     "output_type": "stream",
     "text": [
      "Uşaqlar üçün ən yaxşı təhsil metodları sualına cavab verərkən, bir sıra mühüm amilləri nəzərə almaq lazımdır. Əsas məqsəd uşaqların hərtərəfli inkişafına nail olmaq və onların həm akademik, həm də sosial-emosional sahədə nailiyyətlər qazanmasına yönəlməlidir.\n",
      "\n",
      "İlk növbədə, təhsil metodları uşaqların maraq və ehtiyaclarına uyğun olmalıdır. Fəal təlim metodları, o cümlədən layihə əsaslı, problem həlli və ya kəşf etmə metodları uşaqların təfəkkürünün inkişafına, müstəqil düşünmə və öyrənmə bacarıqlarının formalaşmasına töhfə verir. Bu metodlar uşaqları passiv qəbuledici deyil, fəal iştirakçıya çevirmək imkanı yaradır.\n",
      "\n",
      "Eyni zamanda, interaktiv ünsiyyət, əməkdaşlıq və qrup işləri uşaqların kommunikasiya və sosial bacarıqlarını inkişaf etdirir. Həmçinin, öyrənməyə marağı artıran, öyrənmə prosesini həvəsləndirən və mənanı artıran müxtəlif təcrübələr və təlimatlar təqdim etmək vacibdir.\n",
      "\n",
      "Nəhayət, uşaqların fərdi və yaş xüsusiyyətlərinin nəzərə alınması, tədris üsullarının fərdiləşdirilməsi də təhsil keyfiyyətinin artırılmasında mühüm rol oynayır. Müəllimlərin dəstəkləyici və həvəsləndirici münasibəti də uşaqların özünə inamını və öyrənmə motivasiyasını artırır.\n",
      "\n",
      "Beləliklə, uşaqlar üçün ən yaxşı təhsil metodları fəal, inteqrativ, əməkdaşlıq əsaslı və şəxsiyyətyönümlü yanaşmalara əsaslanmalıdır. Bu metodlar uşaqları tək passiv təhsil alan deyil, fəal iştirakçıya çevirərək, onların hərtərəfli inkişafına nail ola bilər.\n"
     ]
    },
    {
     "name": "stderr",
     "output_type": "stream",
     "text": [
      " 75%|███████▌  | 75/100 [22:11<07:23, 17.73s/it]"
     ]
    },
    {
     "name": "stdout",
     "output_type": "stream",
     "text": [
      "Avtomobil texnologiyalarında son illər ən əhəmiyyətli yeniliklərdən bəziləri aşağıdakılardır:\n",
      "\n",
      "1. Elektrikli və hibrid avtomobillərin artması: Ətraf mühitin qorunması və enerji səmərəliliyinin artırılması məqsədilə elektrikli və hibrid avtomobillərdə investisiyalar sürətlə artmaqdadır. Bu növ avtomobillərdə güclü akkumulyatorlar, yüksək effektli elektrik motorları və enerji bərpa sistemləri istifadə olunur.\n",
      "\n",
      "2. Avtonom sürüş texnologiyaları: Artıq bəzi avtomobil istehsalçıları tam və ya qismən avtonom sürüş funksiyaları təqdim edirlər. Bu texnologiyalar sərnişin və sürücünü rahatlandırmaqla yanaşı, yol təhlükəsizliyini də artırır.\n",
      "\n",
      "3. Bağlantılı və mobil texnologiyalar: Avtomobillər artıq internet və digər mobil şəbəkələrə qoşula bilərlər. Bu, sürücüyə və sərnişinlərə müxtəlif xidmətlər (naviqasiya, əyləncə, təhlükəsizlik və s.) təqdim etməyə imkan verir.\n",
      "\n",
      "4. Yeni materiallarda innovasiyalar: Avtomobil istehsalçıları daha yüngül, davamlı və effektiv materialların istifadəsi üzərində çalışırlar. Bu, yanacaq istehlakını və emissiya göstəricilərini azaltmağa kömək edir.\n",
      "\n",
      "5. Sürücüsüz avtomobil texnologiyaları: Texnologiyalar sürücünün işini asanlaşdırmaq üçün müxtəlif köməkçi sistemlər təqdim edir. Məsələn, təcili tədbir, park etmə, revers hərəkət və s. kimi funksiyalar sürücünü yükdən azad edir.\n",
      "\n",
      "Ümumilikdə, avtomobil texnologiyalarındakı yeniliklərin əsas hədəfi təhlükəsizliyi, səmərəliliyi və ətraf mühitin qorunmasını təmin etməkdir. Bu texnologiyalar gələcəkdə avtomobil sənayesini daha innovativ və dayanıqlı edəcəkdir.\n"
     ]
    },
    {
     "name": "stderr",
     "output_type": "stream",
     "text": [
      " 76%|███████▌  | 76/100 [22:28<07:02, 17.62s/it]"
     ]
    },
    {
     "name": "stdout",
     "output_type": "stream",
     "text": [
      "Müxtəlif mədəniyyətlərdə bayram ənənələri geniş spektrə malik olsa da, bəzi ortaq xüsusiyyətlər də var. Məsələn, çox mədəniyyətlərdə ailə, dostlar və ya icma üzvləri bir araya gələrək yemək yemək, rəqs etmək, mahnı oxumaq kimi fəaliyyətləri həyata keçirirlər. Bu, həm mənəvi dəyərlərin, həm də ənənələrin nəsildən-nəslə ötürülməsi üçün əhəmiyyətlidir.\n",
      "\n",
      "Bayramlarda həmçinin dini və ya milli simvolların istifadəsinə də rast gəlmək olar. Məsələn, Novruz bayramında od və su ilə bağlı rituallar icra edilir, Ramazan bayramında isə ay və hilal şəklində işarələr əhəmiyyət kəsb edir. Bunlar müxtəlif mədəniyyətlərə xas olan təbii və mənəvi elementlərdir.\n",
      "\n",
      "Digər tərəfdən, bəzi bayramlarda hədiyyə vermək ənənəsi də var. Bu, həm sosial münasibətlərin güclənməsinə, həm də sevgi və qayğının ifadəsinə xidmət edir. Məsələn, Milad bayramında hədiyyə vermək geniş yayılmış bir ənənədir.\n",
      "\n",
      "Beləliklə, müxtəlif mədəniyyətlərdə bayram ənənələri fərqli görünsə də, onların əsasında insanların mənəvi və sosial ehtiyaclarının ödənilməsi dayanır. Bu, mədəniyyətlərarası dialoqun və qarşılıqlı anlaşmanın artmasına xidmət edir.\n"
     ]
    },
    {
     "name": "stderr",
     "output_type": "stream",
     "text": [
      " 77%|███████▋  | 77/100 [22:44<06:33, 17.12s/it]"
     ]
    },
    {
     "name": "stdout",
     "output_type": "stream",
     "text": [
      "Fərdi maliyyə planlaşdırmasında vacib elementlər aşağıdakılardır:\n",
      "\n",
      "1. Gəlir və xərclər təhlili: Fərdi maliyyə planlaşdırması prosesi ilk olaraq gəlir və xərclərin dəqiq müəyyənləşdirilməsi ilə başlayır. Bu, gəlir mənbələrinin, maaş, fərdi biznes, investisiya gəlirləri və digər mümkün gəlir mənbələrinin təhlili deməkdir. Xərclərin isə əsas kateqoriyalar üzrə (mənzil, nəqliyyat, qida, tibb, təhsil, əyləncə və s.) həcminin müəyyən edilməsi vacibdir.\n",
      "\n",
      "2. Hədəflərin müəyyənləşdirilməsi: Fərdin qısa, orta və uzunmüddətli maliyyə hədəflərinin qoyulması planlaşdırmanın mühüm hissəsidir. Bu hədəflər pensiya yığımı, ev alınması, təhsil xərcləri, sərmayələr və s. ola bilər.\n",
      "\n",
      "3. Ehtiyat vəsaitlərin yaradılması: Gözlənilməz xərcləri qarşılamaq üçün ehtiyat fondun yaradılması vacibdir. Adətən, 3-6 aylıq gündəlik xərcləri qarşılaya bilən məbləğin ehtiyat fondda saxlanılması tövsiyə olunur.\n",
      "\n",
      "4. Borcların idarə edilməsi: Fərdin kredit və borclarının strukturlaşdırılması, ödəniş qrafikinin düzgün təşkil edilməsi və faiz dərəcələrinin optimallaşdırılması planlaşdırmanın mühüm hissəsidir.\n",
      "\n",
      "5. Sığorta təminatlarının qurulması: Həyat, səhiyyə, əmlak və digər sığorta növlərinin tətbiq edilməsi fərdin maliyyə risklərinə qarşı qorunmasında mühüm rol oynayır.\n",
      "\n",
      "6. Vergiyə cəlb olunmanın optimallaşdırılması: Fərdin vergiyə cəlb olunma sxeminin düzgün qurulması, müxtəlif vergi güzəştlərindən və imtiyazlarından optimal istifadə edilməsi də maliyyə planlaşdırılmasının mühüm hissəsidir.\n"
     ]
    },
    {
     "name": "stderr",
     "output_type": "stream",
     "text": [
      " 78%|███████▊  | 78/100 [23:01<06:16, 17.12s/it]"
     ]
    },
    {
     "name": "stdout",
     "output_type": "stream",
     "text": [
      "Vaxt idarəetməsi çox mühüm bir məsələdir və hər kəs üçün uyğun olan ideal bir alət yoxdur. Lakin müxtəlif vaxt idarəetmə alətlərinin istifadəsi ilə daha səmərəli və məhsuldar bir iş rejimi yaratmaq mümkündür. Aşağıdakı ən yaxşı vaxt idarəetmə alətləri bunlardır:\n",
      "\n",
      "1. To-do siyahıları: Gün ərzində yerinə yetirilməli olan işləri sistemli şəkildə sadalamaq və prioritetləşdirmək üçün \"to-do\" siyahıları çox faydalıdır. Bu, diqqəti dağıdan işlərə vaxt sərf etməkdən qaçmağa kömək edir.\n",
      "\n",
      "2. Pomodoro texnikası: Bu texnika işi 25 dəqiqəlik fraqmentlərə bölür və hər fraqmentin sonunda qısa fasilə verir. Bu, diqqəti toplayıb məhsuldarlığı artırmağa kömək edir.\n",
      "\n",
      "3. Təqvim idarəetməsi: Təqvim idarəetməsi, görüşləri, toplantıları və digər möhkəmlənmiş görüntüləri düzgün idarə etməyə kömək edir. Bu, gün ərzində vaxtınızın necə bölündüyünü göstərərək, effektiv planlaşdırmağa kömək edir.\n",
      "\n",
      "4. Limitli Məşğuliyyət Cədvəli: Bu metod, gün ərzində iş yükünü məhdudlaşdıraraq, həm də müəyyən sayda işi yerinə yetirməklə məhdudlaşır. Bu, diqqəti dağıdan işlərdən qaçmağa və məhsuldarlığı artırmağa kömək edir.\n",
      "\n",
      "5. Məşğuliyyət Köçürücüsü: Bu alət, bir işdən digərinə dəyişərək diqqəti dağınıq olan insanlara kömək edir. Köçürmə tezliyi və köçürülən işlərin növü fərdi olaraq nizamlanmalıdır.\n",
      "\n",
      "Yuxarıda adı çəkilən vaxt idarəetmə alətləri hər bir istifadəçinin tələbatlarına uyğun olaraq kombinasiya edilə və istifadə edilə bilər. Mühüm olan, işçi mühitinə uyğun ən münasib alətlərin seçilməsi və onlardan sistemli istifadədir.\n"
     ]
    },
    {
     "name": "stderr",
     "output_type": "stream",
     "text": [
      " 79%|███████▉  | 79/100 [23:20<06:06, 17.45s/it]"
     ]
    },
    {
     "name": "stdout",
     "output_type": "stream",
     "text": [
      "Qlobal iqtisadiyyatda ən çox təsir göstərən faktorlar aşağıdakılardır:\n",
      "\n",
      "1. Geosiyasi amillər: Dünya ölkələri arasındakı münasibətlər, siyasi gərginliklər, müharibələr və sanksiyalar qlobal iqtisadiyyatın fəaliyyətinə əhəmiyyətli dərəcədə təsir göstərir. Bu amillər ticarət, investisiya və kapital axınlarına maneçilik törədə bilər.\n",
      "\n",
      "2. Texnoloji innovasiyalar: Yeni texnologiyaların, rəqəmsal transformasiya və avtomatlaşdırmanın sürətlə inkişafı iqtisadi artıma, əmək məhsuldarlığına və əmək bazarına təsir edir. Bu, həmçinin müəssisələrin rəqabət qabiliyyətinə və istehlakçı davranışına təsir edir.\n",
      "\n",
      "3. Təbii fəlakətlər və ətraf mühitin problemləri: İqlim dəyişiklikləri, ekstremal hava hadisələri, pandemiyalar və digər ətraf mühit problemləri məhsul təchizatını, logistikanı və enerji təchizatını pozaraq qlobal dəyər zəncirlərinə mənfi təsir göstərir.\n",
      "\n",
      "4. Demoqrafik dəyişikliklər: Əhali artımı, urbanizasiya və əhalinin yaşlanması iş qüvvəsi, tələb və istehsal potensialına təsir edir.\n",
      "\n",
      "5. Maliyyə qeyri-sabitliyi: Maliyyə böhranları, məzənnə dəyişiklikləri, borc yükü və inflyasiya kimi maliyyə amillər qlobal iqtisadiyyatın ümumi vəziyyətinə mənfi təsir göstərir.\n",
      "\n",
      "6. Siyasət və tənzimləmə: Proteksionist ticarət siyasəti, vergi siyasəti, tənzimləyici çərçivələr və iqtisadi təşəbbüslər istehsal, ticarət və investisiya axınlarını əhəmiyyətli dərəcədə dəyişə bilir.\n",
      "\n",
      "Bu amillərin hamısı bir-biri ilə sıx bağlıdır və qlobal iqtisadiyyatın dinamik və rəqabətli xarakterini müəyyən edir.\n"
     ]
    },
    {
     "name": "stderr",
     "output_type": "stream",
     "text": [
      " 80%|████████  | 80/100 [23:37<05:49, 17.50s/it]"
     ]
    },
    {
     "name": "stdout",
     "output_type": "stream",
     "text": [
      "Sosial şəbəkələrdə məşhurlaşmaq üçün aşağıdakı strategiyaları tətbiq etmək olar:\n",
      "\n",
      "1. Məzmun yaratmaq və paylaşmaq: Maraqlı, orijinal və keyfiyyətli məzmunlar paylaşmaq vacibdir. Buna illüstrasiya, video, yazı və s. daxildir. Məzmunlar auditoriyaya uyğun olmalı, aktuallığa və cazibədarlığa malik olmalıdır.\n",
      "\n",
      "2. Auditoriya ilə ünsiyyət qurmaq: Takipçilərlə aktivləşməyə, onların paylaşım və rəylərinə cavab verməyə çalışmaq lazımdır. Bu onları daha çox cəlb edəcək və məşhurluğun artmasına səbəb olacaq.\n",
      "\n",
      "3. Hashtag və etiket istifadə etmək: Məzmunlarda uyğun hashtag və etiketlərdən istifadə etmək auditoriya genişləndirməyə, məşhurluğun artmasına kömək edəcək.\n",
      "\n",
      "4. Reklam və promosiya: Ödənişli reklam kampaniyaları, müxtəlif təşviqedici fəaliyyətlər sayəsində auditoriya artırıla və məşhurlaşmaq mümkündür.\n",
      "\n",
      "5. Mütəmadi paylaşımlar: Sosial mediada mütəmadi, planlı və sistemli paylaşımlar etmək vacibdir. Bu, auditoriya cəlb etməyə və saxlamağa kömək edəcək.\n",
      "\n",
      "6. İş birlikləri və əməkdaşlıqlar: Digər məşhur şəxslərlə, brendlərlə iş birlikləri qurmaq auditoriyaya çıxışı artıracaq və məşhurluğun yüksəlməsinə səbəb olacaq.\n",
      "\n",
      "7. Trendləri izləmək və onlara uyğun paylaşımlar etmək: Auditoriyanın maraq dairəsini və trendləri izləyərək, onlara uyğun məzmun yaratmaq və paylaşmaq məşhurluğun artmasına kömək edəcək.\n",
      "\n",
      "Qeyd olunan strategiyaların kompleks şəkildə tətbiqi sosial şəbəkələrdə məşhurlaşmağa səbəb ola bilər.\n"
     ]
    },
    {
     "name": "stderr",
     "output_type": "stream",
     "text": [
      " 81%|████████  | 81/100 [23:55<05:35, 17.64s/it]"
     ]
    },
    {
     "name": "stdout",
     "output_type": "stream",
     "text": [
      "Səyahət zamanı sağlamlığımızı qorumaq üçün aşağıdakı tövsiyələri nəzərə almaq vacibdir:\n",
      "\n",
      "1. Ərzaq təhlükəsizliyi: Səyahət etdiyiniz ölkədə sağlam və təhlükəsiz qidalar seçin. Təhlükəsiz içməli su və qida mənbələrindən istifadə edin. Qida zəhərlənmələrinin qarşısını almaq üçün həddən artıq yağlı, qızardılmış və şirin yeməklərdən çəkinin.\n",
      "\n",
      "2. Gigiyena və sanitariya: Səyahət zamanı əl və üz gigiyenasına diqqət yetirin. Əllərini tez-tez sabunla yuyun və əl dezinfeksiyaedici vasitələrdən istifadə edin. Zəruri hallarda maskaların taxılması da faydalı ola bilər.\n",
      "\n",
      "3. Peyvəndlər və dərmanlar: Səyahət etdiyiniz ölkənin sağlamlıq şərtləri barədə məlumat toplayın və lazımi peyvəndləri və dərmanları əvvəlcədən həkiminizlə müzakirə edin.\n",
      "\n",
      "4. Şəxsi gigiyena: Günəş kremlərindən, bakteriya və virus əleyhinə spreylər və s. istifadə edin. Mümkün olduqca, müxtəlif xəstəliklərin yayıldığı yerlərdən uzaq durun.\n",
      "\n",
      "5. Fiziki və emosional sağlamlıq: Səyahətiniz zamanı həm fiziki, həm də emosional sağlamlığınıza diqqət yetirin. Düzgün qidalanma, kifayət qədər yuxu və istirahət, günəşdən və fiziki aktivlikdən istifadə, stresslə mübarizə və s. vacibdir.\n",
      "\n",
      "6. Sığorta və təcili yardım: Səyahətiniz üçün səfər sığortası həyata keçirin və təcili tibbi yardım xidmətləri ilə bağlı məlumat toplayın.\n",
      "\n",
      "Bu tövsiyələrə əməl etməklə səyahətinizin zövqünü artıra və sağlamlığınızı qoruyub saxlaya bilərsiniz.\n"
     ]
    },
    {
     "name": "stderr",
     "output_type": "stream",
     "text": [
      " 82%|████████▏ | 82/100 [24:13<05:18, 17.70s/it]"
     ]
    },
    {
     "name": "stdout",
     "output_type": "stream",
     "text": [
      "Məktəbdən kənar təhsilin əhəmiyyəti əsasən aşağıdakı kimi ifadə oluna bilər:\n",
      "\n",
      "1. İnkişaf və əyləncə: Məktəbdən kənar təhsil fəaliyyətləri uşaqların və gənclərin intellektual, fiziki, emosional və sosial inkişafına köməklik edir. Bu fəaliyyətlər onlara maraqlı, əyləncəli və yaradıcı vaxt keçirməyə imkan verir.\n",
      "\n",
      "2. Bacarıq və istedadların inkişafı: Məktəbdən kənar təhsil uşaqların və gənclərin fərdi bacarıq və istedadlarını aşkara çıxarmağa və inkişaf etdirməyə kömək edir. Bu onlara özlərini tapmağa və gələcək karyera seçimlərinə daha yaxşı hazırlaşmağa imkan verir.\n",
      "\n",
      "3. Sosial və kommunikativ bacarıqlar: Məktəbdən kənar təhsil uşaqların və gənclərin komandada işləmək, liderlik etmək, başqaları ilə ünsiyyət qurmaq, problem həll etmək kimi sosial və kommunikativ bacarıqlarını inkişaf etdirir.\n",
      "\n",
      "4. Özünüifadə və özünüdərketmə: Məktəbdən kənar təhsil fəaliyyətləri uşaq və gənclərin özlərini ifadə etmək, yaradıcı düşünmək və öz bacarıqlarını kəşf etmək imkanlarını artırır.\n",
      "\n",
      "5. Həyat bacarıqları və dəyərlər: Məktəbdən kənar təhsil uşaqların və gənclərin həyat bacarıqlarını, sağlam həyat tərzini və mənəvi-əxlaqi dəyərlərini formalaşdırmağa kömək edir.\n",
      "\n",
      "6. Boş vaxtın səmərəli təşkili: Məktəbdən kənar təhsil uşaqların və gənclərin boş vaxtlarını maraqlı və faydalı fəaliyyətlərlə doldurmağa imkan verir. Bu onların asudə vaxtlarının səmərəli təşkilinə töhfə verir.\n",
      "\n",
      "Beləliklə, məktəbdən kənar təhsil uşaqların və gənclərin hərtərəfli inkişafına və gələcək həyatlarına müsbət təsir edir.\n"
     ]
    },
    {
     "name": "stderr",
     "output_type": "stream",
     "text": [
      " 83%|████████▎ | 83/100 [24:31<05:01, 17.74s/it]"
     ]
    },
    {
     "name": "stdout",
     "output_type": "stream",
     "text": [
      "Daxili motivasiya insanın özündən gələn və daha davamlı olan motivasiyadır. Onu inkişaf etdirmək üçün bir sıra tədbirlər görülə bilər:\n",
      "\n",
      "1. Məqsədlərin müəyyənləşdirilməsi və onlara nail olmaq üçün strategiyanın hazırlanması. Şəxsi məqsədlərin düzgün müəyyənləşdirilməsi və konkret addımların atılması daxili motivasiyanı artırır.\n",
      "\n",
      "2. Maraq və sevgi duyulan işə yönəlmək. İnsanın sevdiyi və maraq duyduğu işlə məşğul olması onun daxili motivasiyasının güclənməsinə kömək edir.\n",
      "\n",
      "3. Özünə güvənin və öz-özünə inamın artırılması. Şəxsin özünə güvənməsi və öz qabiliyyətlərinə inanması daxili motivasiyanın güclənməsinə təkan verir.\n",
      "\n",
      "4. Mükafatlandırma sisteminin tətbiqi. Şəxsin əldə etdiyi nailiyyətlərin layiqincə qiymətləndirilməsi və mükafatlandırılması daxili motivasiyanı artırır.\n",
      "\n",
      "5. Mənalı və məqsədyönlü fəaliyyət. İnsan öz fəaliyyətinin mənasını və nəticələrini aydın görərsə, onun daxili motivasiyası güclənər.\n",
      "\n",
      "6. Özünü daha yaxşı tanımaq və inkişaf etdirmək istəyi. İnsanın özünü daha yaxşı tanıması və inkişaf etdirmək arzusu onun daxili motivasiyasını artırır.\n",
      "\n",
      "7. Müsbət və dəstəkləyici mühitin yaradılması. İnsana dəstək olan, onu ruhlandıran, hörmət edən və ədalətlə yanaşan mühit daxili motivasiyasının güclənməsinə kömək edir.\n",
      "\n",
      "Beləliklə, yuxarıda qeyd olunan tədbirlərin tətbiqi insanın daxili motivasiyasının inkişafına və artmasına müsbət təsir göstərə bilər.\n"
     ]
    },
    {
     "name": "stderr",
     "output_type": "stream",
     "text": [
      " 84%|████████▍ | 84/100 [24:48<04:40, 17.54s/it]"
     ]
    },
    {
     "name": "stdout",
     "output_type": "stream",
     "text": [
      "Qlobal səhiyyə problemi dedikdə ümumən bütün dünyada mövcud olan və insanların sağlamlığını təhdid edən məsələlər nəzərdə tutulur. Bu problemlərin həll edilməsi isə bütün dövlətlərin, təşkilatların və cəmiyyətin birgə səylərini tələb edir. Aşağıdakı məsələlər ən ciddi qlobal səhiyyə problemləri hesab olunur:\n",
      "\n",
      "1. Yoluxucu xəstəliklər: COVID-19 pandemiyası kimi yeni yoluxucu xəstəliklər və əvvəlki illərə nisbətən artan ÇİV/VİÇ, malярiya, vərəm kimi xəstəliklər qlobal səhiyyə sistemini ciddi sınağa çəkir. Bu xəstəliklərin profilaktikası və müalicəsi üçün səylərin artırılması vacibdir.\n",
      "\n",
      "2. Qeyri-yoluxucu xəstəliklər: Şəkərli diabet, ürək-damar xəstəlikləri, onkoloji xəstəliklər və psixoloji pozğunluqlar kimi qeyri-yoluxucu xəstəliklərin yayılması sürətlənir. Bu xəstəliklərin qarşısının alınması və səmərəli müalicəsi üçün hərtərəfli tədbirlərin görülməsi tələb olunur.\n",
      "\n",
      "3. Təbii fəlakətlər və müharibələr: Təbii fəlakətlər və silahlı münaqişələr səhiyyə infrastrukturuna ağır zərbələr vurur, tibbi yardım göstərilməsini çətinləşdirir. Bu kimi hallarda operativ yardım və hərtərəfli bərpa işləri aparılmalıdır.\n",
      "\n",
      "4. Təbii resursların çatışmazlığı: Su, qida və energetika təminatının pisləşməsi səhiyyə məsələlərini daha da mürəkkəbləşdirir. Ətraf mühitin qorunması və fenomenal səhiyyə texnologiyalarından istifadə bu problemlərin həllinə kömək edə bilər.\n",
      "\n",
      "5. Əhali artımı və urbanizasiya: Sürətli əhali artımı və urbanizasiya səhiyyə xidmətlərinin göstərilməsini çətinləşdirir. Bu səbəbdən səhiyyə infrastrukturuna investisiyaların artırılması, səhiyyə işçilərinin hazırlanması və əhalinin sağlamlıq mədəniyyətinin yüksəldilməsi vacibdir.\n",
      "\n",
      "Bu problemlərin həlli üçün dövlətlər, beynəlxalq təşkilatlar, QHT-lər və vətəndaş cəmiyyəti birgə səy göstərməli, müasir texnologiyalardan istifadə etməli, təhsil və maarifləndirilməyə xüsusi diqqət ayırmalıdırlar.\n"
     ]
    },
    {
     "name": "stderr",
     "output_type": "stream",
     "text": [
      " 85%|████████▌ | 85/100 [25:07<04:30, 18.07s/it]"
     ]
    },
    {
     "name": "stdout",
     "output_type": "stream",
     "text": [
      "Kitab oxumağın psixoloji sağlamlığa müsbət təsirləri olduğu mütəxəssislər tərəfindən dəfələrlə qeyd edilmişdir. Kitab oxumaq insanların həyatında mühüm rol oynayır və onların emosional, intellektual və sosial inkişafına müsbət təsir göstərir.\n",
      "\n",
      "Birincisi, kitab oxumaq insanların stresin, depressiyanın və narahatlığın azalmasına kömək edir. Oxuduqları kitablar insanların diqqətini cari problemlərdən yayındırır və onlara yeni perspektivlər açır. Bu da öz növbəsində emosional sağlamlığın yaxşılaşmasına səbəb olur.\n",
      "\n",
      "İkincisi, kitab oxumaq insanların ümumilikdə daha yaradıcı, təfəkkürünün daha çevik olmasına və problemləri effektiv həll etmə bacarıqlarının artmasına kömək edir. Oxuduqları məlumatlar və yeni ideyalar insanların dünyagörüşlərinin genişlənməsinə və yeni bilik və bacarıqlar əldə etmələrinə səbəb olur.\n",
      "\n",
      "Üçüncüsü, kitab oxumaq insanların daha yaxşı kommunikasiya bacarıqlarına malik olmalarına və daha yaxşı sosiallaşmasına kömək edir. Kitablar insanların başqalarını daha yaxşı başa düşməsinə və empatiya qurmasına yardım edir.\n",
      "\n",
      "Nəticə olaraq, kitab oxumaq insanların həm emosional, həm də intellektual və sosial sağlamlığına müsbət təsir göstərir. Bu səbəbdən mütəxəssislər tərəfindən reglyar kitab oxumanın insanların psixoloji sağlamlığının qorunması və möhkəmləndirilməsi üçün vacib olduğu vurğulanır.\n"
     ]
    },
    {
     "name": "stderr",
     "output_type": "stream",
     "text": [
      " 86%|████████▌ | 86/100 [25:24<04:08, 17.77s/it]"
     ]
    },
    {
     "name": "stdout",
     "output_type": "stream",
     "text": [
      "Ən populyar musiqi alətləri aşağıdakılardır:\n",
      "\n",
      "1. Gitara - Gitara ən populyar musiqi alətlərindən biridir. Onu on telli, simli bir alət kimi tanıyırıq. Gitara akustik və elektrik olaraq iki növə bölünür. Akustik gitarada səs təbii yolla yaradılır, elektrik gitarada isə elektrik sistemindən istifadə edilir. Gitara əllə, parmaqlarla çalınır, bəzi hallarda da tırnak və plektralar istifadə edilir.\n",
      "\n",
      "2. Piano - Piano klasik musiqi alətlərindən sayılır. Bu alət tuşlar və çəkiclərdən ibarət olub, basın və ya manevrlərlə səsin yaradılmasını təmin edir. Pianoda sol əl və sağ əl müxtəlif partiyalar icra edir.\n",
      "\n",
      "3. Drum - Drum dəst musiqidə ritmin yaradılmasına xidmət edən bir alətdir. Drum dəsti müxtəlif ölçüdə və formada davul və zənbillərdən ibarətdir. Drumçu əlləri və çubuqlardan istifadə edərək ritmik zərbələr vurur.\n",
      "\n",
      "4. Skripka - Simli çalğı alətlərindən biri olan skripka, klassik musiqi dünyasında ən məşhur alətlərdəndir. Skripkada səs yaylar vasitəsilə çıxarılır. Skripkaçı sağ əli ilə yayı, sol əli ilə simləri idarə edir.\n",
      "\n",
      "5. Saksafon - Medni nəfəsli alətlər qrupuna daxil olan saksafon, caz və rok musiqisində geniş istifadə edilir. Saksafon üfləmə yolu ilə çalınan bir alətdir.\n",
      "\n",
      "Bu alətlər müxtəlif musiqi janrlarında və instrumental parçalarda geniş şəkildə istifadə edilir. Hər bir alət müxtəlif çalma texnikası və üsullarına malikdir.\n"
     ]
    },
    {
     "name": "stderr",
     "output_type": "stream",
     "text": [
      " 87%|████████▋ | 87/100 [25:42<03:50, 17.72s/it]"
     ]
    },
    {
     "name": "stdout",
     "output_type": "stream",
     "text": [
      "Fotoqrafiya öyrənməyə yeni başlayanlar üçün aşağıdakı məsələlərə diqqət etmək vacibdir:\n",
      "\n",
      "1. Kamera ilə tanışlıq - Yeni başlayanlar ilk növbədə öz kameralarını yaxşı öyrənməlidirlər. Kameranın idarə olunması və funksiyaları ilə tanış olmalıdırlar. Kameranın düyməlerini, ayarlarını və idarə üsullarını mənimsəmək lazımdır.\n",
      "\n",
      "2. Kompoz i si ya - Kadrın düzgün quruluşuna diqqət etmək önəmlidir. Mövzu, işıq, kontras t və digər elementlər arasındakı tarazlığa nəzarət etmək gərəkdir. Üçölçülü dünyanın iki ölçülü şəkilə çevrilməsi zamanı kadrın düzgün qurulması məhsuldarlığı artırır.\n",
      "\n",
      "3. İşığın rolu - İşıq fotoqrafiya üçün əsas elementdir. Yeni başlayanlar işığın növləri, istiqamətləri və bu işığın effektləri ilə tanış olmalıdırlar. Həm təbii, həm də süni işıqdan düzgün istifadə etməyi öyrənməlidirlər.\n",
      "\n",
      "4. Çəkilişin tə crübəsi - Fotoqrafiya öyrənməkdə təcrübə çox vacibdir. Müxtəlif mövzularda, yerlərdə və şəraitlərdə çəkilişlər etmək, gündəlik həyatdan kadrlar tutmaq məharət və bacarığı inkişaf etdirir.\n",
      "\n",
      "5. Nəzəriyyə və texnika - Yeni başlayanlar fotoqrafiyanın nəzəri əsaslarını, işləmə prinsiplərini, kamera və obyektivləri öyrənmələri vacibdir. Bu, peşəkar səviyyədə fotoqrafiya çəkmələrinə kömək edəcək.\n",
      "\n",
      "Beləliklə, fotoqrafiya öyrənmək üçün kameranı yaxşı mənimsəmək, kompoz isiyanın incəliklərini öyrənmək, işıqdan düzgün istifadə etmək, təcrübə toplamaq və nəzəri bilikləri mənimsəmək vacibdir. Bütün bu məsələlərə diqqət yetirmək yeni başlayanlar üçün fotoqrafiya öyrənməyə kömək edəcəkdir.\n"
     ]
    },
    {
     "name": "stderr",
     "output_type": "stream",
     "text": [
      " 88%|████████▊ | 88/100 [26:01<03:36, 18.02s/it]"
     ]
    },
    {
     "name": "stdout",
     "output_type": "stream",
     "text": [
      "Effektiv öyrənmə taktikalarını aşağıdakı kimi təsnif edə bilərik:\n",
      "\n",
      "1. Məzmunu dərin şəkildə anlamaq: Məlumatı səthi deyil, dərin şəkildə öyrənmək çox vacibdir. Bu, həm də mövzunu ətraflı şəkildə nəzərdən keçirməyi, suallar verməyi və problemləri həll etməyi tələb edir.\n",
      "\n",
      "2. Fəal və iştirakçı olmaq: Təkcə passiv şəkildə məlumat qəbul etmək kifayət deyil. Dərsdə, iş zamanı və ya gündəlik həyatda aktiv iştirak etmək, müzakirələrdə iştirak etmək və öz fikrini bildirmək çox vacibdir.\n",
      "\n",
      "3. Təkrar və möhkəmləndirmə: Yeni məlumatı dəfələrlə təkrar etmək və praktik məşqlərlə möhkəmləndirmək əsas öyrənmə üsullarından biridir. Bu, informasiyanı uzunmüddətli yaddaşa kodlaşdırmağa kömək edir.\n",
      "\n",
      "4. Məlumatı strukturlaşdırmaq: Öyrənilən məlumatı müxtəlif formatlarda (xülasələr, sxemlər, diaqramlar) təşkil etmək, onlar arasında əlaqələr qurmaq və məntiqi ardıcıllıq yaratmaq öyrənmə prosesini asanlaşdırır.\n",
      "\n",
      "5. Şərhlər və tətbiq etmək: Yeni öyrənilən konseptləri və anlayışları başqalarına izah etmək və onları praktik şəraitlərdə tətbiq etmək daha yaxşı öyrənmə nəticələri verir.\n",
      "\n",
      "6. Özünü stimullaşdırmaq: Öyrənmə prosesində motivasiyanı və marağı yüksək saxlamaq, özünü təriflər, mükafatlar və ya digər müsbət təsdiqlər ilə həvəsləndirmək çox vacibdir.\n",
      "\n",
      "7. Öz öyrənmə üsullarını analiz etmək: Öz öyrənmə üslubunu və effektivliyini davamlı olaraq qiymətləndirmək və lazım olduqda dəyişikliklər etmək, daha yaxşı nəticələr əldə etməyə kömək edər.\n",
      "\n",
      "Bu taktikalar öyrənmə prosesini daha səmərəli və effektiv edə bilər. Lakin hər bir fərdin özü üçün ən effektiv üsulları müəyyən etməsi və tətbiq etməsi vacibdir.\n"
     ]
    },
    {
     "name": "stderr",
     "output_type": "stream",
     "text": [
      " 89%|████████▉ | 89/100 [26:20<03:22, 18.41s/it]"
     ]
    },
    {
     "name": "stdout",
     "output_type": "stream",
     "text": [
      "Təbiəti qorumaq üçün fərdi tədbirlər çox vacibdir. Hər birimizin bu istiqamətdə atdığı addımlar mühüm rol oynayır. Burada aşağıdakı tədbirləri göstərmək olar:\n",
      "\n",
      "1. Elektrik və su istehlakını azaltmaq. Evdə işıqları və elektrik cihazlarını lazım olmadıqda söndürmək, suyun israfına yol verməmək.\n",
      "\n",
      "2. Tullantıların azaldılması və yenidən emalı. Plastik, şüşə, kağız və metal məhsulların təkrar istifadəsini təşviq etmək, habelə kompost əmələ gətirməklə üzvi tullantıları azaltmaq.\n",
      "\n",
      "3. Daha az plastikdən istifadə etmək. Plastik paketi, stəkan və üzlüklərdən imtina edərək daha davamlı alternativlərə üstünlük vermək.\n",
      "\n",
      "4. Daha ekoloji nəqliyyat növlərindən istifadə etmək. Mümkün olduqca avtomobil yerinə velosiped, ictimai nəqliyyat və ya piyada getmək.\n",
      "\n",
      "5. Daha dayanıqlı məhsullar seçmək. Uzun müddət istifadə oluna bilən, təkrar emal oluna bilən və ya təbii materiallardan hazırlanan məhsullara üstünlük vermək.\n",
      "\n",
      "6. Ətraf mühitə zərər verməyən istehlak modeli qurmaq. Həddindən artıq alışveriş etməmək, tələb edildiyindən çox məhsul satın almamaq.\n",
      "\n",
      "7. Ağacların və yaşıllıqların qorunmasına töhfə vermək. Mümkün olduqca ağac əkmək və yaşıllıqları qorumaq.\n",
      "\n",
      "Bu kimi fərdi tədbirlər təbiətin qorunması və gələcək nəsillər üçün dayanıqlı bir ətraf mühitin formalaşdırılması istiqamətində mühüm addımlar hesab olunur.\n"
     ]
    },
    {
     "name": "stderr",
     "output_type": "stream",
     "text": [
      " 90%|█████████ | 90/100 [26:37<03:00, 18.08s/it]"
     ]
    },
    {
     "name": "stdout",
     "output_type": "stream",
     "text": [
      "Uşaqlar üçün texnologiya təhsilinin bir sıra faydaları vardır:\n",
      "\n",
      "1. Rəqəmsal savadlılığın inkişafı: Texnologiya təhsili uşaqlara rəqəmsal dünyada səmərəli şəkildə yaşamaq və işləmək üçün zəruri bacarıqlar aşılayır. Onlar kompüter, internet, mobil cihazlar və müxtəlif proqram təminatları ilə işləməyi öyrənirlər.\n",
      "\n",
      "2. Problemlərin həlli bacarıqlarının təkmilləşdirilməsi: Texnologiya təhsili uşaqlara mürəkkəb problemləri müstəqil həll etmək üçün analitik təfəkkür və proaktiv yanaşma təqdim edir. Onlar alqoritmik və məntiqi düşüncə tərzi inkişaf etdirirlər.\n",
      "\n",
      "3. Yaradıcılıq və innovasiya: Texnologiya təhsili uşaqlara yeni ideyalar və nəticələr yaratmaq imkanı verir. Onlar öz həllərini, layihələrini və ya tətbiqlərini inkişaf etdirməyi öyrənirlər.\n",
      "\n",
      "4. Kommmunikasiya və əməkdaşlıq bacarıqlarının güclənməsi: Texnologiya təhsili uşaqlara virtual mühitlərdə və qrup işlərində səmərəli ünsiyyət qurmaq bacarığı aşılayır. Onlar komandada işləmək, fikirlərini paylaşmaq və məsuliyyət bölüşmək vərdişlərini mənimsəyirlər.\n",
      "\n",
      "5. Təhsil imkanlarının artması: Texnologiya təhsili uşaqlara e-kitablar, onlayn kurslar, virtual təcrübələr və digər rəqəmsal resurslar vasitəsilə daha geniş və interaktiv öyrənmə imkanları təqdim edir. Bu, onların öyrənmə təcrübəsini zənginləşdirir.\n",
      "\n",
      "6. Gələcək karyera üçün hazırlıq: Texnologiya təhsili uşaqlara gələcəkdə rəqəmsal dünyada yaxşı ödənilən və tələb olunan peşələrdə uğurlu olmaq üçün zəruri bacarıqlar aşılayır. Bu, onların gələcək karyera perspektivlərini genişləndirir.\n",
      "\n",
      "Beləliklə, texnologiya təhsili uşaqların hərtərəfli inkişafına, tədris və öyrənmə təcrübəsinə, ünsiyyət və əməkdaşlıq bacarıqlarına, həmçinin gələcək karyera perspektivlərinə müsbət təsir göstərir.\n"
     ]
    },
    {
     "name": "stderr",
     "output_type": "stream",
     "text": [
      " 91%|█████████ | 91/100 [26:56<02:44, 18.32s/it]"
     ]
    },
    {
     "name": "stdout",
     "output_type": "stream",
     "text": [
      "Karyera dəyişikliyi zamanı nəzərə alınmalı əsas məqamlar aşağıdakılardan ibarətdir:\n",
      "\n",
      "1. Özünüzü tanıyın: Maraq və bacarıqlarınızı, güclü və zəif tərəflərinizi dərindən təhlil edin. Bu, sizi maraqlandıran yeni sahələri müəyyənləşdirməyə kömək edəcək.\n",
      "\n",
      "2. Gələcək planlarınızı müəyyənləşdirin: Karyera dəyişikliyi zamanı uzunmüddətli hədəflərinizi və gözləntilərinizi açıq şəkildə təyin edin. Bu, qərarlarınızda daha məqsədyönlü olmanıza kömək edəcək.\n",
      "\n",
      "3. Maliyyə vəziyyətinizi qiymətləndirin: Karyera dəyişikliyi ilə bağlı xərclər və gəlir dəyişiklikləri barədə düşünün. Köhnə və yeni vəzifələr arasındakı fərqi nəzərə alın.\n",
      "\n",
      "4. Yeni bacarıqlar əldə edin: Həyata keçirmək istədiyiniz karyera dəyişikliyinə uyğun bacarıqları inkişaf etdirin. Bunun üçün təhsil, peşə təcrübəsi və ya könüllü işlər kimi imkanlardan istifadə edin.\n",
      "\n",
      "5. Şəbəkənizi genişləndirin: Yeni peşə sahələrinə aid insanlarla əlaqə qurmağa çalışın. Bu, imkanlar barədə məlumat əldə etməyə və potensial iş təkliflərini öyrənməyə kömək edəcək.\n",
      "\n",
      "6. Güvən və dəstək qurun: Yaxın ətrafınızla, xüsusilə də ailə üzvləriniz və yaxın dostlarınızla açıq şəkildə ünsiyyətdə olun. Onların məsləhət və dəstəyi sizi daha asan və effektiv qərar qəbul etməyə yönəldəcək.\n",
      "\n",
      "7. Həll yollarını araşdırın: Karyera dəyişikliyi ilə bağlı müxtəlif variant və seçimləri nəzərdən keçirin. Hər biri üçün ümumi və mənfi cəhətləri qiymətləndirin.\n",
      "\n",
      "Ümumi olaraq, karyera dəyişikliyinin uğurla həyata keçirilməsi üçün özünüzü, maliyyənizi və gələcək planlarınızı dərindən təhlil etmək, yeni bacarıqlar əldə etmək və ətrafınızdakı insanlardan dəstək almaq vacibdir.\n"
     ]
    },
    {
     "name": "stderr",
     "output_type": "stream",
     "text": [
      " 92%|█████████▏| 92/100 [27:15<02:26, 18.33s/it]"
     ]
    },
    {
     "name": "stdout",
     "output_type": "stream",
     "text": [
      "İşgüzar danışıqlarda psixoloji üstünlük qazanmaq üçün aşağıdakı yolları məsləhət görürəm:\n",
      "\n",
      "1. Özünəinam və müsbət təəssürat yaratmaq. Görüşə hazır və özünüzə güvənərək girin. Özünüzü təmkinli və rahat hiss edin. Sakit, amma effektiv ünsiyyət qurub, danışıqlar zamanı müsahibinizin diqqətini cəlb edin.\n",
      "\n",
      "2. Aktiv dinləmə. Diqqət yetirərək, müsahibinizin dediklərini anlayın. Onun mövqeyini, maraqlarını və ehtiyaclarını dəqiq başa düşməyə çalışın. Bu, münasibətləri və həll yollarını qurmağa kömək edəcək.\n",
      "\n",
      "3. Bədən dilindən və göz kontaktından istifadə edin. Bədən dilindən, jestlərdən və göz kontaktından düzgün istifadə edərək, müsahibinizə güvən və hörmət hissi aşılayın. Bu, danışıqların gedişatına müsbət təsir göstərə bilər.\n",
      "\n",
      "4. Cavab vermədən əvvəl düşünün. Emosional reaksiya vermək əvəzinə, diqqətlə dinləyin və cavab vermədən əvvəl düşünün. Bu, daha yaxşı anlaşma və konstruktiv həll yolları tapmağa kömək edə bilər.\n",
      "\n",
      "5. Müsahibinizin mənafeyi ilə maraqlanan təsir yaradın. Danışıqlar zamanı onun maraqlarına və ehtiyaclarına diqqət yetirin. Onun tələblərini və problemlərini başa düşdüyünüzü göstərin. Bu, daha yaxşı anlaşma və əməkdaşlıq əldə etməyə kömək edə bilər.\n",
      "\n",
      "Bu yollarla siz işgüzar danışıqlarda üstünlük qazana və etibar, hörmət və şəffaflıq mühiti yarada bilərsiniz. Beləliklə, danışıqlarınız daha uğurlu və məhsuldar ola bilər.\n"
     ]
    },
    {
     "name": "stderr",
     "output_type": "stream",
     "text": [
      " 93%|█████████▎| 93/100 [27:32<02:05, 17.93s/it]"
     ]
    },
    {
     "name": "stdout",
     "output_type": "stream",
     "text": [
      "Ekoloji təmiz məhsulların istehsalını artırmaq üçün bir neçə yanaşma mövcuddur:\n",
      "\n",
      "1. Üzvi kənd təsərrüfatının inkişafı: Üzvi kənd təsərrüfatı sistemlərində kimyəvi gübrələr və pestisidlər əvəzinə təbii və bioloji metodlar istifadə olunur. Bu yanaşma məhsuldarlığı qoruyur və ekologiyanı qoruyur. Hökumət və özəl sektorun dəstəyi ilə üzvi kənd təsərrüfatının genişləndirilməsi, fermerlərə təlim və maliyyə dəstəyinin verilməsi önəmlidir.\n",
      "\n",
      "2. Yerli və mövsümi məhsulların təşviq edilməsi: Mövsümi və yerli yetişdirilən məhsullar nəqliyyat xərclərini azaldır, təzə və qida dəyəri yüksək olur. Bu məhsullara tələbatı artırmaq üçün istehlakçıları məlumatlandırmaq, fermerlərə marketinq dəstəyi vermək lazımdır.\n",
      "\n",
      "3. Təbii və bioloji mənşəli girdilərə keçid: Kimyəvi gübrə və pestisidlər əvəzinə komlpost, üzvi gübrələr, bioloji zərərvericilərlə mübarizə vasitələri kimi təbii və bioloji girdilərə keçid ekoloji təmizliyə kömək edir.\n",
      "\n",
      "4. Fermerlərə və istehlakçılara təlim və məlumatlandırma: Üzvi kənd təsərrüfatı, təmiz istehsal texnologiyaları, ekoloji məhsulların faydaları barədə məlumatlılığın artırılması vacibdir.\n",
      "\n",
      "5. Sertifikatlaşdırma və qablaşdırma: Məhsulların sertifikatlaşdırılması və uyğun qablaşdırmanın təmin edilməsi, istehlakçıların etibar və seçimini artırır.\n",
      "\n",
      "Bu kompleks yanaşmanın həyata keçirilməsi ilə ekoloji təmiz məhsulların istehsalını mütəmadi olaraq artırmaq mümkündür.\n"
     ]
    },
    {
     "name": "stderr",
     "output_type": "stream",
     "text": [
      " 94%|█████████▍| 94/100 [27:49<01:47, 17.89s/it]"
     ]
    },
    {
     "name": "stdout",
     "output_type": "stream",
     "text": [
      "Rəqəmsal sənədləşdirmənin iş mühitindəki önəmi aşağıdakı kimi ümumiləşdirilə bilər:\n",
      "\n",
      "1. Səmərəliliyin artırılması: Rəqəmsal sənədləşdirmə prosesləri əl ilə aparılan sənədləşdirmə ilə müqayisədə daha sürətli və səmərəli olur. Bu, işçilərə vaxt və resurs qənaəti etməyə imkan verir.\n",
      "\n",
      "2. Məlumatların idarə edilməsi və çevik əlçatanlıq: Rəqəmsal sənədləşdirmə məlumatların təşkilində və onlara çevik əlçatanlıqda yaxşılaşma əldə etməyə imkan verir. İşçilər lazım olan sənədlərə tez və asan çata bilirlər.\n",
      "\n",
      "3. Təhlükəsizliyin təmin edilməsi: Rəqəmsal sənədləşdirmə proseslərində məlumatların təhlükəsizliyinin təmin edilməsi daha asan olur. Şifrələmə, icazə idarəetmə və digər təhlükəsizlik mexanizmlərindən istifadə edilir.\n",
      "\n",
      "4. İş proseslərinin avtomatlaşdırılması: Rəqəmsal sənədləşdirmə müxtəlif iş proseslərinin avtomatlaşdırılmasına köməklik edir. Bu, insan səhvlərinin azaldılmasına, proseslərin sürətlənməsinə və səmərəliliyinin artırılmasına imkan verir.\n",
      "\n",
      "5. Ətraf mühitin mühafizəsi: Kağız sənədlərdən imtina edilməsi və rəqəmsal sənədləşdirmənin tətbiqi resursların, xüsusilə də ağacların qırılmasının və kağız istehlakının azaldılmasına töhfə verir.\n",
      "\n",
      "6. Məlumat inteqrasiyası və birgə işləmə imkanlarının genişlənməsi: Rəqəmsal sənədləşdirmə müxtəlif məlumat mənbələrinin və sistemlərinin inteqrasiyasına və bu məlumatların birgə işlənməsinə imkan verir.\n",
      "\n",
      "Beləliklə, rəqəmsal sənədləşdirmə iş mühitində əhəmiyyətli ölçüdə səmərəliliyin, məlumatların idarə edilməsinin, təhlükəsizliyin, avtomatlaşdırmanın və ətraf mühitin mühafizəsinin yaxşılaşdırılmasına töhfə verir.\n"
     ]
    },
    {
     "name": "stderr",
     "output_type": "stream",
     "text": [
      " 95%|█████████▌| 95/100 [28:07<01:29, 17.92s/it]"
     ]
    },
    {
     "name": "stdout",
     "output_type": "stream",
     "text": [
      "Müasir incəsənət nümunələrinin cəmiyyətə təsiri çoxşaxəlidir və çox vacib rol oynayır. Bu təsirləri aşağıdakı şəkildə qruplaşdıra bilərik:\n",
      "\n",
      "1. İctimai şüura təsir: Müasir incəsənət əsərləri cəmiyyətdə mövcud olan stereotipləri və yanaşmaları sarsıda bilir. Onlar insanları düşündürür, mövzu və ideyalar ətrafında müzakirələr yaradır. Bu da öz növbəsində insanların dünyagörüşünün genişlənməsinə və yeni perspektivlər qazanmalarına səbəb olur.\n",
      "\n",
      "2. Sosial-siyasi dəyişikliklərə təkan: Bəzən müasir incəsənət əsərləri cəmiyyətdə mövcud olan sosial və siyasi problemləri qabartmağa, onların həllinə təkan verməyə yönəlir. Bu da öz növbəsində ictimai şüurun oyanması və dəyişikliklər tələb etməsinə gətirib çıxarır.\n",
      "\n",
      "3. Mədəni ifadə vasitəsi: İncəsənət əsərləri, o cümlədən müasir incəsənət nümunələri müəyyən mədəni dəyərləri, ənənələri və dünyagörüşünü ifadə edir. Bu mənada onlar cəmiyyətin mədəni identikliyinin formalaşmasına və inkişafına töhfə verir.\n",
      "\n",
      "4. Estetik tərbiyə: Müasir incəsənət nümunələri insanlarda estetik zövq və həssaslıq formalaşdırır. Bu da öz növbəsində insanların daxili dünyasının, ruhi təmizliyinin və həyata müsbət yanaşmasının inkişafına təsir göstərir.\n",
      "\n",
      "5. Emosional və psixoloji təsir: İncəsənət əsərləri insanların emosional və psixoloji vəziyyətinə təsir edə bilir. Onlar insanlarda dərin hisslər, emosiyalar, sevgi, nifrət, kədər və s. oyadır. Bu da öz növbəsində insanların həyata baxışına, münasibətinə və davranışlarına təsir göstərir.\n",
      "\n",
      "Beləliklə, müasir incəsənət nümunələri cəmiyyətin bütün sferalarına, onun inkişafına və formalaşmasına güclü təsir edir. Onların rolu və əhəmiyyəti danılmazdır.\n"
     ]
    },
    {
     "name": "stderr",
     "output_type": "stream",
     "text": [
      " 96%|█████████▌| 96/100 [28:26<01:12, 18.08s/it]"
     ]
    },
    {
     "name": "stdout",
     "output_type": "stream",
     "text": [
      "Sağlam qidalanmaq üçün ən yaxşı mətbəx alətləri aşağıdakılar ola bilər:\n",
      "\n",
      "1. Bişirmə qabları - Sağlam yemək hazırlamaq üçün yüksək keyfiyyətli bişirmə qabları vacibdir. Teflondan, keramikadan və ya paslanmayan polad növlərindən hazırlanmış qablar daha yaxşıdır, çünki onlar yemək hazırlama prosesində səhv kimyəvi maddələrin yaranmasına imkan vermirlər.\n",
      "\n",
      "2. Bıçaqlar - Kəsmək, doğramaq və dilimlər üçün yüksək keyfiyyətli bıçaqlar lazımdır. Paslanmayan polad və ya seramik bıçaqlar daha uzun müddət istifadə oluna bilər və yemək hazırlama zamanı sağlamlığa zərərli maddələr yaratmırlar.\n",
      "\n",
      "3. Blender və robot-qəhvəçi - Bu alətlər meyvə-tərəvəz şirələrini, püre və digər sağlam qidaları hazırlamağa imkan verir. Səmərəli və davamlı modelləri seçmək vacibdir.\n",
      "\n",
      "4. Buxar bişirmə dəsti - Buxar bişirmə üsulu qidaların həm ləzzəti, həm də qidalılığını qoruyub saxlayır. Uyğun buxar bişirmə dəstindən istifadə etmək sağlam qidalanma üçün yaxşı seçimdir.\n",
      "\n",
      "5. Silikon və ya daş kalpok - Bu materiallardan hazırlanmış kalpoklar yemək hazırlama prosesində isti maddələrlə təmasda olan səthlərin zərərli maddə ifraz etmə ehtimalını azaldır.\n",
      "\n",
      "Bu və digər mətbəx avadanlıqları sağlam qidalanma üçün ən münasib alətlər ola bilər. Bunların seçimi isə hər bir istifadəçinin fərdi tələb və ehtiyaclarından asılıdır.\n"
     ]
    },
    {
     "name": "stderr",
     "output_type": "stream",
     "text": [
      " 97%|█████████▋| 97/100 [28:43<00:53, 17.78s/it]"
     ]
    },
    {
     "name": "stdout",
     "output_type": "stream",
     "text": [
      "Gələcək texnologiyaların ictimai həyatımıza təsirləri çox böyük və çoxşaxəli ola bilər. Bu təsirləri aşağıdakı kimi ümumiləşdirmək olar:\n",
      "\n",
      "1. Sosial təsir: Texnologiyaların inkişafı, insanlar arasında ünsiyyətin azalması, izolyasiya və asosial davranışların artması kimi mənfi təsirlərə səbəb ola bilər. Digər tərəfdən, texnologiya vasitəsilə insanlar arasında əlaqələrin, məsafədən təhsil və iş imkanlarının artması kimi müsbət təsirlər də ola bilər.\n",
      "\n",
      "2. İqtisadi təsir: Avtomatlaşdırma, robotlaşdırma və süni intellektin inkişafı bəzi peşələrin aradan qalxması və işsizliyin artması kimi problemlərə gətirib çıxara bilər. Eyni zamanda, yeni texnologiyalar yeni iş sahələri və iqtisadi imkanlar yarada bilər.\n",
      "\n",
      "3. Siyasi təsir: Texnologiyaların inkişafı dövlətlərin nəzarət mexanizmlərini gücləndirib, vətəndaş azadlıqlarını məhdudlaşdıra bilər. Bununla yanaşı, vətəndaş cəmiyyətinin və şəffaflığın artırılması kimi müsbət təsirlər də ola bilər.\n",
      "\n",
      "4. Ekoloji təsir: Yeni texnologiyalar ekoloji problemlərin həllinə kömək edə bilər, amma bəzi hallarda ekoloji tarazlığı da pozub, fəlakətlərə səbəb ola bilər.\n",
      "\n",
      "5. Etik və hüquqi təsir: Süni intellektin, robotların, gen mühəndisliyinin inkişafı yeni etik və hüquqi məsələlər yarada bilər. Bu məsələlərin tənzimlənməsi və qarşısının alınması vacibdir.\n",
      "\n",
      "Ümumiyyətlə, gələcək texnologiyalar insan həyatını daha yaxşı və rahatlıqla yaşamaq üçün imkanlar yarada bilər, amma eyni zamanda ciddi problemlərə də səbəb ola bilər. Bu problemlərin həlli və uyğun tənzimləmələrin aparılması vacibdir.\n"
     ]
    },
    {
     "name": "stderr",
     "output_type": "stream",
     "text": [
      " 98%|█████████▊| 98/100 [29:00<00:35, 17.73s/it]"
     ]
    },
    {
     "name": "stdout",
     "output_type": "stream",
     "text": [
      "Saatların tarixi çox qədim dövrlərdən başlayır. İnsanlar zaman ölçməyin müxtəlif üsullarından istifadə ediblər. Qədim əsrlərdə insanlar gün vaxtını günəşin hərəkətinə görə müəyyən edirdilər. Sonralar su və qum saatları, şam saatları kimi mexanizmlər yaradıldı. \n",
      "\n",
      "Məhz bu zaman ölçmə sistemləri daha dəqiq və inkişaf etdirilmiş oldu. 14-cü əsrdə Avropa ölkələrində ilk mexaniki saatların yaradılması baş verdi. Bu saatlar nisbətən dəqiq ola bilirdi, amma hələ də tam təkmil deyildi. \n",
      "\n",
      "17-ci əsrdə isə saatlarda yeni texnologiya olan mayhana meydana gəldi. Bu, saatların daha dəqiq işləməsini təmin etdi. 18-ci əsrdən başlayaraq isə cibsaatlar, 19-cu əsrdə isə qol saatları populyarlaşmağa başladı. \n",
      "\n",
      "20-ci əsrdə isə saatların inkişafı xüsusilə sürətləndi. Elektron və kvars saatlar meydana gəldi. Bu saatlar daha dəqiq və etibarlı idi. Son illərdə isə \"ağıllı\" saatlar və digər rəqəmsal cihazlar istehsal olunmağa başladı. Bu cihazlar həm vaxt ölçmə, həm də müxtəlif funksiyaları yerinə yetirmək qabiliyyətinə malikdir.\n",
      "\n",
      "Beləliklə, saatlar yüz illər boyu inkişaf edərək daha mükəmməl və dəqiq forma alıb. Müasir dövrdə saatlar həm praktik, həm də gözəl dizaynı ilə diqqəti cəlb edir.\n"
     ]
    },
    {
     "name": "stderr",
     "output_type": "stream",
     "text": [
      " 99%|█████████▉| 99/100 [29:19<00:18, 18.07s/it]"
     ]
    },
    {
     "name": "stdout",
     "output_type": "stream",
     "text": [
      "Yeni biznes qurmaq üçün nəzərə alınmalı əsas risklər aşağıdakılardır:\n",
      "\n",
      "1. Maliyyə riski: Yeni biznes qurmaq üçün yüksək investisiya tələb olunur. Biznesin ilk aylarda və illərdə mənfəət əldə etməməsi, planlanandan daha çox xərclər çəkilməsi kimi maliyyə problemləri baş verə bilər. Buna görə də, yetərli maliyyə ehtiyatları olması və uzun müddətli maliyyə planlamasının aparılması vacibdir.\n",
      "\n",
      "2. Rəqabət riski: Yeni bazara daxil olmaq çətin ola bilər, çünki mövcud rəqiblər artıq güclü mövqelərə sahibdirlər. Bazarın tələblərinə uyğun məhsul və xidmətlər təqdim etmək, rəqiblərdən fərqlənmək və müştəri loyallığını qazanmaq çətin ola bilər.\n",
      "\n",
      "3. Bazara daxil olma riski: Yeni bazarlara daxil olmaq üçün müvafiq infrastruktur, təchizat, satış və marketinq kanallarının qurulması tələb olunur. Buna görə də, bazar araşdırması aparılmalı və planlaşdırma diqqətlə həyata keçirilməlidir.\n",
      "\n",
      "4. İnsan resursu riski: Yeni biznes qurmaq üçün ixtisaslı və təcrübəli işçi qüvvəsinin cəlb edilməsi çətin ola bilər. Həmçinin işçilərin saxlanması, onların təlimi və motivasiyası da böyük əhəmiyyət kəsb edir.\n",
      "\n",
      "5. İdarəetmə riski: Yeni biznesin idarə edilməsi və koordinasiya edilməsi prosesi mürəkkəb ola bilər. Buna görə də, güclü liderlik, həmçinin müvafiq idarəetmə sistemlərinin qurulması vacibdir.\n",
      "\n",
      "Bu risklər nəzərə alınaraq, yeni biznes qurarkən ətraflı araşdırma aparılmalı, maliyyə planlaması diqqətlə həyata keçirilməli və qəbul edilə biləcək risklərin idarə edilməsi üçün effektiv strategiyalar hazırlanmalıdır.\n"
     ]
    },
    {
     "name": "stderr",
     "output_type": "stream",
     "text": [
      "100%|██████████| 100/100 [29:36<00:00, 17.77s/it]\n"
     ]
    }
   ],
   "source": [
    "from tqdm import tqdm\n",
    "from time import sleep\n",
    "\n",
    "claude_haiku = []\n",
    "\n",
    "for question in tqdm(questions):\n",
    "    message = client.messages.create(\n",
    "        # model=\"claude-3-opus-20240229\",\n",
    "        model=\"claude-3-haiku-20240307\",\n",
    "        max_tokens=1000,\n",
    "        temperature=1,\n",
    "        system=\"Answer the question in Azerbaijani language. Answer should not be more than 350 words.\",\n",
    "        messages=[\n",
    "            {\"role\": \"user\", \"content\": question},\n",
    "        ]\n",
    "    )\n",
    "\n",
    "    resp = message.content[0].text\n",
    "    print(resp)\n",
    "    claude_haiku.append(resp)\n",
    "    sleep(10)"
   ]
  },
  {
   "cell_type": "code",
   "execution_count": 27,
   "metadata": {},
   "outputs": [
    {
     "data": {
      "text/html": [
       "<div>\n",
       "<style scoped>\n",
       "    .dataframe tbody tr th:only-of-type {\n",
       "        vertical-align: middle;\n",
       "    }\n",
       "\n",
       "    .dataframe tbody tr th {\n",
       "        vertical-align: top;\n",
       "    }\n",
       "\n",
       "    .dataframe thead th {\n",
       "        text-align: right;\n",
       "    }\n",
       "</style>\n",
       "<table border=\"1\" class=\"dataframe\">\n",
       "  <thead>\n",
       "    <tr style=\"text-align: right;\">\n",
       "      <th></th>\n",
       "      <th>prompt</th>\n",
       "      <th>mistral-7b-instruct</th>\n",
       "      <th>llama-3-8b-instruct</th>\n",
       "      <th>mixtral-8x7b-instruct</th>\n",
       "      <th>mixtral-8x22b-instruct</th>\n",
       "      <th>llama3-70b</th>\n",
       "      <th>gemma-7b-it</th>\n",
       "      <th>gpt35-turbo</th>\n",
       "      <th>gpt4</th>\n",
       "      <th>llama2_70b</th>\n",
       "      <th>AzLlama-150M</th>\n",
       "      <th>claude_haiku</th>\n",
       "    </tr>\n",
       "  </thead>\n",
       "  <tbody>\n",
       "    <tr>\n",
       "      <th>0</th>\n",
       "      <td>Pizza necə hazırlanır?</td>\n",
       "      <td>Seni çözdüm, aşağıdaki yönerləmələr dəyərlidir...</td>\n",
       "      <td>Sevimli pizzanı hazırlamaq üçün, ilk növbədə, ...</td>\n",
       "      <td>Pizza, peşəkar tarzda hazırlanmaqla, pizza pət...</td>\n",
       "      <td>Pizza hazırlamaq üçün, şəxsi bir pizza doyğu (...</td>\n",
       "      <td>Pizza hazırlanması üçün lazım olan şeylər:\\n\\n...</td>\n",
       "      <td>Pizza hazırlanması üçün aşağıdakı adımlardan b...</td>\n",
       "      <td>Pizza hazırlamaq çox sadə və zövqverici bir pr...</td>\n",
       "      <td>Pizza hazırlamaq üçün aşağıdakı əsas addımları...</td>\n",
       "      <td>Pizza necə hazırlanır?\\n\\nPizza hazırlanırken...</td>\n",
       "      <td>Tərkibləri pizzanın üzərinə qoyaraq başlayın. ...</td>\n",
       "      <td>Pizza hazırlamaq üçün bir çox müxtəlif ingredi...</td>\n",
       "    </tr>\n",
       "    <tr>\n",
       "      <th>1</th>\n",
       "      <td>Sağlam qalmağın yolları nələrdir?</td>\n",
       "      <td>Xoş gəlmisiniz! Sağlam qalmaq için önemli olma...</td>\n",
       "      <td>Sağlam qalmağın yolları çox vaxt fiziki fəaliy...</td>\n",
       "      <td>Məsali, sağlam qalmağın yollarıdır:\\n\\n1. Daha...</td>\n",
       "      <td>Sağlam qalmaq üçün əsası, dərmanlı tədbirlər, ...</td>\n",
       "      <td>Sağlamlıq üçün vacib olan yollar arasında aşağ...</td>\n",
       "      <td>Sağlam qalmağın yolları arasında:\\n\\n- Düzgün ...</td>\n",
       "      <td>Sağlam qalmaq və sağlamlıq üçün bir neçə əsas ...</td>\n",
       "      <td>Sağlam bir həyat tərzi qurmaq üçün aşağıdaki m...</td>\n",
       "      <td>Salam! Saglam qalmagin yollarinin neralaridir...</td>\n",
       "      <td>Sağlam bir qalmaq, xroniki xəstəliklərin qarşı...</td>\n",
       "      <td>Sağlam qalmağın yolları bir neçə əsas elementi...</td>\n",
       "    </tr>\n",
       "    <tr>\n",
       "      <th>2</th>\n",
       "      <td>Kitab oxumağın faydaları nələrdir?</td>\n",
       "      <td>Sen Kitab oxumağın faydaları haqqında sorduğun...</td>\n",
       "      <td>Kitab oxumağın çoxsaylı faydaları var. Birinci...</td>\n",
       "      <td>Xeyr, mən sizin sualınızı təşkil edə bilmirdim...</td>\n",
       "      <td>Kitab oxumağın faydaları çox sayıdır. Bu, fərd...</td>\n",
       "      <td>Kitab oxumağın çoxsaylı faydaları vardır. Aşağ...</td>\n",
       "      <td>Kitab oxumamanın faydaları çox sayıda olsa da,...</td>\n",
       "      <td>Kitab oxumaq insanın zehni və ruhi inkişafı üç...</td>\n",
       "      <td>Kitab oxumağın bir çox faydaları var, bu fayda...</td>\n",
       "      <td>Kitab oxumağın faydaları şu anda görülür:\\n\\n...</td>\n",
       "      <td>Kitabları oxumaq bir neçə səbəbdən uzun bir yo...</td>\n",
       "      <td>Kitab oxumağın çoxsaylı faydalı təsirləri var....</td>\n",
       "    </tr>\n",
       "    <tr>\n",
       "      <th>3</th>\n",
       "      <td>Vaxtını effektiv idarə etmək üçün nə etmək laz...</td>\n",
       "      <td>Senin vaxtını effektif bir şekilde idare etmək...</td>\n",
       "      <td>Vaxtını effektiv idarə etmək üçün bir neçə str...</td>\n",
       "      <td>Zəhmet olmasa, vaxtını idarə etmək üçün aşağıd...</td>\n",
       "      <td>Zamanı effektiv idarə etmək üçün, bir neçə əsa...</td>\n",
       "      <td>Vaxtını effektiv idarə etmək üçün aşağıdakı ad...</td>\n",
       "      <td>Vaxtın effektiv idarə edilmesi üçün aşağıdakil...</td>\n",
       "      <td>Vaxtı effektiv idarə etmək üçün bəzi əsas prin...</td>\n",
       "      <td>Vaxtınızı effektiv idarə etmək üçün aşağıdaki ...</td>\n",
       "      <td>Vaxtını effektiv idarə etmək üçün nə etmək la...</td>\n",
       "      <td>Səmərəliliyi artırmaq üçün tapşırıqların prior...</td>\n",
       "      <td>Vaxtın effektiv idarə edilməsi həyatımızın büt...</td>\n",
       "    </tr>\n",
       "    <tr>\n",
       "      <th>4</th>\n",
       "      <td>Yaxşı fotoşəkil çəkmək üçün nələrə diqqət etmə...</td>\n",
       "      <td>Xoş gelmisiniz! Bu sorunun cəvdələxi üçün aşağ...</td>\n",
       "      <td>Yaxşı fotoşəkil çəkmək üçün bir neçə faktor di...</td>\n",
       "      <td>Məsələn, fotoşəklin qüdrələndirilməsi, kompozi...</td>\n",
       "      <td>Xoş gəlmisiniz! Fotoşəkil çəkmək üçün daha yax...</td>\n",
       "      <td>Yaxşı fotoşəkil çəkmək üçün diqqət etmək lazım...</td>\n",
       "      <td>Yaxşı fotoşəkil çəkmək üçün diqqət etmək gerek...</td>\n",
       "      <td>Yaxşı bir fotoşəkil çəkmək üçün bir neçə əsas ...</td>\n",
       "      <td>Yaxşı fotoşəkil çəkmək üçün bir neçə əsas aspe...</td>\n",
       "      <td>Hello! I'm happy to help you with your questi...</td>\n",
       "      <td>Yəqin ki, əla bir fotoqraf olmağınıza kömək ed...</td>\n",
       "      <td>Yaxşı fotoşəkil çəkmək üçün diqqət olunması la...</td>\n",
       "    </tr>\n",
       "    <tr>\n",
       "      <th>...</th>\n",
       "      <td>...</td>\n",
       "      <td>...</td>\n",
       "      <td>...</td>\n",
       "      <td>...</td>\n",
       "      <td>...</td>\n",
       "      <td>...</td>\n",
       "      <td>...</td>\n",
       "      <td>...</td>\n",
       "      <td>...</td>\n",
       "      <td>...</td>\n",
       "      <td>...</td>\n",
       "      <td>...</td>\n",
       "    </tr>\n",
       "    <tr>\n",
       "      <th>95</th>\n",
       "      <td>Müasir incəsənət nümunələrinin cəmiyyətə təsir...</td>\n",
       "      <td>Müasir incəsənət nümunələri, yani modern tekno...</td>\n",
       "      <td>Müasir incəsənət nümunələrinin cəmiyyətə təsir...</td>\n",
       "      <td>Müasir incəsənət nümunələrinin cəmiyyətə təsir...</td>\n",
       "      <td>Müasir incəsənət, cəmiyyətin dünya görüşünü, m...</td>\n",
       "      <td>Müasir incəsənət nümunələrinin cəmiyyətə təsir...</td>\n",
       "      <td>Müasir incəsənət nümunələri cəmiyyətə bir neçə...</td>\n",
       "      <td>Müasir incəsənət, cəmiyyətə çoxsa, mənsub oldu...</td>\n",
       "      <td>1. Yeni Fikirlərə Təşviq: Müasir incəsənət, hə...</td>\n",
       "      <td>Müasir incəsənət nümunələrinin cəmiyyətə təsi...</td>\n",
       "      <td>Keçmişdə geniş yayılmış və köklü olaraq görülə...</td>\n",
       "      <td>Müasir incəsənət nümunələrinin cəmiyyətə təsir...</td>\n",
       "    </tr>\n",
       "    <tr>\n",
       "      <th>96</th>\n",
       "      <td>Sağlam qidalanmaq üçün ən yaxşı mətbəx alətlər...</td>\n",
       "      <td>Xoş gelmisiniz! Şu sorusunuzda siz, sağlam qid...</td>\n",
       "      <td>Salam Sağlam qidalanmaq üçün ən yaxşı mətbəx a...</td>\n",
       "      <td>Məsələn, sağlam qidalanmaq üçün sizin işsizlik...</td>\n",
       "      <td>Müəlliflərə görə, sağlam qidalanmaq üçün ən ya...</td>\n",
       "      <td>Sizin sualınıza cavab verirəm!\\n\\nSağlam qidal...</td>\n",
       "      <td>Sağlam qidalanmaq üçün ən yaxşı mətbəx alətlər...</td>\n",
       "      <td>Sağlam qidalanmaq üçün mətbəxdə ən yaxşı alətl...</td>\n",
       "      <td>1. Blender: Sağlam smoothieler, suplar və sosl...</td>\n",
       "      <td>I am not able to provide a list of the three ...</td>\n",
       "      <td>Sağlam yemək seçməkdə və sağlam bir pəhrizin h...</td>\n",
       "      <td>Sağlam qidalanmaq üçün ən yaxşı mətbəx alətlər...</td>\n",
       "    </tr>\n",
       "    <tr>\n",
       "      <th>97</th>\n",
       "      <td>Gələcək texnologiyaların ictimai həyatımıza tə...</td>\n",
       "      <td>Senin sorgusunuzda, gələcək teknologiyaların İ...</td>\n",
       "      <td>Ziyarət edəniniz üçün rəhmət Gələcək texnologi...</td>\n",
       "      <td>Məsələn, gələcək texnologiyaların ictimai həya...</td>\n",
       "      <td>Gələcək texnologiyalar həmişə dəyişən və çox ş...</td>\n",
       "      <td>Gələcək texnologiyaların ictimai həyatımıza tə...</td>\n",
       "      <td>Gələcək texnologiyaların ictimai həyatımıza tə...</td>\n",
       "      <td>Gələcəkdə texnologiyalar ictimai həyatımıza də...</td>\n",
       "      <td>1. Uzaqdan İş: Gələcəkdə texnologiya, ən yaxşı...</td>\n",
       "      <td>Salam! Gələcək texnologiyaların ictimai həyat...</td>\n",
       "      <td>Gələcəyin proqnozlaşdırılması gələcəyimizi bir...</td>\n",
       "      <td>Gələcək texnologiyaların ictimai həyatımıza tə...</td>\n",
       "    </tr>\n",
       "    <tr>\n",
       "      <th>98</th>\n",
       "      <td>Saatların tarixi və onların inkişafı necə olub?</td>\n",
       "      <td>Senin sorguladığın zaman, \"Saatların tarixi və...</td>\n",
       "      <td>Sizin soruşduyunuz məsələyə cavab vermək üçün,...</td>\n",
       "      <td>Saatların tarixi ancient civilizationsda başla...</td>\n",
       "      <td>Saatların tarixi ilk əhvalatdan bərpa olaraq b...</td>\n",
       "      <td>Saatların tarixi çox uzun və maraqlıdır. Saatl...</td>\n",
       "      <td>Saatların tarixi əldəyə gedən uzun bir geçmişə...</td>\n",
       "      <td>Saatlar insanlar üçün ən əhəmiyyətli müxtəlifl...</td>\n",
       "      <td>1. Güneş saatları: İlk saatlar, güneşin kölgəs...</td>\n",
       "      <td>Saatların tarixi və onların inkişafı haqqında...</td>\n",
       "      <td>Saat dövrləri zamanla sürət, yer və ya vaxt də...</td>\n",
       "      <td>Saatların tarixi çox qədim dövrlərdən başlayır...</td>\n",
       "    </tr>\n",
       "    <tr>\n",
       "      <th>99</th>\n",
       "      <td>Yeni biznes qurmaq üçün nəzərə alınmalı risklə...</td>\n",
       "      <td>Xoş geldiniz! Biznes qurmaq üçün risklər hər z...</td>\n",
       "      <td>Əslən, yeni biznes qurmaq üçün risklər var, la...</td>\n",
       "      <td>Məsələn, yeni biznes qurmaq üçün şunları qəbul...</td>\n",
       "      <td>Xoş gəlmisiniz! Yeni biznes qurmaq üçün nəzərə...</td>\n",
       "      <td>Yeni bir biznes qurmaq zamanı nəzərə alınmalı ...</td>\n",
       "      <td>Yeni biznes qurmaq üçün nəzərə alınmalı risklə...</td>\n",
       "      <td>Yeni bir iş kurmak heyecan verici bir deneyim ...</td>\n",
       "      <td>1. Maliyyə Riskləri: Start-up biznesi qurarkən...</td>\n",
       "      <td>Yeni biznes qurmaq üçün nəzərə alınmalı riskl...</td>\n",
       "      <td>Yeni bir işə başlamaq bir neçə amildən təsirlə...</td>\n",
       "      <td>Yeni biznes qurmaq üçün nəzərə alınmalı əsas r...</td>\n",
       "    </tr>\n",
       "  </tbody>\n",
       "</table>\n",
       "<p>100 rows × 12 columns</p>\n",
       "</div>"
      ],
      "text/plain": [
       "                                               prompt  \\\n",
       "0                              Pizza necə hazırlanır?   \n",
       "1                   Sağlam qalmağın yolları nələrdir?   \n",
       "2                  Kitab oxumağın faydaları nələrdir?   \n",
       "3   Vaxtını effektiv idarə etmək üçün nə etmək laz...   \n",
       "4   Yaxşı fotoşəkil çəkmək üçün nələrə diqqət etmə...   \n",
       "..                                                ...   \n",
       "95  Müasir incəsənət nümunələrinin cəmiyyətə təsir...   \n",
       "96  Sağlam qidalanmaq üçün ən yaxşı mətbəx alətlər...   \n",
       "97  Gələcək texnologiyaların ictimai həyatımıza tə...   \n",
       "98    Saatların tarixi və onların inkişafı necə olub?   \n",
       "99  Yeni biznes qurmaq üçün nəzərə alınmalı risklə...   \n",
       "\n",
       "                                  mistral-7b-instruct  \\\n",
       "0   Seni çözdüm, aşağıdaki yönerləmələr dəyərlidir...   \n",
       "1   Xoş gəlmisiniz! Sağlam qalmaq için önemli olma...   \n",
       "2   Sen Kitab oxumağın faydaları haqqında sorduğun...   \n",
       "3   Senin vaxtını effektif bir şekilde idare etmək...   \n",
       "4   Xoş gelmisiniz! Bu sorunun cəvdələxi üçün aşağ...   \n",
       "..                                                ...   \n",
       "95  Müasir incəsənət nümunələri, yani modern tekno...   \n",
       "96  Xoş gelmisiniz! Şu sorusunuzda siz, sağlam qid...   \n",
       "97  Senin sorgusunuzda, gələcək teknologiyaların İ...   \n",
       "98  Senin sorguladığın zaman, \"Saatların tarixi və...   \n",
       "99  Xoş geldiniz! Biznes qurmaq üçün risklər hər z...   \n",
       "\n",
       "                                  llama-3-8b-instruct  \\\n",
       "0   Sevimli pizzanı hazırlamaq üçün, ilk növbədə, ...   \n",
       "1   Sağlam qalmağın yolları çox vaxt fiziki fəaliy...   \n",
       "2   Kitab oxumağın çoxsaylı faydaları var. Birinci...   \n",
       "3   Vaxtını effektiv idarə etmək üçün bir neçə str...   \n",
       "4   Yaxşı fotoşəkil çəkmək üçün bir neçə faktor di...   \n",
       "..                                                ...   \n",
       "95  Müasir incəsənət nümunələrinin cəmiyyətə təsir...   \n",
       "96  Salam Sağlam qidalanmaq üçün ən yaxşı mətbəx a...   \n",
       "97  Ziyarət edəniniz üçün rəhmət Gələcək texnologi...   \n",
       "98  Sizin soruşduyunuz məsələyə cavab vermək üçün,...   \n",
       "99  Əslən, yeni biznes qurmaq üçün risklər var, la...   \n",
       "\n",
       "                                mixtral-8x7b-instruct  \\\n",
       "0   Pizza, peşəkar tarzda hazırlanmaqla, pizza pət...   \n",
       "1   Məsali, sağlam qalmağın yollarıdır:\\n\\n1. Daha...   \n",
       "2   Xeyr, mən sizin sualınızı təşkil edə bilmirdim...   \n",
       "3   Zəhmet olmasa, vaxtını idarə etmək üçün aşağıd...   \n",
       "4   Məsələn, fotoşəklin qüdrələndirilməsi, kompozi...   \n",
       "..                                                ...   \n",
       "95  Müasir incəsənət nümunələrinin cəmiyyətə təsir...   \n",
       "96  Məsələn, sağlam qidalanmaq üçün sizin işsizlik...   \n",
       "97  Məsələn, gələcək texnologiyaların ictimai həya...   \n",
       "98  Saatların tarixi ancient civilizationsda başla...   \n",
       "99  Məsələn, yeni biznes qurmaq üçün şunları qəbul...   \n",
       "\n",
       "                               mixtral-8x22b-instruct  \\\n",
       "0   Pizza hazırlamaq üçün, şəxsi bir pizza doyğu (...   \n",
       "1   Sağlam qalmaq üçün əsası, dərmanlı tədbirlər, ...   \n",
       "2   Kitab oxumağın faydaları çox sayıdır. Bu, fərd...   \n",
       "3   Zamanı effektiv idarə etmək üçün, bir neçə əsa...   \n",
       "4   Xoş gəlmisiniz! Fotoşəkil çəkmək üçün daha yax...   \n",
       "..                                                ...   \n",
       "95  Müasir incəsənət, cəmiyyətin dünya görüşünü, m...   \n",
       "96  Müəlliflərə görə, sağlam qidalanmaq üçün ən ya...   \n",
       "97  Gələcək texnologiyalar həmişə dəyişən və çox ş...   \n",
       "98  Saatların tarixi ilk əhvalatdan bərpa olaraq b...   \n",
       "99  Xoş gəlmisiniz! Yeni biznes qurmaq üçün nəzərə...   \n",
       "\n",
       "                                           llama3-70b  \\\n",
       "0   Pizza hazırlanması üçün lazım olan şeylər:\\n\\n...   \n",
       "1   Sağlamlıq üçün vacib olan yollar arasında aşağ...   \n",
       "2   Kitab oxumağın çoxsaylı faydaları vardır. Aşağ...   \n",
       "3   Vaxtını effektiv idarə etmək üçün aşağıdakı ad...   \n",
       "4   Yaxşı fotoşəkil çəkmək üçün diqqət etmək lazım...   \n",
       "..                                                ...   \n",
       "95  Müasir incəsənət nümunələrinin cəmiyyətə təsir...   \n",
       "96  Sizin sualınıza cavab verirəm!\\n\\nSağlam qidal...   \n",
       "97  Gələcək texnologiyaların ictimai həyatımıza tə...   \n",
       "98  Saatların tarixi çox uzun və maraqlıdır. Saatl...   \n",
       "99  Yeni bir biznes qurmaq zamanı nəzərə alınmalı ...   \n",
       "\n",
       "                                          gemma-7b-it  \\\n",
       "0   Pizza hazırlanması üçün aşağıdakı adımlardan b...   \n",
       "1   Sağlam qalmağın yolları arasında:\\n\\n- Düzgün ...   \n",
       "2   Kitab oxumamanın faydaları çox sayıda olsa da,...   \n",
       "3   Vaxtın effektiv idarə edilmesi üçün aşağıdakil...   \n",
       "4   Yaxşı fotoşəkil çəkmək üçün diqqət etmək gerek...   \n",
       "..                                                ...   \n",
       "95  Müasir incəsənət nümunələri cəmiyyətə bir neçə...   \n",
       "96  Sağlam qidalanmaq üçün ən yaxşı mətbəx alətlər...   \n",
       "97  Gələcək texnologiyaların ictimai həyatımıza tə...   \n",
       "98  Saatların tarixi əldəyə gedən uzun bir geçmişə...   \n",
       "99  Yeni biznes qurmaq üçün nəzərə alınmalı risklə...   \n",
       "\n",
       "                                          gpt35-turbo  \\\n",
       "0   Pizza hazırlamaq çox sadə və zövqverici bir pr...   \n",
       "1   Sağlam qalmaq və sağlamlıq üçün bir neçə əsas ...   \n",
       "2   Kitab oxumaq insanın zehni və ruhi inkişafı üç...   \n",
       "3   Vaxtı effektiv idarə etmək üçün bəzi əsas prin...   \n",
       "4   Yaxşı bir fotoşəkil çəkmək üçün bir neçə əsas ...   \n",
       "..                                                ...   \n",
       "95  Müasir incəsənət, cəmiyyətə çoxsa, mənsub oldu...   \n",
       "96  Sağlam qidalanmaq üçün mətbəxdə ən yaxşı alətl...   \n",
       "97  Gələcəkdə texnologiyalar ictimai həyatımıza də...   \n",
       "98  Saatlar insanlar üçün ən əhəmiyyətli müxtəlifl...   \n",
       "99  Yeni bir iş kurmak heyecan verici bir deneyim ...   \n",
       "\n",
       "                                                 gpt4  \\\n",
       "0   Pizza hazırlamaq üçün aşağıdakı əsas addımları...   \n",
       "1   Sağlam bir həyat tərzi qurmaq üçün aşağıdaki m...   \n",
       "2   Kitab oxumağın bir çox faydaları var, bu fayda...   \n",
       "3   Vaxtınızı effektiv idarə etmək üçün aşağıdaki ...   \n",
       "4   Yaxşı fotoşəkil çəkmək üçün bir neçə əsas aspe...   \n",
       "..                                                ...   \n",
       "95  1. Yeni Fikirlərə Təşviq: Müasir incəsənət, hə...   \n",
       "96  1. Blender: Sağlam smoothieler, suplar və sosl...   \n",
       "97  1. Uzaqdan İş: Gələcəkdə texnologiya, ən yaxşı...   \n",
       "98  1. Güneş saatları: İlk saatlar, güneşin kölgəs...   \n",
       "99  1. Maliyyə Riskləri: Start-up biznesi qurarkən...   \n",
       "\n",
       "                                           llama2_70b  \\\n",
       "0    Pizza necə hazırlanır?\\n\\nPizza hazırlanırken...   \n",
       "1    Salam! Saglam qalmagin yollarinin neralaridir...   \n",
       "2    Kitab oxumağın faydaları şu anda görülür:\\n\\n...   \n",
       "3    Vaxtını effektiv idarə etmək üçün nə etmək la...   \n",
       "4    Hello! I'm happy to help you with your questi...   \n",
       "..                                                ...   \n",
       "95   Müasir incəsənət nümunələrinin cəmiyyətə təsi...   \n",
       "96   I am not able to provide a list of the three ...   \n",
       "97   Salam! Gələcək texnologiyaların ictimai həyat...   \n",
       "98   Saatların tarixi və onların inkişafı haqqında...   \n",
       "99   Yeni biznes qurmaq üçün nəzərə alınmalı riskl...   \n",
       "\n",
       "                                         AzLlama-150M  \\\n",
       "0   Tərkibləri pizzanın üzərinə qoyaraq başlayın. ...   \n",
       "1   Sağlam bir qalmaq, xroniki xəstəliklərin qarşı...   \n",
       "2   Kitabları oxumaq bir neçə səbəbdən uzun bir yo...   \n",
       "3   Səmərəliliyi artırmaq üçün tapşırıqların prior...   \n",
       "4   Yəqin ki, əla bir fotoqraf olmağınıza kömək ed...   \n",
       "..                                                ...   \n",
       "95  Keçmişdə geniş yayılmış və köklü olaraq görülə...   \n",
       "96  Sağlam yemək seçməkdə və sağlam bir pəhrizin h...   \n",
       "97  Gələcəyin proqnozlaşdırılması gələcəyimizi bir...   \n",
       "98  Saat dövrləri zamanla sürət, yer və ya vaxt də...   \n",
       "99  Yeni bir işə başlamaq bir neçə amildən təsirlə...   \n",
       "\n",
       "                                         claude_haiku  \n",
       "0   Pizza hazırlamaq üçün bir çox müxtəlif ingredi...  \n",
       "1   Sağlam qalmağın yolları bir neçə əsas elementi...  \n",
       "2   Kitab oxumağın çoxsaylı faydalı təsirləri var....  \n",
       "3   Vaxtın effektiv idarə edilməsi həyatımızın büt...  \n",
       "4   Yaxşı fotoşəkil çəkmək üçün diqqət olunması la...  \n",
       "..                                                ...  \n",
       "95  Müasir incəsənət nümunələrinin cəmiyyətə təsir...  \n",
       "96  Sağlam qidalanmaq üçün ən yaxşı mətbəx alətlər...  \n",
       "97  Gələcək texnologiyaların ictimai həyatımıza tə...  \n",
       "98  Saatların tarixi çox qədim dövrlərdən başlayır...  \n",
       "99  Yeni biznes qurmaq üçün nəzərə alınmalı əsas r...  \n",
       "\n",
       "[100 rows x 12 columns]"
      ]
     },
     "execution_count": 27,
     "metadata": {},
     "output_type": "execute_result"
    }
   ],
   "source": [
    "import pandas as pd\n",
    "df = pd.read_csv('responses.csv')\n",
    "df"
   ]
  },
  {
   "cell_type": "code",
   "execution_count": 22,
   "metadata": {},
   "outputs": [
    {
     "data": {
      "text/plain": [
       "100"
      ]
     },
     "execution_count": 22,
     "metadata": {},
     "output_type": "execute_result"
    }
   ],
   "source": [
    "len(claude_haiku)"
   ]
  },
  {
   "cell_type": "code",
   "execution_count": 23,
   "metadata": {},
   "outputs": [],
   "source": [
    "df['claude_haiku'] = claude_haiku"
   ]
  },
  {
   "cell_type": "code",
   "execution_count": 25,
   "metadata": {},
   "outputs": [],
   "source": [
    "df.to_csv('responses.csv', index=False)\n",
    "df.to_excel('responses_excel.xlsx', index=False)"
   ]
  },
  {
   "cell_type": "code",
   "execution_count": null,
   "metadata": {},
   "outputs": [],
   "source": []
  }
 ],
 "metadata": {
  "kernelspec": {
   "display_name": "polygraf",
   "language": "python",
   "name": "python3"
  },
  "language_info": {
   "codemirror_mode": {
    "name": "ipython",
    "version": 3
   },
   "file_extension": ".py",
   "mimetype": "text/x-python",
   "name": "python",
   "nbconvert_exporter": "python",
   "pygments_lexer": "ipython3",
   "version": "3.11.7"
  }
 },
 "nbformat": 4,
 "nbformat_minor": 2
}
